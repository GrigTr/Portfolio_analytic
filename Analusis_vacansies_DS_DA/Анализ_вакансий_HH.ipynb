{
  "nbformat": 4,
  "nbformat_minor": 0,
  "metadata": {
    "colab": {
      "provenance": [],
      "collapsed_sections": [
        "lClvmugz03N6",
        "Uf2AaWLryFaB",
        "3wz3isyg9JNy",
        "p0tOrvxndBB0",
        "DoRuhA7WiesW",
        "v2j6muc0qg6o",
        "Z9lvuhvjXxR5",
        "u-CWqC3gh5_z"
      ],
      "toc_visible": true
    },
    "kernelspec": {
      "name": "python3",
      "display_name": "Python 3"
    },
    "language_info": {
      "name": "python"
    }
  },
  "cells": [
    {
      "cell_type": "markdown",
      "source": [
        "# Описание проекта"
      ],
      "metadata": {
        "id": "KZwo5XHXzLGg"
      }
    },
    {
      "cell_type": "markdown",
      "source": [
        "Провести анализ базы вакансий аналитиков данных и data science специалистов, полученных из API HH.ru. Этот проект будет полезен как для кандидатов, которые хотят найти работу в области аналитики данных и Data Science, так и для работодателей, которые ищут квалифицированных специалистов."
      ],
      "metadata": {
        "id": "SntaM0N6rHtA"
      }
    },
    {
      "cell_type": "markdown",
      "source": [
        "# Описание данных"
      ],
      "metadata": {
        "id": "rjcmbyF8hOPe"
      }
    },
    {
      "cell_type": "markdown",
      "source": [
        "* **id** — уникальный идентификатор вакансии.\n",
        "* **name** — название вакансии.\n",
        "* **published_at** — дата публикации вакансии.\n",
        "* **alternate_url** — альтернативный URL вакансии.\n",
        "* **type** — тип вакансии (полная занятость, частичная занятость, стажировка и т. д.).\n",
        "* **employer** — название компании, которая разместила вакансию.\n",
        "* **department** — название отдела, в который требуется сотрудник.\n",
        "* **area** — регион, в котором находится компания.\n",
        "* **experience** — минимальный опыт работы, необходимый для этой должности.\n",
        "* **key_skills** — ключевые навыки, необходимые для выполнения работы.\n",
        "* **schedule** — график работы (полный рабочий день, гибкий график и т. п.).\n",
        "* **employment** — тип занятости (постоянная работа, контракт и т. д.).\n",
        "* **description** — подробное описание вакансии.\n",
        "* **description_lemmatized** — описание вакансии после обработки текста (лемматизация, удаление стоп-слов и т. п.).\n",
        "* **salary_from** — минимальная заработная плата, предлагаемая по вакансии.\n",
        "* **salary_to** — максимальная заработная плата, предлагаемая по вакансии.\n",
        "* **salary_bin** — диапазон заработной платы по вакансии.\n",
        "* **key_skills_from_key_skills_field** — список ключевых навыков, извлечённых из поля «Ключевые навыки».\n",
        "* **hard_skills_from_description** — список технических навыков, извлечённых из описания вакансии.\n",
        "* **soft_skills_from_description** — список социальных навыков, извлечённых из описания вакансии.\n",
        "* **published_date** — дата публикации вакансии.\n",
        "\n",
        "Описание данных идентично для двух таблиц."
      ],
      "metadata": {
        "id": "iJwnUw1OhOWd"
      }
    },
    {
      "cell_type": "markdown",
      "source": [
        "# Цель проекта"
      ],
      "metadata": {
        "id": "DtNWbKA_rDR2"
      }
    },
    {
      "cell_type": "markdown",
      "source": [
        "Провести анализ рынка вакансий для аналитиков данных и специалистов Data Science, выявить различия в предлагаемых вакансиях."
      ],
      "metadata": {
        "id": "xqMilLpSjH46"
      }
    },
    {
      "cell_type": "markdown",
      "source": [
        "# План работы"
      ],
      "metadata": {
        "id": "c9Q9tETEw6AO"
      }
    },
    {
      "cell_type": "markdown",
      "source": [
        "1. Загрузить данные и изучить общую информацию\n",
        "2. Предобработка данных\n",
        "3. Исследовательский анализ данных\n",
        "4. Определение доли грейдов Junior, Junior+, Middle, Senior среди вакансий Аналитик данных и Специалист по Data Science;\n",
        "5. Определение наиболее желаемых кандидатов на вакансии Аналитик данных и\n",
        "Специалист по Data Science по следующим параметрам: самые важные hard-skils, самые важные soft-skils. Ответ дать по грейдам Junior, Junior+, Middle, Senior;\n",
        "6. Определение типичного места работы для Аналитика данных и специалист по Data Science по следующим параметрам: ТОП-работодателей, зарплата, тип занятости, график работы. Ответ дать по грейдам Junior, Junior+, Middle, Senior.\n",
        "7. Расчитать помесячную динамику количества вакансий для Аналитика данных и специалиста по Data Science. Ответ дать по грейдам Junior, Junior+, Middle, Senior.\n",
        "8. Сфомировать общий вывод и дать рекомендации\n",
        "9. Представить результаты исследования в виде презентации"
      ],
      "metadata": {
        "id": "Utqzk-OR2aFW"
      }
    },
    {
      "cell_type": "markdown",
      "source": [
        "# Установка библиотек и предварительная настройка"
      ],
      "metadata": {
        "id": "lClvmugz03N6"
      }
    },
    {
      "cell_type": "code",
      "source": [
        "#Подключим библиотеки\n",
        "import pandas as pd\n",
        "import numpy as np\n",
        "import seaborn as sns\n",
        "import matplotlib.pyplot as plt\n",
        "import plotly.express as px\n",
        "import plotly.graph_objects as go\n",
        "from plotly.subplots import make_subplots\n",
        "\n",
        "import random"
      ],
      "metadata": {
        "id": "8YGZlOA8qajp"
      },
      "execution_count": 1,
      "outputs": []
    },
    {
      "cell_type": "code",
      "source": [
        "#настроим отображение данных в pandas\n",
        "pd.set_option('display.max_columns', 50)\n",
        "pd.set_option('display.float_format', '{:,.2f}'.format)\n",
        "pd.options.mode.chained_assignment = None"
      ],
      "metadata": {
        "id": "oPHjWjAaxO1m"
      },
      "execution_count": 2,
      "outputs": []
    },
    {
      "cell_type": "markdown",
      "source": [
        "# 1 Загрузка даных и изучение общей информации"
      ],
      "metadata": {
        "id": "Uf2AaWLryFaB"
      }
    },
    {
      "cell_type": "markdown",
      "source": [
        "Подключим гугл диск и загрузим необходимые файлы с данными для анализа"
      ],
      "metadata": {
        "id": "175oJu5mbODv"
      }
    },
    {
      "cell_type": "code",
      "source": [
        "from google.colab import drive\n",
        "drive.mount('/content/gdrive')"
      ],
      "metadata": {
        "id": "6pEJKfU3aUYX",
        "outputId": "89a98a29-3e85-4127-9d41-1f374c628345",
        "colab": {
          "base_uri": "https://localhost:8080/"
        }
      },
      "execution_count": 3,
      "outputs": [
        {
          "output_type": "stream",
          "name": "stdout",
          "text": [
            "Mounted at /content/gdrive\n"
          ]
        }
      ]
    },
    {
      "cell_type": "code",
      "source": [
        "#загрузим данные\n",
        "data_da, data_ds = (\n",
        "    pd.read_excel('gdrive/MyDrive/DA-DS_DataFrames/vacancies_da.xlsx'),\n",
        "    pd.read_excel('gdrive/MyDrive/DA-DS_DataFrames/vacancies_ds.xlsx')\n",
        "    )"
      ],
      "metadata": {
        "id": "djSMx5BxyMij"
      },
      "execution_count": 4,
      "outputs": []
    },
    {
      "cell_type": "markdown",
      "source": [
        "Файлы загружены. Ознакомимся с содержанием датасетов и посмотрим наличие пропусков."
      ],
      "metadata": {
        "id": "o9VoTEMz61Cu"
      }
    },
    {
      "cell_type": "code",
      "source": [
        "#ознакомимся с датасетом аналитиков данных\n",
        "data_da.info()\n",
        "data_da.head(5)"
      ],
      "metadata": {
        "colab": {
          "base_uri": "https://localhost:8080/",
          "height": 0
        },
        "id": "gboploYz0yrL",
        "outputId": "27944f54-0499-42f6-db0f-7fc87ed73d33"
      },
      "execution_count": 5,
      "outputs": [
        {
          "output_type": "stream",
          "name": "stdout",
          "text": [
            "<class 'pandas.core.frame.DataFrame'>\n",
            "RangeIndex: 310 entries, 0 to 309\n",
            "Data columns (total 20 columns):\n",
            " #   Column                            Non-Null Count  Dtype         \n",
            "---  ------                            --------------  -----         \n",
            " 0   id                                310 non-null    int64         \n",
            " 1   name                              310 non-null    object        \n",
            " 2   published_at                      310 non-null    datetime64[ns]\n",
            " 3   alternate_url                     310 non-null    object        \n",
            " 4   type                              310 non-null    object        \n",
            " 5   employer                          310 non-null    object        \n",
            " 6   department                        92 non-null     object        \n",
            " 7   area                              310 non-null    object        \n",
            " 8   experience                        310 non-null    object        \n",
            " 9   key_skills                        310 non-null    object        \n",
            " 10  schedule                          310 non-null    object        \n",
            " 11  employment                        310 non-null    object        \n",
            " 12  description                       310 non-null    object        \n",
            " 13  description_lemmatized            310 non-null    object        \n",
            " 14  salary_from                       28 non-null     float64       \n",
            " 15  salary_to                         25 non-null     float64       \n",
            " 16  salary_bin                        310 non-null    object        \n",
            " 17  key_skills_from_key_skills_field  187 non-null    object        \n",
            " 18  hard_skills_from_description      112 non-null    object        \n",
            " 19  soft_skills_from_description      86 non-null     object        \n",
            "dtypes: datetime64[ns](1), float64(2), int64(1), object(16)\n",
            "memory usage: 48.6+ KB\n"
          ]
        },
        {
          "output_type": "execute_result",
          "data": {
            "text/plain": [
              "         id                               name        published_at  \\\n",
              "0  82978778                       Data analyst 2024-04-09 10:29:02   \n",
              "1  85053195  System analyst DWH / Data Analyst 2024-04-08 09:37:50   \n",
              "2  85053196  System analyst DWH / Data Analyst 2024-04-08 09:37:50   \n",
              "3  86081569     Data analyst / Аналитик данных 2024-04-27 23:34:50   \n",
              "4  87407185       Senior Data Analyst \"Growth\" 2024-04-02 17:03:10   \n",
              "\n",
              "                    alternate_url      type                  employer  \\\n",
              "0  https://hh.ru/vacancy/82978778  Открытая             Телеком биржа   \n",
              "1  https://hh.ru/vacancy/85053195  Открытая  Axenix (ранее Accenture)   \n",
              "2  https://hh.ru/vacancy/85053196  Открытая  Axenix (ранее Accenture)   \n",
              "3  https://hh.ru/vacancy/86081569  Открытая                   IQnergy   \n",
              "4  https://hh.ru/vacancy/87407185  Открытая                      Okko   \n",
              "\n",
              "  department             area           experience  \\\n",
              "0        NaN           Москва  Junior+ (1-3 years)   \n",
              "1        NaN        Краснодар  Junior+ (1-3 years)   \n",
              "2        NaN   Ростов-на-Дону  Junior+ (1-3 years)   \n",
              "3        NaN           Москва   Middle (3-6 years)   \n",
              "4        NaN  Санкт-Петербург   Middle (3-6 years)   \n",
              "\n",
              "                                          key_skills          schedule  \\\n",
              "0  ['HTTP', 'Pandas', 'Linux', 'Git', 'Clickhouse...       Полный день   \n",
              "1  ['DWH', 'Документация', 'Витрины данных', 'Inf...  Удаленная работа   \n",
              "2  ['DWH', 'Документация', 'Витрины данных', 'Gre...  Удаленная работа   \n",
              "3                        ['Pandas', 'Анализ данных']       Полный день   \n",
              "4       ['A/B тесты', 'confluence', 'SQL', 'Python']       Полный день   \n",
              "\n",
              "         employment                                        description  \\\n",
              "0  Полная занятость  кто мы: servicepipe - команда айтишников, кото...   \n",
              "1  Полная занятость  компания axenix (ранее accenture) продолжает р...   \n",
              "2  Полная занятость  компания axenix (ранее accenture) продолжает р...   \n",
              "3  Полная занятость  за последние 2 года мы (iqnergy) выросли в 5 р...   \n",
              "4  Полная занятость  обязанности:  аналитика привлечения, лояльност...   \n",
              "\n",
              "                              description_lemmatized  salary_from  salary_to  \\\n",
              "0  servicepipe команда айтишник работать рынок иб...          NaN        NaN   \n",
              "1  компания axenix ранее accenture продолжать раб...          NaN        NaN   \n",
              "2  компания axenix ранее accenture продолжать раб...          NaN        NaN   \n",
              "3  последний 2 год iqnergy вырастать 5 помогать o...          NaN        NaN   \n",
              "4  обязанность аналитика привлечение лояльность о...          NaN        NaN   \n",
              "\n",
              "      salary_bin                   key_skills_from_key_skills_field  \\\n",
              "0  ЗП не указана  SQL, Математическая статистика, Linux, Clickho...   \n",
              "1  ЗП не указана  SQL, DWH, Teradata, Hadoop, Airflow, Greenplum...   \n",
              "2  ЗП не указана  SQL, DWH, Teradata, Hadoop, Airflow, Greenplum...   \n",
              "3  ЗП не указана                                      Анализ данных   \n",
              "4  ЗП не указана                             Python, SQL, A/B тесты   \n",
              "\n",
              "  hard_skills_from_description soft_skills_from_description  \n",
              "0                       Pandas                          NaN  \n",
              "1                          NaN                 Документация  \n",
              "2                          NaN                 Документация  \n",
              "3                       Pandas                          NaN  \n",
              "4                   confluence                          NaN  "
            ],
            "text/html": [
              "\n",
              "  <div id=\"df-0220a080-6d74-4cbe-8050-06d815071971\" class=\"colab-df-container\">\n",
              "    <div>\n",
              "<style scoped>\n",
              "    .dataframe tbody tr th:only-of-type {\n",
              "        vertical-align: middle;\n",
              "    }\n",
              "\n",
              "    .dataframe tbody tr th {\n",
              "        vertical-align: top;\n",
              "    }\n",
              "\n",
              "    .dataframe thead th {\n",
              "        text-align: right;\n",
              "    }\n",
              "</style>\n",
              "<table border=\"1\" class=\"dataframe\">\n",
              "  <thead>\n",
              "    <tr style=\"text-align: right;\">\n",
              "      <th></th>\n",
              "      <th>id</th>\n",
              "      <th>name</th>\n",
              "      <th>published_at</th>\n",
              "      <th>alternate_url</th>\n",
              "      <th>type</th>\n",
              "      <th>employer</th>\n",
              "      <th>department</th>\n",
              "      <th>area</th>\n",
              "      <th>experience</th>\n",
              "      <th>key_skills</th>\n",
              "      <th>schedule</th>\n",
              "      <th>employment</th>\n",
              "      <th>description</th>\n",
              "      <th>description_lemmatized</th>\n",
              "      <th>salary_from</th>\n",
              "      <th>salary_to</th>\n",
              "      <th>salary_bin</th>\n",
              "      <th>key_skills_from_key_skills_field</th>\n",
              "      <th>hard_skills_from_description</th>\n",
              "      <th>soft_skills_from_description</th>\n",
              "    </tr>\n",
              "  </thead>\n",
              "  <tbody>\n",
              "    <tr>\n",
              "      <th>0</th>\n",
              "      <td>82978778</td>\n",
              "      <td>Data analyst</td>\n",
              "      <td>2024-04-09 10:29:02</td>\n",
              "      <td>https://hh.ru/vacancy/82978778</td>\n",
              "      <td>Открытая</td>\n",
              "      <td>Телеком биржа</td>\n",
              "      <td>NaN</td>\n",
              "      <td>Москва</td>\n",
              "      <td>Junior+ (1-3 years)</td>\n",
              "      <td>['HTTP', 'Pandas', 'Linux', 'Git', 'Clickhouse...</td>\n",
              "      <td>Полный день</td>\n",
              "      <td>Полная занятость</td>\n",
              "      <td>кто мы: servicepipe - команда айтишников, кото...</td>\n",
              "      <td>servicepipe команда айтишник работать рынок иб...</td>\n",
              "      <td>NaN</td>\n",
              "      <td>NaN</td>\n",
              "      <td>ЗП не указана</td>\n",
              "      <td>SQL, Математическая статистика, Linux, Clickho...</td>\n",
              "      <td>Pandas</td>\n",
              "      <td>NaN</td>\n",
              "    </tr>\n",
              "    <tr>\n",
              "      <th>1</th>\n",
              "      <td>85053195</td>\n",
              "      <td>System analyst DWH / Data Analyst</td>\n",
              "      <td>2024-04-08 09:37:50</td>\n",
              "      <td>https://hh.ru/vacancy/85053195</td>\n",
              "      <td>Открытая</td>\n",
              "      <td>Axenix (ранее Accenture)</td>\n",
              "      <td>NaN</td>\n",
              "      <td>Краснодар</td>\n",
              "      <td>Junior+ (1-3 years)</td>\n",
              "      <td>['DWH', 'Документация', 'Витрины данных', 'Inf...</td>\n",
              "      <td>Удаленная работа</td>\n",
              "      <td>Полная занятость</td>\n",
              "      <td>компания axenix (ранее accenture) продолжает р...</td>\n",
              "      <td>компания axenix ранее accenture продолжать раб...</td>\n",
              "      <td>NaN</td>\n",
              "      <td>NaN</td>\n",
              "      <td>ЗП не указана</td>\n",
              "      <td>SQL, DWH, Teradata, Hadoop, Airflow, Greenplum...</td>\n",
              "      <td>NaN</td>\n",
              "      <td>Документация</td>\n",
              "    </tr>\n",
              "    <tr>\n",
              "      <th>2</th>\n",
              "      <td>85053196</td>\n",
              "      <td>System analyst DWH / Data Analyst</td>\n",
              "      <td>2024-04-08 09:37:50</td>\n",
              "      <td>https://hh.ru/vacancy/85053196</td>\n",
              "      <td>Открытая</td>\n",
              "      <td>Axenix (ранее Accenture)</td>\n",
              "      <td>NaN</td>\n",
              "      <td>Ростов-на-Дону</td>\n",
              "      <td>Junior+ (1-3 years)</td>\n",
              "      <td>['DWH', 'Документация', 'Витрины данных', 'Gre...</td>\n",
              "      <td>Удаленная работа</td>\n",
              "      <td>Полная занятость</td>\n",
              "      <td>компания axenix (ранее accenture) продолжает р...</td>\n",
              "      <td>компания axenix ранее accenture продолжать раб...</td>\n",
              "      <td>NaN</td>\n",
              "      <td>NaN</td>\n",
              "      <td>ЗП не указана</td>\n",
              "      <td>SQL, DWH, Teradata, Hadoop, Airflow, Greenplum...</td>\n",
              "      <td>NaN</td>\n",
              "      <td>Документация</td>\n",
              "    </tr>\n",
              "    <tr>\n",
              "      <th>3</th>\n",
              "      <td>86081569</td>\n",
              "      <td>Data analyst / Аналитик данных</td>\n",
              "      <td>2024-04-27 23:34:50</td>\n",
              "      <td>https://hh.ru/vacancy/86081569</td>\n",
              "      <td>Открытая</td>\n",
              "      <td>IQnergy</td>\n",
              "      <td>NaN</td>\n",
              "      <td>Москва</td>\n",
              "      <td>Middle (3-6 years)</td>\n",
              "      <td>['Pandas', 'Анализ данных']</td>\n",
              "      <td>Полный день</td>\n",
              "      <td>Полная занятость</td>\n",
              "      <td>за последние 2 года мы (iqnergy) выросли в 5 р...</td>\n",
              "      <td>последний 2 год iqnergy вырастать 5 помогать o...</td>\n",
              "      <td>NaN</td>\n",
              "      <td>NaN</td>\n",
              "      <td>ЗП не указана</td>\n",
              "      <td>Анализ данных</td>\n",
              "      <td>Pandas</td>\n",
              "      <td>NaN</td>\n",
              "    </tr>\n",
              "    <tr>\n",
              "      <th>4</th>\n",
              "      <td>87407185</td>\n",
              "      <td>Senior Data Analyst \"Growth\"</td>\n",
              "      <td>2024-04-02 17:03:10</td>\n",
              "      <td>https://hh.ru/vacancy/87407185</td>\n",
              "      <td>Открытая</td>\n",
              "      <td>Okko</td>\n",
              "      <td>NaN</td>\n",
              "      <td>Санкт-Петербург</td>\n",
              "      <td>Middle (3-6 years)</td>\n",
              "      <td>['A/B тесты', 'confluence', 'SQL', 'Python']</td>\n",
              "      <td>Полный день</td>\n",
              "      <td>Полная занятость</td>\n",
              "      <td>обязанности:  аналитика привлечения, лояльност...</td>\n",
              "      <td>обязанность аналитика привлечение лояльность о...</td>\n",
              "      <td>NaN</td>\n",
              "      <td>NaN</td>\n",
              "      <td>ЗП не указана</td>\n",
              "      <td>Python, SQL, A/B тесты</td>\n",
              "      <td>confluence</td>\n",
              "      <td>NaN</td>\n",
              "    </tr>\n",
              "  </tbody>\n",
              "</table>\n",
              "</div>\n",
              "    <div class=\"colab-df-buttons\">\n",
              "\n",
              "  <div class=\"colab-df-container\">\n",
              "    <button class=\"colab-df-convert\" onclick=\"convertToInteractive('df-0220a080-6d74-4cbe-8050-06d815071971')\"\n",
              "            title=\"Convert this dataframe to an interactive table.\"\n",
              "            style=\"display:none;\">\n",
              "\n",
              "  <svg xmlns=\"http://www.w3.org/2000/svg\" height=\"24px\" viewBox=\"0 -960 960 960\">\n",
              "    <path d=\"M120-120v-720h720v720H120Zm60-500h600v-160H180v160Zm220 220h160v-160H400v160Zm0 220h160v-160H400v160ZM180-400h160v-160H180v160Zm440 0h160v-160H620v160ZM180-180h160v-160H180v160Zm440 0h160v-160H620v160Z\"/>\n",
              "  </svg>\n",
              "    </button>\n",
              "\n",
              "  <style>\n",
              "    .colab-df-container {\n",
              "      display:flex;\n",
              "      gap: 12px;\n",
              "    }\n",
              "\n",
              "    .colab-df-convert {\n",
              "      background-color: #E8F0FE;\n",
              "      border: none;\n",
              "      border-radius: 50%;\n",
              "      cursor: pointer;\n",
              "      display: none;\n",
              "      fill: #1967D2;\n",
              "      height: 32px;\n",
              "      padding: 0 0 0 0;\n",
              "      width: 32px;\n",
              "    }\n",
              "\n",
              "    .colab-df-convert:hover {\n",
              "      background-color: #E2EBFA;\n",
              "      box-shadow: 0px 1px 2px rgba(60, 64, 67, 0.3), 0px 1px 3px 1px rgba(60, 64, 67, 0.15);\n",
              "      fill: #174EA6;\n",
              "    }\n",
              "\n",
              "    .colab-df-buttons div {\n",
              "      margin-bottom: 4px;\n",
              "    }\n",
              "\n",
              "    [theme=dark] .colab-df-convert {\n",
              "      background-color: #3B4455;\n",
              "      fill: #D2E3FC;\n",
              "    }\n",
              "\n",
              "    [theme=dark] .colab-df-convert:hover {\n",
              "      background-color: #434B5C;\n",
              "      box-shadow: 0px 1px 3px 1px rgba(0, 0, 0, 0.15);\n",
              "      filter: drop-shadow(0px 1px 2px rgba(0, 0, 0, 0.3));\n",
              "      fill: #FFFFFF;\n",
              "    }\n",
              "  </style>\n",
              "\n",
              "    <script>\n",
              "      const buttonEl =\n",
              "        document.querySelector('#df-0220a080-6d74-4cbe-8050-06d815071971 button.colab-df-convert');\n",
              "      buttonEl.style.display =\n",
              "        google.colab.kernel.accessAllowed ? 'block' : 'none';\n",
              "\n",
              "      async function convertToInteractive(key) {\n",
              "        const element = document.querySelector('#df-0220a080-6d74-4cbe-8050-06d815071971');\n",
              "        const dataTable =\n",
              "          await google.colab.kernel.invokeFunction('convertToInteractive',\n",
              "                                                    [key], {});\n",
              "        if (!dataTable) return;\n",
              "\n",
              "        const docLinkHtml = 'Like what you see? Visit the ' +\n",
              "          '<a target=\"_blank\" href=https://colab.research.google.com/notebooks/data_table.ipynb>data table notebook</a>'\n",
              "          + ' to learn more about interactive tables.';\n",
              "        element.innerHTML = '';\n",
              "        dataTable['output_type'] = 'display_data';\n",
              "        await google.colab.output.renderOutput(dataTable, element);\n",
              "        const docLink = document.createElement('div');\n",
              "        docLink.innerHTML = docLinkHtml;\n",
              "        element.appendChild(docLink);\n",
              "      }\n",
              "    </script>\n",
              "  </div>\n",
              "\n",
              "\n",
              "<div id=\"df-792d4a5e-140b-4a81-a143-5214de1dc042\">\n",
              "  <button class=\"colab-df-quickchart\" onclick=\"quickchart('df-792d4a5e-140b-4a81-a143-5214de1dc042')\"\n",
              "            title=\"Suggest charts\"\n",
              "            style=\"display:none;\">\n",
              "\n",
              "<svg xmlns=\"http://www.w3.org/2000/svg\" height=\"24px\"viewBox=\"0 0 24 24\"\n",
              "     width=\"24px\">\n",
              "    <g>\n",
              "        <path d=\"M19 3H5c-1.1 0-2 .9-2 2v14c0 1.1.9 2 2 2h14c1.1 0 2-.9 2-2V5c0-1.1-.9-2-2-2zM9 17H7v-7h2v7zm4 0h-2V7h2v10zm4 0h-2v-4h2v4z\"/>\n",
              "    </g>\n",
              "</svg>\n",
              "  </button>\n",
              "\n",
              "<style>\n",
              "  .colab-df-quickchart {\n",
              "      --bg-color: #E8F0FE;\n",
              "      --fill-color: #1967D2;\n",
              "      --hover-bg-color: #E2EBFA;\n",
              "      --hover-fill-color: #174EA6;\n",
              "      --disabled-fill-color: #AAA;\n",
              "      --disabled-bg-color: #DDD;\n",
              "  }\n",
              "\n",
              "  [theme=dark] .colab-df-quickchart {\n",
              "      --bg-color: #3B4455;\n",
              "      --fill-color: #D2E3FC;\n",
              "      --hover-bg-color: #434B5C;\n",
              "      --hover-fill-color: #FFFFFF;\n",
              "      --disabled-bg-color: #3B4455;\n",
              "      --disabled-fill-color: #666;\n",
              "  }\n",
              "\n",
              "  .colab-df-quickchart {\n",
              "    background-color: var(--bg-color);\n",
              "    border: none;\n",
              "    border-radius: 50%;\n",
              "    cursor: pointer;\n",
              "    display: none;\n",
              "    fill: var(--fill-color);\n",
              "    height: 32px;\n",
              "    padding: 0;\n",
              "    width: 32px;\n",
              "  }\n",
              "\n",
              "  .colab-df-quickchart:hover {\n",
              "    background-color: var(--hover-bg-color);\n",
              "    box-shadow: 0 1px 2px rgba(60, 64, 67, 0.3), 0 1px 3px 1px rgba(60, 64, 67, 0.15);\n",
              "    fill: var(--button-hover-fill-color);\n",
              "  }\n",
              "\n",
              "  .colab-df-quickchart-complete:disabled,\n",
              "  .colab-df-quickchart-complete:disabled:hover {\n",
              "    background-color: var(--disabled-bg-color);\n",
              "    fill: var(--disabled-fill-color);\n",
              "    box-shadow: none;\n",
              "  }\n",
              "\n",
              "  .colab-df-spinner {\n",
              "    border: 2px solid var(--fill-color);\n",
              "    border-color: transparent;\n",
              "    border-bottom-color: var(--fill-color);\n",
              "    animation:\n",
              "      spin 1s steps(1) infinite;\n",
              "  }\n",
              "\n",
              "  @keyframes spin {\n",
              "    0% {\n",
              "      border-color: transparent;\n",
              "      border-bottom-color: var(--fill-color);\n",
              "      border-left-color: var(--fill-color);\n",
              "    }\n",
              "    20% {\n",
              "      border-color: transparent;\n",
              "      border-left-color: var(--fill-color);\n",
              "      border-top-color: var(--fill-color);\n",
              "    }\n",
              "    30% {\n",
              "      border-color: transparent;\n",
              "      border-left-color: var(--fill-color);\n",
              "      border-top-color: var(--fill-color);\n",
              "      border-right-color: var(--fill-color);\n",
              "    }\n",
              "    40% {\n",
              "      border-color: transparent;\n",
              "      border-right-color: var(--fill-color);\n",
              "      border-top-color: var(--fill-color);\n",
              "    }\n",
              "    60% {\n",
              "      border-color: transparent;\n",
              "      border-right-color: var(--fill-color);\n",
              "    }\n",
              "    80% {\n",
              "      border-color: transparent;\n",
              "      border-right-color: var(--fill-color);\n",
              "      border-bottom-color: var(--fill-color);\n",
              "    }\n",
              "    90% {\n",
              "      border-color: transparent;\n",
              "      border-bottom-color: var(--fill-color);\n",
              "    }\n",
              "  }\n",
              "</style>\n",
              "\n",
              "  <script>\n",
              "    async function quickchart(key) {\n",
              "      const quickchartButtonEl =\n",
              "        document.querySelector('#' + key + ' button');\n",
              "      quickchartButtonEl.disabled = true;  // To prevent multiple clicks.\n",
              "      quickchartButtonEl.classList.add('colab-df-spinner');\n",
              "      try {\n",
              "        const charts = await google.colab.kernel.invokeFunction(\n",
              "            'suggestCharts', [key], {});\n",
              "      } catch (error) {\n",
              "        console.error('Error during call to suggestCharts:', error);\n",
              "      }\n",
              "      quickchartButtonEl.classList.remove('colab-df-spinner');\n",
              "      quickchartButtonEl.classList.add('colab-df-quickchart-complete');\n",
              "    }\n",
              "    (() => {\n",
              "      let quickchartButtonEl =\n",
              "        document.querySelector('#df-792d4a5e-140b-4a81-a143-5214de1dc042 button');\n",
              "      quickchartButtonEl.style.display =\n",
              "        google.colab.kernel.accessAllowed ? 'block' : 'none';\n",
              "    })();\n",
              "  </script>\n",
              "</div>\n",
              "    </div>\n",
              "  </div>\n"
            ],
            "application/vnd.google.colaboratory.intrinsic+json": {
              "type": "dataframe",
              "variable_name": "data_da",
              "summary": "{\n  \"name\": \"data_da\",\n  \"rows\": 310,\n  \"fields\": [\n    {\n      \"column\": \"id\",\n      \"properties\": {\n        \"dtype\": \"number\",\n        \"std\": 2342788,\n        \"min\": 82978778,\n        \"max\": 98141293,\n        \"num_unique_values\": 310,\n        \"samples\": [\n          97827902,\n          89667235,\n          93557671\n        ],\n        \"semantic_type\": \"\",\n        \"description\": \"\"\n      }\n    },\n    {\n      \"column\": \"name\",\n      \"properties\": {\n        \"dtype\": \"string\",\n        \"num_unique_values\": 176,\n        \"samples\": [\n          \"\\u0410\\u043d\\u0430\\u043b\\u0438\\u0442\\u0438\\u043a \\u0434\\u0430\\u043d\\u043d\\u044b\\u0445 / Data Analyst (JoomPro)\",\n          \"\\u0410\\u043d\\u0430\\u043b\\u0438\\u0442\\u0438\\u043a \\u0434\\u0430\\u043d\\u043d\\u044b\\u0445 (Data analyst)\",\n          \"\\u0414\\u0430\\u0442\\u0430 \\u0430\\u043d\\u0430\\u043b\\u0438\\u0442\\u0438\\u043a (\\u0443\\u043f\\u0440\\u0430\\u0432\\u043b\\u0435\\u043d\\u0438\\u0435 \\u043a\\u043b\\u0438\\u0435\\u043d\\u0442\\u0441\\u043a\\u043e\\u0433\\u043e \\u043e\\u043f\\u044b\\u0442\\u0430 \\u04122\\u0421)\"\n        ],\n        \"semantic_type\": \"\",\n        \"description\": \"\"\n      }\n    },\n    {\n      \"column\": \"published_at\",\n      \"properties\": {\n        \"dtype\": \"date\",\n        \"min\": \"2024-03-06 08:13:00\",\n        \"max\": \"2024-04-30 12:51:55\",\n        \"num_unique_values\": 305,\n        \"samples\": [\n          \"2024-04-03 11:21:00\",\n          \"2024-03-28 06:28:18\",\n          \"2024-04-15 14:16:09\"\n        ],\n        \"semantic_type\": \"\",\n        \"description\": \"\"\n      }\n    },\n    {\n      \"column\": \"alternate_url\",\n      \"properties\": {\n        \"dtype\": \"string\",\n        \"num_unique_values\": 310,\n        \"samples\": [\n          \"https://hh.ru/vacancy/97827902\",\n          \"https://hh.ru/vacancy/89667235\",\n          \"https://hh.ru/vacancy/93557671\"\n        ],\n        \"semantic_type\": \"\",\n        \"description\": \"\"\n      }\n    },\n    {\n      \"column\": \"type\",\n      \"properties\": {\n        \"dtype\": \"category\",\n        \"num_unique_values\": 1,\n        \"samples\": [\n          \"\\u041e\\u0442\\u043a\\u0440\\u044b\\u0442\\u0430\\u044f\"\n        ],\n        \"semantic_type\": \"\",\n        \"description\": \"\"\n      }\n    },\n    {\n      \"column\": \"employer\",\n      \"properties\": {\n        \"dtype\": \"string\",\n        \"num_unique_values\": 159,\n        \"samples\": [\n          \"\\u0410\\u041e \\u00ab\\u041e\\u0422\\u041f \\u0411\\u0430\\u043d\\u043a\\u00bb (JSC \\u00abOTP Bank\\u00bb)\"\n        ],\n        \"semantic_type\": \"\",\n        \"description\": \"\"\n      }\n    },\n    {\n      \"column\": \"department\",\n      \"properties\": {\n        \"dtype\": \"category\",\n        \"num_unique_values\": 15,\n        \"samples\": [\n          \"\\u0410\\u043a \\u0411\\u0430\\u0440\\u0441 \\u0411\\u0430\\u043d\\u043a, \\u041d\\u0430\\u0447\\u0430\\u043b\\u043e \\u043a\\u0430\\u0440\\u044c\\u0435\\u0440\\u044b\"\n        ],\n        \"semantic_type\": \"\",\n        \"description\": \"\"\n      }\n    },\n    {\n      \"column\": \"area\",\n      \"properties\": {\n        \"dtype\": \"category\",\n        \"num_unique_values\": 19,\n        \"samples\": [\n          \"\\u041c\\u043e\\u0441\\u043a\\u0432\\u0430\"\n        ],\n        \"semantic_type\": \"\",\n        \"description\": \"\"\n      }\n    },\n    {\n      \"column\": \"experience\",\n      \"properties\": {\n        \"dtype\": \"category\",\n        \"num_unique_values\": 4,\n        \"samples\": [\n          \"Middle (3-6 years)\"\n        ],\n        \"semantic_type\": \"\",\n        \"description\": \"\"\n      }\n    },\n    {\n      \"column\": \"key_skills\",\n      \"properties\": {\n        \"dtype\": \"string\",\n        \"num_unique_values\": 177,\n        \"samples\": [\n          \"['Java', 'Data Analysis', '\\u0423\\u043f\\u0440\\u0430\\u0432\\u043b\\u0435\\u043d\\u0438\\u0435 \\u043a\\u043e\\u043c\\u0430\\u043d\\u0434\\u043e\\u0439', '\\u0410\\u043d\\u0430\\u043b\\u0438\\u0437 \\u0434\\u0430\\u043d\\u043d\\u044b\\u0445', 'Python', '\\u041a\\u043e\\u043c\\u043c\\u0443\\u043d\\u0438\\u043a\\u0430\\u0446\\u0438\\u044f']\"\n        ],\n        \"semantic_type\": \"\",\n        \"description\": \"\"\n      }\n    },\n    {\n      \"column\": \"schedule\",\n      \"properties\": {\n        \"dtype\": \"category\",\n        \"num_unique_values\": 4,\n        \"samples\": [\n          \"\\u0423\\u0434\\u0430\\u043b\\u0435\\u043d\\u043d\\u0430\\u044f \\u0440\\u0430\\u0431\\u043e\\u0442\\u0430\"\n        ],\n        \"semantic_type\": \"\",\n        \"description\": \"\"\n      }\n    },\n    {\n      \"column\": \"employment\",\n      \"properties\": {\n        \"dtype\": \"category\",\n        \"num_unique_values\": 2,\n        \"samples\": [\n          \"\\u0427\\u0430\\u0441\\u0442\\u0438\\u0447\\u043d\\u0430\\u044f \\u0437\\u0430\\u043d\\u044f\\u0442\\u043e\\u0441\\u0442\\u044c\"\n        ],\n        \"semantic_type\": \"\",\n        \"description\": \"\"\n      }\n    },\n    {\n      \"column\": \"description\",\n      \"properties\": {\n        \"dtype\": \"string\",\n        \"num_unique_values\": 271,\n        \"samples\": [\n          \"\\u043e\\u0431\\u044f\\u0437\\u0430\\u043d\\u043d\\u043e\\u0441\\u0442\\u0438:  \\u0430\\u043d\\u0430\\u043b\\u0438\\u0442\\u0438\\u043a\\u0430 \\u043f\\u0440\\u0438\\u0432\\u043b\\u0435\\u0447\\u0435\\u043d\\u0438\\u044f, \\u043b\\u043e\\u044f\\u043b\\u044c\\u043d\\u043e\\u0441\\u0442\\u0438 \\u0438 \\u043e\\u0442\\u0442\\u043e\\u043a\\u0430, \\u0441\\u043e\\u0437\\u0434\\u0430\\u043d\\u0438\\u0435 \\u0443\\u0434\\u043e\\u0431\\u043d\\u044b\\u0445 \\u0434\\u0430\\u0448\\u0431\\u043e\\u0440\\u0434\\u043e\\u0432 \\u0434\\u043b\\u044f \\u0442\\u043e\\u043f-\\u043c\\u0435\\u043d\\u0435\\u0434\\u0436\\u043c\\u0435\\u043d\\u0442\\u0430 \\u043f\\u043e \\u043e\\u0441\\u043d\\u043e\\u0432\\u043d\\u044b\\u043c \\u0432\\u043e\\u0440\\u043e\\u043d\\u043a\\u0430\\u043c \\u043f\\u0440\\u043e\\u0434\\u0430\\u0436 \\u043f\\u043e\\u0434\\u043f\\u0438\\u0441\\u043e\\u043a; \\u0433\\u0435\\u043d\\u0435\\u0440\\u0430\\u0446\\u0438\\u044f \\u043f\\u0440\\u043e\\u0434\\u0443\\u043a\\u0442\\u043e\\u0432\\u044b\\u0445 \\u0433\\u0438\\u043f\\u043e\\u0442\\u0435\\u0437, \\u043f\\u0440\\u043e\\u0432\\u0435\\u0434\\u0435\\u043d\\u0438\\u0435 \\u0438\\u0441\\u0441\\u043b\\u0435\\u0434\\u043e\\u0432\\u0430\\u043d\\u0438\\u0439; \\u0441\\u043e\\u0437\\u0434\\u0430\\u043d\\u0438\\u0435, \\u043e\\u0446\\u0435\\u043d\\u043a\\u0430 \\u0438 \\u0438\\u043d\\u0442\\u0435\\u0440\\u043f\\u0440\\u0435\\u0442\\u0430\\u0446\\u0438\\u044f \\u044d\\u043a\\u0441\\u043f\\u0435\\u0440\\u0438\\u043c\\u0435\\u043d\\u0442\\u043e\\u0432 \\u0432 \\u043d\\u0430\\u043f\\u0440\\u0430\\u0432\\u043b\\u0435\\u043d\\u0438\\u0438 &quot;growth&quot;.  \\u0447\\u0442\\u043e \\u043c\\u044b \\u0438\\u0441\\u043f\\u043e\\u043b\\u044c\\u0437\\u0443\\u0435\\u043c:   python (sklearn, seaborn, numpy, scipy, statsmodels);   clickhouse, trino, postgresql, redis, etc.;   airflow, flaskapi/fastapi;   splunk, superset;   bitbucket, jira, confluence.   \\u0442\\u0440\\u0435\\u0431\\u043e\\u0432\\u0430\\u043d\\u0438\\u044f:  \\u200b\\u200b\\u200b\\u200b\\u200b\\u043e\\u043f\\u044b\\u0442 \\u0440\\u0430\\u0431\\u043e\\u0442\\u044b \\u0430\\u043d\\u0430\\u043b\\u0438\\u0442\\u0438\\u043a\\u043e\\u043c \\u0434\\u0430\\u043d\\u043d\\u044b\\u0445/\\u043f\\u0440\\u043e\\u0434\\u0443\\u043a\\u0442\\u043e\\u0432\\u044b\\u043c \\u0430\\u043d\\u0430\\u043b\\u0438\\u0442\\u0438\\u043a\\u043e\\u043c \\u043e\\u0442 2-\\u0445 \\u043b\\u0435\\u0442; \\u0443\\u0432\\u0435\\u0440\\u0435\\u043d\\u043d\\u043e\\u0435 \\u0432\\u043b\\u0430\\u0434\\u0435\\u043d\\u0438\\u0435 sql; \\u0437\\u043d\\u0430\\u043d\\u0438\\u0435 \\u043e\\u0441\\u043d\\u043e\\u0432 \\u043c\\u0430\\u0448\\u0438\\u043d\\u043d\\u043e\\u0433\\u043e \\u043e\\u0431\\u0443\\u0447\\u0435\\u043d\\u0438\\u044f; \\u0437\\u043d\\u0430\\u043d\\u0438\\u0435 \\u043c\\u0430\\u0442\\u0435\\u043c\\u0430\\u0442\\u0438\\u0447\\u0435\\u0441\\u043a\\u043e\\u0439 \\u0441\\u0442\\u0430\\u0442\\u0438\\u0441\\u0442\\u0438\\u043a\\u0438 \\u0438 \\u043e\\u0441\\u043d\\u043e\\u0432 a/b \\u0442\\u0435\\u0441\\u0442\\u0438\\u0440\\u043e\\u0432\\u0430\\u043d\\u0438\\u044f; \\u0432\\u043b\\u0430\\u0434\\u0435\\u043d\\u0438\\u0435 python \\u043d\\u0430 \\u0443\\u0440\\u043e\\u0432\\u043d\\u0435 \\u0438\\u0441\\u043f\\u043e\\u043b\\u044c\\u0437\\u043e\\u0432\\u0430\\u043d\\u0438\\u044f \\u0430\\u043d\\u0430\\u043b\\u0438\\u0442\\u0438\\u0447\\u0435\\u0441\\u043a\\u0438\\u0445 \\u0438\\u043d\\u0441\\u0442\\u0440\\u0443\\u043c\\u0435\\u043d\\u0442\\u043e\\u0432; \\u043e\\u043f\\u044b\\u0442 \\u0441\\u0430\\u043c\\u043e\\u0441\\u0442\\u043e\\u044f\\u0442\\u0435\\u043b\\u044c\\u043d\\u043e\\u0433\\u043e \\u043e\\u0431\\u0449\\u0435\\u043d\\u0438\\u044f \\u0441 \\u0431\\u0438\\u0437\\u043d\\u0435\\u0441-\\u0437\\u0430\\u043a\\u0430\\u0437\\u0447\\u0438\\u043a\\u0430\\u043c\\u0438; \\u0431\\u0438\\u0437\\u043d\\u0435\\u0441-\\u043e\\u0440\\u0438\\u0435\\u043d\\u0442\\u0438\\u0440\\u043e\\u0432\\u0430\\u043d\\u043d\\u043e\\u0435 \\u043c\\u044b\\u0448\\u043b\\u0435\\u043d\\u0438\\u0435.  \\u0443\\u0441\\u043b\\u043e\\u0432\\u0438\\u044f:  \\u0440\\u0430\\u0431\\u043e\\u0442\\u0430 \\u0432 \\u0441\\u0438\\u043b\\u044c\\u043d\\u043e\\u0439 \\u043a\\u043e\\u043c\\u0430\\u043d\\u0434\\u0435, \\u0441\\u043e\\u0441\\u0442\\u043e\\u044f\\u0449\\u0435\\u0439 \\u0438\\u0437 \\u043a\\u0440\\u0443\\u0442\\u044b\\u0445 \\u0430\\u043d\\u0430\\u043b\\u0438\\u0442\\u0438\\u043a\\u043e\\u0432, \\u0430\\u043d\\u0430\\u043b\\u0438\\u0442\\u0438\\u043a\\u043e\\u0432-\\u0440\\u0430\\u0437\\u0440\\u0430\\u0431\\u043e\\u0442\\u0447\\u0438\\u043a\\u043e\\u0432 \\u0438 \\u0438\\u043d\\u0436\\u0435\\u043d\\u0435\\u0440\\u043e\\u0432; \\u0442\\u043e\\u043f\\u043e\\u0432\\u043e\\u0435 \\u043e\\u0431\\u043e\\u0440\\u0443\\u0434\\u043e\\u0432\\u0430\\u043d\\u0438\\u0435 \\u0438 \\u0432\\u0435\\u0441\\u044c \\u043d\\u0435\\u043e\\u0431\\u0445\\u043e\\u0434\\u0438\\u043c\\u044b\\u0439 \\u0441\\u043e\\u0444\\u0442; \\u043e\\u0444\\u0438\\u0446\\u0438\\u0430\\u043b\\u044c\\u043d\\u043e\\u0435 \\u0442\\u0440\\u0443\\u0434\\u043e\\u0443\\u0441\\u0442\\u0440\\u043e\\u0439\\u0441\\u0442\\u0432\\u043e; \\u0434\\u043c\\u0441 \\u0441\\u043e \\u0441\\u0442\\u043e\\u043c\\u0430\\u0442\\u043e\\u043b\\u043e\\u0433\\u0438\\u0435\\u0439, \\u043e\\u0444\\u0438\\u0441\\u043d\\u044b\\u0439 \\u0432\\u0440\\u0430\\u0447, \\u0434\\u043e\\u043f\\u043b\\u0430\\u0442\\u0430 \\u0431\\u043e\\u043b\\u044c\\u043d\\u0438\\u0447\\u043d\\u043e\\u0433\\u043e \\u043b\\u0438\\u0441\\u0442\\u0430, \\u043a\\u043e\\u0440\\u043f\\u043e\\u0440\\u0430\\u0442\\u0438\\u0432\\u043d\\u044b\\u0435 \\u0441\\u043a\\u0438\\u0434\\u043a\\u0438; \\u043b\\u044c\\u0433\\u043e\\u0442\\u043d\\u044b\\u0435 \\u0443\\u0441\\u043b\\u043e\\u0432\\u0438\\u044f \\u0438\\u043f\\u043e\\u0442\\u0435\\u043a\\u0438 \\u0432 \\u0440\\u0430\\u043c\\u043a\\u0430\\u0445 \\u0437\\u0430\\u0440\\u043f\\u043b\\u0430\\u0442\\u043d\\u043e\\u0433\\u043e \\u043f\\u0440\\u043e\\u0435\\u043a\\u0442\\u0430; \\u0431\\u0435\\u0441\\u043f\\u043b\\u0430\\u0442\\u043d\\u0430\\u044f \\u043f\\u043e\\u0434\\u043f\\u0438\\u0441\\u043a\\u0430 \\u043d\\u0430 \\u0441\\u0435\\u0440\\u0432\\u0438\\u0441\\u044b \\u043f\\u0430\\u0440\\u0442\\u043d\\u0435\\u0440\\u043e\\u0432.\"\n        ],\n        \"semantic_type\": \"\",\n        \"description\": \"\"\n      }\n    },\n    {\n      \"column\": \"description_lemmatized\",\n      \"properties\": {\n        \"dtype\": \"string\",\n        \"num_unique_values\": 268,\n        \"samples\": [\n          \"x5 group \\u0440\\u043e\\u0441\\u0441\\u0438\\u0439\\u0441\\u043a\\u0438\\u0439 \\u0440\\u043e\\u0437\\u043d\\u0438\\u0447\\u043d\\u044b\\u0439 \\u0442\\u043e\\u0440\\u0433\\u043e\\u0432\\u044b\\u0439 \\u043a\\u043e\\u043c\\u043f\\u0430\\u043d\\u0438\\u044f \\u0443\\u043f\\u0440\\u0430\\u0432\\u043b\\u044f\\u044e\\u0449\\u0438\\u0439 \\u043f\\u0440\\u043e\\u0434\\u0443\\u043a\\u0442\\u043e\\u0432\\u044b\\u0439 \\u0442\\u043e\\u0440\\u0433\\u043e\\u0432\\u044b\\u0439 \\u0441\\u0435\\u0442\\u044c \\u043f\\u044f\\u0442\\u0435\\u0440\\u043e\\u0447\\u043a\\u0430 \\u043f\\u0435\\u0440\\u0435\\u043a\\u0440\\u0435\\u0441\\u0442\\u043e\\u043a \\u0447\\u0438\\u0436\\u0438\\u043a \\u0442\\u0430\\u043a\\u0436\\u0435 \\u0446\\u0438\\u0444\\u0440\\u043e\\u0432\\u043e\\u0439 \\u0441\\u0435\\u0440\\u0432\\u0438\\u0441 vprok ru \\u043f\\u0435\\u0440\\u0435\\u043a\\u0440\\u0435\\u0441\\u0442\\u043e\\u043a 5post \\u043b\\u043e\\u0441\\u043e\\u0441\\u044c \\u043c\\u0435\\u0434\\u0438\\u0430\\u043f\\u043b\\u0430\\u0442\\u0444\\u043e\\u0440\\u043c\\u0430 food ru x5 tech it \\u043a\\u043e\\u043c\\u043f\\u0430\\u043d\\u0438\\u044f \\u043e\\u0441\\u043d\\u043e\\u0432\\u043d\\u043e\\u0439 \\u0446\\u0438\\u0444\\u0440\\u043e\\u0432\\u043e\\u0439 \\u043f\\u0430\\u0440\\u0442\\u043d\\u0435\\u0440 \\u0442\\u043e\\u0440\\u0433\\u043e\\u0432\\u044b\\u0439 \\u0441\\u0435\\u0442\\u044c \\u0431\\u0438\\u0437\\u043d\\u0435\\u0441 x5 group \\u043a\\u043e\\u043c\\u0430\\u043d\\u0434\\u0430 4 \\u0441\\u043f\\u0435\\u0446\\u0438\\u0430\\u043b\\u0438\\u0441\\u0442 \\u0440\\u0430\\u0437\\u0440\\u0430\\u0431\\u0430\\u0442\\u044b\\u0432\\u0430\\u0442\\u044c \\u0440\\u0435\\u0448\\u0435\\u043d\\u0438\\u0435 \\u043f\\u043e\\u043c\\u043e\\u0433\\u0430\\u0442\\u044c 372 \\u0442\\u044b\\u0441\\u044f\\u0447\\u0430 \\u0441\\u043e\\u0442\\u0440\\u0443\\u0434\\u043d\\u0438\\u043a \\u0433\\u0440\\u0443\\u043f\\u043f\\u0430 \\u0440\\u0430\\u0431\\u043e\\u0442\\u0430\\u0442\\u044c \\u043c\\u0430\\u043a\\u0441\\u0438\\u043c\\u0430\\u043b\\u044c\\u043d\\u044b\\u0439 \\u0442\\u0435\\u0445\\u043d\\u043e\\u043b\\u043e\\u0433\\u0438\\u0447\\u0435\\u0441\\u043a\\u0438\\u0439 \\u043a\\u043e\\u043c\\u0444\\u043e\\u0440\\u0442 \\u043c\\u0438\\u043b\\u043b\\u0438\\u043e\\u043d \\u043f\\u043e\\u043a\\u0443\\u043f\\u0430\\u0442\\u0435\\u043b\\u044c \\u0431\\u044b\\u0441\\u0442\\u0440\\u043e \\u0443\\u0434\\u043e\\u0431\\u043d\\u043e \\u043f\\u043e\\u043a\\u0443\\u043f\\u0430\\u0442\\u044c \\u0441\\u0432\\u0435\\u0436\\u0438\\u0439 \\u043f\\u0440\\u043e\\u0434\\u0443\\u043a\\u0442 \\u043a\\u0430\\u0436\\u0434\\u044b\\u0439 \\u043a\\u043e\\u043c\\u0430\\u043d\\u0434\\u0430 \\u043f\\u0440\\u0430\\u0432\\u0438\\u043b\\u043e \\u043d\\u0435\\u043e\\u0431\\u0445\\u043e\\u0434\\u0438\\u043c\\u044b\\u0439 \\u043a\\u043e\\u043c\\u043f\\u0435\\u0442\\u0435\\u043d\\u0446\\u0438\\u044f \\u043e\\u0431\\u043b\\u0430\\u0441\\u0442\\u044c da ds de \\u043f\\u0440\\u0435\\u0434\\u043b\\u0430\\u0433\\u0430\\u0442\\u044c \\u0438\\u0434\\u0435\\u044f \\u0434\\u043e\\u0432\\u043e\\u0434\\u0438\\u0442\\u044c \\u0441\\u0442\\u0430\\u0431\\u0438\\u043b\\u044c\\u043d\\u044b\\u0439 \\u0440\\u0435\\u0430\\u043b\\u0438\\u0437\\u0430\\u0446\\u0438\\u044f \\u0434\\u0430\\u0432\\u0430\\u0442\\u044c \\u0440\\u0430\\u0431\\u043e\\u0442\\u0430 x5 \\u0438\\u043d\\u0442\\u0435\\u0440\\u0435\\u0441\\u043d\\u044b\\u0439 \\u043c\\u0430\\u0441\\u0448\\u0442\\u0430\\u0431\\u043d\\u044b\\u0439 \\u0437\\u0430\\u0434\\u0430\\u0447\\u0430 \\u0438\\u0441\\u043f\\u043e\\u043b\\u044c\\u0437\\u043e\\u0432\\u0430\\u043d\\u0438\\u0435 \\u0430\\u043a\\u0442\\u0443\\u0430\\u043b\\u044c\\u043d\\u044b\\u0439 \\u0442\\u0435\\u0445\\u043d\\u043e\\u043b\\u043e\\u0433\\u0438\\u044f \\u0432\\u0437\\u0430\\u0438\\u043c\\u043e\\u0434\\u0435\\u0439\\u0441\\u0442\\u0432\\u0438\\u0435 \\u043a\\u0440\\u0443\\u0442\\u043e\\u0439 \\u0441\\u043f\\u0435\\u0446\\u0438\\u0430\\u043b\\u0438\\u0441\\u0442 \\u0432\\u0441\\u0442\\u0440\\u0435\\u0447\\u0430 \\u043e\\u0431\\u043c\\u0435\\u043d \\u043e\\u043f\\u044b\\u0442 \\u043a\\u043e\\u043b\\u043b\\u0435\\u0433\\u0430 \\u0430\\u043a\\u0442\\u0438\\u0432\\u043d\\u043e \\u0438\\u0441\\u043f\\u043e\\u043b\\u044c\\u0437\\u043e\\u0432\\u0430\\u0442\\u044c\\u0441\\u044f hadoop spark clickhouse greenplum kubernetes docker airflow grafana tableau \\u0448\\u0438\\u0440\\u043e\\u043a\\u0438\\u0439 \\u0441\\u043f\\u0435\\u043a\\u0442\\u0440 ml \\u0444\\u0440\\u0435\\u0439\\u043c\\u0432\\u043e\\u0440\\u043a\\u043e\\u0432 \\u0447\\u0438\\u0441\\u043b\\u043e \\u043e\\u0431\\u0440\\u0430\\u0431\\u043e\\u0442\\u043a\\u0430 \\u0442\\u0435\\u043a\\u0441\\u0442 \\u0438\\u0437\\u043e\\u0431\\u0440\\u0430\\u0436\\u0435\\u043d\\u0438\\u0435 \\u0441\\u0432\\u043e\\u0431\\u043e\\u0434\\u0430 \\u0442\\u0432\\u043e\\u0440\\u0447\\u0435\\u0441\\u0442\\u0432\\u043e \\u0432\\u043e\\u0437\\u043c\\u043e\\u0436\\u043d\\u043e\\u0441\\u0442\\u044c \\u043f\\u0440\\u043e\\u0431\\u043e\\u0432\\u0430\\u0442\\u044c \\u043b\\u044e\\u0431\\u043e\\u0439 \\u043c\\u043e\\u0434\\u0435\\u043b\\u044c \\u0432\\u043b\\u0438\\u044f\\u0442\\u044c \\u0440\\u0430\\u0437\\u0432\\u0438\\u0442\\u0438\\u0435 \\u043f\\u0440\\u043e\\u0434\\u0443\\u043a\\u0442 \\u043f\\u0440\\u0435\\u0434\\u043b\\u0430\\u0433\\u0430\\u0442\\u044c \\u043d\\u043e\\u0432\\u044b\\u0439 \\u043f\\u043e\\u0434\\u0445\\u043e\\u0434 \\u0434\\u0435\\u043b\\u0430\\u0442\\u044c mvp \\u0444\\u043e\\u0440\\u043c\\u0438\\u0440\\u043e\\u0432\\u0430\\u0442\\u044c \\u043a\\u043e\\u043c\\u0430\\u043d\\u0434\\u0430 \\u0436\\u0434\\u0430\\u0442\\u044c \\u043a\\u0430\\u043d\\u0434\\u0438\\u0434\\u0430\\u0442 \\u0437\\u043d\\u0430\\u043d\\u0438\\u0435 \\u044f\\u0437\\u044b\\u043a python \\u0432\\u043b\\u0430\\u0434\\u0435\\u043d\\u0438\\u0435 sql \\u0437\\u043d\\u0430\\u043d\\u0438\\u0435 \\u043c\\u0430\\u0442\\u0435\\u043c\\u0430\\u0442\\u0438\\u043a\\u0430 \\u0441\\u0442\\u0430\\u0442\\u0438\\u0441\\u0442\\u0438\\u043a\\u0430 \\u0431\\u0430\\u0437\\u043e\\u0432\\u044b\\u0439 \\u043f\\u043e\\u043d\\u044f\\u0442\\u0438\\u0435 ml \\u043e\\u043f\\u044b\\u0442 \\u0440\\u0430\\u0431\\u043e\\u0442\\u0430 pyspark \\u043f\\u043b\\u044e\\u0441 \\u043f\\u043e\\u043d\\u0438\\u043c\\u0430\\u043d\\u0438\\u0435 \\u0441\\u0442\\u0430\\u0442\\u0438\\u0441\\u0442\\u0438\\u043a\\u0430 \\u0443\\u0440\\u043e\\u0432\\u0435\\u043d\\u044c \\u0434\\u0438\\u0437\\u0430\\u0439\\u043d \\u043f\\u0440\\u043e\\u0432\\u0435\\u0434\\u0435\\u043d\\u0438\\u0435 \\u0430\\u0431\\u0430 \\u0442\\u0435\\u0441\\u0442 \\u0438\\u0441\\u043f\\u043e\\u043b\\u044c\\u0437\\u043e\\u0432\\u0430\\u043d\\u0438\\u0435 \\u043f\\u043e\\u0434\\u0445\\u043e\\u0434\\u0438\\u0442\\u044c \\u043a\\u0440\\u0438\\u0442\\u0435\\u0440\\u0438\\u0439 \\u0438\\u043d\\u0442\\u0435\\u0440\\u043f\\u0440\\u0435\\u0442\\u0430\\u0446\\u0438\\u044f \\u0440\\u0435\\u0437\\u0443\\u043b\\u044c\\u0442\\u0430\\u0442 \\u043e\\u043f\\u044b\\u0442 \\u0440\\u0430\\u0431\\u043e\\u0442\\u0430 \\u043f\\u0440\\u043e\\u0444\\u0438\\u043b\\u044c 3 \\u0433\\u043e\\u0434 \\u043f\\u0440\\u0435\\u0434\\u043b\\u0430\\u0433\\u0430\\u0442\\u044c \\u043e\\u0444\\u0438\\u0446\\u0438\\u0430\\u043b\\u044c\\u043d\\u044b\\u0439 \\u043e\\u0444\\u043e\\u0440\\u043c\\u043b\\u0435\\u043d\\u0438\\u0435 \\u0431\\u0435\\u043b\\u044b\\u0439 \\u0437\\u043f \\u0435\\u0436\\u0435\\u043a\\u0432\\u0430\\u0440\\u0442\\u0430\\u043b\\u044c\\u043d\\u044b\\u0439 \\u043f\\u0440\\u0435\\u043c\\u0438\\u044f \\u0440\\u0435\\u0437\\u0443\\u043b\\u044c\\u0442\\u0430\\u0442 \\u0440\\u0430\\u0431\\u043e\\u0442\\u0430 \\u0443\\u0434\\u043e\\u0431\\u043d\\u044b\\u0439 \\u043e\\u0444\\u0438\\u0441 \\u0440\\u044f\\u0434\\u043e\\u043c \\u043c \\u0434\\u043e\\u0431\\u0440\\u044b\\u043d\\u0438\\u043d\\u0441\\u043a\\u0438\\u0439 \\u0443\\u0434\\u043e\\u0431\\u043d\\u044b\\u0439 \\u043e\\u0444\\u0438\\u0441 \\u0431\\u0435\\u0441\\u043f\\u043b\\u0430\\u0442\\u043d\\u044b\\u0439 \\u043f\\u0430\\u0440\\u043a\\u043e\\u0432\\u043a\\u0430 \\u043c \\u0432\\u043e\\u043b\\u0433\\u043e\\u0433\\u0440\\u0430\\u0434\\u0441\\u043a\\u0438\\u0439 \\u043f\\u0440\\u043e\\u0441\\u043f\\u0435\\u043a\\u0442 \\u043c\\u0446\\u0434 \\u043a\\u0430\\u043b\\u0438\\u0442\\u043d\\u0438\\u043a \\u0433\\u0438\\u0431\\u043a\\u0438\\u0439 \\u0433\\u0440\\u0430\\u0444\\u0438\\u043a \\u0440\\u0430\\u0431\\u043e\\u0442\\u0430 8 9 1 \\u0443\\u0442\\u0440\\u043e \\u0433\\u0440\\u0430\\u0444\\u0438\\u043a \\u0440\\u0430\\u0431\\u043e\\u0442\\u0430 5 2 9 18 15 \\u043f\\u044f\\u0442\\u043d\\u0438\\u0446\\u0430 17 \\u0432\\u043e\\u0437\\u043c\\u043e\\u0436\\u043d\\u043e\\u0441\\u0442\\u044c \\u0440\\u0430\\u0431\\u043e\\u0442\\u0430\\u0442\\u044c \\u0443\\u0434\\u0430\\u043b\\u0435\\u043d\\u043d\\u044b\\u0439 \\u0433\\u0438\\u0431\\u0440\\u0438\\u0434\\u043d\\u044b\\u0439 \\u0444\\u043e\\u0440\\u043c\\u0430\\u0442 \\u0448\\u0438\\u0440\\u043e\\u043a\\u0438\\u0439 \\u043f\\u0430\\u043a\\u0435\\u0442 \\u0434\\u043c\\u0441 \\u0432\\u043a\\u043b\\u044e\\u0447\\u0430\\u044f \\u0432\\u044b\\u0435\\u0437\\u0434 \\u0440\\u0443\\u0431\\u0435\\u0436 \\u0441\\u0442\\u043e\\u043c\\u0430\\u0442\\u043e\\u043b\\u043e\\u0433\\u0438\\u044f \\u0441\\u0442\\u0440\\u0430\\u0445\\u043e\\u0432\\u0430\\u043d\\u0438\\u0435 \\u0436\\u0438\\u0437\\u043d\\u044c \\u0437\\u0434\\u043e\\u0440\\u043e\\u0432\\u044c\\u0435 \\u0432\\u043e\\u0437\\u043c\\u043e\\u0436\\u043d\\u043e\\u0441\\u0442\\u044c \\u0443\\u0447\\u0438\\u0442\\u044c\\u0441\\u044f \\u0440\\u0430\\u0437\\u0432\\u0438\\u0432\\u0430\\u0442\\u044c\\u0441\\u044f \\u0441\\u0447\\u0435\\u0442 \\u043a\\u043e\\u043c\\u043f\\u0430\\u043d\\u0438\\u044f \\u0432\\u043d\\u0435\\u0448\\u043d\\u0438\\u0439 \\u0442\\u0440\\u0435\\u043d\\u0438\\u043d\\u0433 \\u0441\\u0435\\u043c\\u0438\\u043d\\u0430\\u0440 \\u043f\\u0440\\u043e\\u0444\\u0435\\u0441\\u0441\\u0438\\u043e\\u043d\\u0430\\u043b\\u044c\\u043d\\u044b\\u0439 \\u0442\\u0435\\u043c\\u0430\\u0442\\u0438\\u043a\\u0430 \\u0443\\u0447\\u0430\\u0441\\u0442\\u0438\\u0435 \\u043a\\u0440\\u0443\\u043f\\u043d\\u044b\\u0439 \\u043a\\u043e\\u043d\\u0444\\u0435\\u0440\\u0435\\u043d\\u0446\\u0438\\u044f \\u0441\\u0442\\u0440\\u0430\\u043d\\u0430 \\u043f\\u0440\\u043e\\u0433\\u0440\\u0430\\u043c\\u043c\\u0430 \\u0440\\u0430\\u0437\\u0432\\u0438\\u0442\\u0438\\u0435 \\u0446\\u0438\\u0444\\u0440\\u043e\\u0432\\u043e\\u0439 \\u0443\\u043f\\u0440\\u0430\\u0432\\u043b\\u0435\\u043d\\u0447\\u0435\\u0441\\u043a\\u0438\\u0439 \\u043d\\u0430\\u0432\\u044b\\u043a \\u0446\\u0438\\u0444\\u0440\\u043e\\u0432\\u043e\\u0439 \\u0430\\u043a\\u0430\\u0434\\u0435\\u043c\\u0438\\u044f \\u0448\\u043a\\u043e\\u043b\\u0430 \\u0442\\u0438\\u043c\\u043b\\u0438\\u0434 \\u043e\\u043d\\u043b\\u0430\\u0439\\u043d \\u043e\\u0444\\u043b\\u0430\\u0439\\u043d \\u043c\\u0430\\u0441\\u0442\\u0435\\u0440 \\u043a\\u043b\\u0430\\u0441\\u0441 \\u043a\\u043e\\u0440\\u043f\\u043e\\u0440\\u0430\\u0442\\u0438\\u0432\\u043d\\u044b\\u0439 \\u0443\\u043d\\u0438\\u0432\\u0435\\u0440\\u0441\\u0438\\u0442\\u0435\\u0442 x5 \\u043f\\u043e\\u043b\\u043a \\u0448\\u043a\\u043e\\u043b\\u0430 \\u043d\\u0430\\u0441\\u0442\\u0430\\u0432\\u043d\\u0438\\u043a \\u043c\\u043d\\u043e\\u0433\\u0438\\u0439 \\u043f\\u0440\\u043e\\u0433\\u0440\\u0430\\u043c\\u043c\\u0430 \\u043c\\u043e\\u0442\\u0438\\u0432\\u0430\\u0446\\u0438\\u044f \\u0441\\u043f\\u0438\\u043a\\u0435\\u0440 \\u0430\\u0432\\u0442\\u043e\\u0440 \\u0432\\u043d\\u0443\\u0442\\u0440\\u0435\\u043d\\u043d\\u0438\\u0439 \\u0448\\u043a\\u043e\\u043b\\u0430 speak up school write up \\u0430\\u0447\\u0438\\u0432\\u043a\\u0438 \\u0431\\u0430\\u043b\\u043b \\u0432\\u044b\\u0441\\u0442\\u0443\\u043f\\u043b\\u0435\\u043d\\u0438\\u0435 \\u043f\\u043e\\u0434\\u0433\\u043e\\u0442\\u043e\\u0432\\u043a\\u0430 \\u0441\\u043f\\u0438\\u043a\\u0435\\u0440 \\u043a\\u0440\\u0443\\u043f\\u043d\\u044b\\u0439 \\u043a\\u043e\\u043d\\u0444\\u0435\\u0440\\u0435\\u043d\\u0446\\u0438\\u044f \\u0441\\u0442\\u0440\\u0430\\u043d\\u0430 \\u0441\\u043e\\u043e\\u0431\\u0449\\u0435\\u0441\\u0442\\u0432\\u043e \\u0430\\u0432\\u0442\\u043e\\u0440 \\u0445\\u0430\\u0431\\u0435\\u0440 \\u0432\\u043e\\u0437\\u043c\\u043e\\u0436\\u043d\\u043e\\u0441\\u0442\\u044c \\u0448\\u0435\\u0440\\u0438\\u0442\\u044c \\u043e\\u043f\\u044b\\u0442 \\u043a\\u043e\\u043c\\u044c\\u044e\\u043d\\u0438\\u0442\\u0438 \\u0432\\u043d\\u0443\\u0442\\u0440\\u0435\\u043d\\u043d\\u0438\\u0439 \\u0432\\u043d\\u0435\\u0448\\u043d\\u0438\\u0439 \\u044d\\u043a\\u0441\\u043f\\u0435\\u0440\\u0442 \\u043e\\u0431\\u043c\\u0435\\u043d \\u043e\\u043f\\u044b\\u0442 \\u0441\\u043e\\u043e\\u0431\\u0449\\u0435\\u0441\\u0442\\u0432\\u043e 12 \\u0442\\u0435\\u0445\\u043d\\u0438\\u0447\\u0435\\u0441\\u043a\\u0438\\u0439 \\u043a\\u043e\\u043c\\u044c\\u044e\\u043d\\u0438\\u0442\\u0438 java devops \\u044f\\u0440\\u043a\\u0438\\u0439 \\u043a\\u043e\\u0440\\u043f\\u043e\\u0440\\u0430\\u0442\\u0438\\u0432\\u043d\\u044b\\u0439 \\u0436\\u0438\\u0437\\u043d\\u044c \\u0431\\u043e\\u043b\\u044c\\u0448\\u043e\\u0439 \\u043a\\u043e\\u043b\\u0438\\u0447\\u0435\\u0441\\u0442\\u0432\\u043e \\u043c\\u0435\\u0440\\u043e\\u043f\\u0440\\u0438\\u044f\\u0442\\u0438\\u0435 \\u043a\\u043e\\u043d\\u043a\\u0443\\u0440\\u0441 \\u0432\\u043e\\u0437\\u043c\\u043e\\u0436\\u043d\\u043e\\u0441\\u0442\\u044c \\u0442\\u0432\\u043e\\u0440\\u0447\\u0435\\u0441\\u043a\\u0438\\u0439 \\u0440\\u0435\\u0430\\u043b\\u0438\\u0437\\u0430\\u0446\\u0438\\u044f \\u0440\\u0435\\u0433\\u0443\\u043b\\u044f\\u0440\\u043d\\u044b\\u0439 \\u0432\\u043d\\u0443\\u0442\\u0440\\u0435\\u043d\\u043d\\u0438\\u0439 \\u043c\\u0438\\u0442\\u0430\\u043f\\u0430 \\u0434\\u0435\\u043c\\u043e \\u0434\\u0435\\u043d\\u044c \\u043e\\u0442\\u043a\\u0440\\u044b\\u0442\\u044b\\u0439 \\u043c\\u0438\\u043a\\u0440\\u043e\\u0444\\u043e\\u043d \\u0434\\u0435\\u043d\\u044c it \\u0441\\u043f\\u0435\\u0446\\u0438\\u0430\\u043b\\u0438\\u0441\\u0442 \\u043f\\u0440\\u043e\\u0433\\u0440\\u0430\\u043c\\u043c\\u0430 \\u0432\\u043e\\u043b\\u043e\\u043d\\u0442\\u0435\\u0440\\u0441\\u0442\\u0432\\u043e \\u043a\\u043e\\u0440\\u043f\\u043e\\u0440\\u0430\\u0442\\u0438\\u0432\\u043d\\u044b\\u0439 \\u043f\\u0440\\u0435\\u0434\\u043f\\u0440\\u0438\\u043d\\u0438\\u043c\\u0430\\u0442\\u0435\\u043b\\u044c\\u0441\\u0442\\u0432\\u043e x5 idea challenge \\u043f\\u0440\\u0438\\u0441\\u043e\\u0435\\u0434\\u0438\\u043d\\u044f\\u0442\\u044c\\u0441\\u044f \\u043a\\u043e\\u043c\\u0430\\u043d\\u0434\\u0430 x5 tech \\u0441\\u043e\\u0437\\u0434\\u0430\\u0432\\u0430\\u0442\\u044c \\u0431\\u0443\\u0434\\u0443\\u0449\\u0435\\u0435 \\u0440\\u0438\\u0442\\u0435\\u0439\\u043b \\u0432\\u043c\\u0435\\u0441\\u0442\\u0435\"\n        ],\n        \"semantic_type\": \"\",\n        \"description\": \"\"\n      }\n    },\n    {\n      \"column\": \"salary_from\",\n      \"properties\": {\n        \"dtype\": \"number\",\n        \"std\": 69247.8942386083,\n        \"min\": 60000.0,\n        \"max\": 350000.0,\n        \"num_unique_values\": 15,\n        \"samples\": [\n          90000.0\n        ],\n        \"semantic_type\": \"\",\n        \"description\": \"\"\n      }\n    },\n    {\n      \"column\": \"salary_to\",\n      \"properties\": {\n        \"dtype\": \"number\",\n        \"std\": 113524.72296817112,\n        \"min\": 90000.0,\n        \"max\": 495550.0,\n        \"num_unique_values\": 15,\n        \"samples\": [\n          218400.0\n        ],\n        \"semantic_type\": \"\",\n        \"description\": \"\"\n      }\n    },\n    {\n      \"column\": \"salary_bin\",\n      \"properties\": {\n        \"dtype\": \"category\",\n        \"num_unique_values\": 5,\n        \"samples\": [\n          \"\\u041e\\u0442 200 \\u0442\\u044b\\u0441\\u044f\\u0447 \\u0434\\u043e 300 \\u0442\\u044b\\u0441\\u044f\\u0447\"\n        ],\n        \"semantic_type\": \"\",\n        \"description\": \"\"\n      }\n    },\n    {\n      \"column\": \"key_skills_from_key_skills_field\",\n      \"properties\": {\n        \"dtype\": \"category\",\n        \"num_unique_values\": 154,\n        \"samples\": [\n          \"\\u0410\\u043d\\u0430\\u043b\\u0438\\u0437 \\u0431\\u0438\\u0437\\u043d\\u0435\\u0441 \\u043f\\u043e\\u043a\\u0430\\u0437\\u0430\\u0442\\u0435\\u043b\\u0435\\u0439, MS SQL, MS Excel, \\u0410\\u043d\\u0430\\u043b\\u0438\\u0442\\u0438\\u0447\\u0435\\u0441\\u043a\\u0438\\u0435 \\u0438\\u0441\\u0441\\u043b\\u0435\\u0434\\u043e\\u0432\\u0430\\u043d\\u0438\\u044f, \\u0410\\u043d\\u0430\\u043b\\u0438\\u0442\\u0438\\u0447\\u0435\\u0441\\u043a\\u043e\\u0435 \\u043c\\u044b\\u0448\\u043b\\u0435\\u043d\\u0438\\u0435, \\u0410\\u043d\\u0430\\u043b\\u0438\\u0437 \\u0434\\u0430\\u043d\\u043d\\u044b\\u0445\"\n        ],\n        \"semantic_type\": \"\",\n        \"description\": \"\"\n      }\n    },\n    {\n      \"column\": \"hard_skills_from_description\",\n      \"properties\": {\n        \"dtype\": \"category\",\n        \"num_unique_values\": 5,\n        \"samples\": [\n          \"confluence\"\n        ],\n        \"semantic_type\": \"\",\n        \"description\": \"\"\n      }\n    },\n    {\n      \"column\": \"soft_skills_from_description\",\n      \"properties\": {\n        \"dtype\": \"category\",\n        \"num_unique_values\": 16,\n        \"samples\": [\n          \"\\u0414\\u043e\\u043a\\u0443\\u043c\\u0435\\u043d\\u0442\\u0430\\u0446\\u0438\\u044f\"\n        ],\n        \"semantic_type\": \"\",\n        \"description\": \"\"\n      }\n    }\n  ]\n}"
            }
          },
          "metadata": {},
          "execution_count": 5
        }
      ]
    },
    {
      "cell_type": "markdown",
      "source": [
        "В датасете представлено 310 вакансий Аналитиков. В столбцах department, salary_from, salary_to, key_skills_from_key_skills_field, hard_skills_from_description и soft_skills_from_description есть пропуски. Типы данных корректны."
      ],
      "metadata": {
        "id": "nGERdjPG5rC-"
      }
    },
    {
      "cell_type": "code",
      "source": [
        "#ознакомимся с датасетом Data Science специалистов\n",
        "data_ds.info()\n",
        "data_ds.head(5)"
      ],
      "metadata": {
        "colab": {
          "base_uri": "https://localhost:8080/",
          "height": 0
        },
        "id": "6kbaqMos1GHt",
        "outputId": "1213f6d6-a2ba-442b-c9bf-b53ca36c3dfa"
      },
      "execution_count": 6,
      "outputs": [
        {
          "output_type": "stream",
          "name": "stdout",
          "text": [
            "<class 'pandas.core.frame.DataFrame'>\n",
            "RangeIndex: 662 entries, 0 to 661\n",
            "Data columns (total 20 columns):\n",
            " #   Column                            Non-Null Count  Dtype         \n",
            "---  ------                            --------------  -----         \n",
            " 0   id                                662 non-null    int64         \n",
            " 1   name                              662 non-null    object        \n",
            " 2   published_at                      662 non-null    datetime64[ns]\n",
            " 3   alternate_url                     662 non-null    object        \n",
            " 4   type                              662 non-null    object        \n",
            " 5   employer                          662 non-null    object        \n",
            " 6   department                        270 non-null    object        \n",
            " 7   area                              662 non-null    object        \n",
            " 8   experience                        662 non-null    object        \n",
            " 9   key_skills                        662 non-null    object        \n",
            " 10  schedule                          662 non-null    object        \n",
            " 11  employment                        662 non-null    object        \n",
            " 12  description                       662 non-null    object        \n",
            " 13  description_lemmatized            662 non-null    object        \n",
            " 14  salary_from                       53 non-null     float64       \n",
            " 15  salary_to                         56 non-null     float64       \n",
            " 16  salary_bin                        662 non-null    object        \n",
            " 17  key_skills_from_key_skills_field  351 non-null    object        \n",
            " 18  hard_skills_from_description      308 non-null    object        \n",
            " 19  soft_skills_from_description      194 non-null    object        \n",
            "dtypes: datetime64[ns](1), float64(2), int64(1), object(16)\n",
            "memory usage: 103.6+ KB\n"
          ]
        },
        {
          "output_type": "execute_result",
          "data": {
            "text/plain": [
              "         id                                               name  \\\n",
              "0  67411146        Ведущий Data Scientist, Ранжирование поиска   \n",
              "1  78465611  Управляющий директор \\ Data Scientist (Сопрово...   \n",
              "2  81857265    Associate Professor - Data Science&AI (english)   \n",
              "3  81857296    Assistant Professor - Data Science&AI (english)   \n",
              "4  81857358    Assistant Professor - Data Science&AI (english)   \n",
              "\n",
              "         published_at                   alternate_url      type  \\\n",
              "0 2024-04-02 11:20:17  https://hh.ru/vacancy/67411146  Открытая   \n",
              "1 2024-04-27 10:10:12  https://hh.ru/vacancy/78465611  Открытая   \n",
              "2 2024-04-08 16:28:05  https://hh.ru/vacancy/81857265  Открытая   \n",
              "3 2024-04-08 16:28:05  https://hh.ru/vacancy/81857296  Открытая   \n",
              "4 2024-04-08 16:28:05  https://hh.ru/vacancy/81857358  Открытая   \n",
              "\n",
              "                employer                      department             area  \\\n",
              "0                   Ozon  Ozon Информационные технологии           Москва   \n",
              "1         Банк ВТБ (ПАО)   ПАО ВТБ, Технологический блок           Москва   \n",
              "2  Университет Иннополис                             NaN  Санкт-Петербург   \n",
              "3  Университет Иннополис                             NaN           Москва   \n",
              "4  Университет Иннополис                             NaN  Санкт-Петербург   \n",
              "\n",
              "            experience                                         key_skills  \\\n",
              "0   Middle (3-6 years)  ['IT', 'Разработка поисковых технологий', 'dat...   \n",
              "1   Middle (3-6 years)  ['Оценка рисков', 'Управление рисками', 'MS Po...   \n",
              "2   Middle (3-6 years)  ['Machine Learning', 'Public Speaking', 'Writi...   \n",
              "3  Junior+ (1-3 years)  ['Machine Learning', 'Public Speaking', 'Презе...   \n",
              "4  Junior+ (1-3 years)  ['Machine Learning', 'Public Speaking', 'Презе...   \n",
              "\n",
              "           schedule        employment  \\\n",
              "0  Удаленная работа  Полная занятость   \n",
              "1       Полный день  Полная занятость   \n",
              "2       Полный день  Полная занятость   \n",
              "3       Полный день  Полная занятость   \n",
              "4       Полный день  Полная занятость   \n",
              "\n",
              "                                         description  \\\n",
              "0  у нас петабайты реальных логов событий пользов...   \n",
              "1  наша команда контроля и управления моделями яв...   \n",
              "2  the faculty of computer science and engineerin...   \n",
              "3  the faculty of computer science and engineerin...   \n",
              "4  the faculty of computer science and engineerin...   \n",
              "\n",
              "                              description_lemmatized  salary_from  salary_to  \\\n",
              "0  петабайт реальный лог событие пользователь воз...          NaN        NaN   \n",
              "1  наш команда контроль управление модель являтьс...          NaN        NaN   \n",
              "2  the faculty of computer science and engineerin...          NaN        NaN   \n",
              "3  the faculty of computer science and engineerin...          NaN        NaN   \n",
              "4  the faculty of computer science and engineerin...          NaN        NaN   \n",
              "\n",
              "      salary_bin                   key_skills_from_key_skills_field  \\\n",
              "0  ЗП не указана  Python, data science, Разработка поисковых тех...   \n",
              "1  ЗП не указана  Оценка рисков, MS PowerPoint, Статистический а...   \n",
              "2  ЗП не указана  Information Technology, Fluent English, Resear...   \n",
              "3  ЗП не указана  Information Technology, Fluent English, Resear...   \n",
              "4  ЗП не указана  Information Technology, Fluent English, Resear...   \n",
              "\n",
              "  hard_skills_from_description soft_skills_from_description  \n",
              "0                          NaN                          NaN  \n",
              "1                          NaN                          NaN  \n",
              "2               Юнит-экономика                          NaN  \n",
              "3               Юнит-экономика      Презентация результатов  \n",
              "4               Юнит-экономика      Презентация результатов  "
            ],
            "text/html": [
              "\n",
              "  <div id=\"df-6e67b055-233c-4523-93c4-0d02b3167c13\" class=\"colab-df-container\">\n",
              "    <div>\n",
              "<style scoped>\n",
              "    .dataframe tbody tr th:only-of-type {\n",
              "        vertical-align: middle;\n",
              "    }\n",
              "\n",
              "    .dataframe tbody tr th {\n",
              "        vertical-align: top;\n",
              "    }\n",
              "\n",
              "    .dataframe thead th {\n",
              "        text-align: right;\n",
              "    }\n",
              "</style>\n",
              "<table border=\"1\" class=\"dataframe\">\n",
              "  <thead>\n",
              "    <tr style=\"text-align: right;\">\n",
              "      <th></th>\n",
              "      <th>id</th>\n",
              "      <th>name</th>\n",
              "      <th>published_at</th>\n",
              "      <th>alternate_url</th>\n",
              "      <th>type</th>\n",
              "      <th>employer</th>\n",
              "      <th>department</th>\n",
              "      <th>area</th>\n",
              "      <th>experience</th>\n",
              "      <th>key_skills</th>\n",
              "      <th>schedule</th>\n",
              "      <th>employment</th>\n",
              "      <th>description</th>\n",
              "      <th>description_lemmatized</th>\n",
              "      <th>salary_from</th>\n",
              "      <th>salary_to</th>\n",
              "      <th>salary_bin</th>\n",
              "      <th>key_skills_from_key_skills_field</th>\n",
              "      <th>hard_skills_from_description</th>\n",
              "      <th>soft_skills_from_description</th>\n",
              "    </tr>\n",
              "  </thead>\n",
              "  <tbody>\n",
              "    <tr>\n",
              "      <th>0</th>\n",
              "      <td>67411146</td>\n",
              "      <td>Ведущий Data Scientist, Ранжирование поиска</td>\n",
              "      <td>2024-04-02 11:20:17</td>\n",
              "      <td>https://hh.ru/vacancy/67411146</td>\n",
              "      <td>Открытая</td>\n",
              "      <td>Ozon</td>\n",
              "      <td>Ozon Информационные технологии</td>\n",
              "      <td>Москва</td>\n",
              "      <td>Middle (3-6 years)</td>\n",
              "      <td>['IT', 'Разработка поисковых технологий', 'dat...</td>\n",
              "      <td>Удаленная работа</td>\n",
              "      <td>Полная занятость</td>\n",
              "      <td>у нас петабайты реальных логов событий пользов...</td>\n",
              "      <td>петабайт реальный лог событие пользователь воз...</td>\n",
              "      <td>NaN</td>\n",
              "      <td>NaN</td>\n",
              "      <td>ЗП не указана</td>\n",
              "      <td>Python, data science, Разработка поисковых тех...</td>\n",
              "      <td>NaN</td>\n",
              "      <td>NaN</td>\n",
              "    </tr>\n",
              "    <tr>\n",
              "      <th>1</th>\n",
              "      <td>78465611</td>\n",
              "      <td>Управляющий директор \\ Data Scientist (Сопрово...</td>\n",
              "      <td>2024-04-27 10:10:12</td>\n",
              "      <td>https://hh.ru/vacancy/78465611</td>\n",
              "      <td>Открытая</td>\n",
              "      <td>Банк ВТБ (ПАО)</td>\n",
              "      <td>ПАО ВТБ, Технологический блок</td>\n",
              "      <td>Москва</td>\n",
              "      <td>Middle (3-6 years)</td>\n",
              "      <td>['Оценка рисков', 'Управление рисками', 'MS Po...</td>\n",
              "      <td>Полный день</td>\n",
              "      <td>Полная занятость</td>\n",
              "      <td>наша команда контроля и управления моделями яв...</td>\n",
              "      <td>наш команда контроль управление модель являтьс...</td>\n",
              "      <td>NaN</td>\n",
              "      <td>NaN</td>\n",
              "      <td>ЗП не указана</td>\n",
              "      <td>Оценка рисков, MS PowerPoint, Статистический а...</td>\n",
              "      <td>NaN</td>\n",
              "      <td>NaN</td>\n",
              "    </tr>\n",
              "    <tr>\n",
              "      <th>2</th>\n",
              "      <td>81857265</td>\n",
              "      <td>Associate Professor - Data Science&amp;AI (english)</td>\n",
              "      <td>2024-04-08 16:28:05</td>\n",
              "      <td>https://hh.ru/vacancy/81857265</td>\n",
              "      <td>Открытая</td>\n",
              "      <td>Университет Иннополис</td>\n",
              "      <td>NaN</td>\n",
              "      <td>Санкт-Петербург</td>\n",
              "      <td>Middle (3-6 years)</td>\n",
              "      <td>['Machine Learning', 'Public Speaking', 'Writi...</td>\n",
              "      <td>Полный день</td>\n",
              "      <td>Полная занятость</td>\n",
              "      <td>the faculty of computer science and engineerin...</td>\n",
              "      <td>the faculty of computer science and engineerin...</td>\n",
              "      <td>NaN</td>\n",
              "      <td>NaN</td>\n",
              "      <td>ЗП не указана</td>\n",
              "      <td>Information Technology, Fluent English, Resear...</td>\n",
              "      <td>Юнит-экономика</td>\n",
              "      <td>NaN</td>\n",
              "    </tr>\n",
              "    <tr>\n",
              "      <th>3</th>\n",
              "      <td>81857296</td>\n",
              "      <td>Assistant Professor - Data Science&amp;AI (english)</td>\n",
              "      <td>2024-04-08 16:28:05</td>\n",
              "      <td>https://hh.ru/vacancy/81857296</td>\n",
              "      <td>Открытая</td>\n",
              "      <td>Университет Иннополис</td>\n",
              "      <td>NaN</td>\n",
              "      <td>Москва</td>\n",
              "      <td>Junior+ (1-3 years)</td>\n",
              "      <td>['Machine Learning', 'Public Speaking', 'Презе...</td>\n",
              "      <td>Полный день</td>\n",
              "      <td>Полная занятость</td>\n",
              "      <td>the faculty of computer science and engineerin...</td>\n",
              "      <td>the faculty of computer science and engineerin...</td>\n",
              "      <td>NaN</td>\n",
              "      <td>NaN</td>\n",
              "      <td>ЗП не указана</td>\n",
              "      <td>Information Technology, Fluent English, Resear...</td>\n",
              "      <td>Юнит-экономика</td>\n",
              "      <td>Презентация результатов</td>\n",
              "    </tr>\n",
              "    <tr>\n",
              "      <th>4</th>\n",
              "      <td>81857358</td>\n",
              "      <td>Assistant Professor - Data Science&amp;AI (english)</td>\n",
              "      <td>2024-04-08 16:28:05</td>\n",
              "      <td>https://hh.ru/vacancy/81857358</td>\n",
              "      <td>Открытая</td>\n",
              "      <td>Университет Иннополис</td>\n",
              "      <td>NaN</td>\n",
              "      <td>Санкт-Петербург</td>\n",
              "      <td>Junior+ (1-3 years)</td>\n",
              "      <td>['Machine Learning', 'Public Speaking', 'Презе...</td>\n",
              "      <td>Полный день</td>\n",
              "      <td>Полная занятость</td>\n",
              "      <td>the faculty of computer science and engineerin...</td>\n",
              "      <td>the faculty of computer science and engineerin...</td>\n",
              "      <td>NaN</td>\n",
              "      <td>NaN</td>\n",
              "      <td>ЗП не указана</td>\n",
              "      <td>Information Technology, Fluent English, Resear...</td>\n",
              "      <td>Юнит-экономика</td>\n",
              "      <td>Презентация результатов</td>\n",
              "    </tr>\n",
              "  </tbody>\n",
              "</table>\n",
              "</div>\n",
              "    <div class=\"colab-df-buttons\">\n",
              "\n",
              "  <div class=\"colab-df-container\">\n",
              "    <button class=\"colab-df-convert\" onclick=\"convertToInteractive('df-6e67b055-233c-4523-93c4-0d02b3167c13')\"\n",
              "            title=\"Convert this dataframe to an interactive table.\"\n",
              "            style=\"display:none;\">\n",
              "\n",
              "  <svg xmlns=\"http://www.w3.org/2000/svg\" height=\"24px\" viewBox=\"0 -960 960 960\">\n",
              "    <path d=\"M120-120v-720h720v720H120Zm60-500h600v-160H180v160Zm220 220h160v-160H400v160Zm0 220h160v-160H400v160ZM180-400h160v-160H180v160Zm440 0h160v-160H620v160ZM180-180h160v-160H180v160Zm440 0h160v-160H620v160Z\"/>\n",
              "  </svg>\n",
              "    </button>\n",
              "\n",
              "  <style>\n",
              "    .colab-df-container {\n",
              "      display:flex;\n",
              "      gap: 12px;\n",
              "    }\n",
              "\n",
              "    .colab-df-convert {\n",
              "      background-color: #E8F0FE;\n",
              "      border: none;\n",
              "      border-radius: 50%;\n",
              "      cursor: pointer;\n",
              "      display: none;\n",
              "      fill: #1967D2;\n",
              "      height: 32px;\n",
              "      padding: 0 0 0 0;\n",
              "      width: 32px;\n",
              "    }\n",
              "\n",
              "    .colab-df-convert:hover {\n",
              "      background-color: #E2EBFA;\n",
              "      box-shadow: 0px 1px 2px rgba(60, 64, 67, 0.3), 0px 1px 3px 1px rgba(60, 64, 67, 0.15);\n",
              "      fill: #174EA6;\n",
              "    }\n",
              "\n",
              "    .colab-df-buttons div {\n",
              "      margin-bottom: 4px;\n",
              "    }\n",
              "\n",
              "    [theme=dark] .colab-df-convert {\n",
              "      background-color: #3B4455;\n",
              "      fill: #D2E3FC;\n",
              "    }\n",
              "\n",
              "    [theme=dark] .colab-df-convert:hover {\n",
              "      background-color: #434B5C;\n",
              "      box-shadow: 0px 1px 3px 1px rgba(0, 0, 0, 0.15);\n",
              "      filter: drop-shadow(0px 1px 2px rgba(0, 0, 0, 0.3));\n",
              "      fill: #FFFFFF;\n",
              "    }\n",
              "  </style>\n",
              "\n",
              "    <script>\n",
              "      const buttonEl =\n",
              "        document.querySelector('#df-6e67b055-233c-4523-93c4-0d02b3167c13 button.colab-df-convert');\n",
              "      buttonEl.style.display =\n",
              "        google.colab.kernel.accessAllowed ? 'block' : 'none';\n",
              "\n",
              "      async function convertToInteractive(key) {\n",
              "        const element = document.querySelector('#df-6e67b055-233c-4523-93c4-0d02b3167c13');\n",
              "        const dataTable =\n",
              "          await google.colab.kernel.invokeFunction('convertToInteractive',\n",
              "                                                    [key], {});\n",
              "        if (!dataTable) return;\n",
              "\n",
              "        const docLinkHtml = 'Like what you see? Visit the ' +\n",
              "          '<a target=\"_blank\" href=https://colab.research.google.com/notebooks/data_table.ipynb>data table notebook</a>'\n",
              "          + ' to learn more about interactive tables.';\n",
              "        element.innerHTML = '';\n",
              "        dataTable['output_type'] = 'display_data';\n",
              "        await google.colab.output.renderOutput(dataTable, element);\n",
              "        const docLink = document.createElement('div');\n",
              "        docLink.innerHTML = docLinkHtml;\n",
              "        element.appendChild(docLink);\n",
              "      }\n",
              "    </script>\n",
              "  </div>\n",
              "\n",
              "\n",
              "<div id=\"df-0f6305ba-f354-4e54-a8ad-cb570667f411\">\n",
              "  <button class=\"colab-df-quickchart\" onclick=\"quickchart('df-0f6305ba-f354-4e54-a8ad-cb570667f411')\"\n",
              "            title=\"Suggest charts\"\n",
              "            style=\"display:none;\">\n",
              "\n",
              "<svg xmlns=\"http://www.w3.org/2000/svg\" height=\"24px\"viewBox=\"0 0 24 24\"\n",
              "     width=\"24px\">\n",
              "    <g>\n",
              "        <path d=\"M19 3H5c-1.1 0-2 .9-2 2v14c0 1.1.9 2 2 2h14c1.1 0 2-.9 2-2V5c0-1.1-.9-2-2-2zM9 17H7v-7h2v7zm4 0h-2V7h2v10zm4 0h-2v-4h2v4z\"/>\n",
              "    </g>\n",
              "</svg>\n",
              "  </button>\n",
              "\n",
              "<style>\n",
              "  .colab-df-quickchart {\n",
              "      --bg-color: #E8F0FE;\n",
              "      --fill-color: #1967D2;\n",
              "      --hover-bg-color: #E2EBFA;\n",
              "      --hover-fill-color: #174EA6;\n",
              "      --disabled-fill-color: #AAA;\n",
              "      --disabled-bg-color: #DDD;\n",
              "  }\n",
              "\n",
              "  [theme=dark] .colab-df-quickchart {\n",
              "      --bg-color: #3B4455;\n",
              "      --fill-color: #D2E3FC;\n",
              "      --hover-bg-color: #434B5C;\n",
              "      --hover-fill-color: #FFFFFF;\n",
              "      --disabled-bg-color: #3B4455;\n",
              "      --disabled-fill-color: #666;\n",
              "  }\n",
              "\n",
              "  .colab-df-quickchart {\n",
              "    background-color: var(--bg-color);\n",
              "    border: none;\n",
              "    border-radius: 50%;\n",
              "    cursor: pointer;\n",
              "    display: none;\n",
              "    fill: var(--fill-color);\n",
              "    height: 32px;\n",
              "    padding: 0;\n",
              "    width: 32px;\n",
              "  }\n",
              "\n",
              "  .colab-df-quickchart:hover {\n",
              "    background-color: var(--hover-bg-color);\n",
              "    box-shadow: 0 1px 2px rgba(60, 64, 67, 0.3), 0 1px 3px 1px rgba(60, 64, 67, 0.15);\n",
              "    fill: var(--button-hover-fill-color);\n",
              "  }\n",
              "\n",
              "  .colab-df-quickchart-complete:disabled,\n",
              "  .colab-df-quickchart-complete:disabled:hover {\n",
              "    background-color: var(--disabled-bg-color);\n",
              "    fill: var(--disabled-fill-color);\n",
              "    box-shadow: none;\n",
              "  }\n",
              "\n",
              "  .colab-df-spinner {\n",
              "    border: 2px solid var(--fill-color);\n",
              "    border-color: transparent;\n",
              "    border-bottom-color: var(--fill-color);\n",
              "    animation:\n",
              "      spin 1s steps(1) infinite;\n",
              "  }\n",
              "\n",
              "  @keyframes spin {\n",
              "    0% {\n",
              "      border-color: transparent;\n",
              "      border-bottom-color: var(--fill-color);\n",
              "      border-left-color: var(--fill-color);\n",
              "    }\n",
              "    20% {\n",
              "      border-color: transparent;\n",
              "      border-left-color: var(--fill-color);\n",
              "      border-top-color: var(--fill-color);\n",
              "    }\n",
              "    30% {\n",
              "      border-color: transparent;\n",
              "      border-left-color: var(--fill-color);\n",
              "      border-top-color: var(--fill-color);\n",
              "      border-right-color: var(--fill-color);\n",
              "    }\n",
              "    40% {\n",
              "      border-color: transparent;\n",
              "      border-right-color: var(--fill-color);\n",
              "      border-top-color: var(--fill-color);\n",
              "    }\n",
              "    60% {\n",
              "      border-color: transparent;\n",
              "      border-right-color: var(--fill-color);\n",
              "    }\n",
              "    80% {\n",
              "      border-color: transparent;\n",
              "      border-right-color: var(--fill-color);\n",
              "      border-bottom-color: var(--fill-color);\n",
              "    }\n",
              "    90% {\n",
              "      border-color: transparent;\n",
              "      border-bottom-color: var(--fill-color);\n",
              "    }\n",
              "  }\n",
              "</style>\n",
              "\n",
              "  <script>\n",
              "    async function quickchart(key) {\n",
              "      const quickchartButtonEl =\n",
              "        document.querySelector('#' + key + ' button');\n",
              "      quickchartButtonEl.disabled = true;  // To prevent multiple clicks.\n",
              "      quickchartButtonEl.classList.add('colab-df-spinner');\n",
              "      try {\n",
              "        const charts = await google.colab.kernel.invokeFunction(\n",
              "            'suggestCharts', [key], {});\n",
              "      } catch (error) {\n",
              "        console.error('Error during call to suggestCharts:', error);\n",
              "      }\n",
              "      quickchartButtonEl.classList.remove('colab-df-spinner');\n",
              "      quickchartButtonEl.classList.add('colab-df-quickchart-complete');\n",
              "    }\n",
              "    (() => {\n",
              "      let quickchartButtonEl =\n",
              "        document.querySelector('#df-0f6305ba-f354-4e54-a8ad-cb570667f411 button');\n",
              "      quickchartButtonEl.style.display =\n",
              "        google.colab.kernel.accessAllowed ? 'block' : 'none';\n",
              "    })();\n",
              "  </script>\n",
              "</div>\n",
              "    </div>\n",
              "  </div>\n"
            ],
            "application/vnd.google.colaboratory.intrinsic+json": {
              "type": "dataframe",
              "variable_name": "data_ds",
              "summary": "{\n  \"name\": \"data_ds\",\n  \"rows\": 662,\n  \"fields\": [\n    {\n      \"column\": \"id\",\n      \"properties\": {\n        \"dtype\": \"number\",\n        \"std\": 2610613,\n        \"min\": 67411146,\n        \"max\": 98135067,\n        \"num_unique_values\": 662,\n        \"samples\": [\n          95459075,\n          97571359,\n          96530894\n        ],\n        \"semantic_type\": \"\",\n        \"description\": \"\"\n      }\n    },\n    {\n      \"column\": \"name\",\n      \"properties\": {\n        \"dtype\": \"string\",\n        \"num_unique_values\": 383,\n        \"samples\": [\n          \"Data Scientist (\\u041b\\u0435\\u043d\\u0442\\u0430 \\u043e\\u043d\\u043b\\u0430\\u0439\\u043d)\",\n          \"Middle Data Scientist (CV)\",\n          \"Middle Data Scientist (\\u041f\\u0440\\u043e\\u0433\\u043d\\u043e\\u0437 \\u0441\\u043f\\u0440\\u043e\\u0441\\u0430 - \\u043c\\u0430\\u0440\\u043a\\u0435\\u0442\\u043f\\u043b\\u0435\\u0439\\u0441 \\u041c\\u0435\\u0433\\u0430\\u041c\\u0430\\u0440\\u043a\\u0435\\u0442)\"\n        ],\n        \"semantic_type\": \"\",\n        \"description\": \"\"\n      }\n    },\n    {\n      \"column\": \"published_at\",\n      \"properties\": {\n        \"dtype\": \"date\",\n        \"min\": \"2024-02-29 15:01:35\",\n        \"max\": \"2024-04-30 11:41:03\",\n        \"num_unique_values\": 625,\n        \"samples\": [\n          \"2024-04-27 14:50:59\",\n          \"2024-04-30 09:35:29\",\n          \"2024-04-01 18:28:49\"\n        ],\n        \"semantic_type\": \"\",\n        \"description\": \"\"\n      }\n    },\n    {\n      \"column\": \"alternate_url\",\n      \"properties\": {\n        \"dtype\": \"string\",\n        \"num_unique_values\": 662,\n        \"samples\": [\n          \"https://hh.ru/vacancy/95459075\",\n          \"https://hh.ru/vacancy/97571359\",\n          \"https://hh.ru/vacancy/96530894\"\n        ],\n        \"semantic_type\": \"\",\n        \"description\": \"\"\n      }\n    },\n    {\n      \"column\": \"type\",\n      \"properties\": {\n        \"dtype\": \"category\",\n        \"num_unique_values\": 1,\n        \"samples\": [\n          \"\\u041e\\u0442\\u043a\\u0440\\u044b\\u0442\\u0430\\u044f\"\n        ],\n        \"semantic_type\": \"\",\n        \"description\": \"\"\n      }\n    },\n    {\n      \"column\": \"employer\",\n      \"properties\": {\n        \"dtype\": \"category\",\n        \"num_unique_values\": 244,\n        \"samples\": [\n          \"Carcade Leasing\"\n        ],\n        \"semantic_type\": \"\",\n        \"description\": \"\"\n      }\n    },\n    {\n      \"column\": \"department\",\n      \"properties\": {\n        \"dtype\": \"category\",\n        \"num_unique_values\": 46,\n        \"samples\": [\n          \"\\u041c\\u043e\\u0441\\u043a\\u043e\\u0432\\u0441\\u043a\\u0438\\u0439 \\u041a\\u0440\\u0435\\u0434\\u0438\\u0442\\u043d\\u044b\\u0439 \\u0411\\u0430\\u043d\\u043a. \\u041f\\u0440\\u043e\\u0444\\u0435\\u0441\\u0441\\u0438\\u043e\\u043d\\u0430\\u043b\\u044b\"\n        ],\n        \"semantic_type\": \"\",\n        \"description\": \"\"\n      }\n    },\n    {\n      \"column\": \"area\",\n      \"properties\": {\n        \"dtype\": \"category\",\n        \"num_unique_values\": 23,\n        \"samples\": [\n          \"\\u041b\\u0438\\u043f\\u0435\\u0446\\u043a\"\n        ],\n        \"semantic_type\": \"\",\n        \"description\": \"\"\n      }\n    },\n    {\n      \"column\": \"experience\",\n      \"properties\": {\n        \"dtype\": \"category\",\n        \"num_unique_values\": 4,\n        \"samples\": [\n          \"Junior+ (1-3 years)\"\n        ],\n        \"semantic_type\": \"\",\n        \"description\": \"\"\n      }\n    },\n    {\n      \"column\": \"key_skills\",\n      \"properties\": {\n        \"dtype\": \"category\",\n        \"num_unique_values\": 306,\n        \"samples\": [\n          \"['\\u041a\\u043e\\u043c\\u043c\\u0443\\u043d\\u0438\\u043a\\u0430\\u0446\\u0438\\u044f', '\\u042e\\u043d\\u0438\\u0442-\\u044d\\u043a\\u043e\\u043d\\u043e\\u043c\\u0438\\u043a\\u0430']\"\n        ],\n        \"semantic_type\": \"\",\n        \"description\": \"\"\n      }\n    },\n    {\n      \"column\": \"schedule\",\n      \"properties\": {\n        \"dtype\": \"category\",\n        \"num_unique_values\": 4,\n        \"samples\": [\n          \"\\u041f\\u043e\\u043b\\u043d\\u044b\\u0439 \\u0434\\u0435\\u043d\\u044c\"\n        ],\n        \"semantic_type\": \"\",\n        \"description\": \"\"\n      }\n    },\n    {\n      \"column\": \"employment\",\n      \"properties\": {\n        \"dtype\": \"category\",\n        \"num_unique_values\": 4,\n        \"samples\": [\n          \"\\u0421\\u0442\\u0430\\u0436\\u0438\\u0440\\u043e\\u0432\\u043a\\u0430\"\n        ],\n        \"semantic_type\": \"\",\n        \"description\": \"\"\n      }\n    },\n    {\n      \"column\": \"description\",\n      \"properties\": {\n        \"dtype\": \"string\",\n        \"num_unique_values\": 564,\n        \"samples\": [\n          \"\\u0441\\u0435\\u0433\\u043e\\u0434\\u043d\\u044f \\u0431\\u0438\\u043b\\u0430\\u0439\\u043d \\u2014 \\u043a\\u043e\\u043c\\u043f\\u0430\\u043d\\u0438\\u044f \\u0438\\u0437\\u043c\\u0435\\u043d\\u0435\\u043d\\u0438\\u0439, \\u0447\\u0443\\u0442\\u043a\\u043e \\u0440\\u0435\\u0430\\u0433\\u0438\\u0440\\u0443\\u044e\\u0449\\u0430\\u044f \\u043d\\u0430 \\u043f\\u043e\\u0442\\u0440\\u0435\\u0431\\u043d\\u043e\\u0441\\u0442\\u0438 \\u0440\\u044b\\u043d\\u043a\\u0430 \\u0438 \\u043b\\u044e\\u0434\\u0435\\u0439. \\u0430 \\u0435\\u0449\\u0435 \\u0431\\u0438\\u043b\\u0430\\u0439\\u043d \\u2014 \\u044d\\u0442\\u043e \\u043a\\u043e\\u043c\\u0430\\u043d\\u0434\\u0430, \\u043e\\u0431\\u044a\\u0435\\u0434\\u0438\\u043d\\u0435\\u043d\\u043d\\u0430\\u044f \\u043e\\u0431\\u0449\\u0438\\u043c\\u0438 \\u0446\\u0435\\u043d\\u043d\\u043e\\u0441\\u0442\\u044f\\u043c\\u0438 \\u0438 \\u043e\\u0431\\u0449\\u0435\\u0439 \\u0446\\u0435\\u043b\\u044c\\u044e \\u2014 \\u0431\\u044b\\u0442\\u044c \\u043b\\u0438\\u0434\\u0435\\u0440\\u043e\\u043c \\u0442\\u0435\\u043b\\u0435\\u043a\\u043e\\u043c \\u0438 digital \\u0440\\u044b\\u043d\\u043a\\u043e\\u0432, \\u043f\\u0440\\u0435\\u0434\\u043e\\u0441\\u0442\\u0430\\u0432\\u043b\\u044f\\u044f \\u043d\\u0430\\u0448\\u0438\\u043c \\u043a\\u043b\\u0438\\u0435\\u043d\\u0442\\u0430\\u043c \\u043d\\u043e\\u0432\\u0435\\u0439\\u0448\\u0438\\u0435 \\u043f\\u0440\\u043e\\u0434\\u0443\\u043a\\u0442\\u044b \\u0438 \\u0443\\u0441\\u043b\\u0443\\u0433\\u0438, \\u0430 \\u0442\\u0430\\u043a\\u0436\\u0435 \\u0441\\u0435\\u0440\\u0432\\u0438\\u0441 \\u0441\\u0430\\u043c\\u043e\\u0433\\u043e \\u0432\\u044b\\u0441\\u043e\\u043a\\u043e\\u0433\\u043e \\u0443\\u0440\\u043e\\u0432\\u043d\\u044f. \\u0441\\u0435\\u0439\\u0447\\u0430\\u0441 \\u0443 \\u0442\\u0435\\u0431\\u044f \\u0435\\u0441\\u0442\\u044c \\u0432\\u043e\\u0437\\u043c\\u043e\\u0436\\u043d\\u043e\\u0441\\u0442\\u044c \\u043f\\u0440\\u0438\\u0441\\u043e\\u0435\\u0434\\u0438\\u043d\\u0438\\u0442\\u044c\\u0441\\u044f \\u043a \\u043b\\u0443\\u0447\\u0448\\u0435\\u0439 \\u043a\\u043e\\u043c\\u0430\\u043d\\u0434\\u0435 \\u043a\\u043b\\u0438\\u0435\\u043d\\u0442\\u0441\\u043a\\u043e\\u0439 \\u0430\\u043d\\u0430\\u043b\\u0438\\u0442\\u0438\\u043a\\u0438 cvm \\u0432 \\u0440\\u043e\\u043b\\u0438 data scientist! \\u0443 \\u043d\\u0430\\u0441 \\u0430\\u0442\\u043c\\u043e\\u0441\\u0444\\u0435\\u0440\\u0430 \\u0441\\u0442\\u0430\\u0440\\u0442\\u0430\\u043f\\u0430, \\u043c\\u044b \\u0441\\u0442\\u0440\\u043e\\u0438\\u043c ml \\u0432 \\u0441\\u0435\\u0433\\u043c\\u0435\\u043d\\u0442\\u0435 \\u044e\\u0440\\u0438\\u0434\\u0438\\u0447\\u0435\\u0441\\u043a\\u0438\\u0445 \\u043b\\u0438\\u0446. \\u043f\\u0440\\u0438\\u043c\\u0435\\u0440\\u044b \\u043d\\u0430\\u0448\\u0438\\u0445 \\u043c\\u043e\\u0434\\u0435\\u043b\\u0435\\u0439: \\u043c\\u043e\\u0434\\u0435\\u043b\\u0438 \\u0441\\u043a\\u043b\\u043e\\u043d\\u043d\\u043e\\u0441\\u0442\\u0438 \\u043a \\u043f\\u0440\\u043e\\u0434\\u0443\\u043a\\u0442\\u0430\\u043c, \\u0440\\u0430\\u0437\\u0440\\u0430\\u0431\\u043e\\u0442\\u043a\\u0430 \\u043c\\u043e\\u0434\\u0435\\u043b\\u0435\\u0439 \\u0432 \\u0440\\u0430\\u043c\\u043a\\u0430\\u0445 nba-\\u0441\\u0442\\u0440\\u0430\\u0442\\u0435\\u0433\\u0438\\u0438, \\u043f\\u043e\\u0438\\u0441\\u043a \\u0438 \\u0438\\u0434\\u0435\\u043d\\u0442\\u0438\\u0444\\u0438\\u043a\\u0430\\u0446\\u0438\\u044f \\u043b\\u043f\\u0440, \\u043c\\u043e\\u0434\\u0435\\u043b\\u0438 \\u043e\\u0442\\u0442\\u043e\\u043a\\u0430 \\u043f\\u043e \\u0444\\u0438\\u043a\\u0441\\u0438\\u0440\\u043e\\u0432\\u0430\\u043d\\u043d\\u044b\\u043c \\u0443\\u0441\\u043b\\u0443\\u0433\\u0430\\u043c, \\u043c\\u043e\\u0434\\u0435\\u043b\\u0438 \\u043e\\u0442\\u0442\\u043e\\u043a\\u0430 \\u043f\\u043e \\u043c\\u043e\\u0431\\u0438\\u043b\\u044c\\u043d\\u044b\\u043c \\u0443\\u0441\\u043b\\u0443\\u0433\\u0430\\u043c, \\u0441\\u0435\\u0433\\u043c\\u0435\\u043d\\u0442\\u0430\\u0446\\u0438\\u044f \\u043a\\u043e\\u043c\\u043f\\u0430\\u043d\\u0438\\u0439. \\u0432 \\u043f\\u043b\\u0430\\u043d\\u0430\\u0445: \\u043f\\u0440\\u043e\\u0433\\u043d\\u043e\\u0437 \\u0432\\u044b\\u0440\\u0443\\u0447\\u043a\\u0438, \\u0446\\u0435\\u043d\\u043e\\u043e\\u0431\\u0440\\u0430\\u0437\\u043e\\u0432\\u0430\\u043d\\u0438\\u0435 \\u0438 \\u0441\\u043a\\u0438\\u0434\\u043a\\u0438 \\u0438\\u0442\\u0430\\u043a, \\u0442\\u0435\\u0431\\u0435 \\u043f\\u0440\\u0435\\u0434\\u0441\\u0442\\u043e\\u0438\\u0442:                \\u0443\\u0447\\u0430\\u0441\\u0442\\u0438\\u0435 \\u0432 \\u043f\\u043e\\u0441\\u0442\\u0440\\u043e\\u0435\\u043d\\u0438\\u0438 \\u043f\\u0440\\u043e\\u0446\\u0435\\u0441\\u0441\\u043e\\u0432 \\u0430\\u0432\\u0442\\u043e\\u043c\\u0430\\u0442\\u0438\\u0437\\u0430\\u0446\\u0438\\u0438 \\u043f\\u043e\\u043b\\u0443\\u0447\\u0435\\u043d\\u0438\\u044f \\u0434\\u0430\\u043d\\u043d\\u044b\\u0445 \\u0434\\u043b\\u044f \\u043c\\u043e\\u0434\\u0435\\u043b\\u0435\\u0439                             \\u043f\\u043e\\u0434\\u0433\\u043e\\u0442\\u043e\\u0432\\u043a\\u0430 \\u043c\\u0430\\u0441\\u0441\\u0438\\u0432\\u043e\\u0432 \\u0434\\u0430\\u043d\\u043d\\u044b\\u0445 \\u0434\\u043b\\u044f \\u0440\\u0430\\u0437\\u0440\\u0430\\u0431\\u043e\\u0442\\u043a\\u0438 \\u043f\\u0440\\u0435\\u0434\\u0438\\u043a\\u0442\\u0438\\u0432\\u043d\\u044b\\u0445 \\u043c\\u043e\\u0434\\u0435\\u043b\\u0435\\u0439                             \\u0440\\u0430\\u0437\\u0440\\u0430\\u0431\\u043e\\u0442\\u043a\\u0430 \\u0438 \\u043f\\u043e\\u0434\\u0434\\u0435\\u0440\\u0436\\u043a\\u0430 \\u043f\\u0440\\u0435\\u0434\\u0438\\u043a\\u0442\\u0438\\u0432\\u043d\\u044b\\u0445 \\u043c\\u043e\\u0434\\u0435\\u043b\\u0435\\u0439 \\u0441\\u043a\\u043b\\u043e\\u043d\\u043d\\u043e\\u0441\\u0442\\u0438 \\u043a \\u043f\\u0440\\u043e\\u0434\\u0443\\u043a\\u0442\\u0443/\\u043e\\u0442\\u0442\\u043e\\u043a\\u0443 \\u0438\\u0437 \\u0430\\u043a\\u0442\\u0438\\u0432\\u043d\\u043e\\u0439 \\u0431\\u0430\\u0437\\u044b                             \\u0440\\u0430\\u0437\\u0440\\u0430\\u0431\\u043e\\u0442\\u043a\\u0430 \\u043e\\u0442\\u0447\\u0435\\u0442\\u043d\\u043e\\u0441\\u0442\\u0438 \\u043f\\u043e \\u043e\\u0441\\u043d\\u043e\\u0432\\u043d\\u044b\\u043c \\u043c\\u0435\\u0442\\u0440\\u0438\\u043a\\u0430\\u043c \\u043f\\u0440\\u0435\\u0434\\u0438\\u043a\\u0442\\u0438\\u0432\\u043d\\u043e\\u0439 \\u0441\\u043f\\u043e\\u0441\\u043e\\u0431\\u043d\\u043e\\u0441\\u0442\\u0438 \\u043c\\u043e\\u0434\\u0435\\u043b\\u0435\\u0439                             \\u0438\\u0441\\u043f\\u043e\\u043b\\u044c\\u0437\\u043e\\u0432\\u0430\\u043d\\u0438\\u0435 \\u0430\\u043b\\u0433\\u043e\\u0440\\u0438\\u0442\\u043c\\u043e\\u0432 \\u043c\\u0430\\u0448\\u0438\\u043d\\u043d\\u043e\\u0433\\u043e \\u043e\\u0431\\u0443\\u0447\\u0435\\u043d\\u0438\\u044f \\u0434\\u043b\\u044f \\u0440\\u0435\\u0448\\u0435\\u043d\\u0438\\u044f \\u0431\\u0438\\u0437\\u043d\\u0435\\u0441 \\u0437\\u0430\\u0434\\u0430\\u0447 \\u043f\\u043e\\u0434\\u0440\\u0430\\u0437\\u0434\\u0435\\u043b\\u0435\\u043d\\u0438\\u044f                             \\u0432\\u0437\\u0430\\u0438\\u043c\\u043e\\u0434\\u0435\\u0439\\u0441\\u0442\\u0432\\u0438\\u0435 \\u0441 \\u0431\\u0438\\u0437\\u043d\\u0435\\u0441-\\u0437\\u0430\\u043a\\u0430\\u0437\\u0447\\u0438\\u043a\\u0430\\u043c\\u0438 \\u0432 \\u0447\\u0430\\u0441\\u0442\\u0438 \\u043d\\u0430\\u0431\\u043e\\u0440\\u0430 \\u0444\\u0438\\u0447\\u0435\\u0439 \\u0438 \\u043f\\u0440\\u0435\\u0437\\u0435\\u043d\\u0442\\u0430\\u0446\\u0438\\u0438 \\u0440\\u0435\\u0437\\u0443\\u043b\\u044c\\u0442\\u0430\\u0442\\u043e\\u0432 \\u043e\\u0442\\u0440\\u0430\\u0431\\u043e\\u0442\\u043a\\u0438 \\u043c\\u043e\\u0434\\u0435\\u043b\\u0438                             \\u0432\\u0438\\u0437\\u0443\\u0430\\u043b\\u0438\\u0437\\u0430\\u0446\\u0438\\u044f \\u0434\\u0430\\u043d\\u043d\\u044b\\u0445, \\u043f\\u043e\\u043b\\u0443\\u0447\\u0435\\u043d\\u043d\\u044b\\u0445 \\u0432 \\u0440\\u0435\\u0437\\u0443\\u043b\\u044c\\u0442\\u0430\\u0442\\u0435 \\u043f\\u0440\\u0438\\u043c\\u0435\\u043d\\u0435\\u043d\\u0438\\u044f \\u0430\\u043b\\u0433\\u043e\\u0440\\u0438\\u0442\\u043c\\u043e\\u0432 \\u043c\\u0430\\u0448\\u0438\\u043d\\u043d\\u043e\\u0433\\u043e \\u043e\\u0431\\u0443\\u0447\\u0435\\u043d\\u0438\\u044f               \\u0440\\u0430\\u0437\\u0432\\u0438\\u0432\\u0430\\u0442\\u044c \\u0438 \\u043f\\u043e\\u0434\\u0434\\u0435\\u0440\\u0436\\u0438\\u0432\\u0430\\u0442\\u044c \\u043f\\u043e\\u043b\\u043d\\u044b\\u0439 \\u0446\\u0438\\u043a\\u043b \\u0440\\u0430\\u0437\\u0440\\u0430\\u0431\\u043e\\u0442\\u043a\\u0438 ds/ml-\\u043f\\u0440\\u043e\\u0434\\u0443\\u043a\\u0442\\u043e\\u0432 - \\u043e\\u0442 \\u043f\\u043e\\u0441\\u0442\\u0430\\u043d\\u043e\\u0432\\u043a\\u0438 \\u0437\\u0430\\u0434\\u0430\\u0447\\u0438 \\u0434\\u043e \\u0432\\u044b\\u0432\\u0435\\u0434\\u0435\\u043d\\u0438\\u044f \\u043c\\u043e\\u0434\\u0435\\u043b\\u0435\\u0439 \\u0432 production.  \\u043c\\u044b \\u0431\\u0443\\u0434\\u0435\\u043c \\u0440\\u0430\\u0434\\u044b \\u0440\\u0430\\u0441\\u0441\\u043c\\u043e\\u0442\\u0440\\u0435\\u0442\\u044c \\u0442\\u0432\\u043e\\u044e \\u043a\\u0430\\u043d\\u0434\\u0438\\u0434\\u0430\\u0442\\u0443\\u0440\\u0443, \\u0435\\u0441\\u043b\\u0438 \\u0443 \\u0442\\u0435\\u0431\\u044f \\u0435\\u0441\\u0442\\u044c:  \\u043e\\u043f\\u044b\\u0442 \\u0440\\u0430\\u0431\\u043e\\u0442\\u044b \\u0432 \\u0440\\u043e\\u043b\\u0438 data scientist \\u043e\\u0442 2-3 \\u043b\\u0435\\u0442. \\u0443\\u0432\\u0435\\u0440\\u0435\\u043d\\u043d\\u043e\\u0435 \\u0432\\u043b\\u0430\\u0434\\u0435\\u043d\\u0438\\u0435 python \\u0438 \\u043e\\u0441\\u043d\\u043e\\u0432\\u043d\\u044b\\u043c\\u0438 ml-\\u0431\\u0438\\u0431\\u043b\\u0438\\u043e\\u0442\\u0435\\u043a\\u0430\\u043c\\u0438. \\u0445\\u043e\\u0440\\u043e\\u0448\\u0435\\u0435 \\u043f\\u043e\\u043d\\u0438\\u043c\\u0430\\u043d\\u0438\\u0435 \\u043f\\u0440\\u0438\\u043d\\u0446\\u0438\\u043f\\u043e\\u0432 \\u0440\\u0430\\u0431\\u043e\\u0442\\u044b ml-\\u0430\\u043b\\u0433\\u043e\\u0440\\u0438\\u0442\\u043c\\u043e\\u0432, \\u043e\\u043f\\u044b\\u0442 \\u0438\\u0445 \\u043f\\u0440\\u0438\\u043c\\u0435\\u043d\\u0435\\u043d\\u0438\\u044f \\u043d\\u0430 \\u043f\\u0440\\u0430\\u043a\\u0442\\u0438\\u043a\\u0435. \\u043d\\u0430\\u0432\\u044b\\u043a\\u0438 \\u0440\\u0430\\u0431\\u043e\\u0442\\u044b \\u0441 sql \\u0438\\u043b\\u0438 spark (\\u043c\\u043e\\u0436\\u0435\\u0442\\u0435 \\u0441 \\u0438\\u0445 \\u043f\\u043e\\u043c\\u043e\\u0449\\u044c\\u044e \\u0441\\u0430\\u043c\\u043e\\u0441\\u0442\\u043e\\u044f\\u0442\\u0435\\u043b\\u044c\\u043d\\u043e \\u0441\\u043e\\u0431\\u0440\\u0430\\u0442\\u044c \\u0438 \\u043e\\u0431\\u0440\\u0430\\u0431\\u043e\\u0442\\u0430\\u0442\\u044c \\u0434\\u0430\\u043d\\u043d\\u044b\\u0435). \\u0437\\u043d\\u0430\\u043d\\u0438\\u0435 \\u043e\\u0441\\u043d\\u043e\\u0432 \\u0441\\u0442\\u0430\\u0442\\u0438\\u0441\\u0442\\u0438\\u043a\\u0438 (\\u043f\\u043e\\u043d\\u0438\\u043c\\u0430\\u043d\\u0438\\u0435, \\u0447\\u0442\\u043e \\u0442\\u0430\\u043a\\u043e\\u0435 p-value, \\u0438 \\u0443\\u043c\\u0435\\u043d\\u0438\\u0435 \\u043f\\u0440\\u043e\\u0432\\u0435\\u0440\\u044f\\u0442\\u044c \\u0441\\u0442\\u0430\\u0442\\u0438\\u0441\\u0442\\u0438\\u0447\\u0435\\u0441\\u043a\\u0438\\u0435 \\u0433\\u0438\\u043f\\u043e\\u0442\\u0435\\u0437\\u044b). \\u0433\\u043e\\u0442\\u043e\\u0432\\u043d\\u043e\\u0441\\u0442\\u044c \\u043e\\u0431\\u0449\\u0430\\u0442\\u044c\\u0441\\u044f \\u0441 \\u0431\\u0438\\u0437\\u043d\\u0435\\u0441\\u043e\\u043c \\u0438 \\u043e\\u0442\\u0432\\u0435\\u0447\\u0430\\u0442\\u044c end-to-end \\u0437\\u0430 \\u0437\\u0430\\u0434\\u0430\\u0447\\u0443.  \\u0431\\u0443\\u0434\\u0435\\u0442 \\u043f\\u043b\\u044e\\u0441\\u043e\\u043c, \\u0435\\u0441\\u043b\\u0438 \\u0442\\u044b:  \\u043f\\u0438\\u0441\\u0430\\u043b(\\u0430) production-\\u043a\\u043e\\u0434. \\u0440\\u0430\\u0431\\u043e\\u0442\\u0430\\u043b(\\u0430) \\u0441 hadoop \\u0438\\u043b\\u0438 \\u0434\\u0440\\u0443\\u0433\\u0438\\u043c\\u0438 \\u0438\\u043d\\u0441\\u0442\\u0440\\u0443\\u043c\\u0435\\u043d\\u0442\\u0430\\u043c\\u0438 \\u043d\\u0430\\u0448\\u0435\\u0433\\u043e \\u0441\\u0442\\u0435\\u043a\\u0430.  \\u043d\\u0430\\u0448 \\u0441\\u0442\\u0435\\u043a:  python + ml libs (pandas, scikit-learn, catboost, pytorch). hadoop (pyspark, hive, hdfs). mlflow, argo workflows, airflow, jupyterhub, k8s.  \\u0447\\u0442\\u043e \\u043c\\u044b \\u043f\\u0440\\u0435\\u0434\\u043b\\u0430\\u0433\\u0430\\u0435\\u043c:   \\u0442\\u0440\\u0443\\u0434\\u043e\\u0443\\u0441\\u0442\\u0440\\u043e\\u0439\\u0441\\u0442\\u0432\\u043e \\u0432 \\u0430\\u043a\\u043a\\u0440\\u0435\\u0434\\u0438\\u0442\\u043e\\u0432\\u0430\\u043d\\u043d\\u0443\\u044e \\u0438\\u0442-\\u043a\\u043e\\u043c\\u043f\\u0430\\u043d\\u0438\\u044e \\u0432\\u043e\\u0437\\u043c\\u043e\\u0436\\u043d\\u043e\\u0441\\u0442\\u044c \\u0440\\u0430\\u0431\\u043e\\u0442\\u0430\\u0442\\u044c \\u0434\\u0438\\u0441\\u0442\\u0430\\u043d\\u0446\\u0438\\u043e\\u043d\\u043d\\u043e \\u043d\\u0430 \\u0442\\u0435\\u0440\\u0440\\u0438\\u0442\\u043e\\u0440\\u0438\\u0438 \\u0440\\u0444 \\u0441\\u0438\\u043b\\u044c\\u043d\\u0443\\u044e \\u043a\\u043e\\u043c\\u0430\\u043d\\u0434\\u0443 \\u0438\\u0437 \\u0442\\u043e\\u043f\\u043e\\u0432\\u044b\\u0445 \\u0432\\u0443\\u0437\\u043e\\u0432, \\u0441 \\u043a\\u043e\\u0442\\u043e\\u0440\\u043e\\u0439 \\u043c\\u043e\\u0436\\u043d\\u043e \\u0440\\u0430\\u0441\\u0442\\u0438. \\u0441\\u0432\\u043e\\u0431\\u043e\\u0434\\u0443 \\u0432 \\u043f\\u0440\\u0438\\u043d\\u044f\\u0442\\u0438\\u0438 \\u0440\\u0435\\u0448\\u0435\\u043d\\u0438\\u0439, \\u0432\\u043e\\u0437\\u043c\\u043e\\u0436\\u043d\\u043e\\u0441\\u0442\\u044c \\u0432\\u043b\\u0438\\u044f\\u0442\\u044c \\u043d\\u0430 \\u043f\\u0440\\u043e\\u0446\\u0435\\u0441\\u0441 \\u0438 \\u0440\\u0435\\u0437\\u0443\\u043b\\u044c\\u0442\\u0430\\u0442. \\u0440\\u0430\\u0437\\u0432\\u0438\\u0442\\u043e\\u0435 \\u0432\\u043d\\u0443\\u0442\\u0440\\u0435\\u043d\\u043d\\u0435\\u0435 ds/da \\u043a\\u043e\\u043c\\u044c\\u044e\\u043d\\u0438\\u0442\\u0438 (100+ \\u0447\\u0435\\u043b\\u043e\\u0432\\u0435\\u043a) \\u0441 \\u0440\\u0435\\u0433\\u0443\\u043b\\u044f\\u0440\\u043d\\u044b\\u043c\\u0438 \\u043c\\u0438\\u0442\\u0430\\u043f\\u0430\\u043c\\u0438 \\u0438 \\u0432\\u0441\\u0442\\u0440\\u0435\\u0447\\u0430\\u043c\\u0438 \\u043f\\u043e \\u043e\\u0431\\u043c\\u0435\\u043d\\u0443 \\u043e\\u043f\\u044b\\u0442\\u043e\\u043c. \\u0435\\u0436\\u0435\\u0433\\u043e\\u0434\\u043d\\u044b\\u0439 \\u043f\\u0440\\u043e\\u0446\\u0435\\u0441\\u0441 \\u0440\\u0435\\u0432\\u044c\\u044e. \\u0434\\u0435\\u0441\\u044f\\u0442\\u043a\\u0438 \\u043f\\u0431\\u0430\\u0439\\u0442 \\u0440\\u0430\\u0437\\u043d\\u043e\\u043e\\u0431\\u0440\\u0430\\u0437\\u043d\\u044b\\u0445 \\u0434\\u0430\\u043d\\u043d\\u044b\\u0445 - \\u043e\\u0442 \\u043a\\u043b\\u0430\\u0441\\u0441\\u0438\\u0447\\u0435\\u0441\\u043a\\u0438\\u0445 \\u0442\\u0430\\u0431\\u043b\\u0438\\u0447\\u043d\\u044b\\u0445 \\u0434\\u043e \\u0433\\u0435\\u043e, \\u0433\\u0440\\u0430\\u0444\\u043e\\u0432, \\u043a\\u043b\\u0438\\u043a\\u0441\\u0442\\u0440\\u0438\\u043c\\u043e\\u0432, \\u0442\\u0435\\u043a\\u0441\\u0442\\u043e\\u0432 \\u0438 \\u043a\\u0430\\u0440\\u0442\\u0438\\u043d\\u043e\\u043a. \\u0440\\u0430\\u0437\\u0432\\u0438\\u0442\\u0443\\u044e mlops \\u0438\\u043d\\u0444\\u0440\\u0430\\u0441\\u0442\\u0440\\u0443\\u043a\\u0442\\u0443\\u0440\\u0443 \\u0438 \\u043f\\u0440\\u043e\\u0446\\u0435\\u0441\\u0441\\u044b, \\u043c\\u043e\\u0449\\u043d\\u044b\\u0439 \\u043a\\u043b\\u0430\\u0441\\u0442\\u0435\\u0440 \\u0441 gpu. \\u0432\\u043d\\u0435\\u0448\\u043d\\u0435\\u0435 \\u0438 \\u0432\\u043d\\u0443\\u0442\\u0440\\u0435\\u043d\\u043d\\u0435\\u0435 \\u043e\\u0431\\u0443\\u0447\\u0435\\u043d\\u0438\\u0435, \\u0443\\u0447\\u0430\\u0441\\u0442\\u0438\\u0435 \\u0432 \\u043c\\u0438\\u0442\\u0430\\u043f\\u0430\\u0445 \\u0438 \\u043a\\u043e\\u043d\\u0444\\u0435\\u0440\\u0435\\u043d\\u0446\\u0438\\u044f\\u0445. \\u043f\\u043e\\u043b\\u0438\\u0441 \\u0434\\u043e\\u0431\\u0440\\u043e\\u0432\\u043e\\u043b\\u044c\\u043d\\u043e\\u0433\\u043e \\u043c\\u0435\\u0434\\u0438\\u0446\\u0438\\u043d\\u0441\\u043a\\u043e\\u0433\\u043e \\u0441\\u0442\\u0440\\u0430\\u0445\\u043e\\u0432\\u0430\\u043d\\u0438\\u044f, \\u043e\\u0431\\u0441\\u043b\\u0443\\u0436\\u0438\\u0432\\u0430\\u0435\\u043c\\u044b\\u0439 \\u0432 \\u043b\\u0443\\u0447\\u0448\\u0438\\u0445 \\u043a\\u043b\\u0438\\u043d\\u0438\\u043a\\u0430\\u0445. \\u043a\\u043e\\u0440\\u043f\\u043e\\u0440\\u0430\\u0442\\u0438\\u0432\\u043d\\u044b\\u0435 \\u0441\\u043a\\u0438\\u0434\\u043a\\u0438 \\u043d\\u0430 \\u0444\\u0438\\u0442\\u043d\\u0435\\u0441, \\u043e\\u0431\\u0443\\u0447\\u0435\\u043d\\u0438\\u0435, \\u043f\\u0443\\u0442\\u0435\\u0448\\u0435\\u0441\\u0442\\u0432\\u0438\\u044f \\u0438 \\u0442.\\u043f. \\u0441\\u043b\\u0443\\u0436\\u0435\\u0431\\u043d\\u0443\\u044e \\u0441\\u043e\\u0442\\u043e\\u0432\\u0443\\u044e \\u0441\\u0432\\u044f\\u0437\\u044c.\"\n        ],\n        \"semantic_type\": \"\",\n        \"description\": \"\"\n      }\n    },\n    {\n      \"column\": \"description_lemmatized\",\n      \"properties\": {\n        \"dtype\": \"string\",\n        \"num_unique_values\": 559,\n        \"samples\": [\n          \"\\u043f\\u0440\\u0435\\u0434\\u0441\\u0442\\u043e\\u044f\\u0442\\u044c \\u0443\\u0447\\u0430\\u0441\\u0442\\u0432\\u043e\\u0432\\u0430\\u0442\\u044c \\u0440\\u0430\\u0437\\u0432\\u0438\\u0442\\u0438\\u0435 \\u0441\\u0438\\u0441\\u0442\\u0435\\u043c\\u0430 \\u0444\\u043e\\u0440\\u0434 \\u043c\\u043e\\u043d\\u0438\\u0442\\u043e\\u0440\\u0438\\u043d\\u0433 \\u0441\\u0431\\u0435\\u0440\\u0431\\u0430\\u043d\\u043a \\u043e\\u0431\\u0435\\u0441\\u043f\\u0435\\u0447\\u0438\\u0432\\u0430\\u0442\\u044c \\u0437\\u0430\\u0449\\u0438\\u0442\\u0430 \\u043a\\u043b\\u0438\\u0435\\u043d\\u0442 \\u0431\\u0430\\u043d\\u043a \\u0432\\u0435\\u0441\\u044c \\u043a\\u0430\\u043d\\u0430\\u043b \\u043e\\u0431\\u0441\\u043b\\u0443\\u0436\\u0438\\u0432\\u0430\\u043d\\u0438\\u0435 \\u043c\\u043e\\u0431\\u0438\\u043b\\u044c\\u043d\\u044b\\u0439 \\u043f\\u0440\\u0438\\u043b\\u043e\\u0436\\u0435\\u043d\\u0438\\u0435 \\u043f\\u043e\\u043a\\u0443\\u043f\\u043a\\u0430 \\u0438\\u043d\\u0442\\u0435\\u0440\\u043d\\u0435\\u0442 \\u0432\\u0438\\u0437\\u0438\\u0442 \\u043a\\u043b\\u0438\\u0435\\u043d\\u0442 \\u043e\\u0444\\u0438\\u0441 \\u0441\\u0438\\u0441\\u0442\\u0435\\u043c\\u0430 \\u043f\\u0440\\u0438\\u0437\\u043d\\u0430\\u0432\\u0430\\u0442\\u044c \\u0445\\u043e\\u0440\\u043e\\u0448\\u0438\\u0439 \\u043c\\u0438\\u0440 17th annual 2 21 cyber security global excellence awards winners fraud prevention gold winner sberbank anti fraud system fraud prevention editor s choice sberbank \\u043d\\u0430\\u0448 \\u043a\\u043e\\u043c\\u0430\\u043d\\u0434\\u0430 \\u043f\\u0440\\u0438\\u043d\\u0438\\u043c\\u0430\\u0442\\u044c \\u0430\\u043a\\u0442\\u0438\\u0432\\u043d\\u044b\\u0439 \\u0443\\u0447\\u0430\\u0441\\u0442\\u0438\\u0435 \\u0440\\u0430\\u0437\\u0432\\u0438\\u0442\\u0438\\u0435 \\u0441\\u0438\\u0441\\u0442\\u0435\\u043c\\u0430 \\u0441\\u043e\\u0441\\u0440\\u0435\\u0434\\u043e\\u0442\\u0430\\u0447\\u0438\\u0432\\u0430\\u0442\\u044c \\u0440\\u0430\\u0437\\u0440\\u0430\\u0431\\u043e\\u0442\\u043a\\u0430 \\u0432\\u043d\\u0435\\u0434\\u0440\\u0435\\u043d\\u0438\\u0435 ai \\u043c\\u043e\\u0434\\u0435\\u043b\\u044c \\u0432\\u044b\\u044f\\u0432\\u043b\\u0435\\u043d\\u0438\\u0435 \\u043c\\u043e\\u0448\\u0435\\u043d\\u043d\\u0438\\u0447\\u0435\\u0441\\u0442\\u0432\\u043e \\u043f\\u0440\\u0435\\u0434\\u043e\\u0441\\u0442\\u0430\\u0432\\u043b\\u044f\\u0442\\u044c\\u0441\\u044f \\u0443\\u043d\\u0438\\u043a\\u0430\\u043b\\u044c\\u043d\\u044b\\u0439 \\u0432\\u043e\\u0437\\u043c\\u043e\\u0436\\u043d\\u043e\\u0441\\u0442\\u044c \\u043f\\u043e\\u0440\\u0430\\u0431\\u043e\\u0442\\u0430\\u0442\\u044c \\u0434\\u0435\\u0439\\u0441\\u0442\\u0432\\u0438\\u0442\\u0435\\u043b\\u044c\\u043d\\u043e \\u0431\\u043e\\u043b\\u044c\\u0448\\u043e\\u0439 \\u043e\\u0431\\u044a\\u0435\\u043c \\u0434\\u0430\\u043d\\u043d\\u044b\\u0435 \\u0448\\u0438\\u0440\\u043e\\u043a\\u0438\\u0439 \\u043f\\u0435\\u0440\\u0435\\u0447\\u0435\\u043d\\u044c \\u043f\\u0435\\u0440\\u0435\\u0434\\u043e\\u0432\\u043e\\u0439 \\u0442\\u0435\\u0445\\u043d\\u043e\\u043b\\u043e\\u0433\\u0438\\u044f \\u0441\\u0434\\u0435\\u043b\\u0430\\u0442\\u044c \\u0437\\u043d\\u0430\\u0447\\u0438\\u043c\\u044b\\u0439 \\u0432\\u043a\\u043b\\u0430\\u0434 \\u0431\\u043e\\u0440\\u044c\\u0431\\u0430 \\u043c\\u043e\\u0448\\u0435\\u043d\\u043d\\u0438\\u0447\\u0435\\u0441\\u0442\\u0432\\u043e \\u0441\\u0442\\u0440\\u0430\\u043d\\u0430 \\u0443\\u0447\\u0430\\u0441\\u0442\\u0432\\u043e\\u0432\\u0430\\u0442\\u044c \\u0440\\u0430\\u0437\\u0432\\u0438\\u0442\\u0438\\u0435 \\u0441\\u0438\\u0441\\u0442\\u0435\\u043c\\u0430 \\u0444\\u043e\\u0440\\u0434 \\u043c\\u043e\\u043d\\u0438\\u0442\\u043e\\u0440\\u0438\\u043d\\u0433 \\u0441\\u0431\\u0435\\u0440\\u0431\\u0430\\u043d\\u043a \\u043e\\u0431\\u0435\\u0441\\u043f\\u0435\\u0447\\u0438\\u0432\\u0430\\u0442\\u044c \\u0437\\u0430\\u0449\\u0438\\u0442\\u0430 \\u043a\\u043b\\u0438\\u0435\\u043d\\u0442 \\u0431\\u0430\\u043d\\u043a \\u0432\\u0435\\u0441\\u044c \\u043a\\u0430\\u043d\\u0430\\u043b \\u043e\\u0431\\u0441\\u043b\\u0443\\u0436\\u0438\\u0432\\u0430\\u043d\\u0438\\u0435 \\u043c\\u043e\\u0431\\u0438\\u043b\\u044c\\u043d\\u044b\\u0439 \\u043f\\u0440\\u0438\\u043b\\u043e\\u0436\\u0435\\u043d\\u0438\\u0435 \\u043f\\u043e\\u043a\\u0443\\u043f\\u043a\\u0430 \\u0438\\u043d\\u0442\\u0435\\u0440\\u043d\\u0435\\u0442 \\u0432\\u0438\\u0437\\u0438\\u0442 \\u043a\\u043b\\u0438\\u0435\\u043d\\u0442 \\u043e\\u0444\\u0438\\u0441 \\u043e\\u0431\\u044f\\u0437\\u0430\\u043d\\u043d\\u043e\\u0441\\u0442\\u044c \\u0440\\u0430\\u0437\\u0440\\u0430\\u0431\\u043e\\u0442\\u043a\\u0430 \\u0440\\u0430\\u0437\\u0432\\u0438\\u0442\\u0438\\u0435 \\u043c\\u043e\\u0434\\u0435\\u043b\\u044c \\u0430\\u043b\\u0433\\u043e\\u0440\\u0438\\u0442\\u043c \\u043f\\u0440\\u043e\\u0442\\u0438\\u0432\\u043e\\u0434\\u0435\\u0439\\u0441\\u0442\\u0432\\u0438\\u0435 \\u043c\\u043e\\u0448\\u0435\\u043d\\u043d\\u0438\\u0447\\u0435\\u0441\\u0442\\u0432\\u043e \\u0441\\u043a\\u043e\\u0440\\u0438\\u043d\\u0433 \\u0442\\u0440\\u0430\\u043d\\u0437\\u0430\\u043a\\u0446\\u0438\\u044f \\u0432\\u044b\\u044f\\u0432\\u043b\\u0435\\u043d\\u0438\\u0435 \\u0444\\u0440\\u043e\\u0434 \\u043e\\u0442\\u043c\\u044b\\u0432\\u0430\\u043d\\u0438\\u0435 \\u0441\\u0440\\u0435\\u0434\\u0441\\u0442\\u0432\\u043e \\u043e\\u0446\\u0435\\u043d\\u043a\\u0430 \\u0440\\u0438\\u0441\\u043a \\u0441\\u0443\\u0449\\u043d\\u043e\\u0441\\u0442\\u044c \\u043a\\u043b\\u0438\\u0435\\u043d\\u0442 \\u0443\\u0441\\u0442\\u0440\\u043e\\u0439\\u0441\\u0442\\u0432\\u043e \\u043f\\u0440 \\u0430\\u043d\\u0430\\u043b\\u0438\\u0437 \\u0432\\u044b\\u044f\\u0432\\u043b\\u0435\\u043d\\u0438\\u0435 \\u0441\\u0432\\u044f\\u0437\\u044c \\u0442\\u0440\\u0430\\u043d\\u0437\\u0430\\u043a\\u0446\\u0438\\u043e\\u043d\\u043d\\u044b\\u0439 \\u0430\\u043d\\u043e\\u043c\\u0430\\u043b\\u0438\\u044f \\u043f\\u0440 \\u043c\\u043e\\u043d\\u0438\\u0442\\u043e\\u0440\\u0438\\u043d\\u0433 \\u0440\\u0435\\u0433\\u0443\\u043b\\u044f\\u0440\\u043d\\u044b\\u0439 \\u043a\\u043e\\u043d\\u0442\\u0440\\u043e\\u043b\\u044c \\u043a\\u0430\\u0447\\u0435\\u0441\\u0442\\u0432\\u043e \\u0440\\u0430\\u0431\\u043e\\u0442\\u0430\\u0442\\u044c \\u043f\\u0440\\u043e\\u043c \\u043c\\u043e\\u0434\\u0435\\u043b\\u044c \\u0430\\u043d\\u0430\\u043b\\u0438\\u0437 \\u0434\\u043e\\u0441\\u0442\\u0443\\u043f\\u043d\\u044b\\u0439 \\u0438\\u0441\\u0442\\u043e\\u0447\\u043d\\u0438\\u043a \\u0434\\u0430\\u043d\\u043d\\u044b\\u0435 \\u0438\\u043d\\u0444\\u043e\\u0440\\u043c\\u0430\\u0446\\u0438\\u044f \\u043e\\u0446\\u0435\\u043d\\u043a\\u0430 \\u043a\\u0430\\u0447\\u0435\\u0441\\u0442\\u0432\\u043e \\u0440\\u0435\\u0448\\u0435\\u043d\\u0438\\u0435 \\u0437\\u0430\\u0434\\u0430\\u0447\\u0430 \\u043e\\u0431\\u0441\\u0443\\u0436\\u0434\\u0435\\u043d\\u0438\\u0435 \\u0437\\u0430\\u0434\\u0430\\u0447\\u0430 \\u043c\\u0435\\u0442\\u043e\\u0434 \\u0440\\u0435\\u0448\\u0435\\u043d\\u0438\\u0435 \\u0441\\u043e\\u0432\\u043c\\u0435\\u0441\\u0442\\u043d\\u043e \\u0444\\u0440\\u043e\\u0434 \\u0430\\u043d\\u0430\\u043b\\u0438\\u0442\\u0438\\u043a \\u0431\\u0438\\u0437\\u043d\\u0435\\u0441 \\u0437\\u0430\\u043a\\u0430\\u0437\\u0447\\u0438\\u043a \\u0444\\u043e\\u0440\\u043c\\u0443\\u043b\\u0438\\u0440\\u043e\\u0432\\u0430\\u043d\\u0438\\u0435 \\u0433\\u0438\\u043f\\u043e\\u0442\\u0435\\u0437\\u0430 \\u043f\\u0440\\u043e\\u0432\\u0435\\u0440\\u043a\\u0430 \\u043f\\u043e\\u0441\\u0442\\u0440\\u043e\\u0435\\u043d\\u0438\\u0435 \\u0432\\u043e\\u0441\\u043f\\u0440\\u043e\\u0438\\u0437\\u0432\\u043e\\u0434\\u0438\\u043c\\u044b\\u0439 \\u043f\\u0435\\u0440\\u0435\\u0438\\u0441\\u043f\\u043e\\u043b\\u044c\\u0437\\u0443\\u0435\\u043c\\u044b\\u0439 \\u0440\\u0435\\u0448\\u0435\\u043d\\u0438\\u0435 \\u0440\\u0430\\u0431\\u043e\\u0442\\u0430 \\u0434\\u0430\\u043d\\u043d\\u044b\\u0439 \\u043c\\u043e\\u0434\\u0435\\u043b\\u044c \\u0432\\u0437\\u0430\\u0438\\u043c\\u043e\\u0434\\u0435\\u0439\\u0441\\u0442\\u0432\\u0438\\u0435 \\u043a\\u043e\\u043c\\u0430\\u043d\\u0434\\u0430 \\u0438\\u043d\\u0436\\u0435\\u043d\\u0435\\u0440 \\u0443\\u0447\\u0430\\u0441\\u0442\\u0438\\u0435 \\u0438\\u043d\\u0442\\u0435\\u0433\\u0440\\u0430\\u0446\\u0438\\u044f \\u0440\\u0435\\u0448\\u0435\\u043d\\u0438\\u0435 \\u043f\\u0440\\u043e\\u043c\\u044b\\u0448\\u043b\\u0435\\u043d\\u043d\\u044b\\u0439 \\u044d\\u043a\\u0441\\u043f\\u043b\\u0443\\u0430\\u0442\\u0430\\u0446\\u0438\\u044f \\u0442\\u0440\\u0435\\u0431\\u043e\\u0432\\u0430\\u043d\\u0438\\u0435 \\u0445\\u043e\\u0440\\u043e\\u0448\\u0438\\u0439 \\u0437\\u043d\\u0430\\u043d\\u0438\\u0435 python 3 \\u043e\\u043f\\u044b\\u0442 \\u0440\\u0430\\u0431\\u043e\\u0442\\u0430 pandas sql spark pyspark hive \\u0434\\u0440 \\u0438\\u043d\\u0441\\u0442\\u0440\\u0443\\u043c\\u0435\\u043d\\u0442 \\u0430\\u043d\\u0430\\u043b\\u0438\\u0437 \\u043c\\u0430\\u043b\\u044b\\u0439 \\u0431\\u043e\\u043b\\u044c\\u0448\\u043e\\u0439 \\u0434\\u0430\\u043d\\u043d\\u044b\\u0435 \\u043e\\u043f\\u044b\\u0442 \\u0438\\u0441\\u043f\\u043e\\u043b\\u044c\\u0437\\u043e\\u0432\\u0430\\u043d\\u0438\\u0435 ml \\u0431\\u0438\\u0431\\u043b\\u0438\\u043e\\u0442\\u0435\\u043a\\u0430 \\u0430\\u043b\\u0433\\u043e\\u0440\\u0438\\u0442\\u043c python xgboost lightgbm catboost sklearn \\u043f\\u043e\\u043d\\u0438\\u043c\\u0430\\u043d\\u0438\\u0435 \\u043e\\u0441\\u043e\\u0431\\u0435\\u043d\\u043d\\u043e\\u0441\\u0442\\u044c \\u0433\\u0440\\u0430\\u043d\\u0438\\u0446\\u0430 \\u043f\\u0440\\u0438\\u043c\\u0435\\u043d\\u0438\\u043c\\u043e\\u0441\\u0442\\u044c \\u0437\\u043d\\u0430\\u043d\\u0438\\u0435 \\u043c\\u0430\\u0442 \\u0441\\u0442\\u0430\\u0442\\u0438\\u0441\\u0442\\u0438\\u043a\\u0430 \\u0442\\u0435\\u043e\\u0440\\u0438\\u044f \\u0432\\u0435\\u0440\\u043e\\u044f\\u0442\\u043d\\u043e\\u0441\\u0442\\u044c \\u043b\\u0438\\u043d\\u0435\\u0439\\u043d\\u044b\\u0439 \\u0430\\u043b\\u0433\\u0435\\u0431\\u0440\\u0430 \\u043c\\u0430\\u0442\\u0435\\u043c\\u0430\\u0442\\u0438\\u0447\\u0435\\u0441\\u043a\\u0438\\u0439 \\u0430\\u043d\\u0430\\u043b\\u0438\\u0437 \\u043e\\u043f\\u044b\\u0442 \\u0432\\u043d\\u0435\\u0434\\u0440\\u0435\\u043d\\u0438\\u0435 ml \\u0440\\u0435\\u0448\\u0435\\u043d\\u0438\\u0435 \\u0431\\u0438\\u0437\\u043d\\u0435\\u0441 \\u043f\\u0440\\u043e\\u0446\\u0435\\u0441\\u0441 \\u0434\\u043e\\u0432\\u0435\\u0434\\u0435\\u043d\\u0438\\u0435 \\u043f\\u0440\\u043e\\u043c \\u043f\\u043e\\u0441\\u043b\\u0435\\u0434\\u0443\\u044e\\u0449\\u0438\\u0439 \\u043c\\u043e\\u043d\\u0438\\u0442\\u043e\\u0440\\u0438\\u043d\\u0433 \\u0445\\u043e\\u0440\\u043e\\u0448\\u0438\\u0439 \\u043f\\u043e\\u043d\\u0438\\u043c\\u0430\\u043d\\u0438\\u0435 \\u043c\\u0435\\u0442\\u043e\\u0434 \\u043c\\u0430\\u0448\\u0438\\u043d\\u043d\\u044b\\u0439 \\u043e\\u0431\\u0443\\u0447\\u0435\\u043d\\u0438\\u0435 \\u0442\\u043e\\u0447\\u043a\\u0430 \\u0437\\u0440\\u0435\\u043d\\u0438\\u0435 \\u043c\\u0430\\u0442\\u0435\\u043c\\u0430\\u0442\\u0438\\u043a\\u0430 \\u0443\\u043c\\u0435\\u043d\\u0438\\u0435 \\u0430\\u0434\\u0430\\u043f\\u0442\\u0438\\u0440\\u043e\\u0432\\u0430\\u0442\\u044c \\u043a\\u043e\\u043d\\u043a\\u0440\\u0435\\u0442\\u043d\\u044b\\u0439 \\u0437\\u0430\\u0434\\u0430\\u0447\\u0430 \\u043e\\u043f\\u044b\\u0442 \\u0440\\u0430\\u0431\\u043e\\u0442\\u0430 git \\u043e\\u043f\\u044b\\u0442 \\u0440\\u0430\\u0431\\u043e\\u0442\\u0430 linux \\u0437\\u043d\\u0430\\u043d\\u0438\\u0435 \\u0430\\u043d\\u0433\\u043b\\u0438\\u0439\\u0441\\u043a\\u0438\\u0439 \\u044f\\u0437\\u044b\\u043a \\u0447\\u0442\\u0435\\u043d\\u0438\\u0435 \\u0434\\u043e\\u043a\\u0443\\u043c\\u0435\\u043d\\u0442\\u0430\\u0446\\u0438\\u044f \\u0441\\u0442\\u0430\\u0442\\u044c\\u044f \\u043f\\u043b\\u044e\\u0441 \\u0437\\u043d\\u0430\\u043d\\u0438\\u0435 scala \\u0437\\u043d\\u0430\\u043d\\u0438\\u0435 \\u0444\\u0440\\u0435\\u0439\\u043c\\u0432\\u043e\\u0440\\u043a\\u043e\\u0432 deeplearning keras tensorflow pytorch \\u043e\\u043f\\u044b\\u0442 \\u0430\\u0432\\u0442\\u043e\\u043c\\u0430\\u0442\\u0438\\u0437\\u0430\\u0446\\u0438\\u044f \\u043f\\u0430\\u0439\\u043f\\u043b\\u0430\\u0439\\u043d \\u0440\\u0430\\u0431\\u043e\\u0442\\u0430 \\u0434\\u0430\\u043d\\u043d\\u044b\\u0435 airflow \\u0434\\u0440 \\u0442\\u0430\\u043a\\u0436\\u0435 ml \\u043f\\u0430\\u0439\\u043f\\u043b\\u0430\\u0439\\u043d dvc \\u0434\\u0440 \\u043e\\u043f\\u044b\\u0442 \\u0440\\u0430\\u0431\\u043e\\u0442\\u0430 automl \\u0443\\u0441\\u043b\\u043e\\u0432\\u0438\\u0435 \\u043c\\u043e\\u043b\\u043e\\u0434\\u043e\\u0439 \\u0430\\u043a\\u0442\\u0438\\u0432\\u043d\\u044b\\u0439 \\u043a\\u043e\\u043c\\u0430\\u043d\\u0434\\u0430 \\u0441\\u043e\\u0441\\u0442\\u043e\\u044f\\u0442\\u044c \\u043f\\u0440\\u0435\\u0438\\u043c\\u0443\\u0449\\u0435\\u0441\\u0442\\u0432\\u0435\\u043d\\u043d\\u043e ds de \\u043d\\u0430\\u043b\\u0438\\u0447\\u0438\\u0435 \\u043c\\u043e\\u0449\\u043d\\u044b\\u0439 \\u043a\\u043b\\u0430\\u0441\\u0442\\u0435\\u0440 \\u0441\\u0440\\u0435\\u0434\\u0430 \\u0440\\u0430\\u0437\\u0440\\u0430\\u0431\\u043e\\u0442\\u043a\\u0430 \\u0432\\u043a\\u043b\\u044e\\u0447\\u0430\\u044f gpu \\u0432\\u043e\\u0437\\u043c\\u043e\\u0436\\u043d\\u043e\\u0441\\u0442\\u044c \\u043f\\u043e\\u0440\\u0430\\u0431\\u043e\\u0442\\u0430\\u0442\\u044c \\u0434\\u0435\\u0439\\u0441\\u0442\\u0432\\u0438\\u0442\\u0435\\u043b\\u044c\\u043d\\u043e \\u0431\\u043e\\u043b\\u044c\\u0448\\u043e\\u0439 \\u043e\\u0431\\u044a\\u0435\\u043c \\u0434\\u0430\\u043d\\u043d\\u044b\\u0435 \\u0441\\u0434\\u0435\\u043b\\u0430\\u0442\\u044c \\u0437\\u043d\\u0430\\u0447\\u0438\\u043c\\u044b\\u0439 \\u0432\\u043a\\u043b\\u0430\\u0434 \\u0431\\u043e\\u0440\\u044c\\u0431\\u0430 \\u043c\\u043e\\u0448\\u0435\\u043d\\u043d\\u0438\\u0447\\u0435\\u0441\\u0442\\u0432\\u043e \\u0441\\u0442\\u0440\\u0430\\u043d\\u0430\"\n        ],\n        \"semantic_type\": \"\",\n        \"description\": \"\"\n      }\n    },\n    {\n      \"column\": \"salary_from\",\n      \"properties\": {\n        \"dtype\": \"number\",\n        \"std\": 75270.64255005668,\n        \"min\": 25000.0,\n        \"max\": 350000.0,\n        \"num_unique_values\": 23,\n        \"samples\": [\n          350000.0\n        ],\n        \"semantic_type\": \"\",\n        \"description\": \"\"\n      }\n    },\n    {\n      \"column\": \"salary_to\",\n      \"properties\": {\n        \"dtype\": \"number\",\n        \"std\": 115406.30460267521,\n        \"min\": 30000.0,\n        \"max\": 550000.0,\n        \"num_unique_values\": 18,\n        \"samples\": [\n          450000.0\n        ],\n        \"semantic_type\": \"\",\n        \"description\": \"\"\n      }\n    },\n    {\n      \"column\": \"salary_bin\",\n      \"properties\": {\n        \"dtype\": \"category\",\n        \"num_unique_values\": 5,\n        \"samples\": [\n          \"\\u0411\\u043e\\u043b\\u044c\\u0448\\u0435 300 \\u0442\\u044b\\u0441\\u044f\\u0447\"\n        ],\n        \"semantic_type\": \"\",\n        \"description\": \"\"\n      }\n    },\n    {\n      \"column\": \"key_skills_from_key_skills_field\",\n      \"properties\": {\n        \"dtype\": \"category\",\n        \"num_unique_values\": 271,\n        \"samples\": [\n          \"\\u041e\\u0446\\u0435\\u043d\\u043a\\u0430 \\u0440\\u0438\\u0441\\u043a\\u043e\\u0432, \\u0421\\u0442\\u0430\\u0442\\u0438\\u0441\\u0442\\u0438\\u0447\\u0435\\u0441\\u043a\\u0438\\u0439 \\u0430\\u043d\\u0430\\u043b\\u0438\\u0437, \\u0423\\u043f\\u0440\\u0430\\u0432\\u043b\\u0435\\u043d\\u0438\\u0435 \\u0440\\u0438\\u0441\\u043a\\u0430\\u043c\\u0438, \\u041c\\u0430\\u0442\\u0435\\u043c\\u0430\\u0442\\u0438\\u0447\\u0435\\u0441\\u043a\\u043e\\u0435 \\u043c\\u043e\\u0434\\u0435\\u043b\\u0438\\u0440\\u043e\\u0432\\u0430\\u043d\\u0438\\u0435, PD, LGD, EAD, SQL, \\u041f\\u043e\\u0440\\u0442\\u0444\\u0435\\u043b\\u044c\\u043d\\u044b\\u0435 \\u0440\\u0438\\u0441\\u043a\\u0438, \\u043a\\u0440\\u0435\\u0434\\u0438\\u0442\\u043d\\u044b\\u0435 \\u0440\\u0438\\u0441\\u043a\\u0438\"\n        ],\n        \"semantic_type\": \"\",\n        \"description\": \"\"\n      }\n    },\n    {\n      \"column\": \"hard_skills_from_description\",\n      \"properties\": {\n        \"dtype\": \"category\",\n        \"num_unique_values\": 7,\n        \"samples\": [\n          \"\\u042e\\u043d\\u0438\\u0442-\\u044d\\u043a\\u043e\\u043d\\u043e\\u043c\\u0438\\u043a\\u0430\"\n        ],\n        \"semantic_type\": \"\",\n        \"description\": \"\"\n      }\n    },\n    {\n      \"column\": \"soft_skills_from_description\",\n      \"properties\": {\n        \"dtype\": \"category\",\n        \"num_unique_values\": 19,\n        \"samples\": [\n          \"\\u041f\\u0440\\u0435\\u0437\\u0435\\u043d\\u0442\\u0430\\u0446\\u0438\\u044f \\u0440\\u0435\\u0437\\u0443\\u043b\\u044c\\u0442\\u0430\\u0442\\u043e\\u0432\"\n        ],\n        \"semantic_type\": \"\",\n        \"description\": \"\"\n      }\n    }\n  ]\n}"
            }
          },
          "metadata": {},
          "execution_count": 6
        }
      ]
    },
    {
      "cell_type": "markdown",
      "source": [
        "В датасете представлено 662 вакансии Data Scince специалистов. В столбцах department, salary_from, salary_to, key_skills_from_key_skills_field, hard_skills_from_description и soft_skills_from_description есть пропуски. Значения типов данных корректны."
      ],
      "metadata": {
        "id": "kTh_9kc57t2O"
      }
    },
    {
      "cell_type": "markdown",
      "source": [
        "# 2 Предобработка данных"
      ],
      "metadata": {
        "id": "3wz3isyg9JNy"
      }
    },
    {
      "cell_type": "markdown",
      "source": [
        "## 2.1 Проверка типов данных"
      ],
      "metadata": {
        "id": "p0tOrvxndBB0"
      }
    },
    {
      "cell_type": "markdown",
      "source": [
        "Проверим типы данных в датафрейме и при необходимости заменим на соотвествующие"
      ],
      "metadata": {
        "id": "mBTlGcVOg8bd"
      }
    },
    {
      "cell_type": "code",
      "source": [
        "# проверим типы в датасете вакансий Аналитиков\n",
        "print('Типы данных датафрейма вакансий Аналитиков \\n', data_da.dtypes, '\\n')\n",
        "\n",
        "# проверим типы в датасете вакансий специалистов Data Science\n",
        "print('Типы данны датафрейма вакансий специалистов DS \\n', data_ds.dtypes)"
      ],
      "metadata": {
        "colab": {
          "base_uri": "https://localhost:8080/"
        },
        "id": "K5q95ahNg4_Q",
        "outputId": "63cda8b3-676d-4af7-e633-1852398b5460"
      },
      "execution_count": 7,
      "outputs": [
        {
          "output_type": "stream",
          "name": "stdout",
          "text": [
            "Типы данных датафрейма вакансий Аналитиков \n",
            " id                                           int64\n",
            "name                                        object\n",
            "published_at                        datetime64[ns]\n",
            "alternate_url                               object\n",
            "type                                        object\n",
            "employer                                    object\n",
            "department                                  object\n",
            "area                                        object\n",
            "experience                                  object\n",
            "key_skills                                  object\n",
            "schedule                                    object\n",
            "employment                                  object\n",
            "description                                 object\n",
            "description_lemmatized                      object\n",
            "salary_from                                float64\n",
            "salary_to                                  float64\n",
            "salary_bin                                  object\n",
            "key_skills_from_key_skills_field            object\n",
            "hard_skills_from_description                object\n",
            "soft_skills_from_description                object\n",
            "dtype: object \n",
            "\n",
            "Типы данны датафрейма вакансий специалистов DS \n",
            " id                                           int64\n",
            "name                                        object\n",
            "published_at                        datetime64[ns]\n",
            "alternate_url                               object\n",
            "type                                        object\n",
            "employer                                    object\n",
            "department                                  object\n",
            "area                                        object\n",
            "experience                                  object\n",
            "key_skills                                  object\n",
            "schedule                                    object\n",
            "employment                                  object\n",
            "description                                 object\n",
            "description_lemmatized                      object\n",
            "salary_from                                float64\n",
            "salary_to                                  float64\n",
            "salary_bin                                  object\n",
            "key_skills_from_key_skills_field            object\n",
            "hard_skills_from_description                object\n",
            "soft_skills_from_description                object\n",
            "dtype: object\n"
          ]
        }
      ]
    },
    {
      "cell_type": "markdown",
      "source": [
        "**Вывод:** Типы данных полностью соответствуют имеющимся значениям, поэтому нет необходимости их изменять."
      ],
      "metadata": {
        "id": "0jiP7Hg5iV2Z"
      }
    },
    {
      "cell_type": "markdown",
      "source": [
        "Добавим дополнительный столбец с датой добавления вакансии в каждый из датафреймов"
      ],
      "metadata": {
        "id": "wVLwmRXojXCK"
      }
    },
    {
      "cell_type": "code",
      "source": [
        "data_da['published_date'] = data_da.published_at.dt.date\n",
        "data_ds['published_date'] = data_ds.published_at.dt.date"
      ],
      "metadata": {
        "id": "UlSFVVmUjcf5"
      },
      "execution_count": 8,
      "outputs": []
    },
    {
      "cell_type": "markdown",
      "source": [
        "## 2.2 Поиск и устранение пропусков"
      ],
      "metadata": {
        "id": "DoRuhA7WiesW"
      }
    },
    {
      "cell_type": "markdown",
      "source": [
        "Посмотрим на долю пропусков в датафреймах"
      ],
      "metadata": {
        "id": "pLYQbnzZkEPo"
      }
    },
    {
      "cell_type": "code",
      "source": [
        "print('Доля пропусков в датафрейме вакансий Анатлитиков \\n', data_da.isna().mean().sort_values(ascending=False)*100)"
      ],
      "metadata": {
        "colab": {
          "base_uri": "https://localhost:8080/"
        },
        "id": "3uJhFxNShrO7",
        "outputId": "ab11a1a2-b0d8-4e6e-927b-477de5ddd064"
      },
      "execution_count": 9,
      "outputs": [
        {
          "output_type": "stream",
          "name": "stdout",
          "text": [
            "Доля пропусков в датафрейме вакансий Анатлитиков \n",
            " salary_to                          91.94\n",
            "salary_from                        90.97\n",
            "soft_skills_from_description       72.26\n",
            "department                         70.32\n",
            "hard_skills_from_description       63.87\n",
            "key_skills_from_key_skills_field   39.68\n",
            "id                                  0.00\n",
            "employment                          0.00\n",
            "salary_bin                          0.00\n",
            "description_lemmatized              0.00\n",
            "description                         0.00\n",
            "schedule                            0.00\n",
            "name                                0.00\n",
            "key_skills                          0.00\n",
            "experience                          0.00\n",
            "area                                0.00\n",
            "employer                            0.00\n",
            "type                                0.00\n",
            "alternate_url                       0.00\n",
            "published_at                        0.00\n",
            "published_date                      0.00\n",
            "dtype: float64\n"
          ]
        }
      ]
    },
    {
      "cell_type": "code",
      "source": [
        "print('Доля пропусков в датафрейме вакансий специалистов DS \\n', data_ds.isna().mean().sort_values(ascending=False)*100)"
      ],
      "metadata": {
        "colab": {
          "base_uri": "https://localhost:8080/"
        },
        "id": "njrlztFskYsp",
        "outputId": "626695ee-4f4d-4424-9653-21a11946ef42"
      },
      "execution_count": 10,
      "outputs": [
        {
          "output_type": "stream",
          "name": "stdout",
          "text": [
            "Доля пропусков в датафрейме вакансий специалистов DS \n",
            " salary_from                        91.99\n",
            "salary_to                          91.54\n",
            "soft_skills_from_description       70.69\n",
            "department                         59.21\n",
            "hard_skills_from_description       53.47\n",
            "key_skills_from_key_skills_field   46.98\n",
            "id                                  0.00\n",
            "employment                          0.00\n",
            "salary_bin                          0.00\n",
            "description_lemmatized              0.00\n",
            "description                         0.00\n",
            "schedule                            0.00\n",
            "name                                0.00\n",
            "key_skills                          0.00\n",
            "experience                          0.00\n",
            "area                                0.00\n",
            "employer                            0.00\n",
            "type                                0.00\n",
            "alternate_url                       0.00\n",
            "published_at                        0.00\n",
            "published_date                      0.00\n",
            "dtype: float64\n"
          ]
        }
      ]
    },
    {
      "cell_type": "markdown",
      "source": [
        "**Вывод:** В обоих датафреймах более 90 % пропусков приходится на поля с информацией о зарплате. Это может быть связано с тем, что некоторые работодатели не указывают точные суммы зарплат, чтобы защитить конфиденциальность своих сотрудников или избежать конкуренции на рынке труда.\n",
        "\n",
        "Для некоторых позиций, таких как фрилансеры или консультанты, зарплата может варьироваться в зависимости от проекта или клиента, поэтому указание точных сумм менее значимо. В остальных случаях пропуски могли возникнуть по техническим причинам или из-за ошибок сайтов-агрегаторов вакансий.\n",
        "\n",
        "Замена или удаление пропусков может привести к искажению данных, поэтому такая манипуляция нецелесообразна."
      ],
      "metadata": {
        "id": "eH572VJClreh"
      }
    },
    {
      "cell_type": "markdown",
      "source": [
        "## 2.3 Поиск и удаление дубликатов"
      ],
      "metadata": {
        "id": "v2j6muc0qg6o"
      }
    },
    {
      "cell_type": "markdown",
      "source": [
        "Посмотрим на количество уникальных значений в обоих датафреймах"
      ],
      "metadata": {
        "id": "bqv08c2PZkgl"
      }
    },
    {
      "cell_type": "code",
      "source": [
        "print('Уникальные значения в столбцах датафрейма вакансий Аналитиков \\n', data_da.nunique())\n",
        "print()\n",
        "print('Уникальные значения в столбцах датафрейма вакансий специалистов DS \\n', data_ds.nunique())"
      ],
      "metadata": {
        "colab": {
          "base_uri": "https://localhost:8080/"
        },
        "id": "LDLq1YndZoTh",
        "outputId": "4760d7da-de0a-40e9-c58e-3319e6d7e670"
      },
      "execution_count": 11,
      "outputs": [
        {
          "output_type": "stream",
          "name": "stdout",
          "text": [
            "Уникальные значения в столбцах датафрейма вакансий Аналитиков \n",
            " id                                  310\n",
            "name                                176\n",
            "published_at                        305\n",
            "alternate_url                       310\n",
            "type                                  1\n",
            "employer                            159\n",
            "department                           15\n",
            "area                                 19\n",
            "experience                            4\n",
            "key_skills                          177\n",
            "schedule                              4\n",
            "employment                            2\n",
            "description                         271\n",
            "description_lemmatized              268\n",
            "salary_from                          15\n",
            "salary_to                            15\n",
            "salary_bin                            5\n",
            "key_skills_from_key_skills_field    154\n",
            "hard_skills_from_description          5\n",
            "soft_skills_from_description         16\n",
            "published_date                       49\n",
            "dtype: int64\n",
            "\n",
            "Уникальные значения в столбцах датафрейма вакансий специалистов DS \n",
            " id                                  662\n",
            "name                                383\n",
            "published_at                        625\n",
            "alternate_url                       662\n",
            "type                                  1\n",
            "employer                            244\n",
            "department                           46\n",
            "area                                 23\n",
            "experience                            4\n",
            "key_skills                          306\n",
            "schedule                              4\n",
            "employment                            4\n",
            "description                         564\n",
            "description_lemmatized              559\n",
            "salary_from                          23\n",
            "salary_to                            18\n",
            "salary_bin                            5\n",
            "key_skills_from_key_skills_field    271\n",
            "hard_skills_from_description          7\n",
            "soft_skills_from_description         19\n",
            "published_date                       54\n",
            "dtype: int64\n"
          ]
        }
      ]
    },
    {
      "cell_type": "markdown",
      "source": [
        "Найдем дубликаты по индексам вакансий, поскольку каждой вакансии предоставляется свой уникальный id"
      ],
      "metadata": {
        "id": "h_aZ46XuwW9f"
      }
    },
    {
      "cell_type": "code",
      "source": [
        "print('Дубликатов в датасете вакансий Аналитиков данных ', data_da.duplicated(subset='id').sum())\n",
        "print()\n",
        "print('Дубликатов в датасете вакансий специалистов DS ', data_ds.duplicated(subset='id').sum())"
      ],
      "metadata": {
        "colab": {
          "base_uri": "https://localhost:8080/"
        },
        "id": "pEpw255hqjvD",
        "outputId": "9f6855ea-a697-4334-ce16-9121a54465e4"
      },
      "execution_count": 12,
      "outputs": [
        {
          "output_type": "stream",
          "name": "stdout",
          "text": [
            "Дубликатов в датасете вакансий Аналитиков данных  0\n",
            "\n",
            "Дубликатов в датасете вакансий специалистов DS  0\n"
          ]
        }
      ]
    },
    {
      "cell_type": "markdown",
      "source": [
        "Посмотрим есть ли одинаковые вакансии, но с разными ID"
      ],
      "metadata": {
        "id": "tAAiWjyjb_QY"
      }
    },
    {
      "cell_type": "code",
      "source": [
        "dup_data_da = data_da[data_da.duplicated(\n",
        "        subset=['name', 'published_at', 'employer', 'department', 'area', 'description'],\n",
        "        keep=False\n",
        "    )]\n",
        "\n",
        "dup_data_ds = data_ds[\n",
        "    data_ds.duplicated(\n",
        "        subset=['name', 'published_at', 'employer', 'department', 'area', 'description'],\n",
        "        keep=False\n",
        "    )]\n",
        "\n",
        "print('Количество дубликатов вакансий Аналитиков данных с разными ID ', len(dup_data_da))\n",
        "print('Количество дубликатов вакансий специалистов DS с разными ID ', len(dup_data_ds))"
      ],
      "metadata": {
        "colab": {
          "base_uri": "https://localhost:8080/"
        },
        "id": "zeMXwmyHcGDe",
        "outputId": "34c98105-6933-450a-d58f-a804981db3f7"
      },
      "execution_count": 13,
      "outputs": [
        {
          "output_type": "stream",
          "name": "stdout",
          "text": [
            "Количество дубликатов вакансий Аналитиков данных с разными ID  0\n",
            "Количество дубликатов вакансий специалистов DS с разными ID  0\n"
          ]
        }
      ]
    },
    {
      "cell_type": "markdown",
      "source": [
        "**Вывод:** Поиск дубликатов по ID ничего не обнаружил, также нет дубликатов среди вакансий обоих датафреймов с разынми ID"
      ],
      "metadata": {
        "id": "_98soU4sVQQb"
      }
    },
    {
      "cell_type": "markdown",
      "source": [
        "## 2.4 Проверка количественных значений"
      ],
      "metadata": {
        "id": "Z9lvuhvjXxR5"
      }
    },
    {
      "cell_type": "markdown",
      "source": [
        "Проведем проверку количественных значений на выбросы обоих датафреймов"
      ],
      "metadata": {
        "id": "CBiw5U73bCKB"
      }
    },
    {
      "cell_type": "code",
      "source": [
        "data_da[['salary_to', 'salary_from']].boxplot()\n",
        "plt.title('Распределение колич значений DA')"
      ],
      "metadata": {
        "colab": {
          "base_uri": "https://localhost:8080/",
          "height": 469
        },
        "id": "H3KXs0kiabYW",
        "outputId": "829ea63a-6497-4e91-c23b-aab399e7ae9a"
      },
      "execution_count": 14,
      "outputs": [
        {
          "output_type": "execute_result",
          "data": {
            "text/plain": [
              "Text(0.5, 1.0, 'Распределение колич значений DA')"
            ]
          },
          "metadata": {},
          "execution_count": 14
        },
        {
          "output_type": "display_data",
          "data": {
            "text/plain": [
              "<Figure size 640x480 with 1 Axes>"
            ],
            "image/png": "[encoded data removed]"
          },
          "metadata": {}
        }
      ]
    },
    {
      "cell_type": "code",
      "source": [
        "data_ds[['salary_to', 'salary_from']].boxplot()\n",
        "plt.title('Распределение колич значений DS')"
      ],
      "metadata": {
        "colab": {
          "base_uri": "https://localhost:8080/",
          "height": 469
        },
        "id": "o5YwnpS-adCB",
        "outputId": "e4fcf0a1-011a-453c-df1f-446876a45e16"
      },
      "execution_count": 15,
      "outputs": [
        {
          "output_type": "execute_result",
          "data": {
            "text/plain": [
              "Text(0.5, 1.0, 'Распределение колич значений DS')"
            ]
          },
          "metadata": {},
          "execution_count": 15
        },
        {
          "output_type": "display_data",
          "data": {
            "text/plain": [
              "<Figure size 640x480 with 1 Axes>"
            ],
            "image/png": "[encoded data removed]"
          },
          "metadata": {}
        }
      ]
    },
    {
      "cell_type": "markdown",
      "source": [
        "**Вывод:** В обоих датафреймах обнаружены аномальные значения в параметре salary_from. Скорее всего, они появились из-за вакансий на высокооплачиваемые или редкие должности. Это делается для того, чтобы иметь возможность предложить более высокую зарплату.\n",
        "\n",
        "Убирать выбросы нецелесообразно, потому что это может исказить реальную картину рынка труда. Выбросы представляют собой крайние значения, которые могут значительно отличаться от среднего значения. Убирая их, можно потерять важную информацию о максимальных зарплатах, которые предлагают работодатели, и минимальных зарплатах, на которые соглашаются кандидаты. Это может привести к недооценке или переоценке средней заработной платы в отрасли. Кроме того, выбросы могут быть вызваны различными факторами, такими как уникальные навыки кандидата, опыт работы, местоположение компании и т. д.\n",
        "\n",
        "Вместо того чтобы убирать выбросы, можно использовать статистические методы для их анализа и интерпретации. Например, можно рассчитать медианную зарплату, которая будет менее чувствительна к выбросам, чем среднее значение. Также можно использовать процентили, чтобы понять, какой процент работников получает зарплату ниже или выше определённого уровня."
      ],
      "metadata": {
        "id": "DLk-8GErbdnQ"
      }
    },
    {
      "cell_type": "markdown",
      "source": [
        "## 2.5 Проверка категориальных значений"
      ],
      "metadata": {
        "id": "u-CWqC3gh5_z"
      }
    },
    {
      "cell_type": "markdown",
      "source": [
        "Проверим наименования вакансий и привидем к единому формату"
      ],
      "metadata": {
        "id": "8ZvDA9nZiHtR"
      }
    },
    {
      "cell_type": "code",
      "source": [
        "data_da['name'] = data_da['name'].str.lower()\n",
        "data_da['name'] = data_da['name'].replace(['аналитик данных/data analyst', 'аналитик данных / data analyst' , 'data analyst / аналитик данных', 'аналитик данных (data analyst)', 'data analyst/аналитик данных'], 'data analyst')\n",
        "data_da.name.value_counts()"
      ],
      "metadata": {
        "colab": {
          "base_uri": "https://localhost:8080/"
        },
        "id": "xU7eOBMPiRdH",
        "outputId": "f86eaac8-a466-4385-bb8e-5151d4964ea6"
      },
      "execution_count": 16,
      "outputs": [
        {
          "output_type": "execute_result",
          "data": {
            "text/plain": [
              "name\n",
              "data analyst                               102\n",
              "senior data analyst                         11\n",
              "junior data analyst                          8\n",
              "дата аналитик (data scientist)               6\n",
              "middle data analyst                          6\n",
              "                                          ... \n",
              "data analyst (rtb)                           1\n",
              "аналитик данных / data analyst (middle)      1\n",
              "дата аналитик – инженер (dea)                1\n",
              "sr data analyst / аналитик разработчик       1\n",
              "qa data analyst                              1\n",
              "Name: count, Length: 149, dtype: int64"
            ]
          },
          "metadata": {},
          "execution_count": 16
        }
      ]
    },
    {
      "cell_type": "markdown",
      "source": [
        "Судя по наименованиям в наборе данных DA есть смежные вакансии на DA и DS. Посмотрим на эти вакансии"
      ],
      "metadata": {
        "id": "gk7SBXkQjjKt"
      }
    },
    {
      "cell_type": "code",
      "source": [
        "mask_da = data_da['name'].str.contains('data scientist')\n",
        "print('Количество смежных вакансий в датасете с вакансиями DA - ', len(data_da[mask_da]))\n",
        "\n",
        "data_da[mask_da].head()"
      ],
      "metadata": {
        "colab": {
          "base_uri": "https://localhost:8080/",
          "height": 504
        },
        "id": "hCjhkZQ-kTCF",
        "outputId": "f96ee290-d9b6-4888-e1f6-26706ff595d9"
      },
      "execution_count": 17,
      "outputs": [
        {
          "output_type": "stream",
          "name": "stdout",
          "text": [
            "Количество смежных вакансий в датасете с вакансиями DA -  16\n"
          ]
        },
        {
          "output_type": "execute_result",
          "data": {
            "text/plain": [
              "          id                            name        published_at  \\\n",
              "17  91765959  дата аналитик (data scientist) 2024-04-04 10:10:44   \n",
              "18  91765960  дата аналитик (data scientist) 2024-03-28 06:25:29   \n",
              "56  93551149  дата аналитик (data scientist) 2024-03-19 05:41:39   \n",
              "74  94241749  дата аналитик (data scientist) 2024-03-28 06:25:15   \n",
              "75  94257136  дата аналитик (data scientist) 2024-03-28 06:25:25   \n",
              "\n",
              "                     alternate_url      type                     employer  \\\n",
              "17  https://hh.ru/vacancy/91765959  Открытая  Центр финансовых технологий   \n",
              "18  https://hh.ru/vacancy/91765960  Открытая  Центр финансовых технологий   \n",
              "56  https://hh.ru/vacancy/93551149  Открытая  Центр финансовых технологий   \n",
              "74  https://hh.ru/vacancy/94241749  Открытая  Центр финансовых технологий   \n",
              "75  https://hh.ru/vacancy/94257136  Открытая  Центр финансовых технологий   \n",
              "\n",
              "   department             area           experience  key_skills     schedule  \\\n",
              "17        NaN  Санкт-Петербург  Junior+ (1-3 years)  ['Pandas']  Полный день   \n",
              "18        NaN      Новосибирск  Junior+ (1-3 years)  ['Pandas']  Полный день   \n",
              "56        NaN           Казань  Junior+ (1-3 years)  ['Pandas']  Полный день   \n",
              "74        NaN            Томск  Junior+ (1-3 years)  ['Pandas']  Полный день   \n",
              "75        NaN     Екатеринбург  Junior+ (1-3 years)  ['Pandas']  Полный день   \n",
              "\n",
              "          employment                                        description  \\\n",
              "17  Полная занятость  приглашаем в ml команду специалистов в области...   \n",
              "18  Полная занятость  приглашаем в ml команду специалистов в области...   \n",
              "56  Полная занятость  приглашаем в ml команду специалистов в области...   \n",
              "74  Полная занятость  приглашаем в ml команду специалистов в области...   \n",
              "75  Полная занятость  приглашаем в ml команду специалистов в области...   \n",
              "\n",
              "                               description_lemmatized  salary_from  salary_to  \\\n",
              "17  приглашать ml команда специалист область класс...          NaN        NaN   \n",
              "18  приглашать ml команда специалист область класс...          NaN        NaN   \n",
              "56  приглашать ml команда специалист область класс...          NaN        NaN   \n",
              "74  приглашать ml команда специалист область класс...          NaN        NaN   \n",
              "75  приглашать ml команда специалист область класс...          NaN        NaN   \n",
              "\n",
              "       salary_bin key_skills_from_key_skills_field  \\\n",
              "17  ЗП не указана                              NaN   \n",
              "18  ЗП не указана                              NaN   \n",
              "56  ЗП не указана                              NaN   \n",
              "74  ЗП не указана                              NaN   \n",
              "75  ЗП не указана                              NaN   \n",
              "\n",
              "   hard_skills_from_description soft_skills_from_description published_date  \n",
              "17                       Pandas                          NaN     2024-04-04  \n",
              "18                       Pandas                          NaN     2024-03-28  \n",
              "56                       Pandas                          NaN     2024-03-19  \n",
              "74                       Pandas                          NaN     2024-03-28  \n",
              "75                       Pandas                          NaN     2024-03-28  "
            ],
            "text/html": [
              "\n",
              "  <div id=\"df-cff789b1-0b61-4a4c-b7c5-c49e25ca461e\" class=\"colab-df-container\">\n",
              "    <div>\n",
              "<style scoped>\n",
              "    .dataframe tbody tr th:only-of-type {\n",
              "        vertical-align: middle;\n",
              "    }\n",
              "\n",
              "    .dataframe tbody tr th {\n",
              "        vertical-align: top;\n",
              "    }\n",
              "\n",
              "    .dataframe thead th {\n",
              "        text-align: right;\n",
              "    }\n",
              "</style>\n",
              "<table border=\"1\" class=\"dataframe\">\n",
              "  <thead>\n",
              "    <tr style=\"text-align: right;\">\n",
              "      <th></th>\n",
              "      <th>id</th>\n",
              "      <th>name</th>\n",
              "      <th>published_at</th>\n",
              "      <th>alternate_url</th>\n",
              "      <th>type</th>\n",
              "      <th>employer</th>\n",
              "      <th>department</th>\n",
              "      <th>area</th>\n",
              "      <th>experience</th>\n",
              "      <th>key_skills</th>\n",
              "      <th>schedule</th>\n",
              "      <th>employment</th>\n",
              "      <th>description</th>\n",
              "      <th>description_lemmatized</th>\n",
              "      <th>salary_from</th>\n",
              "      <th>salary_to</th>\n",
              "      <th>salary_bin</th>\n",
              "      <th>key_skills_from_key_skills_field</th>\n",
              "      <th>hard_skills_from_description</th>\n",
              "      <th>soft_skills_from_description</th>\n",
              "      <th>published_date</th>\n",
              "    </tr>\n",
              "  </thead>\n",
              "  <tbody>\n",
              "    <tr>\n",
              "      <th>17</th>\n",
              "      <td>91765959</td>\n",
              "      <td>дата аналитик (data scientist)</td>\n",
              "      <td>2024-04-04 10:10:44</td>\n",
              "      <td>https://hh.ru/vacancy/91765959</td>\n",
              "      <td>Открытая</td>\n",
              "      <td>Центр финансовых технологий</td>\n",
              "      <td>NaN</td>\n",
              "      <td>Санкт-Петербург</td>\n",
              "      <td>Junior+ (1-3 years)</td>\n",
              "      <td>['Pandas']</td>\n",
              "      <td>Полный день</td>\n",
              "      <td>Полная занятость</td>\n",
              "      <td>приглашаем в ml команду специалистов в области...</td>\n",
              "      <td>приглашать ml команда специалист область класс...</td>\n",
              "      <td>NaN</td>\n",
              "      <td>NaN</td>\n",
              "      <td>ЗП не указана</td>\n",
              "      <td>NaN</td>\n",
              "      <td>Pandas</td>\n",
              "      <td>NaN</td>\n",
              "      <td>2024-04-04</td>\n",
              "    </tr>\n",
              "    <tr>\n",
              "      <th>18</th>\n",
              "      <td>91765960</td>\n",
              "      <td>дата аналитик (data scientist)</td>\n",
              "      <td>2024-03-28 06:25:29</td>\n",
              "      <td>https://hh.ru/vacancy/91765960</td>\n",
              "      <td>Открытая</td>\n",
              "      <td>Центр финансовых технологий</td>\n",
              "      <td>NaN</td>\n",
              "      <td>Новосибирск</td>\n",
              "      <td>Junior+ (1-3 years)</td>\n",
              "      <td>['Pandas']</td>\n",
              "      <td>Полный день</td>\n",
              "      <td>Полная занятость</td>\n",
              "      <td>приглашаем в ml команду специалистов в области...</td>\n",
              "      <td>приглашать ml команда специалист область класс...</td>\n",
              "      <td>NaN</td>\n",
              "      <td>NaN</td>\n",
              "      <td>ЗП не указана</td>\n",
              "      <td>NaN</td>\n",
              "      <td>Pandas</td>\n",
              "      <td>NaN</td>\n",
              "      <td>2024-03-28</td>\n",
              "    </tr>\n",
              "    <tr>\n",
              "      <th>56</th>\n",
              "      <td>93551149</td>\n",
              "      <td>дата аналитик (data scientist)</td>\n",
              "      <td>2024-03-19 05:41:39</td>\n",
              "      <td>https://hh.ru/vacancy/93551149</td>\n",
              "      <td>Открытая</td>\n",
              "      <td>Центр финансовых технологий</td>\n",
              "      <td>NaN</td>\n",
              "      <td>Казань</td>\n",
              "      <td>Junior+ (1-3 years)</td>\n",
              "      <td>['Pandas']</td>\n",
              "      <td>Полный день</td>\n",
              "      <td>Полная занятость</td>\n",
              "      <td>приглашаем в ml команду специалистов в области...</td>\n",
              "      <td>приглашать ml команда специалист область класс...</td>\n",
              "      <td>NaN</td>\n",
              "      <td>NaN</td>\n",
              "      <td>ЗП не указана</td>\n",
              "      <td>NaN</td>\n",
              "      <td>Pandas</td>\n",
              "      <td>NaN</td>\n",
              "      <td>2024-03-19</td>\n",
              "    </tr>\n",
              "    <tr>\n",
              "      <th>74</th>\n",
              "      <td>94241749</td>\n",
              "      <td>дата аналитик (data scientist)</td>\n",
              "      <td>2024-03-28 06:25:15</td>\n",
              "      <td>https://hh.ru/vacancy/94241749</td>\n",
              "      <td>Открытая</td>\n",
              "      <td>Центр финансовых технологий</td>\n",
              "      <td>NaN</td>\n",
              "      <td>Томск</td>\n",
              "      <td>Junior+ (1-3 years)</td>\n",
              "      <td>['Pandas']</td>\n",
              "      <td>Полный день</td>\n",
              "      <td>Полная занятость</td>\n",
              "      <td>приглашаем в ml команду специалистов в области...</td>\n",
              "      <td>приглашать ml команда специалист область класс...</td>\n",
              "      <td>NaN</td>\n",
              "      <td>NaN</td>\n",
              "      <td>ЗП не указана</td>\n",
              "      <td>NaN</td>\n",
              "      <td>Pandas</td>\n",
              "      <td>NaN</td>\n",
              "      <td>2024-03-28</td>\n",
              "    </tr>\n",
              "    <tr>\n",
              "      <th>75</th>\n",
              "      <td>94257136</td>\n",
              "      <td>дата аналитик (data scientist)</td>\n",
              "      <td>2024-03-28 06:25:25</td>\n",
              "      <td>https://hh.ru/vacancy/94257136</td>\n",
              "      <td>Открытая</td>\n",
              "      <td>Центр финансовых технологий</td>\n",
              "      <td>NaN</td>\n",
              "      <td>Екатеринбург</td>\n",
              "      <td>Junior+ (1-3 years)</td>\n",
              "      <td>['Pandas']</td>\n",
              "      <td>Полный день</td>\n",
              "      <td>Полная занятость</td>\n",
              "      <td>приглашаем в ml команду специалистов в области...</td>\n",
              "      <td>приглашать ml команда специалист область класс...</td>\n",
              "      <td>NaN</td>\n",
              "      <td>NaN</td>\n",
              "      <td>ЗП не указана</td>\n",
              "      <td>NaN</td>\n",
              "      <td>Pandas</td>\n",
              "      <td>NaN</td>\n",
              "      <td>2024-03-28</td>\n",
              "    </tr>\n",
              "  </tbody>\n",
              "</table>\n",
              "</div>\n",
              "    <div class=\"colab-df-buttons\">\n",
              "\n",
              "  <div class=\"colab-df-container\">\n",
              "    <button class=\"colab-df-convert\" onclick=\"convertToInteractive('df-cff789b1-0b61-4a4c-b7c5-c49e25ca461e')\"\n",
              "            title=\"Convert this dataframe to an interactive table.\"\n",
              "            style=\"display:none;\">\n",
              "\n",
              "  <svg xmlns=\"http://www.w3.org/2000/svg\" height=\"24px\" viewBox=\"0 -960 960 960\">\n",
              "    <path d=\"M120-120v-720h720v720H120Zm60-500h600v-160H180v160Zm220 220h160v-160H400v160Zm0 220h160v-160H400v160ZM180-400h160v-160H180v160Zm440 0h160v-160H620v160ZM180-180h160v-160H180v160Zm440 0h160v-160H620v160Z\"/>\n",
              "  </svg>\n",
              "    </button>\n",
              "\n",
              "  <style>\n",
              "    .colab-df-container {\n",
              "      display:flex;\n",
              "      gap: 12px;\n",
              "    }\n",
              "\n",
              "    .colab-df-convert {\n",
              "      background-color: #E8F0FE;\n",
              "      border: none;\n",
              "      border-radius: 50%;\n",
              "      cursor: pointer;\n",
              "      display: none;\n",
              "      fill: #1967D2;\n",
              "      height: 32px;\n",
              "      padding: 0 0 0 0;\n",
              "      width: 32px;\n",
              "    }\n",
              "\n",
              "    .colab-df-convert:hover {\n",
              "      background-color: #E2EBFA;\n",
              "      box-shadow: 0px 1px 2px rgba(60, 64, 67, 0.3), 0px 1px 3px 1px rgba(60, 64, 67, 0.15);\n",
              "      fill: #174EA6;\n",
              "    }\n",
              "\n",
              "    .colab-df-buttons div {\n",
              "      margin-bottom: 4px;\n",
              "    }\n",
              "\n",
              "    [theme=dark] .colab-df-convert {\n",
              "      background-color: #3B4455;\n",
              "      fill: #D2E3FC;\n",
              "    }\n",
              "\n",
              "    [theme=dark] .colab-df-convert:hover {\n",
              "      background-color: #434B5C;\n",
              "      box-shadow: 0px 1px 3px 1px rgba(0, 0, 0, 0.15);\n",
              "      filter: drop-shadow(0px 1px 2px rgba(0, 0, 0, 0.3));\n",
              "      fill: #FFFFFF;\n",
              "    }\n",
              "  </style>\n",
              "\n",
              "    <script>\n",
              "      const buttonEl =\n",
              "        document.querySelector('#df-cff789b1-0b61-4a4c-b7c5-c49e25ca461e button.colab-df-convert');\n",
              "      buttonEl.style.display =\n",
              "        google.colab.kernel.accessAllowed ? 'block' : 'none';\n",
              "\n",
              "      async function convertToInteractive(key) {\n",
              "        const element = document.querySelector('#df-cff789b1-0b61-4a4c-b7c5-c49e25ca461e');\n",
              "        const dataTable =\n",
              "          await google.colab.kernel.invokeFunction('convertToInteractive',\n",
              "                                                    [key], {});\n",
              "        if (!dataTable) return;\n",
              "\n",
              "        const docLinkHtml = 'Like what you see? Visit the ' +\n",
              "          '<a target=\"_blank\" href=https://colab.research.google.com/notebooks/data_table.ipynb>data table notebook</a>'\n",
              "          + ' to learn more about interactive tables.';\n",
              "        element.innerHTML = '';\n",
              "        dataTable['output_type'] = 'display_data';\n",
              "        await google.colab.output.renderOutput(dataTable, element);\n",
              "        const docLink = document.createElement('div');\n",
              "        docLink.innerHTML = docLinkHtml;\n",
              "        element.appendChild(docLink);\n",
              "      }\n",
              "    </script>\n",
              "  </div>\n",
              "\n",
              "\n",
              "<div id=\"df-62dc87be-cd32-4d59-90ea-a6ca2efc1be3\">\n",
              "  <button class=\"colab-df-quickchart\" onclick=\"quickchart('df-62dc87be-cd32-4d59-90ea-a6ca2efc1be3')\"\n",
              "            title=\"Suggest charts\"\n",
              "            style=\"display:none;\">\n",
              "\n",
              "<svg xmlns=\"http://www.w3.org/2000/svg\" height=\"24px\"viewBox=\"0 0 24 24\"\n",
              "     width=\"24px\">\n",
              "    <g>\n",
              "        <path d=\"M19 3H5c-1.1 0-2 .9-2 2v14c0 1.1.9 2 2 2h14c1.1 0 2-.9 2-2V5c0-1.1-.9-2-2-2zM9 17H7v-7h2v7zm4 0h-2V7h2v10zm4 0h-2v-4h2v4z\"/>\n",
              "    </g>\n",
              "</svg>\n",
              "  </button>\n",
              "\n",
              "<style>\n",
              "  .colab-df-quickchart {\n",
              "      --bg-color: #E8F0FE;\n",
              "      --fill-color: #1967D2;\n",
              "      --hover-bg-color: #E2EBFA;\n",
              "      --hover-fill-color: #174EA6;\n",
              "      --disabled-fill-color: #AAA;\n",
              "      --disabled-bg-color: #DDD;\n",
              "  }\n",
              "\n",
              "  [theme=dark] .colab-df-quickchart {\n",
              "      --bg-color: #3B4455;\n",
              "      --fill-color: #D2E3FC;\n",
              "      --hover-bg-color: #434B5C;\n",
              "      --hover-fill-color: #FFFFFF;\n",
              "      --disabled-bg-color: #3B4455;\n",
              "      --disabled-fill-color: #666;\n",
              "  }\n",
              "\n",
              "  .colab-df-quickchart {\n",
              "    background-color: var(--bg-color);\n",
              "    border: none;\n",
              "    border-radius: 50%;\n",
              "    cursor: pointer;\n",
              "    display: none;\n",
              "    fill: var(--fill-color);\n",
              "    height: 32px;\n",
              "    padding: 0;\n",
              "    width: 32px;\n",
              "  }\n",
              "\n",
              "  .colab-df-quickchart:hover {\n",
              "    background-color: var(--hover-bg-color);\n",
              "    box-shadow: 0 1px 2px rgba(60, 64, 67, 0.3), 0 1px 3px 1px rgba(60, 64, 67, 0.15);\n",
              "    fill: var(--button-hover-fill-color);\n",
              "  }\n",
              "\n",
              "  .colab-df-quickchart-complete:disabled,\n",
              "  .colab-df-quickchart-complete:disabled:hover {\n",
              "    background-color: var(--disabled-bg-color);\n",
              "    fill: var(--disabled-fill-color);\n",
              "    box-shadow: none;\n",
              "  }\n",
              "\n",
              "  .colab-df-spinner {\n",
              "    border: 2px solid var(--fill-color);\n",
              "    border-color: transparent;\n",
              "    border-bottom-color: var(--fill-color);\n",
              "    animation:\n",
              "      spin 1s steps(1) infinite;\n",
              "  }\n",
              "\n",
              "  @keyframes spin {\n",
              "    0% {\n",
              "      border-color: transparent;\n",
              "      border-bottom-color: var(--fill-color);\n",
              "      border-left-color: var(--fill-color);\n",
              "    }\n",
              "    20% {\n",
              "      border-color: transparent;\n",
              "      border-left-color: var(--fill-color);\n",
              "      border-top-color: var(--fill-color);\n",
              "    }\n",
              "    30% {\n",
              "      border-color: transparent;\n",
              "      border-left-color: var(--fill-color);\n",
              "      border-top-color: var(--fill-color);\n",
              "      border-right-color: var(--fill-color);\n",
              "    }\n",
              "    40% {\n",
              "      border-color: transparent;\n",
              "      border-right-color: var(--fill-color);\n",
              "      border-top-color: var(--fill-color);\n",
              "    }\n",
              "    60% {\n",
              "      border-color: transparent;\n",
              "      border-right-color: var(--fill-color);\n",
              "    }\n",
              "    80% {\n",
              "      border-color: transparent;\n",
              "      border-right-color: var(--fill-color);\n",
              "      border-bottom-color: var(--fill-color);\n",
              "    }\n",
              "    90% {\n",
              "      border-color: transparent;\n",
              "      border-bottom-color: var(--fill-color);\n",
              "    }\n",
              "  }\n",
              "</style>\n",
              "\n",
              "  <script>\n",
              "    async function quickchart(key) {\n",
              "      const quickchartButtonEl =\n",
              "        document.querySelector('#' + key + ' button');\n",
              "      quickchartButtonEl.disabled = true;  // To prevent multiple clicks.\n",
              "      quickchartButtonEl.classList.add('colab-df-spinner');\n",
              "      try {\n",
              "        const charts = await google.colab.kernel.invokeFunction(\n",
              "            'suggestCharts', [key], {});\n",
              "      } catch (error) {\n",
              "        console.error('Error during call to suggestCharts:', error);\n",
              "      }\n",
              "      quickchartButtonEl.classList.remove('colab-df-spinner');\n",
              "      quickchartButtonEl.classList.add('colab-df-quickchart-complete');\n",
              "    }\n",
              "    (() => {\n",
              "      let quickchartButtonEl =\n",
              "        document.querySelector('#df-62dc87be-cd32-4d59-90ea-a6ca2efc1be3 button');\n",
              "      quickchartButtonEl.style.display =\n",
              "        google.colab.kernel.accessAllowed ? 'block' : 'none';\n",
              "    })();\n",
              "  </script>\n",
              "</div>\n",
              "    </div>\n",
              "  </div>\n"
            ],
            "application/vnd.google.colaboratory.intrinsic+json": {
              "type": "dataframe"
            }
          },
          "metadata": {},
          "execution_count": 17
        }
      ]
    },
    {
      "cell_type": "markdown",
      "source": [
        "Проверим на наличие смежных вакансий датасет DS"
      ],
      "metadata": {
        "id": "SbZemiMinx7M"
      }
    },
    {
      "cell_type": "code",
      "source": [
        "data_ds['name'] = data_ds.name.str.lower()\n",
        "data_ds['name'] = data_ds['name'].replace({'data scientist (nlp)': 'data scientist',  'data scientist (middle)': 'middle data scientist', 'senior data scientist (nlp)': 'senior data scientist', 'middle data science': 'middle data scientist', 'data scientist senior': 'senior data scientist'})\n",
        "data_ds.name.value_counts()"
      ],
      "metadata": {
        "colab": {
          "base_uri": "https://localhost:8080/"
        },
        "id": "IMHR6ka1jG4Y",
        "outputId": "9dd7650a-1dd7-4234-fbb5-0bcffd942783"
      },
      "execution_count": 18,
      "outputs": [
        {
          "output_type": "execute_result",
          "data": {
            "text/plain": [
              "name\n",
              "data scientist                                               113\n",
              "senior data scientist                                         34\n",
              "middle data scientist                                         23\n",
              "junior data scientist                                          7\n",
              "data scientist (middle) с переездом в южно-сахалинск           6\n",
              "                                                            ... \n",
              "data scientist in petroleum engineering                        1\n",
              "data scientist in geoscience (аналитик данных - геология)      1\n",
              "middle/senior data scientist nlp/llm                           1\n",
              "старший эксперт по анализу данных (data science, ml)           1\n",
              "data scientist в vk рекламу                                    1\n",
              "Name: count, Length: 359, dtype: int64"
            ]
          },
          "metadata": {},
          "execution_count": 18
        }
      ]
    },
    {
      "cell_type": "code",
      "source": [
        "mask_ds = data_ds.name.str.contains('data analyst') | data_ds.name.str.contains('аналитик')\n",
        "print('Количество смежных вакансий в датасете с вакансиями DS - ', len(data_ds[mask_ds]))\n",
        "\n",
        "data_ds[mask_ds].head()"
      ],
      "metadata": {
        "colab": {
          "base_uri": "https://localhost:8080/",
          "height": 521
        },
        "id": "jZJQS_rHmOJl",
        "outputId": "e03f1cd0-8619-4f0a-94ee-ef142ccac3ab"
      },
      "execution_count": 19,
      "outputs": [
        {
          "output_type": "stream",
          "name": "stdout",
          "text": [
            "Количество смежных вакансий в датасете с вакансиями DS -  51\n"
          ]
        },
        {
          "output_type": "execute_result",
          "data": {
            "text/plain": [
              "          id                                               name  \\\n",
              "61  91765959                     дата аналитик (data scientist)   \n",
              "62  91765960                     дата аналитик (data scientist)   \n",
              "67  92068025    аналитик данных (data scientist, data engineer)   \n",
              "85  92601521  эксперт группа аналитики и моделирования (data...   \n",
              "94  92909300                              аналитик data science   \n",
              "\n",
              "          published_at                   alternate_url      type  \\\n",
              "61 2024-04-04 10:10:44  https://hh.ru/vacancy/91765959  Открытая   \n",
              "62 2024-03-28 06:25:29  https://hh.ru/vacancy/91765960  Открытая   \n",
              "67 2024-03-12 12:42:01  https://hh.ru/vacancy/92068025  Открытая   \n",
              "85 2024-04-23 17:39:17  https://hh.ru/vacancy/92601521  Открытая   \n",
              "94 2024-03-29 17:40:57  https://hh.ru/vacancy/92909300  Открытая   \n",
              "\n",
              "                                             employer department  \\\n",
              "61                        Центр финансовых технологий        NaN   \n",
              "62                        Центр финансовых технологий        NaN   \n",
              "67  Федеральное государственное автономное учрежде...        NaN   \n",
              "85                                         ВТБ Лизинг        NaN   \n",
              "94                                 СК Ренессанс Жизнь        NaN   \n",
              "\n",
              "               area           experience  \\\n",
              "61  Санкт-Петербург  Junior+ (1-3 years)   \n",
              "62      Новосибирск  Junior+ (1-3 years)   \n",
              "67           Москва   Middle (3-6 years)   \n",
              "85           Москва  Junior+ (1-3 years)   \n",
              "94           Москва   Middle (3-6 years)   \n",
              "\n",
              "                                           key_skills     schedule  \\\n",
              "61                                         ['Pandas']  Полный день   \n",
              "62                                         ['Pandas']  Полный день   \n",
              "67  ['Документация', 'Создание моделей', 'Оформлен...  Полный день   \n",
              "85  ['Machine Learning', 'Документация', 'Python',...  Полный день   \n",
              "94                                                 []  Полный день   \n",
              "\n",
              "          employment                                        description  \\\n",
              "61  Полная занятость  приглашаем в ml команду специалистов в области...   \n",
              "62  Полная занятость  приглашаем в ml команду специалистов в области...   \n",
              "67  Полная занятость  в настоящее время фгау «нии «цэпп» расширяет к...   \n",
              "85  Полная занятость  крупнейшая лизинговая компания в россии, являе...   \n",
              "94  Полная занятость  мы компания федерального масштаба, основанная ...   \n",
              "\n",
              "                               description_lemmatized  salary_from  salary_to  \\\n",
              "61  приглашать ml команда специалист область класс...          NaN        NaN   \n",
              "62  приглашать ml команда специалист область класс...          NaN        NaN   \n",
              "67  настоящий время фгау нии цэпп расширять команд...   100,000.00        NaN   \n",
              "85  крупный лизинговый компания россия являться ча...          NaN        NaN   \n",
              "94  компания федеральный масштаб основывать 2 4 г ...          NaN        NaN   \n",
              "\n",
              "       salary_bin                   key_skills_from_key_skills_field  \\\n",
              "61  ЗП не указана                                                NaN   \n",
              "62  ЗП не указана                                                NaN   \n",
              "67  ЗП не указана  Python, Системы автоматического контроля, Созд...   \n",
              "85  ЗП не указана  Python, Математическое моделирование, Математи...   \n",
              "94  ЗП не указана                                                NaN   \n",
              "\n",
              "   hard_skills_from_description soft_skills_from_description published_date  \n",
              "61                       Pandas                          NaN     2024-04-04  \n",
              "62                       Pandas                          NaN     2024-03-28  \n",
              "67                          NaN                 Документация     2024-03-12  \n",
              "85                          NaN                 Документация     2024-04-23  \n",
              "94                          NaN                          NaN     2024-03-29  "
            ],
            "text/html": [
              "\n",
              "  <div id=\"df-a0e0485f-34e7-48fa-b2d9-89050f0d2c51\" class=\"colab-df-container\">\n",
              "    <div>\n",
              "<style scoped>\n",
              "    .dataframe tbody tr th:only-of-type {\n",
              "        vertical-align: middle;\n",
              "    }\n",
              "\n",
              "    .dataframe tbody tr th {\n",
              "        vertical-align: top;\n",
              "    }\n",
              "\n",
              "    .dataframe thead th {\n",
              "        text-align: right;\n",
              "    }\n",
              "</style>\n",
              "<table border=\"1\" class=\"dataframe\">\n",
              "  <thead>\n",
              "    <tr style=\"text-align: right;\">\n",
              "      <th></th>\n",
              "      <th>id</th>\n",
              "      <th>name</th>\n",
              "      <th>published_at</th>\n",
              "      <th>alternate_url</th>\n",
              "      <th>type</th>\n",
              "      <th>employer</th>\n",
              "      <th>department</th>\n",
              "      <th>area</th>\n",
              "      <th>experience</th>\n",
              "      <th>key_skills</th>\n",
              "      <th>schedule</th>\n",
              "      <th>employment</th>\n",
              "      <th>description</th>\n",
              "      <th>description_lemmatized</th>\n",
              "      <th>salary_from</th>\n",
              "      <th>salary_to</th>\n",
              "      <th>salary_bin</th>\n",
              "      <th>key_skills_from_key_skills_field</th>\n",
              "      <th>hard_skills_from_description</th>\n",
              "      <th>soft_skills_from_description</th>\n",
              "      <th>published_date</th>\n",
              "    </tr>\n",
              "  </thead>\n",
              "  <tbody>\n",
              "    <tr>\n",
              "      <th>61</th>\n",
              "      <td>91765959</td>\n",
              "      <td>дата аналитик (data scientist)</td>\n",
              "      <td>2024-04-04 10:10:44</td>\n",
              "      <td>https://hh.ru/vacancy/91765959</td>\n",
              "      <td>Открытая</td>\n",
              "      <td>Центр финансовых технологий</td>\n",
              "      <td>NaN</td>\n",
              "      <td>Санкт-Петербург</td>\n",
              "      <td>Junior+ (1-3 years)</td>\n",
              "      <td>['Pandas']</td>\n",
              "      <td>Полный день</td>\n",
              "      <td>Полная занятость</td>\n",
              "      <td>приглашаем в ml команду специалистов в области...</td>\n",
              "      <td>приглашать ml команда специалист область класс...</td>\n",
              "      <td>NaN</td>\n",
              "      <td>NaN</td>\n",
              "      <td>ЗП не указана</td>\n",
              "      <td>NaN</td>\n",
              "      <td>Pandas</td>\n",
              "      <td>NaN</td>\n",
              "      <td>2024-04-04</td>\n",
              "    </tr>\n",
              "    <tr>\n",
              "      <th>62</th>\n",
              "      <td>91765960</td>\n",
              "      <td>дата аналитик (data scientist)</td>\n",
              "      <td>2024-03-28 06:25:29</td>\n",
              "      <td>https://hh.ru/vacancy/91765960</td>\n",
              "      <td>Открытая</td>\n",
              "      <td>Центр финансовых технологий</td>\n",
              "      <td>NaN</td>\n",
              "      <td>Новосибирск</td>\n",
              "      <td>Junior+ (1-3 years)</td>\n",
              "      <td>['Pandas']</td>\n",
              "      <td>Полный день</td>\n",
              "      <td>Полная занятость</td>\n",
              "      <td>приглашаем в ml команду специалистов в области...</td>\n",
              "      <td>приглашать ml команда специалист область класс...</td>\n",
              "      <td>NaN</td>\n",
              "      <td>NaN</td>\n",
              "      <td>ЗП не указана</td>\n",
              "      <td>NaN</td>\n",
              "      <td>Pandas</td>\n",
              "      <td>NaN</td>\n",
              "      <td>2024-03-28</td>\n",
              "    </tr>\n",
              "    <tr>\n",
              "      <th>67</th>\n",
              "      <td>92068025</td>\n",
              "      <td>аналитик данных (data scientist, data engineer)</td>\n",
              "      <td>2024-03-12 12:42:01</td>\n",
              "      <td>https://hh.ru/vacancy/92068025</td>\n",
              "      <td>Открытая</td>\n",
              "      <td>Федеральное государственное автономное учрежде...</td>\n",
              "      <td>NaN</td>\n",
              "      <td>Москва</td>\n",
              "      <td>Middle (3-6 years)</td>\n",
              "      <td>['Документация', 'Создание моделей', 'Оформлен...</td>\n",
              "      <td>Полный день</td>\n",
              "      <td>Полная занятость</td>\n",
              "      <td>в настоящее время фгау «нии «цэпп» расширяет к...</td>\n",
              "      <td>настоящий время фгау нии цэпп расширять команд...</td>\n",
              "      <td>100,000.00</td>\n",
              "      <td>NaN</td>\n",
              "      <td>ЗП не указана</td>\n",
              "      <td>Python, Системы автоматического контроля, Созд...</td>\n",
              "      <td>NaN</td>\n",
              "      <td>Документация</td>\n",
              "      <td>2024-03-12</td>\n",
              "    </tr>\n",
              "    <tr>\n",
              "      <th>85</th>\n",
              "      <td>92601521</td>\n",
              "      <td>эксперт группа аналитики и моделирования (data...</td>\n",
              "      <td>2024-04-23 17:39:17</td>\n",
              "      <td>https://hh.ru/vacancy/92601521</td>\n",
              "      <td>Открытая</td>\n",
              "      <td>ВТБ Лизинг</td>\n",
              "      <td>NaN</td>\n",
              "      <td>Москва</td>\n",
              "      <td>Junior+ (1-3 years)</td>\n",
              "      <td>['Machine Learning', 'Документация', 'Python',...</td>\n",
              "      <td>Полный день</td>\n",
              "      <td>Полная занятость</td>\n",
              "      <td>крупнейшая лизинговая компания в россии, являе...</td>\n",
              "      <td>крупный лизинговый компания россия являться ча...</td>\n",
              "      <td>NaN</td>\n",
              "      <td>NaN</td>\n",
              "      <td>ЗП не указана</td>\n",
              "      <td>Python, Математическое моделирование, Математи...</td>\n",
              "      <td>NaN</td>\n",
              "      <td>Документация</td>\n",
              "      <td>2024-04-23</td>\n",
              "    </tr>\n",
              "    <tr>\n",
              "      <th>94</th>\n",
              "      <td>92909300</td>\n",
              "      <td>аналитик data science</td>\n",
              "      <td>2024-03-29 17:40:57</td>\n",
              "      <td>https://hh.ru/vacancy/92909300</td>\n",
              "      <td>Открытая</td>\n",
              "      <td>СК Ренессанс Жизнь</td>\n",
              "      <td>NaN</td>\n",
              "      <td>Москва</td>\n",
              "      <td>Middle (3-6 years)</td>\n",
              "      <td>[]</td>\n",
              "      <td>Полный день</td>\n",
              "      <td>Полная занятость</td>\n",
              "      <td>мы компания федерального масштаба, основанная ...</td>\n",
              "      <td>компания федеральный масштаб основывать 2 4 г ...</td>\n",
              "      <td>NaN</td>\n",
              "      <td>NaN</td>\n",
              "      <td>ЗП не указана</td>\n",
              "      <td>NaN</td>\n",
              "      <td>NaN</td>\n",
              "      <td>NaN</td>\n",
              "      <td>2024-03-29</td>\n",
              "    </tr>\n",
              "  </tbody>\n",
              "</table>\n",
              "</div>\n",
              "    <div class=\"colab-df-buttons\">\n",
              "\n",
              "  <div class=\"colab-df-container\">\n",
              "    <button class=\"colab-df-convert\" onclick=\"convertToInteractive('df-a0e0485f-34e7-48fa-b2d9-89050f0d2c51')\"\n",
              "            title=\"Convert this dataframe to an interactive table.\"\n",
              "            style=\"display:none;\">\n",
              "\n",
              "  <svg xmlns=\"http://www.w3.org/2000/svg\" height=\"24px\" viewBox=\"0 -960 960 960\">\n",
              "    <path d=\"M120-120v-720h720v720H120Zm60-500h600v-160H180v160Zm220 220h160v-160H400v160Zm0 220h160v-160H400v160ZM180-400h160v-160H180v160Zm440 0h160v-160H620v160ZM180-180h160v-160H180v160Zm440 0h160v-160H620v160Z\"/>\n",
              "  </svg>\n",
              "    </button>\n",
              "\n",
              "  <style>\n",
              "    .colab-df-container {\n",
              "      display:flex;\n",
              "      gap: 12px;\n",
              "    }\n",
              "\n",
              "    .colab-df-convert {\n",
              "      background-color: #E8F0FE;\n",
              "      border: none;\n",
              "      border-radius: 50%;\n",
              "      cursor: pointer;\n",
              "      display: none;\n",
              "      fill: #1967D2;\n",
              "      height: 32px;\n",
              "      padding: 0 0 0 0;\n",
              "      width: 32px;\n",
              "    }\n",
              "\n",
              "    .colab-df-convert:hover {\n",
              "      background-color: #E2EBFA;\n",
              "      box-shadow: 0px 1px 2px rgba(60, 64, 67, 0.3), 0px 1px 3px 1px rgba(60, 64, 67, 0.15);\n",
              "      fill: #174EA6;\n",
              "    }\n",
              "\n",
              "    .colab-df-buttons div {\n",
              "      margin-bottom: 4px;\n",
              "    }\n",
              "\n",
              "    [theme=dark] .colab-df-convert {\n",
              "      background-color: #3B4455;\n",
              "      fill: #D2E3FC;\n",
              "    }\n",
              "\n",
              "    [theme=dark] .colab-df-convert:hover {\n",
              "      background-color: #434B5C;\n",
              "      box-shadow: 0px 1px 3px 1px rgba(0, 0, 0, 0.15);\n",
              "      filter: drop-shadow(0px 1px 2px rgba(0, 0, 0, 0.3));\n",
              "      fill: #FFFFFF;\n",
              "    }\n",
              "  </style>\n",
              "\n",
              "    <script>\n",
              "      const buttonEl =\n",
              "        document.querySelector('#df-a0e0485f-34e7-48fa-b2d9-89050f0d2c51 button.colab-df-convert');\n",
              "      buttonEl.style.display =\n",
              "        google.colab.kernel.accessAllowed ? 'block' : 'none';\n",
              "\n",
              "      async function convertToInteractive(key) {\n",
              "        const element = document.querySelector('#df-a0e0485f-34e7-48fa-b2d9-89050f0d2c51');\n",
              "        const dataTable =\n",
              "          await google.colab.kernel.invokeFunction('convertToInteractive',\n",
              "                                                    [key], {});\n",
              "        if (!dataTable) return;\n",
              "\n",
              "        const docLinkHtml = 'Like what you see? Visit the ' +\n",
              "          '<a target=\"_blank\" href=https://colab.research.google.com/notebooks/data_table.ipynb>data table notebook</a>'\n",
              "          + ' to learn more about interactive tables.';\n",
              "        element.innerHTML = '';\n",
              "        dataTable['output_type'] = 'display_data';\n",
              "        await google.colab.output.renderOutput(dataTable, element);\n",
              "        const docLink = document.createElement('div');\n",
              "        docLink.innerHTML = docLinkHtml;\n",
              "        element.appendChild(docLink);\n",
              "      }\n",
              "    </script>\n",
              "  </div>\n",
              "\n",
              "\n",
              "<div id=\"df-6153c849-7867-4d93-b835-c99ec2fd614e\">\n",
              "  <button class=\"colab-df-quickchart\" onclick=\"quickchart('df-6153c849-7867-4d93-b835-c99ec2fd614e')\"\n",
              "            title=\"Suggest charts\"\n",
              "            style=\"display:none;\">\n",
              "\n",
              "<svg xmlns=\"http://www.w3.org/2000/svg\" height=\"24px\"viewBox=\"0 0 24 24\"\n",
              "     width=\"24px\">\n",
              "    <g>\n",
              "        <path d=\"M19 3H5c-1.1 0-2 .9-2 2v14c0 1.1.9 2 2 2h14c1.1 0 2-.9 2-2V5c0-1.1-.9-2-2-2zM9 17H7v-7h2v7zm4 0h-2V7h2v10zm4 0h-2v-4h2v4z\"/>\n",
              "    </g>\n",
              "</svg>\n",
              "  </button>\n",
              "\n",
              "<style>\n",
              "  .colab-df-quickchart {\n",
              "      --bg-color: #E8F0FE;\n",
              "      --fill-color: #1967D2;\n",
              "      --hover-bg-color: #E2EBFA;\n",
              "      --hover-fill-color: #174EA6;\n",
              "      --disabled-fill-color: #AAA;\n",
              "      --disabled-bg-color: #DDD;\n",
              "  }\n",
              "\n",
              "  [theme=dark] .colab-df-quickchart {\n",
              "      --bg-color: #3B4455;\n",
              "      --fill-color: #D2E3FC;\n",
              "      --hover-bg-color: #434B5C;\n",
              "      --hover-fill-color: #FFFFFF;\n",
              "      --disabled-bg-color: #3B4455;\n",
              "      --disabled-fill-color: #666;\n",
              "  }\n",
              "\n",
              "  .colab-df-quickchart {\n",
              "    background-color: var(--bg-color);\n",
              "    border: none;\n",
              "    border-radius: 50%;\n",
              "    cursor: pointer;\n",
              "    display: none;\n",
              "    fill: var(--fill-color);\n",
              "    height: 32px;\n",
              "    padding: 0;\n",
              "    width: 32px;\n",
              "  }\n",
              "\n",
              "  .colab-df-quickchart:hover {\n",
              "    background-color: var(--hover-bg-color);\n",
              "    box-shadow: 0 1px 2px rgba(60, 64, 67, 0.3), 0 1px 3px 1px rgba(60, 64, 67, 0.15);\n",
              "    fill: var(--button-hover-fill-color);\n",
              "  }\n",
              "\n",
              "  .colab-df-quickchart-complete:disabled,\n",
              "  .colab-df-quickchart-complete:disabled:hover {\n",
              "    background-color: var(--disabled-bg-color);\n",
              "    fill: var(--disabled-fill-color);\n",
              "    box-shadow: none;\n",
              "  }\n",
              "\n",
              "  .colab-df-spinner {\n",
              "    border: 2px solid var(--fill-color);\n",
              "    border-color: transparent;\n",
              "    border-bottom-color: var(--fill-color);\n",
              "    animation:\n",
              "      spin 1s steps(1) infinite;\n",
              "  }\n",
              "\n",
              "  @keyframes spin {\n",
              "    0% {\n",
              "      border-color: transparent;\n",
              "      border-bottom-color: var(--fill-color);\n",
              "      border-left-color: var(--fill-color);\n",
              "    }\n",
              "    20% {\n",
              "      border-color: transparent;\n",
              "      border-left-color: var(--fill-color);\n",
              "      border-top-color: var(--fill-color);\n",
              "    }\n",
              "    30% {\n",
              "      border-color: transparent;\n",
              "      border-left-color: var(--fill-color);\n",
              "      border-top-color: var(--fill-color);\n",
              "      border-right-color: var(--fill-color);\n",
              "    }\n",
              "    40% {\n",
              "      border-color: transparent;\n",
              "      border-right-color: var(--fill-color);\n",
              "      border-top-color: var(--fill-color);\n",
              "    }\n",
              "    60% {\n",
              "      border-color: transparent;\n",
              "      border-right-color: var(--fill-color);\n",
              "    }\n",
              "    80% {\n",
              "      border-color: transparent;\n",
              "      border-right-color: var(--fill-color);\n",
              "      border-bottom-color: var(--fill-color);\n",
              "    }\n",
              "    90% {\n",
              "      border-color: transparent;\n",
              "      border-bottom-color: var(--fill-color);\n",
              "    }\n",
              "  }\n",
              "</style>\n",
              "\n",
              "  <script>\n",
              "    async function quickchart(key) {\n",
              "      const quickchartButtonEl =\n",
              "        document.querySelector('#' + key + ' button');\n",
              "      quickchartButtonEl.disabled = true;  // To prevent multiple clicks.\n",
              "      quickchartButtonEl.classList.add('colab-df-spinner');\n",
              "      try {\n",
              "        const charts = await google.colab.kernel.invokeFunction(\n",
              "            'suggestCharts', [key], {});\n",
              "      } catch (error) {\n",
              "        console.error('Error during call to suggestCharts:', error);\n",
              "      }\n",
              "      quickchartButtonEl.classList.remove('colab-df-spinner');\n",
              "      quickchartButtonEl.classList.add('colab-df-quickchart-complete');\n",
              "    }\n",
              "    (() => {\n",
              "      let quickchartButtonEl =\n",
              "        document.querySelector('#df-6153c849-7867-4d93-b835-c99ec2fd614e button');\n",
              "      quickchartButtonEl.style.display =\n",
              "        google.colab.kernel.accessAllowed ? 'block' : 'none';\n",
              "    })();\n",
              "  </script>\n",
              "</div>\n",
              "    </div>\n",
              "  </div>\n"
            ],
            "application/vnd.google.colaboratory.intrinsic+json": {
              "type": "dataframe"
            }
          },
          "metadata": {},
          "execution_count": 19
        }
      ]
    },
    {
      "cell_type": "markdown",
      "source": [
        "Так как исследование предполагает анализ отдельных вакансий для специалистов DS и DA, то смежные вакансии могут исказить итоговые результаты. Поэтому их следует удалить."
      ],
      "metadata": {
        "id": "ncTeVw9SnFBv"
      }
    },
    {
      "cell_type": "code",
      "source": [
        "start_size = len(data_da) + len(data_ds)\n",
        "\n",
        "data_da = data_da[~(mask_da)]\n",
        "data_ds = data_ds[~(mask_ds)]\n",
        "\n",
        "print(f'Удалено данных итого - {1 - (len(data_da) + len(data_ds))/start_size:.2%}')"
      ],
      "metadata": {
        "colab": {
          "base_uri": "https://localhost:8080/"
        },
        "id": "vUnfwbEGn5wI",
        "outputId": "38fd5204-a538-4e8f-b40b-5f9fb7a60737"
      },
      "execution_count": 20,
      "outputs": [
        {
          "output_type": "stream",
          "name": "stdout",
          "text": [
            "Удалено данных итого - 6.89%\n"
          ]
        }
      ]
    },
    {
      "cell_type": "markdown",
      "source": [
        "Теперь посмотрим на поле area и оценим какие регионы присутствуют в наборе данных"
      ],
      "metadata": {
        "id": "l7WJP-LjHgQR"
      }
    },
    {
      "cell_type": "code",
      "source": [
        "# смотрим города в наборе вакансий DA\n",
        "data_da.area.value_counts()"
      ],
      "metadata": {
        "colab": {
          "base_uri": "https://localhost:8080/"
        },
        "id": "jYHjEQIIHrgV",
        "outputId": "efb18baf-8842-4b3f-d72e-bcfdcf744607"
      },
      "execution_count": 21,
      "outputs": [
        {
          "output_type": "execute_result",
          "data": {
            "text/plain": [
              "area\n",
              "Москва                          229\n",
              "Санкт-Петербург                  36\n",
              "Екатеринбург                      5\n",
              "Ростов-на-Дону                    3\n",
              "Краснодар                         3\n",
              "Новосибирск                       3\n",
              "Владивосток                       2\n",
              "Казань                            2\n",
              "Самара                            2\n",
              "Ступино                           1\n",
              "Нижний Новгород                   1\n",
              "Тюмень                            1\n",
              "Пермь                             1\n",
              "Киров (Кировская область)         1\n",
              "Ижевск                            1\n",
              "Воронеж                           1\n",
              "Калининград                       1\n",
              "Иваново (Ивановская область)      1\n",
              "Name: count, dtype: int64"
            ]
          },
          "metadata": {},
          "execution_count": 21
        }
      ]
    },
    {
      "cell_type": "code",
      "source": [
        "# смотрим города в наборе вакансий DS\n",
        "data_ds.area.value_counts()"
      ],
      "metadata": {
        "colab": {
          "base_uri": "https://localhost:8080/"
        },
        "id": "FsJuM8JvOq29",
        "outputId": "ed925705-ccc0-4060-c2ef-75329bb55062"
      },
      "execution_count": 22,
      "outputs": [
        {
          "output_type": "execute_result",
          "data": {
            "text/plain": [
              "area\n",
              "Москва             482\n",
              "Санкт-Петербург     61\n",
              "Новосибирск         14\n",
              "Нижний Новгород     13\n",
              "Екатеринбург         9\n",
              "Казань               8\n",
              "Тюмень               3\n",
              "Краснодар            3\n",
              "Томск                3\n",
              "Сочи                 2\n",
              "Самара               2\n",
              "Ижевск               2\n",
              "Воронеж              2\n",
              "Пермь                1\n",
              "Южно-Сахалинск       1\n",
              "Таганрог             1\n",
              "Калининград          1\n",
              "Челябинск            1\n",
              "Ярославль            1\n",
              "Ростов-на-Дону       1\n",
              "Name: count, dtype: int64"
            ]
          },
          "metadata": {},
          "execution_count": 22
        }
      ]
    },
    {
      "cell_type": "markdown",
      "source": [
        "Больше всего вакансий представлено в Москве и Санкт-Петербурге"
      ],
      "metadata": {
        "id": "k-SAgcZEPLw7"
      }
    },
    {
      "cell_type": "markdown",
      "source": [
        "Посмотрим на значения поля experience"
      ],
      "metadata": {
        "id": "DR0f5xKxPanR"
      }
    },
    {
      "cell_type": "code",
      "source": [
        "#смотрим грейды в наборе данных вакансий DA\n",
        "data_da.experience.value_counts()"
      ],
      "metadata": {
        "colab": {
          "base_uri": "https://localhost:8080/"
        },
        "id": "_GEDUCwUPgNG",
        "outputId": "bbc53e87-f7eb-42db-fe65-05634cb63da3"
      },
      "execution_count": 23,
      "outputs": [
        {
          "output_type": "execute_result",
          "data": {
            "text/plain": [
              "experience\n",
              "Junior+ (1-3 years)      165\n",
              "Middle (3-6 years)       117\n",
              "Junior (no experince)      9\n",
              "Senior (6+ years)          3\n",
              "Name: count, dtype: int64"
            ]
          },
          "metadata": {},
          "execution_count": 23
        }
      ]
    },
    {
      "cell_type": "code",
      "source": [
        "#смотрим грейды в наборе данных вакансий DS\n",
        "data_ds.experience.value_counts()"
      ],
      "metadata": {
        "colab": {
          "base_uri": "https://localhost:8080/"
        },
        "id": "kOa2Jyv_P8aE",
        "outputId": "295137f8-aaa4-4c7f-b69d-a5c9e8a9f0b9"
      },
      "execution_count": 24,
      "outputs": [
        {
          "output_type": "execute_result",
          "data": {
            "text/plain": [
              "experience\n",
              "Middle (3-6 years)       308\n",
              "Junior+ (1-3 years)      256\n",
              "Junior (no experince)     25\n",
              "Senior (6+ years)         22\n",
              "Name: count, dtype: int64"
            ]
          },
          "metadata": {},
          "execution_count": 24
        }
      ]
    },
    {
      "cell_type": "markdown",
      "source": [
        "В наборах данных представлено 4 грейда"
      ],
      "metadata": {
        "id": "IH7QMMB-QGWD"
      }
    },
    {
      "cell_type": "markdown",
      "source": [
        "Посмотрим на поле employment и определим типы занятости"
      ],
      "metadata": {
        "id": "D4GoXqrzQojW"
      }
    },
    {
      "cell_type": "code",
      "source": [
        "data_da.employment.value_counts()"
      ],
      "metadata": {
        "colab": {
          "base_uri": "https://localhost:8080/"
        },
        "id": "F7fjzmydQery",
        "outputId": "9fdbd081-cd04-486b-aad9-da645f6684b9"
      },
      "execution_count": 25,
      "outputs": [
        {
          "output_type": "execute_result",
          "data": {
            "text/plain": [
              "employment\n",
              "Полная занятость       293\n",
              "Частичная занятость      1\n",
              "Name: count, dtype: int64"
            ]
          },
          "metadata": {},
          "execution_count": 25
        }
      ]
    },
    {
      "cell_type": "code",
      "source": [
        "data_ds.employment.value_counts()"
      ],
      "metadata": {
        "colab": {
          "base_uri": "https://localhost:8080/"
        },
        "id": "CHX-ZMhgQiTm",
        "outputId": "4a0500c0-0cf7-46e6-92af-91a63dce1b97"
      },
      "execution_count": 26,
      "outputs": [
        {
          "output_type": "execute_result",
          "data": {
            "text/plain": [
              "employment\n",
              "Полная занятость       596\n",
              "Стажировка              12\n",
              "Проектная работа         2\n",
              "Частичная занятость      1\n",
              "Name: count, dtype: int64"
            ]
          },
          "metadata": {},
          "execution_count": 26
        }
      ]
    },
    {
      "cell_type": "markdown",
      "source": [
        "Посмотрим поле schedule"
      ],
      "metadata": {
        "id": "OVAk6-_wSpAT"
      }
    },
    {
      "cell_type": "code",
      "source": [
        "data_da.schedule.value_counts()"
      ],
      "metadata": {
        "colab": {
          "base_uri": "https://localhost:8080/"
        },
        "id": "4EEIrooPTHU6",
        "outputId": "bb5d0f03-9c2a-4f97-9298-06bcd7312b6b"
      },
      "execution_count": 27,
      "outputs": [
        {
          "output_type": "execute_result",
          "data": {
            "text/plain": [
              "schedule\n",
              "Полный день         220\n",
              "Удаленная работа     63\n",
              "Гибкий график         7\n",
              "Сменный график        4\n",
              "Name: count, dtype: int64"
            ]
          },
          "metadata": {},
          "execution_count": 27
        }
      ]
    },
    {
      "cell_type": "code",
      "source": [
        "data_ds.schedule.value_counts()"
      ],
      "metadata": {
        "colab": {
          "base_uri": "https://localhost:8080/"
        },
        "id": "p67vkxN9TLjI",
        "outputId": "7ab9ef34-a868-407b-cda4-0979d18ac5a3"
      },
      "execution_count": 28,
      "outputs": [
        {
          "output_type": "execute_result",
          "data": {
            "text/plain": [
              "schedule\n",
              "Полный день         468\n",
              "Удаленная работа    110\n",
              "Гибкий график        30\n",
              "Сменный график        3\n",
              "Name: count, dtype: int64"
            ]
          },
          "metadata": {},
          "execution_count": 28
        }
      ]
    },
    {
      "cell_type": "markdown",
      "source": [
        "И на последок посмотрим на данные в поле employer"
      ],
      "metadata": {
        "id": "W9-UuTnYcXHn"
      }
    },
    {
      "cell_type": "code",
      "source": [
        "data_da.employer.unique()"
      ],
      "metadata": {
        "colab": {
          "base_uri": "https://localhost:8080/"
        },
        "id": "dHODOKZHcagf",
        "outputId": "81c2ef2e-2958-425d-dd03-fa181be47490"
      },
      "execution_count": 29,
      "outputs": [
        {
          "output_type": "execute_result",
          "data": {
            "text/plain": [
              "array(['Телеком биржа', 'Axenix (ранее Accenture)', 'IQnergy', 'Okko',\n",
              "       'Бланк – банк для бизнеса', '«UZUM TECHNOLOGIES».', 'RUTUBE',\n",
              "       'ПСБ (ПАО «Промсвязьбанк»)', 'Evercode Lab',\n",
              "       'Судоходная компания Волжское пароходство', 'Ок Софт', 'МедиаСофт',\n",
              "       'Центральный банк Российской Федерации', 'WILDBERRIES',\n",
              "       'МАГНИТ, Розничная сеть', 'Займиго МФК', 'ГКУ Инфогород', 'МТС',\n",
              "       'СБЕР', 'Joom', 'Сравни', 'Lesta Games', 'StudyWorld',\n",
              "       'Онлайн-школа Тетрика', 'Go Ahead', 'РЕСО-Гарантия, САО',\n",
              "       'Финтех Айкью', 'АДВ', 'Марс', 'DNS Технологии', 'Спортмастер',\n",
              "       'Carely', 'OMD OM Group', 'ЦРТ | Группа компаний', 'Квиллис',\n",
              "       'Кей Ти Эн Джи Глобал Рус', 'Maxim technology',\n",
              "       'Лента, федеральная розничная сеть',\n",
              "       'Национальный исследовательский университет Высшая школа экономики',\n",
              "       'Garage Eight', 'Кофемания',\n",
              "       'Группа компаний Стильные Кухни и Интерьеры', 'Талала', 'Devim',\n",
              "       'Самокат (ООО Умный ритейл)', 'АйТи Тех', 'Fundraise Up',\n",
              "       'Ситимобил ООО Транс-Миссия', 'Fplus', 'Employcity', 'KONNEKTU',\n",
              "       'Звук', 'Sigma Academy (ООО АДИ групп)', 'Группа КБ-12',\n",
              "       'КБ Уральский банк реконструкции и развития (УБРиР)', 'Почта Банк',\n",
              "       'Московская Биржа', 'СберМобайл', 'AppMagic', 'MTRENDO',\n",
              "       'АйТиКвик', 'Интерлизинг', 'Innovative People', 'Адверт Лабс',\n",
              "       'INSITECH Development', 'getmatch', 'FISH FINDER', 'Диплей',\n",
              "       'ProfeeLab', 'РСХБ-Интех', 'ФЛАУВАУ', 'Медиапоинт', 'Перекрёсток',\n",
              "       'X5 Tech', 'ЧУ ДО Московская школа программистов',\n",
              "       'АО «ОТП Банк» (JSC «OTP Bank»)', 'Новартис Фарма',\n",
              "       'Защищенные Телекоммуникации', 'TradingView', 'Ventra', 'ОКБ',\n",
              "       'Aston', 'Marfatech', 'USETECH', 'HuntIT', 'SberAutoTech',\n",
              "       'Excdev', 'Globaldrive', 'JEDai', 'Русджам Стеклотара Холдинг',\n",
              "       'Группа компаний eLama', 'Двигус', 'Ак Барс Банк',\n",
              "       'Lenkep recruitment', 'ANCOR', 'Skycoach',\n",
              "       'Федеральная сеть книжных магазинов Читай-город', 'EMCD Tech LTD',\n",
              "       'AliExpress', 'LoyaltyPlant',\n",
              "       'Группа компаний «Group4Media», Управляющая компания',\n",
              "       'Ventra IT Solutions', 'Wanted', 'Partnerkin', 'Repay',\n",
              "       'Finstar Financial Group', 'Красное & Белое, розничная сеть',\n",
              "       'GuruLeads', 'Альфа Капитал', 'Комус', 'Ситидрайв',\n",
              "       'Электромобили Мануфэкчуринг Рус', 'WeMakeTeam', 'Райффайзен Банк',\n",
              "       'Тануки, японский ресторан', 'Playrix', 'Адверт Лайн',\n",
              "       'Appie.tech', 'Hexlet', 'Платформа Больших Данных', 'KODE',\n",
              "       'Payler', 'ЛингуаЛео', 'Wannabe', 'IBS', 'Adequo', 'Мозен',\n",
              "       'Скайтек', 'AWG', 'АКБ Национальный Резервный Банк',\n",
              "       'Диджитал Лайн', 'BestDoctor', 'Зигмунд Онлайн', 'Альфа-Банк',\n",
              "       'vlg digital', 'МегаФон', 'Компания CADesign', 'Леруа Мерлен',\n",
              "       'Valiotti Analytics', 'Mayflower', 'MARSHALL', 'GlowByte',\n",
              "       'GSL Law & Consulting', 'MIGX GmbH', 'Колл Солюшенс',\n",
              "       'Данные – центр обработки и автоматизации',\n",
              "       'Бюро судебного взыскания', 'КОРУС Консалтинг', 'Центр Орбита',\n",
              "       'АТОМ', 'Reinvent Baltics'], dtype=object)"
            ]
          },
          "metadata": {},
          "execution_count": 29
        }
      ]
    },
    {
      "cell_type": "code",
      "source": [
        "data_ds.employer.unique()"
      ],
      "metadata": {
        "colab": {
          "base_uri": "https://localhost:8080/"
        },
        "id": "cNdg2-1VdEW0",
        "outputId": "e3741c71-daeb-4fa1-8f7e-42d1ecf3350e"
      },
      "execution_count": 30,
      "outputs": [
        {
          "output_type": "execute_result",
          "data": {
            "text/plain": [
              "array(['Ozon', 'Банк ВТБ (ПАО)', 'Университет Иннополис',\n",
              "       'Профи (profi.ru)', 'Совкомбанк', 'Домклик',\n",
              "       'Специальный Технологический Центр (ООО СТЦ)', 'Газпром нефть',\n",
              "       'Альфа-Банк', 'Вкусно — и точка', 'Samokat.tech',\n",
              "       'Филиал в г. Санкт-Петербург АО Концерн Радиостроения Вега',\n",
              "       'YADRO', 'МТС', 'ОКБ', 'Гудфокаст', 'Faberlic', 'СБЕР',\n",
              "       'РУСАЛ, Центр подбора персонала', 'Т1', 'ARK', 'TWINO',\n",
              "       'Спортмастер', 'Rubbles', 'Carcade Leasing', 'БАНК УРАЛСИБ',\n",
              "       'Группа Гута', 'Еврокаппа', '2ГИС', 'Розничная сеть МТС',\n",
              "       '1221Системс', 'DM365', 'АТОН', 'Газпромбанк', 'СберОбразование',\n",
              "       'ВСК, САО', 'ИК СИБИНТЕК', 'РОСБАНК', 'Медиапоинт', 'Яндекс',\n",
              "       'Lamoda Tech', 'Лаборатория Наносемантика',\n",
              "       'Трубная Металлургическая Компания', 'Экспобанк',\n",
              "       'Банк Русский Стандарт', 'СберЛизинг',\n",
              "       'ФАУ Единый институт пространственного планирования РФ',\n",
              "       'HeadHunter', 'SL Soft', 'Finstar Financial Group', 'Нетология',\n",
              "       'Группа НЛМК', 'билайн', 'АШАН Ритейл Россия',\n",
              "       'Конструкторское Бюро Синергия', 'АО «ОТП Банк» (JSC «OTP Bank»)',\n",
              "       'СИБУР, Группа компаний', 'Апэрбот', 'ЭЛВИС-НеоТек', 'Крибрум',\n",
              "       'ТЕКОН-Инжиниринг', 'Okko', 'Pudov', 'DIGITAL FUTURE SYSTEMS',\n",
              "       'Kokoc Group', 'Unilever', 'Промышленные инновации',\n",
              "       'Райффайзен Банк', 'BestDoctor', 'Okkam', 'Лаборатория ВС',\n",
              "       'Appfox', 'РДП.РУ', 'Ростелеком', 'Концерн Созвездие',\n",
              "       'Аналитический центр при Правительстве Российской Федерации',\n",
              "       'ЛИГРЕС', 'STARTRIBE LTD', 'Ренессанс cтрахование, Группа',\n",
              "       'Alliesverse', 'Институт искусственного интеллекта AIRI',\n",
              "       'ТетраСофт', 'WILDBERRIES', 'Tele2', 'Spice Agency',\n",
              "       'Data Acquisition', 'Транснефть-Технологии', 'Сравни',\n",
              "       'Компания Самолет', 'Куарми', 'Netex24',\n",
              "       'Самокат (ООО Умный ритейл)', 'PepsiCo', 'USETECH', 'ГК ФСК',\n",
              "       'Поток.Диджитал', 'МегаФон',\n",
              "       'Центр Методического Обеспечения Оптимизации Процессов Государственного Управления в Московской области',\n",
              "       'Datana', 'OneTwoTrip', 'Data-Driven Lab', 'Жизньмарт',\n",
              "       'Cifrasoft', 'Группа компаний STADA', 'Эвокарго', 'Мокка',\n",
              "       'ЦУМ, ТД', 'DODO BRANDS (Dodo Pizza, Drinkit, Кебстер)',\n",
              "       'Axenix (ранее Accenture)', 'Управтреб', 'ГК «ХайТэк»', 'Полюс',\n",
              "       'Ингосстрах', 'Aramco Innovations', 'Правительство Москвы',\n",
              "       'Ситидрайв', 'Ак Барс Цифровые Технологии', 'БиАйЭй-Технолоджиз',\n",
              "       'ДОМ.РФ', 'Тюменский нефтяной научный центр', 'AMarkets',\n",
              "       'Fundraise Up', 'СберМаркет', 'JuicyScore', 'Интерлизинг',\n",
              "       'Employcity', 'Cloud.ru', '7RedLines', 'Россельхозбанк',\n",
              "       'Автомакон', 'РСХБ-Интех', 'Неофлекс',\n",
              "       'Бюро кредитных историй Скоринг Бюро', 'Changellenge',\n",
              "       'Сахалин - Остров Возможностей', 'Медиалогия', 'X5 Tech',\n",
              "       'Компания БКС', 'Oil and Gas Production Tools', 'Headwise LLC',\n",
              "       'DCS', 'РТЛабс', 'К2-Техно', 'Skillfactory', 'Career Solutions',\n",
              "       'Sape', 'ЦИФРОВЫЕ ТЕХНОЛОГИИ ЗДОРОВЬЯ', 'Открытый код', 'Солар',\n",
              "       'Softline', 'Сбер Бизнес Софт', 'VK', 'Эр-1', 'Тинькофф', 'СДЭК',\n",
              "       'ГБУ МосТрансПроект', 'Северсталь',\n",
              "       'Отраслевой центр разработки и внедрения информационных систем / ОЦРВ',\n",
              "       'Саппи Аналитикс', 'Европлан', 'MERLION', 'СимбирСофт', 'Nexpanse',\n",
              "       'Hi, Rockits!', 'СК Сбербанк страхование жизни', 'АВИТО ТЕХ',\n",
              "       'Adwirk Group', 'Робот Мия', 'Лента, федеральная розничная сеть',\n",
              "       'ИЦ АЙ-ТЕКО', 'ФГУП НИИ Квант', 'Гознак', 'Почта Банк',\n",
              "       'Бюро судебного взыскания', 'Московский Кредитный Банк', 'Simple',\n",
              "       'Цифровые технологии и платформы',\n",
              "       'Межрегиональный ТранзитТелеком (АО МТТ)', 'Совкомбанк Технологии',\n",
              "       'Sports', 'ФГБОУ ВО МГТУ им. Н.Э. Баумана',\n",
              "       'ПСБ (ПАО «Промсвязьбанк»)', 'РИГ', 'Интеллектуальная разработка',\n",
              "       'ГАУ Города Москвы Центр цифровизации образования', 'А Деньги',\n",
              "       'МАГНИТ, Розничная сеть', 'Ventra IT Solutions', 'ЛАНИТ',\n",
              "       'RapidSeedbox ltd', 'Объединенная Консалтинговая Группа', 'Цемрос',\n",
              "       'Консалтика', 'Алгоритмик Дата', 'Рафт Диджитал Солюшенс',\n",
              "       'МАГ Девелопмент', 'Талала', 'ЭДС', 'Бэнкс Софт Системс',\n",
              "       'Фертоинг', 'РУССКАЯ МОРСКАЯ КОМАНДА', 'Selecty', 'Gravity Field',\n",
              "       'Intelligent Analytics', 'РЕСТАДВАЙЗЕР', 'Университет ИТМО',\n",
              "       'ЦЕНТРОФИНАНС', 'ВК ИТС', 'Rambler&Co',\n",
              "       'Тестовая компания Песочница для разработчиков ПО Диасофт',\n",
              "       'Банк Санкт-Петербург', 'РОТЕК', 'Новео', 'GlowByte', 'БЕТСИТИ',\n",
              "       'Click'], dtype=object)"
            ]
          },
          "metadata": {},
          "execution_count": 30
        }
      ]
    },
    {
      "cell_type": "markdown",
      "source": [
        "С наименованиями работодателей нет ошибок"
      ],
      "metadata": {
        "id": "fFRRNzrUjKI1"
      }
    },
    {
      "cell_type": "markdown",
      "source": [
        "# 3 Исследовательский анализ данных"
      ],
      "metadata": {
        "id": "mOqJyq8LgaG8"
      }
    },
    {
      "cell_type": "markdown",
      "source": [
        "Опеделеим период, который представлен в данных"
      ],
      "metadata": {
        "id": "-Uy5POJSf-PP"
      }
    },
    {
      "cell_type": "code",
      "source": [
        "print('Минимальная дата ', data_ds.published_at.dt.date.min())\n",
        "print('Максимальная дата ', data_da.published_at.dt.date.max())"
      ],
      "metadata": {
        "colab": {
          "base_uri": "https://localhost:8080/"
        },
        "id": "AgAV8c-ZgNvJ",
        "outputId": "5c77a7df-fda1-4d6a-b507-446dfe151060"
      },
      "execution_count": 31,
      "outputs": [
        {
          "output_type": "stream",
          "name": "stdout",
          "text": [
            "Минимальная дата  2024-02-29\n",
            "Максимальная дата  2024-04-30\n"
          ]
        }
      ]
    },
    {
      "cell_type": "markdown",
      "source": [
        "Посмотрим какое количество вакансий открыто на платформе для аналитиков данных и специалистов DS"
      ],
      "metadata": {
        "id": "tcSwV24de-PP"
      }
    },
    {
      "cell_type": "code",
      "source": [
        "print('Открытых вакансий на Аналитика данных - ', data_da.shape[0])\n",
        "print('Открытых вакансий на специалиста DS - ', data_ds.shape[0])"
      ],
      "metadata": {
        "colab": {
          "base_uri": "https://localhost:8080/"
        },
        "id": "gZyvThe2ezVp",
        "outputId": "110516de-9a86-4e00-db7f-1db83b6233bc"
      },
      "execution_count": 32,
      "outputs": [
        {
          "output_type": "stream",
          "name": "stdout",
          "text": [
            "Открытых вакансий на Аналитика данных -  294\n",
            "Открытых вакансий на специалиста DS -  611\n"
          ]
        }
      ]
    },
    {
      "cell_type": "markdown",
      "source": [
        "Вакансий аналитиков в дваза раза меньше, чем вакансий специалиста DS"
      ],
      "metadata": {
        "id": "51yBuiNXf-Cm"
      }
    },
    {
      "cell_type": "markdown",
      "source": [
        "Определим топ 5 часто встречаемых наименований вакансий обоих направлений\n",
        "\n",
        "Чтобы решить эту задачу, создадим функцию, которая будет принимать требуемый датафрейм и параметры исследования. На основе этих данных функция сформирует нужный рейтинг и предоставит его с визуализацией"
      ],
      "metadata": {
        "id": "lEyY0NIngJDU"
      }
    },
    {
      "cell_type": "code",
      "source": [
        "def get_top_vacancy(data, field, top, type, desc):\n",
        "  top_names = data[field].str.lower().value_counts()[:top]\n",
        "  fig = px.bar(top_names, title=f'Топ {top} {desc} вакансий {type}')\n",
        "  fig.update_layout(\n",
        "          showlegend=False\n",
        "      )\n",
        "  fig.show()"
      ],
      "metadata": {
        "id": "ZWuh0YulY6fj"
      },
      "execution_count": 33,
      "outputs": []
    },
    {
      "cell_type": "code",
      "source": [
        "get_top_vacancy(data_da, 'name', 5, 'DA', 'наименований')"
      ],
      "metadata": {
        "colab": {
          "base_uri": "https://localhost:8080/",
          "height": 542
        },
        "id": "6x_1QztygVF6",
        "outputId": "2a1f2baf-829e-4718-9529-b913a3c2dfb3"
      },
      "execution_count": 34,
      "outputs": [
        {
          "output_type": "display_data",
          "data": {
            "text/html": [
              "<html>\n",
              "<head><meta charset=\"utf-8\" /></head>\n",
              "<body>\n",
              "    <div>            <script src=\"https://cdnjs.cloudflare.com/ajax/libs/mathjax/2.7.5/MathJax.js?config=TeX-AMS-MML_SVG\"></script><script type=\"text/javascript\">if (window.MathJax && window.MathJax.Hub && window.MathJax.Hub.Config) {window.MathJax.Hub.Config({SVG: {font: \"STIX-Web\"}});}</script>                <script type=\"text/javascript\">window.PlotlyConfig = {MathJaxConfig: 'local'};</script>\n",
              "        <script charset=\"utf-8\" src=\"https://cdn.plot.ly/plotly-2.24.1.min.js\"></script>                <div id=\"6aea76dc-8953-4245-b00c-df3377444ca2\" class=\"plotly-graph-div\" style=\"height:525px; width:100%;\"></div>            <script type=\"text/javascript\">                                    window.PLOTLYENV=window.PLOTLYENV || {};                                    if (document.getElementById(\"6aea76dc-8953-4245-b00c-df3377444ca2\")) {                    Plotly.newPlot(                        \"6aea76dc-8953-4245-b00c-df3377444ca2\",                        [{\"alignmentgroup\":\"True\",\"hovertemplate\":\"variable=count\\u003cbr\\u003ename=%{x}\\u003cbr\\u003evalue=%{y}\\u003cextra\\u003e\\u003c\\u002fextra\\u003e\",\"legendgroup\":\"count\",\"marker\":{\"color\":\"#636efa\",\"pattern\":{\"shape\":\"\"}},\"name\":\"count\",\"offsetgroup\":\"count\",\"orientation\":\"v\",\"showlegend\":true,\"textposition\":\"auto\",\"x\":[\"data analyst\",\"senior data analyst\",\"junior data analyst\",\"middle data analyst\",\"lead data analyst\"],\"xaxis\":\"x\",\"y\":[102,11,8,6,4],\"yaxis\":\"y\",\"type\":\"bar\"}],                        {\"template\":{\"data\":{\"histogram2dcontour\":[{\"type\":\"histogram2dcontour\",\"colorbar\":{\"outlinewidth\":0,\"ticks\":\"\"},\"colorscale\":[[0.0,\"#0d0887\"],[0.1111111111111111,\"#46039f\"],[0.2222222222222222,\"#7201a8\"],[0.3333333333333333,\"#9c179e\"],[0.4444444444444444,\"#bd3786\"],[0.5555555555555556,\"#d8576b\"],[0.6666666666666666,\"#ed7953\"],[0.7777777777777778,\"#fb9f3a\"],[0.8888888888888888,\"#fdca26\"],[1.0,\"#f0f921\"]]}],\"choropleth\":[{\"type\":\"choropleth\",\"colorbar\":{\"outlinewidth\":0,\"ticks\":\"\"}}],\"histogram2d\":[{\"type\":\"histogram2d\",\"colorbar\":{\"outlinewidth\":0,\"ticks\":\"\"},\"colorscale\":[[0.0,\"#0d0887\"],[0.1111111111111111,\"#46039f\"],[0.2222222222222222,\"#7201a8\"],[0.3333333333333333,\"#9c179e\"],[0.4444444444444444,\"#bd3786\"],[0.5555555555555556,\"#d8576b\"],[0.6666666666666666,\"#ed7953\"],[0.7777777777777778,\"#fb9f3a\"],[0.8888888888888888,\"#fdca26\"],[1.0,\"#f0f921\"]]}],\"heatmap\":[{\"type\":\"heatmap\",\"colorbar\":{\"outlinewidth\":0,\"ticks\":\"\"},\"colorscale\":[[0.0,\"#0d0887\"],[0.1111111111111111,\"#46039f\"],[0.2222222222222222,\"#7201a8\"],[0.3333333333333333,\"#9c179e\"],[0.4444444444444444,\"#bd3786\"],[0.5555555555555556,\"#d8576b\"],[0.6666666666666666,\"#ed7953\"],[0.7777777777777778,\"#fb9f3a\"],[0.8888888888888888,\"#fdca26\"],[1.0,\"#f0f921\"]]}],\"heatmapgl\":[{\"type\":\"heatmapgl\",\"colorbar\":{\"outlinewidth\":0,\"ticks\":\"\"},\"colorscale\":[[0.0,\"#0d0887\"],[0.1111111111111111,\"#46039f\"],[0.2222222222222222,\"#7201a8\"],[0.3333333333333333,\"#9c179e\"],[0.4444444444444444,\"#bd3786\"],[0.5555555555555556,\"#d8576b\"],[0.6666666666666666,\"#ed7953\"],[0.7777777777777778,\"#fb9f3a\"],[0.8888888888888888,\"#fdca26\"],[1.0,\"#f0f921\"]]}],\"contourcarpet\":[{\"type\":\"contourcarpet\",\"colorbar\":{\"outlinewidth\":0,\"ticks\":\"\"}}],\"contour\":[{\"type\":\"contour\",\"colorbar\":{\"outlinewidth\":0,\"ticks\":\"\"},\"colorscale\":[[0.0,\"#0d0887\"],[0.1111111111111111,\"#46039f\"],[0.2222222222222222,\"#7201a8\"],[0.3333333333333333,\"#9c179e\"],[0.4444444444444444,\"#bd3786\"],[0.5555555555555556,\"#d8576b\"],[0.6666666666666666,\"#ed7953\"],[0.7777777777777778,\"#fb9f3a\"],[0.8888888888888888,\"#fdca26\"],[1.0,\"#f0f921\"]]}],\"surface\":[{\"type\":\"surface\",\"colorbar\":{\"outlinewidth\":0,\"ticks\":\"\"},\"colorscale\":[[0.0,\"#0d0887\"],[0.1111111111111111,\"#46039f\"],[0.2222222222222222,\"#7201a8\"],[0.3333333333333333,\"#9c179e\"],[0.4444444444444444,\"#bd3786\"],[0.5555555555555556,\"#d8576b\"],[0.6666666666666666,\"#ed7953\"],[0.7777777777777778,\"#fb9f3a\"],[0.8888888888888888,\"#fdca26\"],[1.0,\"#f0f921\"]]}],\"mesh3d\":[{\"type\":\"mesh3d\",\"colorbar\":{\"outlinewidth\":0,\"ticks\":\"\"}}],\"scatter\":[{\"fillpattern\":{\"fillmode\":\"overlay\",\"size\":10,\"solidity\":0.2},\"type\":\"scatter\"}],\"parcoords\":[{\"type\":\"parcoords\",\"line\":{\"colorbar\":{\"outlinewidth\":0,\"ticks\":\"\"}}}],\"scatterpolargl\":[{\"type\":\"scatterpolargl\",\"marker\":{\"colorbar\":{\"outlinewidth\":0,\"ticks\":\"\"}}}],\"bar\":[{\"error_x\":{\"color\":\"#2a3f5f\"},\"error_y\":{\"color\":\"#2a3f5f\"},\"marker\":{\"line\":{\"color\":\"#E5ECF6\",\"width\":0.5},\"pattern\":{\"fillmode\":\"overlay\",\"size\":10,\"solidity\":0.2}},\"type\":\"bar\"}],\"scattergeo\":[{\"type\":\"scattergeo\",\"marker\":{\"colorbar\":{\"outlinewidth\":0,\"ticks\":\"\"}}}],\"scatterpolar\":[{\"type\":\"scatterpolar\",\"marker\":{\"colorbar\":{\"outlinewidth\":0,\"ticks\":\"\"}}}],\"histogram\":[{\"marker\":{\"pattern\":{\"fillmode\":\"overlay\",\"size\":10,\"solidity\":0.2}},\"type\":\"histogram\"}],\"scattergl\":[{\"type\":\"scattergl\",\"marker\":{\"colorbar\":{\"outlinewidth\":0,\"ticks\":\"\"}}}],\"scatter3d\":[{\"type\":\"scatter3d\",\"line\":{\"colorbar\":{\"outlinewidth\":0,\"ticks\":\"\"}},\"marker\":{\"colorbar\":{\"outlinewidth\":0,\"ticks\":\"\"}}}],\"scattermapbox\":[{\"type\":\"scattermapbox\",\"marker\":{\"colorbar\":{\"outlinewidth\":0,\"ticks\":\"\"}}}],\"scatterternary\":[{\"type\":\"scatterternary\",\"marker\":{\"colorbar\":{\"outlinewidth\":0,\"ticks\":\"\"}}}],\"scattercarpet\":[{\"type\":\"scattercarpet\",\"marker\":{\"colorbar\":{\"outlinewidth\":0,\"ticks\":\"\"}}}],\"carpet\":[{\"aaxis\":{\"endlinecolor\":\"#2a3f5f\",\"gridcolor\":\"white\",\"linecolor\":\"white\",\"minorgridcolor\":\"white\",\"startlinecolor\":\"#2a3f5f\"},\"baxis\":{\"endlinecolor\":\"#2a3f5f\",\"gridcolor\":\"white\",\"linecolor\":\"white\",\"minorgridcolor\":\"white\",\"startlinecolor\":\"#2a3f5f\"},\"type\":\"carpet\"}],\"table\":[{\"cells\":{\"fill\":{\"color\":\"#EBF0F8\"},\"line\":{\"color\":\"white\"}},\"header\":{\"fill\":{\"color\":\"#C8D4E3\"},\"line\":{\"color\":\"white\"}},\"type\":\"table\"}],\"barpolar\":[{\"marker\":{\"line\":{\"color\":\"#E5ECF6\",\"width\":0.5},\"pattern\":{\"fillmode\":\"overlay\",\"size\":10,\"solidity\":0.2}},\"type\":\"barpolar\"}],\"pie\":[{\"automargin\":true,\"type\":\"pie\"}]},\"layout\":{\"autotypenumbers\":\"strict\",\"colorway\":[\"#636efa\",\"#EF553B\",\"#00cc96\",\"#ab63fa\",\"#FFA15A\",\"#19d3f3\",\"#FF6692\",\"#B6E880\",\"#FF97FF\",\"#FECB52\"],\"font\":{\"color\":\"#2a3f5f\"},\"hovermode\":\"closest\",\"hoverlabel\":{\"align\":\"left\"},\"paper_bgcolor\":\"white\",\"plot_bgcolor\":\"#E5ECF6\",\"polar\":{\"bgcolor\":\"#E5ECF6\",\"angularaxis\":{\"gridcolor\":\"white\",\"linecolor\":\"white\",\"ticks\":\"\"},\"radialaxis\":{\"gridcolor\":\"white\",\"linecolor\":\"white\",\"ticks\":\"\"}},\"ternary\":{\"bgcolor\":\"#E5ECF6\",\"aaxis\":{\"gridcolor\":\"white\",\"linecolor\":\"white\",\"ticks\":\"\"},\"baxis\":{\"gridcolor\":\"white\",\"linecolor\":\"white\",\"ticks\":\"\"},\"caxis\":{\"gridcolor\":\"white\",\"linecolor\":\"white\",\"ticks\":\"\"}},\"coloraxis\":{\"colorbar\":{\"outlinewidth\":0,\"ticks\":\"\"}},\"colorscale\":{\"sequential\":[[0.0,\"#0d0887\"],[0.1111111111111111,\"#46039f\"],[0.2222222222222222,\"#7201a8\"],[0.3333333333333333,\"#9c179e\"],[0.4444444444444444,\"#bd3786\"],[0.5555555555555556,\"#d8576b\"],[0.6666666666666666,\"#ed7953\"],[0.7777777777777778,\"#fb9f3a\"],[0.8888888888888888,\"#fdca26\"],[1.0,\"#f0f921\"]],\"sequentialminus\":[[0.0,\"#0d0887\"],[0.1111111111111111,\"#46039f\"],[0.2222222222222222,\"#7201a8\"],[0.3333333333333333,\"#9c179e\"],[0.4444444444444444,\"#bd3786\"],[0.5555555555555556,\"#d8576b\"],[0.6666666666666666,\"#ed7953\"],[0.7777777777777778,\"#fb9f3a\"],[0.8888888888888888,\"#fdca26\"],[1.0,\"#f0f921\"]],\"diverging\":[[0,\"#8e0152\"],[0.1,\"#c51b7d\"],[0.2,\"#de77ae\"],[0.3,\"#f1b6da\"],[0.4,\"#fde0ef\"],[0.5,\"#f7f7f7\"],[0.6,\"#e6f5d0\"],[0.7,\"#b8e186\"],[0.8,\"#7fbc41\"],[0.9,\"#4d9221\"],[1,\"#276419\"]]},\"xaxis\":{\"gridcolor\":\"white\",\"linecolor\":\"white\",\"ticks\":\"\",\"title\":{\"standoff\":15},\"zerolinecolor\":\"white\",\"automargin\":true,\"zerolinewidth\":2},\"yaxis\":{\"gridcolor\":\"white\",\"linecolor\":\"white\",\"ticks\":\"\",\"title\":{\"standoff\":15},\"zerolinecolor\":\"white\",\"automargin\":true,\"zerolinewidth\":2},\"scene\":{\"xaxis\":{\"backgroundcolor\":\"#E5ECF6\",\"gridcolor\":\"white\",\"linecolor\":\"white\",\"showbackground\":true,\"ticks\":\"\",\"zerolinecolor\":\"white\",\"gridwidth\":2},\"yaxis\":{\"backgroundcolor\":\"#E5ECF6\",\"gridcolor\":\"white\",\"linecolor\":\"white\",\"showbackground\":true,\"ticks\":\"\",\"zerolinecolor\":\"white\",\"gridwidth\":2},\"zaxis\":{\"backgroundcolor\":\"#E5ECF6\",\"gridcolor\":\"white\",\"linecolor\":\"white\",\"showbackground\":true,\"ticks\":\"\",\"zerolinecolor\":\"white\",\"gridwidth\":2}},\"shapedefaults\":{\"line\":{\"color\":\"#2a3f5f\"}},\"annotationdefaults\":{\"arrowcolor\":\"#2a3f5f\",\"arrowhead\":0,\"arrowwidth\":1},\"geo\":{\"bgcolor\":\"white\",\"landcolor\":\"#E5ECF6\",\"subunitcolor\":\"white\",\"showland\":true,\"showlakes\":true,\"lakecolor\":\"white\"},\"title\":{\"x\":0.05},\"mapbox\":{\"style\":\"light\"}}},\"xaxis\":{\"anchor\":\"y\",\"domain\":[0.0,1.0],\"title\":{\"text\":\"name\"}},\"yaxis\":{\"anchor\":\"x\",\"domain\":[0.0,1.0],\"title\":{\"text\":\"value\"}},\"legend\":{\"title\":{\"text\":\"variable\"},\"tracegroupgap\":0},\"title\":{\"text\":\"\\u0422\\u043e\\u043f 5 \\u043d\\u0430\\u0438\\u043c\\u0435\\u043d\\u043e\\u0432\\u0430\\u043d\\u0438\\u0439 \\u0432\\u0430\\u043a\\u0430\\u043d\\u0441\\u0438\\u0439 DA\"},\"barmode\":\"relative\",\"showlegend\":false},                        {\"responsive\": true}                    ).then(function(){\n",
              "                            \n",
              "var gd = document.getElementById('6aea76dc-8953-4245-b00c-df3377444ca2');\n",
              "var x = new MutationObserver(function (mutations, observer) {{\n",
              "        var display = window.getComputedStyle(gd).display;\n",
              "        if (!display || display === 'none') {{\n",
              "            console.log([gd, 'removed!']);\n",
              "            Plotly.purge(gd);\n",
              "            observer.disconnect();\n",
              "        }}\n",
              "}});\n",
              "\n",
              "// Listen for the removal of the full notebook cells\n",
              "var notebookContainer = gd.closest('#notebook-container');\n",
              "if (notebookContainer) {{\n",
              "    x.observe(notebookContainer, {childList: true});\n",
              "}}\n",
              "\n",
              "// Listen for the clearing of the current output cell\n",
              "var outputEl = gd.closest('.output');\n",
              "if (outputEl) {{\n",
              "    x.observe(outputEl, {childList: true});\n",
              "}}\n",
              "\n",
              "                        })                };                            </script>        </div>\n",
              "</body>\n",
              "</html>"
            ]
          },
          "metadata": {}
        }
      ]
    },
    {
      "cell_type": "code",
      "source": [
        "get_top_vacancy(data_ds, 'name', 5, 'DS', 'наименований')"
      ],
      "metadata": {
        "colab": {
          "base_uri": "https://localhost:8080/",
          "height": 542
        },
        "id": "ieFhv-y9Vqjz",
        "outputId": "86e86365-d062-4e3c-b6f6-77f2e113ad4e"
      },
      "execution_count": 35,
      "outputs": [
        {
          "output_type": "display_data",
          "data": {
            "text/html": [
              "<html>\n",
              "<head><meta charset=\"utf-8\" /></head>\n",
              "<body>\n",
              "    <div>            <script src=\"https://cdnjs.cloudflare.com/ajax/libs/mathjax/2.7.5/MathJax.js?config=TeX-AMS-MML_SVG\"></script><script type=\"text/javascript\">if (window.MathJax && window.MathJax.Hub && window.MathJax.Hub.Config) {window.MathJax.Hub.Config({SVG: {font: \"STIX-Web\"}});}</script>                <script type=\"text/javascript\">window.PlotlyConfig = {MathJaxConfig: 'local'};</script>\n",
              "        <script charset=\"utf-8\" src=\"https://cdn.plot.ly/plotly-2.24.1.min.js\"></script>                <div id=\"7dc9828c-ce30-4cef-baee-208f08091a22\" class=\"plotly-graph-div\" style=\"height:525px; width:100%;\"></div>            <script type=\"text/javascript\">                                    window.PLOTLYENV=window.PLOTLYENV || {};                                    if (document.getElementById(\"7dc9828c-ce30-4cef-baee-208f08091a22\")) {                    Plotly.newPlot(                        \"7dc9828c-ce30-4cef-baee-208f08091a22\",                        [{\"alignmentgroup\":\"True\",\"hovertemplate\":\"variable=count\\u003cbr\\u003ename=%{x}\\u003cbr\\u003evalue=%{y}\\u003cextra\\u003e\\u003c\\u002fextra\\u003e\",\"legendgroup\":\"count\",\"marker\":{\"color\":\"#636efa\",\"pattern\":{\"shape\":\"\"}},\"name\":\"count\",\"offsetgroup\":\"count\",\"orientation\":\"v\",\"showlegend\":true,\"textposition\":\"auto\",\"x\":[\"data scientist\",\"senior data scientist\",\"middle data scientist\",\"junior data scientist\",\"data scientist (middle) \\u0441 \\u043f\\u0435\\u0440\\u0435\\u0435\\u0437\\u0434\\u043e\\u043c \\u0432 \\u044e\\u0436\\u043d\\u043e-\\u0441\\u0430\\u0445\\u0430\\u043b\\u0438\\u043d\\u0441\\u043a\"],\"xaxis\":\"x\",\"y\":[113,34,23,7,6],\"yaxis\":\"y\",\"type\":\"bar\"}],                        {\"template\":{\"data\":{\"histogram2dcontour\":[{\"type\":\"histogram2dcontour\",\"colorbar\":{\"outlinewidth\":0,\"ticks\":\"\"},\"colorscale\":[[0.0,\"#0d0887\"],[0.1111111111111111,\"#46039f\"],[0.2222222222222222,\"#7201a8\"],[0.3333333333333333,\"#9c179e\"],[0.4444444444444444,\"#bd3786\"],[0.5555555555555556,\"#d8576b\"],[0.6666666666666666,\"#ed7953\"],[0.7777777777777778,\"#fb9f3a\"],[0.8888888888888888,\"#fdca26\"],[1.0,\"#f0f921\"]]}],\"choropleth\":[{\"type\":\"choropleth\",\"colorbar\":{\"outlinewidth\":0,\"ticks\":\"\"}}],\"histogram2d\":[{\"type\":\"histogram2d\",\"colorbar\":{\"outlinewidth\":0,\"ticks\":\"\"},\"colorscale\":[[0.0,\"#0d0887\"],[0.1111111111111111,\"#46039f\"],[0.2222222222222222,\"#7201a8\"],[0.3333333333333333,\"#9c179e\"],[0.4444444444444444,\"#bd3786\"],[0.5555555555555556,\"#d8576b\"],[0.6666666666666666,\"#ed7953\"],[0.7777777777777778,\"#fb9f3a\"],[0.8888888888888888,\"#fdca26\"],[1.0,\"#f0f921\"]]}],\"heatmap\":[{\"type\":\"heatmap\",\"colorbar\":{\"outlinewidth\":0,\"ticks\":\"\"},\"colorscale\":[[0.0,\"#0d0887\"],[0.1111111111111111,\"#46039f\"],[0.2222222222222222,\"#7201a8\"],[0.3333333333333333,\"#9c179e\"],[0.4444444444444444,\"#bd3786\"],[0.5555555555555556,\"#d8576b\"],[0.6666666666666666,\"#ed7953\"],[0.7777777777777778,\"#fb9f3a\"],[0.8888888888888888,\"#fdca26\"],[1.0,\"#f0f921\"]]}],\"heatmapgl\":[{\"type\":\"heatmapgl\",\"colorbar\":{\"outlinewidth\":0,\"ticks\":\"\"},\"colorscale\":[[0.0,\"#0d0887\"],[0.1111111111111111,\"#46039f\"],[0.2222222222222222,\"#7201a8\"],[0.3333333333333333,\"#9c179e\"],[0.4444444444444444,\"#bd3786\"],[0.5555555555555556,\"#d8576b\"],[0.6666666666666666,\"#ed7953\"],[0.7777777777777778,\"#fb9f3a\"],[0.8888888888888888,\"#fdca26\"],[1.0,\"#f0f921\"]]}],\"contourcarpet\":[{\"type\":\"contourcarpet\",\"colorbar\":{\"outlinewidth\":0,\"ticks\":\"\"}}],\"contour\":[{\"type\":\"contour\",\"colorbar\":{\"outlinewidth\":0,\"ticks\":\"\"},\"colorscale\":[[0.0,\"#0d0887\"],[0.1111111111111111,\"#46039f\"],[0.2222222222222222,\"#7201a8\"],[0.3333333333333333,\"#9c179e\"],[0.4444444444444444,\"#bd3786\"],[0.5555555555555556,\"#d8576b\"],[0.6666666666666666,\"#ed7953\"],[0.7777777777777778,\"#fb9f3a\"],[0.8888888888888888,\"#fdca26\"],[1.0,\"#f0f921\"]]}],\"surface\":[{\"type\":\"surface\",\"colorbar\":{\"outlinewidth\":0,\"ticks\":\"\"},\"colorscale\":[[0.0,\"#0d0887\"],[0.1111111111111111,\"#46039f\"],[0.2222222222222222,\"#7201a8\"],[0.3333333333333333,\"#9c179e\"],[0.4444444444444444,\"#bd3786\"],[0.5555555555555556,\"#d8576b\"],[0.6666666666666666,\"#ed7953\"],[0.7777777777777778,\"#fb9f3a\"],[0.8888888888888888,\"#fdca26\"],[1.0,\"#f0f921\"]]}],\"mesh3d\":[{\"type\":\"mesh3d\",\"colorbar\":{\"outlinewidth\":0,\"ticks\":\"\"}}],\"scatter\":[{\"fillpattern\":{\"fillmode\":\"overlay\",\"size\":10,\"solidity\":0.2},\"type\":\"scatter\"}],\"parcoords\":[{\"type\":\"parcoords\",\"line\":{\"colorbar\":{\"outlinewidth\":0,\"ticks\":\"\"}}}],\"scatterpolargl\":[{\"type\":\"scatterpolargl\",\"marker\":{\"colorbar\":{\"outlinewidth\":0,\"ticks\":\"\"}}}],\"bar\":[{\"error_x\":{\"color\":\"#2a3f5f\"},\"error_y\":{\"color\":\"#2a3f5f\"},\"marker\":{\"line\":{\"color\":\"#E5ECF6\",\"width\":0.5},\"pattern\":{\"fillmode\":\"overlay\",\"size\":10,\"solidity\":0.2}},\"type\":\"bar\"}],\"scattergeo\":[{\"type\":\"scattergeo\",\"marker\":{\"colorbar\":{\"outlinewidth\":0,\"ticks\":\"\"}}}],\"scatterpolar\":[{\"type\":\"scatterpolar\",\"marker\":{\"colorbar\":{\"outlinewidth\":0,\"ticks\":\"\"}}}],\"histogram\":[{\"marker\":{\"pattern\":{\"fillmode\":\"overlay\",\"size\":10,\"solidity\":0.2}},\"type\":\"histogram\"}],\"scattergl\":[{\"type\":\"scattergl\",\"marker\":{\"colorbar\":{\"outlinewidth\":0,\"ticks\":\"\"}}}],\"scatter3d\":[{\"type\":\"scatter3d\",\"line\":{\"colorbar\":{\"outlinewidth\":0,\"ticks\":\"\"}},\"marker\":{\"colorbar\":{\"outlinewidth\":0,\"ticks\":\"\"}}}],\"scattermapbox\":[{\"type\":\"scattermapbox\",\"marker\":{\"colorbar\":{\"outlinewidth\":0,\"ticks\":\"\"}}}],\"scatterternary\":[{\"type\":\"scatterternary\",\"marker\":{\"colorbar\":{\"outlinewidth\":0,\"ticks\":\"\"}}}],\"scattercarpet\":[{\"type\":\"scattercarpet\",\"marker\":{\"colorbar\":{\"outlinewidth\":0,\"ticks\":\"\"}}}],\"carpet\":[{\"aaxis\":{\"endlinecolor\":\"#2a3f5f\",\"gridcolor\":\"white\",\"linecolor\":\"white\",\"minorgridcolor\":\"white\",\"startlinecolor\":\"#2a3f5f\"},\"baxis\":{\"endlinecolor\":\"#2a3f5f\",\"gridcolor\":\"white\",\"linecolor\":\"white\",\"minorgridcolor\":\"white\",\"startlinecolor\":\"#2a3f5f\"},\"type\":\"carpet\"}],\"table\":[{\"cells\":{\"fill\":{\"color\":\"#EBF0F8\"},\"line\":{\"color\":\"white\"}},\"header\":{\"fill\":{\"color\":\"#C8D4E3\"},\"line\":{\"color\":\"white\"}},\"type\":\"table\"}],\"barpolar\":[{\"marker\":{\"line\":{\"color\":\"#E5ECF6\",\"width\":0.5},\"pattern\":{\"fillmode\":\"overlay\",\"size\":10,\"solidity\":0.2}},\"type\":\"barpolar\"}],\"pie\":[{\"automargin\":true,\"type\":\"pie\"}]},\"layout\":{\"autotypenumbers\":\"strict\",\"colorway\":[\"#636efa\",\"#EF553B\",\"#00cc96\",\"#ab63fa\",\"#FFA15A\",\"#19d3f3\",\"#FF6692\",\"#B6E880\",\"#FF97FF\",\"#FECB52\"],\"font\":{\"color\":\"#2a3f5f\"},\"hovermode\":\"closest\",\"hoverlabel\":{\"align\":\"left\"},\"paper_bgcolor\":\"white\",\"plot_bgcolor\":\"#E5ECF6\",\"polar\":{\"bgcolor\":\"#E5ECF6\",\"angularaxis\":{\"gridcolor\":\"white\",\"linecolor\":\"white\",\"ticks\":\"\"},\"radialaxis\":{\"gridcolor\":\"white\",\"linecolor\":\"white\",\"ticks\":\"\"}},\"ternary\":{\"bgcolor\":\"#E5ECF6\",\"aaxis\":{\"gridcolor\":\"white\",\"linecolor\":\"white\",\"ticks\":\"\"},\"baxis\":{\"gridcolor\":\"white\",\"linecolor\":\"white\",\"ticks\":\"\"},\"caxis\":{\"gridcolor\":\"white\",\"linecolor\":\"white\",\"ticks\":\"\"}},\"coloraxis\":{\"colorbar\":{\"outlinewidth\":0,\"ticks\":\"\"}},\"colorscale\":{\"sequential\":[[0.0,\"#0d0887\"],[0.1111111111111111,\"#46039f\"],[0.2222222222222222,\"#7201a8\"],[0.3333333333333333,\"#9c179e\"],[0.4444444444444444,\"#bd3786\"],[0.5555555555555556,\"#d8576b\"],[0.6666666666666666,\"#ed7953\"],[0.7777777777777778,\"#fb9f3a\"],[0.8888888888888888,\"#fdca26\"],[1.0,\"#f0f921\"]],\"sequentialminus\":[[0.0,\"#0d0887\"],[0.1111111111111111,\"#46039f\"],[0.2222222222222222,\"#7201a8\"],[0.3333333333333333,\"#9c179e\"],[0.4444444444444444,\"#bd3786\"],[0.5555555555555556,\"#d8576b\"],[0.6666666666666666,\"#ed7953\"],[0.7777777777777778,\"#fb9f3a\"],[0.8888888888888888,\"#fdca26\"],[1.0,\"#f0f921\"]],\"diverging\":[[0,\"#8e0152\"],[0.1,\"#c51b7d\"],[0.2,\"#de77ae\"],[0.3,\"#f1b6da\"],[0.4,\"#fde0ef\"],[0.5,\"#f7f7f7\"],[0.6,\"#e6f5d0\"],[0.7,\"#b8e186\"],[0.8,\"#7fbc41\"],[0.9,\"#4d9221\"],[1,\"#276419\"]]},\"xaxis\":{\"gridcolor\":\"white\",\"linecolor\":\"white\",\"ticks\":\"\",\"title\":{\"standoff\":15},\"zerolinecolor\":\"white\",\"automargin\":true,\"zerolinewidth\":2},\"yaxis\":{\"gridcolor\":\"white\",\"linecolor\":\"white\",\"ticks\":\"\",\"title\":{\"standoff\":15},\"zerolinecolor\":\"white\",\"automargin\":true,\"zerolinewidth\":2},\"scene\":{\"xaxis\":{\"backgroundcolor\":\"#E5ECF6\",\"gridcolor\":\"white\",\"linecolor\":\"white\",\"showbackground\":true,\"ticks\":\"\",\"zerolinecolor\":\"white\",\"gridwidth\":2},\"yaxis\":{\"backgroundcolor\":\"#E5ECF6\",\"gridcolor\":\"white\",\"linecolor\":\"white\",\"showbackground\":true,\"ticks\":\"\",\"zerolinecolor\":\"white\",\"gridwidth\":2},\"zaxis\":{\"backgroundcolor\":\"#E5ECF6\",\"gridcolor\":\"white\",\"linecolor\":\"white\",\"showbackground\":true,\"ticks\":\"\",\"zerolinecolor\":\"white\",\"gridwidth\":2}},\"shapedefaults\":{\"line\":{\"color\":\"#2a3f5f\"}},\"annotationdefaults\":{\"arrowcolor\":\"#2a3f5f\",\"arrowhead\":0,\"arrowwidth\":1},\"geo\":{\"bgcolor\":\"white\",\"landcolor\":\"#E5ECF6\",\"subunitcolor\":\"white\",\"showland\":true,\"showlakes\":true,\"lakecolor\":\"white\"},\"title\":{\"x\":0.05},\"mapbox\":{\"style\":\"light\"}}},\"xaxis\":{\"anchor\":\"y\",\"domain\":[0.0,1.0],\"title\":{\"text\":\"name\"}},\"yaxis\":{\"anchor\":\"x\",\"domain\":[0.0,1.0],\"title\":{\"text\":\"value\"}},\"legend\":{\"title\":{\"text\":\"variable\"},\"tracegroupgap\":0},\"title\":{\"text\":\"\\u0422\\u043e\\u043f 5 \\u043d\\u0430\\u0438\\u043c\\u0435\\u043d\\u043e\\u0432\\u0430\\u043d\\u0438\\u0439 \\u0432\\u0430\\u043a\\u0430\\u043d\\u0441\\u0438\\u0439 DS\"},\"barmode\":\"relative\",\"showlegend\":false},                        {\"responsive\": true}                    ).then(function(){\n",
              "                            \n",
              "var gd = document.getElementById('7dc9828c-ce30-4cef-baee-208f08091a22');\n",
              "var x = new MutationObserver(function (mutations, observer) {{\n",
              "        var display = window.getComputedStyle(gd).display;\n",
              "        if (!display || display === 'none') {{\n",
              "            console.log([gd, 'removed!']);\n",
              "            Plotly.purge(gd);\n",
              "            observer.disconnect();\n",
              "        }}\n",
              "}});\n",
              "\n",
              "// Listen for the removal of the full notebook cells\n",
              "var notebookContainer = gd.closest('#notebook-container');\n",
              "if (notebookContainer) {{\n",
              "    x.observe(notebookContainer, {childList: true});\n",
              "}}\n",
              "\n",
              "// Listen for the clearing of the current output cell\n",
              "var outputEl = gd.closest('.output');\n",
              "if (outputEl) {{\n",
              "    x.observe(outputEl, {childList: true});\n",
              "}}\n",
              "\n",
              "                        })                };                            </script>        </div>\n",
              "</body>\n",
              "</html>"
            ]
          },
          "metadata": {}
        }
      ]
    },
    {
      "cell_type": "markdown",
      "source": [
        "**Вывод:** Вакансии на аналитика данных чаще именуют data_analyst, затем по популярности идёт добавление уровня грейда. Та же ситуация с DS специалистами — их вакансии чаще публикуют с наименованием data scientist.\n",
        "Видимо за рассматриваемый период была высокая потребность в DS специалистах с переездом в Южно-Сахалинск."
      ],
      "metadata": {
        "id": "VIlSC0JWcMG8"
      }
    },
    {
      "cell_type": "markdown",
      "source": [
        "Определим топ компаний работодателей среди вакансий обоих направлений"
      ],
      "metadata": {
        "id": "HMmcBUjQduxE"
      }
    },
    {
      "cell_type": "code",
      "source": [
        "get_top_vacancy(data_da, 'employer', 10, 'DA', 'работодателей')"
      ],
      "metadata": {
        "colab": {
          "base_uri": "https://localhost:8080/",
          "height": 542
        },
        "id": "K5ll8ivIeAud",
        "outputId": "384017f8-18f0-4b2b-b881-89c58699bb43"
      },
      "execution_count": 36,
      "outputs": [
        {
          "output_type": "display_data",
          "data": {
            "text/html": [
              "<html>\n",
              "<head><meta charset=\"utf-8\" /></head>\n",
              "<body>\n",
              "    <div>            <script src=\"https://cdnjs.cloudflare.com/ajax/libs/mathjax/2.7.5/MathJax.js?config=TeX-AMS-MML_SVG\"></script><script type=\"text/javascript\">if (window.MathJax && window.MathJax.Hub && window.MathJax.Hub.Config) {window.MathJax.Hub.Config({SVG: {font: \"STIX-Web\"}});}</script>                <script type=\"text/javascript\">window.PlotlyConfig = {MathJaxConfig: 'local'};</script>\n",
              "        <script charset=\"utf-8\" src=\"https://cdn.plot.ly/plotly-2.24.1.min.js\"></script>                <div id=\"7d2c4bba-9732-42e2-a7ae-ceba33ceb9f2\" class=\"plotly-graph-div\" style=\"height:525px; width:100%;\"></div>            <script type=\"text/javascript\">                                    window.PLOTLYENV=window.PLOTLYENV || {};                                    if (document.getElementById(\"7d2c4bba-9732-42e2-a7ae-ceba33ceb9f2\")) {                    Plotly.newPlot(                        \"7d2c4bba-9732-42e2-a7ae-ceba33ceb9f2\",                        [{\"alignmentgroup\":\"True\",\"hovertemplate\":\"variable=count\\u003cbr\\u003eemployer=%{x}\\u003cbr\\u003evalue=%{y}\\u003cextra\\u003e\\u003c\\u002fextra\\u003e\",\"legendgroup\":\"count\",\"marker\":{\"color\":\"#636efa\",\"pattern\":{\"shape\":\"\"}},\"name\":\"count\",\"offsetgroup\":\"count\",\"orientation\":\"v\",\"showlegend\":true,\"textposition\":\"auto\",\"x\":[\"\\u0441\\u0431\\u0435\\u0440\",\"wildberries\",\"\\u043c\\u0442\\u0441\",\"okko\",\"\\u043c\\u0430\\u0433\\u043d\\u0438\\u0442, \\u0440\\u043e\\u0437\\u043d\\u0438\\u0447\\u043d\\u0430\\u044f \\u0441\\u0435\\u0442\\u044c\",\"\\u00abuzum technologies\\u00bb.\",\"\\u043f\\u0441\\u0431 (\\u043f\\u0430\\u043e \\u00ab\\u043f\\u0440\\u043e\\u043c\\u0441\\u0432\\u044f\\u0437\\u044c\\u0431\\u0430\\u043d\\u043a\\u00bb)\",\"studyworld\",\"maxim technology\",\"carely\"],\"xaxis\":\"x\",\"y\":[65,14,7,6,6,5,5,4,4,3],\"yaxis\":\"y\",\"type\":\"bar\"}],                        {\"template\":{\"data\":{\"histogram2dcontour\":[{\"type\":\"histogram2dcontour\",\"colorbar\":{\"outlinewidth\":0,\"ticks\":\"\"},\"colorscale\":[[0.0,\"#0d0887\"],[0.1111111111111111,\"#46039f\"],[0.2222222222222222,\"#7201a8\"],[0.3333333333333333,\"#9c179e\"],[0.4444444444444444,\"#bd3786\"],[0.5555555555555556,\"#d8576b\"],[0.6666666666666666,\"#ed7953\"],[0.7777777777777778,\"#fb9f3a\"],[0.8888888888888888,\"#fdca26\"],[1.0,\"#f0f921\"]]}],\"choropleth\":[{\"type\":\"choropleth\",\"colorbar\":{\"outlinewidth\":0,\"ticks\":\"\"}}],\"histogram2d\":[{\"type\":\"histogram2d\",\"colorbar\":{\"outlinewidth\":0,\"ticks\":\"\"},\"colorscale\":[[0.0,\"#0d0887\"],[0.1111111111111111,\"#46039f\"],[0.2222222222222222,\"#7201a8\"],[0.3333333333333333,\"#9c179e\"],[0.4444444444444444,\"#bd3786\"],[0.5555555555555556,\"#d8576b\"],[0.6666666666666666,\"#ed7953\"],[0.7777777777777778,\"#fb9f3a\"],[0.8888888888888888,\"#fdca26\"],[1.0,\"#f0f921\"]]}],\"heatmap\":[{\"type\":\"heatmap\",\"colorbar\":{\"outlinewidth\":0,\"ticks\":\"\"},\"colorscale\":[[0.0,\"#0d0887\"],[0.1111111111111111,\"#46039f\"],[0.2222222222222222,\"#7201a8\"],[0.3333333333333333,\"#9c179e\"],[0.4444444444444444,\"#bd3786\"],[0.5555555555555556,\"#d8576b\"],[0.6666666666666666,\"#ed7953\"],[0.7777777777777778,\"#fb9f3a\"],[0.8888888888888888,\"#fdca26\"],[1.0,\"#f0f921\"]]}],\"heatmapgl\":[{\"type\":\"heatmapgl\",\"colorbar\":{\"outlinewidth\":0,\"ticks\":\"\"},\"colorscale\":[[0.0,\"#0d0887\"],[0.1111111111111111,\"#46039f\"],[0.2222222222222222,\"#7201a8\"],[0.3333333333333333,\"#9c179e\"],[0.4444444444444444,\"#bd3786\"],[0.5555555555555556,\"#d8576b\"],[0.6666666666666666,\"#ed7953\"],[0.7777777777777778,\"#fb9f3a\"],[0.8888888888888888,\"#fdca26\"],[1.0,\"#f0f921\"]]}],\"contourcarpet\":[{\"type\":\"contourcarpet\",\"colorbar\":{\"outlinewidth\":0,\"ticks\":\"\"}}],\"contour\":[{\"type\":\"contour\",\"colorbar\":{\"outlinewidth\":0,\"ticks\":\"\"},\"colorscale\":[[0.0,\"#0d0887\"],[0.1111111111111111,\"#46039f\"],[0.2222222222222222,\"#7201a8\"],[0.3333333333333333,\"#9c179e\"],[0.4444444444444444,\"#bd3786\"],[0.5555555555555556,\"#d8576b\"],[0.6666666666666666,\"#ed7953\"],[0.7777777777777778,\"#fb9f3a\"],[0.8888888888888888,\"#fdca26\"],[1.0,\"#f0f921\"]]}],\"surface\":[{\"type\":\"surface\",\"colorbar\":{\"outlinewidth\":0,\"ticks\":\"\"},\"colorscale\":[[0.0,\"#0d0887\"],[0.1111111111111111,\"#46039f\"],[0.2222222222222222,\"#7201a8\"],[0.3333333333333333,\"#9c179e\"],[0.4444444444444444,\"#bd3786\"],[0.5555555555555556,\"#d8576b\"],[0.6666666666666666,\"#ed7953\"],[0.7777777777777778,\"#fb9f3a\"],[0.8888888888888888,\"#fdca26\"],[1.0,\"#f0f921\"]]}],\"mesh3d\":[{\"type\":\"mesh3d\",\"colorbar\":{\"outlinewidth\":0,\"ticks\":\"\"}}],\"scatter\":[{\"fillpattern\":{\"fillmode\":\"overlay\",\"size\":10,\"solidity\":0.2},\"type\":\"scatter\"}],\"parcoords\":[{\"type\":\"parcoords\",\"line\":{\"colorbar\":{\"outlinewidth\":0,\"ticks\":\"\"}}}],\"scatterpolargl\":[{\"type\":\"scatterpolargl\",\"marker\":{\"colorbar\":{\"outlinewidth\":0,\"ticks\":\"\"}}}],\"bar\":[{\"error_x\":{\"color\":\"#2a3f5f\"},\"error_y\":{\"color\":\"#2a3f5f\"},\"marker\":{\"line\":{\"color\":\"#E5ECF6\",\"width\":0.5},\"pattern\":{\"fillmode\":\"overlay\",\"size\":10,\"solidity\":0.2}},\"type\":\"bar\"}],\"scattergeo\":[{\"type\":\"scattergeo\",\"marker\":{\"colorbar\":{\"outlinewidth\":0,\"ticks\":\"\"}}}],\"scatterpolar\":[{\"type\":\"scatterpolar\",\"marker\":{\"colorbar\":{\"outlinewidth\":0,\"ticks\":\"\"}}}],\"histogram\":[{\"marker\":{\"pattern\":{\"fillmode\":\"overlay\",\"size\":10,\"solidity\":0.2}},\"type\":\"histogram\"}],\"scattergl\":[{\"type\":\"scattergl\",\"marker\":{\"colorbar\":{\"outlinewidth\":0,\"ticks\":\"\"}}}],\"scatter3d\":[{\"type\":\"scatter3d\",\"line\":{\"colorbar\":{\"outlinewidth\":0,\"ticks\":\"\"}},\"marker\":{\"colorbar\":{\"outlinewidth\":0,\"ticks\":\"\"}}}],\"scattermapbox\":[{\"type\":\"scattermapbox\",\"marker\":{\"colorbar\":{\"outlinewidth\":0,\"ticks\":\"\"}}}],\"scatterternary\":[{\"type\":\"scatterternary\",\"marker\":{\"colorbar\":{\"outlinewidth\":0,\"ticks\":\"\"}}}],\"scattercarpet\":[{\"type\":\"scattercarpet\",\"marker\":{\"colorbar\":{\"outlinewidth\":0,\"ticks\":\"\"}}}],\"carpet\":[{\"aaxis\":{\"endlinecolor\":\"#2a3f5f\",\"gridcolor\":\"white\",\"linecolor\":\"white\",\"minorgridcolor\":\"white\",\"startlinecolor\":\"#2a3f5f\"},\"baxis\":{\"endlinecolor\":\"#2a3f5f\",\"gridcolor\":\"white\",\"linecolor\":\"white\",\"minorgridcolor\":\"white\",\"startlinecolor\":\"#2a3f5f\"},\"type\":\"carpet\"}],\"table\":[{\"cells\":{\"fill\":{\"color\":\"#EBF0F8\"},\"line\":{\"color\":\"white\"}},\"header\":{\"fill\":{\"color\":\"#C8D4E3\"},\"line\":{\"color\":\"white\"}},\"type\":\"table\"}],\"barpolar\":[{\"marker\":{\"line\":{\"color\":\"#E5ECF6\",\"width\":0.5},\"pattern\":{\"fillmode\":\"overlay\",\"size\":10,\"solidity\":0.2}},\"type\":\"barpolar\"}],\"pie\":[{\"automargin\":true,\"type\":\"pie\"}]},\"layout\":{\"autotypenumbers\":\"strict\",\"colorway\":[\"#636efa\",\"#EF553B\",\"#00cc96\",\"#ab63fa\",\"#FFA15A\",\"#19d3f3\",\"#FF6692\",\"#B6E880\",\"#FF97FF\",\"#FECB52\"],\"font\":{\"color\":\"#2a3f5f\"},\"hovermode\":\"closest\",\"hoverlabel\":{\"align\":\"left\"},\"paper_bgcolor\":\"white\",\"plot_bgcolor\":\"#E5ECF6\",\"polar\":{\"bgcolor\":\"#E5ECF6\",\"angularaxis\":{\"gridcolor\":\"white\",\"linecolor\":\"white\",\"ticks\":\"\"},\"radialaxis\":{\"gridcolor\":\"white\",\"linecolor\":\"white\",\"ticks\":\"\"}},\"ternary\":{\"bgcolor\":\"#E5ECF6\",\"aaxis\":{\"gridcolor\":\"white\",\"linecolor\":\"white\",\"ticks\":\"\"},\"baxis\":{\"gridcolor\":\"white\",\"linecolor\":\"white\",\"ticks\":\"\"},\"caxis\":{\"gridcolor\":\"white\",\"linecolor\":\"white\",\"ticks\":\"\"}},\"coloraxis\":{\"colorbar\":{\"outlinewidth\":0,\"ticks\":\"\"}},\"colorscale\":{\"sequential\":[[0.0,\"#0d0887\"],[0.1111111111111111,\"#46039f\"],[0.2222222222222222,\"#7201a8\"],[0.3333333333333333,\"#9c179e\"],[0.4444444444444444,\"#bd3786\"],[0.5555555555555556,\"#d8576b\"],[0.6666666666666666,\"#ed7953\"],[0.7777777777777778,\"#fb9f3a\"],[0.8888888888888888,\"#fdca26\"],[1.0,\"#f0f921\"]],\"sequentialminus\":[[0.0,\"#0d0887\"],[0.1111111111111111,\"#46039f\"],[0.2222222222222222,\"#7201a8\"],[0.3333333333333333,\"#9c179e\"],[0.4444444444444444,\"#bd3786\"],[0.5555555555555556,\"#d8576b\"],[0.6666666666666666,\"#ed7953\"],[0.7777777777777778,\"#fb9f3a\"],[0.8888888888888888,\"#fdca26\"],[1.0,\"#f0f921\"]],\"diverging\":[[0,\"#8e0152\"],[0.1,\"#c51b7d\"],[0.2,\"#de77ae\"],[0.3,\"#f1b6da\"],[0.4,\"#fde0ef\"],[0.5,\"#f7f7f7\"],[0.6,\"#e6f5d0\"],[0.7,\"#b8e186\"],[0.8,\"#7fbc41\"],[0.9,\"#4d9221\"],[1,\"#276419\"]]},\"xaxis\":{\"gridcolor\":\"white\",\"linecolor\":\"white\",\"ticks\":\"\",\"title\":{\"standoff\":15},\"zerolinecolor\":\"white\",\"automargin\":true,\"zerolinewidth\":2},\"yaxis\":{\"gridcolor\":\"white\",\"linecolor\":\"white\",\"ticks\":\"\",\"title\":{\"standoff\":15},\"zerolinecolor\":\"white\",\"automargin\":true,\"zerolinewidth\":2},\"scene\":{\"xaxis\":{\"backgroundcolor\":\"#E5ECF6\",\"gridcolor\":\"white\",\"linecolor\":\"white\",\"showbackground\":true,\"ticks\":\"\",\"zerolinecolor\":\"white\",\"gridwidth\":2},\"yaxis\":{\"backgroundcolor\":\"#E5ECF6\",\"gridcolor\":\"white\",\"linecolor\":\"white\",\"showbackground\":true,\"ticks\":\"\",\"zerolinecolor\":\"white\",\"gridwidth\":2},\"zaxis\":{\"backgroundcolor\":\"#E5ECF6\",\"gridcolor\":\"white\",\"linecolor\":\"white\",\"showbackground\":true,\"ticks\":\"\",\"zerolinecolor\":\"white\",\"gridwidth\":2}},\"shapedefaults\":{\"line\":{\"color\":\"#2a3f5f\"}},\"annotationdefaults\":{\"arrowcolor\":\"#2a3f5f\",\"arrowhead\":0,\"arrowwidth\":1},\"geo\":{\"bgcolor\":\"white\",\"landcolor\":\"#E5ECF6\",\"subunitcolor\":\"white\",\"showland\":true,\"showlakes\":true,\"lakecolor\":\"white\"},\"title\":{\"x\":0.05},\"mapbox\":{\"style\":\"light\"}}},\"xaxis\":{\"anchor\":\"y\",\"domain\":[0.0,1.0],\"title\":{\"text\":\"employer\"}},\"yaxis\":{\"anchor\":\"x\",\"domain\":[0.0,1.0],\"title\":{\"text\":\"value\"}},\"legend\":{\"title\":{\"text\":\"variable\"},\"tracegroupgap\":0},\"title\":{\"text\":\"\\u0422\\u043e\\u043f 10 \\u0440\\u0430\\u0431\\u043e\\u0442\\u043e\\u0434\\u0430\\u0442\\u0435\\u043b\\u0435\\u0439 \\u0432\\u0430\\u043a\\u0430\\u043d\\u0441\\u0438\\u0439 DA\"},\"barmode\":\"relative\",\"showlegend\":false},                        {\"responsive\": true}                    ).then(function(){\n",
              "                            \n",
              "var gd = document.getElementById('7d2c4bba-9732-42e2-a7ae-ceba33ceb9f2');\n",
              "var x = new MutationObserver(function (mutations, observer) {{\n",
              "        var display = window.getComputedStyle(gd).display;\n",
              "        if (!display || display === 'none') {{\n",
              "            console.log([gd, 'removed!']);\n",
              "            Plotly.purge(gd);\n",
              "            observer.disconnect();\n",
              "        }}\n",
              "}});\n",
              "\n",
              "// Listen for the removal of the full notebook cells\n",
              "var notebookContainer = gd.closest('#notebook-container');\n",
              "if (notebookContainer) {{\n",
              "    x.observe(notebookContainer, {childList: true});\n",
              "}}\n",
              "\n",
              "// Listen for the clearing of the current output cell\n",
              "var outputEl = gd.closest('.output');\n",
              "if (outputEl) {{\n",
              "    x.observe(outputEl, {childList: true});\n",
              "}}\n",
              "\n",
              "                        })                };                            </script>        </div>\n",
              "</body>\n",
              "</html>"
            ]
          },
          "metadata": {}
        }
      ]
    },
    {
      "cell_type": "code",
      "source": [
        "get_top_vacancy(data_ds, 'employer', 10, 'DS', 'работодателей')"
      ],
      "metadata": {
        "colab": {
          "base_uri": "https://localhost:8080/",
          "height": 542
        },
        "id": "wn62rypXecMX",
        "outputId": "6d8b5f33-8075-4e7e-e9d6-5ee799d267aa"
      },
      "execution_count": 37,
      "outputs": [
        {
          "output_type": "display_data",
          "data": {
            "text/html": [
              "<html>\n",
              "<head><meta charset=\"utf-8\" /></head>\n",
              "<body>\n",
              "    <div>            <script src=\"https://cdnjs.cloudflare.com/ajax/libs/mathjax/2.7.5/MathJax.js?config=TeX-AMS-MML_SVG\"></script><script type=\"text/javascript\">if (window.MathJax && window.MathJax.Hub && window.MathJax.Hub.Config) {window.MathJax.Hub.Config({SVG: {font: \"STIX-Web\"}});}</script>                <script type=\"text/javascript\">window.PlotlyConfig = {MathJaxConfig: 'local'};</script>\n",
              "        <script charset=\"utf-8\" src=\"https://cdn.plot.ly/plotly-2.24.1.min.js\"></script>                <div id=\"d14c0f60-b37d-4857-b0b5-af8f98538a47\" class=\"plotly-graph-div\" style=\"height:525px; width:100%;\"></div>            <script type=\"text/javascript\">                                    window.PLOTLYENV=window.PLOTLYENV || {};                                    if (document.getElementById(\"d14c0f60-b37d-4857-b0b5-af8f98538a47\")) {                    Plotly.newPlot(                        \"d14c0f60-b37d-4857-b0b5-af8f98538a47\",                        [{\"alignmentgroup\":\"True\",\"hovertemplate\":\"variable=count\\u003cbr\\u003eemployer=%{x}\\u003cbr\\u003evalue=%{y}\\u003cextra\\u003e\\u003c\\u002fextra\\u003e\",\"legendgroup\":\"count\",\"marker\":{\"color\":\"#636efa\",\"pattern\":{\"shape\":\"\"}},\"name\":\"count\",\"offsetgroup\":\"count\",\"orientation\":\"v\",\"showlegend\":true,\"textposition\":\"auto\",\"x\":[\"\\u0441\\u0431\\u0435\\u0440\",\"ozon\",\"\\u0433\\u0430\\u0437\\u043f\\u0440\\u043e\\u043c\\u0431\\u0430\\u043d\\u043a\",\"samokat.tech\",\"\\u0431\\u0430\\u043d\\u043a \\u0432\\u0442\\u0431 (\\u043f\\u0430\\u043e)\",\"lamoda tech\",\"wildberries\",\"\\u0440\\u043e\\u0441\\u0442\\u0435\\u043b\\u0435\\u043a\\u043e\\u043c\",\"\\u0431\\u0438\\u043b\\u0430\\u0439\\u043d\",\"\\u04421\"],\"xaxis\":\"x\",\"y\":[128,20,17,16,12,11,11,10,9,9],\"yaxis\":\"y\",\"type\":\"bar\"}],                        {\"template\":{\"data\":{\"histogram2dcontour\":[{\"type\":\"histogram2dcontour\",\"colorbar\":{\"outlinewidth\":0,\"ticks\":\"\"},\"colorscale\":[[0.0,\"#0d0887\"],[0.1111111111111111,\"#46039f\"],[0.2222222222222222,\"#7201a8\"],[0.3333333333333333,\"#9c179e\"],[0.4444444444444444,\"#bd3786\"],[0.5555555555555556,\"#d8576b\"],[0.6666666666666666,\"#ed7953\"],[0.7777777777777778,\"#fb9f3a\"],[0.8888888888888888,\"#fdca26\"],[1.0,\"#f0f921\"]]}],\"choropleth\":[{\"type\":\"choropleth\",\"colorbar\":{\"outlinewidth\":0,\"ticks\":\"\"}}],\"histogram2d\":[{\"type\":\"histogram2d\",\"colorbar\":{\"outlinewidth\":0,\"ticks\":\"\"},\"colorscale\":[[0.0,\"#0d0887\"],[0.1111111111111111,\"#46039f\"],[0.2222222222222222,\"#7201a8\"],[0.3333333333333333,\"#9c179e\"],[0.4444444444444444,\"#bd3786\"],[0.5555555555555556,\"#d8576b\"],[0.6666666666666666,\"#ed7953\"],[0.7777777777777778,\"#fb9f3a\"],[0.8888888888888888,\"#fdca26\"],[1.0,\"#f0f921\"]]}],\"heatmap\":[{\"type\":\"heatmap\",\"colorbar\":{\"outlinewidth\":0,\"ticks\":\"\"},\"colorscale\":[[0.0,\"#0d0887\"],[0.1111111111111111,\"#46039f\"],[0.2222222222222222,\"#7201a8\"],[0.3333333333333333,\"#9c179e\"],[0.4444444444444444,\"#bd3786\"],[0.5555555555555556,\"#d8576b\"],[0.6666666666666666,\"#ed7953\"],[0.7777777777777778,\"#fb9f3a\"],[0.8888888888888888,\"#fdca26\"],[1.0,\"#f0f921\"]]}],\"heatmapgl\":[{\"type\":\"heatmapgl\",\"colorbar\":{\"outlinewidth\":0,\"ticks\":\"\"},\"colorscale\":[[0.0,\"#0d0887\"],[0.1111111111111111,\"#46039f\"],[0.2222222222222222,\"#7201a8\"],[0.3333333333333333,\"#9c179e\"],[0.4444444444444444,\"#bd3786\"],[0.5555555555555556,\"#d8576b\"],[0.6666666666666666,\"#ed7953\"],[0.7777777777777778,\"#fb9f3a\"],[0.8888888888888888,\"#fdca26\"],[1.0,\"#f0f921\"]]}],\"contourcarpet\":[{\"type\":\"contourcarpet\",\"colorbar\":{\"outlinewidth\":0,\"ticks\":\"\"}}],\"contour\":[{\"type\":\"contour\",\"colorbar\":{\"outlinewidth\":0,\"ticks\":\"\"},\"colorscale\":[[0.0,\"#0d0887\"],[0.1111111111111111,\"#46039f\"],[0.2222222222222222,\"#7201a8\"],[0.3333333333333333,\"#9c179e\"],[0.4444444444444444,\"#bd3786\"],[0.5555555555555556,\"#d8576b\"],[0.6666666666666666,\"#ed7953\"],[0.7777777777777778,\"#fb9f3a\"],[0.8888888888888888,\"#fdca26\"],[1.0,\"#f0f921\"]]}],\"surface\":[{\"type\":\"surface\",\"colorbar\":{\"outlinewidth\":0,\"ticks\":\"\"},\"colorscale\":[[0.0,\"#0d0887\"],[0.1111111111111111,\"#46039f\"],[0.2222222222222222,\"#7201a8\"],[0.3333333333333333,\"#9c179e\"],[0.4444444444444444,\"#bd3786\"],[0.5555555555555556,\"#d8576b\"],[0.6666666666666666,\"#ed7953\"],[0.7777777777777778,\"#fb9f3a\"],[0.8888888888888888,\"#fdca26\"],[1.0,\"#f0f921\"]]}],\"mesh3d\":[{\"type\":\"mesh3d\",\"colorbar\":{\"outlinewidth\":0,\"ticks\":\"\"}}],\"scatter\":[{\"fillpattern\":{\"fillmode\":\"overlay\",\"size\":10,\"solidity\":0.2},\"type\":\"scatter\"}],\"parcoords\":[{\"type\":\"parcoords\",\"line\":{\"colorbar\":{\"outlinewidth\":0,\"ticks\":\"\"}}}],\"scatterpolargl\":[{\"type\":\"scatterpolargl\",\"marker\":{\"colorbar\":{\"outlinewidth\":0,\"ticks\":\"\"}}}],\"bar\":[{\"error_x\":{\"color\":\"#2a3f5f\"},\"error_y\":{\"color\":\"#2a3f5f\"},\"marker\":{\"line\":{\"color\":\"#E5ECF6\",\"width\":0.5},\"pattern\":{\"fillmode\":\"overlay\",\"size\":10,\"solidity\":0.2}},\"type\":\"bar\"}],\"scattergeo\":[{\"type\":\"scattergeo\",\"marker\":{\"colorbar\":{\"outlinewidth\":0,\"ticks\":\"\"}}}],\"scatterpolar\":[{\"type\":\"scatterpolar\",\"marker\":{\"colorbar\":{\"outlinewidth\":0,\"ticks\":\"\"}}}],\"histogram\":[{\"marker\":{\"pattern\":{\"fillmode\":\"overlay\",\"size\":10,\"solidity\":0.2}},\"type\":\"histogram\"}],\"scattergl\":[{\"type\":\"scattergl\",\"marker\":{\"colorbar\":{\"outlinewidth\":0,\"ticks\":\"\"}}}],\"scatter3d\":[{\"type\":\"scatter3d\",\"line\":{\"colorbar\":{\"outlinewidth\":0,\"ticks\":\"\"}},\"marker\":{\"colorbar\":{\"outlinewidth\":0,\"ticks\":\"\"}}}],\"scattermapbox\":[{\"type\":\"scattermapbox\",\"marker\":{\"colorbar\":{\"outlinewidth\":0,\"ticks\":\"\"}}}],\"scatterternary\":[{\"type\":\"scatterternary\",\"marker\":{\"colorbar\":{\"outlinewidth\":0,\"ticks\":\"\"}}}],\"scattercarpet\":[{\"type\":\"scattercarpet\",\"marker\":{\"colorbar\":{\"outlinewidth\":0,\"ticks\":\"\"}}}],\"carpet\":[{\"aaxis\":{\"endlinecolor\":\"#2a3f5f\",\"gridcolor\":\"white\",\"linecolor\":\"white\",\"minorgridcolor\":\"white\",\"startlinecolor\":\"#2a3f5f\"},\"baxis\":{\"endlinecolor\":\"#2a3f5f\",\"gridcolor\":\"white\",\"linecolor\":\"white\",\"minorgridcolor\":\"white\",\"startlinecolor\":\"#2a3f5f\"},\"type\":\"carpet\"}],\"table\":[{\"cells\":{\"fill\":{\"color\":\"#EBF0F8\"},\"line\":{\"color\":\"white\"}},\"header\":{\"fill\":{\"color\":\"#C8D4E3\"},\"line\":{\"color\":\"white\"}},\"type\":\"table\"}],\"barpolar\":[{\"marker\":{\"line\":{\"color\":\"#E5ECF6\",\"width\":0.5},\"pattern\":{\"fillmode\":\"overlay\",\"size\":10,\"solidity\":0.2}},\"type\":\"barpolar\"}],\"pie\":[{\"automargin\":true,\"type\":\"pie\"}]},\"layout\":{\"autotypenumbers\":\"strict\",\"colorway\":[\"#636efa\",\"#EF553B\",\"#00cc96\",\"#ab63fa\",\"#FFA15A\",\"#19d3f3\",\"#FF6692\",\"#B6E880\",\"#FF97FF\",\"#FECB52\"],\"font\":{\"color\":\"#2a3f5f\"},\"hovermode\":\"closest\",\"hoverlabel\":{\"align\":\"left\"},\"paper_bgcolor\":\"white\",\"plot_bgcolor\":\"#E5ECF6\",\"polar\":{\"bgcolor\":\"#E5ECF6\",\"angularaxis\":{\"gridcolor\":\"white\",\"linecolor\":\"white\",\"ticks\":\"\"},\"radialaxis\":{\"gridcolor\":\"white\",\"linecolor\":\"white\",\"ticks\":\"\"}},\"ternary\":{\"bgcolor\":\"#E5ECF6\",\"aaxis\":{\"gridcolor\":\"white\",\"linecolor\":\"white\",\"ticks\":\"\"},\"baxis\":{\"gridcolor\":\"white\",\"linecolor\":\"white\",\"ticks\":\"\"},\"caxis\":{\"gridcolor\":\"white\",\"linecolor\":\"white\",\"ticks\":\"\"}},\"coloraxis\":{\"colorbar\":{\"outlinewidth\":0,\"ticks\":\"\"}},\"colorscale\":{\"sequential\":[[0.0,\"#0d0887\"],[0.1111111111111111,\"#46039f\"],[0.2222222222222222,\"#7201a8\"],[0.3333333333333333,\"#9c179e\"],[0.4444444444444444,\"#bd3786\"],[0.5555555555555556,\"#d8576b\"],[0.6666666666666666,\"#ed7953\"],[0.7777777777777778,\"#fb9f3a\"],[0.8888888888888888,\"#fdca26\"],[1.0,\"#f0f921\"]],\"sequentialminus\":[[0.0,\"#0d0887\"],[0.1111111111111111,\"#46039f\"],[0.2222222222222222,\"#7201a8\"],[0.3333333333333333,\"#9c179e\"],[0.4444444444444444,\"#bd3786\"],[0.5555555555555556,\"#d8576b\"],[0.6666666666666666,\"#ed7953\"],[0.7777777777777778,\"#fb9f3a\"],[0.8888888888888888,\"#fdca26\"],[1.0,\"#f0f921\"]],\"diverging\":[[0,\"#8e0152\"],[0.1,\"#c51b7d\"],[0.2,\"#de77ae\"],[0.3,\"#f1b6da\"],[0.4,\"#fde0ef\"],[0.5,\"#f7f7f7\"],[0.6,\"#e6f5d0\"],[0.7,\"#b8e186\"],[0.8,\"#7fbc41\"],[0.9,\"#4d9221\"],[1,\"#276419\"]]},\"xaxis\":{\"gridcolor\":\"white\",\"linecolor\":\"white\",\"ticks\":\"\",\"title\":{\"standoff\":15},\"zerolinecolor\":\"white\",\"automargin\":true,\"zerolinewidth\":2},\"yaxis\":{\"gridcolor\":\"white\",\"linecolor\":\"white\",\"ticks\":\"\",\"title\":{\"standoff\":15},\"zerolinecolor\":\"white\",\"automargin\":true,\"zerolinewidth\":2},\"scene\":{\"xaxis\":{\"backgroundcolor\":\"#E5ECF6\",\"gridcolor\":\"white\",\"linecolor\":\"white\",\"showbackground\":true,\"ticks\":\"\",\"zerolinecolor\":\"white\",\"gridwidth\":2},\"yaxis\":{\"backgroundcolor\":\"#E5ECF6\",\"gridcolor\":\"white\",\"linecolor\":\"white\",\"showbackground\":true,\"ticks\":\"\",\"zerolinecolor\":\"white\",\"gridwidth\":2},\"zaxis\":{\"backgroundcolor\":\"#E5ECF6\",\"gridcolor\":\"white\",\"linecolor\":\"white\",\"showbackground\":true,\"ticks\":\"\",\"zerolinecolor\":\"white\",\"gridwidth\":2}},\"shapedefaults\":{\"line\":{\"color\":\"#2a3f5f\"}},\"annotationdefaults\":{\"arrowcolor\":\"#2a3f5f\",\"arrowhead\":0,\"arrowwidth\":1},\"geo\":{\"bgcolor\":\"white\",\"landcolor\":\"#E5ECF6\",\"subunitcolor\":\"white\",\"showland\":true,\"showlakes\":true,\"lakecolor\":\"white\"},\"title\":{\"x\":0.05},\"mapbox\":{\"style\":\"light\"}}},\"xaxis\":{\"anchor\":\"y\",\"domain\":[0.0,1.0],\"title\":{\"text\":\"employer\"}},\"yaxis\":{\"anchor\":\"x\",\"domain\":[0.0,1.0],\"title\":{\"text\":\"value\"}},\"legend\":{\"title\":{\"text\":\"variable\"},\"tracegroupgap\":0},\"title\":{\"text\":\"\\u0422\\u043e\\u043f 10 \\u0440\\u0430\\u0431\\u043e\\u0442\\u043e\\u0434\\u0430\\u0442\\u0435\\u043b\\u0435\\u0439 \\u0432\\u0430\\u043a\\u0430\\u043d\\u0441\\u0438\\u0439 DS\"},\"barmode\":\"relative\",\"showlegend\":false},                        {\"responsive\": true}                    ).then(function(){\n",
              "                            \n",
              "var gd = document.getElementById('d14c0f60-b37d-4857-b0b5-af8f98538a47');\n",
              "var x = new MutationObserver(function (mutations, observer) {{\n",
              "        var display = window.getComputedStyle(gd).display;\n",
              "        if (!display || display === 'none') {{\n",
              "            console.log([gd, 'removed!']);\n",
              "            Plotly.purge(gd);\n",
              "            observer.disconnect();\n",
              "        }}\n",
              "}});\n",
              "\n",
              "// Listen for the removal of the full notebook cells\n",
              "var notebookContainer = gd.closest('#notebook-container');\n",
              "if (notebookContainer) {{\n",
              "    x.observe(notebookContainer, {childList: true});\n",
              "}}\n",
              "\n",
              "// Listen for the clearing of the current output cell\n",
              "var outputEl = gd.closest('.output');\n",
              "if (outputEl) {{\n",
              "    x.observe(outputEl, {childList: true});\n",
              "}}\n",
              "\n",
              "                        })                };                            </script>        </div>\n",
              "</body>\n",
              "</html>"
            ]
          },
          "metadata": {}
        }
      ]
    },
    {
      "cell_type": "markdown",
      "source": [
        "**Вывод:** Больше всего вакансий аналитиков публикуют СБЕР, Wildberries, МТС, а специалистов DS — СБЕР, Ozon, Газпромбанк, Samokat.tech."
      ],
      "metadata": {
        "id": "hkBeLYaLgIe4"
      }
    },
    {
      "cell_type": "markdown",
      "source": [
        "Выделим топ городов публикаций вакансий на DA и DS"
      ],
      "metadata": {
        "id": "TrisjmYUlB0o"
      }
    },
    {
      "cell_type": "code",
      "source": [
        "get_top_vacancy(data_da, 'area', 5, 'DA', 'городов')"
      ],
      "metadata": {
        "colab": {
          "base_uri": "https://localhost:8080/",
          "height": 542
        },
        "id": "Cb2cN9T3lJpV",
        "outputId": "023732aa-80a5-4f0d-a966-cc7f07d0d24f"
      },
      "execution_count": 38,
      "outputs": [
        {
          "output_type": "display_data",
          "data": {
            "text/html": [
              "<html>\n",
              "<head><meta charset=\"utf-8\" /></head>\n",
              "<body>\n",
              "    <div>            <script src=\"https://cdnjs.cloudflare.com/ajax/libs/mathjax/2.7.5/MathJax.js?config=TeX-AMS-MML_SVG\"></script><script type=\"text/javascript\">if (window.MathJax && window.MathJax.Hub && window.MathJax.Hub.Config) {window.MathJax.Hub.Config({SVG: {font: \"STIX-Web\"}});}</script>                <script type=\"text/javascript\">window.PlotlyConfig = {MathJaxConfig: 'local'};</script>\n",
              "        <script charset=\"utf-8\" src=\"https://cdn.plot.ly/plotly-2.24.1.min.js\"></script>                <div id=\"755b4993-9821-4181-99b3-062c21b3629f\" class=\"plotly-graph-div\" style=\"height:525px; width:100%;\"></div>            <script type=\"text/javascript\">                                    window.PLOTLYENV=window.PLOTLYENV || {};                                    if (document.getElementById(\"755b4993-9821-4181-99b3-062c21b3629f\")) {                    Plotly.newPlot(                        \"755b4993-9821-4181-99b3-062c21b3629f\",                        [{\"alignmentgroup\":\"True\",\"hovertemplate\":\"variable=count\\u003cbr\\u003earea=%{x}\\u003cbr\\u003evalue=%{y}\\u003cextra\\u003e\\u003c\\u002fextra\\u003e\",\"legendgroup\":\"count\",\"marker\":{\"color\":\"#636efa\",\"pattern\":{\"shape\":\"\"}},\"name\":\"count\",\"offsetgroup\":\"count\",\"orientation\":\"v\",\"showlegend\":true,\"textposition\":\"auto\",\"x\":[\"\\u043c\\u043e\\u0441\\u043a\\u0432\\u0430\",\"\\u0441\\u0430\\u043d\\u043a\\u0442-\\u043f\\u0435\\u0442\\u0435\\u0440\\u0431\\u0443\\u0440\\u0433\",\"\\u0435\\u043a\\u0430\\u0442\\u0435\\u0440\\u0438\\u043d\\u0431\\u0443\\u0440\\u0433\",\"\\u0440\\u043e\\u0441\\u0442\\u043e\\u0432-\\u043d\\u0430-\\u0434\\u043e\\u043d\\u0443\",\"\\u043a\\u0440\\u0430\\u0441\\u043d\\u043e\\u0434\\u0430\\u0440\"],\"xaxis\":\"x\",\"y\":[229,36,5,3,3],\"yaxis\":\"y\",\"type\":\"bar\"}],                        {\"template\":{\"data\":{\"histogram2dcontour\":[{\"type\":\"histogram2dcontour\",\"colorbar\":{\"outlinewidth\":0,\"ticks\":\"\"},\"colorscale\":[[0.0,\"#0d0887\"],[0.1111111111111111,\"#46039f\"],[0.2222222222222222,\"#7201a8\"],[0.3333333333333333,\"#9c179e\"],[0.4444444444444444,\"#bd3786\"],[0.5555555555555556,\"#d8576b\"],[0.6666666666666666,\"#ed7953\"],[0.7777777777777778,\"#fb9f3a\"],[0.8888888888888888,\"#fdca26\"],[1.0,\"#f0f921\"]]}],\"choropleth\":[{\"type\":\"choropleth\",\"colorbar\":{\"outlinewidth\":0,\"ticks\":\"\"}}],\"histogram2d\":[{\"type\":\"histogram2d\",\"colorbar\":{\"outlinewidth\":0,\"ticks\":\"\"},\"colorscale\":[[0.0,\"#0d0887\"],[0.1111111111111111,\"#46039f\"],[0.2222222222222222,\"#7201a8\"],[0.3333333333333333,\"#9c179e\"],[0.4444444444444444,\"#bd3786\"],[0.5555555555555556,\"#d8576b\"],[0.6666666666666666,\"#ed7953\"],[0.7777777777777778,\"#fb9f3a\"],[0.8888888888888888,\"#fdca26\"],[1.0,\"#f0f921\"]]}],\"heatmap\":[{\"type\":\"heatmap\",\"colorbar\":{\"outlinewidth\":0,\"ticks\":\"\"},\"colorscale\":[[0.0,\"#0d0887\"],[0.1111111111111111,\"#46039f\"],[0.2222222222222222,\"#7201a8\"],[0.3333333333333333,\"#9c179e\"],[0.4444444444444444,\"#bd3786\"],[0.5555555555555556,\"#d8576b\"],[0.6666666666666666,\"#ed7953\"],[0.7777777777777778,\"#fb9f3a\"],[0.8888888888888888,\"#fdca26\"],[1.0,\"#f0f921\"]]}],\"heatmapgl\":[{\"type\":\"heatmapgl\",\"colorbar\":{\"outlinewidth\":0,\"ticks\":\"\"},\"colorscale\":[[0.0,\"#0d0887\"],[0.1111111111111111,\"#46039f\"],[0.2222222222222222,\"#7201a8\"],[0.3333333333333333,\"#9c179e\"],[0.4444444444444444,\"#bd3786\"],[0.5555555555555556,\"#d8576b\"],[0.6666666666666666,\"#ed7953\"],[0.7777777777777778,\"#fb9f3a\"],[0.8888888888888888,\"#fdca26\"],[1.0,\"#f0f921\"]]}],\"contourcarpet\":[{\"type\":\"contourcarpet\",\"colorbar\":{\"outlinewidth\":0,\"ticks\":\"\"}}],\"contour\":[{\"type\":\"contour\",\"colorbar\":{\"outlinewidth\":0,\"ticks\":\"\"},\"colorscale\":[[0.0,\"#0d0887\"],[0.1111111111111111,\"#46039f\"],[0.2222222222222222,\"#7201a8\"],[0.3333333333333333,\"#9c179e\"],[0.4444444444444444,\"#bd3786\"],[0.5555555555555556,\"#d8576b\"],[0.6666666666666666,\"#ed7953\"],[0.7777777777777778,\"#fb9f3a\"],[0.8888888888888888,\"#fdca26\"],[1.0,\"#f0f921\"]]}],\"surface\":[{\"type\":\"surface\",\"colorbar\":{\"outlinewidth\":0,\"ticks\":\"\"},\"colorscale\":[[0.0,\"#0d0887\"],[0.1111111111111111,\"#46039f\"],[0.2222222222222222,\"#7201a8\"],[0.3333333333333333,\"#9c179e\"],[0.4444444444444444,\"#bd3786\"],[0.5555555555555556,\"#d8576b\"],[0.6666666666666666,\"#ed7953\"],[0.7777777777777778,\"#fb9f3a\"],[0.8888888888888888,\"#fdca26\"],[1.0,\"#f0f921\"]]}],\"mesh3d\":[{\"type\":\"mesh3d\",\"colorbar\":{\"outlinewidth\":0,\"ticks\":\"\"}}],\"scatter\":[{\"fillpattern\":{\"fillmode\":\"overlay\",\"size\":10,\"solidity\":0.2},\"type\":\"scatter\"}],\"parcoords\":[{\"type\":\"parcoords\",\"line\":{\"colorbar\":{\"outlinewidth\":0,\"ticks\":\"\"}}}],\"scatterpolargl\":[{\"type\":\"scatterpolargl\",\"marker\":{\"colorbar\":{\"outlinewidth\":0,\"ticks\":\"\"}}}],\"bar\":[{\"error_x\":{\"color\":\"#2a3f5f\"},\"error_y\":{\"color\":\"#2a3f5f\"},\"marker\":{\"line\":{\"color\":\"#E5ECF6\",\"width\":0.5},\"pattern\":{\"fillmode\":\"overlay\",\"size\":10,\"solidity\":0.2}},\"type\":\"bar\"}],\"scattergeo\":[{\"type\":\"scattergeo\",\"marker\":{\"colorbar\":{\"outlinewidth\":0,\"ticks\":\"\"}}}],\"scatterpolar\":[{\"type\":\"scatterpolar\",\"marker\":{\"colorbar\":{\"outlinewidth\":0,\"ticks\":\"\"}}}],\"histogram\":[{\"marker\":{\"pattern\":{\"fillmode\":\"overlay\",\"size\":10,\"solidity\":0.2}},\"type\":\"histogram\"}],\"scattergl\":[{\"type\":\"scattergl\",\"marker\":{\"colorbar\":{\"outlinewidth\":0,\"ticks\":\"\"}}}],\"scatter3d\":[{\"type\":\"scatter3d\",\"line\":{\"colorbar\":{\"outlinewidth\":0,\"ticks\":\"\"}},\"marker\":{\"colorbar\":{\"outlinewidth\":0,\"ticks\":\"\"}}}],\"scattermapbox\":[{\"type\":\"scattermapbox\",\"marker\":{\"colorbar\":{\"outlinewidth\":0,\"ticks\":\"\"}}}],\"scatterternary\":[{\"type\":\"scatterternary\",\"marker\":{\"colorbar\":{\"outlinewidth\":0,\"ticks\":\"\"}}}],\"scattercarpet\":[{\"type\":\"scattercarpet\",\"marker\":{\"colorbar\":{\"outlinewidth\":0,\"ticks\":\"\"}}}],\"carpet\":[{\"aaxis\":{\"endlinecolor\":\"#2a3f5f\",\"gridcolor\":\"white\",\"linecolor\":\"white\",\"minorgridcolor\":\"white\",\"startlinecolor\":\"#2a3f5f\"},\"baxis\":{\"endlinecolor\":\"#2a3f5f\",\"gridcolor\":\"white\",\"linecolor\":\"white\",\"minorgridcolor\":\"white\",\"startlinecolor\":\"#2a3f5f\"},\"type\":\"carpet\"}],\"table\":[{\"cells\":{\"fill\":{\"color\":\"#EBF0F8\"},\"line\":{\"color\":\"white\"}},\"header\":{\"fill\":{\"color\":\"#C8D4E3\"},\"line\":{\"color\":\"white\"}},\"type\":\"table\"}],\"barpolar\":[{\"marker\":{\"line\":{\"color\":\"#E5ECF6\",\"width\":0.5},\"pattern\":{\"fillmode\":\"overlay\",\"size\":10,\"solidity\":0.2}},\"type\":\"barpolar\"}],\"pie\":[{\"automargin\":true,\"type\":\"pie\"}]},\"layout\":{\"autotypenumbers\":\"strict\",\"colorway\":[\"#636efa\",\"#EF553B\",\"#00cc96\",\"#ab63fa\",\"#FFA15A\",\"#19d3f3\",\"#FF6692\",\"#B6E880\",\"#FF97FF\",\"#FECB52\"],\"font\":{\"color\":\"#2a3f5f\"},\"hovermode\":\"closest\",\"hoverlabel\":{\"align\":\"left\"},\"paper_bgcolor\":\"white\",\"plot_bgcolor\":\"#E5ECF6\",\"polar\":{\"bgcolor\":\"#E5ECF6\",\"angularaxis\":{\"gridcolor\":\"white\",\"linecolor\":\"white\",\"ticks\":\"\"},\"radialaxis\":{\"gridcolor\":\"white\",\"linecolor\":\"white\",\"ticks\":\"\"}},\"ternary\":{\"bgcolor\":\"#E5ECF6\",\"aaxis\":{\"gridcolor\":\"white\",\"linecolor\":\"white\",\"ticks\":\"\"},\"baxis\":{\"gridcolor\":\"white\",\"linecolor\":\"white\",\"ticks\":\"\"},\"caxis\":{\"gridcolor\":\"white\",\"linecolor\":\"white\",\"ticks\":\"\"}},\"coloraxis\":{\"colorbar\":{\"outlinewidth\":0,\"ticks\":\"\"}},\"colorscale\":{\"sequential\":[[0.0,\"#0d0887\"],[0.1111111111111111,\"#46039f\"],[0.2222222222222222,\"#7201a8\"],[0.3333333333333333,\"#9c179e\"],[0.4444444444444444,\"#bd3786\"],[0.5555555555555556,\"#d8576b\"],[0.6666666666666666,\"#ed7953\"],[0.7777777777777778,\"#fb9f3a\"],[0.8888888888888888,\"#fdca26\"],[1.0,\"#f0f921\"]],\"sequentialminus\":[[0.0,\"#0d0887\"],[0.1111111111111111,\"#46039f\"],[0.2222222222222222,\"#7201a8\"],[0.3333333333333333,\"#9c179e\"],[0.4444444444444444,\"#bd3786\"],[0.5555555555555556,\"#d8576b\"],[0.6666666666666666,\"#ed7953\"],[0.7777777777777778,\"#fb9f3a\"],[0.8888888888888888,\"#fdca26\"],[1.0,\"#f0f921\"]],\"diverging\":[[0,\"#8e0152\"],[0.1,\"#c51b7d\"],[0.2,\"#de77ae\"],[0.3,\"#f1b6da\"],[0.4,\"#fde0ef\"],[0.5,\"#f7f7f7\"],[0.6,\"#e6f5d0\"],[0.7,\"#b8e186\"],[0.8,\"#7fbc41\"],[0.9,\"#4d9221\"],[1,\"#276419\"]]},\"xaxis\":{\"gridcolor\":\"white\",\"linecolor\":\"white\",\"ticks\":\"\",\"title\":{\"standoff\":15},\"zerolinecolor\":\"white\",\"automargin\":true,\"zerolinewidth\":2},\"yaxis\":{\"gridcolor\":\"white\",\"linecolor\":\"white\",\"ticks\":\"\",\"title\":{\"standoff\":15},\"zerolinecolor\":\"white\",\"automargin\":true,\"zerolinewidth\":2},\"scene\":{\"xaxis\":{\"backgroundcolor\":\"#E5ECF6\",\"gridcolor\":\"white\",\"linecolor\":\"white\",\"showbackground\":true,\"ticks\":\"\",\"zerolinecolor\":\"white\",\"gridwidth\":2},\"yaxis\":{\"backgroundcolor\":\"#E5ECF6\",\"gridcolor\":\"white\",\"linecolor\":\"white\",\"showbackground\":true,\"ticks\":\"\",\"zerolinecolor\":\"white\",\"gridwidth\":2},\"zaxis\":{\"backgroundcolor\":\"#E5ECF6\",\"gridcolor\":\"white\",\"linecolor\":\"white\",\"showbackground\":true,\"ticks\":\"\",\"zerolinecolor\":\"white\",\"gridwidth\":2}},\"shapedefaults\":{\"line\":{\"color\":\"#2a3f5f\"}},\"annotationdefaults\":{\"arrowcolor\":\"#2a3f5f\",\"arrowhead\":0,\"arrowwidth\":1},\"geo\":{\"bgcolor\":\"white\",\"landcolor\":\"#E5ECF6\",\"subunitcolor\":\"white\",\"showland\":true,\"showlakes\":true,\"lakecolor\":\"white\"},\"title\":{\"x\":0.05},\"mapbox\":{\"style\":\"light\"}}},\"xaxis\":{\"anchor\":\"y\",\"domain\":[0.0,1.0],\"title\":{\"text\":\"area\"}},\"yaxis\":{\"anchor\":\"x\",\"domain\":[0.0,1.0],\"title\":{\"text\":\"value\"}},\"legend\":{\"title\":{\"text\":\"variable\"},\"tracegroupgap\":0},\"title\":{\"text\":\"\\u0422\\u043e\\u043f 5 \\u0433\\u043e\\u0440\\u043e\\u0434\\u043e\\u0432 \\u0432\\u0430\\u043a\\u0430\\u043d\\u0441\\u0438\\u0439 DA\"},\"barmode\":\"relative\",\"showlegend\":false},                        {\"responsive\": true}                    ).then(function(){\n",
              "                            \n",
              "var gd = document.getElementById('755b4993-9821-4181-99b3-062c21b3629f');\n",
              "var x = new MutationObserver(function (mutations, observer) {{\n",
              "        var display = window.getComputedStyle(gd).display;\n",
              "        if (!display || display === 'none') {{\n",
              "            console.log([gd, 'removed!']);\n",
              "            Plotly.purge(gd);\n",
              "            observer.disconnect();\n",
              "        }}\n",
              "}});\n",
              "\n",
              "// Listen for the removal of the full notebook cells\n",
              "var notebookContainer = gd.closest('#notebook-container');\n",
              "if (notebookContainer) {{\n",
              "    x.observe(notebookContainer, {childList: true});\n",
              "}}\n",
              "\n",
              "// Listen for the clearing of the current output cell\n",
              "var outputEl = gd.closest('.output');\n",
              "if (outputEl) {{\n",
              "    x.observe(outputEl, {childList: true});\n",
              "}}\n",
              "\n",
              "                        })                };                            </script>        </div>\n",
              "</body>\n",
              "</html>"
            ]
          },
          "metadata": {}
        }
      ]
    },
    {
      "cell_type": "code",
      "source": [
        "get_top_vacancy(data_ds, 'area', 5, 'DS', 'городов')"
      ],
      "metadata": {
        "colab": {
          "base_uri": "https://localhost:8080/",
          "height": 542
        },
        "id": "WItRBep_g8e6",
        "outputId": "5b8bae49-7b65-4c5b-9a0c-6ca48e053b7c"
      },
      "execution_count": 39,
      "outputs": [
        {
          "output_type": "display_data",
          "data": {
            "text/html": [
              "<html>\n",
              "<head><meta charset=\"utf-8\" /></head>\n",
              "<body>\n",
              "    <div>            <script src=\"https://cdnjs.cloudflare.com/ajax/libs/mathjax/2.7.5/MathJax.js?config=TeX-AMS-MML_SVG\"></script><script type=\"text/javascript\">if (window.MathJax && window.MathJax.Hub && window.MathJax.Hub.Config) {window.MathJax.Hub.Config({SVG: {font: \"STIX-Web\"}});}</script>                <script type=\"text/javascript\">window.PlotlyConfig = {MathJaxConfig: 'local'};</script>\n",
              "        <script charset=\"utf-8\" src=\"https://cdn.plot.ly/plotly-2.24.1.min.js\"></script>                <div id=\"e02cf98d-c0fe-4546-94ed-62aa6b292b4b\" class=\"plotly-graph-div\" style=\"height:525px; width:100%;\"></div>            <script type=\"text/javascript\">                                    window.PLOTLYENV=window.PLOTLYENV || {};                                    if (document.getElementById(\"e02cf98d-c0fe-4546-94ed-62aa6b292b4b\")) {                    Plotly.newPlot(                        \"e02cf98d-c0fe-4546-94ed-62aa6b292b4b\",                        [{\"alignmentgroup\":\"True\",\"hovertemplate\":\"variable=count\\u003cbr\\u003earea=%{x}\\u003cbr\\u003evalue=%{y}\\u003cextra\\u003e\\u003c\\u002fextra\\u003e\",\"legendgroup\":\"count\",\"marker\":{\"color\":\"#636efa\",\"pattern\":{\"shape\":\"\"}},\"name\":\"count\",\"offsetgroup\":\"count\",\"orientation\":\"v\",\"showlegend\":true,\"textposition\":\"auto\",\"x\":[\"\\u043c\\u043e\\u0441\\u043a\\u0432\\u0430\",\"\\u0441\\u0430\\u043d\\u043a\\u0442-\\u043f\\u0435\\u0442\\u0435\\u0440\\u0431\\u0443\\u0440\\u0433\",\"\\u043d\\u043e\\u0432\\u043e\\u0441\\u0438\\u0431\\u0438\\u0440\\u0441\\u043a\",\"\\u043d\\u0438\\u0436\\u043d\\u0438\\u0439 \\u043d\\u043e\\u0432\\u0433\\u043e\\u0440\\u043e\\u0434\",\"\\u0435\\u043a\\u0430\\u0442\\u0435\\u0440\\u0438\\u043d\\u0431\\u0443\\u0440\\u0433\"],\"xaxis\":\"x\",\"y\":[482,61,14,13,9],\"yaxis\":\"y\",\"type\":\"bar\"}],                        {\"template\":{\"data\":{\"histogram2dcontour\":[{\"type\":\"histogram2dcontour\",\"colorbar\":{\"outlinewidth\":0,\"ticks\":\"\"},\"colorscale\":[[0.0,\"#0d0887\"],[0.1111111111111111,\"#46039f\"],[0.2222222222222222,\"#7201a8\"],[0.3333333333333333,\"#9c179e\"],[0.4444444444444444,\"#bd3786\"],[0.5555555555555556,\"#d8576b\"],[0.6666666666666666,\"#ed7953\"],[0.7777777777777778,\"#fb9f3a\"],[0.8888888888888888,\"#fdca26\"],[1.0,\"#f0f921\"]]}],\"choropleth\":[{\"type\":\"choropleth\",\"colorbar\":{\"outlinewidth\":0,\"ticks\":\"\"}}],\"histogram2d\":[{\"type\":\"histogram2d\",\"colorbar\":{\"outlinewidth\":0,\"ticks\":\"\"},\"colorscale\":[[0.0,\"#0d0887\"],[0.1111111111111111,\"#46039f\"],[0.2222222222222222,\"#7201a8\"],[0.3333333333333333,\"#9c179e\"],[0.4444444444444444,\"#bd3786\"],[0.5555555555555556,\"#d8576b\"],[0.6666666666666666,\"#ed7953\"],[0.7777777777777778,\"#fb9f3a\"],[0.8888888888888888,\"#fdca26\"],[1.0,\"#f0f921\"]]}],\"heatmap\":[{\"type\":\"heatmap\",\"colorbar\":{\"outlinewidth\":0,\"ticks\":\"\"},\"colorscale\":[[0.0,\"#0d0887\"],[0.1111111111111111,\"#46039f\"],[0.2222222222222222,\"#7201a8\"],[0.3333333333333333,\"#9c179e\"],[0.4444444444444444,\"#bd3786\"],[0.5555555555555556,\"#d8576b\"],[0.6666666666666666,\"#ed7953\"],[0.7777777777777778,\"#fb9f3a\"],[0.8888888888888888,\"#fdca26\"],[1.0,\"#f0f921\"]]}],\"heatmapgl\":[{\"type\":\"heatmapgl\",\"colorbar\":{\"outlinewidth\":0,\"ticks\":\"\"},\"colorscale\":[[0.0,\"#0d0887\"],[0.1111111111111111,\"#46039f\"],[0.2222222222222222,\"#7201a8\"],[0.3333333333333333,\"#9c179e\"],[0.4444444444444444,\"#bd3786\"],[0.5555555555555556,\"#d8576b\"],[0.6666666666666666,\"#ed7953\"],[0.7777777777777778,\"#fb9f3a\"],[0.8888888888888888,\"#fdca26\"],[1.0,\"#f0f921\"]]}],\"contourcarpet\":[{\"type\":\"contourcarpet\",\"colorbar\":{\"outlinewidth\":0,\"ticks\":\"\"}}],\"contour\":[{\"type\":\"contour\",\"colorbar\":{\"outlinewidth\":0,\"ticks\":\"\"},\"colorscale\":[[0.0,\"#0d0887\"],[0.1111111111111111,\"#46039f\"],[0.2222222222222222,\"#7201a8\"],[0.3333333333333333,\"#9c179e\"],[0.4444444444444444,\"#bd3786\"],[0.5555555555555556,\"#d8576b\"],[0.6666666666666666,\"#ed7953\"],[0.7777777777777778,\"#fb9f3a\"],[0.8888888888888888,\"#fdca26\"],[1.0,\"#f0f921\"]]}],\"surface\":[{\"type\":\"surface\",\"colorbar\":{\"outlinewidth\":0,\"ticks\":\"\"},\"colorscale\":[[0.0,\"#0d0887\"],[0.1111111111111111,\"#46039f\"],[0.2222222222222222,\"#7201a8\"],[0.3333333333333333,\"#9c179e\"],[0.4444444444444444,\"#bd3786\"],[0.5555555555555556,\"#d8576b\"],[0.6666666666666666,\"#ed7953\"],[0.7777777777777778,\"#fb9f3a\"],[0.8888888888888888,\"#fdca26\"],[1.0,\"#f0f921\"]]}],\"mesh3d\":[{\"type\":\"mesh3d\",\"colorbar\":{\"outlinewidth\":0,\"ticks\":\"\"}}],\"scatter\":[{\"fillpattern\":{\"fillmode\":\"overlay\",\"size\":10,\"solidity\":0.2},\"type\":\"scatter\"}],\"parcoords\":[{\"type\":\"parcoords\",\"line\":{\"colorbar\":{\"outlinewidth\":0,\"ticks\":\"\"}}}],\"scatterpolargl\":[{\"type\":\"scatterpolargl\",\"marker\":{\"colorbar\":{\"outlinewidth\":0,\"ticks\":\"\"}}}],\"bar\":[{\"error_x\":{\"color\":\"#2a3f5f\"},\"error_y\":{\"color\":\"#2a3f5f\"},\"marker\":{\"line\":{\"color\":\"#E5ECF6\",\"width\":0.5},\"pattern\":{\"fillmode\":\"overlay\",\"size\":10,\"solidity\":0.2}},\"type\":\"bar\"}],\"scattergeo\":[{\"type\":\"scattergeo\",\"marker\":{\"colorbar\":{\"outlinewidth\":0,\"ticks\":\"\"}}}],\"scatterpolar\":[{\"type\":\"scatterpolar\",\"marker\":{\"colorbar\":{\"outlinewidth\":0,\"ticks\":\"\"}}}],\"histogram\":[{\"marker\":{\"pattern\":{\"fillmode\":\"overlay\",\"size\":10,\"solidity\":0.2}},\"type\":\"histogram\"}],\"scattergl\":[{\"type\":\"scattergl\",\"marker\":{\"colorbar\":{\"outlinewidth\":0,\"ticks\":\"\"}}}],\"scatter3d\":[{\"type\":\"scatter3d\",\"line\":{\"colorbar\":{\"outlinewidth\":0,\"ticks\":\"\"}},\"marker\":{\"colorbar\":{\"outlinewidth\":0,\"ticks\":\"\"}}}],\"scattermapbox\":[{\"type\":\"scattermapbox\",\"marker\":{\"colorbar\":{\"outlinewidth\":0,\"ticks\":\"\"}}}],\"scatterternary\":[{\"type\":\"scatterternary\",\"marker\":{\"colorbar\":{\"outlinewidth\":0,\"ticks\":\"\"}}}],\"scattercarpet\":[{\"type\":\"scattercarpet\",\"marker\":{\"colorbar\":{\"outlinewidth\":0,\"ticks\":\"\"}}}],\"carpet\":[{\"aaxis\":{\"endlinecolor\":\"#2a3f5f\",\"gridcolor\":\"white\",\"linecolor\":\"white\",\"minorgridcolor\":\"white\",\"startlinecolor\":\"#2a3f5f\"},\"baxis\":{\"endlinecolor\":\"#2a3f5f\",\"gridcolor\":\"white\",\"linecolor\":\"white\",\"minorgridcolor\":\"white\",\"startlinecolor\":\"#2a3f5f\"},\"type\":\"carpet\"}],\"table\":[{\"cells\":{\"fill\":{\"color\":\"#EBF0F8\"},\"line\":{\"color\":\"white\"}},\"header\":{\"fill\":{\"color\":\"#C8D4E3\"},\"line\":{\"color\":\"white\"}},\"type\":\"table\"}],\"barpolar\":[{\"marker\":{\"line\":{\"color\":\"#E5ECF6\",\"width\":0.5},\"pattern\":{\"fillmode\":\"overlay\",\"size\":10,\"solidity\":0.2}},\"type\":\"barpolar\"}],\"pie\":[{\"automargin\":true,\"type\":\"pie\"}]},\"layout\":{\"autotypenumbers\":\"strict\",\"colorway\":[\"#636efa\",\"#EF553B\",\"#00cc96\",\"#ab63fa\",\"#FFA15A\",\"#19d3f3\",\"#FF6692\",\"#B6E880\",\"#FF97FF\",\"#FECB52\"],\"font\":{\"color\":\"#2a3f5f\"},\"hovermode\":\"closest\",\"hoverlabel\":{\"align\":\"left\"},\"paper_bgcolor\":\"white\",\"plot_bgcolor\":\"#E5ECF6\",\"polar\":{\"bgcolor\":\"#E5ECF6\",\"angularaxis\":{\"gridcolor\":\"white\",\"linecolor\":\"white\",\"ticks\":\"\"},\"radialaxis\":{\"gridcolor\":\"white\",\"linecolor\":\"white\",\"ticks\":\"\"}},\"ternary\":{\"bgcolor\":\"#E5ECF6\",\"aaxis\":{\"gridcolor\":\"white\",\"linecolor\":\"white\",\"ticks\":\"\"},\"baxis\":{\"gridcolor\":\"white\",\"linecolor\":\"white\",\"ticks\":\"\"},\"caxis\":{\"gridcolor\":\"white\",\"linecolor\":\"white\",\"ticks\":\"\"}},\"coloraxis\":{\"colorbar\":{\"outlinewidth\":0,\"ticks\":\"\"}},\"colorscale\":{\"sequential\":[[0.0,\"#0d0887\"],[0.1111111111111111,\"#46039f\"],[0.2222222222222222,\"#7201a8\"],[0.3333333333333333,\"#9c179e\"],[0.4444444444444444,\"#bd3786\"],[0.5555555555555556,\"#d8576b\"],[0.6666666666666666,\"#ed7953\"],[0.7777777777777778,\"#fb9f3a\"],[0.8888888888888888,\"#fdca26\"],[1.0,\"#f0f921\"]],\"sequentialminus\":[[0.0,\"#0d0887\"],[0.1111111111111111,\"#46039f\"],[0.2222222222222222,\"#7201a8\"],[0.3333333333333333,\"#9c179e\"],[0.4444444444444444,\"#bd3786\"],[0.5555555555555556,\"#d8576b\"],[0.6666666666666666,\"#ed7953\"],[0.7777777777777778,\"#fb9f3a\"],[0.8888888888888888,\"#fdca26\"],[1.0,\"#f0f921\"]],\"diverging\":[[0,\"#8e0152\"],[0.1,\"#c51b7d\"],[0.2,\"#de77ae\"],[0.3,\"#f1b6da\"],[0.4,\"#fde0ef\"],[0.5,\"#f7f7f7\"],[0.6,\"#e6f5d0\"],[0.7,\"#b8e186\"],[0.8,\"#7fbc41\"],[0.9,\"#4d9221\"],[1,\"#276419\"]]},\"xaxis\":{\"gridcolor\":\"white\",\"linecolor\":\"white\",\"ticks\":\"\",\"title\":{\"standoff\":15},\"zerolinecolor\":\"white\",\"automargin\":true,\"zerolinewidth\":2},\"yaxis\":{\"gridcolor\":\"white\",\"linecolor\":\"white\",\"ticks\":\"\",\"title\":{\"standoff\":15},\"zerolinecolor\":\"white\",\"automargin\":true,\"zerolinewidth\":2},\"scene\":{\"xaxis\":{\"backgroundcolor\":\"#E5ECF6\",\"gridcolor\":\"white\",\"linecolor\":\"white\",\"showbackground\":true,\"ticks\":\"\",\"zerolinecolor\":\"white\",\"gridwidth\":2},\"yaxis\":{\"backgroundcolor\":\"#E5ECF6\",\"gridcolor\":\"white\",\"linecolor\":\"white\",\"showbackground\":true,\"ticks\":\"\",\"zerolinecolor\":\"white\",\"gridwidth\":2},\"zaxis\":{\"backgroundcolor\":\"#E5ECF6\",\"gridcolor\":\"white\",\"linecolor\":\"white\",\"showbackground\":true,\"ticks\":\"\",\"zerolinecolor\":\"white\",\"gridwidth\":2}},\"shapedefaults\":{\"line\":{\"color\":\"#2a3f5f\"}},\"annotationdefaults\":{\"arrowcolor\":\"#2a3f5f\",\"arrowhead\":0,\"arrowwidth\":1},\"geo\":{\"bgcolor\":\"white\",\"landcolor\":\"#E5ECF6\",\"subunitcolor\":\"white\",\"showland\":true,\"showlakes\":true,\"lakecolor\":\"white\"},\"title\":{\"x\":0.05},\"mapbox\":{\"style\":\"light\"}}},\"xaxis\":{\"anchor\":\"y\",\"domain\":[0.0,1.0],\"title\":{\"text\":\"area\"}},\"yaxis\":{\"anchor\":\"x\",\"domain\":[0.0,1.0],\"title\":{\"text\":\"value\"}},\"legend\":{\"title\":{\"text\":\"variable\"},\"tracegroupgap\":0},\"title\":{\"text\":\"\\u0422\\u043e\\u043f 5 \\u0433\\u043e\\u0440\\u043e\\u0434\\u043e\\u0432 \\u0432\\u0430\\u043a\\u0430\\u043d\\u0441\\u0438\\u0439 DS\"},\"barmode\":\"relative\",\"showlegend\":false},                        {\"responsive\": true}                    ).then(function(){\n",
              "                            \n",
              "var gd = document.getElementById('e02cf98d-c0fe-4546-94ed-62aa6b292b4b');\n",
              "var x = new MutationObserver(function (mutations, observer) {{\n",
              "        var display = window.getComputedStyle(gd).display;\n",
              "        if (!display || display === 'none') {{\n",
              "            console.log([gd, 'removed!']);\n",
              "            Plotly.purge(gd);\n",
              "            observer.disconnect();\n",
              "        }}\n",
              "}});\n",
              "\n",
              "// Listen for the removal of the full notebook cells\n",
              "var notebookContainer = gd.closest('#notebook-container');\n",
              "if (notebookContainer) {{\n",
              "    x.observe(notebookContainer, {childList: true});\n",
              "}}\n",
              "\n",
              "// Listen for the clearing of the current output cell\n",
              "var outputEl = gd.closest('.output');\n",
              "if (outputEl) {{\n",
              "    x.observe(outputEl, {childList: true});\n",
              "}}\n",
              "\n",
              "                        })                };                            </script>        </div>\n",
              "</body>\n",
              "</html>"
            ]
          },
          "metadata": {}
        }
      ]
    },
    {
      "cell_type": "markdown",
      "source": [
        "**Вывод:** Одинаково аналитиков и DS специалистов ищут в Москве и Санк-Петербурге."
      ],
      "metadata": {
        "id": "Le5etK_ZlqK7"
      }
    },
    {
      "cell_type": "markdown",
      "source": [
        "Определим медианные зарплаты каждого специалиста"
      ],
      "metadata": {
        "id": "TYIlbTwV1vRL"
      }
    },
    {
      "cell_type": "code",
      "source": [
        "#напишем функцию которая будет считать медианные зарплаты и визуализировать их распределение\n",
        "def show_salary(data, title):\n",
        "  fig = go.Figure()\n",
        "  # Use x instead of y argument for horizontal plot\n",
        "  fig.add_trace(go.Box(x=data['salary_from'],name='Зарплата от'))\n",
        "  fig.add_trace(go.Box(x=data['salary_to'], name='Зарплата до'))\n",
        "  fig.update_xaxes(title_text=\"Уровень заработной платы\")\n",
        "  fig.update_layout(title=f'Распределение уровня зарплат {title}', showlegend=False)\n",
        "  fig.show()\n",
        "\n",
        "\n",
        "show_salary(data_da, 'Аналитиков')\n",
        "show_salary(data_ds, 'DS специалистов')"
      ],
      "metadata": {
        "colab": {
          "base_uri": "https://localhost:8080/",
          "height": 1000
        },
        "id": "loTWBsS41uz2",
        "outputId": "b9d2f22c-c446-4625-b92b-c718573a7a38"
      },
      "execution_count": 40,
      "outputs": [
        {
          "output_type": "display_data",
          "data": {
            "text/html": [
              "<html>\n",
              "<head><meta charset=\"utf-8\" /></head>\n",
              "<body>\n",
              "    <div>            <script src=\"https://cdnjs.cloudflare.com/ajax/libs/mathjax/2.7.5/MathJax.js?config=TeX-AMS-MML_SVG\"></script><script type=\"text/javascript\">if (window.MathJax && window.MathJax.Hub && window.MathJax.Hub.Config) {window.MathJax.Hub.Config({SVG: {font: \"STIX-Web\"}});}</script>                <script type=\"text/javascript\">window.PlotlyConfig = {MathJaxConfig: 'local'};</script>\n",
              "        <script charset=\"utf-8\" src=\"https://cdn.plot.ly/plotly-2.24.1.min.js\"></script>                <div id=\"a1f52253-47e3-4fa9-920b-c67000a82e18\" class=\"plotly-graph-div\" style=\"height:525px; width:100%;\"></div>            <script type=\"text/javascript\">                                    window.PLOTLYENV=window.PLOTLYENV || {};                                    if (document.getElementById(\"a1f52253-47e3-4fa9-920b-c67000a82e18\")) {                    Plotly.newPlot(                        \"a1f52253-47e3-4fa9-920b-c67000a82e18\",                        [{\"name\":\"\\u0417\\u0430\\u0440\\u043f\\u043b\\u0430\\u0442\\u0430 \\u043e\\u0442\",\"x\":[null,null,null,null,null,null,null,null,null,null,null,null,null,null,null,null,null,null,null,190000.0,null,null,null,null,null,null,null,null,null,null,null,null,null,null,null,null,null,null,null,60000.0,null,null,null,150000.0,null,null,null,100000.0,null,null,null,null,null,null,null,null,null,null,null,null,null,null,null,null,null,null,null,null,345950.0,null,null,null,null,null,null,null,null,null,null,120000.0,null,null,null,null,null,null,null,null,null,null,null,null,null,null,null,100000.0,null,350000.0,null,null,null,null,null,180000.0,null,null,null,80000.0,null,null,null,null,null,null,null,null,null,null,null,null,null,null,null,null,150000.0,null,null,null,null,null,null,null,null,null,null,null,null,90000.0,null,null,null,null,null,null,null,null,null,null,null,200000.0,null,null,null,null,null,null,null,null,null,null,null,null,null,null,null,null,null,null,null,null,null,null,null,null,110000.0,null,null,null,null,null,null,null,150000.0,null,null,187000.0,187000.0,null,null,null,null,null,null,180000.0,null,null,null,null,null,null,null,null,null,null,null,null,null,null,null,null,null,null,150000.0,160000.0,null,null,null,null,null,null,null,280500.0,null,null,120000.0,null,null,100000.0,null,null,null,150000.0,null,180000.0,null,null,null,null,null,null,150000.0,null,null,null,null,null,null,null,null,null,null,null,null,null,null,187000.0,null,null,null,null,null,null,null,null,null,null,null,180000.0,null,null,null,null,null,null,null,null,null,null,null,null,null,null,null,null,null,null,null,null,null,null,null,null,null,null],\"type\":\"box\"},{\"name\":\"\\u0417\\u0430\\u0440\\u043f\\u043b\\u0430\\u0442\\u0430 \\u0434\\u043e\",\"x\":[null,null,null,null,null,null,null,null,null,null,null,null,null,null,null,null,null,null,null,null,null,null,null,null,null,null,null,null,null,null,null,null,null,null,null,null,null,null,null,null,null,null,null,200000.0,null,null,null,null,null,null,null,null,null,null,null,null,null,null,null,null,null,null,null,null,null,null,null,null,495550.0,150000.0,null,null,null,null,90000.0,null,null,null,null,null,null,null,null,null,null,null,null,null,null,null,null,null,null,null,null,200000.0,null,400000.0,null,null,null,null,null,null,null,null,400000.0,120000.0,null,null,null,null,null,null,null,null,null,null,null,140000.0,null,null,null,null,null,null,null,null,null,null,null,null,null,null,null,null,null,null,null,null,null,null,null,null,null,null,null,null,null,350000.0,null,null,null,150000.0,null,null,null,null,null,null,null,null,null,null,null,null,null,null,null,null,null,null,null,null,140000.0,null,null,null,250000.0,420750.0,null,null,200000.0,null,null,280500.0,null,null,null,null,null,null,null,220000.0,null,null,null,140000.0,null,null,null,null,null,null,null,null,null,null,null,null,null,null,null,200000.0,null,null,null,null,null,null,null,467500.0,null,null,200000.0,null,null,null,null,null,null,null,null,250000.0,null,null,null,null,null,null,null,null,null,null,null,null,null,null,null,null,null,null,null,null,null,280500.0,null,null,null,null,null,null,null,null,null,null,null,null,null,null,null,null,null,null,null,null,null,null,null,null,null,null,null,null,null,null,null,null,null,null,null,null,null,null],\"type\":\"box\"}],                        {\"template\":{\"data\":{\"histogram2dcontour\":[{\"type\":\"histogram2dcontour\",\"colorbar\":{\"outlinewidth\":0,\"ticks\":\"\"},\"colorscale\":[[0.0,\"#0d0887\"],[0.1111111111111111,\"#46039f\"],[0.2222222222222222,\"#7201a8\"],[0.3333333333333333,\"#9c179e\"],[0.4444444444444444,\"#bd3786\"],[0.5555555555555556,\"#d8576b\"],[0.6666666666666666,\"#ed7953\"],[0.7777777777777778,\"#fb9f3a\"],[0.8888888888888888,\"#fdca26\"],[1.0,\"#f0f921\"]]}],\"choropleth\":[{\"type\":\"choropleth\",\"colorbar\":{\"outlinewidth\":0,\"ticks\":\"\"}}],\"histogram2d\":[{\"type\":\"histogram2d\",\"colorbar\":{\"outlinewidth\":0,\"ticks\":\"\"},\"colorscale\":[[0.0,\"#0d0887\"],[0.1111111111111111,\"#46039f\"],[0.2222222222222222,\"#7201a8\"],[0.3333333333333333,\"#9c179e\"],[0.4444444444444444,\"#bd3786\"],[0.5555555555555556,\"#d8576b\"],[0.6666666666666666,\"#ed7953\"],[0.7777777777777778,\"#fb9f3a\"],[0.8888888888888888,\"#fdca26\"],[1.0,\"#f0f921\"]]}],\"heatmap\":[{\"type\":\"heatmap\",\"colorbar\":{\"outlinewidth\":0,\"ticks\":\"\"},\"colorscale\":[[0.0,\"#0d0887\"],[0.1111111111111111,\"#46039f\"],[0.2222222222222222,\"#7201a8\"],[0.3333333333333333,\"#9c179e\"],[0.4444444444444444,\"#bd3786\"],[0.5555555555555556,\"#d8576b\"],[0.6666666666666666,\"#ed7953\"],[0.7777777777777778,\"#fb9f3a\"],[0.8888888888888888,\"#fdca26\"],[1.0,\"#f0f921\"]]}],\"heatmapgl\":[{\"type\":\"heatmapgl\",\"colorbar\":{\"outlinewidth\":0,\"ticks\":\"\"},\"colorscale\":[[0.0,\"#0d0887\"],[0.1111111111111111,\"#46039f\"],[0.2222222222222222,\"#7201a8\"],[0.3333333333333333,\"#9c179e\"],[0.4444444444444444,\"#bd3786\"],[0.5555555555555556,\"#d8576b\"],[0.6666666666666666,\"#ed7953\"],[0.7777777777777778,\"#fb9f3a\"],[0.8888888888888888,\"#fdca26\"],[1.0,\"#f0f921\"]]}],\"contourcarpet\":[{\"type\":\"contourcarpet\",\"colorbar\":{\"outlinewidth\":0,\"ticks\":\"\"}}],\"contour\":[{\"type\":\"contour\",\"colorbar\":{\"outlinewidth\":0,\"ticks\":\"\"},\"colorscale\":[[0.0,\"#0d0887\"],[0.1111111111111111,\"#46039f\"],[0.2222222222222222,\"#7201a8\"],[0.3333333333333333,\"#9c179e\"],[0.4444444444444444,\"#bd3786\"],[0.5555555555555556,\"#d8576b\"],[0.6666666666666666,\"#ed7953\"],[0.7777777777777778,\"#fb9f3a\"],[0.8888888888888888,\"#fdca26\"],[1.0,\"#f0f921\"]]}],\"surface\":[{\"type\":\"surface\",\"colorbar\":{\"outlinewidth\":0,\"ticks\":\"\"},\"colorscale\":[[0.0,\"#0d0887\"],[0.1111111111111111,\"#46039f\"],[0.2222222222222222,\"#7201a8\"],[0.3333333333333333,\"#9c179e\"],[0.4444444444444444,\"#bd3786\"],[0.5555555555555556,\"#d8576b\"],[0.6666666666666666,\"#ed7953\"],[0.7777777777777778,\"#fb9f3a\"],[0.8888888888888888,\"#fdca26\"],[1.0,\"#f0f921\"]]}],\"mesh3d\":[{\"type\":\"mesh3d\",\"colorbar\":{\"outlinewidth\":0,\"ticks\":\"\"}}],\"scatter\":[{\"fillpattern\":{\"fillmode\":\"overlay\",\"size\":10,\"solidity\":0.2},\"type\":\"scatter\"}],\"parcoords\":[{\"type\":\"parcoords\",\"line\":{\"colorbar\":{\"outlinewidth\":0,\"ticks\":\"\"}}}],\"scatterpolargl\":[{\"type\":\"scatterpolargl\",\"marker\":{\"colorbar\":{\"outlinewidth\":0,\"ticks\":\"\"}}}],\"bar\":[{\"error_x\":{\"color\":\"#2a3f5f\"},\"error_y\":{\"color\":\"#2a3f5f\"},\"marker\":{\"line\":{\"color\":\"#E5ECF6\",\"width\":0.5},\"pattern\":{\"fillmode\":\"overlay\",\"size\":10,\"solidity\":0.2}},\"type\":\"bar\"}],\"scattergeo\":[{\"type\":\"scattergeo\",\"marker\":{\"colorbar\":{\"outlinewidth\":0,\"ticks\":\"\"}}}],\"scatterpolar\":[{\"type\":\"scatterpolar\",\"marker\":{\"colorbar\":{\"outlinewidth\":0,\"ticks\":\"\"}}}],\"histogram\":[{\"marker\":{\"pattern\":{\"fillmode\":\"overlay\",\"size\":10,\"solidity\":0.2}},\"type\":\"histogram\"}],\"scattergl\":[{\"type\":\"scattergl\",\"marker\":{\"colorbar\":{\"outlinewidth\":0,\"ticks\":\"\"}}}],\"scatter3d\":[{\"type\":\"scatter3d\",\"line\":{\"colorbar\":{\"outlinewidth\":0,\"ticks\":\"\"}},\"marker\":{\"colorbar\":{\"outlinewidth\":0,\"ticks\":\"\"}}}],\"scattermapbox\":[{\"type\":\"scattermapbox\",\"marker\":{\"colorbar\":{\"outlinewidth\":0,\"ticks\":\"\"}}}],\"scatterternary\":[{\"type\":\"scatterternary\",\"marker\":{\"colorbar\":{\"outlinewidth\":0,\"ticks\":\"\"}}}],\"scattercarpet\":[{\"type\":\"scattercarpet\",\"marker\":{\"colorbar\":{\"outlinewidth\":0,\"ticks\":\"\"}}}],\"carpet\":[{\"aaxis\":{\"endlinecolor\":\"#2a3f5f\",\"gridcolor\":\"white\",\"linecolor\":\"white\",\"minorgridcolor\":\"white\",\"startlinecolor\":\"#2a3f5f\"},\"baxis\":{\"endlinecolor\":\"#2a3f5f\",\"gridcolor\":\"white\",\"linecolor\":\"white\",\"minorgridcolor\":\"white\",\"startlinecolor\":\"#2a3f5f\"},\"type\":\"carpet\"}],\"table\":[{\"cells\":{\"fill\":{\"color\":\"#EBF0F8\"},\"line\":{\"color\":\"white\"}},\"header\":{\"fill\":{\"color\":\"#C8D4E3\"},\"line\":{\"color\":\"white\"}},\"type\":\"table\"}],\"barpolar\":[{\"marker\":{\"line\":{\"color\":\"#E5ECF6\",\"width\":0.5},\"pattern\":{\"fillmode\":\"overlay\",\"size\":10,\"solidity\":0.2}},\"type\":\"barpolar\"}],\"pie\":[{\"automargin\":true,\"type\":\"pie\"}]},\"layout\":{\"autotypenumbers\":\"strict\",\"colorway\":[\"#636efa\",\"#EF553B\",\"#00cc96\",\"#ab63fa\",\"#FFA15A\",\"#19d3f3\",\"#FF6692\",\"#B6E880\",\"#FF97FF\",\"#FECB52\"],\"font\":{\"color\":\"#2a3f5f\"},\"hovermode\":\"closest\",\"hoverlabel\":{\"align\":\"left\"},\"paper_bgcolor\":\"white\",\"plot_bgcolor\":\"#E5ECF6\",\"polar\":{\"bgcolor\":\"#E5ECF6\",\"angularaxis\":{\"gridcolor\":\"white\",\"linecolor\":\"white\",\"ticks\":\"\"},\"radialaxis\":{\"gridcolor\":\"white\",\"linecolor\":\"white\",\"ticks\":\"\"}},\"ternary\":{\"bgcolor\":\"#E5ECF6\",\"aaxis\":{\"gridcolor\":\"white\",\"linecolor\":\"white\",\"ticks\":\"\"},\"baxis\":{\"gridcolor\":\"white\",\"linecolor\":\"white\",\"ticks\":\"\"},\"caxis\":{\"gridcolor\":\"white\",\"linecolor\":\"white\",\"ticks\":\"\"}},\"coloraxis\":{\"colorbar\":{\"outlinewidth\":0,\"ticks\":\"\"}},\"colorscale\":{\"sequential\":[[0.0,\"#0d0887\"],[0.1111111111111111,\"#46039f\"],[0.2222222222222222,\"#7201a8\"],[0.3333333333333333,\"#9c179e\"],[0.4444444444444444,\"#bd3786\"],[0.5555555555555556,\"#d8576b\"],[0.6666666666666666,\"#ed7953\"],[0.7777777777777778,\"#fb9f3a\"],[0.8888888888888888,\"#fdca26\"],[1.0,\"#f0f921\"]],\"sequentialminus\":[[0.0,\"#0d0887\"],[0.1111111111111111,\"#46039f\"],[0.2222222222222222,\"#7201a8\"],[0.3333333333333333,\"#9c179e\"],[0.4444444444444444,\"#bd3786\"],[0.5555555555555556,\"#d8576b\"],[0.6666666666666666,\"#ed7953\"],[0.7777777777777778,\"#fb9f3a\"],[0.8888888888888888,\"#fdca26\"],[1.0,\"#f0f921\"]],\"diverging\":[[0,\"#8e0152\"],[0.1,\"#c51b7d\"],[0.2,\"#de77ae\"],[0.3,\"#f1b6da\"],[0.4,\"#fde0ef\"],[0.5,\"#f7f7f7\"],[0.6,\"#e6f5d0\"],[0.7,\"#b8e186\"],[0.8,\"#7fbc41\"],[0.9,\"#4d9221\"],[1,\"#276419\"]]},\"xaxis\":{\"gridcolor\":\"white\",\"linecolor\":\"white\",\"ticks\":\"\",\"title\":{\"standoff\":15},\"zerolinecolor\":\"white\",\"automargin\":true,\"zerolinewidth\":2},\"yaxis\":{\"gridcolor\":\"white\",\"linecolor\":\"white\",\"ticks\":\"\",\"title\":{\"standoff\":15},\"zerolinecolor\":\"white\",\"automargin\":true,\"zerolinewidth\":2},\"scene\":{\"xaxis\":{\"backgroundcolor\":\"#E5ECF6\",\"gridcolor\":\"white\",\"linecolor\":\"white\",\"showbackground\":true,\"ticks\":\"\",\"zerolinecolor\":\"white\",\"gridwidth\":2},\"yaxis\":{\"backgroundcolor\":\"#E5ECF6\",\"gridcolor\":\"white\",\"linecolor\":\"white\",\"showbackground\":true,\"ticks\":\"\",\"zerolinecolor\":\"white\",\"gridwidth\":2},\"zaxis\":{\"backgroundcolor\":\"#E5ECF6\",\"gridcolor\":\"white\",\"linecolor\":\"white\",\"showbackground\":true,\"ticks\":\"\",\"zerolinecolor\":\"white\",\"gridwidth\":2}},\"shapedefaults\":{\"line\":{\"color\":\"#2a3f5f\"}},\"annotationdefaults\":{\"arrowcolor\":\"#2a3f5f\",\"arrowhead\":0,\"arrowwidth\":1},\"geo\":{\"bgcolor\":\"white\",\"landcolor\":\"#E5ECF6\",\"subunitcolor\":\"white\",\"showland\":true,\"showlakes\":true,\"lakecolor\":\"white\"},\"title\":{\"x\":0.05},\"mapbox\":{\"style\":\"light\"}}},\"xaxis\":{\"title\":{\"text\":\"\\u0423\\u0440\\u043e\\u0432\\u0435\\u043d\\u044c \\u0437\\u0430\\u0440\\u0430\\u0431\\u043e\\u0442\\u043d\\u043e\\u0439 \\u043f\\u043b\\u0430\\u0442\\u044b\"}},\"title\":{\"text\":\"\\u0420\\u0430\\u0441\\u043f\\u0440\\u0435\\u0434\\u0435\\u043b\\u0435\\u043d\\u0438\\u0435 \\u0443\\u0440\\u043e\\u0432\\u043d\\u044f \\u0437\\u0430\\u0440\\u043f\\u043b\\u0430\\u0442 \\u0410\\u043d\\u0430\\u043b\\u0438\\u0442\\u0438\\u043a\\u043e\\u0432\"},\"showlegend\":false},                        {\"responsive\": true}                    ).then(function(){\n",
              "                            \n",
              "var gd = document.getElementById('a1f52253-47e3-4fa9-920b-c67000a82e18');\n",
              "var x = new MutationObserver(function (mutations, observer) {{\n",
              "        var display = window.getComputedStyle(gd).display;\n",
              "        if (!display || display === 'none') {{\n",
              "            console.log([gd, 'removed!']);\n",
              "            Plotly.purge(gd);\n",
              "            observer.disconnect();\n",
              "        }}\n",
              "}});\n",
              "\n",
              "// Listen for the removal of the full notebook cells\n",
              "var notebookContainer = gd.closest('#notebook-container');\n",
              "if (notebookContainer) {{\n",
              "    x.observe(notebookContainer, {childList: true});\n",
              "}}\n",
              "\n",
              "// Listen for the clearing of the current output cell\n",
              "var outputEl = gd.closest('.output');\n",
              "if (outputEl) {{\n",
              "    x.observe(outputEl, {childList: true});\n",
              "}}\n",
              "\n",
              "                        })                };                            </script>        </div>\n",
              "</body>\n",
              "</html>"
            ]
          },
          "metadata": {}
        },
        {
          "output_type": "display_data",
          "data": {
            "text/html": [
              "<html>\n",
              "<head><meta charset=\"utf-8\" /></head>\n",
              "<body>\n",
              "    <div>            <script src=\"https://cdnjs.cloudflare.com/ajax/libs/mathjax/2.7.5/MathJax.js?config=TeX-AMS-MML_SVG\"></script><script type=\"text/javascript\">if (window.MathJax && window.MathJax.Hub && window.MathJax.Hub.Config) {window.MathJax.Hub.Config({SVG: {font: \"STIX-Web\"}});}</script>                <script type=\"text/javascript\">window.PlotlyConfig = {MathJaxConfig: 'local'};</script>\n",
              "        <script charset=\"utf-8\" src=\"https://cdn.plot.ly/plotly-2.24.1.min.js\"></script>                <div id=\"1913c553-31e4-4009-bbae-667c5fd0dade\" class=\"plotly-graph-div\" style=\"height:525px; width:100%;\"></div>            <script type=\"text/javascript\">                                    window.PLOTLYENV=window.PLOTLYENV || {};                                    if (document.getElementById(\"1913c553-31e4-4009-bbae-667c5fd0dade\")) {                    Plotly.newPlot(                        \"1913c553-31e4-4009-bbae-667c5fd0dade\",                        [{\"name\":\"\\u0417\\u0430\\u0440\\u043f\\u043b\\u0430\\u0442\\u0430 \\u043e\\u0442\",\"x\":[null,null,null,null,null,330000.0,null,null,null,null,null,200000.0,null,null,null,null,null,null,null,200000.0,null,null,null,null,null,null,null,null,null,null,null,null,null,null,150000.0,130000.0,null,null,null,null,null,null,null,null,null,null,null,null,null,null,null,null,null,null,null,null,null,null,null,null,null,null,null,null,null,null,null,null,null,null,null,null,160000.0,null,null,null,null,null,150000.0,null,null,null,null,null,null,187000.0,null,null,null,null,null,null,null,null,null,null,null,null,null,120000.0,null,null,null,null,null,null,null,null,null,null,null,null,null,null,null,null,null,null,null,null,null,null,null,null,null,null,null,null,null,null,null,null,null,null,null,null,null,null,null,170000.0,120000.0,null,null,null,250000.0,null,null,null,null,null,null,null,null,null,null,null,null,null,null,null,null,null,280000.0,250000.0,null,null,null,null,null,null,null,null,200000.0,null,null,null,null,null,null,null,300000.0,200000.0,null,null,null,70000.0,null,null,null,null,null,110000.0,null,null,null,null,null,null,null,null,200000.0,null,200000.0,null,null,null,null,null,null,null,null,null,null,null,null,null,null,null,null,null,null,null,null,null,null,null,null,null,null,null,null,null,null,null,null,null,null,null,null,null,null,200000.0,null,null,null,null,null,null,null,null,160000.0,null,null,null,null,null,150000.0,null,null,350000.0,null,null,null,null,null,null,null,null,null,null,null,null,null,null,null,null,null,null,null,null,null,null,25000.0,null,null,null,null,null,null,null,null,null,null,null,null,null,null,null,null,null,null,null,null,null,null,null,null,null,null,null,null,null,null,null,null,null,null,null,null,null,null,null,null,null,null,null,280000.0,null,null,null,null,null,null,null,null,null,null,null,null,null,null,null,null,76000.0,null,null,null,null,null,null,null,null,null,null,120000.0,null,null,null,null,null,null,null,null,null,60000.0,null,null,null,null,null,250000.0,null,null,null,null,null,null,null,null,null,null,null,null,80000.0,null,null,null,null,null,150000.0,null,null,null,null,null,null,null,null,null,null,null,null,null,null,null,null,null,null,null,null,null,null,null,null,null,null,null,null,null,null,null,null,null,null,null,null,200000.0,null,null,null,null,null,null,null,null,null,null,null,null,null,null,null,null,null,null,null,null,93500.0,null,null,null,null,null,null,null,null,null,null,null,null,null,null,null,null,null,93500.0,93500.0,null,null,null,null,null,null,null,null,null,null,null,null,null,300000.0,null,null,null,null,null,null,150000.0,null,null,null,null,null,null,null,null,null,null,null,null,null,null,null,null,null,null,null,null,null,null,null,null,null,null,null,null,null,null,null,null,null,null,null,150000.0,null,null,null,null,null,null,null,null,null,null,null,null,null,null,150000.0,null,250000.0,null,null,null,230000.0,150000.0,null,null,null,null,null,null,null,null,null,null,null,null,null,null,null,null,null,null,null,null,null,null,null,null,null,null,null,null,null,null,null,null,null,null,null,null,null,null,null,null,null,null,null,null,null,null,null,null,null,null,null,200000.0,null,null,100000.0,null,null,null,null,null,null,null,null,null,null],\"type\":\"box\"},{\"name\":\"\\u0417\\u0430\\u0440\\u043f\\u043b\\u0430\\u0442\\u0430 \\u0434\\u043e\",\"x\":[null,null,null,null,null,450000.0,null,null,null,null,null,null,null,null,null,null,null,null,null,null,null,null,null,null,null,null,null,null,null,null,null,null,null,null,230000.0,200000.0,null,null,450000.0,null,null,null,null,null,null,null,null,null,null,null,null,null,null,null,null,null,null,null,null,null,null,null,null,null,null,null,null,null,null,null,null,null,null,null,null,null,null,null,null,null,null,null,null,null,null,null,null,null,null,null,null,null,null,null,null,null,null,null,null,300000.0,null,null,null,null,null,null,null,null,null,null,null,null,null,null,null,null,null,null,null,null,null,null,285000.0,null,null,null,300000.0,null,null,null,null,null,null,null,null,null,null,null,null,null,null,null,null,null,350000.0,null,null,null,null,null,null,null,null,null,null,null,null,null,null,null,null,null,null,350000.0,null,null,null,null,null,null,null,null,300000.0,null,null,null,null,null,null,null,350000.0,300000.0,null,null,null,80000.0,null,null,null,null,null,200000.0,null,null,null,null,null,null,null,null,350000.0,null,300000.0,null,null,null,null,null,null,null,null,null,null,null,null,null,null,null,null,null,null,null,null,null,null,null,null,null,null,null,null,null,null,null,null,null,null,null,null,null,null,null,null,null,null,null,null,null,null,null,190000.0,null,null,null,null,null,300000.0,null,null,null,null,250000.0,null,null,null,null,null,null,null,null,null,500000.0,350000.0,350000.0,null,null,null,null,null,null,null,null,null,null,null,null,null,null,null,30000.0,30000.0,null,null,null,null,null,null,null,null,null,null,null,null,null,null,null,null,null,null,null,null,null,null,null,null,null,null,null,null,null,null,null,null,null,null,null,320000.0,null,null,null,null,null,null,null,null,null,null,null,null,null,null,null,null,null,null,null,null,null,null,null,null,null,null,null,300000.0,null,null,null,null,null,null,null,null,null,null,null,null,null,null,null,500000.0,null,null,null,null,null,null,null,null,null,null,null,null,null,null,null,null,null,null,250000.0,null,null,null,null,null,null,null,null,null,null,null,null,null,null,null,null,null,null,null,null,null,null,null,null,null,130000.0,130000.0,130000.0,null,null,null,null,null,null,null,null,null,null,null,null,null,null,null,null,null,null,null,null,200000.0,null,null,null,null,null,null,null,null,140250.0,null,null,null,null,null,null,null,null,null,null,200000.0,null,null,null,null,null,null,140250.0,140250.0,null,null,null,null,null,null,null,null,null,null,null,null,null,350000.0,null,null,null,null,null,null,200000.0,null,null,null,null,null,null,null,null,null,250000.0,null,null,null,null,null,null,null,null,null,null,null,null,null,null,null,null,null,null,null,null,null,null,null,null,null,300000.0,null,null,null,null,null,350000.0,350000.0,350000.0,350000.0,350000.0,null,null,null,null,200000.0,null,null,null,null,null,null,180000.0,null,null,null,null,null,null,null,null,null,null,null,null,null,null,null,null,null,null,null,null,null,null,null,null,null,550000.0,null,null,null,null,null,null,null,null,250000.0,null,null,null,null,null,null,null,null,null,null,null,null,null,null,null,null,300000.0,null,null,null,null,null,null,null,null,null,null,null,null,null],\"type\":\"box\"}],                        {\"template\":{\"data\":{\"histogram2dcontour\":[{\"type\":\"histogram2dcontour\",\"colorbar\":{\"outlinewidth\":0,\"ticks\":\"\"},\"colorscale\":[[0.0,\"#0d0887\"],[0.1111111111111111,\"#46039f\"],[0.2222222222222222,\"#7201a8\"],[0.3333333333333333,\"#9c179e\"],[0.4444444444444444,\"#bd3786\"],[0.5555555555555556,\"#d8576b\"],[0.6666666666666666,\"#ed7953\"],[0.7777777777777778,\"#fb9f3a\"],[0.8888888888888888,\"#fdca26\"],[1.0,\"#f0f921\"]]}],\"choropleth\":[{\"type\":\"choropleth\",\"colorbar\":{\"outlinewidth\":0,\"ticks\":\"\"}}],\"histogram2d\":[{\"type\":\"histogram2d\",\"colorbar\":{\"outlinewidth\":0,\"ticks\":\"\"},\"colorscale\":[[0.0,\"#0d0887\"],[0.1111111111111111,\"#46039f\"],[0.2222222222222222,\"#7201a8\"],[0.3333333333333333,\"#9c179e\"],[0.4444444444444444,\"#bd3786\"],[0.5555555555555556,\"#d8576b\"],[0.6666666666666666,\"#ed7953\"],[0.7777777777777778,\"#fb9f3a\"],[0.8888888888888888,\"#fdca26\"],[1.0,\"#f0f921\"]]}],\"heatmap\":[{\"type\":\"heatmap\",\"colorbar\":{\"outlinewidth\":0,\"ticks\":\"\"},\"colorscale\":[[0.0,\"#0d0887\"],[0.1111111111111111,\"#46039f\"],[0.2222222222222222,\"#7201a8\"],[0.3333333333333333,\"#9c179e\"],[0.4444444444444444,\"#bd3786\"],[0.5555555555555556,\"#d8576b\"],[0.6666666666666666,\"#ed7953\"],[0.7777777777777778,\"#fb9f3a\"],[0.8888888888888888,\"#fdca26\"],[1.0,\"#f0f921\"]]}],\"heatmapgl\":[{\"type\":\"heatmapgl\",\"colorbar\":{\"outlinewidth\":0,\"ticks\":\"\"},\"colorscale\":[[0.0,\"#0d0887\"],[0.1111111111111111,\"#46039f\"],[0.2222222222222222,\"#7201a8\"],[0.3333333333333333,\"#9c179e\"],[0.4444444444444444,\"#bd3786\"],[0.5555555555555556,\"#d8576b\"],[0.6666666666666666,\"#ed7953\"],[0.7777777777777778,\"#fb9f3a\"],[0.8888888888888888,\"#fdca26\"],[1.0,\"#f0f921\"]]}],\"contourcarpet\":[{\"type\":\"contourcarpet\",\"colorbar\":{\"outlinewidth\":0,\"ticks\":\"\"}}],\"contour\":[{\"type\":\"contour\",\"colorbar\":{\"outlinewidth\":0,\"ticks\":\"\"},\"colorscale\":[[0.0,\"#0d0887\"],[0.1111111111111111,\"#46039f\"],[0.2222222222222222,\"#7201a8\"],[0.3333333333333333,\"#9c179e\"],[0.4444444444444444,\"#bd3786\"],[0.5555555555555556,\"#d8576b\"],[0.6666666666666666,\"#ed7953\"],[0.7777777777777778,\"#fb9f3a\"],[0.8888888888888888,\"#fdca26\"],[1.0,\"#f0f921\"]]}],\"surface\":[{\"type\":\"surface\",\"colorbar\":{\"outlinewidth\":0,\"ticks\":\"\"},\"colorscale\":[[0.0,\"#0d0887\"],[0.1111111111111111,\"#46039f\"],[0.2222222222222222,\"#7201a8\"],[0.3333333333333333,\"#9c179e\"],[0.4444444444444444,\"#bd3786\"],[0.5555555555555556,\"#d8576b\"],[0.6666666666666666,\"#ed7953\"],[0.7777777777777778,\"#fb9f3a\"],[0.8888888888888888,\"#fdca26\"],[1.0,\"#f0f921\"]]}],\"mesh3d\":[{\"type\":\"mesh3d\",\"colorbar\":{\"outlinewidth\":0,\"ticks\":\"\"}}],\"scatter\":[{\"fillpattern\":{\"fillmode\":\"overlay\",\"size\":10,\"solidity\":0.2},\"type\":\"scatter\"}],\"parcoords\":[{\"type\":\"parcoords\",\"line\":{\"colorbar\":{\"outlinewidth\":0,\"ticks\":\"\"}}}],\"scatterpolargl\":[{\"type\":\"scatterpolargl\",\"marker\":{\"colorbar\":{\"outlinewidth\":0,\"ticks\":\"\"}}}],\"bar\":[{\"error_x\":{\"color\":\"#2a3f5f\"},\"error_y\":{\"color\":\"#2a3f5f\"},\"marker\":{\"line\":{\"color\":\"#E5ECF6\",\"width\":0.5},\"pattern\":{\"fillmode\":\"overlay\",\"size\":10,\"solidity\":0.2}},\"type\":\"bar\"}],\"scattergeo\":[{\"type\":\"scattergeo\",\"marker\":{\"colorbar\":{\"outlinewidth\":0,\"ticks\":\"\"}}}],\"scatterpolar\":[{\"type\":\"scatterpolar\",\"marker\":{\"colorbar\":{\"outlinewidth\":0,\"ticks\":\"\"}}}],\"histogram\":[{\"marker\":{\"pattern\":{\"fillmode\":\"overlay\",\"size\":10,\"solidity\":0.2}},\"type\":\"histogram\"}],\"scattergl\":[{\"type\":\"scattergl\",\"marker\":{\"colorbar\":{\"outlinewidth\":0,\"ticks\":\"\"}}}],\"scatter3d\":[{\"type\":\"scatter3d\",\"line\":{\"colorbar\":{\"outlinewidth\":0,\"ticks\":\"\"}},\"marker\":{\"colorbar\":{\"outlinewidth\":0,\"ticks\":\"\"}}}],\"scattermapbox\":[{\"type\":\"scattermapbox\",\"marker\":{\"colorbar\":{\"outlinewidth\":0,\"ticks\":\"\"}}}],\"scatterternary\":[{\"type\":\"scatterternary\",\"marker\":{\"colorbar\":{\"outlinewidth\":0,\"ticks\":\"\"}}}],\"scattercarpet\":[{\"type\":\"scattercarpet\",\"marker\":{\"colorbar\":{\"outlinewidth\":0,\"ticks\":\"\"}}}],\"carpet\":[{\"aaxis\":{\"endlinecolor\":\"#2a3f5f\",\"gridcolor\":\"white\",\"linecolor\":\"white\",\"minorgridcolor\":\"white\",\"startlinecolor\":\"#2a3f5f\"},\"baxis\":{\"endlinecolor\":\"#2a3f5f\",\"gridcolor\":\"white\",\"linecolor\":\"white\",\"minorgridcolor\":\"white\",\"startlinecolor\":\"#2a3f5f\"},\"type\":\"carpet\"}],\"table\":[{\"cells\":{\"fill\":{\"color\":\"#EBF0F8\"},\"line\":{\"color\":\"white\"}},\"header\":{\"fill\":{\"color\":\"#C8D4E3\"},\"line\":{\"color\":\"white\"}},\"type\":\"table\"}],\"barpolar\":[{\"marker\":{\"line\":{\"color\":\"#E5ECF6\",\"width\":0.5},\"pattern\":{\"fillmode\":\"overlay\",\"size\":10,\"solidity\":0.2}},\"type\":\"barpolar\"}],\"pie\":[{\"automargin\":true,\"type\":\"pie\"}]},\"layout\":{\"autotypenumbers\":\"strict\",\"colorway\":[\"#636efa\",\"#EF553B\",\"#00cc96\",\"#ab63fa\",\"#FFA15A\",\"#19d3f3\",\"#FF6692\",\"#B6E880\",\"#FF97FF\",\"#FECB52\"],\"font\":{\"color\":\"#2a3f5f\"},\"hovermode\":\"closest\",\"hoverlabel\":{\"align\":\"left\"},\"paper_bgcolor\":\"white\",\"plot_bgcolor\":\"#E5ECF6\",\"polar\":{\"bgcolor\":\"#E5ECF6\",\"angularaxis\":{\"gridcolor\":\"white\",\"linecolor\":\"white\",\"ticks\":\"\"},\"radialaxis\":{\"gridcolor\":\"white\",\"linecolor\":\"white\",\"ticks\":\"\"}},\"ternary\":{\"bgcolor\":\"#E5ECF6\",\"aaxis\":{\"gridcolor\":\"white\",\"linecolor\":\"white\",\"ticks\":\"\"},\"baxis\":{\"gridcolor\":\"white\",\"linecolor\":\"white\",\"ticks\":\"\"},\"caxis\":{\"gridcolor\":\"white\",\"linecolor\":\"white\",\"ticks\":\"\"}},\"coloraxis\":{\"colorbar\":{\"outlinewidth\":0,\"ticks\":\"\"}},\"colorscale\":{\"sequential\":[[0.0,\"#0d0887\"],[0.1111111111111111,\"#46039f\"],[0.2222222222222222,\"#7201a8\"],[0.3333333333333333,\"#9c179e\"],[0.4444444444444444,\"#bd3786\"],[0.5555555555555556,\"#d8576b\"],[0.6666666666666666,\"#ed7953\"],[0.7777777777777778,\"#fb9f3a\"],[0.8888888888888888,\"#fdca26\"],[1.0,\"#f0f921\"]],\"sequentialminus\":[[0.0,\"#0d0887\"],[0.1111111111111111,\"#46039f\"],[0.2222222222222222,\"#7201a8\"],[0.3333333333333333,\"#9c179e\"],[0.4444444444444444,\"#bd3786\"],[0.5555555555555556,\"#d8576b\"],[0.6666666666666666,\"#ed7953\"],[0.7777777777777778,\"#fb9f3a\"],[0.8888888888888888,\"#fdca26\"],[1.0,\"#f0f921\"]],\"diverging\":[[0,\"#8e0152\"],[0.1,\"#c51b7d\"],[0.2,\"#de77ae\"],[0.3,\"#f1b6da\"],[0.4,\"#fde0ef\"],[0.5,\"#f7f7f7\"],[0.6,\"#e6f5d0\"],[0.7,\"#b8e186\"],[0.8,\"#7fbc41\"],[0.9,\"#4d9221\"],[1,\"#276419\"]]},\"xaxis\":{\"gridcolor\":\"white\",\"linecolor\":\"white\",\"ticks\":\"\",\"title\":{\"standoff\":15},\"zerolinecolor\":\"white\",\"automargin\":true,\"zerolinewidth\":2},\"yaxis\":{\"gridcolor\":\"white\",\"linecolor\":\"white\",\"ticks\":\"\",\"title\":{\"standoff\":15},\"zerolinecolor\":\"white\",\"automargin\":true,\"zerolinewidth\":2},\"scene\":{\"xaxis\":{\"backgroundcolor\":\"#E5ECF6\",\"gridcolor\":\"white\",\"linecolor\":\"white\",\"showbackground\":true,\"ticks\":\"\",\"zerolinecolor\":\"white\",\"gridwidth\":2},\"yaxis\":{\"backgroundcolor\":\"#E5ECF6\",\"gridcolor\":\"white\",\"linecolor\":\"white\",\"showbackground\":true,\"ticks\":\"\",\"zerolinecolor\":\"white\",\"gridwidth\":2},\"zaxis\":{\"backgroundcolor\":\"#E5ECF6\",\"gridcolor\":\"white\",\"linecolor\":\"white\",\"showbackground\":true,\"ticks\":\"\",\"zerolinecolor\":\"white\",\"gridwidth\":2}},\"shapedefaults\":{\"line\":{\"color\":\"#2a3f5f\"}},\"annotationdefaults\":{\"arrowcolor\":\"#2a3f5f\",\"arrowhead\":0,\"arrowwidth\":1},\"geo\":{\"bgcolor\":\"white\",\"landcolor\":\"#E5ECF6\",\"subunitcolor\":\"white\",\"showland\":true,\"showlakes\":true,\"lakecolor\":\"white\"},\"title\":{\"x\":0.05},\"mapbox\":{\"style\":\"light\"}}},\"xaxis\":{\"title\":{\"text\":\"\\u0423\\u0440\\u043e\\u0432\\u0435\\u043d\\u044c \\u0437\\u0430\\u0440\\u0430\\u0431\\u043e\\u0442\\u043d\\u043e\\u0439 \\u043f\\u043b\\u0430\\u0442\\u044b\"}},\"title\":{\"text\":\"\\u0420\\u0430\\u0441\\u043f\\u0440\\u0435\\u0434\\u0435\\u043b\\u0435\\u043d\\u0438\\u0435 \\u0443\\u0440\\u043e\\u0432\\u043d\\u044f \\u0437\\u0430\\u0440\\u043f\\u043b\\u0430\\u0442 DS \\u0441\\u043f\\u0435\\u0446\\u0438\\u0430\\u043b\\u0438\\u0441\\u0442\\u043e\\u0432\"},\"showlegend\":false},                        {\"responsive\": true}                    ).then(function(){\n",
              "                            \n",
              "var gd = document.getElementById('1913c553-31e4-4009-bbae-667c5fd0dade');\n",
              "var x = new MutationObserver(function (mutations, observer) {{\n",
              "        var display = window.getComputedStyle(gd).display;\n",
              "        if (!display || display === 'none') {{\n",
              "            console.log([gd, 'removed!']);\n",
              "            Plotly.purge(gd);\n",
              "            observer.disconnect();\n",
              "        }}\n",
              "}});\n",
              "\n",
              "// Listen for the removal of the full notebook cells\n",
              "var notebookContainer = gd.closest('#notebook-container');\n",
              "if (notebookContainer) {{\n",
              "    x.observe(notebookContainer, {childList: true});\n",
              "}}\n",
              "\n",
              "// Listen for the clearing of the current output cell\n",
              "var outputEl = gd.closest('.output');\n",
              "if (outputEl) {{\n",
              "    x.observe(outputEl, {childList: true});\n",
              "}}\n",
              "\n",
              "                        })                };                            </script>        </div>\n",
              "</body>\n",
              "</html>"
            ]
          },
          "metadata": {}
        }
      ]
    },
    {
      "cell_type": "markdown",
      "source": [
        "**Вывод** У аналитиков медианная вилка запрлат такая - от 150 тыс руб до 200 тыс руб. У DS специалистов - от 160 тыс руб. до 300 тыс руб.\n",
        "Минимальная стартовая зарплата аналитика составляет 60 тыс. рублей, а Data Scientist может рассчитывать на начальный доход в размере 25 тыс. рублей.\n",
        "При этом максимальная зарплата Data Scientist достигает 550 тыс. рублей, а аналитик может заработать максимум 490 тыс. рублей."
      ],
      "metadata": {
        "id": "2ick20Q56Q5V"
      }
    },
    {
      "cell_type": "code",
      "source": [
        "#напишем функцию убирающую ненужные символы в значениях\n",
        "def remove_brackets(text):\n",
        "  return text.replace('[', '').replace(']', '');\n",
        "\n",
        "#напишем функцию возвращающую тип скилла\n",
        "def get_type(skill):\n",
        "  if skill in ('документация', 'аналитические исследования', 'аналитическое мышление', 'внимание к деталям', 'презентация результатов', 'коммуникация', 'английский язык', 'сбор и анализ информации', 'проактивность', 'принятие решений', 'решение проблем'):\n",
        "    return 'soft';\n",
        "  else:\n",
        "    return 'hard';\n",
        "\n",
        "#функция возвращает весь список скиллов\n",
        "def get_fulllist_skills(data):\n",
        "  key_skills = data\n",
        "  key_skills['key_skills'] = key_skills['key_skills'].astype(str).apply(remove_brackets)\n",
        "  list_skills = ', '.join(map(str, key_skills['key_skills']))\n",
        "\n",
        "  skills = pd.DataFrame(list_skills.lower().replace(\"'\", '').split(','), columns=['skill'])\n",
        "  skills.skill = skills.skill.str.strip()\n",
        "  skills.skill = skills[skills['skill'] != '']\n",
        "  skills['type'] = skills.skill.map(get_type)\n",
        "\n",
        "  return skills.dropna();\n",
        "\n",
        "\n",
        "def show_top_skills(data, type):\n",
        "  skills_list = pd.DataFrame(get_fulllist_skills(data)['skill'].value_counts())[:50]\n",
        "\n",
        "  fig = px.bar(skills_list, text='value', orientation='h')\n",
        "  fig.update_layout(\n",
        "          showlegend=False,\n",
        "          title=f'Топ навыков {type}',\n",
        "          xaxis_title='Частота появления',\n",
        "          yaxis_title='Навык',\n",
        "          legend_title=None\n",
        "      )\n",
        "  fig.show()\n",
        "\n",
        "\n",
        "show_top_skills(data_da, 'Аналитика')\n",
        "show_top_skills(data_ds, 'DS специалиста')"
      ],
      "metadata": {
        "colab": {
          "base_uri": "https://localhost:8080/",
          "height": 1000
        },
        "id": "jgcIK3XG9QbD",
        "outputId": "44a1e2a0-bb82-48cb-ca25-797f9f05c96d"
      },
      "execution_count": 41,
      "outputs": [
        {
          "output_type": "display_data",
          "data": {
            "text/html": [
              "<html>\n",
              "<head><meta charset=\"utf-8\" /></head>\n",
              "<body>\n",
              "    <div>            <script src=\"https://cdnjs.cloudflare.com/ajax/libs/mathjax/2.7.5/MathJax.js?config=TeX-AMS-MML_SVG\"></script><script type=\"text/javascript\">if (window.MathJax && window.MathJax.Hub && window.MathJax.Hub.Config) {window.MathJax.Hub.Config({SVG: {font: \"STIX-Web\"}});}</script>                <script type=\"text/javascript\">window.PlotlyConfig = {MathJaxConfig: 'local'};</script>\n",
              "        <script charset=\"utf-8\" src=\"https://cdn.plot.ly/plotly-2.24.1.min.js\"></script>                <div id=\"f7477fde-4670-4ef6-b903-cd8fe2cf72db\" class=\"plotly-graph-div\" style=\"height:525px; width:100%;\"></div>            <script type=\"text/javascript\">                                    window.PLOTLYENV=window.PLOTLYENV || {};                                    if (document.getElementById(\"f7477fde-4670-4ef6-b903-cd8fe2cf72db\")) {                    Plotly.newPlot(                        \"f7477fde-4670-4ef6-b903-cd8fe2cf72db\",                        [{\"alignmentgroup\":\"True\",\"hovertemplate\":\"variable=count\\u003cbr\\u003evalue=%{text}\\u003cbr\\u003eskill=%{y}\\u003cextra\\u003e\\u003c\\u002fextra\\u003e\",\"legendgroup\":\"count\",\"marker\":{\"color\":\"#636efa\",\"pattern\":{\"shape\":\"\"}},\"name\":\"count\",\"offsetgroup\":\"count\",\"orientation\":\"h\",\"showlegend\":true,\"text\":[152.0,125.0,77.0,55.0,53.0,43.0,42.0,39.0,34.0,28.0,26.0,24.0,23.0,22.0,21.0,19.0,18.0,16.0,15.0,14.0,14.0,13.0,13.0,12.0,11.0,11.0,10.0,10.0,9.0,9.0,8.0,8.0,8.0,7.0,7.0,7.0,7.0,7.0,6.0,6.0,6.0,6.0,6.0,5.0,5.0,5.0,5.0,5.0,4.0,4.0],\"textposition\":\"auto\",\"x\":[152,125,77,55,53,43,42,39,34,28,26,24,23,22,21,19,18,16,15,14,14,13,13,12,11,11,10,10,9,9,8,8,8,7,7,7,7,7,6,6,6,6,6,5,5,5,5,5,4,4],\"xaxis\":\"x\",\"y\":[\"sql\",\"python\",\"pandas\",\"data analysis\",\"\\u0430\\u043d\\u0430\\u043b\\u0438\\u0437 \\u0434\\u0430\\u043d\\u043d\\u044b\\u0445\",\"\\u0434\\u043e\\u043a\\u0443\\u043c\\u0435\\u043d\\u0442\\u0430\\u0446\\u0438\\u044f\",\"\\u0430\\u043d\\u0430\\u043b\\u0438\\u0442\\u0438\\u0447\\u0435\\u0441\\u043a\\u043e\\u0435 \\u043c\\u044b\\u0448\\u043b\\u0435\\u043d\\u0438\\u0435\",\"power bi\",\"\\u043a\\u043e\\u043c\\u043c\\u0443\\u043d\\u0438\\u043a\\u0430\\u0446\\u0438\\u044f\",\"confluence\",\"big data\",\"\\u0430\\u043d\\u0430\\u043b\\u0438\\u0442\\u0438\\u043a\\u0430\",\"a\\u002fb \\u0442\\u0435\\u0441\\u0442\\u044b\",\"tableau\",\"postgresql\",\"\\u043c\\u0430\\u0442\\u0435\\u043c\\u0430\\u0442\\u0438\\u0447\\u0435\\u0441\\u043a\\u0430\\u044f \\u0441\\u0442\\u0430\\u0442\\u0438\\u0441\\u0442\\u0438\\u043a\\u0430\",\"ms excel\",\"\\u0440\\u0430\\u0431\\u043e\\u0442\\u0430 \\u0441 \\u0431\\u0430\\u0437\\u0430\\u043c\\u0438 \\u0434\\u0430\\u043d\\u043d\\u044b\\u0445\",\"ms sql\",\"clickhouse\",\"\\u0431\\u0430\\u0437\\u044b \\u0434\\u0430\\u043d\\u043d\\u044b\\u0445\",\"\\u0440\\u0430\\u0431\\u043e\\u0442\\u0430 \\u0441 \\u0431\\u043e\\u043b\\u044c\\u0448\\u0438\\u043c \\u043e\\u0431\\u044a\\u0435\\u043c\\u043e\\u043c \\u0438\\u043d\\u0444\\u043e\\u0440\\u043c\\u0430\\u0446\\u0438\\u0438\",\"\\u0430\\u043d\\u0430\\u043b\\u0438\\u0442\\u0438\\u0447\\u0435\\u0441\\u043a\\u0438\\u0435 \\u0438\\u0441\\u0441\\u043b\\u0435\\u0434\\u043e\\u0432\\u0430\\u043d\\u0438\\u044f\",\"\\u0430\\u043d\\u0433\\u043b\\u0438\\u0439\\u0441\\u043a\\u0438\\u0439 \\u044f\\u0437\\u044b\\u043a\",\"airflow\",\"\\u044e\\u043d\\u0438\\u0442-\\u044d\\u043a\\u043e\\u043d\\u043e\\u043c\\u0438\\u043a\\u0430\",\"\\u0441\\u0442\\u0430\\u0442\\u0438\\u0441\\u0442\\u0438\\u0447\\u0435\\u0441\\u043a\\u0438\\u0439 \\u0430\\u043d\\u0430\\u043b\\u0438\\u0437\",\"spark\",\"powerbi\",\"\\u043f\\u0440\\u043e\\u0433\\u043d\\u043e\\u0437\\u0438\\u0440\\u043e\\u0432\\u0430\\u043d\\u0438\\u0435\",\"\\u043c\\u0430\\u0442\\u0435\\u043c\\u0430\\u0442\\u0438\\u0447\\u0435\\u0441\\u043a\\u0438\\u0439 \\u0430\\u043d\\u0430\\u043b\\u0438\\u0437\",\"\\u0430\\u043d\\u0430\\u043b\\u0438\\u0437 \\u0431\\u0438\\u0437\\u043d\\u0435\\u0441 \\u043f\\u043e\\u043a\\u0430\\u0437\\u0430\\u0442\\u0435\\u043b\\u0435\\u0439\",\"bi\",\"etl\",\"ms power bi\",\"hadoop\",\"git\",\"google analytics\",\"numpy\",\"\\u0441\\u0431\\u043e\\u0440 \\u0438 \\u0430\\u043d\\u0430\\u043b\\u0438\\u0437 \\u0438\\u043d\\u0444\\u043e\\u0440\\u043c\\u0430\\u0446\\u0438\\u0438\",\"greenplum\",\"\\u043f\\u0440\\u043e\\u0430\\u043a\\u0442\\u0438\\u0432\\u043d\\u043e\\u0441\\u0442\\u044c\",\"oracle\",\"data science\",\"\\u0431\\u0438\\u0437\\u043d\\u0435\\u0441-\\u0430\\u043d\\u0430\\u043b\\u0438\\u0437\",\"dax\",\"metabase\",\"\\u044f\\u043d\\u0434\\u0435\\u043a\\u0441.\\u043c\\u0435\\u0442\\u0440\\u0438\\u043a\\u0430\",\"bigquery\",\"\\u043f\\u0435\\u0440\\u0435\\u0433\\u043e\\u0432\\u043e\\u0440\\u044b\"],\"yaxis\":\"y\",\"type\":\"bar\"}],                        {\"template\":{\"data\":{\"histogram2dcontour\":[{\"type\":\"histogram2dcontour\",\"colorbar\":{\"outlinewidth\":0,\"ticks\":\"\"},\"colorscale\":[[0.0,\"#0d0887\"],[0.1111111111111111,\"#46039f\"],[0.2222222222222222,\"#7201a8\"],[0.3333333333333333,\"#9c179e\"],[0.4444444444444444,\"#bd3786\"],[0.5555555555555556,\"#d8576b\"],[0.6666666666666666,\"#ed7953\"],[0.7777777777777778,\"#fb9f3a\"],[0.8888888888888888,\"#fdca26\"],[1.0,\"#f0f921\"]]}],\"choropleth\":[{\"type\":\"choropleth\",\"colorbar\":{\"outlinewidth\":0,\"ticks\":\"\"}}],\"histogram2d\":[{\"type\":\"histogram2d\",\"colorbar\":{\"outlinewidth\":0,\"ticks\":\"\"},\"colorscale\":[[0.0,\"#0d0887\"],[0.1111111111111111,\"#46039f\"],[0.2222222222222222,\"#7201a8\"],[0.3333333333333333,\"#9c179e\"],[0.4444444444444444,\"#bd3786\"],[0.5555555555555556,\"#d8576b\"],[0.6666666666666666,\"#ed7953\"],[0.7777777777777778,\"#fb9f3a\"],[0.8888888888888888,\"#fdca26\"],[1.0,\"#f0f921\"]]}],\"heatmap\":[{\"type\":\"heatmap\",\"colorbar\":{\"outlinewidth\":0,\"ticks\":\"\"},\"colorscale\":[[0.0,\"#0d0887\"],[0.1111111111111111,\"#46039f\"],[0.2222222222222222,\"#7201a8\"],[0.3333333333333333,\"#9c179e\"],[0.4444444444444444,\"#bd3786\"],[0.5555555555555556,\"#d8576b\"],[0.6666666666666666,\"#ed7953\"],[0.7777777777777778,\"#fb9f3a\"],[0.8888888888888888,\"#fdca26\"],[1.0,\"#f0f921\"]]}],\"heatmapgl\":[{\"type\":\"heatmapgl\",\"colorbar\":{\"outlinewidth\":0,\"ticks\":\"\"},\"colorscale\":[[0.0,\"#0d0887\"],[0.1111111111111111,\"#46039f\"],[0.2222222222222222,\"#7201a8\"],[0.3333333333333333,\"#9c179e\"],[0.4444444444444444,\"#bd3786\"],[0.5555555555555556,\"#d8576b\"],[0.6666666666666666,\"#ed7953\"],[0.7777777777777778,\"#fb9f3a\"],[0.8888888888888888,\"#fdca26\"],[1.0,\"#f0f921\"]]}],\"contourcarpet\":[{\"type\":\"contourcarpet\",\"colorbar\":{\"outlinewidth\":0,\"ticks\":\"\"}}],\"contour\":[{\"type\":\"contour\",\"colorbar\":{\"outlinewidth\":0,\"ticks\":\"\"},\"colorscale\":[[0.0,\"#0d0887\"],[0.1111111111111111,\"#46039f\"],[0.2222222222222222,\"#7201a8\"],[0.3333333333333333,\"#9c179e\"],[0.4444444444444444,\"#bd3786\"],[0.5555555555555556,\"#d8576b\"],[0.6666666666666666,\"#ed7953\"],[0.7777777777777778,\"#fb9f3a\"],[0.8888888888888888,\"#fdca26\"],[1.0,\"#f0f921\"]]}],\"surface\":[{\"type\":\"surface\",\"colorbar\":{\"outlinewidth\":0,\"ticks\":\"\"},\"colorscale\":[[0.0,\"#0d0887\"],[0.1111111111111111,\"#46039f\"],[0.2222222222222222,\"#7201a8\"],[0.3333333333333333,\"#9c179e\"],[0.4444444444444444,\"#bd3786\"],[0.5555555555555556,\"#d8576b\"],[0.6666666666666666,\"#ed7953\"],[0.7777777777777778,\"#fb9f3a\"],[0.8888888888888888,\"#fdca26\"],[1.0,\"#f0f921\"]]}],\"mesh3d\":[{\"type\":\"mesh3d\",\"colorbar\":{\"outlinewidth\":0,\"ticks\":\"\"}}],\"scatter\":[{\"fillpattern\":{\"fillmode\":\"overlay\",\"size\":10,\"solidity\":0.2},\"type\":\"scatter\"}],\"parcoords\":[{\"type\":\"parcoords\",\"line\":{\"colorbar\":{\"outlinewidth\":0,\"ticks\":\"\"}}}],\"scatterpolargl\":[{\"type\":\"scatterpolargl\",\"marker\":{\"colorbar\":{\"outlinewidth\":0,\"ticks\":\"\"}}}],\"bar\":[{\"error_x\":{\"color\":\"#2a3f5f\"},\"error_y\":{\"color\":\"#2a3f5f\"},\"marker\":{\"line\":{\"color\":\"#E5ECF6\",\"width\":0.5},\"pattern\":{\"fillmode\":\"overlay\",\"size\":10,\"solidity\":0.2}},\"type\":\"bar\"}],\"scattergeo\":[{\"type\":\"scattergeo\",\"marker\":{\"colorbar\":{\"outlinewidth\":0,\"ticks\":\"\"}}}],\"scatterpolar\":[{\"type\":\"scatterpolar\",\"marker\":{\"colorbar\":{\"outlinewidth\":0,\"ticks\":\"\"}}}],\"histogram\":[{\"marker\":{\"pattern\":{\"fillmode\":\"overlay\",\"size\":10,\"solidity\":0.2}},\"type\":\"histogram\"}],\"scattergl\":[{\"type\":\"scattergl\",\"marker\":{\"colorbar\":{\"outlinewidth\":0,\"ticks\":\"\"}}}],\"scatter3d\":[{\"type\":\"scatter3d\",\"line\":{\"colorbar\":{\"outlinewidth\":0,\"ticks\":\"\"}},\"marker\":{\"colorbar\":{\"outlinewidth\":0,\"ticks\":\"\"}}}],\"scattermapbox\":[{\"type\":\"scattermapbox\",\"marker\":{\"colorbar\":{\"outlinewidth\":0,\"ticks\":\"\"}}}],\"scatterternary\":[{\"type\":\"scatterternary\",\"marker\":{\"colorbar\":{\"outlinewidth\":0,\"ticks\":\"\"}}}],\"scattercarpet\":[{\"type\":\"scattercarpet\",\"marker\":{\"colorbar\":{\"outlinewidth\":0,\"ticks\":\"\"}}}],\"carpet\":[{\"aaxis\":{\"endlinecolor\":\"#2a3f5f\",\"gridcolor\":\"white\",\"linecolor\":\"white\",\"minorgridcolor\":\"white\",\"startlinecolor\":\"#2a3f5f\"},\"baxis\":{\"endlinecolor\":\"#2a3f5f\",\"gridcolor\":\"white\",\"linecolor\":\"white\",\"minorgridcolor\":\"white\",\"startlinecolor\":\"#2a3f5f\"},\"type\":\"carpet\"}],\"table\":[{\"cells\":{\"fill\":{\"color\":\"#EBF0F8\"},\"line\":{\"color\":\"white\"}},\"header\":{\"fill\":{\"color\":\"#C8D4E3\"},\"line\":{\"color\":\"white\"}},\"type\":\"table\"}],\"barpolar\":[{\"marker\":{\"line\":{\"color\":\"#E5ECF6\",\"width\":0.5},\"pattern\":{\"fillmode\":\"overlay\",\"size\":10,\"solidity\":0.2}},\"type\":\"barpolar\"}],\"pie\":[{\"automargin\":true,\"type\":\"pie\"}]},\"layout\":{\"autotypenumbers\":\"strict\",\"colorway\":[\"#636efa\",\"#EF553B\",\"#00cc96\",\"#ab63fa\",\"#FFA15A\",\"#19d3f3\",\"#FF6692\",\"#B6E880\",\"#FF97FF\",\"#FECB52\"],\"font\":{\"color\":\"#2a3f5f\"},\"hovermode\":\"closest\",\"hoverlabel\":{\"align\":\"left\"},\"paper_bgcolor\":\"white\",\"plot_bgcolor\":\"#E5ECF6\",\"polar\":{\"bgcolor\":\"#E5ECF6\",\"angularaxis\":{\"gridcolor\":\"white\",\"linecolor\":\"white\",\"ticks\":\"\"},\"radialaxis\":{\"gridcolor\":\"white\",\"linecolor\":\"white\",\"ticks\":\"\"}},\"ternary\":{\"bgcolor\":\"#E5ECF6\",\"aaxis\":{\"gridcolor\":\"white\",\"linecolor\":\"white\",\"ticks\":\"\"},\"baxis\":{\"gridcolor\":\"white\",\"linecolor\":\"white\",\"ticks\":\"\"},\"caxis\":{\"gridcolor\":\"white\",\"linecolor\":\"white\",\"ticks\":\"\"}},\"coloraxis\":{\"colorbar\":{\"outlinewidth\":0,\"ticks\":\"\"}},\"colorscale\":{\"sequential\":[[0.0,\"#0d0887\"],[0.1111111111111111,\"#46039f\"],[0.2222222222222222,\"#7201a8\"],[0.3333333333333333,\"#9c179e\"],[0.4444444444444444,\"#bd3786\"],[0.5555555555555556,\"#d8576b\"],[0.6666666666666666,\"#ed7953\"],[0.7777777777777778,\"#fb9f3a\"],[0.8888888888888888,\"#fdca26\"],[1.0,\"#f0f921\"]],\"sequentialminus\":[[0.0,\"#0d0887\"],[0.1111111111111111,\"#46039f\"],[0.2222222222222222,\"#7201a8\"],[0.3333333333333333,\"#9c179e\"],[0.4444444444444444,\"#bd3786\"],[0.5555555555555556,\"#d8576b\"],[0.6666666666666666,\"#ed7953\"],[0.7777777777777778,\"#fb9f3a\"],[0.8888888888888888,\"#fdca26\"],[1.0,\"#f0f921\"]],\"diverging\":[[0,\"#8e0152\"],[0.1,\"#c51b7d\"],[0.2,\"#de77ae\"],[0.3,\"#f1b6da\"],[0.4,\"#fde0ef\"],[0.5,\"#f7f7f7\"],[0.6,\"#e6f5d0\"],[0.7,\"#b8e186\"],[0.8,\"#7fbc41\"],[0.9,\"#4d9221\"],[1,\"#276419\"]]},\"xaxis\":{\"gridcolor\":\"white\",\"linecolor\":\"white\",\"ticks\":\"\",\"title\":{\"standoff\":15},\"zerolinecolor\":\"white\",\"automargin\":true,\"zerolinewidth\":2},\"yaxis\":{\"gridcolor\":\"white\",\"linecolor\":\"white\",\"ticks\":\"\",\"title\":{\"standoff\":15},\"zerolinecolor\":\"white\",\"automargin\":true,\"zerolinewidth\":2},\"scene\":{\"xaxis\":{\"backgroundcolor\":\"#E5ECF6\",\"gridcolor\":\"white\",\"linecolor\":\"white\",\"showbackground\":true,\"ticks\":\"\",\"zerolinecolor\":\"white\",\"gridwidth\":2},\"yaxis\":{\"backgroundcolor\":\"#E5ECF6\",\"gridcolor\":\"white\",\"linecolor\":\"white\",\"showbackground\":true,\"ticks\":\"\",\"zerolinecolor\":\"white\",\"gridwidth\":2},\"zaxis\":{\"backgroundcolor\":\"#E5ECF6\",\"gridcolor\":\"white\",\"linecolor\":\"white\",\"showbackground\":true,\"ticks\":\"\",\"zerolinecolor\":\"white\",\"gridwidth\":2}},\"shapedefaults\":{\"line\":{\"color\":\"#2a3f5f\"}},\"annotationdefaults\":{\"arrowcolor\":\"#2a3f5f\",\"arrowhead\":0,\"arrowwidth\":1},\"geo\":{\"bgcolor\":\"white\",\"landcolor\":\"#E5ECF6\",\"subunitcolor\":\"white\",\"showland\":true,\"showlakes\":true,\"lakecolor\":\"white\"},\"title\":{\"x\":0.05},\"mapbox\":{\"style\":\"light\"}}},\"xaxis\":{\"anchor\":\"y\",\"domain\":[0.0,1.0],\"title\":{\"text\":\"\\u0427\\u0430\\u0441\\u0442\\u043e\\u0442\\u0430 \\u043f\\u043e\\u044f\\u0432\\u043b\\u0435\\u043d\\u0438\\u044f\"}},\"yaxis\":{\"anchor\":\"x\",\"domain\":[0.0,1.0],\"title\":{\"text\":\"\\u041d\\u0430\\u0432\\u044b\\u043a\"}},\"legend\":{\"title\":{},\"tracegroupgap\":0},\"margin\":{\"t\":60},\"barmode\":\"relative\",\"showlegend\":false,\"title\":{\"text\":\"\\u0422\\u043e\\u043f \\u043d\\u0430\\u0432\\u044b\\u043a\\u043e\\u0432 \\u0410\\u043d\\u0430\\u043b\\u0438\\u0442\\u0438\\u043a\\u0430\"}},                        {\"responsive\": true}                    ).then(function(){\n",
              "                            \n",
              "var gd = document.getElementById('f7477fde-4670-4ef6-b903-cd8fe2cf72db');\n",
              "var x = new MutationObserver(function (mutations, observer) {{\n",
              "        var display = window.getComputedStyle(gd).display;\n",
              "        if (!display || display === 'none') {{\n",
              "            console.log([gd, 'removed!']);\n",
              "            Plotly.purge(gd);\n",
              "            observer.disconnect();\n",
              "        }}\n",
              "}});\n",
              "\n",
              "// Listen for the removal of the full notebook cells\n",
              "var notebookContainer = gd.closest('#notebook-container');\n",
              "if (notebookContainer) {{\n",
              "    x.observe(notebookContainer, {childList: true});\n",
              "}}\n",
              "\n",
              "// Listen for the clearing of the current output cell\n",
              "var outputEl = gd.closest('.output');\n",
              "if (outputEl) {{\n",
              "    x.observe(outputEl, {childList: true});\n",
              "}}\n",
              "\n",
              "                        })                };                            </script>        </div>\n",
              "</body>\n",
              "</html>"
            ]
          },
          "metadata": {}
        },
        {
          "output_type": "display_data",
          "data": {
            "text/html": [
              "<html>\n",
              "<head><meta charset=\"utf-8\" /></head>\n",
              "<body>\n",
              "    <div>            <script src=\"https://cdnjs.cloudflare.com/ajax/libs/mathjax/2.7.5/MathJax.js?config=TeX-AMS-MML_SVG\"></script><script type=\"text/javascript\">if (window.MathJax && window.MathJax.Hub && window.MathJax.Hub.Config) {window.MathJax.Hub.Config({SVG: {font: \"STIX-Web\"}});}</script>                <script type=\"text/javascript\">window.PlotlyConfig = {MathJaxConfig: 'local'};</script>\n",
              "        <script charset=\"utf-8\" src=\"https://cdn.plot.ly/plotly-2.24.1.min.js\"></script>                <div id=\"e77b3fd1-471c-49aa-bfcd-5f81a86fdad7\" class=\"plotly-graph-div\" style=\"height:525px; width:100%;\"></div>            <script type=\"text/javascript\">                                    window.PLOTLYENV=window.PLOTLYENV || {};                                    if (document.getElementById(\"e77b3fd1-471c-49aa-bfcd-5f81a86fdad7\")) {                    Plotly.newPlot(                        \"e77b3fd1-471c-49aa-bfcd-5f81a86fdad7\",                        [{\"alignmentgroup\":\"True\",\"hovertemplate\":\"variable=count\\u003cbr\\u003evalue=%{text}\\u003cbr\\u003eskill=%{y}\\u003cextra\\u003e\\u003c\\u002fextra\\u003e\",\"legendgroup\":\"count\",\"marker\":{\"color\":\"#636efa\",\"pattern\":{\"shape\":\"\"}},\"name\":\"count\",\"offsetgroup\":\"count\",\"orientation\":\"h\",\"showlegend\":true,\"text\":[270.0,236.0,156.0,101.0,92.0,75.0,66.0,65.0,56.0,51.0,46.0,46.0,43.0,40.0,38.0,35.0,31.0,31.0,30.0,29.0,28.0,25.0,25.0,24.0,24.0,22.0,21.0,20.0,18.0,17.0,17.0,17.0,16.0,15.0,13.0,13.0,13.0,13.0,13.0,11.0,10.0,10.0,10.0,10.0,10.0,9.0,8.0,8.0,8.0,8.0],\"textposition\":\"auto\",\"x\":[270,236,156,101,92,75,66,65,56,51,46,46,43,40,38,35,31,31,30,29,28,25,25,24,24,22,21,20,18,17,17,17,16,15,13,13,13,13,13,11,10,10,10,10,10,9,8,8,8,8],\"xaxis\":\"x\",\"y\":[\"python\",\"pandas\",\"sql\",\"\\u0434\\u043e\\u043a\\u0443\\u043c\\u0435\\u043d\\u0442\\u0430\\u0446\\u0438\\u044f\",\"machine learning\",\"ml\",\"\\u043a\\u043e\\u043c\\u043c\\u0443\\u043d\\u0438\\u043a\\u0430\\u0446\\u0438\\u044f\",\"data science\",\"confluence\",\"pytorch\",\"nlp\",\"\\u044e\\u043d\\u0438\\u0442-\\u044d\\u043a\\u043e\\u043d\\u043e\\u043c\\u0438\\u043a\\u0430\",\"big data\",\"\\u0430\\u043d\\u0430\\u043b\\u0438\\u0437 \\u0434\\u0430\\u043d\\u043d\\u044b\\u0445\",\"\\u043c\\u0430\\u0442\\u0435\\u043c\\u0430\\u0442\\u0438\\u0447\\u0435\\u0441\\u043a\\u0430\\u044f \\u0441\\u0442\\u0430\\u0442\\u0438\\u0441\\u0442\\u0438\\u043a\\u0430\",\"spark\",\"git\",\"data analysis\",\"numpy\",\"\\u043c\\u0430\\u0448\\u0438\\u043d\\u043d\\u043e\\u0435 \\u043e\\u0431\\u0443\\u0447\\u0435\\u043d\\u0438\\u0435\",\"hadoop\",\"linux\",\"\\u0430\\u043d\\u0430\\u043b\\u0438\\u0442\\u0438\\u0447\\u0435\\u0441\\u043a\\u043e\\u0435 \\u043c\\u044b\\u0448\\u043b\\u0435\\u043d\\u0438\\u0435\",\"\\u043c\\u0430\\u0442\\u0435\\u043c\\u0430\\u0442\\u0438\\u0447\\u0435\\u0441\\u043a\\u043e\\u0435 \\u043c\\u043e\\u0434\\u0435\\u043b\\u0438\\u0440\\u043e\\u0432\\u0430\\u043d\\u0438\\u0435\",\"docker\",\"\\u0441\\u0442\\u0430\\u0442\\u0438\\u0441\\u0442\\u0438\\u0447\\u0435\\u0441\\u043a\\u0438\\u0439 \\u0430\\u043d\\u0430\\u043b\\u0438\\u0437\",\"deep learning\",\"\\u0430\\u043d\\u0433\\u043b\\u0438\\u0439\\u0441\\u043a\\u0438\\u0439 \\u044f\\u0437\\u044b\\u043a\",\"ms sql\",\"tensorflow\",\"postgresql\",\"mlflow\",\"\\u043c\\u0430\\u0442\\u0435\\u043c\\u0430\\u0442\\u0438\\u0447\\u0435\\u0441\\u043a\\u0438\\u0439 \\u0430\\u043d\\u0430\\u043b\\u0438\\u0437\",\"it\",\"clickhouse\",\"airflow\",\"hive\",\"computer vision\",\"data mining\",\"etl\",\"pyspark\",\"llm\",\"scikit-learn\",\"sklearn\",\"\\u0440\\u0430\\u0431\\u043e\\u0442\\u0430 \\u0441 \\u0431\\u0430\\u0437\\u0430\\u043c\\u0438 \\u0434\\u0430\\u043d\\u043d\\u044b\\u0445\",\"cv\",\"\\u043a\\u0440\\u0435\\u0430\\u0442\\u0438\\u0432\\u043d\\u043e\\u0441\\u0442\\u044c\",\"\\u0440\\u0430\\u0437\\u0440\\u0430\\u0431\\u043e\\u0442\\u043a\\u0430 \\u043f\\u043e\\u0438\\u0441\\u043a\\u043e\\u0432\\u044b\\u0445 \\u0442\\u0435\\u0445\\u043d\\u043e\\u043b\\u043e\\u0433\\u0438\\u0439\",\"\\u043f\\u0440\\u043e\\u0430\\u043a\\u0442\\u0438\\u0432\\u043d\\u043e\\u0441\\u0442\\u044c\",\"a\\u002fb \\u0442\\u0435\\u0441\\u0442\\u044b\"],\"yaxis\":\"y\",\"type\":\"bar\"}],                        {\"template\":{\"data\":{\"histogram2dcontour\":[{\"type\":\"histogram2dcontour\",\"colorbar\":{\"outlinewidth\":0,\"ticks\":\"\"},\"colorscale\":[[0.0,\"#0d0887\"],[0.1111111111111111,\"#46039f\"],[0.2222222222222222,\"#7201a8\"],[0.3333333333333333,\"#9c179e\"],[0.4444444444444444,\"#bd3786\"],[0.5555555555555556,\"#d8576b\"],[0.6666666666666666,\"#ed7953\"],[0.7777777777777778,\"#fb9f3a\"],[0.8888888888888888,\"#fdca26\"],[1.0,\"#f0f921\"]]}],\"choropleth\":[{\"type\":\"choropleth\",\"colorbar\":{\"outlinewidth\":0,\"ticks\":\"\"}}],\"histogram2d\":[{\"type\":\"histogram2d\",\"colorbar\":{\"outlinewidth\":0,\"ticks\":\"\"},\"colorscale\":[[0.0,\"#0d0887\"],[0.1111111111111111,\"#46039f\"],[0.2222222222222222,\"#7201a8\"],[0.3333333333333333,\"#9c179e\"],[0.4444444444444444,\"#bd3786\"],[0.5555555555555556,\"#d8576b\"],[0.6666666666666666,\"#ed7953\"],[0.7777777777777778,\"#fb9f3a\"],[0.8888888888888888,\"#fdca26\"],[1.0,\"#f0f921\"]]}],\"heatmap\":[{\"type\":\"heatmap\",\"colorbar\":{\"outlinewidth\":0,\"ticks\":\"\"},\"colorscale\":[[0.0,\"#0d0887\"],[0.1111111111111111,\"#46039f\"],[0.2222222222222222,\"#7201a8\"],[0.3333333333333333,\"#9c179e\"],[0.4444444444444444,\"#bd3786\"],[0.5555555555555556,\"#d8576b\"],[0.6666666666666666,\"#ed7953\"],[0.7777777777777778,\"#fb9f3a\"],[0.8888888888888888,\"#fdca26\"],[1.0,\"#f0f921\"]]}],\"heatmapgl\":[{\"type\":\"heatmapgl\",\"colorbar\":{\"outlinewidth\":0,\"ticks\":\"\"},\"colorscale\":[[0.0,\"#0d0887\"],[0.1111111111111111,\"#46039f\"],[0.2222222222222222,\"#7201a8\"],[0.3333333333333333,\"#9c179e\"],[0.4444444444444444,\"#bd3786\"],[0.5555555555555556,\"#d8576b\"],[0.6666666666666666,\"#ed7953\"],[0.7777777777777778,\"#fb9f3a\"],[0.8888888888888888,\"#fdca26\"],[1.0,\"#f0f921\"]]}],\"contourcarpet\":[{\"type\":\"contourcarpet\",\"colorbar\":{\"outlinewidth\":0,\"ticks\":\"\"}}],\"contour\":[{\"type\":\"contour\",\"colorbar\":{\"outlinewidth\":0,\"ticks\":\"\"},\"colorscale\":[[0.0,\"#0d0887\"],[0.1111111111111111,\"#46039f\"],[0.2222222222222222,\"#7201a8\"],[0.3333333333333333,\"#9c179e\"],[0.4444444444444444,\"#bd3786\"],[0.5555555555555556,\"#d8576b\"],[0.6666666666666666,\"#ed7953\"],[0.7777777777777778,\"#fb9f3a\"],[0.8888888888888888,\"#fdca26\"],[1.0,\"#f0f921\"]]}],\"surface\":[{\"type\":\"surface\",\"colorbar\":{\"outlinewidth\":0,\"ticks\":\"\"},\"colorscale\":[[0.0,\"#0d0887\"],[0.1111111111111111,\"#46039f\"],[0.2222222222222222,\"#7201a8\"],[0.3333333333333333,\"#9c179e\"],[0.4444444444444444,\"#bd3786\"],[0.5555555555555556,\"#d8576b\"],[0.6666666666666666,\"#ed7953\"],[0.7777777777777778,\"#fb9f3a\"],[0.8888888888888888,\"#fdca26\"],[1.0,\"#f0f921\"]]}],\"mesh3d\":[{\"type\":\"mesh3d\",\"colorbar\":{\"outlinewidth\":0,\"ticks\":\"\"}}],\"scatter\":[{\"fillpattern\":{\"fillmode\":\"overlay\",\"size\":10,\"solidity\":0.2},\"type\":\"scatter\"}],\"parcoords\":[{\"type\":\"parcoords\",\"line\":{\"colorbar\":{\"outlinewidth\":0,\"ticks\":\"\"}}}],\"scatterpolargl\":[{\"type\":\"scatterpolargl\",\"marker\":{\"colorbar\":{\"outlinewidth\":0,\"ticks\":\"\"}}}],\"bar\":[{\"error_x\":{\"color\":\"#2a3f5f\"},\"error_y\":{\"color\":\"#2a3f5f\"},\"marker\":{\"line\":{\"color\":\"#E5ECF6\",\"width\":0.5},\"pattern\":{\"fillmode\":\"overlay\",\"size\":10,\"solidity\":0.2}},\"type\":\"bar\"}],\"scattergeo\":[{\"type\":\"scattergeo\",\"marker\":{\"colorbar\":{\"outlinewidth\":0,\"ticks\":\"\"}}}],\"scatterpolar\":[{\"type\":\"scatterpolar\",\"marker\":{\"colorbar\":{\"outlinewidth\":0,\"ticks\":\"\"}}}],\"histogram\":[{\"marker\":{\"pattern\":{\"fillmode\":\"overlay\",\"size\":10,\"solidity\":0.2}},\"type\":\"histogram\"}],\"scattergl\":[{\"type\":\"scattergl\",\"marker\":{\"colorbar\":{\"outlinewidth\":0,\"ticks\":\"\"}}}],\"scatter3d\":[{\"type\":\"scatter3d\",\"line\":{\"colorbar\":{\"outlinewidth\":0,\"ticks\":\"\"}},\"marker\":{\"colorbar\":{\"outlinewidth\":0,\"ticks\":\"\"}}}],\"scattermapbox\":[{\"type\":\"scattermapbox\",\"marker\":{\"colorbar\":{\"outlinewidth\":0,\"ticks\":\"\"}}}],\"scatterternary\":[{\"type\":\"scatterternary\",\"marker\":{\"colorbar\":{\"outlinewidth\":0,\"ticks\":\"\"}}}],\"scattercarpet\":[{\"type\":\"scattercarpet\",\"marker\":{\"colorbar\":{\"outlinewidth\":0,\"ticks\":\"\"}}}],\"carpet\":[{\"aaxis\":{\"endlinecolor\":\"#2a3f5f\",\"gridcolor\":\"white\",\"linecolor\":\"white\",\"minorgridcolor\":\"white\",\"startlinecolor\":\"#2a3f5f\"},\"baxis\":{\"endlinecolor\":\"#2a3f5f\",\"gridcolor\":\"white\",\"linecolor\":\"white\",\"minorgridcolor\":\"white\",\"startlinecolor\":\"#2a3f5f\"},\"type\":\"carpet\"}],\"table\":[{\"cells\":{\"fill\":{\"color\":\"#EBF0F8\"},\"line\":{\"color\":\"white\"}},\"header\":{\"fill\":{\"color\":\"#C8D4E3\"},\"line\":{\"color\":\"white\"}},\"type\":\"table\"}],\"barpolar\":[{\"marker\":{\"line\":{\"color\":\"#E5ECF6\",\"width\":0.5},\"pattern\":{\"fillmode\":\"overlay\",\"size\":10,\"solidity\":0.2}},\"type\":\"barpolar\"}],\"pie\":[{\"automargin\":true,\"type\":\"pie\"}]},\"layout\":{\"autotypenumbers\":\"strict\",\"colorway\":[\"#636efa\",\"#EF553B\",\"#00cc96\",\"#ab63fa\",\"#FFA15A\",\"#19d3f3\",\"#FF6692\",\"#B6E880\",\"#FF97FF\",\"#FECB52\"],\"font\":{\"color\":\"#2a3f5f\"},\"hovermode\":\"closest\",\"hoverlabel\":{\"align\":\"left\"},\"paper_bgcolor\":\"white\",\"plot_bgcolor\":\"#E5ECF6\",\"polar\":{\"bgcolor\":\"#E5ECF6\",\"angularaxis\":{\"gridcolor\":\"white\",\"linecolor\":\"white\",\"ticks\":\"\"},\"radialaxis\":{\"gridcolor\":\"white\",\"linecolor\":\"white\",\"ticks\":\"\"}},\"ternary\":{\"bgcolor\":\"#E5ECF6\",\"aaxis\":{\"gridcolor\":\"white\",\"linecolor\":\"white\",\"ticks\":\"\"},\"baxis\":{\"gridcolor\":\"white\",\"linecolor\":\"white\",\"ticks\":\"\"},\"caxis\":{\"gridcolor\":\"white\",\"linecolor\":\"white\",\"ticks\":\"\"}},\"coloraxis\":{\"colorbar\":{\"outlinewidth\":0,\"ticks\":\"\"}},\"colorscale\":{\"sequential\":[[0.0,\"#0d0887\"],[0.1111111111111111,\"#46039f\"],[0.2222222222222222,\"#7201a8\"],[0.3333333333333333,\"#9c179e\"],[0.4444444444444444,\"#bd3786\"],[0.5555555555555556,\"#d8576b\"],[0.6666666666666666,\"#ed7953\"],[0.7777777777777778,\"#fb9f3a\"],[0.8888888888888888,\"#fdca26\"],[1.0,\"#f0f921\"]],\"sequentialminus\":[[0.0,\"#0d0887\"],[0.1111111111111111,\"#46039f\"],[0.2222222222222222,\"#7201a8\"],[0.3333333333333333,\"#9c179e\"],[0.4444444444444444,\"#bd3786\"],[0.5555555555555556,\"#d8576b\"],[0.6666666666666666,\"#ed7953\"],[0.7777777777777778,\"#fb9f3a\"],[0.8888888888888888,\"#fdca26\"],[1.0,\"#f0f921\"]],\"diverging\":[[0,\"#8e0152\"],[0.1,\"#c51b7d\"],[0.2,\"#de77ae\"],[0.3,\"#f1b6da\"],[0.4,\"#fde0ef\"],[0.5,\"#f7f7f7\"],[0.6,\"#e6f5d0\"],[0.7,\"#b8e186\"],[0.8,\"#7fbc41\"],[0.9,\"#4d9221\"],[1,\"#276419\"]]},\"xaxis\":{\"gridcolor\":\"white\",\"linecolor\":\"white\",\"ticks\":\"\",\"title\":{\"standoff\":15},\"zerolinecolor\":\"white\",\"automargin\":true,\"zerolinewidth\":2},\"yaxis\":{\"gridcolor\":\"white\",\"linecolor\":\"white\",\"ticks\":\"\",\"title\":{\"standoff\":15},\"zerolinecolor\":\"white\",\"automargin\":true,\"zerolinewidth\":2},\"scene\":{\"xaxis\":{\"backgroundcolor\":\"#E5ECF6\",\"gridcolor\":\"white\",\"linecolor\":\"white\",\"showbackground\":true,\"ticks\":\"\",\"zerolinecolor\":\"white\",\"gridwidth\":2},\"yaxis\":{\"backgroundcolor\":\"#E5ECF6\",\"gridcolor\":\"white\",\"linecolor\":\"white\",\"showbackground\":true,\"ticks\":\"\",\"zerolinecolor\":\"white\",\"gridwidth\":2},\"zaxis\":{\"backgroundcolor\":\"#E5ECF6\",\"gridcolor\":\"white\",\"linecolor\":\"white\",\"showbackground\":true,\"ticks\":\"\",\"zerolinecolor\":\"white\",\"gridwidth\":2}},\"shapedefaults\":{\"line\":{\"color\":\"#2a3f5f\"}},\"annotationdefaults\":{\"arrowcolor\":\"#2a3f5f\",\"arrowhead\":0,\"arrowwidth\":1},\"geo\":{\"bgcolor\":\"white\",\"landcolor\":\"#E5ECF6\",\"subunitcolor\":\"white\",\"showland\":true,\"showlakes\":true,\"lakecolor\":\"white\"},\"title\":{\"x\":0.05},\"mapbox\":{\"style\":\"light\"}}},\"xaxis\":{\"anchor\":\"y\",\"domain\":[0.0,1.0],\"title\":{\"text\":\"\\u0427\\u0430\\u0441\\u0442\\u043e\\u0442\\u0430 \\u043f\\u043e\\u044f\\u0432\\u043b\\u0435\\u043d\\u0438\\u044f\"}},\"yaxis\":{\"anchor\":\"x\",\"domain\":[0.0,1.0],\"title\":{\"text\":\"\\u041d\\u0430\\u0432\\u044b\\u043a\"}},\"legend\":{\"title\":{},\"tracegroupgap\":0},\"margin\":{\"t\":60},\"barmode\":\"relative\",\"showlegend\":false,\"title\":{\"text\":\"\\u0422\\u043e\\u043f \\u043d\\u0430\\u0432\\u044b\\u043a\\u043e\\u0432 DS \\u0441\\u043f\\u0435\\u0446\\u0438\\u0430\\u043b\\u0438\\u0441\\u0442\\u0430\"}},                        {\"responsive\": true}                    ).then(function(){\n",
              "                            \n",
              "var gd = document.getElementById('e77b3fd1-471c-49aa-bfcd-5f81a86fdad7');\n",
              "var x = new MutationObserver(function (mutations, observer) {{\n",
              "        var display = window.getComputedStyle(gd).display;\n",
              "        if (!display || display === 'none') {{\n",
              "            console.log([gd, 'removed!']);\n",
              "            Plotly.purge(gd);\n",
              "            observer.disconnect();\n",
              "        }}\n",
              "}});\n",
              "\n",
              "// Listen for the removal of the full notebook cells\n",
              "var notebookContainer = gd.closest('#notebook-container');\n",
              "if (notebookContainer) {{\n",
              "    x.observe(notebookContainer, {childList: true});\n",
              "}}\n",
              "\n",
              "// Listen for the clearing of the current output cell\n",
              "var outputEl = gd.closest('.output');\n",
              "if (outputEl) {{\n",
              "    x.observe(outputEl, {childList: true});\n",
              "}}\n",
              "\n",
              "                        })                };                            </script>        </div>\n",
              "</body>\n",
              "</html>"
            ]
          },
          "metadata": {}
        }
      ]
    },
    {
      "cell_type": "markdown",
      "source": [
        "**Вывод:** Аналитикам необходимо улучшать свои навыки в области SQL, Pandas, A/B-тестирования, а также развивать аналитическое мышление и коммуникативные навыки.\n",
        "\n",
        "Специалистам в области Data Science, напротив, следует сосредоточиться на освоении Python, SQL, машинного обучения (ML), обработки естественного языка (NLP), понимании Confluence и владении математическим аппаратом."
      ],
      "metadata": {
        "id": "P-zjzKfc9IMa"
      }
    },
    {
      "cell_type": "markdown",
      "source": [
        "# 4 Определение доли грейдов Junior, Junior+, Middle, Senior среди вакансий Аналитик данных и Специалист по Data Science"
      ],
      "metadata": {
        "id": "dnn381ZIdoRm"
      }
    },
    {
      "cell_type": "markdown",
      "source": [
        "Построим функцию, которая посчитает долю каждого грейда по каждому датафрейму и сгруппирует эти данные"
      ],
      "metadata": {
        "id": "c4ceSsaC7BqN"
      }
    },
    {
      "cell_type": "code",
      "source": [
        "def create_pivot(df, index, value, aggfunc, share_name):\n",
        "  pvt = pd.pivot_table(df, index=index, values=value, aggfunc=aggfunc, dropna=False).reset_index()\n",
        "  pvt.columns = [index, 'count']\n",
        "  pvt['sum'] = pvt['count'].sum()\n",
        "  pvt[share_name] = pvt['count'] / pvt['sum']*100\n",
        "\n",
        "  return pvt;"
      ],
      "metadata": {
        "id": "XLHoMZh37N4L"
      },
      "execution_count": 42,
      "outputs": []
    },
    {
      "cell_type": "markdown",
      "source": [
        "Теперь создадим пивот таблицы для вакансий DA и DS, определим % доли и визуализируем полученные доли в рамках каждого грейда для вакансий DA и DS"
      ],
      "metadata": {
        "id": "Rn0Hmuo6GUhl"
      }
    },
    {
      "cell_type": "code",
      "source": [
        "pvt_da = create_pivot(data_da, 'experience', 'id', 'count', 'Вакансии на Аналитика данных')\n",
        "pvt_ds = create_pivot(data_ds, 'experience', 'id', 'count', 'Вакансии на специалиста DS')\n",
        "\n",
        "#объеденим данные двух пивот-таблиц\n",
        "pvt_merged = pvt_da.merge(pvt_ds, on='experience').round().sort_values(by='Вакансии на Аналитика данных', ascending=False)\n",
        "\n",
        "#строим визуализацию\n",
        "fig = px.bar(pvt_merged,\n",
        "             x='experience',\n",
        "             y=['Вакансии на Аналитика данных', 'Вакансии на специалиста DS'],\n",
        "             text='value', barmode='group',\n",
        "             color_discrete_map={'Вакансии на Аналитика данных': '#FA963E',\n",
        "                                 'Вакансии на специалиста DS': '#9DC0FA'\n",
        "                                 }\n",
        "             )\n",
        "fig.update_layout(\n",
        "        showlegend=True,\n",
        "        title='Доля грейдов вакансий DA и DS, %',\n",
        "        xaxis_title='Грейд',\n",
        "        yaxis_title='Доля',\n",
        "        legend_title=None\n",
        "    )\n",
        "fig.show()"
      ],
      "metadata": {
        "id": "mnrljnYG8Ygb",
        "colab": {
          "base_uri": "https://localhost:8080/",
          "height": 542
        },
        "outputId": "c5ad1b4a-32f6-430b-df99-62ce2e6fec02"
      },
      "execution_count": 43,
      "outputs": [
        {
          "output_type": "display_data",
          "data": {
            "text/html": [
              "<html>\n",
              "<head><meta charset=\"utf-8\" /></head>\n",
              "<body>\n",
              "    <div>            <script src=\"https://cdnjs.cloudflare.com/ajax/libs/mathjax/2.7.5/MathJax.js?config=TeX-AMS-MML_SVG\"></script><script type=\"text/javascript\">if (window.MathJax && window.MathJax.Hub && window.MathJax.Hub.Config) {window.MathJax.Hub.Config({SVG: {font: \"STIX-Web\"}});}</script>                <script type=\"text/javascript\">window.PlotlyConfig = {MathJaxConfig: 'local'};</script>\n",
              "        <script charset=\"utf-8\" src=\"https://cdn.plot.ly/plotly-2.24.1.min.js\"></script>                <div id=\"55b00412-aadc-4c72-9a68-e04b9b0282ae\" class=\"plotly-graph-div\" style=\"height:525px; width:100%;\"></div>            <script type=\"text/javascript\">                                    window.PLOTLYENV=window.PLOTLYENV || {};                                    if (document.getElementById(\"55b00412-aadc-4c72-9a68-e04b9b0282ae\")) {                    Plotly.newPlot(                        \"55b00412-aadc-4c72-9a68-e04b9b0282ae\",                        [{\"alignmentgroup\":\"True\",\"hovertemplate\":\"variable=\\u0412\\u0430\\u043a\\u0430\\u043d\\u0441\\u0438\\u0438 \\u043d\\u0430 \\u0410\\u043d\\u0430\\u043b\\u0438\\u0442\\u0438\\u043a\\u0430 \\u0434\\u0430\\u043d\\u043d\\u044b\\u0445\\u003cbr\\u003eexperience=%{x}\\u003cbr\\u003evalue=%{text}\\u003cextra\\u003e\\u003c\\u002fextra\\u003e\",\"legendgroup\":\"\\u0412\\u0430\\u043a\\u0430\\u043d\\u0441\\u0438\\u0438 \\u043d\\u0430 \\u0410\\u043d\\u0430\\u043b\\u0438\\u0442\\u0438\\u043a\\u0430 \\u0434\\u0430\\u043d\\u043d\\u044b\\u0445\",\"marker\":{\"color\":\"#FA963E\",\"pattern\":{\"shape\":\"\"}},\"name\":\"\\u0412\\u0430\\u043a\\u0430\\u043d\\u0441\\u0438\\u0438 \\u043d\\u0430 \\u0410\\u043d\\u0430\\u043b\\u0438\\u0442\\u0438\\u043a\\u0430 \\u0434\\u0430\\u043d\\u043d\\u044b\\u0445\",\"offsetgroup\":\"\\u0412\\u0430\\u043a\\u0430\\u043d\\u0441\\u0438\\u0438 \\u043d\\u0430 \\u0410\\u043d\\u0430\\u043b\\u0438\\u0442\\u0438\\u043a\\u0430 \\u0434\\u0430\\u043d\\u043d\\u044b\\u0445\",\"orientation\":\"v\",\"showlegend\":true,\"text\":[56.0,40.0,3.0,1.0],\"textposition\":\"auto\",\"x\":[\"Junior+ (1-3 years)\",\"Middle (3-6 years)\",\"Junior (no experince)\",\"Senior (6+ years)\"],\"xaxis\":\"x\",\"y\":[56.0,40.0,3.0,1.0],\"yaxis\":\"y\",\"type\":\"bar\"},{\"alignmentgroup\":\"True\",\"hovertemplate\":\"variable=\\u0412\\u0430\\u043a\\u0430\\u043d\\u0441\\u0438\\u0438 \\u043d\\u0430 \\u0441\\u043f\\u0435\\u0446\\u0438\\u0430\\u043b\\u0438\\u0441\\u0442\\u0430 DS\\u003cbr\\u003eexperience=%{x}\\u003cbr\\u003evalue=%{text}\\u003cextra\\u003e\\u003c\\u002fextra\\u003e\",\"legendgroup\":\"\\u0412\\u0430\\u043a\\u0430\\u043d\\u0441\\u0438\\u0438 \\u043d\\u0430 \\u0441\\u043f\\u0435\\u0446\\u0438\\u0430\\u043b\\u0438\\u0441\\u0442\\u0430 DS\",\"marker\":{\"color\":\"#9DC0FA\",\"pattern\":{\"shape\":\"\"}},\"name\":\"\\u0412\\u0430\\u043a\\u0430\\u043d\\u0441\\u0438\\u0438 \\u043d\\u0430 \\u0441\\u043f\\u0435\\u0446\\u0438\\u0430\\u043b\\u0438\\u0441\\u0442\\u0430 DS\",\"offsetgroup\":\"\\u0412\\u0430\\u043a\\u0430\\u043d\\u0441\\u0438\\u0438 \\u043d\\u0430 \\u0441\\u043f\\u0435\\u0446\\u0438\\u0430\\u043b\\u0438\\u0441\\u0442\\u0430 DS\",\"orientation\":\"v\",\"showlegend\":true,\"text\":[42.0,50.0,4.0,4.0],\"textposition\":\"auto\",\"x\":[\"Junior+ (1-3 years)\",\"Middle (3-6 years)\",\"Junior (no experince)\",\"Senior (6+ years)\"],\"xaxis\":\"x\",\"y\":[42.0,50.0,4.0,4.0],\"yaxis\":\"y\",\"type\":\"bar\"}],                        {\"template\":{\"data\":{\"histogram2dcontour\":[{\"type\":\"histogram2dcontour\",\"colorbar\":{\"outlinewidth\":0,\"ticks\":\"\"},\"colorscale\":[[0.0,\"#0d0887\"],[0.1111111111111111,\"#46039f\"],[0.2222222222222222,\"#7201a8\"],[0.3333333333333333,\"#9c179e\"],[0.4444444444444444,\"#bd3786\"],[0.5555555555555556,\"#d8576b\"],[0.6666666666666666,\"#ed7953\"],[0.7777777777777778,\"#fb9f3a\"],[0.8888888888888888,\"#fdca26\"],[1.0,\"#f0f921\"]]}],\"choropleth\":[{\"type\":\"choropleth\",\"colorbar\":{\"outlinewidth\":0,\"ticks\":\"\"}}],\"histogram2d\":[{\"type\":\"histogram2d\",\"colorbar\":{\"outlinewidth\":0,\"ticks\":\"\"},\"colorscale\":[[0.0,\"#0d0887\"],[0.1111111111111111,\"#46039f\"],[0.2222222222222222,\"#7201a8\"],[0.3333333333333333,\"#9c179e\"],[0.4444444444444444,\"#bd3786\"],[0.5555555555555556,\"#d8576b\"],[0.6666666666666666,\"#ed7953\"],[0.7777777777777778,\"#fb9f3a\"],[0.8888888888888888,\"#fdca26\"],[1.0,\"#f0f921\"]]}],\"heatmap\":[{\"type\":\"heatmap\",\"colorbar\":{\"outlinewidth\":0,\"ticks\":\"\"},\"colorscale\":[[0.0,\"#0d0887\"],[0.1111111111111111,\"#46039f\"],[0.2222222222222222,\"#7201a8\"],[0.3333333333333333,\"#9c179e\"],[0.4444444444444444,\"#bd3786\"],[0.5555555555555556,\"#d8576b\"],[0.6666666666666666,\"#ed7953\"],[0.7777777777777778,\"#fb9f3a\"],[0.8888888888888888,\"#fdca26\"],[1.0,\"#f0f921\"]]}],\"heatmapgl\":[{\"type\":\"heatmapgl\",\"colorbar\":{\"outlinewidth\":0,\"ticks\":\"\"},\"colorscale\":[[0.0,\"#0d0887\"],[0.1111111111111111,\"#46039f\"],[0.2222222222222222,\"#7201a8\"],[0.3333333333333333,\"#9c179e\"],[0.4444444444444444,\"#bd3786\"],[0.5555555555555556,\"#d8576b\"],[0.6666666666666666,\"#ed7953\"],[0.7777777777777778,\"#fb9f3a\"],[0.8888888888888888,\"#fdca26\"],[1.0,\"#f0f921\"]]}],\"contourcarpet\":[{\"type\":\"contourcarpet\",\"colorbar\":{\"outlinewidth\":0,\"ticks\":\"\"}}],\"contour\":[{\"type\":\"contour\",\"colorbar\":{\"outlinewidth\":0,\"ticks\":\"\"},\"colorscale\":[[0.0,\"#0d0887\"],[0.1111111111111111,\"#46039f\"],[0.2222222222222222,\"#7201a8\"],[0.3333333333333333,\"#9c179e\"],[0.4444444444444444,\"#bd3786\"],[0.5555555555555556,\"#d8576b\"],[0.6666666666666666,\"#ed7953\"],[0.7777777777777778,\"#fb9f3a\"],[0.8888888888888888,\"#fdca26\"],[1.0,\"#f0f921\"]]}],\"surface\":[{\"type\":\"surface\",\"colorbar\":{\"outlinewidth\":0,\"ticks\":\"\"},\"colorscale\":[[0.0,\"#0d0887\"],[0.1111111111111111,\"#46039f\"],[0.2222222222222222,\"#7201a8\"],[0.3333333333333333,\"#9c179e\"],[0.4444444444444444,\"#bd3786\"],[0.5555555555555556,\"#d8576b\"],[0.6666666666666666,\"#ed7953\"],[0.7777777777777778,\"#fb9f3a\"],[0.8888888888888888,\"#fdca26\"],[1.0,\"#f0f921\"]]}],\"mesh3d\":[{\"type\":\"mesh3d\",\"colorbar\":{\"outlinewidth\":0,\"ticks\":\"\"}}],\"scatter\":[{\"fillpattern\":{\"fillmode\":\"overlay\",\"size\":10,\"solidity\":0.2},\"type\":\"scatter\"}],\"parcoords\":[{\"type\":\"parcoords\",\"line\":{\"colorbar\":{\"outlinewidth\":0,\"ticks\":\"\"}}}],\"scatterpolargl\":[{\"type\":\"scatterpolargl\",\"marker\":{\"colorbar\":{\"outlinewidth\":0,\"ticks\":\"\"}}}],\"bar\":[{\"error_x\":{\"color\":\"#2a3f5f\"},\"error_y\":{\"color\":\"#2a3f5f\"},\"marker\":{\"line\":{\"color\":\"#E5ECF6\",\"width\":0.5},\"pattern\":{\"fillmode\":\"overlay\",\"size\":10,\"solidity\":0.2}},\"type\":\"bar\"}],\"scattergeo\":[{\"type\":\"scattergeo\",\"marker\":{\"colorbar\":{\"outlinewidth\":0,\"ticks\":\"\"}}}],\"scatterpolar\":[{\"type\":\"scatterpolar\",\"marker\":{\"colorbar\":{\"outlinewidth\":0,\"ticks\":\"\"}}}],\"histogram\":[{\"marker\":{\"pattern\":{\"fillmode\":\"overlay\",\"size\":10,\"solidity\":0.2}},\"type\":\"histogram\"}],\"scattergl\":[{\"type\":\"scattergl\",\"marker\":{\"colorbar\":{\"outlinewidth\":0,\"ticks\":\"\"}}}],\"scatter3d\":[{\"type\":\"scatter3d\",\"line\":{\"colorbar\":{\"outlinewidth\":0,\"ticks\":\"\"}},\"marker\":{\"colorbar\":{\"outlinewidth\":0,\"ticks\":\"\"}}}],\"scattermapbox\":[{\"type\":\"scattermapbox\",\"marker\":{\"colorbar\":{\"outlinewidth\":0,\"ticks\":\"\"}}}],\"scatterternary\":[{\"type\":\"scatterternary\",\"marker\":{\"colorbar\":{\"outlinewidth\":0,\"ticks\":\"\"}}}],\"scattercarpet\":[{\"type\":\"scattercarpet\",\"marker\":{\"colorbar\":{\"outlinewidth\":0,\"ticks\":\"\"}}}],\"carpet\":[{\"aaxis\":{\"endlinecolor\":\"#2a3f5f\",\"gridcolor\":\"white\",\"linecolor\":\"white\",\"minorgridcolor\":\"white\",\"startlinecolor\":\"#2a3f5f\"},\"baxis\":{\"endlinecolor\":\"#2a3f5f\",\"gridcolor\":\"white\",\"linecolor\":\"white\",\"minorgridcolor\":\"white\",\"startlinecolor\":\"#2a3f5f\"},\"type\":\"carpet\"}],\"table\":[{\"cells\":{\"fill\":{\"color\":\"#EBF0F8\"},\"line\":{\"color\":\"white\"}},\"header\":{\"fill\":{\"color\":\"#C8D4E3\"},\"line\":{\"color\":\"white\"}},\"type\":\"table\"}],\"barpolar\":[{\"marker\":{\"line\":{\"color\":\"#E5ECF6\",\"width\":0.5},\"pattern\":{\"fillmode\":\"overlay\",\"size\":10,\"solidity\":0.2}},\"type\":\"barpolar\"}],\"pie\":[{\"automargin\":true,\"type\":\"pie\"}]},\"layout\":{\"autotypenumbers\":\"strict\",\"colorway\":[\"#636efa\",\"#EF553B\",\"#00cc96\",\"#ab63fa\",\"#FFA15A\",\"#19d3f3\",\"#FF6692\",\"#B6E880\",\"#FF97FF\",\"#FECB52\"],\"font\":{\"color\":\"#2a3f5f\"},\"hovermode\":\"closest\",\"hoverlabel\":{\"align\":\"left\"},\"paper_bgcolor\":\"white\",\"plot_bgcolor\":\"#E5ECF6\",\"polar\":{\"bgcolor\":\"#E5ECF6\",\"angularaxis\":{\"gridcolor\":\"white\",\"linecolor\":\"white\",\"ticks\":\"\"},\"radialaxis\":{\"gridcolor\":\"white\",\"linecolor\":\"white\",\"ticks\":\"\"}},\"ternary\":{\"bgcolor\":\"#E5ECF6\",\"aaxis\":{\"gridcolor\":\"white\",\"linecolor\":\"white\",\"ticks\":\"\"},\"baxis\":{\"gridcolor\":\"white\",\"linecolor\":\"white\",\"ticks\":\"\"},\"caxis\":{\"gridcolor\":\"white\",\"linecolor\":\"white\",\"ticks\":\"\"}},\"coloraxis\":{\"colorbar\":{\"outlinewidth\":0,\"ticks\":\"\"}},\"colorscale\":{\"sequential\":[[0.0,\"#0d0887\"],[0.1111111111111111,\"#46039f\"],[0.2222222222222222,\"#7201a8\"],[0.3333333333333333,\"#9c179e\"],[0.4444444444444444,\"#bd3786\"],[0.5555555555555556,\"#d8576b\"],[0.6666666666666666,\"#ed7953\"],[0.7777777777777778,\"#fb9f3a\"],[0.8888888888888888,\"#fdca26\"],[1.0,\"#f0f921\"]],\"sequentialminus\":[[0.0,\"#0d0887\"],[0.1111111111111111,\"#46039f\"],[0.2222222222222222,\"#7201a8\"],[0.3333333333333333,\"#9c179e\"],[0.4444444444444444,\"#bd3786\"],[0.5555555555555556,\"#d8576b\"],[0.6666666666666666,\"#ed7953\"],[0.7777777777777778,\"#fb9f3a\"],[0.8888888888888888,\"#fdca26\"],[1.0,\"#f0f921\"]],\"diverging\":[[0,\"#8e0152\"],[0.1,\"#c51b7d\"],[0.2,\"#de77ae\"],[0.3,\"#f1b6da\"],[0.4,\"#fde0ef\"],[0.5,\"#f7f7f7\"],[0.6,\"#e6f5d0\"],[0.7,\"#b8e186\"],[0.8,\"#7fbc41\"],[0.9,\"#4d9221\"],[1,\"#276419\"]]},\"xaxis\":{\"gridcolor\":\"white\",\"linecolor\":\"white\",\"ticks\":\"\",\"title\":{\"standoff\":15},\"zerolinecolor\":\"white\",\"automargin\":true,\"zerolinewidth\":2},\"yaxis\":{\"gridcolor\":\"white\",\"linecolor\":\"white\",\"ticks\":\"\",\"title\":{\"standoff\":15},\"zerolinecolor\":\"white\",\"automargin\":true,\"zerolinewidth\":2},\"scene\":{\"xaxis\":{\"backgroundcolor\":\"#E5ECF6\",\"gridcolor\":\"white\",\"linecolor\":\"white\",\"showbackground\":true,\"ticks\":\"\",\"zerolinecolor\":\"white\",\"gridwidth\":2},\"yaxis\":{\"backgroundcolor\":\"#E5ECF6\",\"gridcolor\":\"white\",\"linecolor\":\"white\",\"showbackground\":true,\"ticks\":\"\",\"zerolinecolor\":\"white\",\"gridwidth\":2},\"zaxis\":{\"backgroundcolor\":\"#E5ECF6\",\"gridcolor\":\"white\",\"linecolor\":\"white\",\"showbackground\":true,\"ticks\":\"\",\"zerolinecolor\":\"white\",\"gridwidth\":2}},\"shapedefaults\":{\"line\":{\"color\":\"#2a3f5f\"}},\"annotationdefaults\":{\"arrowcolor\":\"#2a3f5f\",\"arrowhead\":0,\"arrowwidth\":1},\"geo\":{\"bgcolor\":\"white\",\"landcolor\":\"#E5ECF6\",\"subunitcolor\":\"white\",\"showland\":true,\"showlakes\":true,\"lakecolor\":\"white\"},\"title\":{\"x\":0.05},\"mapbox\":{\"style\":\"light\"}}},\"xaxis\":{\"anchor\":\"y\",\"domain\":[0.0,1.0],\"title\":{\"text\":\"\\u0413\\u0440\\u0435\\u0439\\u0434\"}},\"yaxis\":{\"anchor\":\"x\",\"domain\":[0.0,1.0],\"title\":{\"text\":\"\\u0414\\u043e\\u043b\\u044f\"}},\"legend\":{\"title\":{},\"tracegroupgap\":0},\"margin\":{\"t\":60},\"barmode\":\"group\",\"showlegend\":true,\"title\":{\"text\":\"\\u0414\\u043e\\u043b\\u044f \\u0433\\u0440\\u0435\\u0439\\u0434\\u043e\\u0432 \\u0432\\u0430\\u043a\\u0430\\u043d\\u0441\\u0438\\u0439 DA \\u0438 DS, %\"}},                        {\"responsive\": true}                    ).then(function(){\n",
              "                            \n",
              "var gd = document.getElementById('55b00412-aadc-4c72-9a68-e04b9b0282ae');\n",
              "var x = new MutationObserver(function (mutations, observer) {{\n",
              "        var display = window.getComputedStyle(gd).display;\n",
              "        if (!display || display === 'none') {{\n",
              "            console.log([gd, 'removed!']);\n",
              "            Plotly.purge(gd);\n",
              "            observer.disconnect();\n",
              "        }}\n",
              "}});\n",
              "\n",
              "// Listen for the removal of the full notebook cells\n",
              "var notebookContainer = gd.closest('#notebook-container');\n",
              "if (notebookContainer) {{\n",
              "    x.observe(notebookContainer, {childList: true});\n",
              "}}\n",
              "\n",
              "// Listen for the clearing of the current output cell\n",
              "var outputEl = gd.closest('.output');\n",
              "if (outputEl) {{\n",
              "    x.observe(outputEl, {childList: true});\n",
              "}}\n",
              "\n",
              "                        })                };                            </script>        </div>\n",
              "</body>\n",
              "</html>"
            ]
          },
          "metadata": {}
        }
      ]
    },
    {
      "cell_type": "markdown",
      "source": [
        "**Вывод:** Анализ показал, что в большинстве категорий преобладают вакансии для специалистов DS. Среди вакансий грейда джуниор+ наиболее распространены позиции аналитиков данных. В грейдах миддл и джуниор+ количество предложений превышает число вакансий в категориях синиор и джуниор. Получается чаще работодатели публикуют вакансии на специалистов в области DS уровня  Junior+ или Middle. Больше всего на рынке необходимы аналитики данных уровня Junior+."
      ],
      "metadata": {
        "id": "KiLR6syJG8yB"
      }
    },
    {
      "cell_type": "markdown",
      "source": [
        "# 5 Определение наиболее желаемых кандидатов на вакансии Аналитик данных и Специалист по Data Science по следующим параметрам: самые важные hard-skils, самые важные soft-skils"
      ],
      "metadata": {
        "id": "SnTZGtp6Ffl5"
      }
    },
    {
      "cell_type": "markdown",
      "source": [
        "Сформируем для каждого грейда свой список скиллов и отобразим график по каждому направлению"
      ],
      "metadata": {
        "id": "T6LpRFplJAl-"
      }
    },
    {
      "cell_type": "code",
      "source": [
        "#функция возвращающая список скиллов\n",
        "def get_list_skills(data, graid):\n",
        "  key_skills = data\n",
        "  if graid:\n",
        "    key_skills = data[data['experience'] == graid]\n",
        "  key_skills['key_skills'] = key_skills['key_skills'].astype(str).apply(remove_brackets)\n",
        "  list_skills = ', '.join(map(str, key_skills['key_skills']))\n",
        "\n",
        "  skills = pd.DataFrame(list_skills.lower().replace(\"'\", '').split(','), columns=['skill'])\n",
        "  skills.skill = skills.skill.str.strip()\n",
        "  skills.skill = skills[skills['skill'] != '']\n",
        "  skills['type'] = skills.skill.map(get_type)\n",
        "\n",
        "  return skills.dropna();\n",
        "\n",
        "#разобъем полученные данные на хард и софт скилы по топ 5 в каждой\n",
        "def get_soft_hard_skills(data, graid: False, by_type: False, amount):\n",
        "  all_skills = get_list_skills(data, graid)\n",
        "\n",
        "  if by_type:\n",
        "    return (all_skills.query(\"type == 'soft'\").groupby('skill').agg(count=('skill', 'count')).reset_index().sort_values(by='count', ascending=False)[:amount],\n",
        "            all_skills.query(\"type == 'hard'\").groupby('skill').agg(count=('skill', 'count')).reset_index().sort_values(by='count', ascending=False)[:amount],\n",
        "            all_skills\n",
        "            )\n",
        "  return all_skills.groupby('skill').agg(count=('skill', 'count')).reset_index().sort_values(by='count', ascending=False)[:15]\n",
        "\n",
        "def count_percentage(data):\n",
        "  share = data['count'] / data['count'].sum() * 100\n",
        "  return round(share, 1)\n",
        "\n",
        "def make_percent(data):\n",
        "  f = count_percentage(data)\n",
        "  return f.apply(lambda x: '{:.0f}%'.format(x))\n",
        "\n",
        "def random_color(x):\n",
        "  r = random.randint(0, 255)\n",
        "  g = random.randint(0, 255)\n",
        "  b = random.randint(0, 255)\n",
        "  return f'rgb({r}, {g}, {b})'\n",
        "\n",
        "#функция возвращает получает наборы хард и софт скиллов по каждому направлению и возвращает визуализацию с топ скиллов\n",
        "def show_top_skills(da, ds, grade):\n",
        "\n",
        "  #сформируем таблицы по топ скиллам каждого направления\n",
        "  da_soft, da_hard, skills_da = get_soft_hard_skills(da, grade, True, 15)\n",
        "  ds_soft, ds_hard, skills_ds = get_soft_hard_skills(ds, grade, True, 15)\n",
        "\n",
        "  #софрмируем общий перечень скиллов\n",
        "  list_of_skills = pd.concat([skills_da, skills_ds])\n",
        "  skills = pd.DataFrame({'skill': list_of_skills['skill'].unique()}).reset_index()\n",
        "  skills['color'] = skills['index'].apply(random_color)\n",
        "\n",
        "  def make_color_list(data):\n",
        "    colors = data.merge(skills, how='inner', on='skill')['color']\n",
        "    return colors\n",
        "\n",
        "\n",
        "  #создадим фигуру графика\n",
        "  fig = make_subplots(\n",
        "      rows=2, cols=2,\n",
        "      subplot_titles=('Soft skills Analyst', 'Soft skills DS', 'Hard skills Analyst', 'Hard skills DS')\n",
        "      )\n",
        "\n",
        "  fig.add_trace(go.Bar(x=da_soft['skill'], y=count_percentage(da_soft), marker_color=make_color_list(da_soft), text=make_percent(da_soft)),\n",
        "                row=1, col=1)\n",
        "\n",
        "  fig.add_trace(go.Bar(x=ds_soft['skill'], y=count_percentage(ds_soft), marker_color=make_color_list(ds_soft), text=make_percent(ds_soft)),\n",
        "                row=1, col=2)\n",
        "\n",
        "  fig.add_trace(go.Bar(x=da_hard['skill'], y=count_percentage(da_hard), marker_color=make_color_list(da_hard), text=make_percent(da_hard)),\n",
        "                row=2, col=1)\n",
        "\n",
        "  fig.add_trace(go.Bar(x=ds_hard['skill'], y=count_percentage(ds_hard), marker_color=make_color_list(ds_hard), text=make_percent(ds_hard)),\n",
        "                row=2, col=2)\n",
        "  fig.update_yaxes(showticklabels=False)\n",
        "  fig.update_layout(title_text=f'Топ навыков для грейда {grade}', height=1000, width=1500, showlegend=False)\n",
        "\n",
        "  return fig.show()\n",
        "\n",
        "#получим список грейдов\n",
        "graids = np.sort(data_da['experience'].unique())\n",
        "\n",
        "#для каждого грейда выведем график для вакансий Аналитика данных и специалиста DS\n",
        "for grade in graids:\n",
        "  show_top_skills(data_da, data_ds, grade)"
      ],
      "metadata": {
        "colab": {
          "base_uri": "https://localhost:8080/",
          "height": 1000
        },
        "id": "mbA4sKhIw-9P",
        "outputId": "c440a0a9-e0d2-48ea-f8b8-52c8968f0a8c"
      },
      "execution_count": 44,
      "outputs": [
        {
          "output_type": "display_data",
          "data": {
            "text/html": [
              "<html>\n",
              "<head><meta charset=\"utf-8\" /></head>\n",
              "<body>\n",
              "    <div>            <script src=\"https://cdnjs.cloudflare.com/ajax/libs/mathjax/2.7.5/MathJax.js?config=TeX-AMS-MML_SVG\"></script><script type=\"text/javascript\">if (window.MathJax && window.MathJax.Hub && window.MathJax.Hub.Config) {window.MathJax.Hub.Config({SVG: {font: \"STIX-Web\"}});}</script>                <script type=\"text/javascript\">window.PlotlyConfig = {MathJaxConfig: 'local'};</script>\n",
              "        <script charset=\"utf-8\" src=\"https://cdn.plot.ly/plotly-2.24.1.min.js\"></script>                <div id=\"da675f31-cd0b-4e04-9079-3de38725c554\" class=\"plotly-graph-div\" style=\"height:1000px; width:1500px;\"></div>            <script type=\"text/javascript\">                                    window.PLOTLYENV=window.PLOTLYENV || {};                                    if (document.getElementById(\"da675f31-cd0b-4e04-9079-3de38725c554\")) {                    Plotly.newPlot(                        \"da675f31-cd0b-4e04-9079-3de38725c554\",                        [{\"marker\":{\"color\":[\"rgb(37, 154, 45)\",\"rgb(4, 42, 123)\"]},\"text\":[\"67%\",\"33%\"],\"x\":[\"\\u0430\\u043d\\u0430\\u043b\\u0438\\u0442\\u0438\\u0447\\u0435\\u0441\\u043a\\u043e\\u0435 \\u043c\\u044b\\u0448\\u043b\\u0435\\u043d\\u0438\\u0435\",\"\\u043a\\u043e\\u043c\\u043c\\u0443\\u043d\\u0438\\u043a\\u0430\\u0446\\u0438\\u044f\"],\"y\":[66.7,33.3],\"type\":\"bar\",\"xaxis\":\"x\",\"yaxis\":\"y\"},{\"marker\":{\"color\":[\"rgb(116, 104, 52)\",\"rgb(37, 154, 45)\",\"rgb(79, 127, 203)\",\"rgb(204, 76, 173)\"]},\"text\":[\"43%\",\"29%\",\"14%\",\"14%\"],\"x\":[\"\\u0434\\u043e\\u043a\\u0443\\u043c\\u0435\\u043d\\u0442\\u0430\\u0446\\u0438\\u044f\",\"\\u0430\\u043d\\u0430\\u043b\\u0438\\u0442\\u0438\\u0447\\u0435\\u0441\\u043a\\u043e\\u0435 \\u043c\\u044b\\u0448\\u043b\\u0435\\u043d\\u0438\\u0435\",\"\\u0430\\u043d\\u0433\\u043b\\u0438\\u0439\\u0441\\u043a\\u0438\\u0439 \\u044f\\u0437\\u044b\\u043a\",\"\\u043f\\u0440\\u0435\\u0437\\u0435\\u043d\\u0442\\u0430\\u0446\\u0438\\u044f \\u0440\\u0435\\u0437\\u0443\\u043b\\u044c\\u0442\\u0430\\u0442\\u043e\\u0432\"],\"y\":[42.9,28.6,14.3,14.3],\"type\":\"bar\",\"xaxis\":\"x2\",\"yaxis\":\"y2\"},{\"marker\":{\"color\":[\"rgb(56, 159, 170)\",\"rgb(39, 210, 184)\",\"rgb(59, 155, 28)\",\"rgb(18, 230, 14)\",\"rgb(215, 240, 166)\",\"rgb(127, 105, 51)\",\"rgb(78, 62, 110)\",\"rgb(140, 24, 213)\",\"rgb(200, 66, 151)\",\"rgb(208, 84, 204)\",\"rgb(194, 108, 66)\",\"rgb(94, 204, 185)\",\"rgb(152, 31, 72)\",\"rgb(53, 56, 142)\",\"rgb(70, 61, 86)\"]},\"text\":[\"17%\",\"17%\",\"13%\",\"4%\",\"4%\",\"4%\",\"4%\",\"4%\",\"4%\",\"4%\",\"4%\",\"4%\",\"4%\",\"4%\",\"4%\"],\"x\":[\"sql\",\"python\",\"pandas\",\"power bi\",\"\\u0441\\u0442\\u0440\\u0443\\u043a\\u0442\\u0443\\u0440\\u044b \\u0434\\u0430\\u043d\\u043d\\u044b\\u0445\",\"\\u043c\\u0430\\u0442\\u0435\\u043c\\u0430\\u0442\\u0438\\u0447\\u0435\\u0441\\u043a\\u043e\\u0435 \\u043c\\u043e\\u0434\\u0435\\u043b\\u0438\\u0440\\u043e\\u0432\\u0430\\u043d\\u0438\\u0435\",\"\\u0430\\u043d\\u0430\\u043b\\u0438\\u0442\\u0438\\u043a\\u0430\",\"\\u0430\\u043d\\u0430\\u043b\\u0438\\u0437 \\u0434\\u0430\\u043d\\u043d\\u044b\\u0445\",\"sklearn\",\"powerbi\",\"airflow\",\"apache airflow\",\"numpy\",\"ms excel\",\"metabase\"],\"y\":[17.4,17.4,13.0,4.3,4.3,4.3,4.3,4.3,4.3,4.3,4.3,4.3,4.3,4.3,4.3],\"type\":\"bar\",\"xaxis\":\"x3\",\"yaxis\":\"y3\"},{\"marker\":{\"color\":[\"rgb(39, 210, 184)\",\"rgb(131, 61, 203)\",\"rgb(45, 196, 71)\",\"rgb(53, 86, 182)\",\"rgb(140, 24, 213)\",\"rgb(253, 78, 0)\",\"rgb(56, 53, 241)\",\"rgb(59, 155, 28)\",\"rgb(140, 246, 254)\",\"rgb(146, 15, 32)\",\"rgb(142, 222, 230)\",\"rgb(214, 172, 218)\",\"rgb(160, 79, 80)\",\"rgb(249, 212, 118)\",\"rgb(245, 52, 71)\"]},\"text\":[\"18%\",\"11%\",\"7%\",\"7%\",\"7%\",\"7%\",\"7%\",\"7%\",\"7%\",\"4%\",\"4%\",\"4%\",\"4%\",\"4%\",\"4%\"],\"x\":[\"python\",\"machine learning\",\"big data\",\"\\u043c\\u0430\\u0442\\u0435\\u043c\\u0430\\u0442\\u0438\\u0447\\u0435\\u0441\\u043a\\u0430\\u044f \\u0441\\u0442\\u0430\\u0442\\u0438\\u0441\\u0442\\u0438\\u043a\\u0430\",\"\\u0430\\u043d\\u0430\\u043b\\u0438\\u0437 \\u0434\\u0430\\u043d\\u043d\\u044b\\u0445\",\"confluence\",\"ml\",\"pandas\",\"data mining\",\"it\",\"information technology\",\"git\",\"fluent english\",\"public speaking\",\"ds\"],\"y\":[17.9,10.7,7.1,7.1,7.1,7.1,7.1,7.1,7.1,3.6,3.6,3.6,3.6,3.6,3.6],\"type\":\"bar\",\"xaxis\":\"x4\",\"yaxis\":\"y4\"}],                        {\"template\":{\"data\":{\"histogram2dcontour\":[{\"type\":\"histogram2dcontour\",\"colorbar\":{\"outlinewidth\":0,\"ticks\":\"\"},\"colorscale\":[[0.0,\"#0d0887\"],[0.1111111111111111,\"#46039f\"],[0.2222222222222222,\"#7201a8\"],[0.3333333333333333,\"#9c179e\"],[0.4444444444444444,\"#bd3786\"],[0.5555555555555556,\"#d8576b\"],[0.6666666666666666,\"#ed7953\"],[0.7777777777777778,\"#fb9f3a\"],[0.8888888888888888,\"#fdca26\"],[1.0,\"#f0f921\"]]}],\"choropleth\":[{\"type\":\"choropleth\",\"colorbar\":{\"outlinewidth\":0,\"ticks\":\"\"}}],\"histogram2d\":[{\"type\":\"histogram2d\",\"colorbar\":{\"outlinewidth\":0,\"ticks\":\"\"},\"colorscale\":[[0.0,\"#0d0887\"],[0.1111111111111111,\"#46039f\"],[0.2222222222222222,\"#7201a8\"],[0.3333333333333333,\"#9c179e\"],[0.4444444444444444,\"#bd3786\"],[0.5555555555555556,\"#d8576b\"],[0.6666666666666666,\"#ed7953\"],[0.7777777777777778,\"#fb9f3a\"],[0.8888888888888888,\"#fdca26\"],[1.0,\"#f0f921\"]]}],\"heatmap\":[{\"type\":\"heatmap\",\"colorbar\":{\"outlinewidth\":0,\"ticks\":\"\"},\"colorscale\":[[0.0,\"#0d0887\"],[0.1111111111111111,\"#46039f\"],[0.2222222222222222,\"#7201a8\"],[0.3333333333333333,\"#9c179e\"],[0.4444444444444444,\"#bd3786\"],[0.5555555555555556,\"#d8576b\"],[0.6666666666666666,\"#ed7953\"],[0.7777777777777778,\"#fb9f3a\"],[0.8888888888888888,\"#fdca26\"],[1.0,\"#f0f921\"]]}],\"heatmapgl\":[{\"type\":\"heatmapgl\",\"colorbar\":{\"outlinewidth\":0,\"ticks\":\"\"},\"colorscale\":[[0.0,\"#0d0887\"],[0.1111111111111111,\"#46039f\"],[0.2222222222222222,\"#7201a8\"],[0.3333333333333333,\"#9c179e\"],[0.4444444444444444,\"#bd3786\"],[0.5555555555555556,\"#d8576b\"],[0.6666666666666666,\"#ed7953\"],[0.7777777777777778,\"#fb9f3a\"],[0.8888888888888888,\"#fdca26\"],[1.0,\"#f0f921\"]]}],\"contourcarpet\":[{\"type\":\"contourcarpet\",\"colorbar\":{\"outlinewidth\":0,\"ticks\":\"\"}}],\"contour\":[{\"type\":\"contour\",\"colorbar\":{\"outlinewidth\":0,\"ticks\":\"\"},\"colorscale\":[[0.0,\"#0d0887\"],[0.1111111111111111,\"#46039f\"],[0.2222222222222222,\"#7201a8\"],[0.3333333333333333,\"#9c179e\"],[0.4444444444444444,\"#bd3786\"],[0.5555555555555556,\"#d8576b\"],[0.6666666666666666,\"#ed7953\"],[0.7777777777777778,\"#fb9f3a\"],[0.8888888888888888,\"#fdca26\"],[1.0,\"#f0f921\"]]}],\"surface\":[{\"type\":\"surface\",\"colorbar\":{\"outlinewidth\":0,\"ticks\":\"\"},\"colorscale\":[[0.0,\"#0d0887\"],[0.1111111111111111,\"#46039f\"],[0.2222222222222222,\"#7201a8\"],[0.3333333333333333,\"#9c179e\"],[0.4444444444444444,\"#bd3786\"],[0.5555555555555556,\"#d8576b\"],[0.6666666666666666,\"#ed7953\"],[0.7777777777777778,\"#fb9f3a\"],[0.8888888888888888,\"#fdca26\"],[1.0,\"#f0f921\"]]}],\"mesh3d\":[{\"type\":\"mesh3d\",\"colorbar\":{\"outlinewidth\":0,\"ticks\":\"\"}}],\"scatter\":[{\"fillpattern\":{\"fillmode\":\"overlay\",\"size\":10,\"solidity\":0.2},\"type\":\"scatter\"}],\"parcoords\":[{\"type\":\"parcoords\",\"line\":{\"colorbar\":{\"outlinewidth\":0,\"ticks\":\"\"}}}],\"scatterpolargl\":[{\"type\":\"scatterpolargl\",\"marker\":{\"colorbar\":{\"outlinewidth\":0,\"ticks\":\"\"}}}],\"bar\":[{\"error_x\":{\"color\":\"#2a3f5f\"},\"error_y\":{\"color\":\"#2a3f5f\"},\"marker\":{\"line\":{\"color\":\"#E5ECF6\",\"width\":0.5},\"pattern\":{\"fillmode\":\"overlay\",\"size\":10,\"solidity\":0.2}},\"type\":\"bar\"}],\"scattergeo\":[{\"type\":\"scattergeo\",\"marker\":{\"colorbar\":{\"outlinewidth\":0,\"ticks\":\"\"}}}],\"scatterpolar\":[{\"type\":\"scatterpolar\",\"marker\":{\"colorbar\":{\"outlinewidth\":0,\"ticks\":\"\"}}}],\"histogram\":[{\"marker\":{\"pattern\":{\"fillmode\":\"overlay\",\"size\":10,\"solidity\":0.2}},\"type\":\"histogram\"}],\"scattergl\":[{\"type\":\"scattergl\",\"marker\":{\"colorbar\":{\"outlinewidth\":0,\"ticks\":\"\"}}}],\"scatter3d\":[{\"type\":\"scatter3d\",\"line\":{\"colorbar\":{\"outlinewidth\":0,\"ticks\":\"\"}},\"marker\":{\"colorbar\":{\"outlinewidth\":0,\"ticks\":\"\"}}}],\"scattermapbox\":[{\"type\":\"scattermapbox\",\"marker\":{\"colorbar\":{\"outlinewidth\":0,\"ticks\":\"\"}}}],\"scatterternary\":[{\"type\":\"scatterternary\",\"marker\":{\"colorbar\":{\"outlinewidth\":0,\"ticks\":\"\"}}}],\"scattercarpet\":[{\"type\":\"scattercarpet\",\"marker\":{\"colorbar\":{\"outlinewidth\":0,\"ticks\":\"\"}}}],\"carpet\":[{\"aaxis\":{\"endlinecolor\":\"#2a3f5f\",\"gridcolor\":\"white\",\"linecolor\":\"white\",\"minorgridcolor\":\"white\",\"startlinecolor\":\"#2a3f5f\"},\"baxis\":{\"endlinecolor\":\"#2a3f5f\",\"gridcolor\":\"white\",\"linecolor\":\"white\",\"minorgridcolor\":\"white\",\"startlinecolor\":\"#2a3f5f\"},\"type\":\"carpet\"}],\"table\":[{\"cells\":{\"fill\":{\"color\":\"#EBF0F8\"},\"line\":{\"color\":\"white\"}},\"header\":{\"fill\":{\"color\":\"#C8D4E3\"},\"line\":{\"color\":\"white\"}},\"type\":\"table\"}],\"barpolar\":[{\"marker\":{\"line\":{\"color\":\"#E5ECF6\",\"width\":0.5},\"pattern\":{\"fillmode\":\"overlay\",\"size\":10,\"solidity\":0.2}},\"type\":\"barpolar\"}],\"pie\":[{\"automargin\":true,\"type\":\"pie\"}]},\"layout\":{\"autotypenumbers\":\"strict\",\"colorway\":[\"#636efa\",\"#EF553B\",\"#00cc96\",\"#ab63fa\",\"#FFA15A\",\"#19d3f3\",\"#FF6692\",\"#B6E880\",\"#FF97FF\",\"#FECB52\"],\"font\":{\"color\":\"#2a3f5f\"},\"hovermode\":\"closest\",\"hoverlabel\":{\"align\":\"left\"},\"paper_bgcolor\":\"white\",\"plot_bgcolor\":\"#E5ECF6\",\"polar\":{\"bgcolor\":\"#E5ECF6\",\"angularaxis\":{\"gridcolor\":\"white\",\"linecolor\":\"white\",\"ticks\":\"\"},\"radialaxis\":{\"gridcolor\":\"white\",\"linecolor\":\"white\",\"ticks\":\"\"}},\"ternary\":{\"bgcolor\":\"#E5ECF6\",\"aaxis\":{\"gridcolor\":\"white\",\"linecolor\":\"white\",\"ticks\":\"\"},\"baxis\":{\"gridcolor\":\"white\",\"linecolor\":\"white\",\"ticks\":\"\"},\"caxis\":{\"gridcolor\":\"white\",\"linecolor\":\"white\",\"ticks\":\"\"}},\"coloraxis\":{\"colorbar\":{\"outlinewidth\":0,\"ticks\":\"\"}},\"colorscale\":{\"sequential\":[[0.0,\"#0d0887\"],[0.1111111111111111,\"#46039f\"],[0.2222222222222222,\"#7201a8\"],[0.3333333333333333,\"#9c179e\"],[0.4444444444444444,\"#bd3786\"],[0.5555555555555556,\"#d8576b\"],[0.6666666666666666,\"#ed7953\"],[0.7777777777777778,\"#fb9f3a\"],[0.8888888888888888,\"#fdca26\"],[1.0,\"#f0f921\"]],\"sequentialminus\":[[0.0,\"#0d0887\"],[0.1111111111111111,\"#46039f\"],[0.2222222222222222,\"#7201a8\"],[0.3333333333333333,\"#9c179e\"],[0.4444444444444444,\"#bd3786\"],[0.5555555555555556,\"#d8576b\"],[0.6666666666666666,\"#ed7953\"],[0.7777777777777778,\"#fb9f3a\"],[0.8888888888888888,\"#fdca26\"],[1.0,\"#f0f921\"]],\"diverging\":[[0,\"#8e0152\"],[0.1,\"#c51b7d\"],[0.2,\"#de77ae\"],[0.3,\"#f1b6da\"],[0.4,\"#fde0ef\"],[0.5,\"#f7f7f7\"],[0.6,\"#e6f5d0\"],[0.7,\"#b8e186\"],[0.8,\"#7fbc41\"],[0.9,\"#4d9221\"],[1,\"#276419\"]]},\"xaxis\":{\"gridcolor\":\"white\",\"linecolor\":\"white\",\"ticks\":\"\",\"title\":{\"standoff\":15},\"zerolinecolor\":\"white\",\"automargin\":true,\"zerolinewidth\":2},\"yaxis\":{\"gridcolor\":\"white\",\"linecolor\":\"white\",\"ticks\":\"\",\"title\":{\"standoff\":15},\"zerolinecolor\":\"white\",\"automargin\":true,\"zerolinewidth\":2},\"scene\":{\"xaxis\":{\"backgroundcolor\":\"#E5ECF6\",\"gridcolor\":\"white\",\"linecolor\":\"white\",\"showbackground\":true,\"ticks\":\"\",\"zerolinecolor\":\"white\",\"gridwidth\":2},\"yaxis\":{\"backgroundcolor\":\"#E5ECF6\",\"gridcolor\":\"white\",\"linecolor\":\"white\",\"showbackground\":true,\"ticks\":\"\",\"zerolinecolor\":\"white\",\"gridwidth\":2},\"zaxis\":{\"backgroundcolor\":\"#E5ECF6\",\"gridcolor\":\"white\",\"linecolor\":\"white\",\"showbackground\":true,\"ticks\":\"\",\"zerolinecolor\":\"white\",\"gridwidth\":2}},\"shapedefaults\":{\"line\":{\"color\":\"#2a3f5f\"}},\"annotationdefaults\":{\"arrowcolor\":\"#2a3f5f\",\"arrowhead\":0,\"arrowwidth\":1},\"geo\":{\"bgcolor\":\"white\",\"landcolor\":\"#E5ECF6\",\"subunitcolor\":\"white\",\"showland\":true,\"showlakes\":true,\"lakecolor\":\"white\"},\"title\":{\"x\":0.05},\"mapbox\":{\"style\":\"light\"}}},\"xaxis\":{\"anchor\":\"y\",\"domain\":[0.0,0.45]},\"yaxis\":{\"anchor\":\"x\",\"domain\":[0.625,1.0],\"showticklabels\":false},\"xaxis2\":{\"anchor\":\"y2\",\"domain\":[0.55,1.0]},\"yaxis2\":{\"anchor\":\"x2\",\"domain\":[0.625,1.0],\"showticklabels\":false},\"xaxis3\":{\"anchor\":\"y3\",\"domain\":[0.0,0.45]},\"yaxis3\":{\"anchor\":\"x3\",\"domain\":[0.0,0.375],\"showticklabels\":false},\"xaxis4\":{\"anchor\":\"y4\",\"domain\":[0.55,1.0]},\"yaxis4\":{\"anchor\":\"x4\",\"domain\":[0.0,0.375],\"showticklabels\":false},\"annotations\":[{\"font\":{\"size\":16},\"showarrow\":false,\"text\":\"Soft skills Analyst\",\"x\":0.225,\"xanchor\":\"center\",\"xref\":\"paper\",\"y\":1.0,\"yanchor\":\"bottom\",\"yref\":\"paper\"},{\"font\":{\"size\":16},\"showarrow\":false,\"text\":\"Soft skills DS\",\"x\":0.775,\"xanchor\":\"center\",\"xref\":\"paper\",\"y\":1.0,\"yanchor\":\"bottom\",\"yref\":\"paper\"},{\"font\":{\"size\":16},\"showarrow\":false,\"text\":\"Hard skills Analyst\",\"x\":0.225,\"xanchor\":\"center\",\"xref\":\"paper\",\"y\":0.375,\"yanchor\":\"bottom\",\"yref\":\"paper\"},{\"font\":{\"size\":16},\"showarrow\":false,\"text\":\"Hard skills DS\",\"x\":0.775,\"xanchor\":\"center\",\"xref\":\"paper\",\"y\":0.375,\"yanchor\":\"bottom\",\"yref\":\"paper\"}],\"title\":{\"text\":\"\\u0422\\u043e\\u043f \\u043d\\u0430\\u0432\\u044b\\u043a\\u043e\\u0432 \\u0434\\u043b\\u044f \\u0433\\u0440\\u0435\\u0439\\u0434\\u0430 Junior (no experince)\"},\"height\":1000,\"width\":1500,\"showlegend\":false},                        {\"responsive\": true}                    ).then(function(){\n",
              "                            \n",
              "var gd = document.getElementById('da675f31-cd0b-4e04-9079-3de38725c554');\n",
              "var x = new MutationObserver(function (mutations, observer) {{\n",
              "        var display = window.getComputedStyle(gd).display;\n",
              "        if (!display || display === 'none') {{\n",
              "            console.log([gd, 'removed!']);\n",
              "            Plotly.purge(gd);\n",
              "            observer.disconnect();\n",
              "        }}\n",
              "}});\n",
              "\n",
              "// Listen for the removal of the full notebook cells\n",
              "var notebookContainer = gd.closest('#notebook-container');\n",
              "if (notebookContainer) {{\n",
              "    x.observe(notebookContainer, {childList: true});\n",
              "}}\n",
              "\n",
              "// Listen for the clearing of the current output cell\n",
              "var outputEl = gd.closest('.output');\n",
              "if (outputEl) {{\n",
              "    x.observe(outputEl, {childList: true});\n",
              "}}\n",
              "\n",
              "                        })                };                            </script>        </div>\n",
              "</body>\n",
              "</html>"
            ]
          },
          "metadata": {}
        },
        {
          "output_type": "display_data",
          "data": {
            "text/html": [
              "<html>\n",
              "<head><meta charset=\"utf-8\" /></head>\n",
              "<body>\n",
              "    <div>            <script src=\"https://cdnjs.cloudflare.com/ajax/libs/mathjax/2.7.5/MathJax.js?config=TeX-AMS-MML_SVG\"></script><script type=\"text/javascript\">if (window.MathJax && window.MathJax.Hub && window.MathJax.Hub.Config) {window.MathJax.Hub.Config({SVG: {font: \"STIX-Web\"}});}</script>                <script type=\"text/javascript\">window.PlotlyConfig = {MathJaxConfig: 'local'};</script>\n",
              "        <script charset=\"utf-8\" src=\"https://cdn.plot.ly/plotly-2.24.1.min.js\"></script>                <div id=\"8d32eaba-a602-458a-9522-536d177490d6\" class=\"plotly-graph-div\" style=\"height:1000px; width:1500px;\"></div>            <script type=\"text/javascript\">                                    window.PLOTLYENV=window.PLOTLYENV || {};                                    if (document.getElementById(\"8d32eaba-a602-458a-9522-536d177490d6\")) {                    Plotly.newPlot(                        \"8d32eaba-a602-458a-9522-536d177490d6\",                        [{\"marker\":{\"color\":[\"rgb(74, 109, 117)\",\"rgb(26, 37, 174)\",\"rgb(179, 83, 202)\",\"rgb(56, 245, 202)\",\"rgb(190, 157, 176)\",\"rgb(88, 23, 195)\",\"rgb(211, 197, 132)\",\"rgb(24, 164, 93)\",\"rgb(72, 139, 61)\"]},\"text\":[\"31%\",\"21%\",\"18%\",\"12%\",\"8%\",\"5%\",\"3%\",\"2%\",\"1%\"],\"x\":[\"\\u0430\\u043d\\u0430\\u043b\\u0438\\u0442\\u0438\\u0447\\u0435\\u0441\\u043a\\u043e\\u0435 \\u043c\\u044b\\u0448\\u043b\\u0435\\u043d\\u0438\\u0435\",\"\\u0434\\u043e\\u043a\\u0443\\u043c\\u0435\\u043d\\u0442\\u0430\\u0446\\u0438\\u044f\",\"\\u043a\\u043e\\u043c\\u043c\\u0443\\u043d\\u0438\\u043a\\u0430\\u0446\\u0438\\u044f\",\"\\u0430\\u043d\\u0430\\u043b\\u0438\\u0442\\u0438\\u0447\\u0435\\u0441\\u043a\\u0438\\u0435 \\u0438\\u0441\\u0441\\u043b\\u0435\\u0434\\u043e\\u0432\\u0430\\u043d\\u0438\\u044f\",\"\\u0430\\u043d\\u0433\\u043b\\u0438\\u0439\\u0441\\u043a\\u0438\\u0439 \\u044f\\u0437\\u044b\\u043a\",\"\\u0441\\u0431\\u043e\\u0440 \\u0438 \\u0430\\u043d\\u0430\\u043b\\u0438\\u0437 \\u0438\\u043d\\u0444\\u043e\\u0440\\u043c\\u0430\\u0446\\u0438\\u0438\",\"\\u043f\\u0440\\u0438\\u043d\\u044f\\u0442\\u0438\\u0435 \\u0440\\u0435\\u0448\\u0435\\u043d\\u0438\\u0439\",\"\\u043f\\u0440\\u043e\\u0430\\u043a\\u0442\\u0438\\u0432\\u043d\\u043e\\u0441\\u0442\\u044c\",\"\\u0440\\u0435\\u0448\\u0435\\u043d\\u0438\\u0435 \\u043f\\u0440\\u043e\\u0431\\u043b\\u0435\\u043c\"],\"y\":[31.1,21.4,17.5,11.7,7.8,4.9,2.9,1.9,1.0],\"type\":\"bar\",\"xaxis\":\"x\",\"yaxis\":\"y\"},{\"marker\":{\"color\":[\"rgb(26, 37, 174)\",\"rgb(179, 83, 202)\",\"rgb(74, 109, 117)\",\"rgb(190, 157, 176)\",\"rgb(56, 245, 202)\",\"rgb(125, 42, 166)\",\"rgb(211, 197, 132)\",\"rgb(24, 164, 93)\"]},\"text\":[\"43%\",\"27%\",\"12%\",\"10%\",\"5%\",\"2%\",\"1%\",\"1%\"],\"x\":[\"\\u0434\\u043e\\u043a\\u0443\\u043c\\u0435\\u043d\\u0442\\u0430\\u0446\\u0438\\u044f\",\"\\u043a\\u043e\\u043c\\u043c\\u0443\\u043d\\u0438\\u043a\\u0430\\u0446\\u0438\\u044f\",\"\\u0430\\u043d\\u0430\\u043b\\u0438\\u0442\\u0438\\u0447\\u0435\\u0441\\u043a\\u043e\\u0435 \\u043c\\u044b\\u0448\\u043b\\u0435\\u043d\\u0438\\u0435\",\"\\u0430\\u043d\\u0433\\u043b\\u0438\\u0439\\u0441\\u043a\\u0438\\u0439 \\u044f\\u0437\\u044b\\u043a\",\"\\u0430\\u043d\\u0430\\u043b\\u0438\\u0442\\u0438\\u0447\\u0435\\u0441\\u043a\\u0438\\u0435 \\u0438\\u0441\\u0441\\u043b\\u0435\\u0434\\u043e\\u0432\\u0430\\u043d\\u0438\\u044f\",\"\\u043f\\u0440\\u0435\\u0437\\u0435\\u043d\\u0442\\u0430\\u0446\\u0438\\u044f \\u0440\\u0435\\u0437\\u0443\\u043b\\u044c\\u0442\\u0430\\u0442\\u043e\\u0432\",\"\\u043f\\u0440\\u0438\\u043d\\u044f\\u0442\\u0438\\u0435 \\u0440\\u0435\\u0448\\u0435\\u043d\\u0438\\u0439\",\"\\u043f\\u0440\\u043e\\u0430\\u043a\\u0442\\u0438\\u0432\\u043d\\u043e\\u0441\\u0442\\u044c\"],\"y\":[42.6,26.6,11.7,9.6,5.3,2.1,1.1,1.1],\"type\":\"bar\",\"xaxis\":\"x2\",\"yaxis\":\"y2\"},{\"marker\":{\"color\":[\"rgb(188, 191, 86)\",\"rgb(34, 157, 64)\",\"rgb(89, 120, 105)\",\"rgb(171, 195, 200)\",\"rgb(31, 39, 89)\",\"rgb(204, 216, 148)\",\"rgb(194, 238, 89)\",\"rgb(165, 165, 57)\",\"rgb(13, 72, 198)\",\"rgb(255, 110, 94)\",\"rgb(48, 147, 139)\",\"rgb(234, 102, 51)\",\"rgb(133, 167, 22)\",\"rgb(25, 29, 161)\",\"rgb(252, 63, 255)\"]},\"text\":[\"23%\",\"16%\",\"11%\",\"9%\",\"6%\",\"6%\",\"4%\",\"4%\",\"3%\",\"3%\",\"3%\",\"3%\",\"3%\",\"3%\",\"2%\"],\"x\":[\"sql\",\"python\",\"pandas\",\"\\u0430\\u043d\\u0430\\u043b\\u0438\\u0437 \\u0434\\u0430\\u043d\\u043d\\u044b\\u0445\",\"data analysis\",\"power bi\",\"\\u0430\\u043d\\u0430\\u043b\\u0438\\u0442\\u0438\\u043a\\u0430\",\"\\u043c\\u0430\\u0442\\u0435\\u043c\\u0430\\u0442\\u0438\\u0447\\u0435\\u0441\\u043a\\u0430\\u044f \\u0441\\u0442\\u0430\\u0442\\u0438\\u0441\\u0442\\u0438\\u043a\\u0430\",\"ms excel\",\"confluence\",\"\\u0440\\u0430\\u0431\\u043e\\u0442\\u0430 \\u0441 \\u0431\\u0430\\u0437\\u0430\\u043c\\u0438 \\u0434\\u0430\\u043d\\u043d\\u044b\\u0445\",\"big data\",\"tableau\",\"\\u0440\\u0430\\u0431\\u043e\\u0442\\u0430 \\u0441 \\u0431\\u043e\\u043b\\u044c\\u0448\\u0438\\u043c \\u043e\\u0431\\u044a\\u0435\\u043c\\u043e\\u043c \\u0438\\u043d\\u0444\\u043e\\u0440\\u043c\\u0430\\u0446\\u0438\\u0438\",\"ms sql\"],\"y\":[23.3,16.0,10.8,8.8,5.9,5.7,4.4,3.9,3.4,3.4,3.2,2.9,2.9,2.7,2.5],\"type\":\"bar\",\"xaxis\":\"x3\",\"yaxis\":\"y3\"},{\"marker\":{\"color\":[\"rgb(89, 120, 105)\",\"rgb(34, 157, 64)\",\"rgb(188, 191, 86)\",\"rgb(137, 210, 61)\",\"rgb(255, 110, 94)\",\"rgb(121, 74, 60)\",\"rgb(70, 130, 33)\",\"rgb(176, 244, 228)\",\"rgb(165, 165, 57)\",\"rgb(221, 137, 167)\",\"rgb(234, 102, 51)\",\"rgb(84, 123, 53)\",\"rgb(62, 40, 157)\",\"rgb(171, 195, 200)\",\"rgb(34, 0, 28)\"]},\"text\":[\"22%\",\"20%\",\"14%\",\"6%\",\"4%\",\"4%\",\"4%\",\"4%\",\"4%\",\"4%\",\"3%\",\"3%\",\"3%\",\"3%\",\"3%\"],\"x\":[\"pandas\",\"python\",\"sql\",\"machine learning\",\"confluence\",\"ml\",\"\\u044e\\u043d\\u0438\\u0442-\\u044d\\u043a\\u043e\\u043d\\u043e\\u043c\\u0438\\u043a\\u0430\",\"data science\",\"\\u043c\\u0430\\u0442\\u0435\\u043c\\u0430\\u0442\\u0438\\u0447\\u0435\\u0441\\u043a\\u0430\\u044f \\u0441\\u0442\\u0430\\u0442\\u0438\\u0441\\u0442\\u0438\\u043a\\u0430\",\"pytorch\",\"big data\",\"nlp\",\"\\u043c\\u0430\\u0442\\u0435\\u043c\\u0430\\u0442\\u0438\\u0447\\u0435\\u0441\\u043a\\u043e\\u0435 \\u043c\\u043e\\u0434\\u0435\\u043b\\u0438\\u0440\\u043e\\u0432\\u0430\\u043d\\u0438\\u0435\",\"\\u0430\\u043d\\u0430\\u043b\\u0438\\u0437 \\u0434\\u0430\\u043d\\u043d\\u044b\\u0445\",\"\\u043c\\u0430\\u0448\\u0438\\u043d\\u043d\\u043e\\u0435 \\u043e\\u0431\\u0443\\u0447\\u0435\\u043d\\u0438\\u0435\"],\"y\":[21.5,19.6,13.7,6.1,4.3,4.2,4.2,3.6,3.6,3.6,3.3,3.3,3.1,3.0,2.8],\"type\":\"bar\",\"xaxis\":\"x4\",\"yaxis\":\"y4\"}],                        {\"template\":{\"data\":{\"histogram2dcontour\":[{\"type\":\"histogram2dcontour\",\"colorbar\":{\"outlinewidth\":0,\"ticks\":\"\"},\"colorscale\":[[0.0,\"#0d0887\"],[0.1111111111111111,\"#46039f\"],[0.2222222222222222,\"#7201a8\"],[0.3333333333333333,\"#9c179e\"],[0.4444444444444444,\"#bd3786\"],[0.5555555555555556,\"#d8576b\"],[0.6666666666666666,\"#ed7953\"],[0.7777777777777778,\"#fb9f3a\"],[0.8888888888888888,\"#fdca26\"],[1.0,\"#f0f921\"]]}],\"choropleth\":[{\"type\":\"choropleth\",\"colorbar\":{\"outlinewidth\":0,\"ticks\":\"\"}}],\"histogram2d\":[{\"type\":\"histogram2d\",\"colorbar\":{\"outlinewidth\":0,\"ticks\":\"\"},\"colorscale\":[[0.0,\"#0d0887\"],[0.1111111111111111,\"#46039f\"],[0.2222222222222222,\"#7201a8\"],[0.3333333333333333,\"#9c179e\"],[0.4444444444444444,\"#bd3786\"],[0.5555555555555556,\"#d8576b\"],[0.6666666666666666,\"#ed7953\"],[0.7777777777777778,\"#fb9f3a\"],[0.8888888888888888,\"#fdca26\"],[1.0,\"#f0f921\"]]}],\"heatmap\":[{\"type\":\"heatmap\",\"colorbar\":{\"outlinewidth\":0,\"ticks\":\"\"},\"colorscale\":[[0.0,\"#0d0887\"],[0.1111111111111111,\"#46039f\"],[0.2222222222222222,\"#7201a8\"],[0.3333333333333333,\"#9c179e\"],[0.4444444444444444,\"#bd3786\"],[0.5555555555555556,\"#d8576b\"],[0.6666666666666666,\"#ed7953\"],[0.7777777777777778,\"#fb9f3a\"],[0.8888888888888888,\"#fdca26\"],[1.0,\"#f0f921\"]]}],\"heatmapgl\":[{\"type\":\"heatmapgl\",\"colorbar\":{\"outlinewidth\":0,\"ticks\":\"\"},\"colorscale\":[[0.0,\"#0d0887\"],[0.1111111111111111,\"#46039f\"],[0.2222222222222222,\"#7201a8\"],[0.3333333333333333,\"#9c179e\"],[0.4444444444444444,\"#bd3786\"],[0.5555555555555556,\"#d8576b\"],[0.6666666666666666,\"#ed7953\"],[0.7777777777777778,\"#fb9f3a\"],[0.8888888888888888,\"#fdca26\"],[1.0,\"#f0f921\"]]}],\"contourcarpet\":[{\"type\":\"contourcarpet\",\"colorbar\":{\"outlinewidth\":0,\"ticks\":\"\"}}],\"contour\":[{\"type\":\"contour\",\"colorbar\":{\"outlinewidth\":0,\"ticks\":\"\"},\"colorscale\":[[0.0,\"#0d0887\"],[0.1111111111111111,\"#46039f\"],[0.2222222222222222,\"#7201a8\"],[0.3333333333333333,\"#9c179e\"],[0.4444444444444444,\"#bd3786\"],[0.5555555555555556,\"#d8576b\"],[0.6666666666666666,\"#ed7953\"],[0.7777777777777778,\"#fb9f3a\"],[0.8888888888888888,\"#fdca26\"],[1.0,\"#f0f921\"]]}],\"surface\":[{\"type\":\"surface\",\"colorbar\":{\"outlinewidth\":0,\"ticks\":\"\"},\"colorscale\":[[0.0,\"#0d0887\"],[0.1111111111111111,\"#46039f\"],[0.2222222222222222,\"#7201a8\"],[0.3333333333333333,\"#9c179e\"],[0.4444444444444444,\"#bd3786\"],[0.5555555555555556,\"#d8576b\"],[0.6666666666666666,\"#ed7953\"],[0.7777777777777778,\"#fb9f3a\"],[0.8888888888888888,\"#fdca26\"],[1.0,\"#f0f921\"]]}],\"mesh3d\":[{\"type\":\"mesh3d\",\"colorbar\":{\"outlinewidth\":0,\"ticks\":\"\"}}],\"scatter\":[{\"fillpattern\":{\"fillmode\":\"overlay\",\"size\":10,\"solidity\":0.2},\"type\":\"scatter\"}],\"parcoords\":[{\"type\":\"parcoords\",\"line\":{\"colorbar\":{\"outlinewidth\":0,\"ticks\":\"\"}}}],\"scatterpolargl\":[{\"type\":\"scatterpolargl\",\"marker\":{\"colorbar\":{\"outlinewidth\":0,\"ticks\":\"\"}}}],\"bar\":[{\"error_x\":{\"color\":\"#2a3f5f\"},\"error_y\":{\"color\":\"#2a3f5f\"},\"marker\":{\"line\":{\"color\":\"#E5ECF6\",\"width\":0.5},\"pattern\":{\"fillmode\":\"overlay\",\"size\":10,\"solidity\":0.2}},\"type\":\"bar\"}],\"scattergeo\":[{\"type\":\"scattergeo\",\"marker\":{\"colorbar\":{\"outlinewidth\":0,\"ticks\":\"\"}}}],\"scatterpolar\":[{\"type\":\"scatterpolar\",\"marker\":{\"colorbar\":{\"outlinewidth\":0,\"ticks\":\"\"}}}],\"histogram\":[{\"marker\":{\"pattern\":{\"fillmode\":\"overlay\",\"size\":10,\"solidity\":0.2}},\"type\":\"histogram\"}],\"scattergl\":[{\"type\":\"scattergl\",\"marker\":{\"colorbar\":{\"outlinewidth\":0,\"ticks\":\"\"}}}],\"scatter3d\":[{\"type\":\"scatter3d\",\"line\":{\"colorbar\":{\"outlinewidth\":0,\"ticks\":\"\"}},\"marker\":{\"colorbar\":{\"outlinewidth\":0,\"ticks\":\"\"}}}],\"scattermapbox\":[{\"type\":\"scattermapbox\",\"marker\":{\"colorbar\":{\"outlinewidth\":0,\"ticks\":\"\"}}}],\"scatterternary\":[{\"type\":\"scatterternary\",\"marker\":{\"colorbar\":{\"outlinewidth\":0,\"ticks\":\"\"}}}],\"scattercarpet\":[{\"type\":\"scattercarpet\",\"marker\":{\"colorbar\":{\"outlinewidth\":0,\"ticks\":\"\"}}}],\"carpet\":[{\"aaxis\":{\"endlinecolor\":\"#2a3f5f\",\"gridcolor\":\"white\",\"linecolor\":\"white\",\"minorgridcolor\":\"white\",\"startlinecolor\":\"#2a3f5f\"},\"baxis\":{\"endlinecolor\":\"#2a3f5f\",\"gridcolor\":\"white\",\"linecolor\":\"white\",\"minorgridcolor\":\"white\",\"startlinecolor\":\"#2a3f5f\"},\"type\":\"carpet\"}],\"table\":[{\"cells\":{\"fill\":{\"color\":\"#EBF0F8\"},\"line\":{\"color\":\"white\"}},\"header\":{\"fill\":{\"color\":\"#C8D4E3\"},\"line\":{\"color\":\"white\"}},\"type\":\"table\"}],\"barpolar\":[{\"marker\":{\"line\":{\"color\":\"#E5ECF6\",\"width\":0.5},\"pattern\":{\"fillmode\":\"overlay\",\"size\":10,\"solidity\":0.2}},\"type\":\"barpolar\"}],\"pie\":[{\"automargin\":true,\"type\":\"pie\"}]},\"layout\":{\"autotypenumbers\":\"strict\",\"colorway\":[\"#636efa\",\"#EF553B\",\"#00cc96\",\"#ab63fa\",\"#FFA15A\",\"#19d3f3\",\"#FF6692\",\"#B6E880\",\"#FF97FF\",\"#FECB52\"],\"font\":{\"color\":\"#2a3f5f\"},\"hovermode\":\"closest\",\"hoverlabel\":{\"align\":\"left\"},\"paper_bgcolor\":\"white\",\"plot_bgcolor\":\"#E5ECF6\",\"polar\":{\"bgcolor\":\"#E5ECF6\",\"angularaxis\":{\"gridcolor\":\"white\",\"linecolor\":\"white\",\"ticks\":\"\"},\"radialaxis\":{\"gridcolor\":\"white\",\"linecolor\":\"white\",\"ticks\":\"\"}},\"ternary\":{\"bgcolor\":\"#E5ECF6\",\"aaxis\":{\"gridcolor\":\"white\",\"linecolor\":\"white\",\"ticks\":\"\"},\"baxis\":{\"gridcolor\":\"white\",\"linecolor\":\"white\",\"ticks\":\"\"},\"caxis\":{\"gridcolor\":\"white\",\"linecolor\":\"white\",\"ticks\":\"\"}},\"coloraxis\":{\"colorbar\":{\"outlinewidth\":0,\"ticks\":\"\"}},\"colorscale\":{\"sequential\":[[0.0,\"#0d0887\"],[0.1111111111111111,\"#46039f\"],[0.2222222222222222,\"#7201a8\"],[0.3333333333333333,\"#9c179e\"],[0.4444444444444444,\"#bd3786\"],[0.5555555555555556,\"#d8576b\"],[0.6666666666666666,\"#ed7953\"],[0.7777777777777778,\"#fb9f3a\"],[0.8888888888888888,\"#fdca26\"],[1.0,\"#f0f921\"]],\"sequentialminus\":[[0.0,\"#0d0887\"],[0.1111111111111111,\"#46039f\"],[0.2222222222222222,\"#7201a8\"],[0.3333333333333333,\"#9c179e\"],[0.4444444444444444,\"#bd3786\"],[0.5555555555555556,\"#d8576b\"],[0.6666666666666666,\"#ed7953\"],[0.7777777777777778,\"#fb9f3a\"],[0.8888888888888888,\"#fdca26\"],[1.0,\"#f0f921\"]],\"diverging\":[[0,\"#8e0152\"],[0.1,\"#c51b7d\"],[0.2,\"#de77ae\"],[0.3,\"#f1b6da\"],[0.4,\"#fde0ef\"],[0.5,\"#f7f7f7\"],[0.6,\"#e6f5d0\"],[0.7,\"#b8e186\"],[0.8,\"#7fbc41\"],[0.9,\"#4d9221\"],[1,\"#276419\"]]},\"xaxis\":{\"gridcolor\":\"white\",\"linecolor\":\"white\",\"ticks\":\"\",\"title\":{\"standoff\":15},\"zerolinecolor\":\"white\",\"automargin\":true,\"zerolinewidth\":2},\"yaxis\":{\"gridcolor\":\"white\",\"linecolor\":\"white\",\"ticks\":\"\",\"title\":{\"standoff\":15},\"zerolinecolor\":\"white\",\"automargin\":true,\"zerolinewidth\":2},\"scene\":{\"xaxis\":{\"backgroundcolor\":\"#E5ECF6\",\"gridcolor\":\"white\",\"linecolor\":\"white\",\"showbackground\":true,\"ticks\":\"\",\"zerolinecolor\":\"white\",\"gridwidth\":2},\"yaxis\":{\"backgroundcolor\":\"#E5ECF6\",\"gridcolor\":\"white\",\"linecolor\":\"white\",\"showbackground\":true,\"ticks\":\"\",\"zerolinecolor\":\"white\",\"gridwidth\":2},\"zaxis\":{\"backgroundcolor\":\"#E5ECF6\",\"gridcolor\":\"white\",\"linecolor\":\"white\",\"showbackground\":true,\"ticks\":\"\",\"zerolinecolor\":\"white\",\"gridwidth\":2}},\"shapedefaults\":{\"line\":{\"color\":\"#2a3f5f\"}},\"annotationdefaults\":{\"arrowcolor\":\"#2a3f5f\",\"arrowhead\":0,\"arrowwidth\":1},\"geo\":{\"bgcolor\":\"white\",\"landcolor\":\"#E5ECF6\",\"subunitcolor\":\"white\",\"showland\":true,\"showlakes\":true,\"lakecolor\":\"white\"},\"title\":{\"x\":0.05},\"mapbox\":{\"style\":\"light\"}}},\"xaxis\":{\"anchor\":\"y\",\"domain\":[0.0,0.45]},\"yaxis\":{\"anchor\":\"x\",\"domain\":[0.625,1.0],\"showticklabels\":false},\"xaxis2\":{\"anchor\":\"y2\",\"domain\":[0.55,1.0]},\"yaxis2\":{\"anchor\":\"x2\",\"domain\":[0.625,1.0],\"showticklabels\":false},\"xaxis3\":{\"anchor\":\"y3\",\"domain\":[0.0,0.45]},\"yaxis3\":{\"anchor\":\"x3\",\"domain\":[0.0,0.375],\"showticklabels\":false},\"xaxis4\":{\"anchor\":\"y4\",\"domain\":[0.55,1.0]},\"yaxis4\":{\"anchor\":\"x4\",\"domain\":[0.0,0.375],\"showticklabels\":false},\"annotations\":[{\"font\":{\"size\":16},\"showarrow\":false,\"text\":\"Soft skills Analyst\",\"x\":0.225,\"xanchor\":\"center\",\"xref\":\"paper\",\"y\":1.0,\"yanchor\":\"bottom\",\"yref\":\"paper\"},{\"font\":{\"size\":16},\"showarrow\":false,\"text\":\"Soft skills DS\",\"x\":0.775,\"xanchor\":\"center\",\"xref\":\"paper\",\"y\":1.0,\"yanchor\":\"bottom\",\"yref\":\"paper\"},{\"font\":{\"size\":16},\"showarrow\":false,\"text\":\"Hard skills Analyst\",\"x\":0.225,\"xanchor\":\"center\",\"xref\":\"paper\",\"y\":0.375,\"yanchor\":\"bottom\",\"yref\":\"paper\"},{\"font\":{\"size\":16},\"showarrow\":false,\"text\":\"Hard skills DS\",\"x\":0.775,\"xanchor\":\"center\",\"xref\":\"paper\",\"y\":0.375,\"yanchor\":\"bottom\",\"yref\":\"paper\"}],\"title\":{\"text\":\"\\u0422\\u043e\\u043f \\u043d\\u0430\\u0432\\u044b\\u043a\\u043e\\u0432 \\u0434\\u043b\\u044f \\u0433\\u0440\\u0435\\u0439\\u0434\\u0430 Junior+ (1-3 years)\"},\"height\":1000,\"width\":1500,\"showlegend\":false},                        {\"responsive\": true}                    ).then(function(){\n",
              "                            \n",
              "var gd = document.getElementById('8d32eaba-a602-458a-9522-536d177490d6');\n",
              "var x = new MutationObserver(function (mutations, observer) {{\n",
              "        var display = window.getComputedStyle(gd).display;\n",
              "        if (!display || display === 'none') {{\n",
              "            console.log([gd, 'removed!']);\n",
              "            Plotly.purge(gd);\n",
              "            observer.disconnect();\n",
              "        }}\n",
              "}});\n",
              "\n",
              "// Listen for the removal of the full notebook cells\n",
              "var notebookContainer = gd.closest('#notebook-container');\n",
              "if (notebookContainer) {{\n",
              "    x.observe(notebookContainer, {childList: true});\n",
              "}}\n",
              "\n",
              "// Listen for the clearing of the current output cell\n",
              "var outputEl = gd.closest('.output');\n",
              "if (outputEl) {{\n",
              "    x.observe(outputEl, {childList: true});\n",
              "}}\n",
              "\n",
              "                        })                };                            </script>        </div>\n",
              "</body>\n",
              "</html>"
            ]
          },
          "metadata": {}
        },
        {
          "output_type": "display_data",
          "data": {
            "text/html": [
              "<html>\n",
              "<head><meta charset=\"utf-8\" /></head>\n",
              "<body>\n",
              "    <div>            <script src=\"https://cdnjs.cloudflare.com/ajax/libs/mathjax/2.7.5/MathJax.js?config=TeX-AMS-MML_SVG\"></script><script type=\"text/javascript\">if (window.MathJax && window.MathJax.Hub && window.MathJax.Hub.Config) {window.MathJax.Hub.Config({SVG: {font: \"STIX-Web\"}});}</script>                <script type=\"text/javascript\">window.PlotlyConfig = {MathJaxConfig: 'local'};</script>\n",
              "        <script charset=\"utf-8\" src=\"https://cdn.plot.ly/plotly-2.24.1.min.js\"></script>                <div id=\"2114eb65-6a5c-4ac0-b672-c305f3462653\" class=\"plotly-graph-div\" style=\"height:1000px; width:1500px;\"></div>            <script type=\"text/javascript\">                                    window.PLOTLYENV=window.PLOTLYENV || {};                                    if (document.getElementById(\"2114eb65-6a5c-4ac0-b672-c305f3462653\")) {                    Plotly.newPlot(                        \"2114eb65-6a5c-4ac0-b672-c305f3462653\",                        [{\"marker\":{\"color\":[\"rgb(31, 69, 205)\",\"rgb(140, 125, 145)\",\"rgb(233, 66, 157)\",\"rgb(112, 105, 29)\",\"rgb(49, 204, 100)\",\"rgb(82, 154, 47)\",\"rgb(241, 149, 63)\",\"rgb(91, 18, 91)\"]},\"text\":[\"40%\",\"28%\",\"14%\",\"6%\",\"6%\",\"2%\",\"2%\",\"2%\"],\"x\":[\"\\u0434\\u043e\\u043a\\u0443\\u043c\\u0435\\u043d\\u0442\\u0430\\u0446\\u0438\\u044f\",\"\\u043a\\u043e\\u043c\\u043c\\u0443\\u043d\\u0438\\u043a\\u0430\\u0446\\u0438\\u044f\",\"\\u0430\\u043d\\u0430\\u043b\\u0438\\u0442\\u0438\\u0447\\u0435\\u0441\\u043a\\u043e\\u0435 \\u043c\\u044b\\u0448\\u043b\\u0435\\u043d\\u0438\\u0435\",\"\\u0430\\u043d\\u0433\\u043b\\u0438\\u0439\\u0441\\u043a\\u0438\\u0439 \\u044f\\u0437\\u044b\\u043a\",\"\\u043f\\u0440\\u043e\\u0430\\u043a\\u0442\\u0438\\u0432\\u043d\\u043e\\u0441\\u0442\\u044c\",\"\\u043f\\u0440\\u0438\\u043d\\u044f\\u0442\\u0438\\u0435 \\u0440\\u0435\\u0448\\u0435\\u043d\\u0438\\u0439\",\"\\u0440\\u0435\\u0448\\u0435\\u043d\\u0438\\u0435 \\u043f\\u0440\\u043e\\u0431\\u043b\\u0435\\u043c\",\"\\u0441\\u0431\\u043e\\u0440 \\u0438 \\u0430\\u043d\\u0430\\u043b\\u0438\\u0437 \\u0438\\u043d\\u0444\\u043e\\u0440\\u043c\\u0430\\u0446\\u0438\\u0438\"],\"y\":[40.0,28.0,14.0,6.0,6.0,2.0,2.0,2.0],\"type\":\"bar\",\"xaxis\":\"x\",\"yaxis\":\"y\"},{\"marker\":{\"color\":[\"rgb(31, 69, 205)\",\"rgb(140, 125, 145)\",\"rgb(233, 66, 157)\",\"rgb(112, 105, 29)\",\"rgb(49, 204, 100)\",\"rgb(214, 211, 69)\",\"rgb(82, 154, 47)\",\"rgb(82, 217, 119)\",\"rgb(92, 223, 160)\",\"rgb(91, 18, 91)\"]},\"text\":[\"41%\",\"29%\",\"9%\",\"6%\",\"5%\",\"2%\",\"2%\",\"2%\",\"2%\",\"2%\"],\"x\":[\"\\u0434\\u043e\\u043a\\u0443\\u043c\\u0435\\u043d\\u0442\\u0430\\u0446\\u0438\\u044f\",\"\\u043a\\u043e\\u043c\\u043c\\u0443\\u043d\\u0438\\u043a\\u0430\\u0446\\u0438\\u044f\",\"\\u0430\\u043d\\u0430\\u043b\\u0438\\u0442\\u0438\\u0447\\u0435\\u0441\\u043a\\u043e\\u0435 \\u043c\\u044b\\u0448\\u043b\\u0435\\u043d\\u0438\\u0435\",\"\\u0430\\u043d\\u0433\\u043b\\u0438\\u0439\\u0441\\u043a\\u0438\\u0439 \\u044f\\u0437\\u044b\\u043a\",\"\\u043f\\u0440\\u043e\\u0430\\u043a\\u0442\\u0438\\u0432\\u043d\\u043e\\u0441\\u0442\\u044c\",\"\\u0432\\u043d\\u0438\\u043c\\u0430\\u043d\\u0438\\u0435 \\u043a \\u0434\\u0435\\u0442\\u0430\\u043b\\u044f\\u043c\",\"\\u043f\\u0440\\u0438\\u043d\\u044f\\u0442\\u0438\\u0435 \\u0440\\u0435\\u0448\\u0435\\u043d\\u0438\\u0439\",\"\\u0430\\u043d\\u0430\\u043b\\u0438\\u0442\\u0438\\u0447\\u0435\\u0441\\u043a\\u0438\\u0435 \\u0438\\u0441\\u0441\\u043b\\u0435\\u0434\\u043e\\u0432\\u0430\\u043d\\u0438\\u044f\",\"\\u043f\\u0440\\u0435\\u0437\\u0435\\u043d\\u0442\\u0430\\u0446\\u0438\\u044f \\u0440\\u0435\\u0437\\u0443\\u043b\\u044c\\u0442\\u0430\\u0442\\u043e\\u0432\",\"\\u0441\\u0431\\u043e\\u0440 \\u0438 \\u0430\\u043d\\u0430\\u043b\\u0438\\u0437 \\u0438\\u043d\\u0444\\u043e\\u0440\\u043c\\u0430\\u0446\\u0438\\u0438\"],\"y\":[41.4,29.3,9.0,6.0,5.3,2.3,2.3,1.5,1.5,1.5],\"type\":\"bar\",\"xaxis\":\"x2\",\"yaxis\":\"y2\"},{\"marker\":{\"color\":[\"rgb(237, 104, 151)\",\"rgb(80, 52, 28)\",\"rgb(176, 161, 14)\",\"rgb(244, 225, 246)\",\"rgb(33, 125, 64)\",\"rgb(194, 131, 90)\",\"rgb(4, 90, 61)\",\"rgb(238, 54, 16)\",\"rgb(233, 44, 154)\",\"rgb(92, 17, 86)\",\"rgb(216, 9, 37)\",\"rgb(122, 121, 175)\",\"rgb(152, 139, 164)\",\"rgb(55, 101, 246)\",\"rgb(24, 244, 29)\"]},\"text\":[\"19%\",\"18%\",\"11%\",\"11%\",\"6%\",\"5%\",\"5%\",\"5%\",\"4%\",\"4%\",\"3%\",\"3%\",\"2%\",\"2%\",\"2%\"],\"x\":[\"python\",\"sql\",\"data analysis\",\"pandas\",\"\\u0430\\u043d\\u0430\\u043b\\u0438\\u0437 \\u0434\\u0430\\u043d\\u043d\\u044b\\u0445\",\"power bi\",\"big data\",\"confluence\",\"a\\u002fb \\u0442\\u0435\\u0441\\u0442\\u044b\",\"postgresql\",\"tableau\",\"clickhouse\",\"\\u0431\\u0430\\u0437\\u044b \\u0434\\u0430\\u043d\\u043d\\u044b\\u0445\",\"\\u044e\\u043d\\u0438\\u0442-\\u044d\\u043a\\u043e\\u043d\\u043e\\u043c\\u0438\\u043a\\u0430\",\"\\u0430\\u043d\\u0430\\u043b\\u0438\\u0442\\u0438\\u043a\\u0430\"],\"y\":[19.3,18.2,10.6,10.6,5.8,5.1,4.7,4.7,4.4,4.4,3.3,2.6,2.2,2.2,1.8],\"type\":\"bar\",\"xaxis\":\"x3\",\"yaxis\":\"y3\"},{\"marker\":{\"color\":[\"rgb(237, 104, 151)\",\"rgb(244, 225, 246)\",\"rgb(80, 52, 28)\",\"rgb(239, 59, 148)\",\"rgb(100, 38, 62)\",\"rgb(53, 127, 49)\",\"rgb(233, 189, 185)\",\"rgb(103, 249, 47)\",\"rgb(238, 54, 16)\",\"rgb(4, 90, 61)\",\"rgb(99, 22, 196)\",\"rgb(47, 158, 210)\",\"rgb(87, 28, 148)\",\"rgb(55, 101, 246)\",\"rgb(33, 125, 64)\"]},\"text\":[\"22%\",\"16%\",\"11%\",\"8%\",\"7%\",\"6%\",\"4%\",\"4%\",\"4%\",\"3%\",\"3%\",\"3%\",\"3%\",\"3%\",\"3%\"],\"x\":[\"python\",\"pandas\",\"sql\",\"machine learning\",\"ml\",\"data science\",\"nlp\",\"pytorch\",\"confluence\",\"big data\",\"spark\",\"hadoop\",\"docker\",\"\\u044e\\u043d\\u0438\\u0442-\\u044d\\u043a\\u043e\\u043d\\u043e\\u043c\\u0438\\u043a\\u0430\",\"\\u0430\\u043d\\u0430\\u043b\\u0438\\u0437 \\u0434\\u0430\\u043d\\u043d\\u044b\\u0445\"],\"y\":[21.7,15.8,10.9,7.9,6.7,6.2,4.1,4.1,4.1,3.2,3.2,3.2,3.0,3.0,2.7],\"type\":\"bar\",\"xaxis\":\"x4\",\"yaxis\":\"y4\"}],                        {\"template\":{\"data\":{\"histogram2dcontour\":[{\"type\":\"histogram2dcontour\",\"colorbar\":{\"outlinewidth\":0,\"ticks\":\"\"},\"colorscale\":[[0.0,\"#0d0887\"],[0.1111111111111111,\"#46039f\"],[0.2222222222222222,\"#7201a8\"],[0.3333333333333333,\"#9c179e\"],[0.4444444444444444,\"#bd3786\"],[0.5555555555555556,\"#d8576b\"],[0.6666666666666666,\"#ed7953\"],[0.7777777777777778,\"#fb9f3a\"],[0.8888888888888888,\"#fdca26\"],[1.0,\"#f0f921\"]]}],\"choropleth\":[{\"type\":\"choropleth\",\"colorbar\":{\"outlinewidth\":0,\"ticks\":\"\"}}],\"histogram2d\":[{\"type\":\"histogram2d\",\"colorbar\":{\"outlinewidth\":0,\"ticks\":\"\"},\"colorscale\":[[0.0,\"#0d0887\"],[0.1111111111111111,\"#46039f\"],[0.2222222222222222,\"#7201a8\"],[0.3333333333333333,\"#9c179e\"],[0.4444444444444444,\"#bd3786\"],[0.5555555555555556,\"#d8576b\"],[0.6666666666666666,\"#ed7953\"],[0.7777777777777778,\"#fb9f3a\"],[0.8888888888888888,\"#fdca26\"],[1.0,\"#f0f921\"]]}],\"heatmap\":[{\"type\":\"heatmap\",\"colorbar\":{\"outlinewidth\":0,\"ticks\":\"\"},\"colorscale\":[[0.0,\"#0d0887\"],[0.1111111111111111,\"#46039f\"],[0.2222222222222222,\"#7201a8\"],[0.3333333333333333,\"#9c179e\"],[0.4444444444444444,\"#bd3786\"],[0.5555555555555556,\"#d8576b\"],[0.6666666666666666,\"#ed7953\"],[0.7777777777777778,\"#fb9f3a\"],[0.8888888888888888,\"#fdca26\"],[1.0,\"#f0f921\"]]}],\"heatmapgl\":[{\"type\":\"heatmapgl\",\"colorbar\":{\"outlinewidth\":0,\"ticks\":\"\"},\"colorscale\":[[0.0,\"#0d0887\"],[0.1111111111111111,\"#46039f\"],[0.2222222222222222,\"#7201a8\"],[0.3333333333333333,\"#9c179e\"],[0.4444444444444444,\"#bd3786\"],[0.5555555555555556,\"#d8576b\"],[0.6666666666666666,\"#ed7953\"],[0.7777777777777778,\"#fb9f3a\"],[0.8888888888888888,\"#fdca26\"],[1.0,\"#f0f921\"]]}],\"contourcarpet\":[{\"type\":\"contourcarpet\",\"colorbar\":{\"outlinewidth\":0,\"ticks\":\"\"}}],\"contour\":[{\"type\":\"contour\",\"colorbar\":{\"outlinewidth\":0,\"ticks\":\"\"},\"colorscale\":[[0.0,\"#0d0887\"],[0.1111111111111111,\"#46039f\"],[0.2222222222222222,\"#7201a8\"],[0.3333333333333333,\"#9c179e\"],[0.4444444444444444,\"#bd3786\"],[0.5555555555555556,\"#d8576b\"],[0.6666666666666666,\"#ed7953\"],[0.7777777777777778,\"#fb9f3a\"],[0.8888888888888888,\"#fdca26\"],[1.0,\"#f0f921\"]]}],\"surface\":[{\"type\":\"surface\",\"colorbar\":{\"outlinewidth\":0,\"ticks\":\"\"},\"colorscale\":[[0.0,\"#0d0887\"],[0.1111111111111111,\"#46039f\"],[0.2222222222222222,\"#7201a8\"],[0.3333333333333333,\"#9c179e\"],[0.4444444444444444,\"#bd3786\"],[0.5555555555555556,\"#d8576b\"],[0.6666666666666666,\"#ed7953\"],[0.7777777777777778,\"#fb9f3a\"],[0.8888888888888888,\"#fdca26\"],[1.0,\"#f0f921\"]]}],\"mesh3d\":[{\"type\":\"mesh3d\",\"colorbar\":{\"outlinewidth\":0,\"ticks\":\"\"}}],\"scatter\":[{\"fillpattern\":{\"fillmode\":\"overlay\",\"size\":10,\"solidity\":0.2},\"type\":\"scatter\"}],\"parcoords\":[{\"type\":\"parcoords\",\"line\":{\"colorbar\":{\"outlinewidth\":0,\"ticks\":\"\"}}}],\"scatterpolargl\":[{\"type\":\"scatterpolargl\",\"marker\":{\"colorbar\":{\"outlinewidth\":0,\"ticks\":\"\"}}}],\"bar\":[{\"error_x\":{\"color\":\"#2a3f5f\"},\"error_y\":{\"color\":\"#2a3f5f\"},\"marker\":{\"line\":{\"color\":\"#E5ECF6\",\"width\":0.5},\"pattern\":{\"fillmode\":\"overlay\",\"size\":10,\"solidity\":0.2}},\"type\":\"bar\"}],\"scattergeo\":[{\"type\":\"scattergeo\",\"marker\":{\"colorbar\":{\"outlinewidth\":0,\"ticks\":\"\"}}}],\"scatterpolar\":[{\"type\":\"scatterpolar\",\"marker\":{\"colorbar\":{\"outlinewidth\":0,\"ticks\":\"\"}}}],\"histogram\":[{\"marker\":{\"pattern\":{\"fillmode\":\"overlay\",\"size\":10,\"solidity\":0.2}},\"type\":\"histogram\"}],\"scattergl\":[{\"type\":\"scattergl\",\"marker\":{\"colorbar\":{\"outlinewidth\":0,\"ticks\":\"\"}}}],\"scatter3d\":[{\"type\":\"scatter3d\",\"line\":{\"colorbar\":{\"outlinewidth\":0,\"ticks\":\"\"}},\"marker\":{\"colorbar\":{\"outlinewidth\":0,\"ticks\":\"\"}}}],\"scattermapbox\":[{\"type\":\"scattermapbox\",\"marker\":{\"colorbar\":{\"outlinewidth\":0,\"ticks\":\"\"}}}],\"scatterternary\":[{\"type\":\"scatterternary\",\"marker\":{\"colorbar\":{\"outlinewidth\":0,\"ticks\":\"\"}}}],\"scattercarpet\":[{\"type\":\"scattercarpet\",\"marker\":{\"colorbar\":{\"outlinewidth\":0,\"ticks\":\"\"}}}],\"carpet\":[{\"aaxis\":{\"endlinecolor\":\"#2a3f5f\",\"gridcolor\":\"white\",\"linecolor\":\"white\",\"minorgridcolor\":\"white\",\"startlinecolor\":\"#2a3f5f\"},\"baxis\":{\"endlinecolor\":\"#2a3f5f\",\"gridcolor\":\"white\",\"linecolor\":\"white\",\"minorgridcolor\":\"white\",\"startlinecolor\":\"#2a3f5f\"},\"type\":\"carpet\"}],\"table\":[{\"cells\":{\"fill\":{\"color\":\"#EBF0F8\"},\"line\":{\"color\":\"white\"}},\"header\":{\"fill\":{\"color\":\"#C8D4E3\"},\"line\":{\"color\":\"white\"}},\"type\":\"table\"}],\"barpolar\":[{\"marker\":{\"line\":{\"color\":\"#E5ECF6\",\"width\":0.5},\"pattern\":{\"fillmode\":\"overlay\",\"size\":10,\"solidity\":0.2}},\"type\":\"barpolar\"}],\"pie\":[{\"automargin\":true,\"type\":\"pie\"}]},\"layout\":{\"autotypenumbers\":\"strict\",\"colorway\":[\"#636efa\",\"#EF553B\",\"#00cc96\",\"#ab63fa\",\"#FFA15A\",\"#19d3f3\",\"#FF6692\",\"#B6E880\",\"#FF97FF\",\"#FECB52\"],\"font\":{\"color\":\"#2a3f5f\"},\"hovermode\":\"closest\",\"hoverlabel\":{\"align\":\"left\"},\"paper_bgcolor\":\"white\",\"plot_bgcolor\":\"#E5ECF6\",\"polar\":{\"bgcolor\":\"#E5ECF6\",\"angularaxis\":{\"gridcolor\":\"white\",\"linecolor\":\"white\",\"ticks\":\"\"},\"radialaxis\":{\"gridcolor\":\"white\",\"linecolor\":\"white\",\"ticks\":\"\"}},\"ternary\":{\"bgcolor\":\"#E5ECF6\",\"aaxis\":{\"gridcolor\":\"white\",\"linecolor\":\"white\",\"ticks\":\"\"},\"baxis\":{\"gridcolor\":\"white\",\"linecolor\":\"white\",\"ticks\":\"\"},\"caxis\":{\"gridcolor\":\"white\",\"linecolor\":\"white\",\"ticks\":\"\"}},\"coloraxis\":{\"colorbar\":{\"outlinewidth\":0,\"ticks\":\"\"}},\"colorscale\":{\"sequential\":[[0.0,\"#0d0887\"],[0.1111111111111111,\"#46039f\"],[0.2222222222222222,\"#7201a8\"],[0.3333333333333333,\"#9c179e\"],[0.4444444444444444,\"#bd3786\"],[0.5555555555555556,\"#d8576b\"],[0.6666666666666666,\"#ed7953\"],[0.7777777777777778,\"#fb9f3a\"],[0.8888888888888888,\"#fdca26\"],[1.0,\"#f0f921\"]],\"sequentialminus\":[[0.0,\"#0d0887\"],[0.1111111111111111,\"#46039f\"],[0.2222222222222222,\"#7201a8\"],[0.3333333333333333,\"#9c179e\"],[0.4444444444444444,\"#bd3786\"],[0.5555555555555556,\"#d8576b\"],[0.6666666666666666,\"#ed7953\"],[0.7777777777777778,\"#fb9f3a\"],[0.8888888888888888,\"#fdca26\"],[1.0,\"#f0f921\"]],\"diverging\":[[0,\"#8e0152\"],[0.1,\"#c51b7d\"],[0.2,\"#de77ae\"],[0.3,\"#f1b6da\"],[0.4,\"#fde0ef\"],[0.5,\"#f7f7f7\"],[0.6,\"#e6f5d0\"],[0.7,\"#b8e186\"],[0.8,\"#7fbc41\"],[0.9,\"#4d9221\"],[1,\"#276419\"]]},\"xaxis\":{\"gridcolor\":\"white\",\"linecolor\":\"white\",\"ticks\":\"\",\"title\":{\"standoff\":15},\"zerolinecolor\":\"white\",\"automargin\":true,\"zerolinewidth\":2},\"yaxis\":{\"gridcolor\":\"white\",\"linecolor\":\"white\",\"ticks\":\"\",\"title\":{\"standoff\":15},\"zerolinecolor\":\"white\",\"automargin\":true,\"zerolinewidth\":2},\"scene\":{\"xaxis\":{\"backgroundcolor\":\"#E5ECF6\",\"gridcolor\":\"white\",\"linecolor\":\"white\",\"showbackground\":true,\"ticks\":\"\",\"zerolinecolor\":\"white\",\"gridwidth\":2},\"yaxis\":{\"backgroundcolor\":\"#E5ECF6\",\"gridcolor\":\"white\",\"linecolor\":\"white\",\"showbackground\":true,\"ticks\":\"\",\"zerolinecolor\":\"white\",\"gridwidth\":2},\"zaxis\":{\"backgroundcolor\":\"#E5ECF6\",\"gridcolor\":\"white\",\"linecolor\":\"white\",\"showbackground\":true,\"ticks\":\"\",\"zerolinecolor\":\"white\",\"gridwidth\":2}},\"shapedefaults\":{\"line\":{\"color\":\"#2a3f5f\"}},\"annotationdefaults\":{\"arrowcolor\":\"#2a3f5f\",\"arrowhead\":0,\"arrowwidth\":1},\"geo\":{\"bgcolor\":\"white\",\"landcolor\":\"#E5ECF6\",\"subunitcolor\":\"white\",\"showland\":true,\"showlakes\":true,\"lakecolor\":\"white\"},\"title\":{\"x\":0.05},\"mapbox\":{\"style\":\"light\"}}},\"xaxis\":{\"anchor\":\"y\",\"domain\":[0.0,0.45]},\"yaxis\":{\"anchor\":\"x\",\"domain\":[0.625,1.0],\"showticklabels\":false},\"xaxis2\":{\"anchor\":\"y2\",\"domain\":[0.55,1.0]},\"yaxis2\":{\"anchor\":\"x2\",\"domain\":[0.625,1.0],\"showticklabels\":false},\"xaxis3\":{\"anchor\":\"y3\",\"domain\":[0.0,0.45]},\"yaxis3\":{\"anchor\":\"x3\",\"domain\":[0.0,0.375],\"showticklabels\":false},\"xaxis4\":{\"anchor\":\"y4\",\"domain\":[0.55,1.0]},\"yaxis4\":{\"anchor\":\"x4\",\"domain\":[0.0,0.375],\"showticklabels\":false},\"annotations\":[{\"font\":{\"size\":16},\"showarrow\":false,\"text\":\"Soft skills Analyst\",\"x\":0.225,\"xanchor\":\"center\",\"xref\":\"paper\",\"y\":1.0,\"yanchor\":\"bottom\",\"yref\":\"paper\"},{\"font\":{\"size\":16},\"showarrow\":false,\"text\":\"Soft skills DS\",\"x\":0.775,\"xanchor\":\"center\",\"xref\":\"paper\",\"y\":1.0,\"yanchor\":\"bottom\",\"yref\":\"paper\"},{\"font\":{\"size\":16},\"showarrow\":false,\"text\":\"Hard skills Analyst\",\"x\":0.225,\"xanchor\":\"center\",\"xref\":\"paper\",\"y\":0.375,\"yanchor\":\"bottom\",\"yref\":\"paper\"},{\"font\":{\"size\":16},\"showarrow\":false,\"text\":\"Hard skills DS\",\"x\":0.775,\"xanchor\":\"center\",\"xref\":\"paper\",\"y\":0.375,\"yanchor\":\"bottom\",\"yref\":\"paper\"}],\"title\":{\"text\":\"\\u0422\\u043e\\u043f \\u043d\\u0430\\u0432\\u044b\\u043a\\u043e\\u0432 \\u0434\\u043b\\u044f \\u0433\\u0440\\u0435\\u0439\\u0434\\u0430 Middle (3-6 years)\"},\"height\":1000,\"width\":1500,\"showlegend\":false},                        {\"responsive\": true}                    ).then(function(){\n",
              "                            \n",
              "var gd = document.getElementById('2114eb65-6a5c-4ac0-b672-c305f3462653');\n",
              "var x = new MutationObserver(function (mutations, observer) {{\n",
              "        var display = window.getComputedStyle(gd).display;\n",
              "        if (!display || display === 'none') {{\n",
              "            console.log([gd, 'removed!']);\n",
              "            Plotly.purge(gd);\n",
              "            observer.disconnect();\n",
              "        }}\n",
              "}});\n",
              "\n",
              "// Listen for the removal of the full notebook cells\n",
              "var notebookContainer = gd.closest('#notebook-container');\n",
              "if (notebookContainer) {{\n",
              "    x.observe(notebookContainer, {childList: true});\n",
              "}}\n",
              "\n",
              "// Listen for the clearing of the current output cell\n",
              "var outputEl = gd.closest('.output');\n",
              "if (outputEl) {{\n",
              "    x.observe(outputEl, {childList: true});\n",
              "}}\n",
              "\n",
              "                        })                };                            </script>        </div>\n",
              "</body>\n",
              "</html>"
            ]
          },
          "metadata": {}
        },
        {
          "output_type": "display_data",
          "data": {
            "text/html": [
              "<html>\n",
              "<head><meta charset=\"utf-8\" /></head>\n",
              "<body>\n",
              "    <div>            <script src=\"https://cdnjs.cloudflare.com/ajax/libs/mathjax/2.7.5/MathJax.js?config=TeX-AMS-MML_SVG\"></script><script type=\"text/javascript\">if (window.MathJax && window.MathJax.Hub && window.MathJax.Hub.Config) {window.MathJax.Hub.Config({SVG: {font: \"STIX-Web\"}});}</script>                <script type=\"text/javascript\">window.PlotlyConfig = {MathJaxConfig: 'local'};</script>\n",
              "        <script charset=\"utf-8\" src=\"https://cdn.plot.ly/plotly-2.24.1.min.js\"></script>                <div id=\"f5739911-080f-4727-8e2a-391de95c6a0f\" class=\"plotly-graph-div\" style=\"height:1000px; width:1500px;\"></div>            <script type=\"text/javascript\">                                    window.PLOTLYENV=window.PLOTLYENV || {};                                    if (document.getElementById(\"f5739911-080f-4727-8e2a-391de95c6a0f\")) {                    Plotly.newPlot(                        \"f5739911-080f-4727-8e2a-391de95c6a0f\",                        [{\"marker\":{\"color\":[\"rgb(34, 253, 4)\",\"rgb(127, 245, 220)\",\"rgb(17, 42, 100)\",\"rgb(204, 164, 104)\",\"rgb(2, 140, 38)\",\"rgb(113, 150, 96)\",\"rgb(124, 64, 235)\",\"rgb(116, 232, 0)\",\"rgb(79, 190, 239)\"]},\"text\":[\"11%\",\"11%\",\"11%\",\"11%\",\"11%\",\"11%\",\"11%\",\"11%\",\"11%\"],\"x\":[\"\\u0430\\u043d\\u0430\\u043b\\u0438\\u0442\\u0438\\u0447\\u0435\\u0441\\u043a\\u0438\\u0435 \\u0438\\u0441\\u0441\\u043b\\u0435\\u0434\\u043e\\u0432\\u0430\\u043d\\u0438\\u044f\",\"\\u0430\\u043d\\u0430\\u043b\\u0438\\u0442\\u0438\\u0447\\u0435\\u0441\\u043a\\u043e\\u0435 \\u043c\\u044b\\u0448\\u043b\\u0435\\u043d\\u0438\\u0435\",\"\\u0430\\u043d\\u0433\\u043b\\u0438\\u0439\\u0441\\u043a\\u0438\\u0439 \\u044f\\u0437\\u044b\\u043a\",\"\\u0432\\u043d\\u0438\\u043c\\u0430\\u043d\\u0438\\u0435 \\u043a \\u0434\\u0435\\u0442\\u0430\\u043b\\u044f\\u043c\",\"\\u0434\\u043e\\u043a\\u0443\\u043c\\u0435\\u043d\\u0442\\u0430\\u0446\\u0438\\u044f\",\"\\u043a\\u043e\\u043c\\u043c\\u0443\\u043d\\u0438\\u043a\\u0430\\u0446\\u0438\\u044f\",\"\\u043f\\u0440\\u0435\\u0437\\u0435\\u043d\\u0442\\u0430\\u0446\\u0438\\u044f \\u0440\\u0435\\u0437\\u0443\\u043b\\u044c\\u0442\\u0430\\u0442\\u043e\\u0432\",\"\\u043f\\u0440\\u043e\\u0430\\u043a\\u0442\\u0438\\u0432\\u043d\\u043e\\u0441\\u0442\\u044c\",\"\\u0440\\u0435\\u0448\\u0435\\u043d\\u0438\\u0435 \\u043f\\u0440\\u043e\\u0431\\u043b\\u0435\\u043c\"],\"y\":[11.1,11.1,11.1,11.1,11.1,11.1,11.1,11.1,11.1],\"type\":\"bar\",\"xaxis\":\"x\",\"yaxis\":\"y\"},{\"marker\":{\"color\":[\"rgb(2, 140, 38)\",\"rgb(17, 42, 100)\",\"rgb(113, 150, 96)\",\"rgb(124, 64, 235)\",\"rgb(189, 178, 239)\"]},\"text\":[\"33%\",\"22%\",\"22%\",\"11%\",\"11%\"],\"x\":[\"\\u0434\\u043e\\u043a\\u0443\\u043c\\u0435\\u043d\\u0442\\u0430\\u0446\\u0438\\u044f\",\"\\u0430\\u043d\\u0433\\u043b\\u0438\\u0439\\u0441\\u043a\\u0438\\u0439 \\u044f\\u0437\\u044b\\u043a\",\"\\u043a\\u043e\\u043c\\u043c\\u0443\\u043d\\u0438\\u043a\\u0430\\u0446\\u0438\\u044f\",\"\\u043f\\u0440\\u0435\\u0437\\u0435\\u043d\\u0442\\u0430\\u0446\\u0438\\u044f \\u0440\\u0435\\u0437\\u0443\\u043b\\u044c\\u0442\\u0430\\u0442\\u043e\\u0432\",\"\\u043f\\u0440\\u0438\\u043d\\u044f\\u0442\\u0438\\u0435 \\u0440\\u0435\\u0448\\u0435\\u043d\\u0438\\u0439\"],\"y\":[33.3,22.2,22.2,11.1,11.1],\"type\":\"bar\",\"xaxis\":\"x2\",\"yaxis\":\"y2\"},{\"marker\":{\"color\":[\"rgb(111, 243, 14)\",\"rgb(255, 8, 105)\",\"rgb(46, 238, 209)\",\"rgb(105, 65, 132)\",\"rgb(168, 175, 176)\",\"rgb(33, 122, 108)\",\"rgb(189, 16, 92)\",\"rgb(49, 3, 235)\",\"rgb(65, 5, 154)\",\"rgb(233, 233, 224)\",\"rgb(103, 18, 249)\",\"rgb(141, 132, 46)\",\"rgb(56, 89, 145)\",\"rgb(107, 42, 153)\",\"rgb(40, 39, 20)\"]},\"text\":[\"16%\",\"16%\",\"5%\",\"5%\",\"5%\",\"5%\",\"5%\",\"5%\",\"5%\",\"5%\",\"5%\",\"5%\",\"5%\",\"5%\",\"5%\"],\"x\":[\"python\",\"sql\",\"\\u0441\\u0442\\u0430\\u0442\\u0438\\u0441\\u0442\\u0438\\u0447\\u0435\\u0441\\u043a\\u0438\\u0439 \\u0430\\u043d\\u0430\\u043b\\u0438\\u0437\",\"\\u0441\\u0442\\u0430\\u0442\\u0438\\u0441\\u0442\\u0438\\u043a\\u0430\",\"\\u043f\\u0440\\u043e\\u0433\\u043d\\u043e\\u0437\\u0438\\u0440\\u043e\\u0432\\u0430\\u043d\\u0438\\u0435\",\"\\u0431\\u0438\\u0437\\u043d\\u0435\\u0441-\\u0430\\u043d\\u0430\\u043b\\u0438\\u0437\",\"\\u0430\\u043d\\u0430\\u043b\\u0438\\u0437 \\u0440\\u044b\\u043d\\u043a\\u0430\",\"tableau\",\"a\\u002fb \\u0442\\u0435\\u0441\\u0442\\u044b\",\"analysis\",\"power bi\",\"pandas\",\"eda\",\"data warehousing\",\"data analysis\"],\"y\":[15.8,15.8,5.3,5.3,5.3,5.3,5.3,5.3,5.3,5.3,5.3,5.3,5.3,5.3,5.3],\"type\":\"bar\",\"xaxis\":\"x3\",\"yaxis\":\"y3\"},{\"marker\":{\"color\":[\"rgb(111, 243, 14)\",\"rgb(141, 132, 46)\",\"rgb(22, 100, 202)\",\"rgb(255, 8, 105)\",\"rgb(73, 198, 214)\",\"rgb(98, 99, 176)\",\"rgb(183, 252, 13)\",\"rgb(158, 4, 18)\",\"rgb(124, 120, 216)\",\"rgb(41, 145, 112)\",\"rgb(9, 253, 52)\",\"rgb(65, 5, 154)\",\"rgb(224, 14, 75)\",\"rgb(144, 182, 192)\",\"rgb(222, 53, 116)\"]},\"text\":[\"18%\",\"12%\",\"10%\",\"8%\",\"6%\",\"6%\",\"6%\",\"6%\",\"6%\",\"4%\",\"4%\",\"4%\",\"4%\",\"4%\",\"4%\"],\"x\":[\"python\",\"pandas\",\"ml\",\"sql\",\"scikit-learn\",\"\\u0443\\u043f\\u0440\\u0430\\u0432\\u043b\\u0435\\u043d\\u0438\\u0435 \\u043a\\u043e\\u043c\\u0430\\u043d\\u0434\\u043e\\u0439\",\"\\u0430\\u043d\\u0430\\u043b\\u0438\\u0437 \\u0434\\u0430\\u043d\\u043d\\u044b\\u0445\",\"pytorch\",\"data science\",\"recsys\",\"machine learning\",\"a\\u002fb \\u0442\\u0435\\u0441\\u0442\\u044b\",\"linux\",\"spark\",\"tensorflow\"],\"y\":[17.6,11.8,9.8,7.8,5.9,5.9,5.9,5.9,5.9,3.9,3.9,3.9,3.9,3.9,3.9],\"type\":\"bar\",\"xaxis\":\"x4\",\"yaxis\":\"y4\"}],                        {\"template\":{\"data\":{\"histogram2dcontour\":[{\"type\":\"histogram2dcontour\",\"colorbar\":{\"outlinewidth\":0,\"ticks\":\"\"},\"colorscale\":[[0.0,\"#0d0887\"],[0.1111111111111111,\"#46039f\"],[0.2222222222222222,\"#7201a8\"],[0.3333333333333333,\"#9c179e\"],[0.4444444444444444,\"#bd3786\"],[0.5555555555555556,\"#d8576b\"],[0.6666666666666666,\"#ed7953\"],[0.7777777777777778,\"#fb9f3a\"],[0.8888888888888888,\"#fdca26\"],[1.0,\"#f0f921\"]]}],\"choropleth\":[{\"type\":\"choropleth\",\"colorbar\":{\"outlinewidth\":0,\"ticks\":\"\"}}],\"histogram2d\":[{\"type\":\"histogram2d\",\"colorbar\":{\"outlinewidth\":0,\"ticks\":\"\"},\"colorscale\":[[0.0,\"#0d0887\"],[0.1111111111111111,\"#46039f\"],[0.2222222222222222,\"#7201a8\"],[0.3333333333333333,\"#9c179e\"],[0.4444444444444444,\"#bd3786\"],[0.5555555555555556,\"#d8576b\"],[0.6666666666666666,\"#ed7953\"],[0.7777777777777778,\"#fb9f3a\"],[0.8888888888888888,\"#fdca26\"],[1.0,\"#f0f921\"]]}],\"heatmap\":[{\"type\":\"heatmap\",\"colorbar\":{\"outlinewidth\":0,\"ticks\":\"\"},\"colorscale\":[[0.0,\"#0d0887\"],[0.1111111111111111,\"#46039f\"],[0.2222222222222222,\"#7201a8\"],[0.3333333333333333,\"#9c179e\"],[0.4444444444444444,\"#bd3786\"],[0.5555555555555556,\"#d8576b\"],[0.6666666666666666,\"#ed7953\"],[0.7777777777777778,\"#fb9f3a\"],[0.8888888888888888,\"#fdca26\"],[1.0,\"#f0f921\"]]}],\"heatmapgl\":[{\"type\":\"heatmapgl\",\"colorbar\":{\"outlinewidth\":0,\"ticks\":\"\"},\"colorscale\":[[0.0,\"#0d0887\"],[0.1111111111111111,\"#46039f\"],[0.2222222222222222,\"#7201a8\"],[0.3333333333333333,\"#9c179e\"],[0.4444444444444444,\"#bd3786\"],[0.5555555555555556,\"#d8576b\"],[0.6666666666666666,\"#ed7953\"],[0.7777777777777778,\"#fb9f3a\"],[0.8888888888888888,\"#fdca26\"],[1.0,\"#f0f921\"]]}],\"contourcarpet\":[{\"type\":\"contourcarpet\",\"colorbar\":{\"outlinewidth\":0,\"ticks\":\"\"}}],\"contour\":[{\"type\":\"contour\",\"colorbar\":{\"outlinewidth\":0,\"ticks\":\"\"},\"colorscale\":[[0.0,\"#0d0887\"],[0.1111111111111111,\"#46039f\"],[0.2222222222222222,\"#7201a8\"],[0.3333333333333333,\"#9c179e\"],[0.4444444444444444,\"#bd3786\"],[0.5555555555555556,\"#d8576b\"],[0.6666666666666666,\"#ed7953\"],[0.7777777777777778,\"#fb9f3a\"],[0.8888888888888888,\"#fdca26\"],[1.0,\"#f0f921\"]]}],\"surface\":[{\"type\":\"surface\",\"colorbar\":{\"outlinewidth\":0,\"ticks\":\"\"},\"colorscale\":[[0.0,\"#0d0887\"],[0.1111111111111111,\"#46039f\"],[0.2222222222222222,\"#7201a8\"],[0.3333333333333333,\"#9c179e\"],[0.4444444444444444,\"#bd3786\"],[0.5555555555555556,\"#d8576b\"],[0.6666666666666666,\"#ed7953\"],[0.7777777777777778,\"#fb9f3a\"],[0.8888888888888888,\"#fdca26\"],[1.0,\"#f0f921\"]]}],\"mesh3d\":[{\"type\":\"mesh3d\",\"colorbar\":{\"outlinewidth\":0,\"ticks\":\"\"}}],\"scatter\":[{\"fillpattern\":{\"fillmode\":\"overlay\",\"size\":10,\"solidity\":0.2},\"type\":\"scatter\"}],\"parcoords\":[{\"type\":\"parcoords\",\"line\":{\"colorbar\":{\"outlinewidth\":0,\"ticks\":\"\"}}}],\"scatterpolargl\":[{\"type\":\"scatterpolargl\",\"marker\":{\"colorbar\":{\"outlinewidth\":0,\"ticks\":\"\"}}}],\"bar\":[{\"error_x\":{\"color\":\"#2a3f5f\"},\"error_y\":{\"color\":\"#2a3f5f\"},\"marker\":{\"line\":{\"color\":\"#E5ECF6\",\"width\":0.5},\"pattern\":{\"fillmode\":\"overlay\",\"size\":10,\"solidity\":0.2}},\"type\":\"bar\"}],\"scattergeo\":[{\"type\":\"scattergeo\",\"marker\":{\"colorbar\":{\"outlinewidth\":0,\"ticks\":\"\"}}}],\"scatterpolar\":[{\"type\":\"scatterpolar\",\"marker\":{\"colorbar\":{\"outlinewidth\":0,\"ticks\":\"\"}}}],\"histogram\":[{\"marker\":{\"pattern\":{\"fillmode\":\"overlay\",\"size\":10,\"solidity\":0.2}},\"type\":\"histogram\"}],\"scattergl\":[{\"type\":\"scattergl\",\"marker\":{\"colorbar\":{\"outlinewidth\":0,\"ticks\":\"\"}}}],\"scatter3d\":[{\"type\":\"scatter3d\",\"line\":{\"colorbar\":{\"outlinewidth\":0,\"ticks\":\"\"}},\"marker\":{\"colorbar\":{\"outlinewidth\":0,\"ticks\":\"\"}}}],\"scattermapbox\":[{\"type\":\"scattermapbox\",\"marker\":{\"colorbar\":{\"outlinewidth\":0,\"ticks\":\"\"}}}],\"scatterternary\":[{\"type\":\"scatterternary\",\"marker\":{\"colorbar\":{\"outlinewidth\":0,\"ticks\":\"\"}}}],\"scattercarpet\":[{\"type\":\"scattercarpet\",\"marker\":{\"colorbar\":{\"outlinewidth\":0,\"ticks\":\"\"}}}],\"carpet\":[{\"aaxis\":{\"endlinecolor\":\"#2a3f5f\",\"gridcolor\":\"white\",\"linecolor\":\"white\",\"minorgridcolor\":\"white\",\"startlinecolor\":\"#2a3f5f\"},\"baxis\":{\"endlinecolor\":\"#2a3f5f\",\"gridcolor\":\"white\",\"linecolor\":\"white\",\"minorgridcolor\":\"white\",\"startlinecolor\":\"#2a3f5f\"},\"type\":\"carpet\"}],\"table\":[{\"cells\":{\"fill\":{\"color\":\"#EBF0F8\"},\"line\":{\"color\":\"white\"}},\"header\":{\"fill\":{\"color\":\"#C8D4E3\"},\"line\":{\"color\":\"white\"}},\"type\":\"table\"}],\"barpolar\":[{\"marker\":{\"line\":{\"color\":\"#E5ECF6\",\"width\":0.5},\"pattern\":{\"fillmode\":\"overlay\",\"size\":10,\"solidity\":0.2}},\"type\":\"barpolar\"}],\"pie\":[{\"automargin\":true,\"type\":\"pie\"}]},\"layout\":{\"autotypenumbers\":\"strict\",\"colorway\":[\"#636efa\",\"#EF553B\",\"#00cc96\",\"#ab63fa\",\"#FFA15A\",\"#19d3f3\",\"#FF6692\",\"#B6E880\",\"#FF97FF\",\"#FECB52\"],\"font\":{\"color\":\"#2a3f5f\"},\"hovermode\":\"closest\",\"hoverlabel\":{\"align\":\"left\"},\"paper_bgcolor\":\"white\",\"plot_bgcolor\":\"#E5ECF6\",\"polar\":{\"bgcolor\":\"#E5ECF6\",\"angularaxis\":{\"gridcolor\":\"white\",\"linecolor\":\"white\",\"ticks\":\"\"},\"radialaxis\":{\"gridcolor\":\"white\",\"linecolor\":\"white\",\"ticks\":\"\"}},\"ternary\":{\"bgcolor\":\"#E5ECF6\",\"aaxis\":{\"gridcolor\":\"white\",\"linecolor\":\"white\",\"ticks\":\"\"},\"baxis\":{\"gridcolor\":\"white\",\"linecolor\":\"white\",\"ticks\":\"\"},\"caxis\":{\"gridcolor\":\"white\",\"linecolor\":\"white\",\"ticks\":\"\"}},\"coloraxis\":{\"colorbar\":{\"outlinewidth\":0,\"ticks\":\"\"}},\"colorscale\":{\"sequential\":[[0.0,\"#0d0887\"],[0.1111111111111111,\"#46039f\"],[0.2222222222222222,\"#7201a8\"],[0.3333333333333333,\"#9c179e\"],[0.4444444444444444,\"#bd3786\"],[0.5555555555555556,\"#d8576b\"],[0.6666666666666666,\"#ed7953\"],[0.7777777777777778,\"#fb9f3a\"],[0.8888888888888888,\"#fdca26\"],[1.0,\"#f0f921\"]],\"sequentialminus\":[[0.0,\"#0d0887\"],[0.1111111111111111,\"#46039f\"],[0.2222222222222222,\"#7201a8\"],[0.3333333333333333,\"#9c179e\"],[0.4444444444444444,\"#bd3786\"],[0.5555555555555556,\"#d8576b\"],[0.6666666666666666,\"#ed7953\"],[0.7777777777777778,\"#fb9f3a\"],[0.8888888888888888,\"#fdca26\"],[1.0,\"#f0f921\"]],\"diverging\":[[0,\"#8e0152\"],[0.1,\"#c51b7d\"],[0.2,\"#de77ae\"],[0.3,\"#f1b6da\"],[0.4,\"#fde0ef\"],[0.5,\"#f7f7f7\"],[0.6,\"#e6f5d0\"],[0.7,\"#b8e186\"],[0.8,\"#7fbc41\"],[0.9,\"#4d9221\"],[1,\"#276419\"]]},\"xaxis\":{\"gridcolor\":\"white\",\"linecolor\":\"white\",\"ticks\":\"\",\"title\":{\"standoff\":15},\"zerolinecolor\":\"white\",\"automargin\":true,\"zerolinewidth\":2},\"yaxis\":{\"gridcolor\":\"white\",\"linecolor\":\"white\",\"ticks\":\"\",\"title\":{\"standoff\":15},\"zerolinecolor\":\"white\",\"automargin\":true,\"zerolinewidth\":2},\"scene\":{\"xaxis\":{\"backgroundcolor\":\"#E5ECF6\",\"gridcolor\":\"white\",\"linecolor\":\"white\",\"showbackground\":true,\"ticks\":\"\",\"zerolinecolor\":\"white\",\"gridwidth\":2},\"yaxis\":{\"backgroundcolor\":\"#E5ECF6\",\"gridcolor\":\"white\",\"linecolor\":\"white\",\"showbackground\":true,\"ticks\":\"\",\"zerolinecolor\":\"white\",\"gridwidth\":2},\"zaxis\":{\"backgroundcolor\":\"#E5ECF6\",\"gridcolor\":\"white\",\"linecolor\":\"white\",\"showbackground\":true,\"ticks\":\"\",\"zerolinecolor\":\"white\",\"gridwidth\":2}},\"shapedefaults\":{\"line\":{\"color\":\"#2a3f5f\"}},\"annotationdefaults\":{\"arrowcolor\":\"#2a3f5f\",\"arrowhead\":0,\"arrowwidth\":1},\"geo\":{\"bgcolor\":\"white\",\"landcolor\":\"#E5ECF6\",\"subunitcolor\":\"white\",\"showland\":true,\"showlakes\":true,\"lakecolor\":\"white\"},\"title\":{\"x\":0.05},\"mapbox\":{\"style\":\"light\"}}},\"xaxis\":{\"anchor\":\"y\",\"domain\":[0.0,0.45]},\"yaxis\":{\"anchor\":\"x\",\"domain\":[0.625,1.0],\"showticklabels\":false},\"xaxis2\":{\"anchor\":\"y2\",\"domain\":[0.55,1.0]},\"yaxis2\":{\"anchor\":\"x2\",\"domain\":[0.625,1.0],\"showticklabels\":false},\"xaxis3\":{\"anchor\":\"y3\",\"domain\":[0.0,0.45]},\"yaxis3\":{\"anchor\":\"x3\",\"domain\":[0.0,0.375],\"showticklabels\":false},\"xaxis4\":{\"anchor\":\"y4\",\"domain\":[0.55,1.0]},\"yaxis4\":{\"anchor\":\"x4\",\"domain\":[0.0,0.375],\"showticklabels\":false},\"annotations\":[{\"font\":{\"size\":16},\"showarrow\":false,\"text\":\"Soft skills Analyst\",\"x\":0.225,\"xanchor\":\"center\",\"xref\":\"paper\",\"y\":1.0,\"yanchor\":\"bottom\",\"yref\":\"paper\"},{\"font\":{\"size\":16},\"showarrow\":false,\"text\":\"Soft skills DS\",\"x\":0.775,\"xanchor\":\"center\",\"xref\":\"paper\",\"y\":1.0,\"yanchor\":\"bottom\",\"yref\":\"paper\"},{\"font\":{\"size\":16},\"showarrow\":false,\"text\":\"Hard skills Analyst\",\"x\":0.225,\"xanchor\":\"center\",\"xref\":\"paper\",\"y\":0.375,\"yanchor\":\"bottom\",\"yref\":\"paper\"},{\"font\":{\"size\":16},\"showarrow\":false,\"text\":\"Hard skills DS\",\"x\":0.775,\"xanchor\":\"center\",\"xref\":\"paper\",\"y\":0.375,\"yanchor\":\"bottom\",\"yref\":\"paper\"}],\"title\":{\"text\":\"\\u0422\\u043e\\u043f \\u043d\\u0430\\u0432\\u044b\\u043a\\u043e\\u0432 \\u0434\\u043b\\u044f \\u0433\\u0440\\u0435\\u0439\\u0434\\u0430 Senior (6+ years)\"},\"height\":1000,\"width\":1500,\"showlegend\":false},                        {\"responsive\": true}                    ).then(function(){\n",
              "                            \n",
              "var gd = document.getElementById('f5739911-080f-4727-8e2a-391de95c6a0f');\n",
              "var x = new MutationObserver(function (mutations, observer) {{\n",
              "        var display = window.getComputedStyle(gd).display;\n",
              "        if (!display || display === 'none') {{\n",
              "            console.log([gd, 'removed!']);\n",
              "            Plotly.purge(gd);\n",
              "            observer.disconnect();\n",
              "        }}\n",
              "}});\n",
              "\n",
              "// Listen for the removal of the full notebook cells\n",
              "var notebookContainer = gd.closest('#notebook-container');\n",
              "if (notebookContainer) {{\n",
              "    x.observe(notebookContainer, {childList: true});\n",
              "}}\n",
              "\n",
              "// Listen for the clearing of the current output cell\n",
              "var outputEl = gd.closest('.output');\n",
              "if (outputEl) {{\n",
              "    x.observe(outputEl, {childList: true});\n",
              "}}\n",
              "\n",
              "                        })                };                            </script>        </div>\n",
              "</body>\n",
              "</html>"
            ]
          },
          "metadata": {}
        }
      ]
    },
    {
      "cell_type": "markdown",
      "source": [
        "**Вывод:** Основные hard skills для аналитиков и специалистов Data Science включают Python и SQL. Работодатели ищут аналитиков Junior, способных аналитически мыслить и общаться, а также специалистов Data Science, умеющих работать с документацией и владеющих английским языком.\n",
        "\n",
        "Для аналитиков Junior важными hard skills являются SQL, Python, и Pandas. Специалисты Data Science должны владеть Python, Machine Learning, технологиями работы с большими данными и математикой. Навык владения Machine Learning для Junior+ Data Science специалистов находится на четвёртом месте, а на первом месте — Pandas.\n",
        "\n",
        "Soft skills для аналитиков Junior+ включают владение английским языком, умение проводить аналитические исследования и обладать аналитическим мышлением. Senior аналитики должны также уметь прогнозировать. От специалистов Data Science уровня Senior ожидают умения презентовать результаты и принимать решения. Senior аналитики должны обладать вниманием к деталям."
      ],
      "metadata": {
        "id": "_3ywkAhhT7tp"
      }
    },
    {
      "cell_type": "code",
      "source": [
        "graids = data_da['experience'].sort_values().unique().tolist()\n",
        "\n",
        "fig = make_subplots(\n",
        "    rows=2, cols=4,\n",
        "    horizontal_spacing = 0.1,\n",
        "    subplot_titles=['Аналитик ' + grade for grade in graids] + ['Data Scientist ' + grade for grade in graids]\n",
        "    )\n",
        "\n",
        "for i, grade in enumerate(graids):\n",
        "  da_skills = get_soft_hard_skills(data_da, grade, False, 30).sort_values(by='count')\n",
        "  ds_skills = get_soft_hard_skills(data_ds, grade, False, 30).sort_values(by='count')\n",
        "\n",
        "  colors = ds_skills.merge(da_skills, on='skill', how='inner')\n",
        "  colors['color'] = colors['skill'].apply(lambda x: '#FF7E09')\n",
        "\n",
        "  da_skills['color'] = da_skills['skill'].map(colors.set_index('skill')['color']).fillna('#B5D4FF')\n",
        "  ds_skills['color'] = ds_skills['skill'].map(colors.set_index('skill')['color']).fillna('#B5D4FF')\n",
        "\n",
        "  fig.add_trace(go.Bar(x=count_percentage(da_skills), y=da_skills['skill'], marker_color=da_skills['color'], text=make_percent(da_skills), orientation='h'),\n",
        "                  row=1, col=1+i)\n",
        "\n",
        "  fig.add_trace(go.Bar(x=count_percentage(ds_skills), y=ds_skills['skill'], marker_color=ds_skills['color'], text=make_percent(ds_skills), orientation='h'),\n",
        "                  row=2, col=1+i)\n",
        "\n",
        "  fig.update_layout(title_text='Топ навыков по грейдам', showlegend=False, width=1800, height=900)\n",
        "\n",
        "fig.show()"
      ],
      "metadata": {
        "colab": {
          "base_uri": "https://localhost:8080/",
          "height": 937
        },
        "id": "LmLXASFbaF3x",
        "outputId": "092cbf46-7076-4a51-a9d8-a73964aff6da"
      },
      "execution_count": 45,
      "outputs": [
        {
          "output_type": "display_data",
          "data": {
            "text/html": [
              "<html>\n",
              "<head><meta charset=\"utf-8\" /></head>\n",
              "<body>\n",
              "    <div>            <script src=\"https://cdnjs.cloudflare.com/ajax/libs/mathjax/2.7.5/MathJax.js?config=TeX-AMS-MML_SVG\"></script><script type=\"text/javascript\">if (window.MathJax && window.MathJax.Hub && window.MathJax.Hub.Config) {window.MathJax.Hub.Config({SVG: {font: \"STIX-Web\"}});}</script>                <script type=\"text/javascript\">window.PlotlyConfig = {MathJaxConfig: 'local'};</script>\n",
              "        <script charset=\"utf-8\" src=\"https://cdn.plot.ly/plotly-2.24.1.min.js\"></script>                <div id=\"1bb8818f-012f-4ed0-93a7-ff564f0f6a8f\" class=\"plotly-graph-div\" style=\"height:900px; width:1800px;\"></div>            <script type=\"text/javascript\">                                    window.PLOTLYENV=window.PLOTLYENV || {};                                    if (document.getElementById(\"1bb8818f-012f-4ed0-93a7-ff564f0f6a8f\")) {                    Plotly.newPlot(                        \"1bb8818f-012f-4ed0-93a7-ff564f0f6a8f\",                        [{\"marker\":{\"color\":[\"#B5D4FF\",\"#B5D4FF\",\"#B5D4FF\",\"#B5D4FF\",\"#B5D4FF\",\"#B5D4FF\",\"#FF7E09\",\"#B5D4FF\",\"#B5D4FF\",\"#B5D4FF\",\"#B5D4FF\",\"#FF7E09\",\"#FF7E09\",\"#B5D4FF\",\"#FF7E09\"]},\"orientation\":\"h\",\"text\":[\"4%\",\"4%\",\"4%\",\"4%\",\"4%\",\"4%\",\"4%\",\"4%\",\"4%\",\"4%\",\"4%\",\"8%\",\"12%\",\"17%\",\"17%\"],\"x\":[4.2,4.2,4.2,4.2,4.2,4.2,4.2,4.2,4.2,4.2,4.2,8.3,12.5,16.7,16.7],\"y\":[\"airflow\",\"powerbi\",\"\\u0441\\u0442\\u0440\\u0443\\u043a\\u0442\\u0443\\u0440\\u044b \\u0434\\u0430\\u043d\\u043d\\u044b\\u0445\",\"\\u043c\\u0430\\u0442\\u0435\\u043c\\u0430\\u0442\\u0438\\u0447\\u0435\\u0441\\u043a\\u043e\\u0435 \\u043c\\u043e\\u0434\\u0435\\u043b\\u0438\\u0440\\u043e\\u0432\\u0430\\u043d\\u0438\\u0435\",\"\\u043a\\u043e\\u043c\\u043c\\u0443\\u043d\\u0438\\u043a\\u0430\\u0446\\u0438\\u044f\",\"\\u0430\\u043d\\u0430\\u043b\\u0438\\u0442\\u0438\\u043a\\u0430\",\"\\u0430\\u043d\\u0430\\u043b\\u0438\\u0437 \\u0434\\u0430\\u043d\\u043d\\u044b\\u0445\",\"sklearn\",\"power bi\",\"apache airflow\",\"numpy\",\"\\u0430\\u043d\\u0430\\u043b\\u0438\\u0442\\u0438\\u0447\\u0435\\u0441\\u043a\\u043e\\u0435 \\u043c\\u044b\\u0448\\u043b\\u0435\\u043d\\u0438\\u0435\",\"pandas\",\"sql\",\"python\"],\"type\":\"bar\",\"xaxis\":\"x\",\"yaxis\":\"y\"},{\"marker\":{\"color\":[\"#B5D4FF\",\"#B5D4FF\",\"#B5D4FF\",\"#B5D4FF\",\"#B5D4FF\",\"#FF7E09\",\"#FF7E09\",\"#B5D4FF\",\"#FF7E09\",\"#B5D4FF\",\"#B5D4FF\",\"#B5D4FF\",\"#B5D4FF\",\"#B5D4FF\",\"#FF7E09\"]},\"orientation\":\"h\",\"text\":[\"3%\",\"3%\",\"3%\",\"3%\",\"6%\",\"6%\",\"6%\",\"6%\",\"6%\",\"6%\",\"6%\",\"6%\",\"10%\",\"10%\",\"16%\"],\"x\":[3.2,3.2,3.2,3.2,6.5,6.5,6.5,6.5,6.5,6.5,6.5,6.5,9.7,9.7,16.1],\"y\":[\"it\",\"information technology\",\"public speaking\",\"git\",\"\\u043c\\u0430\\u0442\\u0435\\u043c\\u0430\\u0442\\u0438\\u0447\\u0435\\u0441\\u043a\\u0430\\u044f \\u0441\\u0442\\u0430\\u0442\\u0438\\u0441\\u0442\\u0438\\u043a\\u0430\",\"\\u0430\\u043d\\u0430\\u043b\\u0438\\u0442\\u0438\\u0447\\u0435\\u0441\\u043a\\u043e\\u0435 \\u043c\\u044b\\u0448\\u043b\\u0435\\u043d\\u0438\\u0435\",\"\\u0430\\u043d\\u0430\\u043b\\u0438\\u0437 \\u0434\\u0430\\u043d\\u043d\\u044b\\u0445\",\"confluence\",\"pandas\",\"ml\",\"big data\",\"data mining\",\"machine learning\",\"\\u0434\\u043e\\u043a\\u0443\\u043c\\u0435\\u043d\\u0442\\u0430\\u0446\\u0438\\u044f\",\"python\"],\"type\":\"bar\",\"xaxis\":\"x5\",\"yaxis\":\"y5\"},{\"marker\":{\"color\":[\"#B5D4FF\",\"#B5D4FF\",\"#FF7E09\",\"#B5D4FF\",\"#FF7E09\",\"#FF7E09\",\"#B5D4FF\",\"#FF7E09\",\"#B5D4FF\",\"#B5D4FF\",\"#B5D4FF\",\"#B5D4FF\",\"#FF7E09\",\"#FF7E09\",\"#FF7E09\"]},\"orientation\":\"h\",\"text\":[\"3%\",\"3%\",\"3%\",\"3%\",\"4%\",\"4%\",\"4%\",\"5%\",\"5%\",\"5%\",\"7%\",\"8%\",\"10%\",\"15%\",\"21%\"],\"x\":[2.7,2.9,3.1,3.1,3.6,4.0,4.0,4.9,5.2,5.4,7.2,8.1,9.9,14.6,21.3],\"y\":[\"tableau\",\"\\u0440\\u0430\\u0431\\u043e\\u0442\\u0430 \\u0441 \\u0431\\u0430\\u0437\\u0430\\u043c\\u0438 \\u0434\\u0430\\u043d\\u043d\\u044b\\u0445\",\"confluence\",\"ms excel\",\"\\u043c\\u0430\\u0442\\u0435\\u043c\\u0430\\u0442\\u0438\\u0447\\u0435\\u0441\\u043a\\u0430\\u044f \\u0441\\u0442\\u0430\\u0442\\u0438\\u0441\\u0442\\u0438\\u043a\\u0430\",\"\\u043a\\u043e\\u043c\\u043c\\u0443\\u043d\\u0438\\u043a\\u0430\\u0446\\u0438\\u044f\",\"\\u0430\\u043d\\u0430\\u043b\\u0438\\u0442\\u0438\\u043a\\u0430\",\"\\u0434\\u043e\\u043a\\u0443\\u043c\\u0435\\u043d\\u0442\\u0430\\u0446\\u0438\\u044f\",\"power bi\",\"data analysis\",\"\\u0430\\u043d\\u0430\\u043b\\u0438\\u0442\\u0438\\u0447\\u0435\\u0441\\u043a\\u043e\\u0435 \\u043c\\u044b\\u0448\\u043b\\u0435\\u043d\\u0438\\u0435\",\"\\u0430\\u043d\\u0430\\u043b\\u0438\\u0437 \\u0434\\u0430\\u043d\\u043d\\u044b\\u0445\",\"pandas\",\"python\",\"sql\"],\"type\":\"bar\",\"xaxis\":\"x2\",\"yaxis\":\"y2\"},{\"marker\":{\"color\":[\"#B5D4FF\",\"#B5D4FF\",\"#B5D4FF\",\"#FF7E09\",\"#B5D4FF\",\"#B5D4FF\",\"#B5D4FF\",\"#B5D4FF\",\"#FF7E09\",\"#FF7E09\",\"#B5D4FF\",\"#FF7E09\",\"#FF7E09\",\"#FF7E09\",\"#FF7E09\"]},\"orientation\":\"h\",\"text\":[\"3%\",\"3%\",\"3%\",\"4%\",\"4%\",\"4%\",\"4%\",\"4%\",\"4%\",\"4%\",\"6%\",\"7%\",\"13%\",\"19%\",\"20%\"],\"x\":[3.0,3.1,3.1,3.5,3.5,3.5,3.9,3.9,4.1,4.1,5.8,6.6,13.0,18.6,20.4],\"y\":[\"\\u043c\\u0430\\u0442\\u0435\\u043c\\u0430\\u0442\\u0438\\u0447\\u0435\\u0441\\u043a\\u043e\\u0435 \\u043c\\u043e\\u0434\\u0435\\u043b\\u0438\\u0440\\u043e\\u0432\\u0430\\u043d\\u0438\\u0435\",\"big data\",\"nlp\",\"\\u043c\\u0430\\u0442\\u0435\\u043c\\u0430\\u0442\\u0438\\u0447\\u0435\\u0441\\u043a\\u0430\\u044f \\u0441\\u0442\\u0430\\u0442\\u0438\\u0441\\u0442\\u0438\\u043a\\u0430\",\"data science\",\"pytorch\",\"ml\",\"\\u044e\\u043d\\u0438\\u0442-\\u044d\\u043a\\u043e\\u043d\\u043e\\u043c\\u0438\\u043a\\u0430\",\"confluence\",\"\\u043a\\u043e\\u043c\\u043c\\u0443\\u043d\\u0438\\u043a\\u0430\\u0446\\u0438\\u044f\",\"machine learning\",\"\\u0434\\u043e\\u043a\\u0443\\u043c\\u0435\\u043d\\u0442\\u0430\\u0446\\u0438\\u044f\",\"sql\",\"python\",\"pandas\"],\"type\":\"bar\",\"xaxis\":\"x6\",\"yaxis\":\"y6\"},{\"marker\":{\"color\":[\"#B5D4FF\",\"#B5D4FF\",\"#B5D4FF\",\"#B5D4FF\",\"#B5D4FF\",\"#FF7E09\",\"#FF7E09\",\"#B5D4FF\",\"#FF7E09\",\"#B5D4FF\",\"#FF7E09\",\"#FF7E09\",\"#B5D4FF\",\"#FF7E09\",\"#FF7E09\"]},\"orientation\":\"h\",\"text\":[\"2%\",\"2%\",\"3%\",\"4%\",\"4%\",\"4%\",\"4%\",\"5%\",\"5%\",\"5%\",\"7%\",\"10%\",\"10%\",\"17%\",\"18%\"],\"x\":[2.3,2.3,3.0,4.0,4.0,4.4,4.4,4.7,4.7,5.4,6.7,9.7,9.7,16.8,17.8],\"y\":[\"clickhouse\",\"\\u0430\\u043d\\u0430\\u043b\\u0438\\u0442\\u0438\\u0447\\u0435\\u0441\\u043a\\u043e\\u0435 \\u043c\\u044b\\u0448\\u043b\\u0435\\u043d\\u0438\\u0435\",\"tableau\",\"postgresql\",\"a\\u002fb \\u0442\\u0435\\u0441\\u0442\\u044b\",\"confluence\",\"big data\",\"power bi\",\"\\u043a\\u043e\\u043c\\u043c\\u0443\\u043d\\u0438\\u043a\\u0430\\u0446\\u0438\\u044f\",\"\\u0430\\u043d\\u0430\\u043b\\u0438\\u0437 \\u0434\\u0430\\u043d\\u043d\\u044b\\u0445\",\"\\u0434\\u043e\\u043a\\u0443\\u043c\\u0435\\u043d\\u0442\\u0430\\u0446\\u0438\\u044f\",\"pandas\",\"data analysis\",\"sql\",\"python\"],\"type\":\"bar\",\"xaxis\":\"x3\",\"yaxis\":\"y3\"},{\"marker\":{\"color\":[\"#B5D4FF\",\"#B5D4FF\",\"#B5D4FF\",\"#FF7E09\",\"#B5D4FF\",\"#FF7E09\",\"#B5D4FF\",\"#FF7E09\",\"#B5D4FF\",\"#B5D4FF\",\"#B5D4FF\",\"#FF7E09\",\"#FF7E09\",\"#FF7E09\",\"#FF7E09\"]},\"orientation\":\"h\",\"text\":[\"3%\",\"3%\",\"3%\",\"3%\",\"4%\",\"4%\",\"4%\",\"6%\",\"6%\",\"6%\",\"7%\",\"8%\",\"10%\",\"15%\",\"20%\"],\"x\":[2.8,2.9,2.9,2.9,3.8,3.8,3.8,5.5,5.7,6.2,7.3,7.7,10.1,14.6,20.0],\"y\":[\"docker\",\"spark\",\"hadoop\",\"big data\",\"nlp\",\"confluence\",\"pytorch\",\"\\u043a\\u043e\\u043c\\u043c\\u0443\\u043d\\u0438\\u043a\\u0430\\u0446\\u0438\\u044f\",\"data science\",\"ml\",\"machine learning\",\"\\u0434\\u043e\\u043a\\u0443\\u043c\\u0435\\u043d\\u0442\\u0430\\u0446\\u0438\\u044f\",\"sql\",\"pandas\",\"python\"],\"type\":\"bar\",\"xaxis\":\"x7\",\"yaxis\":\"y7\"},{\"marker\":{\"color\":[\"#B5D4FF\",\"#B5D4FF\",\"#B5D4FF\",\"#B5D4FF\",\"#B5D4FF\",\"#B5D4FF\",\"#B5D4FF\",\"#B5D4FF\",\"#B5D4FF\",\"#FF7E09\",\"#B5D4FF\",\"#B5D4FF\",\"#B5D4FF\",\"#FF7E09\",\"#FF7E09\"]},\"orientation\":\"h\",\"text\":[\"5%\",\"5%\",\"5%\",\"5%\",\"5%\",\"5%\",\"5%\",\"5%\",\"5%\",\"5%\",\"5%\",\"5%\",\"5%\",\"16%\",\"16%\"],\"x\":[5.3,5.3,5.3,5.3,5.3,5.3,5.3,5.3,5.3,5.3,5.3,5.3,5.3,15.8,15.8],\"y\":[\"a\\u002fb \\u0442\\u0435\\u0441\\u0442\\u044b\",\"\\u0430\\u043d\\u0433\\u043b\\u0438\\u0439\\u0441\\u043a\\u0438\\u0439 \\u044f\\u0437\\u044b\\u043a\",\"\\u0441\\u0442\\u0430\\u0442\\u0438\\u0441\\u0442\\u0438\\u0447\\u0435\\u0441\\u043a\\u0438\\u0439 \\u0430\\u043d\\u0430\\u043b\\u0438\\u0437\",\"\\u0441\\u0442\\u0430\\u0442\\u0438\\u0441\\u0442\\u0438\\u043a\\u0430\",\"\\u0440\\u0435\\u0448\\u0435\\u043d\\u0438\\u0435 \\u043f\\u0440\\u043e\\u0431\\u043b\\u0435\\u043c\",\"\\u043f\\u0440\\u043e\\u0433\\u043d\\u043e\\u0437\\u0438\\u0440\\u043e\\u0432\\u0430\\u043d\\u0438\\u0435\",\"\\u043f\\u0440\\u043e\\u0430\\u043a\\u0442\\u0438\\u0432\\u043d\\u043e\\u0441\\u0442\\u044c\",\"\\u043f\\u0440\\u0435\\u0437\\u0435\\u043d\\u0442\\u0430\\u0446\\u0438\\u044f \\u0440\\u0435\\u0437\\u0443\\u043b\\u044c\\u0442\\u0430\\u0442\\u043e\\u0432\",\"\\u043a\\u043e\\u043c\\u043c\\u0443\\u043d\\u0438\\u043a\\u0430\\u0446\\u0438\\u044f\",\"\\u0434\\u043e\\u043a\\u0443\\u043c\\u0435\\u043d\\u0442\\u0430\\u0446\\u0438\\u044f\",\"\\u0432\\u043d\\u0438\\u043c\\u0430\\u043d\\u0438\\u0435 \\u043a \\u0434\\u0435\\u0442\\u0430\\u043b\\u044f\\u043c\",\"\\u0431\\u0438\\u0437\\u043d\\u0435\\u0441-\\u0430\\u043d\\u0430\\u043b\\u0438\\u0437\",\"\\u0430\\u043d\\u0430\\u043b\\u0438\\u0442\\u0438\\u0447\\u0435\\u0441\\u043a\\u043e\\u0435 \\u043c\\u044b\\u0448\\u043b\\u0435\\u043d\\u0438\\u0435\",\"python\",\"sql\"],\"type\":\"bar\",\"xaxis\":\"x4\",\"yaxis\":\"y4\"},{\"marker\":{\"color\":[\"#B5D4FF\",\"#B5D4FF\",\"#B5D4FF\",\"#B5D4FF\",\"#B5D4FF\",\"#B5D4FF\",\"#B5D4FF\",\"#FF7E09\",\"#B5D4FF\",\"#B5D4FF\",\"#B5D4FF\",\"#FF7E09\",\"#B5D4FF\",\"#B5D4FF\",\"#FF7E09\"]},\"orientation\":\"h\",\"text\":[\"4%\",\"4%\",\"4%\",\"4%\",\"4%\",\"6%\",\"6%\",\"6%\",\"6%\",\"6%\",\"6%\",\"8%\",\"10%\",\"12%\",\"17%\"],\"x\":[3.8,3.8,3.8,3.8,3.8,5.8,5.8,5.8,5.8,5.8,5.8,7.7,9.6,11.5,17.3],\"y\":[\"tensorflow\",\"ulift modeling\",\"opencv\",\"recsys\",\"machine learning\",\"\\u0430\\u043d\\u0430\\u043b\\u0438\\u0437 \\u0434\\u0430\\u043d\\u043d\\u044b\\u0445\",\"data science\",\"\\u0434\\u043e\\u043a\\u0443\\u043c\\u0435\\u043d\\u0442\\u0430\\u0446\\u0438\\u044f\",\"\\u0443\\u043f\\u0440\\u0430\\u0432\\u043b\\u0435\\u043d\\u0438\\u0435 \\u043a\\u043e\\u043c\\u0430\\u043d\\u0434\\u043e\\u0439\",\"pytorch\",\"scikit-learn\",\"sql\",\"ml\",\"pandas\",\"python\"],\"type\":\"bar\",\"xaxis\":\"x8\",\"yaxis\":\"y8\"}],                        {\"template\":{\"data\":{\"histogram2dcontour\":[{\"type\":\"histogram2dcontour\",\"colorbar\":{\"outlinewidth\":0,\"ticks\":\"\"},\"colorscale\":[[0.0,\"#0d0887\"],[0.1111111111111111,\"#46039f\"],[0.2222222222222222,\"#7201a8\"],[0.3333333333333333,\"#9c179e\"],[0.4444444444444444,\"#bd3786\"],[0.5555555555555556,\"#d8576b\"],[0.6666666666666666,\"#ed7953\"],[0.7777777777777778,\"#fb9f3a\"],[0.8888888888888888,\"#fdca26\"],[1.0,\"#f0f921\"]]}],\"choropleth\":[{\"type\":\"choropleth\",\"colorbar\":{\"outlinewidth\":0,\"ticks\":\"\"}}],\"histogram2d\":[{\"type\":\"histogram2d\",\"colorbar\":{\"outlinewidth\":0,\"ticks\":\"\"},\"colorscale\":[[0.0,\"#0d0887\"],[0.1111111111111111,\"#46039f\"],[0.2222222222222222,\"#7201a8\"],[0.3333333333333333,\"#9c179e\"],[0.4444444444444444,\"#bd3786\"],[0.5555555555555556,\"#d8576b\"],[0.6666666666666666,\"#ed7953\"],[0.7777777777777778,\"#fb9f3a\"],[0.8888888888888888,\"#fdca26\"],[1.0,\"#f0f921\"]]}],\"heatmap\":[{\"type\":\"heatmap\",\"colorbar\":{\"outlinewidth\":0,\"ticks\":\"\"},\"colorscale\":[[0.0,\"#0d0887\"],[0.1111111111111111,\"#46039f\"],[0.2222222222222222,\"#7201a8\"],[0.3333333333333333,\"#9c179e\"],[0.4444444444444444,\"#bd3786\"],[0.5555555555555556,\"#d8576b\"],[0.6666666666666666,\"#ed7953\"],[0.7777777777777778,\"#fb9f3a\"],[0.8888888888888888,\"#fdca26\"],[1.0,\"#f0f921\"]]}],\"heatmapgl\":[{\"type\":\"heatmapgl\",\"colorbar\":{\"outlinewidth\":0,\"ticks\":\"\"},\"colorscale\":[[0.0,\"#0d0887\"],[0.1111111111111111,\"#46039f\"],[0.2222222222222222,\"#7201a8\"],[0.3333333333333333,\"#9c179e\"],[0.4444444444444444,\"#bd3786\"],[0.5555555555555556,\"#d8576b\"],[0.6666666666666666,\"#ed7953\"],[0.7777777777777778,\"#fb9f3a\"],[0.8888888888888888,\"#fdca26\"],[1.0,\"#f0f921\"]]}],\"contourcarpet\":[{\"type\":\"contourcarpet\",\"colorbar\":{\"outlinewidth\":0,\"ticks\":\"\"}}],\"contour\":[{\"type\":\"contour\",\"colorbar\":{\"outlinewidth\":0,\"ticks\":\"\"},\"colorscale\":[[0.0,\"#0d0887\"],[0.1111111111111111,\"#46039f\"],[0.2222222222222222,\"#7201a8\"],[0.3333333333333333,\"#9c179e\"],[0.4444444444444444,\"#bd3786\"],[0.5555555555555556,\"#d8576b\"],[0.6666666666666666,\"#ed7953\"],[0.7777777777777778,\"#fb9f3a\"],[0.8888888888888888,\"#fdca26\"],[1.0,\"#f0f921\"]]}],\"surface\":[{\"type\":\"surface\",\"colorbar\":{\"outlinewidth\":0,\"ticks\":\"\"},\"colorscale\":[[0.0,\"#0d0887\"],[0.1111111111111111,\"#46039f\"],[0.2222222222222222,\"#7201a8\"],[0.3333333333333333,\"#9c179e\"],[0.4444444444444444,\"#bd3786\"],[0.5555555555555556,\"#d8576b\"],[0.6666666666666666,\"#ed7953\"],[0.7777777777777778,\"#fb9f3a\"],[0.8888888888888888,\"#fdca26\"],[1.0,\"#f0f921\"]]}],\"mesh3d\":[{\"type\":\"mesh3d\",\"colorbar\":{\"outlinewidth\":0,\"ticks\":\"\"}}],\"scatter\":[{\"fillpattern\":{\"fillmode\":\"overlay\",\"size\":10,\"solidity\":0.2},\"type\":\"scatter\"}],\"parcoords\":[{\"type\":\"parcoords\",\"line\":{\"colorbar\":{\"outlinewidth\":0,\"ticks\":\"\"}}}],\"scatterpolargl\":[{\"type\":\"scatterpolargl\",\"marker\":{\"colorbar\":{\"outlinewidth\":0,\"ticks\":\"\"}}}],\"bar\":[{\"error_x\":{\"color\":\"#2a3f5f\"},\"error_y\":{\"color\":\"#2a3f5f\"},\"marker\":{\"line\":{\"color\":\"#E5ECF6\",\"width\":0.5},\"pattern\":{\"fillmode\":\"overlay\",\"size\":10,\"solidity\":0.2}},\"type\":\"bar\"}],\"scattergeo\":[{\"type\":\"scattergeo\",\"marker\":{\"colorbar\":{\"outlinewidth\":0,\"ticks\":\"\"}}}],\"scatterpolar\":[{\"type\":\"scatterpolar\",\"marker\":{\"colorbar\":{\"outlinewidth\":0,\"ticks\":\"\"}}}],\"histogram\":[{\"marker\":{\"pattern\":{\"fillmode\":\"overlay\",\"size\":10,\"solidity\":0.2}},\"type\":\"histogram\"}],\"scattergl\":[{\"type\":\"scattergl\",\"marker\":{\"colorbar\":{\"outlinewidth\":0,\"ticks\":\"\"}}}],\"scatter3d\":[{\"type\":\"scatter3d\",\"line\":{\"colorbar\":{\"outlinewidth\":0,\"ticks\":\"\"}},\"marker\":{\"colorbar\":{\"outlinewidth\":0,\"ticks\":\"\"}}}],\"scattermapbox\":[{\"type\":\"scattermapbox\",\"marker\":{\"colorbar\":{\"outlinewidth\":0,\"ticks\":\"\"}}}],\"scatterternary\":[{\"type\":\"scatterternary\",\"marker\":{\"colorbar\":{\"outlinewidth\":0,\"ticks\":\"\"}}}],\"scattercarpet\":[{\"type\":\"scattercarpet\",\"marker\":{\"colorbar\":{\"outlinewidth\":0,\"ticks\":\"\"}}}],\"carpet\":[{\"aaxis\":{\"endlinecolor\":\"#2a3f5f\",\"gridcolor\":\"white\",\"linecolor\":\"white\",\"minorgridcolor\":\"white\",\"startlinecolor\":\"#2a3f5f\"},\"baxis\":{\"endlinecolor\":\"#2a3f5f\",\"gridcolor\":\"white\",\"linecolor\":\"white\",\"minorgridcolor\":\"white\",\"startlinecolor\":\"#2a3f5f\"},\"type\":\"carpet\"}],\"table\":[{\"cells\":{\"fill\":{\"color\":\"#EBF0F8\"},\"line\":{\"color\":\"white\"}},\"header\":{\"fill\":{\"color\":\"#C8D4E3\"},\"line\":{\"color\":\"white\"}},\"type\":\"table\"}],\"barpolar\":[{\"marker\":{\"line\":{\"color\":\"#E5ECF6\",\"width\":0.5},\"pattern\":{\"fillmode\":\"overlay\",\"size\":10,\"solidity\":0.2}},\"type\":\"barpolar\"}],\"pie\":[{\"automargin\":true,\"type\":\"pie\"}]},\"layout\":{\"autotypenumbers\":\"strict\",\"colorway\":[\"#636efa\",\"#EF553B\",\"#00cc96\",\"#ab63fa\",\"#FFA15A\",\"#19d3f3\",\"#FF6692\",\"#B6E880\",\"#FF97FF\",\"#FECB52\"],\"font\":{\"color\":\"#2a3f5f\"},\"hovermode\":\"closest\",\"hoverlabel\":{\"align\":\"left\"},\"paper_bgcolor\":\"white\",\"plot_bgcolor\":\"#E5ECF6\",\"polar\":{\"bgcolor\":\"#E5ECF6\",\"angularaxis\":{\"gridcolor\":\"white\",\"linecolor\":\"white\",\"ticks\":\"\"},\"radialaxis\":{\"gridcolor\":\"white\",\"linecolor\":\"white\",\"ticks\":\"\"}},\"ternary\":{\"bgcolor\":\"#E5ECF6\",\"aaxis\":{\"gridcolor\":\"white\",\"linecolor\":\"white\",\"ticks\":\"\"},\"baxis\":{\"gridcolor\":\"white\",\"linecolor\":\"white\",\"ticks\":\"\"},\"caxis\":{\"gridcolor\":\"white\",\"linecolor\":\"white\",\"ticks\":\"\"}},\"coloraxis\":{\"colorbar\":{\"outlinewidth\":0,\"ticks\":\"\"}},\"colorscale\":{\"sequential\":[[0.0,\"#0d0887\"],[0.1111111111111111,\"#46039f\"],[0.2222222222222222,\"#7201a8\"],[0.3333333333333333,\"#9c179e\"],[0.4444444444444444,\"#bd3786\"],[0.5555555555555556,\"#d8576b\"],[0.6666666666666666,\"#ed7953\"],[0.7777777777777778,\"#fb9f3a\"],[0.8888888888888888,\"#fdca26\"],[1.0,\"#f0f921\"]],\"sequentialminus\":[[0.0,\"#0d0887\"],[0.1111111111111111,\"#46039f\"],[0.2222222222222222,\"#7201a8\"],[0.3333333333333333,\"#9c179e\"],[0.4444444444444444,\"#bd3786\"],[0.5555555555555556,\"#d8576b\"],[0.6666666666666666,\"#ed7953\"],[0.7777777777777778,\"#fb9f3a\"],[0.8888888888888888,\"#fdca26\"],[1.0,\"#f0f921\"]],\"diverging\":[[0,\"#8e0152\"],[0.1,\"#c51b7d\"],[0.2,\"#de77ae\"],[0.3,\"#f1b6da\"],[0.4,\"#fde0ef\"],[0.5,\"#f7f7f7\"],[0.6,\"#e6f5d0\"],[0.7,\"#b8e186\"],[0.8,\"#7fbc41\"],[0.9,\"#4d9221\"],[1,\"#276419\"]]},\"xaxis\":{\"gridcolor\":\"white\",\"linecolor\":\"white\",\"ticks\":\"\",\"title\":{\"standoff\":15},\"zerolinecolor\":\"white\",\"automargin\":true,\"zerolinewidth\":2},\"yaxis\":{\"gridcolor\":\"white\",\"linecolor\":\"white\",\"ticks\":\"\",\"title\":{\"standoff\":15},\"zerolinecolor\":\"white\",\"automargin\":true,\"zerolinewidth\":2},\"scene\":{\"xaxis\":{\"backgroundcolor\":\"#E5ECF6\",\"gridcolor\":\"white\",\"linecolor\":\"white\",\"showbackground\":true,\"ticks\":\"\",\"zerolinecolor\":\"white\",\"gridwidth\":2},\"yaxis\":{\"backgroundcolor\":\"#E5ECF6\",\"gridcolor\":\"white\",\"linecolor\":\"white\",\"showbackground\":true,\"ticks\":\"\",\"zerolinecolor\":\"white\",\"gridwidth\":2},\"zaxis\":{\"backgroundcolor\":\"#E5ECF6\",\"gridcolor\":\"white\",\"linecolor\":\"white\",\"showbackground\":true,\"ticks\":\"\",\"zerolinecolor\":\"white\",\"gridwidth\":2}},\"shapedefaults\":{\"line\":{\"color\":\"#2a3f5f\"}},\"annotationdefaults\":{\"arrowcolor\":\"#2a3f5f\",\"arrowhead\":0,\"arrowwidth\":1},\"geo\":{\"bgcolor\":\"white\",\"landcolor\":\"#E5ECF6\",\"subunitcolor\":\"white\",\"showland\":true,\"showlakes\":true,\"lakecolor\":\"white\"},\"title\":{\"x\":0.05},\"mapbox\":{\"style\":\"light\"}}},\"xaxis\":{\"anchor\":\"y\",\"domain\":[0.0,0.175]},\"yaxis\":{\"anchor\":\"x\",\"domain\":[0.625,1.0]},\"xaxis2\":{\"anchor\":\"y2\",\"domain\":[0.275,0.45]},\"yaxis2\":{\"anchor\":\"x2\",\"domain\":[0.625,1.0]},\"xaxis3\":{\"anchor\":\"y3\",\"domain\":[0.55,0.7250000000000001]},\"yaxis3\":{\"anchor\":\"x3\",\"domain\":[0.625,1.0]},\"xaxis4\":{\"anchor\":\"y4\",\"domain\":[0.825,1.0]},\"yaxis4\":{\"anchor\":\"x4\",\"domain\":[0.625,1.0]},\"xaxis5\":{\"anchor\":\"y5\",\"domain\":[0.0,0.175]},\"yaxis5\":{\"anchor\":\"x5\",\"domain\":[0.0,0.375]},\"xaxis6\":{\"anchor\":\"y6\",\"domain\":[0.275,0.45]},\"yaxis6\":{\"anchor\":\"x6\",\"domain\":[0.0,0.375]},\"xaxis7\":{\"anchor\":\"y7\",\"domain\":[0.55,0.7250000000000001]},\"yaxis7\":{\"anchor\":\"x7\",\"domain\":[0.0,0.375]},\"xaxis8\":{\"anchor\":\"y8\",\"domain\":[0.825,1.0]},\"yaxis8\":{\"anchor\":\"x8\",\"domain\":[0.0,0.375]},\"annotations\":[{\"font\":{\"size\":16},\"showarrow\":false,\"text\":\"\\u0410\\u043d\\u0430\\u043b\\u0438\\u0442\\u0438\\u043a Junior (no experince)\",\"x\":0.0875,\"xanchor\":\"center\",\"xref\":\"paper\",\"y\":1.0,\"yanchor\":\"bottom\",\"yref\":\"paper\"},{\"font\":{\"size\":16},\"showarrow\":false,\"text\":\"\\u0410\\u043d\\u0430\\u043b\\u0438\\u0442\\u0438\\u043a Junior+ (1-3 years)\",\"x\":0.36250000000000004,\"xanchor\":\"center\",\"xref\":\"paper\",\"y\":1.0,\"yanchor\":\"bottom\",\"yref\":\"paper\"},{\"font\":{\"size\":16},\"showarrow\":false,\"text\":\"\\u0410\\u043d\\u0430\\u043b\\u0438\\u0442\\u0438\\u043a Middle (3-6 years)\",\"x\":0.6375000000000001,\"xanchor\":\"center\",\"xref\":\"paper\",\"y\":1.0,\"yanchor\":\"bottom\",\"yref\":\"paper\"},{\"font\":{\"size\":16},\"showarrow\":false,\"text\":\"\\u0410\\u043d\\u0430\\u043b\\u0438\\u0442\\u0438\\u043a Senior (6+ years)\",\"x\":0.9125,\"xanchor\":\"center\",\"xref\":\"paper\",\"y\":1.0,\"yanchor\":\"bottom\",\"yref\":\"paper\"},{\"font\":{\"size\":16},\"showarrow\":false,\"text\":\"Data Scientist Junior (no experince)\",\"x\":0.0875,\"xanchor\":\"center\",\"xref\":\"paper\",\"y\":0.375,\"yanchor\":\"bottom\",\"yref\":\"paper\"},{\"font\":{\"size\":16},\"showarrow\":false,\"text\":\"Data Scientist Junior+ (1-3 years)\",\"x\":0.36250000000000004,\"xanchor\":\"center\",\"xref\":\"paper\",\"y\":0.375,\"yanchor\":\"bottom\",\"yref\":\"paper\"},{\"font\":{\"size\":16},\"showarrow\":false,\"text\":\"Data Scientist Middle (3-6 years)\",\"x\":0.6375000000000001,\"xanchor\":\"center\",\"xref\":\"paper\",\"y\":0.375,\"yanchor\":\"bottom\",\"yref\":\"paper\"},{\"font\":{\"size\":16},\"showarrow\":false,\"text\":\"Data Scientist Senior (6+ years)\",\"x\":0.9125,\"xanchor\":\"center\",\"xref\":\"paper\",\"y\":0.375,\"yanchor\":\"bottom\",\"yref\":\"paper\"}],\"title\":{\"text\":\"\\u0422\\u043e\\u043f \\u043d\\u0430\\u0432\\u044b\\u043a\\u043e\\u0432 \\u043f\\u043e \\u0433\\u0440\\u0435\\u0439\\u0434\\u0430\\u043c\"},\"showlegend\":false,\"width\":1800,\"height\":900},                        {\"responsive\": true}                    ).then(function(){\n",
              "                            \n",
              "var gd = document.getElementById('1bb8818f-012f-4ed0-93a7-ff564f0f6a8f');\n",
              "var x = new MutationObserver(function (mutations, observer) {{\n",
              "        var display = window.getComputedStyle(gd).display;\n",
              "        if (!display || display === 'none') {{\n",
              "            console.log([gd, 'removed!']);\n",
              "            Plotly.purge(gd);\n",
              "            observer.disconnect();\n",
              "        }}\n",
              "}});\n",
              "\n",
              "// Listen for the removal of the full notebook cells\n",
              "var notebookContainer = gd.closest('#notebook-container');\n",
              "if (notebookContainer) {{\n",
              "    x.observe(notebookContainer, {childList: true});\n",
              "}}\n",
              "\n",
              "// Listen for the clearing of the current output cell\n",
              "var outputEl = gd.closest('.output');\n",
              "if (outputEl) {{\n",
              "    x.observe(outputEl, {childList: true});\n",
              "}}\n",
              "\n",
              "                        })                };                            </script>        </div>\n",
              "</body>\n",
              "</html>"
            ]
          },
          "metadata": {}
        }
      ]
    },
    {
      "cell_type": "markdown",
      "source": [
        "**Вывод:** Для DS специалиста топовые навыки такие: Python, pandas, sql, ML. Для аналитика топовые навыки: SQL, Python, Pandas, DA. Если сравнить два направления, то для них общие навыки SQL, Python, Pandas, Big Data, confluence, документация. При этом аналитику важно владеть tableau, знать как проводить a/b тесты, обладать аналитичским мышлением. Для DS специалиста наоборот важнее владеть математическим аппаратом, понимать ML и юнит-экономику, владеть pytorch, nlp.  "
      ],
      "metadata": {
        "id": "yJtq6hgzrXuj"
      }
    },
    {
      "cell_type": "markdown",
      "source": [
        "# 6 Определение типичного места работы для Аналитика данных и специалист по Data Science по следующим параметрам: ТОП-работодателей, зарплата, тип занятости, график работы"
      ],
      "metadata": {
        "id": "3O9auImmmQlf"
      }
    },
    {
      "cell_type": "markdown",
      "source": [
        "Напишем функцию для визуализации топовых значений по параметру и визуализацией"
      ],
      "metadata": {
        "id": "ES9ZpG2sib9r"
      }
    },
    {
      "cell_type": "code",
      "source": [
        "#функция возвращает рандомный цвет на параметр фрейма\n",
        "def make_color_list(df, color_list, on):\n",
        "    colors = df.merge(color_list, how='inner', on=on)['color']\n",
        "    return colors\n",
        "\n",
        "#функция возвращающая рейтинг топ значений с визуализацией\n",
        "def show_top_by_category(main_field, title):\n",
        "  grades = np.sort(data_da['experience'].unique()).tolist()\n",
        "\n",
        "  titles = []\n",
        "\n",
        "  for grade in grades:\n",
        "    titles.append('Работодатели DA '+ grade)\n",
        "    titles.append('Работодатели DS '+ grade)\n",
        "\n",
        "  #получаем список всех значений параметра и каждому присваиваем свой цвет\n",
        "  colors = pd.DataFrame({main_field: pd.concat([data_ds[main_field], data_da[main_field]]).unique()}).reset_index()\n",
        "  colors['color'] = colors['index'].apply(random_color)\n",
        "\n",
        "  fig_empl = make_subplots(\n",
        "        rows=4, cols=2,\n",
        "        subplot_titles=titles\n",
        "        )\n",
        "\n",
        "\n",
        "  for i, grade in enumerate(grades):\n",
        "    da_empl = (data_da[data_da['experience'] == grade]\n",
        "              .groupby(main_field)\n",
        "              .agg(count=('id', 'count'))\n",
        "              .reset_index()\n",
        "              .sort_values(by='count', ascending=False)[:10]\n",
        "              )\n",
        "    da_empl['share'] = round(da_empl['count'] / da_empl['count'].sum() * 100, 1)\n",
        "\n",
        "    ds_empl = (data_ds[data_ds['experience'] == grade]\n",
        "              .groupby(main_field)\n",
        "              .agg(count=('id', 'count'))\n",
        "              .reset_index()\n",
        "              .sort_values(by='count', ascending=False)[:10]\n",
        "              )\n",
        "    ds_empl['share'] = round(ds_empl['count'] / ds_empl['count'].sum() * 100, 1)\n",
        "\n",
        "    fig_empl.add_trace(go.Bar(\n",
        "        x=da_empl[main_field],\n",
        "        y=da_empl['share'],\n",
        "        marker_color=make_color_list(da_empl, colors, main_field),\n",
        "        showlegend=False,\n",
        "        text = da_empl['share'].apply(lambda x: '{:.0f}%'.format(x))),\n",
        "                row=1+i, col=1)\n",
        "\n",
        "    fig_empl.add_trace(go.Bar(\n",
        "        x=ds_empl[main_field],\n",
        "        y=ds_empl['share'],\n",
        "        marker_color=make_color_list(ds_empl, colors, main_field),\n",
        "        showlegend=False,\n",
        "        text = ds_empl['share'].apply(lambda x: '{:.0f}%'.format(x))\n",
        "        ),\n",
        "                row=1+i, col=2)\n",
        "\n",
        "  fig_empl.update_yaxes(showticklabels=False)\n",
        "  fig_empl.update_layout(title_text=title, height=1200, width=1500, showlegend=False,\n",
        "                        xaxis=dict(tickfont=dict(size=9)),\n",
        "                        xaxis2=dict(tickfont=dict(size=9)),\n",
        "                        xaxis3=dict(tickfont=dict(size=9)),\n",
        "                        xaxis4=dict(tickfont=dict(size=9)),\n",
        "                        xaxis5=dict(tickfont=dict(size=9)),\n",
        "                        xaxis6=dict(tickfont=dict(size=9)),\n",
        "                        xaxis7=dict(tickfont=dict(size=9)),\n",
        "                        xaxis8=dict(tickfont=dict(size=9)))\n",
        "\n",
        "  fig_empl.show()"
      ],
      "metadata": {
        "id": "IbVPI0OFiXbN"
      },
      "execution_count": 106,
      "outputs": []
    },
    {
      "cell_type": "code",
      "source": [
        "#напишем функцию для визуализации топовых значений и их отображения в двух фреймах\n",
        "def show_top_by_field(main_field, title):\n",
        "  titles = []\n",
        "\n",
        "  for grade in grades:\n",
        "    titles.append('Работодатели DA '+ grade)\n",
        "    titles.append('Работодатели DS '+ grade)\n",
        "\n",
        "\n",
        "  fig_empl = make_subplots(\n",
        "        rows=4, cols=2,\n",
        "        subplot_titles=titles\n",
        "        )\n",
        "\n",
        "  for i, grade in enumerate(grades):\n",
        "    da_employer = data_da[data_da['experience'] == grade].groupby(main_field).agg(count=('id', 'count')).reset_index().sort_values(by='count', ascending=False)\n",
        "    ds_employer = data_ds[data_ds['experience'] == grade].groupby(main_field).agg(count=('id', 'count')).reset_index().sort_values(by='count', ascending=False)\n",
        "\n",
        "    da_employer['share'] = round(da_employer['count'] / da_employer['count'].sum() * 100, 1)\n",
        "    ds_employer['share'] = round(ds_employer['count'] / ds_employer['count'].sum() * 100, 1)\n",
        "\n",
        "    colors = pd.DataFrame({main_field: da_employer[:10].merge(ds_employer[:10], on=main_field, how='inner')[main_field].unique()})\n",
        "    colors['color'] = '#FF7E09'\n",
        "\n",
        "    da_employer['color'] = da_employer[main_field].map(colors.set_index(main_field)['color']).fillna('#B5D4FF')\n",
        "    ds_employer['color'] = ds_employer[main_field].map(colors.set_index(main_field)['color']).fillna('#B5D4FF')\n",
        "\n",
        "    fig_empl.add_trace(go.Bar(\n",
        "          x=da_employer[main_field][:10],\n",
        "          y=da_employer['share'],\n",
        "          marker_color=da_employer['color'],\n",
        "          showlegend=False,\n",
        "          text = da_employer['share'].apply(lambda x: '{:.0f}%'.format(x))),\n",
        "                      row=1+i, col=1)\n",
        "\n",
        "    fig_empl.add_trace(go.Bar(\n",
        "          x=ds_employer[main_field][:10],\n",
        "          y=ds_employer['share'],\n",
        "          marker_color=ds_employer['color'],\n",
        "          showlegend=False,\n",
        "          text = ds_employer['share'].apply(lambda x: '{:.0f}%'.format(x))),\n",
        "                      row=1+i, col=2)\n",
        "\n",
        "  fig_empl.update_yaxes(showticklabels=False)\n",
        "  fig_empl.update_layout(title_text=title, height=1200, width=1500, showlegend=False,\n",
        "                          xaxis=dict(tickfont=dict(size=9)),\n",
        "                          xaxis2=dict(tickfont=dict(size=9)),\n",
        "                          xaxis3=dict(tickfont=dict(size=9)),\n",
        "                          xaxis4=dict(tickfont=dict(size=9)),\n",
        "                          xaxis5=dict(tickfont=dict(size=9)),\n",
        "                          xaxis6=dict(tickfont=dict(size=9)),\n",
        "                          xaxis7=dict(tickfont=dict(size=9)),\n",
        "                          xaxis8=dict(tickfont=dict(size=9)))\n",
        "  fig_empl.show()"
      ],
      "metadata": {
        "id": "EW6UF08gRDQH"
      },
      "execution_count": 111,
      "outputs": []
    },
    {
      "cell_type": "markdown",
      "source": [
        "Выделем топ 10 работодателей по количеству вакансий на Аналитика данных и специалиста DS по каждому грейду"
      ],
      "metadata": {
        "id": "khKYhSXOPbtb"
      }
    },
    {
      "cell_type": "code",
      "source": [
        "show_top_by_field('employer', 'Топ 10 работодателей')"
      ],
      "metadata": {
        "colab": {
          "base_uri": "https://localhost:8080/",
          "height": 1000
        },
        "id": "MR-9-EWJjGFD",
        "outputId": "6838153f-9972-4fa5-c64f-5981166f6196"
      },
      "execution_count": 112,
      "outputs": [
        {
          "output_type": "display_data",
          "data": {
            "text/html": [
              "<html>\n",
              "<head><meta charset=\"utf-8\" /></head>\n",
              "<body>\n",
              "    <div>            <script src=\"https://cdnjs.cloudflare.com/ajax/libs/mathjax/2.7.5/MathJax.js?config=TeX-AMS-MML_SVG\"></script><script type=\"text/javascript\">if (window.MathJax && window.MathJax.Hub && window.MathJax.Hub.Config) {window.MathJax.Hub.Config({SVG: {font: \"STIX-Web\"}});}</script>                <script type=\"text/javascript\">window.PlotlyConfig = {MathJaxConfig: 'local'};</script>\n",
              "        <script charset=\"utf-8\" src=\"https://cdn.plot.ly/plotly-2.24.1.min.js\"></script>                <div id=\"7dcb309a-ebbe-4dfe-ad89-37521d27fbc4\" class=\"plotly-graph-div\" style=\"height:1200px; width:1500px;\"></div>            <script type=\"text/javascript\">                                    window.PLOTLYENV=window.PLOTLYENV || {};                                    if (document.getElementById(\"7dcb309a-ebbe-4dfe-ad89-37521d27fbc4\")) {                    Plotly.newPlot(                        \"7dcb309a-ebbe-4dfe-ad89-37521d27fbc4\",                        [{\"marker\":{\"color\":[\"#B5D4FF\",\"#B5D4FF\",\"#B5D4FF\",\"#B5D4FF\",\"#B5D4FF\",\"#B5D4FF\",\"#B5D4FF\",\"#FF7E09\"]},\"showlegend\":false,\"text\":[\"22%\",\"11%\",\"11%\",\"11%\",\"11%\",\"11%\",\"11%\",\"11%\"],\"x\":[\"\\u0420\\u0415\\u0421\\u041e-\\u0413\\u0430\\u0440\\u0430\\u043d\\u0442\\u0438\\u044f, \\u0421\\u0410\\u041e\",\"ANCOR\",\"Appie.tech\",\"DNS \\u0422\\u0435\\u0445\\u043d\\u043e\\u043b\\u043e\\u0433\\u0438\\u0438\",\"TradingView\",\"\\u0410\\u043b\\u044c\\u0444\\u0430 \\u041a\\u0430\\u043f\\u0438\\u0442\\u0430\\u043b\",\"\\u041a\\u043e\\u043c\\u043f\\u0430\\u043d\\u0438\\u044f CADesign\",\"\\u0421\\u0411\\u0415\\u0420\"],\"y\":[22.2,11.1,11.1,11.1,11.1,11.1,11.1,11.1],\"type\":\"bar\",\"xaxis\":\"x\",\"yaxis\":\"y\"},{\"marker\":{\"color\":[\"#FF7E09\",\"#B5D4FF\",\"#B5D4FF\",\"#B5D4FF\",\"#B5D4FF\",\"#B5D4FF\",\"#B5D4FF\",\"#B5D4FF\",\"#B5D4FF\",\"#B5D4FF\",\"#B5D4FF\",\"#B5D4FF\",\"#B5D4FF\"]},\"showlegend\":false,\"text\":[\"36%\",\"12%\",\"8%\",\"8%\",\"4%\",\"4%\",\"4%\",\"4%\",\"4%\",\"4%\",\"4%\",\"4%\",\"4%\"],\"x\":[\"\\u0421\\u0411\\u0415\\u0420\",\"Ozon\",\"Lamoda Tech\",\"\\u041f\\u0440\\u0430\\u0432\\u0438\\u0442\\u0435\\u043b\\u044c\\u0441\\u0442\\u0432\\u043e \\u041c\\u043e\\u0441\\u043a\\u0432\\u044b\",\"Changellenge\",\"Headwise LLC\",\"Samokat.tech\",\"\\u0410\\u043b\\u044c\\u0444\\u0430-\\u0411\\u0430\\u043d\\u043a\",\"\\u0411\\u0430\\u043d\\u043a \\u0420\\u0443\\u0441\\u0441\\u043a\\u0438\\u0439 \\u0421\\u0442\\u0430\\u043d\\u0434\\u0430\\u0440\\u0442\",\"\\u041c\\u0422\\u0421\"],\"y\":[36.0,12.0,8.0,8.0,4.0,4.0,4.0,4.0,4.0,4.0,4.0,4.0,4.0],\"type\":\"bar\",\"xaxis\":\"x2\",\"yaxis\":\"y2\"},{\"marker\":{\"color\":[\"#FF7E09\",\"#B5D4FF\",\"#B5D4FF\",\"#B5D4FF\",\"#B5D4FF\",\"#B5D4FF\",\"#B5D4FF\",\"#B5D4FF\",\"#B5D4FF\",\"#B5D4FF\",\"#B5D4FF\",\"#B5D4FF\",\"#B5D4FF\",\"#B5D4FF\",\"#B5D4FF\",\"#B5D4FF\",\"#B5D4FF\",\"#B5D4FF\",\"#B5D4FF\",\"#B5D4FF\",\"#B5D4FF\",\"#B5D4FF\",\"#B5D4FF\",\"#B5D4FF\",\"#B5D4FF\",\"#B5D4FF\",\"#B5D4FF\",\"#B5D4FF\",\"#B5D4FF\",\"#B5D4FF\",\"#B5D4FF\",\"#B5D4FF\",\"#B5D4FF\",\"#B5D4FF\",\"#B5D4FF\",\"#B5D4FF\",\"#B5D4FF\",\"#B5D4FF\",\"#B5D4FF\",\"#B5D4FF\",\"#B5D4FF\",\"#B5D4FF\",\"#B5D4FF\",\"#B5D4FF\",\"#B5D4FF\",\"#B5D4FF\",\"#B5D4FF\",\"#B5D4FF\",\"#B5D4FF\",\"#B5D4FF\",\"#B5D4FF\",\"#B5D4FF\",\"#B5D4FF\",\"#B5D4FF\",\"#B5D4FF\",\"#B5D4FF\",\"#B5D4FF\",\"#B5D4FF\",\"#B5D4FF\",\"#B5D4FF\",\"#B5D4FF\",\"#B5D4FF\",\"#B5D4FF\",\"#B5D4FF\",\"#B5D4FF\",\"#B5D4FF\",\"#B5D4FF\",\"#B5D4FF\",\"#B5D4FF\",\"#B5D4FF\",\"#B5D4FF\",\"#B5D4FF\",\"#B5D4FF\",\"#B5D4FF\",\"#B5D4FF\",\"#B5D4FF\",\"#B5D4FF\",\"#B5D4FF\",\"#B5D4FF\",\"#B5D4FF\",\"#B5D4FF\",\"#B5D4FF\",\"#B5D4FF\",\"#B5D4FF\",\"#B5D4FF\",\"#B5D4FF\",\"#B5D4FF\",\"#B5D4FF\",\"#B5D4FF\",\"#B5D4FF\",\"#B5D4FF\"]},\"showlegend\":false,\"text\":[\"24%\",\"4%\",\"3%\",\"3%\",\"2%\",\"2%\",\"2%\",\"2%\",\"2%\",\"2%\",\"1%\",\"1%\",\"1%\",\"1%\",\"1%\",\"1%\",\"1%\",\"1%\",\"1%\",\"1%\",\"1%\",\"1%\",\"1%\",\"1%\",\"1%\",\"1%\",\"1%\",\"1%\",\"1%\",\"1%\",\"1%\",\"1%\",\"1%\",\"1%\",\"1%\",\"1%\",\"1%\",\"1%\",\"1%\",\"1%\",\"1%\",\"1%\",\"1%\",\"1%\",\"1%\",\"1%\",\"1%\",\"1%\",\"1%\",\"1%\",\"1%\",\"1%\",\"1%\",\"1%\",\"1%\",\"1%\",\"1%\",\"1%\",\"1%\",\"1%\",\"1%\",\"1%\",\"1%\",\"1%\",\"1%\",\"1%\",\"1%\",\"1%\",\"1%\",\"1%\",\"1%\",\"1%\",\"1%\",\"1%\",\"1%\",\"1%\",\"1%\",\"1%\",\"1%\",\"1%\",\"1%\",\"1%\",\"1%\",\"1%\",\"1%\",\"1%\",\"1%\",\"1%\",\"1%\",\"1%\",\"1%\"],\"x\":[\"\\u0421\\u0411\\u0415\\u0420\",\"\\u041c\\u0422\\u0421\",\"\\u041c\\u0410\\u0413\\u041d\\u0418\\u0422, \\u0420\\u043e\\u0437\\u043d\\u0438\\u0447\\u043d\\u0430\\u044f \\u0441\\u0435\\u0442\\u044c\",\"\\u041f\\u0421\\u0411 (\\u041f\\u0410\\u041e \\u00ab\\u041f\\u0440\\u043e\\u043c\\u0441\\u0432\\u044f\\u0437\\u044c\\u0431\\u0430\\u043d\\u043a\\u00bb)\",\"Okko\",\"StudyWorld\",\"\\u041c\\u0430\\u0440\\u0441\",\"WILDBERRIES\",\"Finstar Financial Group\",\"\\u0426\\u0420\\u0422 | \\u0413\\u0440\\u0443\\u043f\\u043f\\u0430 \\u043a\\u043e\\u043c\\u043f\\u0430\\u043d\\u0438\\u0439\"],\"y\":[24.2,3.6,3.0,3.0,2.4,2.4,1.8,1.8,1.8,1.8,1.2,1.2,1.2,1.2,1.2,1.2,1.2,1.2,0.6,0.6,0.6,0.6,0.6,0.6,0.6,0.6,0.6,0.6,0.6,0.6,0.6,0.6,0.6,0.6,0.6,0.6,0.6,0.6,0.6,0.6,0.6,0.6,0.6,0.6,0.6,0.6,0.6,0.6,0.6,0.6,0.6,0.6,0.6,0.6,0.6,0.6,0.6,0.6,0.6,0.6,0.6,0.6,0.6,0.6,0.6,0.6,0.6,0.6,0.6,0.6,0.6,0.6,0.6,0.6,0.6,0.6,0.6,0.6,0.6,0.6,0.6,0.6,0.6,0.6,0.6,0.6,0.6,0.6,0.6,0.6,0.6],\"type\":\"bar\",\"xaxis\":\"x3\",\"yaxis\":\"y3\"},{\"marker\":{\"color\":[\"#FF7E09\",\"#B5D4FF\",\"#B5D4FF\",\"#B5D4FF\",\"#B5D4FF\",\"#B5D4FF\",\"#B5D4FF\",\"#B5D4FF\",\"#B5D4FF\",\"#B5D4FF\",\"#B5D4FF\",\"#B5D4FF\",\"#B5D4FF\",\"#B5D4FF\",\"#B5D4FF\",\"#B5D4FF\",\"#B5D4FF\",\"#B5D4FF\",\"#B5D4FF\",\"#B5D4FF\",\"#B5D4FF\",\"#B5D4FF\",\"#B5D4FF\",\"#B5D4FF\",\"#B5D4FF\",\"#B5D4FF\",\"#B5D4FF\",\"#B5D4FF\",\"#B5D4FF\",\"#B5D4FF\",\"#B5D4FF\",\"#B5D4FF\",\"#B5D4FF\",\"#B5D4FF\",\"#B5D4FF\",\"#B5D4FF\",\"#B5D4FF\",\"#B5D4FF\",\"#B5D4FF\",\"#B5D4FF\",\"#B5D4FF\",\"#B5D4FF\",\"#B5D4FF\",\"#B5D4FF\",\"#B5D4FF\",\"#B5D4FF\",\"#B5D4FF\",\"#B5D4FF\",\"#B5D4FF\",\"#B5D4FF\",\"#B5D4FF\",\"#B5D4FF\",\"#B5D4FF\",\"#B5D4FF\",\"#B5D4FF\",\"#B5D4FF\",\"#B5D4FF\",\"#B5D4FF\",\"#B5D4FF\",\"#B5D4FF\",\"#B5D4FF\",\"#B5D4FF\",\"#B5D4FF\",\"#B5D4FF\",\"#B5D4FF\",\"#B5D4FF\",\"#B5D4FF\",\"#B5D4FF\",\"#B5D4FF\",\"#B5D4FF\",\"#B5D4FF\",\"#B5D4FF\",\"#B5D4FF\",\"#B5D4FF\",\"#B5D4FF\",\"#B5D4FF\",\"#B5D4FF\",\"#B5D4FF\",\"#B5D4FF\",\"#B5D4FF\",\"#B5D4FF\",\"#B5D4FF\",\"#B5D4FF\",\"#B5D4FF\",\"#B5D4FF\",\"#B5D4FF\",\"#B5D4FF\",\"#B5D4FF\",\"#B5D4FF\",\"#B5D4FF\",\"#B5D4FF\",\"#B5D4FF\",\"#B5D4FF\",\"#B5D4FF\",\"#B5D4FF\",\"#B5D4FF\",\"#B5D4FF\",\"#B5D4FF\",\"#B5D4FF\",\"#B5D4FF\",\"#B5D4FF\",\"#B5D4FF\",\"#B5D4FF\",\"#B5D4FF\",\"#B5D4FF\",\"#B5D4FF\"]},\"showlegend\":false,\"text\":[\"22%\",\"4%\",\"3%\",\"3%\",\"3%\",\"3%\",\"3%\",\"2%\",\"2%\",\"2%\",\"2%\",\"2%\",\"2%\",\"1%\",\"1%\",\"1%\",\"1%\",\"1%\",\"1%\",\"1%\",\"1%\",\"1%\",\"1%\",\"1%\",\"1%\",\"1%\",\"1%\",\"1%\",\"1%\",\"1%\",\"1%\",\"1%\",\"1%\",\"1%\",\"1%\",\"1%\",\"1%\",\"1%\",\"1%\",\"1%\",\"1%\",\"0%\",\"0%\",\"0%\",\"0%\",\"0%\",\"0%\",\"0%\",\"0%\",\"0%\",\"0%\",\"0%\",\"0%\",\"0%\",\"0%\",\"0%\",\"0%\",\"0%\",\"0%\",\"0%\",\"0%\",\"0%\",\"0%\",\"0%\",\"0%\",\"0%\",\"0%\",\"0%\",\"0%\",\"0%\",\"0%\",\"0%\",\"0%\",\"0%\",\"0%\",\"0%\",\"0%\",\"0%\",\"0%\",\"0%\",\"0%\",\"0%\",\"0%\",\"0%\",\"0%\",\"0%\",\"0%\",\"0%\",\"0%\",\"0%\",\"0%\",\"0%\",\"0%\",\"0%\",\"0%\",\"0%\",\"0%\",\"0%\",\"0%\",\"0%\",\"0%\",\"0%\",\"0%\",\"0%\",\"0%\",\"0%\"],\"x\":[\"\\u0421\\u0411\\u0415\\u0420\",\"\\u0420\\u043e\\u0441\\u0442\\u0435\\u043b\\u0435\\u043a\\u043e\\u043c\",\"\\u0411\\u0430\\u043d\\u043a \\u0412\\u0422\\u0411 (\\u041f\\u0410\\u041e)\",\"1221\\u0421\\u0438\\u0441\\u0442\\u0435\\u043c\\u0441\",\"Samokat.tech\",\"\\u0421\\u0430\\u0445\\u0430\\u043b\\u0438\\u043d - \\u041e\\u0441\\u0442\\u0440\\u043e\\u0432 \\u0412\\u043e\\u0437\\u043c\\u043e\\u0436\\u043d\\u043e\\u0441\\u0442\\u0435\\u0439\",\"\\u0413\\u0430\\u0437\\u043f\\u0440\\u043e\\u043c\\u0431\\u0430\\u043d\\u043a\",\"\\u0431\\u0438\\u043b\\u0430\\u0439\\u043d\",\"ARK\",\"\\u041c\\u0435\\u0433\\u0430\\u0424\\u043e\\u043d\"],\"y\":[22.3,3.9,3.1,2.7,2.7,2.7,2.7,2.3,2.0,1.6,1.6,1.6,1.6,1.2,1.2,1.2,1.2,1.2,0.8,0.8,0.8,0.8,0.8,0.8,0.8,0.8,0.8,0.8,0.8,0.8,0.8,0.8,0.8,0.8,0.8,0.8,0.8,0.8,0.8,0.8,0.8,0.4,0.4,0.4,0.4,0.4,0.4,0.4,0.4,0.4,0.4,0.4,0.4,0.4,0.4,0.4,0.4,0.4,0.4,0.4,0.4,0.4,0.4,0.4,0.4,0.4,0.4,0.4,0.4,0.4,0.4,0.4,0.4,0.4,0.4,0.4,0.4,0.4,0.4,0.4,0.4,0.4,0.4,0.4,0.4,0.4,0.4,0.4,0.4,0.4,0.4,0.4,0.4,0.4,0.4,0.4,0.4,0.4,0.4,0.4,0.4,0.4,0.4,0.4,0.4,0.4],\"type\":\"bar\",\"xaxis\":\"x4\",\"yaxis\":\"y4\"},{\"marker\":{\"color\":[\"#FF7E09\",\"#FF7E09\",\"#B5D4FF\",\"#B5D4FF\",\"#B5D4FF\",\"#FF7E09\",\"#B5D4FF\",\"#B5D4FF\",\"#B5D4FF\",\"#B5D4FF\",\"#B5D4FF\",\"#B5D4FF\",\"#B5D4FF\",\"#B5D4FF\",\"#B5D4FF\",\"#B5D4FF\",\"#B5D4FF\",\"#B5D4FF\",\"#B5D4FF\",\"#B5D4FF\",\"#B5D4FF\",\"#B5D4FF\",\"#B5D4FF\",\"#B5D4FF\",\"#B5D4FF\",\"#B5D4FF\",\"#B5D4FF\",\"#B5D4FF\",\"#B5D4FF\",\"#B5D4FF\",\"#B5D4FF\",\"#B5D4FF\",\"#B5D4FF\",\"#B5D4FF\",\"#B5D4FF\",\"#B5D4FF\",\"#B5D4FF\",\"#B5D4FF\",\"#B5D4FF\",\"#B5D4FF\",\"#B5D4FF\",\"#B5D4FF\",\"#B5D4FF\",\"#B5D4FF\",\"#B5D4FF\",\"#B5D4FF\",\"#B5D4FF\",\"#B5D4FF\",\"#B5D4FF\",\"#B5D4FF\",\"#B5D4FF\",\"#B5D4FF\",\"#B5D4FF\",\"#B5D4FF\",\"#B5D4FF\",\"#B5D4FF\",\"#B5D4FF\",\"#B5D4FF\",\"#B5D4FF\",\"#B5D4FF\",\"#B5D4FF\",\"#B5D4FF\",\"#B5D4FF\",\"#B5D4FF\",\"#B5D4FF\",\"#B5D4FF\",\"#B5D4FF\",\"#B5D4FF\"]},\"showlegend\":false,\"text\":[\"20%\",\"9%\",\"4%\",\"3%\",\"2%\",\"2%\",\"2%\",\"2%\",\"2%\",\"2%\",\"2%\",\"2%\",\"2%\",\"1%\",\"1%\",\"1%\",\"1%\",\"1%\",\"1%\",\"1%\",\"1%\",\"1%\",\"1%\",\"1%\",\"1%\",\"1%\",\"1%\",\"1%\",\"1%\",\"1%\",\"1%\",\"1%\",\"1%\",\"1%\",\"1%\",\"1%\",\"1%\",\"1%\",\"1%\",\"1%\",\"1%\",\"1%\",\"1%\",\"1%\",\"1%\",\"1%\",\"1%\",\"1%\",\"1%\",\"1%\",\"1%\",\"1%\",\"1%\",\"1%\",\"1%\",\"1%\",\"1%\",\"1%\",\"1%\",\"1%\",\"1%\",\"1%\",\"1%\",\"1%\",\"1%\",\"1%\",\"1%\",\"1%\"],\"x\":[\"\\u0421\\u0411\\u0415\\u0420\",\"WILDBERRIES\",\"\\u00abUZUM TECHNOLOGIES\\u00bb.\",\"Maxim technology\",\"\\u041c\\u043e\\u0441\\u043a\\u043e\\u0432\\u0441\\u043a\\u0430\\u044f \\u0411\\u0438\\u0440\\u0436\\u0430\",\"Okko\",\"MIGX GmbH\",\"Playrix\",\"USETECH\",\"\\u0417\\u0432\\u0443\\u043a\"],\"y\":[20.5,9.4,4.3,3.4,1.7,1.7,1.7,1.7,1.7,1.7,1.7,1.7,1.7,0.9,0.9,0.9,0.9,0.9,0.9,0.9,0.9,0.9,0.9,0.9,0.9,0.9,0.9,0.9,0.9,0.9,0.9,0.9,0.9,0.9,0.9,0.9,0.9,0.9,0.9,0.9,0.9,0.9,0.9,0.9,0.9,0.9,0.9,0.9,0.9,0.9,0.9,0.9,0.9,0.9,0.9,0.9,0.9,0.9,0.9,0.9,0.9,0.9,0.9,0.9,0.9,0.9,0.9,0.9],\"type\":\"bar\",\"xaxis\":\"x5\",\"yaxis\":\"y5\"},{\"marker\":{\"color\":[\"#FF7E09\",\"#B5D4FF\",\"#B5D4FF\",\"#FF7E09\",\"#B5D4FF\",\"#B5D4FF\",\"#B5D4FF\",\"#B5D4FF\",\"#B5D4FF\",\"#FF7E09\",\"#B5D4FF\",\"#B5D4FF\",\"#B5D4FF\",\"#B5D4FF\",\"#B5D4FF\",\"#B5D4FF\",\"#B5D4FF\",\"#B5D4FF\",\"#B5D4FF\",\"#B5D4FF\",\"#B5D4FF\",\"#B5D4FF\",\"#B5D4FF\",\"#B5D4FF\",\"#B5D4FF\",\"#B5D4FF\",\"#B5D4FF\",\"#B5D4FF\",\"#B5D4FF\",\"#B5D4FF\",\"#B5D4FF\",\"#B5D4FF\",\"#B5D4FF\",\"#B5D4FF\",\"#B5D4FF\",\"#B5D4FF\",\"#B5D4FF\",\"#B5D4FF\",\"#B5D4FF\",\"#B5D4FF\",\"#B5D4FF\",\"#B5D4FF\",\"#B5D4FF\",\"#B5D4FF\",\"#B5D4FF\",\"#B5D4FF\",\"#B5D4FF\",\"#B5D4FF\",\"#B5D4FF\",\"#B5D4FF\",\"#B5D4FF\",\"#B5D4FF\",\"#B5D4FF\",\"#B5D4FF\",\"#B5D4FF\",\"#B5D4FF\",\"#B5D4FF\",\"#B5D4FF\",\"#B5D4FF\",\"#B5D4FF\",\"#B5D4FF\",\"#B5D4FF\",\"#B5D4FF\",\"#B5D4FF\",\"#B5D4FF\",\"#B5D4FF\",\"#B5D4FF\",\"#B5D4FF\",\"#B5D4FF\",\"#B5D4FF\",\"#B5D4FF\",\"#B5D4FF\",\"#B5D4FF\",\"#B5D4FF\",\"#B5D4FF\",\"#B5D4FF\",\"#B5D4FF\",\"#B5D4FF\",\"#B5D4FF\",\"#B5D4FF\",\"#B5D4FF\",\"#B5D4FF\",\"#B5D4FF\",\"#B5D4FF\",\"#B5D4FF\",\"#B5D4FF\",\"#B5D4FF\",\"#B5D4FF\",\"#B5D4FF\",\"#B5D4FF\",\"#B5D4FF\",\"#B5D4FF\",\"#B5D4FF\",\"#B5D4FF\",\"#B5D4FF\",\"#B5D4FF\",\"#B5D4FF\",\"#B5D4FF\",\"#B5D4FF\",\"#B5D4FF\",\"#B5D4FF\",\"#B5D4FF\",\"#B5D4FF\",\"#B5D4FF\",\"#B5D4FF\",\"#B5D4FF\",\"#B5D4FF\",\"#B5D4FF\",\"#B5D4FF\",\"#B5D4FF\",\"#B5D4FF\",\"#B5D4FF\",\"#B5D4FF\",\"#B5D4FF\",\"#B5D4FF\",\"#B5D4FF\",\"#B5D4FF\",\"#B5D4FF\",\"#B5D4FF\",\"#B5D4FF\",\"#B5D4FF\",\"#B5D4FF\",\"#B5D4FF\",\"#B5D4FF\",\"#B5D4FF\"]},\"showlegend\":false,\"text\":[\"20%\",\"4%\",\"3%\",\"3%\",\"3%\",\"3%\",\"2%\",\"2%\",\"2%\",\"2%\",\"2%\",\"1%\",\"1%\",\"1%\",\"1%\",\"1%\",\"1%\",\"1%\",\"1%\",\"1%\",\"1%\",\"1%\",\"1%\",\"1%\",\"1%\",\"1%\",\"1%\",\"1%\",\"1%\",\"1%\",\"1%\",\"1%\",\"1%\",\"1%\",\"1%\",\"1%\",\"1%\",\"1%\",\"1%\",\"1%\",\"1%\",\"1%\",\"1%\",\"1%\",\"1%\",\"1%\",\"1%\",\"1%\",\"0%\",\"0%\",\"0%\",\"0%\",\"0%\",\"0%\",\"0%\",\"0%\",\"0%\",\"0%\",\"0%\",\"0%\",\"0%\",\"0%\",\"0%\",\"0%\",\"0%\",\"0%\",\"0%\",\"0%\",\"0%\",\"0%\",\"0%\",\"0%\",\"0%\",\"0%\",\"0%\",\"0%\",\"0%\",\"0%\",\"0%\",\"0%\",\"0%\",\"0%\",\"0%\",\"0%\",\"0%\",\"0%\",\"0%\",\"0%\",\"0%\",\"0%\",\"0%\",\"0%\",\"0%\",\"0%\",\"0%\",\"0%\",\"0%\",\"0%\",\"0%\",\"0%\",\"0%\",\"0%\",\"0%\",\"0%\",\"0%\",\"0%\",\"0%\",\"0%\",\"0%\",\"0%\",\"0%\",\"0%\",\"0%\",\"0%\",\"0%\",\"0%\",\"0%\",\"0%\",\"0%\",\"0%\",\"0%\",\"0%\",\"0%\",\"0%\",\"0%\"],\"x\":[\"\\u0421\\u0411\\u0415\\u0420\",\"Ozon\",\"\\u0413\\u0430\\u0437\\u043f\\u0440\\u043e\\u043c\\u0431\\u0430\\u043d\\u043a\",\"WILDBERRIES\",\"Lamoda Tech\",\"Samokat.tech\",\"\\u0414\\u041e\\u041c.\\u0420\\u0424\",\"HeadHunter\",\"\\u04221\",\"Okko\"],\"y\":[19.5,4.2,3.2,2.9,2.9,2.6,1.9,1.6,1.6,1.6,1.6,1.3,1.3,1.3,1.3,1.3,1.0,1.0,1.0,1.0,1.0,1.0,1.0,1.0,1.0,1.0,1.0,1.0,0.6,0.6,0.6,0.6,0.6,0.6,0.6,0.6,0.6,0.6,0.6,0.6,0.6,0.6,0.6,0.6,0.6,0.6,0.6,0.6,0.3,0.3,0.3,0.3,0.3,0.3,0.3,0.3,0.3,0.3,0.3,0.3,0.3,0.3,0.3,0.3,0.3,0.3,0.3,0.3,0.3,0.3,0.3,0.3,0.3,0.3,0.3,0.3,0.3,0.3,0.3,0.3,0.3,0.3,0.3,0.3,0.3,0.3,0.3,0.3,0.3,0.3,0.3,0.3,0.3,0.3,0.3,0.3,0.3,0.3,0.3,0.3,0.3,0.3,0.3,0.3,0.3,0.3,0.3,0.3,0.3,0.3,0.3,0.3,0.3,0.3,0.3,0.3,0.3,0.3,0.3,0.3,0.3,0.3,0.3,0.3,0.3],\"type\":\"bar\",\"xaxis\":\"x6\",\"yaxis\":\"y6\"},{\"marker\":{\"color\":[\"#B5D4FF\",\"#B5D4FF\"]},\"showlegend\":false,\"text\":[\"67%\",\"33%\"],\"x\":[\"\\u041b\\u0435\\u0440\\u0443\\u0430 \\u041c\\u0435\\u0440\\u043b\\u0435\\u043d\",\"Reinvent Baltics\"],\"y\":[66.7,33.3],\"type\":\"bar\",\"xaxis\":\"x7\",\"yaxis\":\"y7\"},{\"marker\":{\"color\":[\"#B5D4FF\",\"#B5D4FF\",\"#B5D4FF\",\"#B5D4FF\",\"#B5D4FF\",\"#B5D4FF\",\"#B5D4FF\",\"#B5D4FF\",\"#B5D4FF\",\"#B5D4FF\",\"#B5D4FF\",\"#B5D4FF\",\"#B5D4FF\",\"#B5D4FF\",\"#B5D4FF\",\"#B5D4FF\",\"#B5D4FF\",\"#B5D4FF\",\"#B5D4FF\"]},\"showlegend\":false,\"text\":[\"9%\",\"9%\",\"9%\",\"4%\",\"4%\",\"4%\",\"4%\",\"4%\",\"4%\",\"4%\",\"4%\",\"4%\",\"4%\",\"4%\",\"4%\",\"4%\",\"4%\",\"4%\",\"4%\"],\"x\":[\"\\u0421\\u0411\\u0415\\u0420\",\"Fundraise Up\",\"Sape\",\"\\u0411\\u0438\\u0410\\u0439\\u042d\\u0439-\\u0422\\u0435\\u0445\\u043d\\u043e\\u043b\\u043e\\u0434\\u0436\\u0438\\u0437\",\"\\u0420\\u0423\\u0421\\u0410\\u041b, \\u0426\\u0435\\u043d\\u0442\\u0440 \\u043f\\u043e\\u0434\\u0431\\u043e\\u0440\\u0430 \\u043f\\u0435\\u0440\\u0441\\u043e\\u043d\\u0430\\u043b\\u0430\",\"\\u0420\\u0421\\u0425\\u0411-\\u0418\\u043d\\u0442\\u0435\\u0445\",\"\\u041c\\u043e\\u043a\\u043a\\u0430\",\"\\u041a\\u043e\\u043d\\u0441\\u0430\\u043b\\u0442\\u0438\\u043a\\u0430\",\"\\u0413\\u0443\\u0434\\u0444\\u043e\\u043a\\u0430\\u0441\\u0442\",\"\\u0413\\u0430\\u0437\\u043f\\u0440\\u043e\\u043c \\u043d\\u0435\\u0444\\u0442\\u044c\"],\"y\":[9.1,9.1,9.1,4.5,4.5,4.5,4.5,4.5,4.5,4.5,4.5,4.5,4.5,4.5,4.5,4.5,4.5,4.5,4.5],\"type\":\"bar\",\"xaxis\":\"x8\",\"yaxis\":\"y8\"}],                        {\"template\":{\"data\":{\"histogram2dcontour\":[{\"type\":\"histogram2dcontour\",\"colorbar\":{\"outlinewidth\":0,\"ticks\":\"\"},\"colorscale\":[[0.0,\"#0d0887\"],[0.1111111111111111,\"#46039f\"],[0.2222222222222222,\"#7201a8\"],[0.3333333333333333,\"#9c179e\"],[0.4444444444444444,\"#bd3786\"],[0.5555555555555556,\"#d8576b\"],[0.6666666666666666,\"#ed7953\"],[0.7777777777777778,\"#fb9f3a\"],[0.8888888888888888,\"#fdca26\"],[1.0,\"#f0f921\"]]}],\"choropleth\":[{\"type\":\"choropleth\",\"colorbar\":{\"outlinewidth\":0,\"ticks\":\"\"}}],\"histogram2d\":[{\"type\":\"histogram2d\",\"colorbar\":{\"outlinewidth\":0,\"ticks\":\"\"},\"colorscale\":[[0.0,\"#0d0887\"],[0.1111111111111111,\"#46039f\"],[0.2222222222222222,\"#7201a8\"],[0.3333333333333333,\"#9c179e\"],[0.4444444444444444,\"#bd3786\"],[0.5555555555555556,\"#d8576b\"],[0.6666666666666666,\"#ed7953\"],[0.7777777777777778,\"#fb9f3a\"],[0.8888888888888888,\"#fdca26\"],[1.0,\"#f0f921\"]]}],\"heatmap\":[{\"type\":\"heatmap\",\"colorbar\":{\"outlinewidth\":0,\"ticks\":\"\"},\"colorscale\":[[0.0,\"#0d0887\"],[0.1111111111111111,\"#46039f\"],[0.2222222222222222,\"#7201a8\"],[0.3333333333333333,\"#9c179e\"],[0.4444444444444444,\"#bd3786\"],[0.5555555555555556,\"#d8576b\"],[0.6666666666666666,\"#ed7953\"],[0.7777777777777778,\"#fb9f3a\"],[0.8888888888888888,\"#fdca26\"],[1.0,\"#f0f921\"]]}],\"heatmapgl\":[{\"type\":\"heatmapgl\",\"colorbar\":{\"outlinewidth\":0,\"ticks\":\"\"},\"colorscale\":[[0.0,\"#0d0887\"],[0.1111111111111111,\"#46039f\"],[0.2222222222222222,\"#7201a8\"],[0.3333333333333333,\"#9c179e\"],[0.4444444444444444,\"#bd3786\"],[0.5555555555555556,\"#d8576b\"],[0.6666666666666666,\"#ed7953\"],[0.7777777777777778,\"#fb9f3a\"],[0.8888888888888888,\"#fdca26\"],[1.0,\"#f0f921\"]]}],\"contourcarpet\":[{\"type\":\"contourcarpet\",\"colorbar\":{\"outlinewidth\":0,\"ticks\":\"\"}}],\"contour\":[{\"type\":\"contour\",\"colorbar\":{\"outlinewidth\":0,\"ticks\":\"\"},\"colorscale\":[[0.0,\"#0d0887\"],[0.1111111111111111,\"#46039f\"],[0.2222222222222222,\"#7201a8\"],[0.3333333333333333,\"#9c179e\"],[0.4444444444444444,\"#bd3786\"],[0.5555555555555556,\"#d8576b\"],[0.6666666666666666,\"#ed7953\"],[0.7777777777777778,\"#fb9f3a\"],[0.8888888888888888,\"#fdca26\"],[1.0,\"#f0f921\"]]}],\"surface\":[{\"type\":\"surface\",\"colorbar\":{\"outlinewidth\":0,\"ticks\":\"\"},\"colorscale\":[[0.0,\"#0d0887\"],[0.1111111111111111,\"#46039f\"],[0.2222222222222222,\"#7201a8\"],[0.3333333333333333,\"#9c179e\"],[0.4444444444444444,\"#bd3786\"],[0.5555555555555556,\"#d8576b\"],[0.6666666666666666,\"#ed7953\"],[0.7777777777777778,\"#fb9f3a\"],[0.8888888888888888,\"#fdca26\"],[1.0,\"#f0f921\"]]}],\"mesh3d\":[{\"type\":\"mesh3d\",\"colorbar\":{\"outlinewidth\":0,\"ticks\":\"\"}}],\"scatter\":[{\"fillpattern\":{\"fillmode\":\"overlay\",\"size\":10,\"solidity\":0.2},\"type\":\"scatter\"}],\"parcoords\":[{\"type\":\"parcoords\",\"line\":{\"colorbar\":{\"outlinewidth\":0,\"ticks\":\"\"}}}],\"scatterpolargl\":[{\"type\":\"scatterpolargl\",\"marker\":{\"colorbar\":{\"outlinewidth\":0,\"ticks\":\"\"}}}],\"bar\":[{\"error_x\":{\"color\":\"#2a3f5f\"},\"error_y\":{\"color\":\"#2a3f5f\"},\"marker\":{\"line\":{\"color\":\"#E5ECF6\",\"width\":0.5},\"pattern\":{\"fillmode\":\"overlay\",\"size\":10,\"solidity\":0.2}},\"type\":\"bar\"}],\"scattergeo\":[{\"type\":\"scattergeo\",\"marker\":{\"colorbar\":{\"outlinewidth\":0,\"ticks\":\"\"}}}],\"scatterpolar\":[{\"type\":\"scatterpolar\",\"marker\":{\"colorbar\":{\"outlinewidth\":0,\"ticks\":\"\"}}}],\"histogram\":[{\"marker\":{\"pattern\":{\"fillmode\":\"overlay\",\"size\":10,\"solidity\":0.2}},\"type\":\"histogram\"}],\"scattergl\":[{\"type\":\"scattergl\",\"marker\":{\"colorbar\":{\"outlinewidth\":0,\"ticks\":\"\"}}}],\"scatter3d\":[{\"type\":\"scatter3d\",\"line\":{\"colorbar\":{\"outlinewidth\":0,\"ticks\":\"\"}},\"marker\":{\"colorbar\":{\"outlinewidth\":0,\"ticks\":\"\"}}}],\"scattermapbox\":[{\"type\":\"scattermapbox\",\"marker\":{\"colorbar\":{\"outlinewidth\":0,\"ticks\":\"\"}}}],\"scatterternary\":[{\"type\":\"scatterternary\",\"marker\":{\"colorbar\":{\"outlinewidth\":0,\"ticks\":\"\"}}}],\"scattercarpet\":[{\"type\":\"scattercarpet\",\"marker\":{\"colorbar\":{\"outlinewidth\":0,\"ticks\":\"\"}}}],\"carpet\":[{\"aaxis\":{\"endlinecolor\":\"#2a3f5f\",\"gridcolor\":\"white\",\"linecolor\":\"white\",\"minorgridcolor\":\"white\",\"startlinecolor\":\"#2a3f5f\"},\"baxis\":{\"endlinecolor\":\"#2a3f5f\",\"gridcolor\":\"white\",\"linecolor\":\"white\",\"minorgridcolor\":\"white\",\"startlinecolor\":\"#2a3f5f\"},\"type\":\"carpet\"}],\"table\":[{\"cells\":{\"fill\":{\"color\":\"#EBF0F8\"},\"line\":{\"color\":\"white\"}},\"header\":{\"fill\":{\"color\":\"#C8D4E3\"},\"line\":{\"color\":\"white\"}},\"type\":\"table\"}],\"barpolar\":[{\"marker\":{\"line\":{\"color\":\"#E5ECF6\",\"width\":0.5},\"pattern\":{\"fillmode\":\"overlay\",\"size\":10,\"solidity\":0.2}},\"type\":\"barpolar\"}],\"pie\":[{\"automargin\":true,\"type\":\"pie\"}]},\"layout\":{\"autotypenumbers\":\"strict\",\"colorway\":[\"#636efa\",\"#EF553B\",\"#00cc96\",\"#ab63fa\",\"#FFA15A\",\"#19d3f3\",\"#FF6692\",\"#B6E880\",\"#FF97FF\",\"#FECB52\"],\"font\":{\"color\":\"#2a3f5f\"},\"hovermode\":\"closest\",\"hoverlabel\":{\"align\":\"left\"},\"paper_bgcolor\":\"white\",\"plot_bgcolor\":\"#E5ECF6\",\"polar\":{\"bgcolor\":\"#E5ECF6\",\"angularaxis\":{\"gridcolor\":\"white\",\"linecolor\":\"white\",\"ticks\":\"\"},\"radialaxis\":{\"gridcolor\":\"white\",\"linecolor\":\"white\",\"ticks\":\"\"}},\"ternary\":{\"bgcolor\":\"#E5ECF6\",\"aaxis\":{\"gridcolor\":\"white\",\"linecolor\":\"white\",\"ticks\":\"\"},\"baxis\":{\"gridcolor\":\"white\",\"linecolor\":\"white\",\"ticks\":\"\"},\"caxis\":{\"gridcolor\":\"white\",\"linecolor\":\"white\",\"ticks\":\"\"}},\"coloraxis\":{\"colorbar\":{\"outlinewidth\":0,\"ticks\":\"\"}},\"colorscale\":{\"sequential\":[[0.0,\"#0d0887\"],[0.1111111111111111,\"#46039f\"],[0.2222222222222222,\"#7201a8\"],[0.3333333333333333,\"#9c179e\"],[0.4444444444444444,\"#bd3786\"],[0.5555555555555556,\"#d8576b\"],[0.6666666666666666,\"#ed7953\"],[0.7777777777777778,\"#fb9f3a\"],[0.8888888888888888,\"#fdca26\"],[1.0,\"#f0f921\"]],\"sequentialminus\":[[0.0,\"#0d0887\"],[0.1111111111111111,\"#46039f\"],[0.2222222222222222,\"#7201a8\"],[0.3333333333333333,\"#9c179e\"],[0.4444444444444444,\"#bd3786\"],[0.5555555555555556,\"#d8576b\"],[0.6666666666666666,\"#ed7953\"],[0.7777777777777778,\"#fb9f3a\"],[0.8888888888888888,\"#fdca26\"],[1.0,\"#f0f921\"]],\"diverging\":[[0,\"#8e0152\"],[0.1,\"#c51b7d\"],[0.2,\"#de77ae\"],[0.3,\"#f1b6da\"],[0.4,\"#fde0ef\"],[0.5,\"#f7f7f7\"],[0.6,\"#e6f5d0\"],[0.7,\"#b8e186\"],[0.8,\"#7fbc41\"],[0.9,\"#4d9221\"],[1,\"#276419\"]]},\"xaxis\":{\"gridcolor\":\"white\",\"linecolor\":\"white\",\"ticks\":\"\",\"title\":{\"standoff\":15},\"zerolinecolor\":\"white\",\"automargin\":true,\"zerolinewidth\":2},\"yaxis\":{\"gridcolor\":\"white\",\"linecolor\":\"white\",\"ticks\":\"\",\"title\":{\"standoff\":15},\"zerolinecolor\":\"white\",\"automargin\":true,\"zerolinewidth\":2},\"scene\":{\"xaxis\":{\"backgroundcolor\":\"#E5ECF6\",\"gridcolor\":\"white\",\"linecolor\":\"white\",\"showbackground\":true,\"ticks\":\"\",\"zerolinecolor\":\"white\",\"gridwidth\":2},\"yaxis\":{\"backgroundcolor\":\"#E5ECF6\",\"gridcolor\":\"white\",\"linecolor\":\"white\",\"showbackground\":true,\"ticks\":\"\",\"zerolinecolor\":\"white\",\"gridwidth\":2},\"zaxis\":{\"backgroundcolor\":\"#E5ECF6\",\"gridcolor\":\"white\",\"linecolor\":\"white\",\"showbackground\":true,\"ticks\":\"\",\"zerolinecolor\":\"white\",\"gridwidth\":2}},\"shapedefaults\":{\"line\":{\"color\":\"#2a3f5f\"}},\"annotationdefaults\":{\"arrowcolor\":\"#2a3f5f\",\"arrowhead\":0,\"arrowwidth\":1},\"geo\":{\"bgcolor\":\"white\",\"landcolor\":\"#E5ECF6\",\"subunitcolor\":\"white\",\"showland\":true,\"showlakes\":true,\"lakecolor\":\"white\"},\"title\":{\"x\":0.05},\"mapbox\":{\"style\":\"light\"}}},\"xaxis\":{\"anchor\":\"y\",\"domain\":[0.0,0.45],\"tickfont\":{\"size\":9}},\"yaxis\":{\"anchor\":\"x\",\"domain\":[0.84375,1.0],\"showticklabels\":false},\"xaxis2\":{\"anchor\":\"y2\",\"domain\":[0.55,1.0],\"tickfont\":{\"size\":9}},\"yaxis2\":{\"anchor\":\"x2\",\"domain\":[0.84375,1.0],\"showticklabels\":false},\"xaxis3\":{\"anchor\":\"y3\",\"domain\":[0.0,0.45],\"tickfont\":{\"size\":9}},\"yaxis3\":{\"anchor\":\"x3\",\"domain\":[0.5625,0.71875],\"showticklabels\":false},\"xaxis4\":{\"anchor\":\"y4\",\"domain\":[0.55,1.0],\"tickfont\":{\"size\":9}},\"yaxis4\":{\"anchor\":\"x4\",\"domain\":[0.5625,0.71875],\"showticklabels\":false},\"xaxis5\":{\"anchor\":\"y5\",\"domain\":[0.0,0.45],\"tickfont\":{\"size\":9}},\"yaxis5\":{\"anchor\":\"x5\",\"domain\":[0.28125,0.4375],\"showticklabels\":false},\"xaxis6\":{\"anchor\":\"y6\",\"domain\":[0.55,1.0],\"tickfont\":{\"size\":9}},\"yaxis6\":{\"anchor\":\"x6\",\"domain\":[0.28125,0.4375],\"showticklabels\":false},\"xaxis7\":{\"anchor\":\"y7\",\"domain\":[0.0,0.45],\"tickfont\":{\"size\":9}},\"yaxis7\":{\"anchor\":\"x7\",\"domain\":[0.0,0.15625],\"showticklabels\":false},\"xaxis8\":{\"anchor\":\"y8\",\"domain\":[0.55,1.0],\"tickfont\":{\"size\":9}},\"yaxis8\":{\"anchor\":\"x8\",\"domain\":[0.0,0.15625],\"showticklabels\":false},\"annotations\":[{\"font\":{\"size\":16},\"showarrow\":false,\"text\":\"\\u0420\\u0430\\u0431\\u043e\\u0442\\u043e\\u0434\\u0430\\u0442\\u0435\\u043b\\u0438 DA Junior (no experince)\",\"x\":0.225,\"xanchor\":\"center\",\"xref\":\"paper\",\"y\":1.0,\"yanchor\":\"bottom\",\"yref\":\"paper\"},{\"font\":{\"size\":16},\"showarrow\":false,\"text\":\"\\u0420\\u0430\\u0431\\u043e\\u0442\\u043e\\u0434\\u0430\\u0442\\u0435\\u043b\\u0438 DS Junior (no experince)\",\"x\":0.775,\"xanchor\":\"center\",\"xref\":\"paper\",\"y\":1.0,\"yanchor\":\"bottom\",\"yref\":\"paper\"},{\"font\":{\"size\":16},\"showarrow\":false,\"text\":\"\\u0420\\u0430\\u0431\\u043e\\u0442\\u043e\\u0434\\u0430\\u0442\\u0435\\u043b\\u0438 DA Junior+ (1-3 years)\",\"x\":0.225,\"xanchor\":\"center\",\"xref\":\"paper\",\"y\":0.71875,\"yanchor\":\"bottom\",\"yref\":\"paper\"},{\"font\":{\"size\":16},\"showarrow\":false,\"text\":\"\\u0420\\u0430\\u0431\\u043e\\u0442\\u043e\\u0434\\u0430\\u0442\\u0435\\u043b\\u0438 DS Junior+ (1-3 years)\",\"x\":0.775,\"xanchor\":\"center\",\"xref\":\"paper\",\"y\":0.71875,\"yanchor\":\"bottom\",\"yref\":\"paper\"},{\"font\":{\"size\":16},\"showarrow\":false,\"text\":\"\\u0420\\u0430\\u0431\\u043e\\u0442\\u043e\\u0434\\u0430\\u0442\\u0435\\u043b\\u0438 DA Middle (3-6 years)\",\"x\":0.225,\"xanchor\":\"center\",\"xref\":\"paper\",\"y\":0.4375,\"yanchor\":\"bottom\",\"yref\":\"paper\"},{\"font\":{\"size\":16},\"showarrow\":false,\"text\":\"\\u0420\\u0430\\u0431\\u043e\\u0442\\u043e\\u0434\\u0430\\u0442\\u0435\\u043b\\u0438 DS Middle (3-6 years)\",\"x\":0.775,\"xanchor\":\"center\",\"xref\":\"paper\",\"y\":0.4375,\"yanchor\":\"bottom\",\"yref\":\"paper\"},{\"font\":{\"size\":16},\"showarrow\":false,\"text\":\"\\u0420\\u0430\\u0431\\u043e\\u0442\\u043e\\u0434\\u0430\\u0442\\u0435\\u043b\\u0438 DA Senior (6+ years)\",\"x\":0.225,\"xanchor\":\"center\",\"xref\":\"paper\",\"y\":0.15625,\"yanchor\":\"bottom\",\"yref\":\"paper\"},{\"font\":{\"size\":16},\"showarrow\":false,\"text\":\"\\u0420\\u0430\\u0431\\u043e\\u0442\\u043e\\u0434\\u0430\\u0442\\u0435\\u043b\\u0438 DS Senior (6+ years)\",\"x\":0.775,\"xanchor\":\"center\",\"xref\":\"paper\",\"y\":0.15625,\"yanchor\":\"bottom\",\"yref\":\"paper\"}],\"title\":{\"text\":\"\\u0422\\u043e\\u043f 10 \\u0440\\u0430\\u0431\\u043e\\u0442\\u043e\\u0434\\u0430\\u0442\\u0435\\u043b\\u0435\\u0439\"},\"height\":1200,\"width\":1500,\"showlegend\":false},                        {\"responsive\": true}                    ).then(function(){\n",
              "                            \n",
              "var gd = document.getElementById('7dcb309a-ebbe-4dfe-ad89-37521d27fbc4');\n",
              "var x = new MutationObserver(function (mutations, observer) {{\n",
              "        var display = window.getComputedStyle(gd).display;\n",
              "        if (!display || display === 'none') {{\n",
              "            console.log([gd, 'removed!']);\n",
              "            Plotly.purge(gd);\n",
              "            observer.disconnect();\n",
              "        }}\n",
              "}});\n",
              "\n",
              "// Listen for the removal of the full notebook cells\n",
              "var notebookContainer = gd.closest('#notebook-container');\n",
              "if (notebookContainer) {{\n",
              "    x.observe(notebookContainer, {childList: true});\n",
              "}}\n",
              "\n",
              "// Listen for the clearing of the current output cell\n",
              "var outputEl = gd.closest('.output');\n",
              "if (outputEl) {{\n",
              "    x.observe(outputEl, {childList: true});\n",
              "}}\n",
              "\n",
              "                        })                };                            </script>        </div>\n",
              "</body>\n",
              "</html>"
            ]
          },
          "metadata": {}
        }
      ]
    },
    {
      "cell_type": "markdown",
      "source": [
        "Посмотрим на общее количество работодателей по открытым вакансиям на DA и DS"
      ],
      "metadata": {
        "id": "KNxlGqia1W03"
      }
    },
    {
      "cell_type": "code",
      "source": [
        "all_da_empl = data_da.groupby('employer').agg(count=('id', 'count')).reset_index().sort_values(by='count', ascending=False)[:10]\n",
        "all_da_empl['share'] = count_percentage(all_da_empl)\n",
        "all_ds_empl = data_ds.groupby('employer').agg(count=('id', 'count')).reset_index().sort_values(by='count', ascending=False)[:10]\n",
        "all_ds_empl['share'] = count_percentage(all_ds_empl)\n",
        "\n",
        "fig_all_empl = make_subplots(\n",
        "      rows=1, cols=2,\n",
        "      subplot_titles=['Работодатели Аналитиков', 'Работодатели специалистов DS']\n",
        "      )\n",
        "\n",
        "fig_all_empl.add_trace(go.Bar(\n",
        "    x=all_da_empl['employer'],\n",
        "    y=all_da_empl['share'],\n",
        "    marker_color='blue',\n",
        "    showlegend=False,\n",
        "    text=make_percent(all_da_empl)),\n",
        "                   row=1, col=1)\n",
        "\n",
        "fig_all_empl.add_trace(go.Bar(\n",
        "    x=all_ds_empl['employer'],\n",
        "    y=all_ds_empl['share'],\n",
        "    marker_color='red',\n",
        "    showlegend=False,\n",
        "    text=make_percent(all_ds_empl)\n",
        "    ),\n",
        "                   row=1, col=2)\n",
        "\n",
        "fig_all_empl.update_layout(title_text='Топ работодателей среди вакансий Аналитиков и специалистов DS ', showlegend=False)\n",
        "fig_all_empl.show()"
      ],
      "metadata": {
        "id": "sKplBYGc6WSe",
        "colab": {
          "base_uri": "https://localhost:8080/",
          "height": 542
        },
        "outputId": "47eb6f77-a6f3-4b95-8b08-c166dd16c19e"
      },
      "execution_count": 49,
      "outputs": [
        {
          "output_type": "display_data",
          "data": {
            "text/html": [
              "<html>\n",
              "<head><meta charset=\"utf-8\" /></head>\n",
              "<body>\n",
              "    <div>            <script src=\"https://cdnjs.cloudflare.com/ajax/libs/mathjax/2.7.5/MathJax.js?config=TeX-AMS-MML_SVG\"></script><script type=\"text/javascript\">if (window.MathJax && window.MathJax.Hub && window.MathJax.Hub.Config) {window.MathJax.Hub.Config({SVG: {font: \"STIX-Web\"}});}</script>                <script type=\"text/javascript\">window.PlotlyConfig = {MathJaxConfig: 'local'};</script>\n",
              "        <script charset=\"utf-8\" src=\"https://cdn.plot.ly/plotly-2.24.1.min.js\"></script>                <div id=\"b2abf32d-cc5a-4f05-a531-8ae5046723b6\" class=\"plotly-graph-div\" style=\"height:525px; width:100%;\"></div>            <script type=\"text/javascript\">                                    window.PLOTLYENV=window.PLOTLYENV || {};                                    if (document.getElementById(\"b2abf32d-cc5a-4f05-a531-8ae5046723b6\")) {                    Plotly.newPlot(                        \"b2abf32d-cc5a-4f05-a531-8ae5046723b6\",                        [{\"marker\":{\"color\":\"blue\"},\"showlegend\":false,\"text\":[\"55%\",\"12%\",\"6%\",\"5%\",\"5%\",\"4%\",\"4%\",\"3%\",\"3%\",\"2%\"],\"x\":[\"\\u0421\\u0411\\u0415\\u0420\",\"WILDBERRIES\",\"\\u041c\\u0422\\u0421\",\"\\u041c\\u0410\\u0413\\u041d\\u0418\\u0422, \\u0420\\u043e\\u0437\\u043d\\u0438\\u0447\\u043d\\u0430\\u044f \\u0441\\u0435\\u0442\\u044c\",\"Okko\",\"\\u041f\\u0421\\u0411 (\\u041f\\u0410\\u041e \\u00ab\\u041f\\u0440\\u043e\\u043c\\u0441\\u0432\\u044f\\u0437\\u044c\\u0431\\u0430\\u043d\\u043a\\u00bb)\",\"\\u00abUZUM TECHNOLOGIES\\u00bb.\",\"StudyWorld\",\"Maxim technology\",\"\\u0417\\u0432\\u0443\\u043a\"],\"y\":[54.6,11.8,5.9,5.0,5.0,4.2,4.2,3.4,3.4,2.5],\"type\":\"bar\",\"xaxis\":\"x\",\"yaxis\":\"y\"},{\"marker\":{\"color\":\"red\"},\"showlegend\":false,\"text\":[\"53%\",\"8%\",\"7%\",\"7%\",\"5%\",\"4%\",\"4%\",\"4%\",\"4%\",\"4%\"],\"x\":[\"\\u0421\\u0411\\u0415\\u0420\",\"Ozon\",\"\\u0413\\u0430\\u0437\\u043f\\u0440\\u043e\\u043c\\u0431\\u0430\\u043d\\u043a\",\"Samokat.tech\",\"\\u0411\\u0430\\u043d\\u043a \\u0412\\u0422\\u0411 (\\u041f\\u0410\\u041e)\",\"Lamoda Tech\",\"WILDBERRIES\",\"\\u0420\\u043e\\u0441\\u0442\\u0435\\u043b\\u0435\\u043a\\u043e\\u043c\",\"\\u0431\\u0438\\u043b\\u0430\\u0439\\u043d\",\"\\u04221\"],\"y\":[52.7,8.2,7.0,6.6,4.9,4.5,4.5,4.1,3.7,3.7],\"type\":\"bar\",\"xaxis\":\"x2\",\"yaxis\":\"y2\"}],                        {\"template\":{\"data\":{\"histogram2dcontour\":[{\"type\":\"histogram2dcontour\",\"colorbar\":{\"outlinewidth\":0,\"ticks\":\"\"},\"colorscale\":[[0.0,\"#0d0887\"],[0.1111111111111111,\"#46039f\"],[0.2222222222222222,\"#7201a8\"],[0.3333333333333333,\"#9c179e\"],[0.4444444444444444,\"#bd3786\"],[0.5555555555555556,\"#d8576b\"],[0.6666666666666666,\"#ed7953\"],[0.7777777777777778,\"#fb9f3a\"],[0.8888888888888888,\"#fdca26\"],[1.0,\"#f0f921\"]]}],\"choropleth\":[{\"type\":\"choropleth\",\"colorbar\":{\"outlinewidth\":0,\"ticks\":\"\"}}],\"histogram2d\":[{\"type\":\"histogram2d\",\"colorbar\":{\"outlinewidth\":0,\"ticks\":\"\"},\"colorscale\":[[0.0,\"#0d0887\"],[0.1111111111111111,\"#46039f\"],[0.2222222222222222,\"#7201a8\"],[0.3333333333333333,\"#9c179e\"],[0.4444444444444444,\"#bd3786\"],[0.5555555555555556,\"#d8576b\"],[0.6666666666666666,\"#ed7953\"],[0.7777777777777778,\"#fb9f3a\"],[0.8888888888888888,\"#fdca26\"],[1.0,\"#f0f921\"]]}],\"heatmap\":[{\"type\":\"heatmap\",\"colorbar\":{\"outlinewidth\":0,\"ticks\":\"\"},\"colorscale\":[[0.0,\"#0d0887\"],[0.1111111111111111,\"#46039f\"],[0.2222222222222222,\"#7201a8\"],[0.3333333333333333,\"#9c179e\"],[0.4444444444444444,\"#bd3786\"],[0.5555555555555556,\"#d8576b\"],[0.6666666666666666,\"#ed7953\"],[0.7777777777777778,\"#fb9f3a\"],[0.8888888888888888,\"#fdca26\"],[1.0,\"#f0f921\"]]}],\"heatmapgl\":[{\"type\":\"heatmapgl\",\"colorbar\":{\"outlinewidth\":0,\"ticks\":\"\"},\"colorscale\":[[0.0,\"#0d0887\"],[0.1111111111111111,\"#46039f\"],[0.2222222222222222,\"#7201a8\"],[0.3333333333333333,\"#9c179e\"],[0.4444444444444444,\"#bd3786\"],[0.5555555555555556,\"#d8576b\"],[0.6666666666666666,\"#ed7953\"],[0.7777777777777778,\"#fb9f3a\"],[0.8888888888888888,\"#fdca26\"],[1.0,\"#f0f921\"]]}],\"contourcarpet\":[{\"type\":\"contourcarpet\",\"colorbar\":{\"outlinewidth\":0,\"ticks\":\"\"}}],\"contour\":[{\"type\":\"contour\",\"colorbar\":{\"outlinewidth\":0,\"ticks\":\"\"},\"colorscale\":[[0.0,\"#0d0887\"],[0.1111111111111111,\"#46039f\"],[0.2222222222222222,\"#7201a8\"],[0.3333333333333333,\"#9c179e\"],[0.4444444444444444,\"#bd3786\"],[0.5555555555555556,\"#d8576b\"],[0.6666666666666666,\"#ed7953\"],[0.7777777777777778,\"#fb9f3a\"],[0.8888888888888888,\"#fdca26\"],[1.0,\"#f0f921\"]]}],\"surface\":[{\"type\":\"surface\",\"colorbar\":{\"outlinewidth\":0,\"ticks\":\"\"},\"colorscale\":[[0.0,\"#0d0887\"],[0.1111111111111111,\"#46039f\"],[0.2222222222222222,\"#7201a8\"],[0.3333333333333333,\"#9c179e\"],[0.4444444444444444,\"#bd3786\"],[0.5555555555555556,\"#d8576b\"],[0.6666666666666666,\"#ed7953\"],[0.7777777777777778,\"#fb9f3a\"],[0.8888888888888888,\"#fdca26\"],[1.0,\"#f0f921\"]]}],\"mesh3d\":[{\"type\":\"mesh3d\",\"colorbar\":{\"outlinewidth\":0,\"ticks\":\"\"}}],\"scatter\":[{\"fillpattern\":{\"fillmode\":\"overlay\",\"size\":10,\"solidity\":0.2},\"type\":\"scatter\"}],\"parcoords\":[{\"type\":\"parcoords\",\"line\":{\"colorbar\":{\"outlinewidth\":0,\"ticks\":\"\"}}}],\"scatterpolargl\":[{\"type\":\"scatterpolargl\",\"marker\":{\"colorbar\":{\"outlinewidth\":0,\"ticks\":\"\"}}}],\"bar\":[{\"error_x\":{\"color\":\"#2a3f5f\"},\"error_y\":{\"color\":\"#2a3f5f\"},\"marker\":{\"line\":{\"color\":\"#E5ECF6\",\"width\":0.5},\"pattern\":{\"fillmode\":\"overlay\",\"size\":10,\"solidity\":0.2}},\"type\":\"bar\"}],\"scattergeo\":[{\"type\":\"scattergeo\",\"marker\":{\"colorbar\":{\"outlinewidth\":0,\"ticks\":\"\"}}}],\"scatterpolar\":[{\"type\":\"scatterpolar\",\"marker\":{\"colorbar\":{\"outlinewidth\":0,\"ticks\":\"\"}}}],\"histogram\":[{\"marker\":{\"pattern\":{\"fillmode\":\"overlay\",\"size\":10,\"solidity\":0.2}},\"type\":\"histogram\"}],\"scattergl\":[{\"type\":\"scattergl\",\"marker\":{\"colorbar\":{\"outlinewidth\":0,\"ticks\":\"\"}}}],\"scatter3d\":[{\"type\":\"scatter3d\",\"line\":{\"colorbar\":{\"outlinewidth\":0,\"ticks\":\"\"}},\"marker\":{\"colorbar\":{\"outlinewidth\":0,\"ticks\":\"\"}}}],\"scattermapbox\":[{\"type\":\"scattermapbox\",\"marker\":{\"colorbar\":{\"outlinewidth\":0,\"ticks\":\"\"}}}],\"scatterternary\":[{\"type\":\"scatterternary\",\"marker\":{\"colorbar\":{\"outlinewidth\":0,\"ticks\":\"\"}}}],\"scattercarpet\":[{\"type\":\"scattercarpet\",\"marker\":{\"colorbar\":{\"outlinewidth\":0,\"ticks\":\"\"}}}],\"carpet\":[{\"aaxis\":{\"endlinecolor\":\"#2a3f5f\",\"gridcolor\":\"white\",\"linecolor\":\"white\",\"minorgridcolor\":\"white\",\"startlinecolor\":\"#2a3f5f\"},\"baxis\":{\"endlinecolor\":\"#2a3f5f\",\"gridcolor\":\"white\",\"linecolor\":\"white\",\"minorgridcolor\":\"white\",\"startlinecolor\":\"#2a3f5f\"},\"type\":\"carpet\"}],\"table\":[{\"cells\":{\"fill\":{\"color\":\"#EBF0F8\"},\"line\":{\"color\":\"white\"}},\"header\":{\"fill\":{\"color\":\"#C8D4E3\"},\"line\":{\"color\":\"white\"}},\"type\":\"table\"}],\"barpolar\":[{\"marker\":{\"line\":{\"color\":\"#E5ECF6\",\"width\":0.5},\"pattern\":{\"fillmode\":\"overlay\",\"size\":10,\"solidity\":0.2}},\"type\":\"barpolar\"}],\"pie\":[{\"automargin\":true,\"type\":\"pie\"}]},\"layout\":{\"autotypenumbers\":\"strict\",\"colorway\":[\"#636efa\",\"#EF553B\",\"#00cc96\",\"#ab63fa\",\"#FFA15A\",\"#19d3f3\",\"#FF6692\",\"#B6E880\",\"#FF97FF\",\"#FECB52\"],\"font\":{\"color\":\"#2a3f5f\"},\"hovermode\":\"closest\",\"hoverlabel\":{\"align\":\"left\"},\"paper_bgcolor\":\"white\",\"plot_bgcolor\":\"#E5ECF6\",\"polar\":{\"bgcolor\":\"#E5ECF6\",\"angularaxis\":{\"gridcolor\":\"white\",\"linecolor\":\"white\",\"ticks\":\"\"},\"radialaxis\":{\"gridcolor\":\"white\",\"linecolor\":\"white\",\"ticks\":\"\"}},\"ternary\":{\"bgcolor\":\"#E5ECF6\",\"aaxis\":{\"gridcolor\":\"white\",\"linecolor\":\"white\",\"ticks\":\"\"},\"baxis\":{\"gridcolor\":\"white\",\"linecolor\":\"white\",\"ticks\":\"\"},\"caxis\":{\"gridcolor\":\"white\",\"linecolor\":\"white\",\"ticks\":\"\"}},\"coloraxis\":{\"colorbar\":{\"outlinewidth\":0,\"ticks\":\"\"}},\"colorscale\":{\"sequential\":[[0.0,\"#0d0887\"],[0.1111111111111111,\"#46039f\"],[0.2222222222222222,\"#7201a8\"],[0.3333333333333333,\"#9c179e\"],[0.4444444444444444,\"#bd3786\"],[0.5555555555555556,\"#d8576b\"],[0.6666666666666666,\"#ed7953\"],[0.7777777777777778,\"#fb9f3a\"],[0.8888888888888888,\"#fdca26\"],[1.0,\"#f0f921\"]],\"sequentialminus\":[[0.0,\"#0d0887\"],[0.1111111111111111,\"#46039f\"],[0.2222222222222222,\"#7201a8\"],[0.3333333333333333,\"#9c179e\"],[0.4444444444444444,\"#bd3786\"],[0.5555555555555556,\"#d8576b\"],[0.6666666666666666,\"#ed7953\"],[0.7777777777777778,\"#fb9f3a\"],[0.8888888888888888,\"#fdca26\"],[1.0,\"#f0f921\"]],\"diverging\":[[0,\"#8e0152\"],[0.1,\"#c51b7d\"],[0.2,\"#de77ae\"],[0.3,\"#f1b6da\"],[0.4,\"#fde0ef\"],[0.5,\"#f7f7f7\"],[0.6,\"#e6f5d0\"],[0.7,\"#b8e186\"],[0.8,\"#7fbc41\"],[0.9,\"#4d9221\"],[1,\"#276419\"]]},\"xaxis\":{\"gridcolor\":\"white\",\"linecolor\":\"white\",\"ticks\":\"\",\"title\":{\"standoff\":15},\"zerolinecolor\":\"white\",\"automargin\":true,\"zerolinewidth\":2},\"yaxis\":{\"gridcolor\":\"white\",\"linecolor\":\"white\",\"ticks\":\"\",\"title\":{\"standoff\":15},\"zerolinecolor\":\"white\",\"automargin\":true,\"zerolinewidth\":2},\"scene\":{\"xaxis\":{\"backgroundcolor\":\"#E5ECF6\",\"gridcolor\":\"white\",\"linecolor\":\"white\",\"showbackground\":true,\"ticks\":\"\",\"zerolinecolor\":\"white\",\"gridwidth\":2},\"yaxis\":{\"backgroundcolor\":\"#E5ECF6\",\"gridcolor\":\"white\",\"linecolor\":\"white\",\"showbackground\":true,\"ticks\":\"\",\"zerolinecolor\":\"white\",\"gridwidth\":2},\"zaxis\":{\"backgroundcolor\":\"#E5ECF6\",\"gridcolor\":\"white\",\"linecolor\":\"white\",\"showbackground\":true,\"ticks\":\"\",\"zerolinecolor\":\"white\",\"gridwidth\":2}},\"shapedefaults\":{\"line\":{\"color\":\"#2a3f5f\"}},\"annotationdefaults\":{\"arrowcolor\":\"#2a3f5f\",\"arrowhead\":0,\"arrowwidth\":1},\"geo\":{\"bgcolor\":\"white\",\"landcolor\":\"#E5ECF6\",\"subunitcolor\":\"white\",\"showland\":true,\"showlakes\":true,\"lakecolor\":\"white\"},\"title\":{\"x\":0.05},\"mapbox\":{\"style\":\"light\"}}},\"xaxis\":{\"anchor\":\"y\",\"domain\":[0.0,0.45]},\"yaxis\":{\"anchor\":\"x\",\"domain\":[0.0,1.0]},\"xaxis2\":{\"anchor\":\"y2\",\"domain\":[0.55,1.0]},\"yaxis2\":{\"anchor\":\"x2\",\"domain\":[0.0,1.0]},\"annotations\":[{\"font\":{\"size\":16},\"showarrow\":false,\"text\":\"\\u0420\\u0430\\u0431\\u043e\\u0442\\u043e\\u0434\\u0430\\u0442\\u0435\\u043b\\u0438 \\u0410\\u043d\\u0430\\u043b\\u0438\\u0442\\u0438\\u043a\\u043e\\u0432\",\"x\":0.225,\"xanchor\":\"center\",\"xref\":\"paper\",\"y\":1.0,\"yanchor\":\"bottom\",\"yref\":\"paper\"},{\"font\":{\"size\":16},\"showarrow\":false,\"text\":\"\\u0420\\u0430\\u0431\\u043e\\u0442\\u043e\\u0434\\u0430\\u0442\\u0435\\u043b\\u0438 \\u0441\\u043f\\u0435\\u0446\\u0438\\u0430\\u043b\\u0438\\u0441\\u0442\\u043e\\u0432 DS\",\"x\":0.775,\"xanchor\":\"center\",\"xref\":\"paper\",\"y\":1.0,\"yanchor\":\"bottom\",\"yref\":\"paper\"}],\"title\":{\"text\":\"\\u0422\\u043e\\u043f \\u0440\\u0430\\u0431\\u043e\\u0442\\u043e\\u0434\\u0430\\u0442\\u0435\\u043b\\u0435\\u0439 \\u0441\\u0440\\u0435\\u0434\\u0438 \\u0432\\u0430\\u043a\\u0430\\u043d\\u0441\\u0438\\u0439 \\u0410\\u043d\\u0430\\u043b\\u0438\\u0442\\u0438\\u043a\\u043e\\u0432 \\u0438 \\u0441\\u043f\\u0435\\u0446\\u0438\\u0430\\u043b\\u0438\\u0441\\u0442\\u043e\\u0432 DS \"},\"showlegend\":false},                        {\"responsive\": true}                    ).then(function(){\n",
              "                            \n",
              "var gd = document.getElementById('b2abf32d-cc5a-4f05-a531-8ae5046723b6');\n",
              "var x = new MutationObserver(function (mutations, observer) {{\n",
              "        var display = window.getComputedStyle(gd).display;\n",
              "        if (!display || display === 'none') {{\n",
              "            console.log([gd, 'removed!']);\n",
              "            Plotly.purge(gd);\n",
              "            observer.disconnect();\n",
              "        }}\n",
              "}});\n",
              "\n",
              "// Listen for the removal of the full notebook cells\n",
              "var notebookContainer = gd.closest('#notebook-container');\n",
              "if (notebookContainer) {{\n",
              "    x.observe(notebookContainer, {childList: true});\n",
              "}}\n",
              "\n",
              "// Listen for the clearing of the current output cell\n",
              "var outputEl = gd.closest('.output');\n",
              "if (outputEl) {{\n",
              "    x.observe(outputEl, {childList: true});\n",
              "}}\n",
              "\n",
              "                        })                };                            </script>        </div>\n",
              "</body>\n",
              "</html>"
            ]
          },
          "metadata": {}
        }
      ]
    },
    {
      "cell_type": "markdown",
      "source": [
        "**Вывод:** Сбербанк наиболее активно нанимает специалистов обоих направлений — на него приходится более половины всех вакансий. За ним следует Wildberries, который активно ищет аналитиков. Ozon занимает второе место по поиску Data Scientist.\n",
        "Если рассматривать сферу деятельности компаний, которые ищут аналитиков и Data Scientist, то чаще всего таких сотрудников ищут банки и компании электронной коммерции. Также есть вакансии от маркетплейсов, например, Lamoda и Ozon.\n",
        "\n",
        "СБЕР активно ищет аналитиков Junior+ и Middle, а вот DS специалистов готов нанимать менее опытных Junior, а также Senior уровня.  "
      ],
      "metadata": {
        "id": "ZVFqHgy3KvQs"
      }
    },
    {
      "cell_type": "markdown",
      "source": [
        "Теперь определим по грейдам наиболее частые диапазоны ЗП Аналитиков и специалистов DS"
      ],
      "metadata": {
        "id": "NCmaAYaocmDQ"
      }
    },
    {
      "cell_type": "code",
      "source": [
        "show_top_by_category('salary_bin', 'Топ зарплатных категорий')"
      ],
      "metadata": {
        "colab": {
          "base_uri": "https://localhost:8080/",
          "height": 1000
        },
        "id": "YXPbNTnoB7oI",
        "outputId": "7528ea0c-be6b-4cc7-bd63-f3212a29fc0e"
      },
      "execution_count": 118,
      "outputs": [
        {
          "output_type": "display_data",
          "data": {
            "text/html": [
              "<html>\n",
              "<head><meta charset=\"utf-8\" /></head>\n",
              "<body>\n",
              "    <div>            <script src=\"https://cdnjs.cloudflare.com/ajax/libs/mathjax/2.7.5/MathJax.js?config=TeX-AMS-MML_SVG\"></script><script type=\"text/javascript\">if (window.MathJax && window.MathJax.Hub && window.MathJax.Hub.Config) {window.MathJax.Hub.Config({SVG: {font: \"STIX-Web\"}});}</script>                <script type=\"text/javascript\">window.PlotlyConfig = {MathJaxConfig: 'local'};</script>\n",
              "        <script charset=\"utf-8\" src=\"https://cdn.plot.ly/plotly-2.24.1.min.js\"></script>                <div id=\"919c4aca-1997-426d-a9e8-657800e1324b\" class=\"plotly-graph-div\" style=\"height:1200px; width:1500px;\"></div>            <script type=\"text/javascript\">                                    window.PLOTLYENV=window.PLOTLYENV || {};                                    if (document.getElementById(\"919c4aca-1997-426d-a9e8-657800e1324b\")) {                    Plotly.newPlot(                        \"919c4aca-1997-426d-a9e8-657800e1324b\",                        [{\"marker\":{\"color\":[\"rgb(39, 89, 94)\"]},\"showlegend\":false,\"text\":[\"100%\"],\"x\":[\"\\u0417\\u041f \\u043d\\u0435 \\u0443\\u043a\\u0430\\u0437\\u0430\\u043d\\u0430\"],\"y\":[100.0],\"type\":\"bar\",\"xaxis\":\"x\",\"yaxis\":\"y\"},{\"marker\":{\"color\":[\"rgb(39, 89, 94)\",\"rgb(41, 225, 88)\"]},\"showlegend\":false,\"text\":[\"96%\",\"4%\"],\"x\":[\"\\u0417\\u041f \\u043d\\u0435 \\u0443\\u043a\\u0430\\u0437\\u0430\\u043d\\u0430\",\"\\u041c\\u0435\\u043d\\u044c\\u0448\\u0435 100 \\u0442\\u044b\\u0441\\u044f\\u0447\"],\"y\":[96.0,4.0],\"type\":\"bar\",\"xaxis\":\"x2\",\"yaxis\":\"y2\"},{\"marker\":{\"color\":[\"rgb(39, 89, 94)\",\"rgb(150, 182, 92)\",\"rgb(173, 212, 209)\",\"rgb(41, 225, 88)\"]},\"showlegend\":false,\"text\":[\"91%\",\"5%\",\"4%\",\"1%\"],\"x\":[\"\\u0417\\u041f \\u043d\\u0435 \\u0443\\u043a\\u0430\\u0437\\u0430\\u043d\\u0430\",\"\\u041e\\u0442 200 \\u0442\\u044b\\u0441\\u044f\\u0447 \\u0434\\u043e 300 \\u0442\\u044b\\u0441\\u044f\\u0447\",\"\\u041e\\u0442 100 \\u0442\\u044b\\u0441\\u044f\\u0447 \\u0434\\u043e 200 \\u0442\\u044b\\u0441\\u044f\\u0447\",\"\\u041c\\u0435\\u043d\\u044c\\u0448\\u0435 100 \\u0442\\u044b\\u0441\\u044f\\u0447\"],\"y\":[90.9,4.8,3.6,0.6],\"type\":\"bar\",\"xaxis\":\"x3\",\"yaxis\":\"y3\"},{\"marker\":{\"color\":[\"rgb(39, 89, 94)\",\"rgb(35, 53, 110)\",\"rgb(150, 182, 92)\",\"rgb(173, 212, 209)\",\"rgb(41, 225, 88)\"]},\"showlegend\":false,\"text\":[\"90%\",\"5%\",\"3%\",\"2%\",\"1%\"],\"x\":[\"\\u0417\\u041f \\u043d\\u0435 \\u0443\\u043a\\u0430\\u0437\\u0430\\u043d\\u0430\",\"\\u0411\\u043e\\u043b\\u044c\\u0448\\u0435 300 \\u0442\\u044b\\u0441\\u044f\\u0447\",\"\\u041e\\u0442 200 \\u0442\\u044b\\u0441\\u044f\\u0447 \\u0434\\u043e 300 \\u0442\\u044b\\u0441\\u044f\\u0447\",\"\\u041e\\u0442 100 \\u0442\\u044b\\u0441\\u044f\\u0447 \\u0434\\u043e 200 \\u0442\\u044b\\u0441\\u044f\\u0447\",\"\\u041c\\u0435\\u043d\\u044c\\u0448\\u0435 100 \\u0442\\u044b\\u0441\\u044f\\u0447\"],\"y\":[90.2,4.7,2.7,1.6,0.8],\"type\":\"bar\",\"xaxis\":\"x4\",\"yaxis\":\"y4\"},{\"marker\":{\"color\":[\"rgb(39, 89, 94)\",\"rgb(35, 53, 110)\",\"rgb(150, 182, 92)\"]},\"showlegend\":false,\"text\":[\"93%\",\"5%\",\"2%\"],\"x\":[\"\\u0417\\u041f \\u043d\\u0435 \\u0443\\u043a\\u0430\\u0437\\u0430\\u043d\\u0430\",\"\\u0411\\u043e\\u043b\\u044c\\u0448\\u0435 300 \\u0442\\u044b\\u0441\\u044f\\u0447\",\"\\u041e\\u0442 200 \\u0442\\u044b\\u0441\\u044f\\u0447 \\u0434\\u043e 300 \\u0442\\u044b\\u0441\\u044f\\u0447\"],\"y\":[93.2,5.1,1.7],\"type\":\"bar\",\"xaxis\":\"x5\",\"yaxis\":\"y5\"},{\"marker\":{\"color\":[\"rgb(39, 89, 94)\",\"rgb(35, 53, 110)\",\"rgb(150, 182, 92)\",\"rgb(173, 212, 209)\"]},\"showlegend\":false,\"text\":[\"93%\",\"4%\",\"2%\",\"1%\"],\"x\":[\"\\u0417\\u041f \\u043d\\u0435 \\u0443\\u043a\\u0430\\u0437\\u0430\\u043d\\u0430\",\"\\u0411\\u043e\\u043b\\u044c\\u0448\\u0435 300 \\u0442\\u044b\\u0441\\u044f\\u0447\",\"\\u041e\\u0442 200 \\u0442\\u044b\\u0441\\u044f\\u0447 \\u0434\\u043e 300 \\u0442\\u044b\\u0441\\u044f\\u0447\",\"\\u041e\\u0442 100 \\u0442\\u044b\\u0441\\u044f\\u0447 \\u0434\\u043e 200 \\u0442\\u044b\\u0441\\u044f\\u0447\"],\"y\":[93.2,4.2,1.6,1.0],\"type\":\"bar\",\"xaxis\":\"x6\",\"yaxis\":\"y6\"},{\"marker\":{\"color\":[\"rgb(39, 89, 94)\"]},\"showlegend\":false,\"text\":[\"100%\"],\"x\":[\"\\u0417\\u041f \\u043d\\u0435 \\u0443\\u043a\\u0430\\u0437\\u0430\\u043d\\u0430\"],\"y\":[100.0],\"type\":\"bar\",\"xaxis\":\"x7\",\"yaxis\":\"y7\"},{\"marker\":{\"color\":[\"rgb(39, 89, 94)\",\"rgb(35, 53, 110)\",\"rgb(173, 212, 209)\"]},\"showlegend\":false,\"text\":[\"86%\",\"9%\",\"4%\"],\"x\":[\"\\u0417\\u041f \\u043d\\u0435 \\u0443\\u043a\\u0430\\u0437\\u0430\\u043d\\u0430\",\"\\u0411\\u043e\\u043b\\u044c\\u0448\\u0435 300 \\u0442\\u044b\\u0441\\u044f\\u0447\",\"\\u041e\\u0442 100 \\u0442\\u044b\\u0441\\u044f\\u0447 \\u0434\\u043e 200 \\u0442\\u044b\\u0441\\u044f\\u0447\"],\"y\":[86.4,9.1,4.5],\"type\":\"bar\",\"xaxis\":\"x8\",\"yaxis\":\"y8\"}],                        {\"template\":{\"data\":{\"histogram2dcontour\":[{\"type\":\"histogram2dcontour\",\"colorbar\":{\"outlinewidth\":0,\"ticks\":\"\"},\"colorscale\":[[0.0,\"#0d0887\"],[0.1111111111111111,\"#46039f\"],[0.2222222222222222,\"#7201a8\"],[0.3333333333333333,\"#9c179e\"],[0.4444444444444444,\"#bd3786\"],[0.5555555555555556,\"#d8576b\"],[0.6666666666666666,\"#ed7953\"],[0.7777777777777778,\"#fb9f3a\"],[0.8888888888888888,\"#fdca26\"],[1.0,\"#f0f921\"]]}],\"choropleth\":[{\"type\":\"choropleth\",\"colorbar\":{\"outlinewidth\":0,\"ticks\":\"\"}}],\"histogram2d\":[{\"type\":\"histogram2d\",\"colorbar\":{\"outlinewidth\":0,\"ticks\":\"\"},\"colorscale\":[[0.0,\"#0d0887\"],[0.1111111111111111,\"#46039f\"],[0.2222222222222222,\"#7201a8\"],[0.3333333333333333,\"#9c179e\"],[0.4444444444444444,\"#bd3786\"],[0.5555555555555556,\"#d8576b\"],[0.6666666666666666,\"#ed7953\"],[0.7777777777777778,\"#fb9f3a\"],[0.8888888888888888,\"#fdca26\"],[1.0,\"#f0f921\"]]}],\"heatmap\":[{\"type\":\"heatmap\",\"colorbar\":{\"outlinewidth\":0,\"ticks\":\"\"},\"colorscale\":[[0.0,\"#0d0887\"],[0.1111111111111111,\"#46039f\"],[0.2222222222222222,\"#7201a8\"],[0.3333333333333333,\"#9c179e\"],[0.4444444444444444,\"#bd3786\"],[0.5555555555555556,\"#d8576b\"],[0.6666666666666666,\"#ed7953\"],[0.7777777777777778,\"#fb9f3a\"],[0.8888888888888888,\"#fdca26\"],[1.0,\"#f0f921\"]]}],\"heatmapgl\":[{\"type\":\"heatmapgl\",\"colorbar\":{\"outlinewidth\":0,\"ticks\":\"\"},\"colorscale\":[[0.0,\"#0d0887\"],[0.1111111111111111,\"#46039f\"],[0.2222222222222222,\"#7201a8\"],[0.3333333333333333,\"#9c179e\"],[0.4444444444444444,\"#bd3786\"],[0.5555555555555556,\"#d8576b\"],[0.6666666666666666,\"#ed7953\"],[0.7777777777777778,\"#fb9f3a\"],[0.8888888888888888,\"#fdca26\"],[1.0,\"#f0f921\"]]}],\"contourcarpet\":[{\"type\":\"contourcarpet\",\"colorbar\":{\"outlinewidth\":0,\"ticks\":\"\"}}],\"contour\":[{\"type\":\"contour\",\"colorbar\":{\"outlinewidth\":0,\"ticks\":\"\"},\"colorscale\":[[0.0,\"#0d0887\"],[0.1111111111111111,\"#46039f\"],[0.2222222222222222,\"#7201a8\"],[0.3333333333333333,\"#9c179e\"],[0.4444444444444444,\"#bd3786\"],[0.5555555555555556,\"#d8576b\"],[0.6666666666666666,\"#ed7953\"],[0.7777777777777778,\"#fb9f3a\"],[0.8888888888888888,\"#fdca26\"],[1.0,\"#f0f921\"]]}],\"surface\":[{\"type\":\"surface\",\"colorbar\":{\"outlinewidth\":0,\"ticks\":\"\"},\"colorscale\":[[0.0,\"#0d0887\"],[0.1111111111111111,\"#46039f\"],[0.2222222222222222,\"#7201a8\"],[0.3333333333333333,\"#9c179e\"],[0.4444444444444444,\"#bd3786\"],[0.5555555555555556,\"#d8576b\"],[0.6666666666666666,\"#ed7953\"],[0.7777777777777778,\"#fb9f3a\"],[0.8888888888888888,\"#fdca26\"],[1.0,\"#f0f921\"]]}],\"mesh3d\":[{\"type\":\"mesh3d\",\"colorbar\":{\"outlinewidth\":0,\"ticks\":\"\"}}],\"scatter\":[{\"fillpattern\":{\"fillmode\":\"overlay\",\"size\":10,\"solidity\":0.2},\"type\":\"scatter\"}],\"parcoords\":[{\"type\":\"parcoords\",\"line\":{\"colorbar\":{\"outlinewidth\":0,\"ticks\":\"\"}}}],\"scatterpolargl\":[{\"type\":\"scatterpolargl\",\"marker\":{\"colorbar\":{\"outlinewidth\":0,\"ticks\":\"\"}}}],\"bar\":[{\"error_x\":{\"color\":\"#2a3f5f\"},\"error_y\":{\"color\":\"#2a3f5f\"},\"marker\":{\"line\":{\"color\":\"#E5ECF6\",\"width\":0.5},\"pattern\":{\"fillmode\":\"overlay\",\"size\":10,\"solidity\":0.2}},\"type\":\"bar\"}],\"scattergeo\":[{\"type\":\"scattergeo\",\"marker\":{\"colorbar\":{\"outlinewidth\":0,\"ticks\":\"\"}}}],\"scatterpolar\":[{\"type\":\"scatterpolar\",\"marker\":{\"colorbar\":{\"outlinewidth\":0,\"ticks\":\"\"}}}],\"histogram\":[{\"marker\":{\"pattern\":{\"fillmode\":\"overlay\",\"size\":10,\"solidity\":0.2}},\"type\":\"histogram\"}],\"scattergl\":[{\"type\":\"scattergl\",\"marker\":{\"colorbar\":{\"outlinewidth\":0,\"ticks\":\"\"}}}],\"scatter3d\":[{\"type\":\"scatter3d\",\"line\":{\"colorbar\":{\"outlinewidth\":0,\"ticks\":\"\"}},\"marker\":{\"colorbar\":{\"outlinewidth\":0,\"ticks\":\"\"}}}],\"scattermapbox\":[{\"type\":\"scattermapbox\",\"marker\":{\"colorbar\":{\"outlinewidth\":0,\"ticks\":\"\"}}}],\"scatterternary\":[{\"type\":\"scatterternary\",\"marker\":{\"colorbar\":{\"outlinewidth\":0,\"ticks\":\"\"}}}],\"scattercarpet\":[{\"type\":\"scattercarpet\",\"marker\":{\"colorbar\":{\"outlinewidth\":0,\"ticks\":\"\"}}}],\"carpet\":[{\"aaxis\":{\"endlinecolor\":\"#2a3f5f\",\"gridcolor\":\"white\",\"linecolor\":\"white\",\"minorgridcolor\":\"white\",\"startlinecolor\":\"#2a3f5f\"},\"baxis\":{\"endlinecolor\":\"#2a3f5f\",\"gridcolor\":\"white\",\"linecolor\":\"white\",\"minorgridcolor\":\"white\",\"startlinecolor\":\"#2a3f5f\"},\"type\":\"carpet\"}],\"table\":[{\"cells\":{\"fill\":{\"color\":\"#EBF0F8\"},\"line\":{\"color\":\"white\"}},\"header\":{\"fill\":{\"color\":\"#C8D4E3\"},\"line\":{\"color\":\"white\"}},\"type\":\"table\"}],\"barpolar\":[{\"marker\":{\"line\":{\"color\":\"#E5ECF6\",\"width\":0.5},\"pattern\":{\"fillmode\":\"overlay\",\"size\":10,\"solidity\":0.2}},\"type\":\"barpolar\"}],\"pie\":[{\"automargin\":true,\"type\":\"pie\"}]},\"layout\":{\"autotypenumbers\":\"strict\",\"colorway\":[\"#636efa\",\"#EF553B\",\"#00cc96\",\"#ab63fa\",\"#FFA15A\",\"#19d3f3\",\"#FF6692\",\"#B6E880\",\"#FF97FF\",\"#FECB52\"],\"font\":{\"color\":\"#2a3f5f\"},\"hovermode\":\"closest\",\"hoverlabel\":{\"align\":\"left\"},\"paper_bgcolor\":\"white\",\"plot_bgcolor\":\"#E5ECF6\",\"polar\":{\"bgcolor\":\"#E5ECF6\",\"angularaxis\":{\"gridcolor\":\"white\",\"linecolor\":\"white\",\"ticks\":\"\"},\"radialaxis\":{\"gridcolor\":\"white\",\"linecolor\":\"white\",\"ticks\":\"\"}},\"ternary\":{\"bgcolor\":\"#E5ECF6\",\"aaxis\":{\"gridcolor\":\"white\",\"linecolor\":\"white\",\"ticks\":\"\"},\"baxis\":{\"gridcolor\":\"white\",\"linecolor\":\"white\",\"ticks\":\"\"},\"caxis\":{\"gridcolor\":\"white\",\"linecolor\":\"white\",\"ticks\":\"\"}},\"coloraxis\":{\"colorbar\":{\"outlinewidth\":0,\"ticks\":\"\"}},\"colorscale\":{\"sequential\":[[0.0,\"#0d0887\"],[0.1111111111111111,\"#46039f\"],[0.2222222222222222,\"#7201a8\"],[0.3333333333333333,\"#9c179e\"],[0.4444444444444444,\"#bd3786\"],[0.5555555555555556,\"#d8576b\"],[0.6666666666666666,\"#ed7953\"],[0.7777777777777778,\"#fb9f3a\"],[0.8888888888888888,\"#fdca26\"],[1.0,\"#f0f921\"]],\"sequentialminus\":[[0.0,\"#0d0887\"],[0.1111111111111111,\"#46039f\"],[0.2222222222222222,\"#7201a8\"],[0.3333333333333333,\"#9c179e\"],[0.4444444444444444,\"#bd3786\"],[0.5555555555555556,\"#d8576b\"],[0.6666666666666666,\"#ed7953\"],[0.7777777777777778,\"#fb9f3a\"],[0.8888888888888888,\"#fdca26\"],[1.0,\"#f0f921\"]],\"diverging\":[[0,\"#8e0152\"],[0.1,\"#c51b7d\"],[0.2,\"#de77ae\"],[0.3,\"#f1b6da\"],[0.4,\"#fde0ef\"],[0.5,\"#f7f7f7\"],[0.6,\"#e6f5d0\"],[0.7,\"#b8e186\"],[0.8,\"#7fbc41\"],[0.9,\"#4d9221\"],[1,\"#276419\"]]},\"xaxis\":{\"gridcolor\":\"white\",\"linecolor\":\"white\",\"ticks\":\"\",\"title\":{\"standoff\":15},\"zerolinecolor\":\"white\",\"automargin\":true,\"zerolinewidth\":2},\"yaxis\":{\"gridcolor\":\"white\",\"linecolor\":\"white\",\"ticks\":\"\",\"title\":{\"standoff\":15},\"zerolinecolor\":\"white\",\"automargin\":true,\"zerolinewidth\":2},\"scene\":{\"xaxis\":{\"backgroundcolor\":\"#E5ECF6\",\"gridcolor\":\"white\",\"linecolor\":\"white\",\"showbackground\":true,\"ticks\":\"\",\"zerolinecolor\":\"white\",\"gridwidth\":2},\"yaxis\":{\"backgroundcolor\":\"#E5ECF6\",\"gridcolor\":\"white\",\"linecolor\":\"white\",\"showbackground\":true,\"ticks\":\"\",\"zerolinecolor\":\"white\",\"gridwidth\":2},\"zaxis\":{\"backgroundcolor\":\"#E5ECF6\",\"gridcolor\":\"white\",\"linecolor\":\"white\",\"showbackground\":true,\"ticks\":\"\",\"zerolinecolor\":\"white\",\"gridwidth\":2}},\"shapedefaults\":{\"line\":{\"color\":\"#2a3f5f\"}},\"annotationdefaults\":{\"arrowcolor\":\"#2a3f5f\",\"arrowhead\":0,\"arrowwidth\":1},\"geo\":{\"bgcolor\":\"white\",\"landcolor\":\"#E5ECF6\",\"subunitcolor\":\"white\",\"showland\":true,\"showlakes\":true,\"lakecolor\":\"white\"},\"title\":{\"x\":0.05},\"mapbox\":{\"style\":\"light\"}}},\"xaxis\":{\"anchor\":\"y\",\"domain\":[0.0,0.45],\"tickfont\":{\"size\":9}},\"yaxis\":{\"anchor\":\"x\",\"domain\":[0.84375,1.0],\"showticklabels\":false},\"xaxis2\":{\"anchor\":\"y2\",\"domain\":[0.55,1.0],\"tickfont\":{\"size\":9}},\"yaxis2\":{\"anchor\":\"x2\",\"domain\":[0.84375,1.0],\"showticklabels\":false},\"xaxis3\":{\"anchor\":\"y3\",\"domain\":[0.0,0.45],\"tickfont\":{\"size\":9}},\"yaxis3\":{\"anchor\":\"x3\",\"domain\":[0.5625,0.71875],\"showticklabels\":false},\"xaxis4\":{\"anchor\":\"y4\",\"domain\":[0.55,1.0],\"tickfont\":{\"size\":9}},\"yaxis4\":{\"anchor\":\"x4\",\"domain\":[0.5625,0.71875],\"showticklabels\":false},\"xaxis5\":{\"anchor\":\"y5\",\"domain\":[0.0,0.45],\"tickfont\":{\"size\":9}},\"yaxis5\":{\"anchor\":\"x5\",\"domain\":[0.28125,0.4375],\"showticklabels\":false},\"xaxis6\":{\"anchor\":\"y6\",\"domain\":[0.55,1.0],\"tickfont\":{\"size\":9}},\"yaxis6\":{\"anchor\":\"x6\",\"domain\":[0.28125,0.4375],\"showticklabels\":false},\"xaxis7\":{\"anchor\":\"y7\",\"domain\":[0.0,0.45],\"tickfont\":{\"size\":9}},\"yaxis7\":{\"anchor\":\"x7\",\"domain\":[0.0,0.15625],\"showticklabels\":false},\"xaxis8\":{\"anchor\":\"y8\",\"domain\":[0.55,1.0],\"tickfont\":{\"size\":9}},\"yaxis8\":{\"anchor\":\"x8\",\"domain\":[0.0,0.15625],\"showticklabels\":false},\"annotations\":[{\"font\":{\"size\":16},\"showarrow\":false,\"text\":\"\\u0420\\u0430\\u0431\\u043e\\u0442\\u043e\\u0434\\u0430\\u0442\\u0435\\u043b\\u0438 DA Junior (no experince)\",\"x\":0.225,\"xanchor\":\"center\",\"xref\":\"paper\",\"y\":1.0,\"yanchor\":\"bottom\",\"yref\":\"paper\"},{\"font\":{\"size\":16},\"showarrow\":false,\"text\":\"\\u0420\\u0430\\u0431\\u043e\\u0442\\u043e\\u0434\\u0430\\u0442\\u0435\\u043b\\u0438 DS Junior (no experince)\",\"x\":0.775,\"xanchor\":\"center\",\"xref\":\"paper\",\"y\":1.0,\"yanchor\":\"bottom\",\"yref\":\"paper\"},{\"font\":{\"size\":16},\"showarrow\":false,\"text\":\"\\u0420\\u0430\\u0431\\u043e\\u0442\\u043e\\u0434\\u0430\\u0442\\u0435\\u043b\\u0438 DA Junior+ (1-3 years)\",\"x\":0.225,\"xanchor\":\"center\",\"xref\":\"paper\",\"y\":0.71875,\"yanchor\":\"bottom\",\"yref\":\"paper\"},{\"font\":{\"size\":16},\"showarrow\":false,\"text\":\"\\u0420\\u0430\\u0431\\u043e\\u0442\\u043e\\u0434\\u0430\\u0442\\u0435\\u043b\\u0438 DS Junior+ (1-3 years)\",\"x\":0.775,\"xanchor\":\"center\",\"xref\":\"paper\",\"y\":0.71875,\"yanchor\":\"bottom\",\"yref\":\"paper\"},{\"font\":{\"size\":16},\"showarrow\":false,\"text\":\"\\u0420\\u0430\\u0431\\u043e\\u0442\\u043e\\u0434\\u0430\\u0442\\u0435\\u043b\\u0438 DA Middle (3-6 years)\",\"x\":0.225,\"xanchor\":\"center\",\"xref\":\"paper\",\"y\":0.4375,\"yanchor\":\"bottom\",\"yref\":\"paper\"},{\"font\":{\"size\":16},\"showarrow\":false,\"text\":\"\\u0420\\u0430\\u0431\\u043e\\u0442\\u043e\\u0434\\u0430\\u0442\\u0435\\u043b\\u0438 DS Middle (3-6 years)\",\"x\":0.775,\"xanchor\":\"center\",\"xref\":\"paper\",\"y\":0.4375,\"yanchor\":\"bottom\",\"yref\":\"paper\"},{\"font\":{\"size\":16},\"showarrow\":false,\"text\":\"\\u0420\\u0430\\u0431\\u043e\\u0442\\u043e\\u0434\\u0430\\u0442\\u0435\\u043b\\u0438 DA Senior (6+ years)\",\"x\":0.225,\"xanchor\":\"center\",\"xref\":\"paper\",\"y\":0.15625,\"yanchor\":\"bottom\",\"yref\":\"paper\"},{\"font\":{\"size\":16},\"showarrow\":false,\"text\":\"\\u0420\\u0430\\u0431\\u043e\\u0442\\u043e\\u0434\\u0430\\u0442\\u0435\\u043b\\u0438 DS Senior (6+ years)\",\"x\":0.775,\"xanchor\":\"center\",\"xref\":\"paper\",\"y\":0.15625,\"yanchor\":\"bottom\",\"yref\":\"paper\"}],\"title\":{\"text\":\"\\u0422\\u043e\\u043f \\u0437\\u0430\\u0440\\u043f\\u043b\\u0430\\u0442\\u043d\\u044b\\u0445 \\u043a\\u0430\\u0442\\u0435\\u0433\\u043e\\u0440\\u0438\\u0439\"},\"height\":1200,\"width\":1500,\"showlegend\":false},                        {\"responsive\": true}                    ).then(function(){\n",
              "                            \n",
              "var gd = document.getElementById('919c4aca-1997-426d-a9e8-657800e1324b');\n",
              "var x = new MutationObserver(function (mutations, observer) {{\n",
              "        var display = window.getComputedStyle(gd).display;\n",
              "        if (!display || display === 'none') {{\n",
              "            console.log([gd, 'removed!']);\n",
              "            Plotly.purge(gd);\n",
              "            observer.disconnect();\n",
              "        }}\n",
              "}});\n",
              "\n",
              "// Listen for the removal of the full notebook cells\n",
              "var notebookContainer = gd.closest('#notebook-container');\n",
              "if (notebookContainer) {{\n",
              "    x.observe(notebookContainer, {childList: true});\n",
              "}}\n",
              "\n",
              "// Listen for the clearing of the current output cell\n",
              "var outputEl = gd.closest('.output');\n",
              "if (outputEl) {{\n",
              "    x.observe(outputEl, {childList: true});\n",
              "}}\n",
              "\n",
              "                        })                };                            </script>        </div>\n",
              "</body>\n",
              "</html>"
            ]
          },
          "metadata": {}
        }
      ]
    },
    {
      "cell_type": "markdown",
      "source": [
        "**Вывод:** Во всех грейдах наблюдается общая тенденция: работодатели часто не указывают размер заработной платы. Это может быть связано с тем, что работодатель хочет сначала оценить уровень квалификации кандидата и его зарплатные ожидания, прежде чем сделать конкретное предложение. Или же зарплата может варьироваться в зависимости от опыта и навыков кандидата.\n",
        "\n",
        "Например, работодатель может предложить большую зарплату профессионалу с опытом и меньшую — новичку, которого нужно обучать.\n",
        "\n",
        "Так, в грейдах аналитиков Senior и Junior зарплаты не указаны, чаще указываются диапазоны зарплат в грейде Middle обоих направлений. Однако 5 % работодателей готовы предложить соискателю уровня Junior на позицию DS-специалиста зарплату более 300 тысяч рублей, а порог предложения аналитикам достигает диапазона от 200 до 300 тысяч рублей.\n",
        "\n",
        "Больше вакансий среди специалистов DS Senior с зарплатой более 300 тысяч, чем вакансий с зарплатой от 100 до 200 тысяч."
      ],
      "metadata": {
        "id": "tTpTPw9W-161"
      }
    },
    {
      "cell_type": "markdown",
      "source": [
        "Проанализируем распределение типов занятости по грейдам"
      ],
      "metadata": {
        "id": "E64orp0NWc-O"
      }
    },
    {
      "cell_type": "code",
      "source": [
        "show_top_by_category('employment', 'Типы занятости по грейдам')"
      ],
      "metadata": {
        "colab": {
          "base_uri": "https://localhost:8080/",
          "height": 1000
        },
        "id": "-eWg06NYDu9Y",
        "outputId": "112f6dc9-9637-4d45-d192-c940b4297336"
      },
      "execution_count": 126,
      "outputs": [
        {
          "output_type": "display_data",
          "data": {
            "text/html": [
              "<html>\n",
              "<head><meta charset=\"utf-8\" /></head>\n",
              "<body>\n",
              "    <div>            <script src=\"https://cdnjs.cloudflare.com/ajax/libs/mathjax/2.7.5/MathJax.js?config=TeX-AMS-MML_SVG\"></script><script type=\"text/javascript\">if (window.MathJax && window.MathJax.Hub && window.MathJax.Hub.Config) {window.MathJax.Hub.Config({SVG: {font: \"STIX-Web\"}});}</script>                <script type=\"text/javascript\">window.PlotlyConfig = {MathJaxConfig: 'local'};</script>\n",
              "        <script charset=\"utf-8\" src=\"https://cdn.plot.ly/plotly-2.24.1.min.js\"></script>                <div id=\"bee561e2-3ef0-4ce0-9116-e38bf9bb29d4\" class=\"plotly-graph-div\" style=\"height:1200px; width:1500px;\"></div>            <script type=\"text/javascript\">                                    window.PLOTLYENV=window.PLOTLYENV || {};                                    if (document.getElementById(\"bee561e2-3ef0-4ce0-9116-e38bf9bb29d4\")) {                    Plotly.newPlot(                        \"bee561e2-3ef0-4ce0-9116-e38bf9bb29d4\",                        [{\"marker\":{\"color\":[\"rgb(178, 36, 253)\"]},\"showlegend\":false,\"text\":[\"100%\"],\"x\":[\"\\u041f\\u043e\\u043b\\u043d\\u0430\\u044f \\u0437\\u0430\\u043d\\u044f\\u0442\\u043e\\u0441\\u0442\\u044c\"],\"y\":[100.0],\"type\":\"bar\",\"xaxis\":\"x\",\"yaxis\":\"y\"},{\"marker\":{\"color\":[\"rgb(178, 36, 253)\",\"rgb(138, 35, 120)\"]},\"showlegend\":false,\"text\":[\"52%\",\"48%\"],\"x\":[\"\\u041f\\u043e\\u043b\\u043d\\u0430\\u044f \\u0437\\u0430\\u043d\\u044f\\u0442\\u043e\\u0441\\u0442\\u044c\",\"\\u0421\\u0442\\u0430\\u0436\\u0438\\u0440\\u043e\\u0432\\u043a\\u0430\"],\"y\":[52.0,48.0],\"type\":\"bar\",\"xaxis\":\"x2\",\"yaxis\":\"y2\"},{\"marker\":{\"color\":[\"rgb(178, 36, 253)\"]},\"showlegend\":false,\"text\":[\"100%\"],\"x\":[\"\\u041f\\u043e\\u043b\\u043d\\u0430\\u044f \\u0437\\u0430\\u043d\\u044f\\u0442\\u043e\\u0441\\u0442\\u044c\"],\"y\":[100.0],\"type\":\"bar\",\"xaxis\":\"x3\",\"yaxis\":\"y3\"},{\"marker\":{\"color\":[\"rgb(178, 36, 253)\",\"rgb(11, 245, 221)\"]},\"showlegend\":false,\"text\":[\"99%\",\"1%\"],\"x\":[\"\\u041f\\u043e\\u043b\\u043d\\u0430\\u044f \\u0437\\u0430\\u043d\\u044f\\u0442\\u043e\\u0441\\u0442\\u044c\",\"\\u041f\\u0440\\u043e\\u0435\\u043a\\u0442\\u043d\\u0430\\u044f \\u0440\\u0430\\u0431\\u043e\\u0442\\u0430\"],\"y\":[99.2,0.8],\"type\":\"bar\",\"xaxis\":\"x4\",\"yaxis\":\"y4\"},{\"marker\":{\"color\":[\"rgb(178, 36, 253)\",\"rgb(20, 155, 23)\"]},\"showlegend\":false,\"text\":[\"99%\",\"1%\"],\"x\":[\"\\u041f\\u043e\\u043b\\u043d\\u0430\\u044f \\u0437\\u0430\\u043d\\u044f\\u0442\\u043e\\u0441\\u0442\\u044c\",\"\\u0427\\u0430\\u0441\\u0442\\u0438\\u0447\\u043d\\u0430\\u044f \\u0437\\u0430\\u043d\\u044f\\u0442\\u043e\\u0441\\u0442\\u044c\"],\"y\":[99.1,0.9],\"type\":\"bar\",\"xaxis\":\"x5\",\"yaxis\":\"y5\"},{\"marker\":{\"color\":[\"rgb(178, 36, 253)\",\"rgb(20, 155, 23)\"]},\"showlegend\":false,\"text\":[\"100%\",\"0%\"],\"x\":[\"\\u041f\\u043e\\u043b\\u043d\\u0430\\u044f \\u0437\\u0430\\u043d\\u044f\\u0442\\u043e\\u0441\\u0442\\u044c\",\"\\u0427\\u0430\\u0441\\u0442\\u0438\\u0447\\u043d\\u0430\\u044f \\u0437\\u0430\\u043d\\u044f\\u0442\\u043e\\u0441\\u0442\\u044c\"],\"y\":[99.7,0.3],\"type\":\"bar\",\"xaxis\":\"x6\",\"yaxis\":\"y6\"},{\"marker\":{\"color\":[\"rgb(178, 36, 253)\"]},\"showlegend\":false,\"text\":[\"100%\"],\"x\":[\"\\u041f\\u043e\\u043b\\u043d\\u0430\\u044f \\u0437\\u0430\\u043d\\u044f\\u0442\\u043e\\u0441\\u0442\\u044c\"],\"y\":[100.0],\"type\":\"bar\",\"xaxis\":\"x7\",\"yaxis\":\"y7\"},{\"marker\":{\"color\":[\"rgb(178, 36, 253)\"]},\"showlegend\":false,\"text\":[\"100%\"],\"x\":[\"\\u041f\\u043e\\u043b\\u043d\\u0430\\u044f \\u0437\\u0430\\u043d\\u044f\\u0442\\u043e\\u0441\\u0442\\u044c\"],\"y\":[100.0],\"type\":\"bar\",\"xaxis\":\"x8\",\"yaxis\":\"y8\"}],                        {\"template\":{\"data\":{\"histogram2dcontour\":[{\"type\":\"histogram2dcontour\",\"colorbar\":{\"outlinewidth\":0,\"ticks\":\"\"},\"colorscale\":[[0.0,\"#0d0887\"],[0.1111111111111111,\"#46039f\"],[0.2222222222222222,\"#7201a8\"],[0.3333333333333333,\"#9c179e\"],[0.4444444444444444,\"#bd3786\"],[0.5555555555555556,\"#d8576b\"],[0.6666666666666666,\"#ed7953\"],[0.7777777777777778,\"#fb9f3a\"],[0.8888888888888888,\"#fdca26\"],[1.0,\"#f0f921\"]]}],\"choropleth\":[{\"type\":\"choropleth\",\"colorbar\":{\"outlinewidth\":0,\"ticks\":\"\"}}],\"histogram2d\":[{\"type\":\"histogram2d\",\"colorbar\":{\"outlinewidth\":0,\"ticks\":\"\"},\"colorscale\":[[0.0,\"#0d0887\"],[0.1111111111111111,\"#46039f\"],[0.2222222222222222,\"#7201a8\"],[0.3333333333333333,\"#9c179e\"],[0.4444444444444444,\"#bd3786\"],[0.5555555555555556,\"#d8576b\"],[0.6666666666666666,\"#ed7953\"],[0.7777777777777778,\"#fb9f3a\"],[0.8888888888888888,\"#fdca26\"],[1.0,\"#f0f921\"]]}],\"heatmap\":[{\"type\":\"heatmap\",\"colorbar\":{\"outlinewidth\":0,\"ticks\":\"\"},\"colorscale\":[[0.0,\"#0d0887\"],[0.1111111111111111,\"#46039f\"],[0.2222222222222222,\"#7201a8\"],[0.3333333333333333,\"#9c179e\"],[0.4444444444444444,\"#bd3786\"],[0.5555555555555556,\"#d8576b\"],[0.6666666666666666,\"#ed7953\"],[0.7777777777777778,\"#fb9f3a\"],[0.8888888888888888,\"#fdca26\"],[1.0,\"#f0f921\"]]}],\"heatmapgl\":[{\"type\":\"heatmapgl\",\"colorbar\":{\"outlinewidth\":0,\"ticks\":\"\"},\"colorscale\":[[0.0,\"#0d0887\"],[0.1111111111111111,\"#46039f\"],[0.2222222222222222,\"#7201a8\"],[0.3333333333333333,\"#9c179e\"],[0.4444444444444444,\"#bd3786\"],[0.5555555555555556,\"#d8576b\"],[0.6666666666666666,\"#ed7953\"],[0.7777777777777778,\"#fb9f3a\"],[0.8888888888888888,\"#fdca26\"],[1.0,\"#f0f921\"]]}],\"contourcarpet\":[{\"type\":\"contourcarpet\",\"colorbar\":{\"outlinewidth\":0,\"ticks\":\"\"}}],\"contour\":[{\"type\":\"contour\",\"colorbar\":{\"outlinewidth\":0,\"ticks\":\"\"},\"colorscale\":[[0.0,\"#0d0887\"],[0.1111111111111111,\"#46039f\"],[0.2222222222222222,\"#7201a8\"],[0.3333333333333333,\"#9c179e\"],[0.4444444444444444,\"#bd3786\"],[0.5555555555555556,\"#d8576b\"],[0.6666666666666666,\"#ed7953\"],[0.7777777777777778,\"#fb9f3a\"],[0.8888888888888888,\"#fdca26\"],[1.0,\"#f0f921\"]]}],\"surface\":[{\"type\":\"surface\",\"colorbar\":{\"outlinewidth\":0,\"ticks\":\"\"},\"colorscale\":[[0.0,\"#0d0887\"],[0.1111111111111111,\"#46039f\"],[0.2222222222222222,\"#7201a8\"],[0.3333333333333333,\"#9c179e\"],[0.4444444444444444,\"#bd3786\"],[0.5555555555555556,\"#d8576b\"],[0.6666666666666666,\"#ed7953\"],[0.7777777777777778,\"#fb9f3a\"],[0.8888888888888888,\"#fdca26\"],[1.0,\"#f0f921\"]]}],\"mesh3d\":[{\"type\":\"mesh3d\",\"colorbar\":{\"outlinewidth\":0,\"ticks\":\"\"}}],\"scatter\":[{\"fillpattern\":{\"fillmode\":\"overlay\",\"size\":10,\"solidity\":0.2},\"type\":\"scatter\"}],\"parcoords\":[{\"type\":\"parcoords\",\"line\":{\"colorbar\":{\"outlinewidth\":0,\"ticks\":\"\"}}}],\"scatterpolargl\":[{\"type\":\"scatterpolargl\",\"marker\":{\"colorbar\":{\"outlinewidth\":0,\"ticks\":\"\"}}}],\"bar\":[{\"error_x\":{\"color\":\"#2a3f5f\"},\"error_y\":{\"color\":\"#2a3f5f\"},\"marker\":{\"line\":{\"color\":\"#E5ECF6\",\"width\":0.5},\"pattern\":{\"fillmode\":\"overlay\",\"size\":10,\"solidity\":0.2}},\"type\":\"bar\"}],\"scattergeo\":[{\"type\":\"scattergeo\",\"marker\":{\"colorbar\":{\"outlinewidth\":0,\"ticks\":\"\"}}}],\"scatterpolar\":[{\"type\":\"scatterpolar\",\"marker\":{\"colorbar\":{\"outlinewidth\":0,\"ticks\":\"\"}}}],\"histogram\":[{\"marker\":{\"pattern\":{\"fillmode\":\"overlay\",\"size\":10,\"solidity\":0.2}},\"type\":\"histogram\"}],\"scattergl\":[{\"type\":\"scattergl\",\"marker\":{\"colorbar\":{\"outlinewidth\":0,\"ticks\":\"\"}}}],\"scatter3d\":[{\"type\":\"scatter3d\",\"line\":{\"colorbar\":{\"outlinewidth\":0,\"ticks\":\"\"}},\"marker\":{\"colorbar\":{\"outlinewidth\":0,\"ticks\":\"\"}}}],\"scattermapbox\":[{\"type\":\"scattermapbox\",\"marker\":{\"colorbar\":{\"outlinewidth\":0,\"ticks\":\"\"}}}],\"scatterternary\":[{\"type\":\"scatterternary\",\"marker\":{\"colorbar\":{\"outlinewidth\":0,\"ticks\":\"\"}}}],\"scattercarpet\":[{\"type\":\"scattercarpet\",\"marker\":{\"colorbar\":{\"outlinewidth\":0,\"ticks\":\"\"}}}],\"carpet\":[{\"aaxis\":{\"endlinecolor\":\"#2a3f5f\",\"gridcolor\":\"white\",\"linecolor\":\"white\",\"minorgridcolor\":\"white\",\"startlinecolor\":\"#2a3f5f\"},\"baxis\":{\"endlinecolor\":\"#2a3f5f\",\"gridcolor\":\"white\",\"linecolor\":\"white\",\"minorgridcolor\":\"white\",\"startlinecolor\":\"#2a3f5f\"},\"type\":\"carpet\"}],\"table\":[{\"cells\":{\"fill\":{\"color\":\"#EBF0F8\"},\"line\":{\"color\":\"white\"}},\"header\":{\"fill\":{\"color\":\"#C8D4E3\"},\"line\":{\"color\":\"white\"}},\"type\":\"table\"}],\"barpolar\":[{\"marker\":{\"line\":{\"color\":\"#E5ECF6\",\"width\":0.5},\"pattern\":{\"fillmode\":\"overlay\",\"size\":10,\"solidity\":0.2}},\"type\":\"barpolar\"}],\"pie\":[{\"automargin\":true,\"type\":\"pie\"}]},\"layout\":{\"autotypenumbers\":\"strict\",\"colorway\":[\"#636efa\",\"#EF553B\",\"#00cc96\",\"#ab63fa\",\"#FFA15A\",\"#19d3f3\",\"#FF6692\",\"#B6E880\",\"#FF97FF\",\"#FECB52\"],\"font\":{\"color\":\"#2a3f5f\"},\"hovermode\":\"closest\",\"hoverlabel\":{\"align\":\"left\"},\"paper_bgcolor\":\"white\",\"plot_bgcolor\":\"#E5ECF6\",\"polar\":{\"bgcolor\":\"#E5ECF6\",\"angularaxis\":{\"gridcolor\":\"white\",\"linecolor\":\"white\",\"ticks\":\"\"},\"radialaxis\":{\"gridcolor\":\"white\",\"linecolor\":\"white\",\"ticks\":\"\"}},\"ternary\":{\"bgcolor\":\"#E5ECF6\",\"aaxis\":{\"gridcolor\":\"white\",\"linecolor\":\"white\",\"ticks\":\"\"},\"baxis\":{\"gridcolor\":\"white\",\"linecolor\":\"white\",\"ticks\":\"\"},\"caxis\":{\"gridcolor\":\"white\",\"linecolor\":\"white\",\"ticks\":\"\"}},\"coloraxis\":{\"colorbar\":{\"outlinewidth\":0,\"ticks\":\"\"}},\"colorscale\":{\"sequential\":[[0.0,\"#0d0887\"],[0.1111111111111111,\"#46039f\"],[0.2222222222222222,\"#7201a8\"],[0.3333333333333333,\"#9c179e\"],[0.4444444444444444,\"#bd3786\"],[0.5555555555555556,\"#d8576b\"],[0.6666666666666666,\"#ed7953\"],[0.7777777777777778,\"#fb9f3a\"],[0.8888888888888888,\"#fdca26\"],[1.0,\"#f0f921\"]],\"sequentialminus\":[[0.0,\"#0d0887\"],[0.1111111111111111,\"#46039f\"],[0.2222222222222222,\"#7201a8\"],[0.3333333333333333,\"#9c179e\"],[0.4444444444444444,\"#bd3786\"],[0.5555555555555556,\"#d8576b\"],[0.6666666666666666,\"#ed7953\"],[0.7777777777777778,\"#fb9f3a\"],[0.8888888888888888,\"#fdca26\"],[1.0,\"#f0f921\"]],\"diverging\":[[0,\"#8e0152\"],[0.1,\"#c51b7d\"],[0.2,\"#de77ae\"],[0.3,\"#f1b6da\"],[0.4,\"#fde0ef\"],[0.5,\"#f7f7f7\"],[0.6,\"#e6f5d0\"],[0.7,\"#b8e186\"],[0.8,\"#7fbc41\"],[0.9,\"#4d9221\"],[1,\"#276419\"]]},\"xaxis\":{\"gridcolor\":\"white\",\"linecolor\":\"white\",\"ticks\":\"\",\"title\":{\"standoff\":15},\"zerolinecolor\":\"white\",\"automargin\":true,\"zerolinewidth\":2},\"yaxis\":{\"gridcolor\":\"white\",\"linecolor\":\"white\",\"ticks\":\"\",\"title\":{\"standoff\":15},\"zerolinecolor\":\"white\",\"automargin\":true,\"zerolinewidth\":2},\"scene\":{\"xaxis\":{\"backgroundcolor\":\"#E5ECF6\",\"gridcolor\":\"white\",\"linecolor\":\"white\",\"showbackground\":true,\"ticks\":\"\",\"zerolinecolor\":\"white\",\"gridwidth\":2},\"yaxis\":{\"backgroundcolor\":\"#E5ECF6\",\"gridcolor\":\"white\",\"linecolor\":\"white\",\"showbackground\":true,\"ticks\":\"\",\"zerolinecolor\":\"white\",\"gridwidth\":2},\"zaxis\":{\"backgroundcolor\":\"#E5ECF6\",\"gridcolor\":\"white\",\"linecolor\":\"white\",\"showbackground\":true,\"ticks\":\"\",\"zerolinecolor\":\"white\",\"gridwidth\":2}},\"shapedefaults\":{\"line\":{\"color\":\"#2a3f5f\"}},\"annotationdefaults\":{\"arrowcolor\":\"#2a3f5f\",\"arrowhead\":0,\"arrowwidth\":1},\"geo\":{\"bgcolor\":\"white\",\"landcolor\":\"#E5ECF6\",\"subunitcolor\":\"white\",\"showland\":true,\"showlakes\":true,\"lakecolor\":\"white\"},\"title\":{\"x\":0.05},\"mapbox\":{\"style\":\"light\"}}},\"xaxis\":{\"anchor\":\"y\",\"domain\":[0.0,0.45],\"tickfont\":{\"size\":9}},\"yaxis\":{\"anchor\":\"x\",\"domain\":[0.84375,1.0],\"showticklabels\":false},\"xaxis2\":{\"anchor\":\"y2\",\"domain\":[0.55,1.0],\"tickfont\":{\"size\":9}},\"yaxis2\":{\"anchor\":\"x2\",\"domain\":[0.84375,1.0],\"showticklabels\":false},\"xaxis3\":{\"anchor\":\"y3\",\"domain\":[0.0,0.45],\"tickfont\":{\"size\":9}},\"yaxis3\":{\"anchor\":\"x3\",\"domain\":[0.5625,0.71875],\"showticklabels\":false},\"xaxis4\":{\"anchor\":\"y4\",\"domain\":[0.55,1.0],\"tickfont\":{\"size\":9}},\"yaxis4\":{\"anchor\":\"x4\",\"domain\":[0.5625,0.71875],\"showticklabels\":false},\"xaxis5\":{\"anchor\":\"y5\",\"domain\":[0.0,0.45],\"tickfont\":{\"size\":9}},\"yaxis5\":{\"anchor\":\"x5\",\"domain\":[0.28125,0.4375],\"showticklabels\":false},\"xaxis6\":{\"anchor\":\"y6\",\"domain\":[0.55,1.0],\"tickfont\":{\"size\":9}},\"yaxis6\":{\"anchor\":\"x6\",\"domain\":[0.28125,0.4375],\"showticklabels\":false},\"xaxis7\":{\"anchor\":\"y7\",\"domain\":[0.0,0.45],\"tickfont\":{\"size\":9}},\"yaxis7\":{\"anchor\":\"x7\",\"domain\":[0.0,0.15625],\"showticklabels\":false},\"xaxis8\":{\"anchor\":\"y8\",\"domain\":[0.55,1.0],\"tickfont\":{\"size\":9}},\"yaxis8\":{\"anchor\":\"x8\",\"domain\":[0.0,0.15625],\"showticklabels\":false},\"annotations\":[{\"font\":{\"size\":16},\"showarrow\":false,\"text\":\"\\u0420\\u0430\\u0431\\u043e\\u0442\\u043e\\u0434\\u0430\\u0442\\u0435\\u043b\\u0438 DA Junior (no experince)\",\"x\":0.225,\"xanchor\":\"center\",\"xref\":\"paper\",\"y\":1.0,\"yanchor\":\"bottom\",\"yref\":\"paper\"},{\"font\":{\"size\":16},\"showarrow\":false,\"text\":\"\\u0420\\u0430\\u0431\\u043e\\u0442\\u043e\\u0434\\u0430\\u0442\\u0435\\u043b\\u0438 DS Junior (no experince)\",\"x\":0.775,\"xanchor\":\"center\",\"xref\":\"paper\",\"y\":1.0,\"yanchor\":\"bottom\",\"yref\":\"paper\"},{\"font\":{\"size\":16},\"showarrow\":false,\"text\":\"\\u0420\\u0430\\u0431\\u043e\\u0442\\u043e\\u0434\\u0430\\u0442\\u0435\\u043b\\u0438 DA Junior+ (1-3 years)\",\"x\":0.225,\"xanchor\":\"center\",\"xref\":\"paper\",\"y\":0.71875,\"yanchor\":\"bottom\",\"yref\":\"paper\"},{\"font\":{\"size\":16},\"showarrow\":false,\"text\":\"\\u0420\\u0430\\u0431\\u043e\\u0442\\u043e\\u0434\\u0430\\u0442\\u0435\\u043b\\u0438 DS Junior+ (1-3 years)\",\"x\":0.775,\"xanchor\":\"center\",\"xref\":\"paper\",\"y\":0.71875,\"yanchor\":\"bottom\",\"yref\":\"paper\"},{\"font\":{\"size\":16},\"showarrow\":false,\"text\":\"\\u0420\\u0430\\u0431\\u043e\\u0442\\u043e\\u0434\\u0430\\u0442\\u0435\\u043b\\u0438 DA Middle (3-6 years)\",\"x\":0.225,\"xanchor\":\"center\",\"xref\":\"paper\",\"y\":0.4375,\"yanchor\":\"bottom\",\"yref\":\"paper\"},{\"font\":{\"size\":16},\"showarrow\":false,\"text\":\"\\u0420\\u0430\\u0431\\u043e\\u0442\\u043e\\u0434\\u0430\\u0442\\u0435\\u043b\\u0438 DS Middle (3-6 years)\",\"x\":0.775,\"xanchor\":\"center\",\"xref\":\"paper\",\"y\":0.4375,\"yanchor\":\"bottom\",\"yref\":\"paper\"},{\"font\":{\"size\":16},\"showarrow\":false,\"text\":\"\\u0420\\u0430\\u0431\\u043e\\u0442\\u043e\\u0434\\u0430\\u0442\\u0435\\u043b\\u0438 DA Senior (6+ years)\",\"x\":0.225,\"xanchor\":\"center\",\"xref\":\"paper\",\"y\":0.15625,\"yanchor\":\"bottom\",\"yref\":\"paper\"},{\"font\":{\"size\":16},\"showarrow\":false,\"text\":\"\\u0420\\u0430\\u0431\\u043e\\u0442\\u043e\\u0434\\u0430\\u0442\\u0435\\u043b\\u0438 DS Senior (6+ years)\",\"x\":0.775,\"xanchor\":\"center\",\"xref\":\"paper\",\"y\":0.15625,\"yanchor\":\"bottom\",\"yref\":\"paper\"}],\"title\":{\"text\":\"\\u0422\\u0438\\u043f\\u044b \\u0437\\u0430\\u043d\\u044f\\u0442\\u043e\\u0441\\u0442\\u0438 \\u043f\\u043e \\u0433\\u0440\\u0435\\u0439\\u0434\\u0430\\u043c\"},\"height\":1200,\"width\":1500,\"showlegend\":false},                        {\"responsive\": true}                    ).then(function(){\n",
              "                            \n",
              "var gd = document.getElementById('bee561e2-3ef0-4ce0-9116-e38bf9bb29d4');\n",
              "var x = new MutationObserver(function (mutations, observer) {{\n",
              "        var display = window.getComputedStyle(gd).display;\n",
              "        if (!display || display === 'none') {{\n",
              "            console.log([gd, 'removed!']);\n",
              "            Plotly.purge(gd);\n",
              "            observer.disconnect();\n",
              "        }}\n",
              "}});\n",
              "\n",
              "// Listen for the removal of the full notebook cells\n",
              "var notebookContainer = gd.closest('#notebook-container');\n",
              "if (notebookContainer) {{\n",
              "    x.observe(notebookContainer, {childList: true});\n",
              "}}\n",
              "\n",
              "// Listen for the clearing of the current output cell\n",
              "var outputEl = gd.closest('.output');\n",
              "if (outputEl) {{\n",
              "    x.observe(outputEl, {childList: true});\n",
              "}}\n",
              "\n",
              "                        })                };                            </script>        </div>\n",
              "</body>\n",
              "</html>"
            ]
          },
          "metadata": {}
        }
      ]
    },
    {
      "cell_type": "markdown",
      "source": [
        "**Вывод:** Аналитикjd и специалистjd в области Data Science чаще ищут на условия полной занятости. Однако существуют вакансии, где ищут младших специалистов Data Science на стажировку, что составляет 48%."
      ],
      "metadata": {
        "id": "lJk4moOwmOeX"
      }
    },
    {
      "cell_type": "markdown",
      "source": [
        "Проанализируем графики работы по каждому грейду"
      ],
      "metadata": {
        "id": "nwqFTk0qXMB7"
      }
    },
    {
      "cell_type": "code",
      "source": [
        "show_top_by_category('schedule', 'График работы по грейдам')"
      ],
      "metadata": {
        "colab": {
          "base_uri": "https://localhost:8080/",
          "height": 1000
        },
        "id": "s3uo9LpjEWhw",
        "outputId": "46acbef0-d780-489f-df36-4fe517c67481"
      },
      "execution_count": 122,
      "outputs": [
        {
          "output_type": "display_data",
          "data": {
            "text/html": [
              "<html>\n",
              "<head><meta charset=\"utf-8\" /></head>\n",
              "<body>\n",
              "    <div>            <script src=\"https://cdnjs.cloudflare.com/ajax/libs/mathjax/2.7.5/MathJax.js?config=TeX-AMS-MML_SVG\"></script><script type=\"text/javascript\">if (window.MathJax && window.MathJax.Hub && window.MathJax.Hub.Config) {window.MathJax.Hub.Config({SVG: {font: \"STIX-Web\"}});}</script>                <script type=\"text/javascript\">window.PlotlyConfig = {MathJaxConfig: 'local'};</script>\n",
              "        <script charset=\"utf-8\" src=\"https://cdn.plot.ly/plotly-2.24.1.min.js\"></script>                <div id=\"3d53dbae-85d7-4de7-8b76-527c5f0e87f5\" class=\"plotly-graph-div\" style=\"height:1200px; width:1500px;\"></div>            <script type=\"text/javascript\">                                    window.PLOTLYENV=window.PLOTLYENV || {};                                    if (document.getElementById(\"3d53dbae-85d7-4de7-8b76-527c5f0e87f5\")) {                    Plotly.newPlot(                        \"3d53dbae-85d7-4de7-8b76-527c5f0e87f5\",                        [{\"marker\":{\"color\":[\"rgb(192, 42, 244)\",\"rgb(148, 125, 251)\"]},\"showlegend\":false,\"text\":[\"89%\",\"11%\"],\"x\":[\"\\u041f\\u043e\\u043b\\u043d\\u044b\\u0439 \\u0434\\u0435\\u043d\\u044c\",\"\\u0421\\u043c\\u0435\\u043d\\u043d\\u044b\\u0439 \\u0433\\u0440\\u0430\\u0444\\u0438\\u043a\"],\"y\":[88.9,11.1],\"type\":\"bar\",\"xaxis\":\"x\",\"yaxis\":\"y\"},{\"marker\":{\"color\":[\"rgb(192, 42, 244)\",\"rgb(187, 242, 132)\",\"rgb(2, 0, 87)\"]},\"showlegend\":false,\"text\":[\"72%\",\"20%\",\"8%\"],\"x\":[\"\\u041f\\u043e\\u043b\\u043d\\u044b\\u0439 \\u0434\\u0435\\u043d\\u044c\",\"\\u0413\\u0438\\u0431\\u043a\\u0438\\u0439 \\u0433\\u0440\\u0430\\u0444\\u0438\\u043a\",\"\\u0423\\u0434\\u0430\\u043b\\u0435\\u043d\\u043d\\u0430\\u044f \\u0440\\u0430\\u0431\\u043e\\u0442\\u0430\"],\"y\":[72.0,20.0,8.0],\"type\":\"bar\",\"xaxis\":\"x2\",\"yaxis\":\"y2\"},{\"marker\":{\"color\":[\"rgb(192, 42, 244)\",\"rgb(2, 0, 87)\",\"rgb(187, 242, 132)\",\"rgb(148, 125, 251)\"]},\"showlegend\":false,\"text\":[\"74%\",\"21%\",\"3%\",\"2%\"],\"x\":[\"\\u041f\\u043e\\u043b\\u043d\\u044b\\u0439 \\u0434\\u0435\\u043d\\u044c\",\"\\u0423\\u0434\\u0430\\u043b\\u0435\\u043d\\u043d\\u0430\\u044f \\u0440\\u0430\\u0431\\u043e\\u0442\\u0430\",\"\\u0413\\u0438\\u0431\\u043a\\u0438\\u0439 \\u0433\\u0440\\u0430\\u0444\\u0438\\u043a\",\"\\u0421\\u043c\\u0435\\u043d\\u043d\\u044b\\u0439 \\u0433\\u0440\\u0430\\u0444\\u0438\\u043a\"],\"y\":[73.9,21.2,3.0,1.8],\"type\":\"bar\",\"xaxis\":\"x3\",\"yaxis\":\"y3\"},{\"marker\":{\"color\":[\"rgb(192, 42, 244)\",\"rgb(2, 0, 87)\",\"rgb(187, 242, 132)\",\"rgb(148, 125, 251)\"]},\"showlegend\":false,\"text\":[\"75%\",\"21%\",\"3%\",\"0%\"],\"x\":[\"\\u041f\\u043e\\u043b\\u043d\\u044b\\u0439 \\u0434\\u0435\\u043d\\u044c\",\"\\u0423\\u0434\\u0430\\u043b\\u0435\\u043d\\u043d\\u0430\\u044f \\u0440\\u0430\\u0431\\u043e\\u0442\\u0430\",\"\\u0413\\u0438\\u0431\\u043a\\u0438\\u0439 \\u0433\\u0440\\u0430\\u0444\\u0438\\u043a\",\"\\u0421\\u043c\\u0435\\u043d\\u043d\\u044b\\u0439 \\u0433\\u0440\\u0430\\u0444\\u0438\\u043a\"],\"y\":[75.4,21.1,3.1,0.4],\"type\":\"bar\",\"xaxis\":\"x4\",\"yaxis\":\"y4\"},{\"marker\":{\"color\":[\"rgb(192, 42, 244)\",\"rgb(2, 0, 87)\",\"rgb(187, 242, 132)\"]},\"showlegend\":false,\"text\":[\"75%\",\"23%\",\"2%\"],\"x\":[\"\\u041f\\u043e\\u043b\\u043d\\u044b\\u0439 \\u0434\\u0435\\u043d\\u044c\",\"\\u0423\\u0434\\u0430\\u043b\\u0435\\u043d\\u043d\\u0430\\u044f \\u0440\\u0430\\u0431\\u043e\\u0442\\u0430\",\"\\u0413\\u0438\\u0431\\u043a\\u0438\\u0439 \\u0433\\u0440\\u0430\\u0444\\u0438\\u043a\"],\"y\":[75.2,23.1,1.7],\"type\":\"bar\",\"xaxis\":\"x5\",\"yaxis\":\"y5\"},{\"marker\":{\"color\":[\"rgb(192, 42, 244)\",\"rgb(2, 0, 87)\",\"rgb(187, 242, 132)\",\"rgb(148, 125, 251)\"]},\"showlegend\":false,\"text\":[\"79%\",\"16%\",\"5%\",\"0%\"],\"x\":[\"\\u041f\\u043e\\u043b\\u043d\\u044b\\u0439 \\u0434\\u0435\\u043d\\u044c\",\"\\u0423\\u0434\\u0430\\u043b\\u0435\\u043d\\u043d\\u0430\\u044f \\u0440\\u0430\\u0431\\u043e\\u0442\\u0430\",\"\\u0413\\u0438\\u0431\\u043a\\u0438\\u0439 \\u0433\\u0440\\u0430\\u0444\\u0438\\u043a\",\"\\u0421\\u043c\\u0435\\u043d\\u043d\\u044b\\u0439 \\u0433\\u0440\\u0430\\u0444\\u0438\\u043a\"],\"y\":[78.6,16.2,4.9,0.3],\"type\":\"bar\",\"xaxis\":\"x6\",\"yaxis\":\"y6\"},{\"marker\":{\"color\":[\"rgb(192, 42, 244)\",\"rgb(2, 0, 87)\"]},\"showlegend\":false,\"text\":[\"67%\",\"33%\"],\"x\":[\"\\u041f\\u043e\\u043b\\u043d\\u044b\\u0439 \\u0434\\u0435\\u043d\\u044c\",\"\\u0423\\u0434\\u0430\\u043b\\u0435\\u043d\\u043d\\u0430\\u044f \\u0440\\u0430\\u0431\\u043e\\u0442\\u0430\"],\"y\":[66.7,33.3],\"type\":\"bar\",\"xaxis\":\"x7\",\"yaxis\":\"y7\"},{\"marker\":{\"color\":[\"rgb(192, 42, 244)\",\"rgb(2, 0, 87)\",\"rgb(187, 242, 132)\",\"rgb(148, 125, 251)\"]},\"showlegend\":false,\"text\":[\"68%\",\"18%\",\"9%\",\"4%\"],\"x\":[\"\\u041f\\u043e\\u043b\\u043d\\u044b\\u0439 \\u0434\\u0435\\u043d\\u044c\",\"\\u0423\\u0434\\u0430\\u043b\\u0435\\u043d\\u043d\\u0430\\u044f \\u0440\\u0430\\u0431\\u043e\\u0442\\u0430\",\"\\u0413\\u0438\\u0431\\u043a\\u0438\\u0439 \\u0433\\u0440\\u0430\\u0444\\u0438\\u043a\",\"\\u0421\\u043c\\u0435\\u043d\\u043d\\u044b\\u0439 \\u0433\\u0440\\u0430\\u0444\\u0438\\u043a\"],\"y\":[68.2,18.2,9.1,4.5],\"type\":\"bar\",\"xaxis\":\"x8\",\"yaxis\":\"y8\"}],                        {\"template\":{\"data\":{\"histogram2dcontour\":[{\"type\":\"histogram2dcontour\",\"colorbar\":{\"outlinewidth\":0,\"ticks\":\"\"},\"colorscale\":[[0.0,\"#0d0887\"],[0.1111111111111111,\"#46039f\"],[0.2222222222222222,\"#7201a8\"],[0.3333333333333333,\"#9c179e\"],[0.4444444444444444,\"#bd3786\"],[0.5555555555555556,\"#d8576b\"],[0.6666666666666666,\"#ed7953\"],[0.7777777777777778,\"#fb9f3a\"],[0.8888888888888888,\"#fdca26\"],[1.0,\"#f0f921\"]]}],\"choropleth\":[{\"type\":\"choropleth\",\"colorbar\":{\"outlinewidth\":0,\"ticks\":\"\"}}],\"histogram2d\":[{\"type\":\"histogram2d\",\"colorbar\":{\"outlinewidth\":0,\"ticks\":\"\"},\"colorscale\":[[0.0,\"#0d0887\"],[0.1111111111111111,\"#46039f\"],[0.2222222222222222,\"#7201a8\"],[0.3333333333333333,\"#9c179e\"],[0.4444444444444444,\"#bd3786\"],[0.5555555555555556,\"#d8576b\"],[0.6666666666666666,\"#ed7953\"],[0.7777777777777778,\"#fb9f3a\"],[0.8888888888888888,\"#fdca26\"],[1.0,\"#f0f921\"]]}],\"heatmap\":[{\"type\":\"heatmap\",\"colorbar\":{\"outlinewidth\":0,\"ticks\":\"\"},\"colorscale\":[[0.0,\"#0d0887\"],[0.1111111111111111,\"#46039f\"],[0.2222222222222222,\"#7201a8\"],[0.3333333333333333,\"#9c179e\"],[0.4444444444444444,\"#bd3786\"],[0.5555555555555556,\"#d8576b\"],[0.6666666666666666,\"#ed7953\"],[0.7777777777777778,\"#fb9f3a\"],[0.8888888888888888,\"#fdca26\"],[1.0,\"#f0f921\"]]}],\"heatmapgl\":[{\"type\":\"heatmapgl\",\"colorbar\":{\"outlinewidth\":0,\"ticks\":\"\"},\"colorscale\":[[0.0,\"#0d0887\"],[0.1111111111111111,\"#46039f\"],[0.2222222222222222,\"#7201a8\"],[0.3333333333333333,\"#9c179e\"],[0.4444444444444444,\"#bd3786\"],[0.5555555555555556,\"#d8576b\"],[0.6666666666666666,\"#ed7953\"],[0.7777777777777778,\"#fb9f3a\"],[0.8888888888888888,\"#fdca26\"],[1.0,\"#f0f921\"]]}],\"contourcarpet\":[{\"type\":\"contourcarpet\",\"colorbar\":{\"outlinewidth\":0,\"ticks\":\"\"}}],\"contour\":[{\"type\":\"contour\",\"colorbar\":{\"outlinewidth\":0,\"ticks\":\"\"},\"colorscale\":[[0.0,\"#0d0887\"],[0.1111111111111111,\"#46039f\"],[0.2222222222222222,\"#7201a8\"],[0.3333333333333333,\"#9c179e\"],[0.4444444444444444,\"#bd3786\"],[0.5555555555555556,\"#d8576b\"],[0.6666666666666666,\"#ed7953\"],[0.7777777777777778,\"#fb9f3a\"],[0.8888888888888888,\"#fdca26\"],[1.0,\"#f0f921\"]]}],\"surface\":[{\"type\":\"surface\",\"colorbar\":{\"outlinewidth\":0,\"ticks\":\"\"},\"colorscale\":[[0.0,\"#0d0887\"],[0.1111111111111111,\"#46039f\"],[0.2222222222222222,\"#7201a8\"],[0.3333333333333333,\"#9c179e\"],[0.4444444444444444,\"#bd3786\"],[0.5555555555555556,\"#d8576b\"],[0.6666666666666666,\"#ed7953\"],[0.7777777777777778,\"#fb9f3a\"],[0.8888888888888888,\"#fdca26\"],[1.0,\"#f0f921\"]]}],\"mesh3d\":[{\"type\":\"mesh3d\",\"colorbar\":{\"outlinewidth\":0,\"ticks\":\"\"}}],\"scatter\":[{\"fillpattern\":{\"fillmode\":\"overlay\",\"size\":10,\"solidity\":0.2},\"type\":\"scatter\"}],\"parcoords\":[{\"type\":\"parcoords\",\"line\":{\"colorbar\":{\"outlinewidth\":0,\"ticks\":\"\"}}}],\"scatterpolargl\":[{\"type\":\"scatterpolargl\",\"marker\":{\"colorbar\":{\"outlinewidth\":0,\"ticks\":\"\"}}}],\"bar\":[{\"error_x\":{\"color\":\"#2a3f5f\"},\"error_y\":{\"color\":\"#2a3f5f\"},\"marker\":{\"line\":{\"color\":\"#E5ECF6\",\"width\":0.5},\"pattern\":{\"fillmode\":\"overlay\",\"size\":10,\"solidity\":0.2}},\"type\":\"bar\"}],\"scattergeo\":[{\"type\":\"scattergeo\",\"marker\":{\"colorbar\":{\"outlinewidth\":0,\"ticks\":\"\"}}}],\"scatterpolar\":[{\"type\":\"scatterpolar\",\"marker\":{\"colorbar\":{\"outlinewidth\":0,\"ticks\":\"\"}}}],\"histogram\":[{\"marker\":{\"pattern\":{\"fillmode\":\"overlay\",\"size\":10,\"solidity\":0.2}},\"type\":\"histogram\"}],\"scattergl\":[{\"type\":\"scattergl\",\"marker\":{\"colorbar\":{\"outlinewidth\":0,\"ticks\":\"\"}}}],\"scatter3d\":[{\"type\":\"scatter3d\",\"line\":{\"colorbar\":{\"outlinewidth\":0,\"ticks\":\"\"}},\"marker\":{\"colorbar\":{\"outlinewidth\":0,\"ticks\":\"\"}}}],\"scattermapbox\":[{\"type\":\"scattermapbox\",\"marker\":{\"colorbar\":{\"outlinewidth\":0,\"ticks\":\"\"}}}],\"scatterternary\":[{\"type\":\"scatterternary\",\"marker\":{\"colorbar\":{\"outlinewidth\":0,\"ticks\":\"\"}}}],\"scattercarpet\":[{\"type\":\"scattercarpet\",\"marker\":{\"colorbar\":{\"outlinewidth\":0,\"ticks\":\"\"}}}],\"carpet\":[{\"aaxis\":{\"endlinecolor\":\"#2a3f5f\",\"gridcolor\":\"white\",\"linecolor\":\"white\",\"minorgridcolor\":\"white\",\"startlinecolor\":\"#2a3f5f\"},\"baxis\":{\"endlinecolor\":\"#2a3f5f\",\"gridcolor\":\"white\",\"linecolor\":\"white\",\"minorgridcolor\":\"white\",\"startlinecolor\":\"#2a3f5f\"},\"type\":\"carpet\"}],\"table\":[{\"cells\":{\"fill\":{\"color\":\"#EBF0F8\"},\"line\":{\"color\":\"white\"}},\"header\":{\"fill\":{\"color\":\"#C8D4E3\"},\"line\":{\"color\":\"white\"}},\"type\":\"table\"}],\"barpolar\":[{\"marker\":{\"line\":{\"color\":\"#E5ECF6\",\"width\":0.5},\"pattern\":{\"fillmode\":\"overlay\",\"size\":10,\"solidity\":0.2}},\"type\":\"barpolar\"}],\"pie\":[{\"automargin\":true,\"type\":\"pie\"}]},\"layout\":{\"autotypenumbers\":\"strict\",\"colorway\":[\"#636efa\",\"#EF553B\",\"#00cc96\",\"#ab63fa\",\"#FFA15A\",\"#19d3f3\",\"#FF6692\",\"#B6E880\",\"#FF97FF\",\"#FECB52\"],\"font\":{\"color\":\"#2a3f5f\"},\"hovermode\":\"closest\",\"hoverlabel\":{\"align\":\"left\"},\"paper_bgcolor\":\"white\",\"plot_bgcolor\":\"#E5ECF6\",\"polar\":{\"bgcolor\":\"#E5ECF6\",\"angularaxis\":{\"gridcolor\":\"white\",\"linecolor\":\"white\",\"ticks\":\"\"},\"radialaxis\":{\"gridcolor\":\"white\",\"linecolor\":\"white\",\"ticks\":\"\"}},\"ternary\":{\"bgcolor\":\"#E5ECF6\",\"aaxis\":{\"gridcolor\":\"white\",\"linecolor\":\"white\",\"ticks\":\"\"},\"baxis\":{\"gridcolor\":\"white\",\"linecolor\":\"white\",\"ticks\":\"\"},\"caxis\":{\"gridcolor\":\"white\",\"linecolor\":\"white\",\"ticks\":\"\"}},\"coloraxis\":{\"colorbar\":{\"outlinewidth\":0,\"ticks\":\"\"}},\"colorscale\":{\"sequential\":[[0.0,\"#0d0887\"],[0.1111111111111111,\"#46039f\"],[0.2222222222222222,\"#7201a8\"],[0.3333333333333333,\"#9c179e\"],[0.4444444444444444,\"#bd3786\"],[0.5555555555555556,\"#d8576b\"],[0.6666666666666666,\"#ed7953\"],[0.7777777777777778,\"#fb9f3a\"],[0.8888888888888888,\"#fdca26\"],[1.0,\"#f0f921\"]],\"sequentialminus\":[[0.0,\"#0d0887\"],[0.1111111111111111,\"#46039f\"],[0.2222222222222222,\"#7201a8\"],[0.3333333333333333,\"#9c179e\"],[0.4444444444444444,\"#bd3786\"],[0.5555555555555556,\"#d8576b\"],[0.6666666666666666,\"#ed7953\"],[0.7777777777777778,\"#fb9f3a\"],[0.8888888888888888,\"#fdca26\"],[1.0,\"#f0f921\"]],\"diverging\":[[0,\"#8e0152\"],[0.1,\"#c51b7d\"],[0.2,\"#de77ae\"],[0.3,\"#f1b6da\"],[0.4,\"#fde0ef\"],[0.5,\"#f7f7f7\"],[0.6,\"#e6f5d0\"],[0.7,\"#b8e186\"],[0.8,\"#7fbc41\"],[0.9,\"#4d9221\"],[1,\"#276419\"]]},\"xaxis\":{\"gridcolor\":\"white\",\"linecolor\":\"white\",\"ticks\":\"\",\"title\":{\"standoff\":15},\"zerolinecolor\":\"white\",\"automargin\":true,\"zerolinewidth\":2},\"yaxis\":{\"gridcolor\":\"white\",\"linecolor\":\"white\",\"ticks\":\"\",\"title\":{\"standoff\":15},\"zerolinecolor\":\"white\",\"automargin\":true,\"zerolinewidth\":2},\"scene\":{\"xaxis\":{\"backgroundcolor\":\"#E5ECF6\",\"gridcolor\":\"white\",\"linecolor\":\"white\",\"showbackground\":true,\"ticks\":\"\",\"zerolinecolor\":\"white\",\"gridwidth\":2},\"yaxis\":{\"backgroundcolor\":\"#E5ECF6\",\"gridcolor\":\"white\",\"linecolor\":\"white\",\"showbackground\":true,\"ticks\":\"\",\"zerolinecolor\":\"white\",\"gridwidth\":2},\"zaxis\":{\"backgroundcolor\":\"#E5ECF6\",\"gridcolor\":\"white\",\"linecolor\":\"white\",\"showbackground\":true,\"ticks\":\"\",\"zerolinecolor\":\"white\",\"gridwidth\":2}},\"shapedefaults\":{\"line\":{\"color\":\"#2a3f5f\"}},\"annotationdefaults\":{\"arrowcolor\":\"#2a3f5f\",\"arrowhead\":0,\"arrowwidth\":1},\"geo\":{\"bgcolor\":\"white\",\"landcolor\":\"#E5ECF6\",\"subunitcolor\":\"white\",\"showland\":true,\"showlakes\":true,\"lakecolor\":\"white\"},\"title\":{\"x\":0.05},\"mapbox\":{\"style\":\"light\"}}},\"xaxis\":{\"anchor\":\"y\",\"domain\":[0.0,0.45],\"tickfont\":{\"size\":9}},\"yaxis\":{\"anchor\":\"x\",\"domain\":[0.84375,1.0],\"showticklabels\":false},\"xaxis2\":{\"anchor\":\"y2\",\"domain\":[0.55,1.0],\"tickfont\":{\"size\":9}},\"yaxis2\":{\"anchor\":\"x2\",\"domain\":[0.84375,1.0],\"showticklabels\":false},\"xaxis3\":{\"anchor\":\"y3\",\"domain\":[0.0,0.45],\"tickfont\":{\"size\":9}},\"yaxis3\":{\"anchor\":\"x3\",\"domain\":[0.5625,0.71875],\"showticklabels\":false},\"xaxis4\":{\"anchor\":\"y4\",\"domain\":[0.55,1.0],\"tickfont\":{\"size\":9}},\"yaxis4\":{\"anchor\":\"x4\",\"domain\":[0.5625,0.71875],\"showticklabels\":false},\"xaxis5\":{\"anchor\":\"y5\",\"domain\":[0.0,0.45],\"tickfont\":{\"size\":9}},\"yaxis5\":{\"anchor\":\"x5\",\"domain\":[0.28125,0.4375],\"showticklabels\":false},\"xaxis6\":{\"anchor\":\"y6\",\"domain\":[0.55,1.0],\"tickfont\":{\"size\":9}},\"yaxis6\":{\"anchor\":\"x6\",\"domain\":[0.28125,0.4375],\"showticklabels\":false},\"xaxis7\":{\"anchor\":\"y7\",\"domain\":[0.0,0.45],\"tickfont\":{\"size\":9}},\"yaxis7\":{\"anchor\":\"x7\",\"domain\":[0.0,0.15625],\"showticklabels\":false},\"xaxis8\":{\"anchor\":\"y8\",\"domain\":[0.55,1.0],\"tickfont\":{\"size\":9}},\"yaxis8\":{\"anchor\":\"x8\",\"domain\":[0.0,0.15625],\"showticklabels\":false},\"annotations\":[{\"font\":{\"size\":16},\"showarrow\":false,\"text\":\"\\u0420\\u0430\\u0431\\u043e\\u0442\\u043e\\u0434\\u0430\\u0442\\u0435\\u043b\\u0438 DA Junior (no experince)\",\"x\":0.225,\"xanchor\":\"center\",\"xref\":\"paper\",\"y\":1.0,\"yanchor\":\"bottom\",\"yref\":\"paper\"},{\"font\":{\"size\":16},\"showarrow\":false,\"text\":\"\\u0420\\u0430\\u0431\\u043e\\u0442\\u043e\\u0434\\u0430\\u0442\\u0435\\u043b\\u0438 DS Junior (no experince)\",\"x\":0.775,\"xanchor\":\"center\",\"xref\":\"paper\",\"y\":1.0,\"yanchor\":\"bottom\",\"yref\":\"paper\"},{\"font\":{\"size\":16},\"showarrow\":false,\"text\":\"\\u0420\\u0430\\u0431\\u043e\\u0442\\u043e\\u0434\\u0430\\u0442\\u0435\\u043b\\u0438 DA Junior+ (1-3 years)\",\"x\":0.225,\"xanchor\":\"center\",\"xref\":\"paper\",\"y\":0.71875,\"yanchor\":\"bottom\",\"yref\":\"paper\"},{\"font\":{\"size\":16},\"showarrow\":false,\"text\":\"\\u0420\\u0430\\u0431\\u043e\\u0442\\u043e\\u0434\\u0430\\u0442\\u0435\\u043b\\u0438 DS Junior+ (1-3 years)\",\"x\":0.775,\"xanchor\":\"center\",\"xref\":\"paper\",\"y\":0.71875,\"yanchor\":\"bottom\",\"yref\":\"paper\"},{\"font\":{\"size\":16},\"showarrow\":false,\"text\":\"\\u0420\\u0430\\u0431\\u043e\\u0442\\u043e\\u0434\\u0430\\u0442\\u0435\\u043b\\u0438 DA Middle (3-6 years)\",\"x\":0.225,\"xanchor\":\"center\",\"xref\":\"paper\",\"y\":0.4375,\"yanchor\":\"bottom\",\"yref\":\"paper\"},{\"font\":{\"size\":16},\"showarrow\":false,\"text\":\"\\u0420\\u0430\\u0431\\u043e\\u0442\\u043e\\u0434\\u0430\\u0442\\u0435\\u043b\\u0438 DS Middle (3-6 years)\",\"x\":0.775,\"xanchor\":\"center\",\"xref\":\"paper\",\"y\":0.4375,\"yanchor\":\"bottom\",\"yref\":\"paper\"},{\"font\":{\"size\":16},\"showarrow\":false,\"text\":\"\\u0420\\u0430\\u0431\\u043e\\u0442\\u043e\\u0434\\u0430\\u0442\\u0435\\u043b\\u0438 DA Senior (6+ years)\",\"x\":0.225,\"xanchor\":\"center\",\"xref\":\"paper\",\"y\":0.15625,\"yanchor\":\"bottom\",\"yref\":\"paper\"},{\"font\":{\"size\":16},\"showarrow\":false,\"text\":\"\\u0420\\u0430\\u0431\\u043e\\u0442\\u043e\\u0434\\u0430\\u0442\\u0435\\u043b\\u0438 DS Senior (6+ years)\",\"x\":0.775,\"xanchor\":\"center\",\"xref\":\"paper\",\"y\":0.15625,\"yanchor\":\"bottom\",\"yref\":\"paper\"}],\"title\":{\"text\":\"\\u0413\\u0440\\u0430\\u0444\\u0438\\u043a \\u0440\\u0430\\u0431\\u043e\\u0442\\u044b \\u043f\\u043e \\u0433\\u0440\\u0435\\u0439\\u0434\\u0430\\u043c\"},\"height\":1200,\"width\":1500,\"showlegend\":false},                        {\"responsive\": true}                    ).then(function(){\n",
              "                            \n",
              "var gd = document.getElementById('3d53dbae-85d7-4de7-8b76-527c5f0e87f5');\n",
              "var x = new MutationObserver(function (mutations, observer) {{\n",
              "        var display = window.getComputedStyle(gd).display;\n",
              "        if (!display || display === 'none') {{\n",
              "            console.log([gd, 'removed!']);\n",
              "            Plotly.purge(gd);\n",
              "            observer.disconnect();\n",
              "        }}\n",
              "}});\n",
              "\n",
              "// Listen for the removal of the full notebook cells\n",
              "var notebookContainer = gd.closest('#notebook-container');\n",
              "if (notebookContainer) {{\n",
              "    x.observe(notebookContainer, {childList: true});\n",
              "}}\n",
              "\n",
              "// Listen for the clearing of the current output cell\n",
              "var outputEl = gd.closest('.output');\n",
              "if (outputEl) {{\n",
              "    x.observe(outputEl, {childList: true});\n",
              "}}\n",
              "\n",
              "                        })                };                            </script>        </div>\n",
              "</body>\n",
              "</html>"
            ]
          },
          "metadata": {}
        }
      ]
    },
    {
      "cell_type": "markdown",
      "source": [
        "**Вывод:** Более 70 % вакансий каждого грейда аналитиков данных и специалистов Data Science предполагают работу на полный рабочий день.\n",
        "\n",
        "Младших аналитиков данных ищут либо на полный день (89 %), либо на сменный график (11 %). Специалистов уровня Senior ищут на полный день или для удалённой работы. Больше предложений удалённой работы доступно для грейдов Junior+ и Middle.\n",
        "\n",
        "Специалисты Data Science уровня Senior могут найти работу с гибким или сменным графиком, в отличие от аналитиков такого же уровня."
      ],
      "metadata": {
        "id": "f6X87374m-7C"
      }
    },
    {
      "cell_type": "markdown",
      "source": [
        "# 7 Расчитать помесячную динамику количества вакансий для Аналитика данных и специалиста по Data Science"
      ],
      "metadata": {
        "id": "W_LUyGHxnGEP"
      }
    },
    {
      "cell_type": "markdown",
      "source": [
        "Посмотрим на ежедневную динамику публикации вакансий для каждого грейда"
      ],
      "metadata": {
        "id": "pxDrCVBVryB_"
      }
    },
    {
      "cell_type": "code",
      "source": [
        "grades = np.sort(data_da['experience'].unique()).tolist()\n",
        "\n",
        "for grade in grades:\n",
        "\n",
        "  dynamic_da = data_da[data_da['experience'] == grade].pivot_table(index='published_date', values='id', aggfunc='count').reset_index()\n",
        "  dynamic_da.columns = ['Дата', 'Вакансии DA']\n",
        "\n",
        "  dynamic_ds = data_ds[data_ds['experience'] == grade].pivot_table(index='published_date', values='id', aggfunc='count').reset_index()\n",
        "  dynamic_ds.columns = ['Дата', 'Вакансии DS']\n",
        "\n",
        "  dynamic_data = dynamic_ds.merge(dynamic_da, on='Дата', how='outer').fillna(0).sort_values('Дата')\n",
        "\n",
        "  fig = px.line(dynamic_data, x='Дата', y=['Вакансии DA', 'Вакансии DS'], title=f'Ежедневная динамика публикации вакансий {grade}', markers=True)\n",
        "  fig.update_layout(\n",
        "    yaxis={'title': 'Количество вакансий'},\n",
        "    legend_title_text = ''\n",
        "    )\n",
        "  fig.show()"
      ],
      "metadata": {
        "id": "SK0nFJwxnHuL",
        "colab": {
          "base_uri": "https://localhost:8080/",
          "height": 1000
        },
        "outputId": "a84d2f38-0561-4a6f-d2f4-28a94c0f772c"
      },
      "execution_count": 53,
      "outputs": [
        {
          "output_type": "display_data",
          "data": {
            "text/html": [
              "<html>\n",
              "<head><meta charset=\"utf-8\" /></head>\n",
              "<body>\n",
              "    <div>            <script src=\"https://cdnjs.cloudflare.com/ajax/libs/mathjax/2.7.5/MathJax.js?config=TeX-AMS-MML_SVG\"></script><script type=\"text/javascript\">if (window.MathJax && window.MathJax.Hub && window.MathJax.Hub.Config) {window.MathJax.Hub.Config({SVG: {font: \"STIX-Web\"}});}</script>                <script type=\"text/javascript\">window.PlotlyConfig = {MathJaxConfig: 'local'};</script>\n",
              "        <script charset=\"utf-8\" src=\"https://cdn.plot.ly/plotly-2.24.1.min.js\"></script>                <div id=\"a98e05d1-e261-4928-a8a7-d66369ff6661\" class=\"plotly-graph-div\" style=\"height:525px; width:100%;\"></div>            <script type=\"text/javascript\">                                    window.PLOTLYENV=window.PLOTLYENV || {};                                    if (document.getElementById(\"a98e05d1-e261-4928-a8a7-d66369ff6661\")) {                    Plotly.newPlot(                        \"a98e05d1-e261-4928-a8a7-d66369ff6661\",                        [{\"hovertemplate\":\"variable=\\u0412\\u0430\\u043a\\u0430\\u043d\\u0441\\u0438\\u0438 DA\\u003cbr\\u003e\\u0414\\u0430\\u0442\\u0430=%{x}\\u003cbr\\u003evalue=%{y}\\u003cextra\\u003e\\u003c\\u002fextra\\u003e\",\"legendgroup\":\"\\u0412\\u0430\\u043a\\u0430\\u043d\\u0441\\u0438\\u0438 DA\",\"line\":{\"color\":\"#636efa\",\"dash\":\"solid\"},\"marker\":{\"symbol\":\"circle\"},\"mode\":\"lines+markers\",\"name\":\"\\u0412\\u0430\\u043a\\u0430\\u043d\\u0441\\u0438\\u0438 DA\",\"orientation\":\"v\",\"showlegend\":true,\"x\":[\"2024-03-04\",\"2024-03-11\",\"2024-03-13\",\"2024-03-14\",\"2024-03-15\",\"2024-03-18\",\"2024-03-19\",\"2024-03-20\",\"2024-03-21\",\"2024-03-22\",\"2024-03-27\",\"2024-03-28\",\"2024-03-29\",\"2024-03-31\",\"2024-04-01\",\"2024-04-13\",\"2024-04-14\",\"2024-04-15\",\"2024-04-16\",\"2024-04-17\",\"2024-04-22\",\"2024-04-23\",\"2024-04-24\",\"2024-04-25\",\"2024-04-26\",\"2024-04-27\",\"2024-04-29\",\"2024-04-30\"],\"xaxis\":\"x\",\"y\":[0.0,0.0,0.0,0.0,0.0,1.0,0.0,0.0,0.0,0.0,0.0,0.0,1.0,0.0,1.0,0.0,1.0,0.0,0.0,0.0,0.0,0.0,0.0,1.0,1.0,1.0,1.0,1.0],\"yaxis\":\"y\",\"type\":\"scatter\"},{\"hovertemplate\":\"variable=\\u0412\\u0430\\u043a\\u0430\\u043d\\u0441\\u0438\\u0438 DS\\u003cbr\\u003e\\u0414\\u0430\\u0442\\u0430=%{x}\\u003cbr\\u003evalue=%{y}\\u003cextra\\u003e\\u003c\\u002fextra\\u003e\",\"legendgroup\":\"\\u0412\\u0430\\u043a\\u0430\\u043d\\u0441\\u0438\\u0438 DS\",\"line\":{\"color\":\"#EF553B\",\"dash\":\"solid\"},\"marker\":{\"symbol\":\"circle\"},\"mode\":\"lines+markers\",\"name\":\"\\u0412\\u0430\\u043a\\u0430\\u043d\\u0441\\u0438\\u0438 DS\",\"orientation\":\"v\",\"showlegend\":true,\"x\":[\"2024-03-04\",\"2024-03-11\",\"2024-03-13\",\"2024-03-14\",\"2024-03-15\",\"2024-03-18\",\"2024-03-19\",\"2024-03-20\",\"2024-03-21\",\"2024-03-22\",\"2024-03-27\",\"2024-03-28\",\"2024-03-29\",\"2024-03-31\",\"2024-04-01\",\"2024-04-13\",\"2024-04-14\",\"2024-04-15\",\"2024-04-16\",\"2024-04-17\",\"2024-04-22\",\"2024-04-23\",\"2024-04-24\",\"2024-04-25\",\"2024-04-26\",\"2024-04-27\",\"2024-04-29\",\"2024-04-30\"],\"xaxis\":\"x\",\"y\":[1.0,1.0,1.0,2.0,1.0,0.0,1.0,1.0,1.0,1.0,1.0,1.0,0.0,1.0,0.0,1.0,0.0,1.0,3.0,1.0,1.0,1.0,1.0,2.0,0.0,1.0,0.0,0.0],\"yaxis\":\"y\",\"type\":\"scatter\"}],                        {\"template\":{\"data\":{\"histogram2dcontour\":[{\"type\":\"histogram2dcontour\",\"colorbar\":{\"outlinewidth\":0,\"ticks\":\"\"},\"colorscale\":[[0.0,\"#0d0887\"],[0.1111111111111111,\"#46039f\"],[0.2222222222222222,\"#7201a8\"],[0.3333333333333333,\"#9c179e\"],[0.4444444444444444,\"#bd3786\"],[0.5555555555555556,\"#d8576b\"],[0.6666666666666666,\"#ed7953\"],[0.7777777777777778,\"#fb9f3a\"],[0.8888888888888888,\"#fdca26\"],[1.0,\"#f0f921\"]]}],\"choropleth\":[{\"type\":\"choropleth\",\"colorbar\":{\"outlinewidth\":0,\"ticks\":\"\"}}],\"histogram2d\":[{\"type\":\"histogram2d\",\"colorbar\":{\"outlinewidth\":0,\"ticks\":\"\"},\"colorscale\":[[0.0,\"#0d0887\"],[0.1111111111111111,\"#46039f\"],[0.2222222222222222,\"#7201a8\"],[0.3333333333333333,\"#9c179e\"],[0.4444444444444444,\"#bd3786\"],[0.5555555555555556,\"#d8576b\"],[0.6666666666666666,\"#ed7953\"],[0.7777777777777778,\"#fb9f3a\"],[0.8888888888888888,\"#fdca26\"],[1.0,\"#f0f921\"]]}],\"heatmap\":[{\"type\":\"heatmap\",\"colorbar\":{\"outlinewidth\":0,\"ticks\":\"\"},\"colorscale\":[[0.0,\"#0d0887\"],[0.1111111111111111,\"#46039f\"],[0.2222222222222222,\"#7201a8\"],[0.3333333333333333,\"#9c179e\"],[0.4444444444444444,\"#bd3786\"],[0.5555555555555556,\"#d8576b\"],[0.6666666666666666,\"#ed7953\"],[0.7777777777777778,\"#fb9f3a\"],[0.8888888888888888,\"#fdca26\"],[1.0,\"#f0f921\"]]}],\"heatmapgl\":[{\"type\":\"heatmapgl\",\"colorbar\":{\"outlinewidth\":0,\"ticks\":\"\"},\"colorscale\":[[0.0,\"#0d0887\"],[0.1111111111111111,\"#46039f\"],[0.2222222222222222,\"#7201a8\"],[0.3333333333333333,\"#9c179e\"],[0.4444444444444444,\"#bd3786\"],[0.5555555555555556,\"#d8576b\"],[0.6666666666666666,\"#ed7953\"],[0.7777777777777778,\"#fb9f3a\"],[0.8888888888888888,\"#fdca26\"],[1.0,\"#f0f921\"]]}],\"contourcarpet\":[{\"type\":\"contourcarpet\",\"colorbar\":{\"outlinewidth\":0,\"ticks\":\"\"}}],\"contour\":[{\"type\":\"contour\",\"colorbar\":{\"outlinewidth\":0,\"ticks\":\"\"},\"colorscale\":[[0.0,\"#0d0887\"],[0.1111111111111111,\"#46039f\"],[0.2222222222222222,\"#7201a8\"],[0.3333333333333333,\"#9c179e\"],[0.4444444444444444,\"#bd3786\"],[0.5555555555555556,\"#d8576b\"],[0.6666666666666666,\"#ed7953\"],[0.7777777777777778,\"#fb9f3a\"],[0.8888888888888888,\"#fdca26\"],[1.0,\"#f0f921\"]]}],\"surface\":[{\"type\":\"surface\",\"colorbar\":{\"outlinewidth\":0,\"ticks\":\"\"},\"colorscale\":[[0.0,\"#0d0887\"],[0.1111111111111111,\"#46039f\"],[0.2222222222222222,\"#7201a8\"],[0.3333333333333333,\"#9c179e\"],[0.4444444444444444,\"#bd3786\"],[0.5555555555555556,\"#d8576b\"],[0.6666666666666666,\"#ed7953\"],[0.7777777777777778,\"#fb9f3a\"],[0.8888888888888888,\"#fdca26\"],[1.0,\"#f0f921\"]]}],\"mesh3d\":[{\"type\":\"mesh3d\",\"colorbar\":{\"outlinewidth\":0,\"ticks\":\"\"}}],\"scatter\":[{\"fillpattern\":{\"fillmode\":\"overlay\",\"size\":10,\"solidity\":0.2},\"type\":\"scatter\"}],\"parcoords\":[{\"type\":\"parcoords\",\"line\":{\"colorbar\":{\"outlinewidth\":0,\"ticks\":\"\"}}}],\"scatterpolargl\":[{\"type\":\"scatterpolargl\",\"marker\":{\"colorbar\":{\"outlinewidth\":0,\"ticks\":\"\"}}}],\"bar\":[{\"error_x\":{\"color\":\"#2a3f5f\"},\"error_y\":{\"color\":\"#2a3f5f\"},\"marker\":{\"line\":{\"color\":\"#E5ECF6\",\"width\":0.5},\"pattern\":{\"fillmode\":\"overlay\",\"size\":10,\"solidity\":0.2}},\"type\":\"bar\"}],\"scattergeo\":[{\"type\":\"scattergeo\",\"marker\":{\"colorbar\":{\"outlinewidth\":0,\"ticks\":\"\"}}}],\"scatterpolar\":[{\"type\":\"scatterpolar\",\"marker\":{\"colorbar\":{\"outlinewidth\":0,\"ticks\":\"\"}}}],\"histogram\":[{\"marker\":{\"pattern\":{\"fillmode\":\"overlay\",\"size\":10,\"solidity\":0.2}},\"type\":\"histogram\"}],\"scattergl\":[{\"type\":\"scattergl\",\"marker\":{\"colorbar\":{\"outlinewidth\":0,\"ticks\":\"\"}}}],\"scatter3d\":[{\"type\":\"scatter3d\",\"line\":{\"colorbar\":{\"outlinewidth\":0,\"ticks\":\"\"}},\"marker\":{\"colorbar\":{\"outlinewidth\":0,\"ticks\":\"\"}}}],\"scattermapbox\":[{\"type\":\"scattermapbox\",\"marker\":{\"colorbar\":{\"outlinewidth\":0,\"ticks\":\"\"}}}],\"scatterternary\":[{\"type\":\"scatterternary\",\"marker\":{\"colorbar\":{\"outlinewidth\":0,\"ticks\":\"\"}}}],\"scattercarpet\":[{\"type\":\"scattercarpet\",\"marker\":{\"colorbar\":{\"outlinewidth\":0,\"ticks\":\"\"}}}],\"carpet\":[{\"aaxis\":{\"endlinecolor\":\"#2a3f5f\",\"gridcolor\":\"white\",\"linecolor\":\"white\",\"minorgridcolor\":\"white\",\"startlinecolor\":\"#2a3f5f\"},\"baxis\":{\"endlinecolor\":\"#2a3f5f\",\"gridcolor\":\"white\",\"linecolor\":\"white\",\"minorgridcolor\":\"white\",\"startlinecolor\":\"#2a3f5f\"},\"type\":\"carpet\"}],\"table\":[{\"cells\":{\"fill\":{\"color\":\"#EBF0F8\"},\"line\":{\"color\":\"white\"}},\"header\":{\"fill\":{\"color\":\"#C8D4E3\"},\"line\":{\"color\":\"white\"}},\"type\":\"table\"}],\"barpolar\":[{\"marker\":{\"line\":{\"color\":\"#E5ECF6\",\"width\":0.5},\"pattern\":{\"fillmode\":\"overlay\",\"size\":10,\"solidity\":0.2}},\"type\":\"barpolar\"}],\"pie\":[{\"automargin\":true,\"type\":\"pie\"}]},\"layout\":{\"autotypenumbers\":\"strict\",\"colorway\":[\"#636efa\",\"#EF553B\",\"#00cc96\",\"#ab63fa\",\"#FFA15A\",\"#19d3f3\",\"#FF6692\",\"#B6E880\",\"#FF97FF\",\"#FECB52\"],\"font\":{\"color\":\"#2a3f5f\"},\"hovermode\":\"closest\",\"hoverlabel\":{\"align\":\"left\"},\"paper_bgcolor\":\"white\",\"plot_bgcolor\":\"#E5ECF6\",\"polar\":{\"bgcolor\":\"#E5ECF6\",\"angularaxis\":{\"gridcolor\":\"white\",\"linecolor\":\"white\",\"ticks\":\"\"},\"radialaxis\":{\"gridcolor\":\"white\",\"linecolor\":\"white\",\"ticks\":\"\"}},\"ternary\":{\"bgcolor\":\"#E5ECF6\",\"aaxis\":{\"gridcolor\":\"white\",\"linecolor\":\"white\",\"ticks\":\"\"},\"baxis\":{\"gridcolor\":\"white\",\"linecolor\":\"white\",\"ticks\":\"\"},\"caxis\":{\"gridcolor\":\"white\",\"linecolor\":\"white\",\"ticks\":\"\"}},\"coloraxis\":{\"colorbar\":{\"outlinewidth\":0,\"ticks\":\"\"}},\"colorscale\":{\"sequential\":[[0.0,\"#0d0887\"],[0.1111111111111111,\"#46039f\"],[0.2222222222222222,\"#7201a8\"],[0.3333333333333333,\"#9c179e\"],[0.4444444444444444,\"#bd3786\"],[0.5555555555555556,\"#d8576b\"],[0.6666666666666666,\"#ed7953\"],[0.7777777777777778,\"#fb9f3a\"],[0.8888888888888888,\"#fdca26\"],[1.0,\"#f0f921\"]],\"sequentialminus\":[[0.0,\"#0d0887\"],[0.1111111111111111,\"#46039f\"],[0.2222222222222222,\"#7201a8\"],[0.3333333333333333,\"#9c179e\"],[0.4444444444444444,\"#bd3786\"],[0.5555555555555556,\"#d8576b\"],[0.6666666666666666,\"#ed7953\"],[0.7777777777777778,\"#fb9f3a\"],[0.8888888888888888,\"#fdca26\"],[1.0,\"#f0f921\"]],\"diverging\":[[0,\"#8e0152\"],[0.1,\"#c51b7d\"],[0.2,\"#de77ae\"],[0.3,\"#f1b6da\"],[0.4,\"#fde0ef\"],[0.5,\"#f7f7f7\"],[0.6,\"#e6f5d0\"],[0.7,\"#b8e186\"],[0.8,\"#7fbc41\"],[0.9,\"#4d9221\"],[1,\"#276419\"]]},\"xaxis\":{\"gridcolor\":\"white\",\"linecolor\":\"white\",\"ticks\":\"\",\"title\":{\"standoff\":15},\"zerolinecolor\":\"white\",\"automargin\":true,\"zerolinewidth\":2},\"yaxis\":{\"gridcolor\":\"white\",\"linecolor\":\"white\",\"ticks\":\"\",\"title\":{\"standoff\":15},\"zerolinecolor\":\"white\",\"automargin\":true,\"zerolinewidth\":2},\"scene\":{\"xaxis\":{\"backgroundcolor\":\"#E5ECF6\",\"gridcolor\":\"white\",\"linecolor\":\"white\",\"showbackground\":true,\"ticks\":\"\",\"zerolinecolor\":\"white\",\"gridwidth\":2},\"yaxis\":{\"backgroundcolor\":\"#E5ECF6\",\"gridcolor\":\"white\",\"linecolor\":\"white\",\"showbackground\":true,\"ticks\":\"\",\"zerolinecolor\":\"white\",\"gridwidth\":2},\"zaxis\":{\"backgroundcolor\":\"#E5ECF6\",\"gridcolor\":\"white\",\"linecolor\":\"white\",\"showbackground\":true,\"ticks\":\"\",\"zerolinecolor\":\"white\",\"gridwidth\":2}},\"shapedefaults\":{\"line\":{\"color\":\"#2a3f5f\"}},\"annotationdefaults\":{\"arrowcolor\":\"#2a3f5f\",\"arrowhead\":0,\"arrowwidth\":1},\"geo\":{\"bgcolor\":\"white\",\"landcolor\":\"#E5ECF6\",\"subunitcolor\":\"white\",\"showland\":true,\"showlakes\":true,\"lakecolor\":\"white\"},\"title\":{\"x\":0.05},\"mapbox\":{\"style\":\"light\"}}},\"xaxis\":{\"anchor\":\"y\",\"domain\":[0.0,1.0],\"title\":{\"text\":\"\\u0414\\u0430\\u0442\\u0430\"}},\"yaxis\":{\"anchor\":\"x\",\"domain\":[0.0,1.0],\"title\":{\"text\":\"\\u041a\\u043e\\u043b\\u0438\\u0447\\u0435\\u0441\\u0442\\u0432\\u043e \\u0432\\u0430\\u043a\\u0430\\u043d\\u0441\\u0438\\u0439\"}},\"legend\":{\"title\":{\"text\":\"\"},\"tracegroupgap\":0},\"title\":{\"text\":\"\\u0415\\u0436\\u0435\\u0434\\u043d\\u0435\\u0432\\u043d\\u0430\\u044f \\u0434\\u0438\\u043d\\u0430\\u043c\\u0438\\u043a\\u0430 \\u043f\\u0443\\u0431\\u043b\\u0438\\u043a\\u0430\\u0446\\u0438\\u0438 \\u0432\\u0430\\u043a\\u0430\\u043d\\u0441\\u0438\\u0439 Junior (no experince)\"}},                        {\"responsive\": true}                    ).then(function(){\n",
              "                            \n",
              "var gd = document.getElementById('a98e05d1-e261-4928-a8a7-d66369ff6661');\n",
              "var x = new MutationObserver(function (mutations, observer) {{\n",
              "        var display = window.getComputedStyle(gd).display;\n",
              "        if (!display || display === 'none') {{\n",
              "            console.log([gd, 'removed!']);\n",
              "            Plotly.purge(gd);\n",
              "            observer.disconnect();\n",
              "        }}\n",
              "}});\n",
              "\n",
              "// Listen for the removal of the full notebook cells\n",
              "var notebookContainer = gd.closest('#notebook-container');\n",
              "if (notebookContainer) {{\n",
              "    x.observe(notebookContainer, {childList: true});\n",
              "}}\n",
              "\n",
              "// Listen for the clearing of the current output cell\n",
              "var outputEl = gd.closest('.output');\n",
              "if (outputEl) {{\n",
              "    x.observe(outputEl, {childList: true});\n",
              "}}\n",
              "\n",
              "                        })                };                            </script>        </div>\n",
              "</body>\n",
              "</html>"
            ]
          },
          "metadata": {}
        },
        {
          "output_type": "display_data",
          "data": {
            "text/html": [
              "<html>\n",
              "<head><meta charset=\"utf-8\" /></head>\n",
              "<body>\n",
              "    <div>            <script src=\"https://cdnjs.cloudflare.com/ajax/libs/mathjax/2.7.5/MathJax.js?config=TeX-AMS-MML_SVG\"></script><script type=\"text/javascript\">if (window.MathJax && window.MathJax.Hub && window.MathJax.Hub.Config) {window.MathJax.Hub.Config({SVG: {font: \"STIX-Web\"}});}</script>                <script type=\"text/javascript\">window.PlotlyConfig = {MathJaxConfig: 'local'};</script>\n",
              "        <script charset=\"utf-8\" src=\"https://cdn.plot.ly/plotly-2.24.1.min.js\"></script>                <div id=\"bc919711-2521-4765-9064-abd961c14fc1\" class=\"plotly-graph-div\" style=\"height:525px; width:100%;\"></div>            <script type=\"text/javascript\">                                    window.PLOTLYENV=window.PLOTLYENV || {};                                    if (document.getElementById(\"bc919711-2521-4765-9064-abd961c14fc1\")) {                    Plotly.newPlot(                        \"bc919711-2521-4765-9064-abd961c14fc1\",                        [{\"hovertemplate\":\"variable=\\u0412\\u0430\\u043a\\u0430\\u043d\\u0441\\u0438\\u0438 DA\\u003cbr\\u003e\\u0414\\u0430\\u0442\\u0430=%{x}\\u003cbr\\u003evalue=%{y}\\u003cextra\\u003e\\u003c\\u002fextra\\u003e\",\"legendgroup\":\"\\u0412\\u0430\\u043a\\u0430\\u043d\\u0441\\u0438\\u0438 DA\",\"line\":{\"color\":\"#636efa\",\"dash\":\"solid\"},\"marker\":{\"symbol\":\"circle\"},\"mode\":\"lines+markers\",\"name\":\"\\u0412\\u0430\\u043a\\u0430\\u043d\\u0441\\u0438\\u0438 DA\",\"orientation\":\"v\",\"showlegend\":true,\"x\":[\"2024-03-04\",\"2024-03-05\",\"2024-03-06\",\"2024-03-07\",\"2024-03-08\",\"2024-03-11\",\"2024-03-12\",\"2024-03-13\",\"2024-03-14\",\"2024-03-15\",\"2024-03-16\",\"2024-03-18\",\"2024-03-19\",\"2024-03-20\",\"2024-03-21\",\"2024-03-23\",\"2024-03-25\",\"2024-03-26\",\"2024-03-27\",\"2024-03-28\",\"2024-03-29\",\"2024-03-31\",\"2024-04-01\",\"2024-04-02\",\"2024-04-03\",\"2024-04-04\",\"2024-04-05\",\"2024-04-06\",\"2024-04-07\",\"2024-04-08\",\"2024-04-09\",\"2024-04-10\",\"2024-04-11\",\"2024-04-12\",\"2024-04-13\",\"2024-04-14\",\"2024-04-15\",\"2024-04-16\",\"2024-04-17\",\"2024-04-18\",\"2024-04-19\",\"2024-04-20\",\"2024-04-21\",\"2024-04-22\",\"2024-04-23\",\"2024-04-24\",\"2024-04-25\",\"2024-04-26\",\"2024-04-27\",\"2024-04-28\",\"2024-04-29\",\"2024-04-30\"],\"xaxis\":\"x\",\"y\":[0.0,0.0,4.0,1.0,0.0,0.0,1.0,2.0,2.0,3.0,1.0,4.0,4.0,2.0,1.0,1.0,5.0,0.0,5.0,1.0,2.0,1.0,6.0,2.0,1.0,1.0,1.0,3.0,1.0,7.0,5.0,4.0,3.0,0.0,2.0,1.0,11.0,4.0,5.0,7.0,5.0,1.0,6.0,12.0,4.0,9.0,3.0,5.0,4.0,5.0,5.0,2.0],\"yaxis\":\"y\",\"type\":\"scatter\"},{\"hovertemplate\":\"variable=\\u0412\\u0430\\u043a\\u0430\\u043d\\u0441\\u0438\\u0438 DS\\u003cbr\\u003e\\u0414\\u0430\\u0442\\u0430=%{x}\\u003cbr\\u003evalue=%{y}\\u003cextra\\u003e\\u003c\\u002fextra\\u003e\",\"legendgroup\":\"\\u0412\\u0430\\u043a\\u0430\\u043d\\u0441\\u0438\\u0438 DS\",\"line\":{\"color\":\"#EF553B\",\"dash\":\"solid\"},\"marker\":{\"symbol\":\"circle\"},\"mode\":\"lines+markers\",\"name\":\"\\u0412\\u0430\\u043a\\u0430\\u043d\\u0441\\u0438\\u0438 DS\",\"orientation\":\"v\",\"showlegend\":true,\"x\":[\"2024-03-04\",\"2024-03-05\",\"2024-03-06\",\"2024-03-07\",\"2024-03-08\",\"2024-03-11\",\"2024-03-12\",\"2024-03-13\",\"2024-03-14\",\"2024-03-15\",\"2024-03-16\",\"2024-03-18\",\"2024-03-19\",\"2024-03-20\",\"2024-03-21\",\"2024-03-23\",\"2024-03-25\",\"2024-03-26\",\"2024-03-27\",\"2024-03-28\",\"2024-03-29\",\"2024-03-31\",\"2024-04-01\",\"2024-04-02\",\"2024-04-03\",\"2024-04-04\",\"2024-04-05\",\"2024-04-06\",\"2024-04-07\",\"2024-04-08\",\"2024-04-09\",\"2024-04-10\",\"2024-04-11\",\"2024-04-12\",\"2024-04-13\",\"2024-04-14\",\"2024-04-15\",\"2024-04-16\",\"2024-04-17\",\"2024-04-18\",\"2024-04-19\",\"2024-04-20\",\"2024-04-21\",\"2024-04-22\",\"2024-04-23\",\"2024-04-24\",\"2024-04-25\",\"2024-04-26\",\"2024-04-27\",\"2024-04-28\",\"2024-04-29\",\"2024-04-30\"],\"xaxis\":\"x\",\"y\":[3.0,2.0,5.0,1.0,1.0,3.0,5.0,2.0,5.0,4.0,0.0,7.0,3.0,5.0,4.0,3.0,5.0,5.0,7.0,8.0,7.0,3.0,11.0,7.0,3.0,5.0,1.0,0.0,0.0,12.0,7.0,5.0,6.0,5.0,0.0,2.0,18.0,3.0,9.0,6.0,4.0,0.0,0.0,14.0,6.0,11.0,6.0,7.0,6.0,5.0,8.0,1.0],\"yaxis\":\"y\",\"type\":\"scatter\"}],                        {\"template\":{\"data\":{\"histogram2dcontour\":[{\"type\":\"histogram2dcontour\",\"colorbar\":{\"outlinewidth\":0,\"ticks\":\"\"},\"colorscale\":[[0.0,\"#0d0887\"],[0.1111111111111111,\"#46039f\"],[0.2222222222222222,\"#7201a8\"],[0.3333333333333333,\"#9c179e\"],[0.4444444444444444,\"#bd3786\"],[0.5555555555555556,\"#d8576b\"],[0.6666666666666666,\"#ed7953\"],[0.7777777777777778,\"#fb9f3a\"],[0.8888888888888888,\"#fdca26\"],[1.0,\"#f0f921\"]]}],\"choropleth\":[{\"type\":\"choropleth\",\"colorbar\":{\"outlinewidth\":0,\"ticks\":\"\"}}],\"histogram2d\":[{\"type\":\"histogram2d\",\"colorbar\":{\"outlinewidth\":0,\"ticks\":\"\"},\"colorscale\":[[0.0,\"#0d0887\"],[0.1111111111111111,\"#46039f\"],[0.2222222222222222,\"#7201a8\"],[0.3333333333333333,\"#9c179e\"],[0.4444444444444444,\"#bd3786\"],[0.5555555555555556,\"#d8576b\"],[0.6666666666666666,\"#ed7953\"],[0.7777777777777778,\"#fb9f3a\"],[0.8888888888888888,\"#fdca26\"],[1.0,\"#f0f921\"]]}],\"heatmap\":[{\"type\":\"heatmap\",\"colorbar\":{\"outlinewidth\":0,\"ticks\":\"\"},\"colorscale\":[[0.0,\"#0d0887\"],[0.1111111111111111,\"#46039f\"],[0.2222222222222222,\"#7201a8\"],[0.3333333333333333,\"#9c179e\"],[0.4444444444444444,\"#bd3786\"],[0.5555555555555556,\"#d8576b\"],[0.6666666666666666,\"#ed7953\"],[0.7777777777777778,\"#fb9f3a\"],[0.8888888888888888,\"#fdca26\"],[1.0,\"#f0f921\"]]}],\"heatmapgl\":[{\"type\":\"heatmapgl\",\"colorbar\":{\"outlinewidth\":0,\"ticks\":\"\"},\"colorscale\":[[0.0,\"#0d0887\"],[0.1111111111111111,\"#46039f\"],[0.2222222222222222,\"#7201a8\"],[0.3333333333333333,\"#9c179e\"],[0.4444444444444444,\"#bd3786\"],[0.5555555555555556,\"#d8576b\"],[0.6666666666666666,\"#ed7953\"],[0.7777777777777778,\"#fb9f3a\"],[0.8888888888888888,\"#fdca26\"],[1.0,\"#f0f921\"]]}],\"contourcarpet\":[{\"type\":\"contourcarpet\",\"colorbar\":{\"outlinewidth\":0,\"ticks\":\"\"}}],\"contour\":[{\"type\":\"contour\",\"colorbar\":{\"outlinewidth\":0,\"ticks\":\"\"},\"colorscale\":[[0.0,\"#0d0887\"],[0.1111111111111111,\"#46039f\"],[0.2222222222222222,\"#7201a8\"],[0.3333333333333333,\"#9c179e\"],[0.4444444444444444,\"#bd3786\"],[0.5555555555555556,\"#d8576b\"],[0.6666666666666666,\"#ed7953\"],[0.7777777777777778,\"#fb9f3a\"],[0.8888888888888888,\"#fdca26\"],[1.0,\"#f0f921\"]]}],\"surface\":[{\"type\":\"surface\",\"colorbar\":{\"outlinewidth\":0,\"ticks\":\"\"},\"colorscale\":[[0.0,\"#0d0887\"],[0.1111111111111111,\"#46039f\"],[0.2222222222222222,\"#7201a8\"],[0.3333333333333333,\"#9c179e\"],[0.4444444444444444,\"#bd3786\"],[0.5555555555555556,\"#d8576b\"],[0.6666666666666666,\"#ed7953\"],[0.7777777777777778,\"#fb9f3a\"],[0.8888888888888888,\"#fdca26\"],[1.0,\"#f0f921\"]]}],\"mesh3d\":[{\"type\":\"mesh3d\",\"colorbar\":{\"outlinewidth\":0,\"ticks\":\"\"}}],\"scatter\":[{\"fillpattern\":{\"fillmode\":\"overlay\",\"size\":10,\"solidity\":0.2},\"type\":\"scatter\"}],\"parcoords\":[{\"type\":\"parcoords\",\"line\":{\"colorbar\":{\"outlinewidth\":0,\"ticks\":\"\"}}}],\"scatterpolargl\":[{\"type\":\"scatterpolargl\",\"marker\":{\"colorbar\":{\"outlinewidth\":0,\"ticks\":\"\"}}}],\"bar\":[{\"error_x\":{\"color\":\"#2a3f5f\"},\"error_y\":{\"color\":\"#2a3f5f\"},\"marker\":{\"line\":{\"color\":\"#E5ECF6\",\"width\":0.5},\"pattern\":{\"fillmode\":\"overlay\",\"size\":10,\"solidity\":0.2}},\"type\":\"bar\"}],\"scattergeo\":[{\"type\":\"scattergeo\",\"marker\":{\"colorbar\":{\"outlinewidth\":0,\"ticks\":\"\"}}}],\"scatterpolar\":[{\"type\":\"scatterpolar\",\"marker\":{\"colorbar\":{\"outlinewidth\":0,\"ticks\":\"\"}}}],\"histogram\":[{\"marker\":{\"pattern\":{\"fillmode\":\"overlay\",\"size\":10,\"solidity\":0.2}},\"type\":\"histogram\"}],\"scattergl\":[{\"type\":\"scattergl\",\"marker\":{\"colorbar\":{\"outlinewidth\":0,\"ticks\":\"\"}}}],\"scatter3d\":[{\"type\":\"scatter3d\",\"line\":{\"colorbar\":{\"outlinewidth\":0,\"ticks\":\"\"}},\"marker\":{\"colorbar\":{\"outlinewidth\":0,\"ticks\":\"\"}}}],\"scattermapbox\":[{\"type\":\"scattermapbox\",\"marker\":{\"colorbar\":{\"outlinewidth\":0,\"ticks\":\"\"}}}],\"scatterternary\":[{\"type\":\"scatterternary\",\"marker\":{\"colorbar\":{\"outlinewidth\":0,\"ticks\":\"\"}}}],\"scattercarpet\":[{\"type\":\"scattercarpet\",\"marker\":{\"colorbar\":{\"outlinewidth\":0,\"ticks\":\"\"}}}],\"carpet\":[{\"aaxis\":{\"endlinecolor\":\"#2a3f5f\",\"gridcolor\":\"white\",\"linecolor\":\"white\",\"minorgridcolor\":\"white\",\"startlinecolor\":\"#2a3f5f\"},\"baxis\":{\"endlinecolor\":\"#2a3f5f\",\"gridcolor\":\"white\",\"linecolor\":\"white\",\"minorgridcolor\":\"white\",\"startlinecolor\":\"#2a3f5f\"},\"type\":\"carpet\"}],\"table\":[{\"cells\":{\"fill\":{\"color\":\"#EBF0F8\"},\"line\":{\"color\":\"white\"}},\"header\":{\"fill\":{\"color\":\"#C8D4E3\"},\"line\":{\"color\":\"white\"}},\"type\":\"table\"}],\"barpolar\":[{\"marker\":{\"line\":{\"color\":\"#E5ECF6\",\"width\":0.5},\"pattern\":{\"fillmode\":\"overlay\",\"size\":10,\"solidity\":0.2}},\"type\":\"barpolar\"}],\"pie\":[{\"automargin\":true,\"type\":\"pie\"}]},\"layout\":{\"autotypenumbers\":\"strict\",\"colorway\":[\"#636efa\",\"#EF553B\",\"#00cc96\",\"#ab63fa\",\"#FFA15A\",\"#19d3f3\",\"#FF6692\",\"#B6E880\",\"#FF97FF\",\"#FECB52\"],\"font\":{\"color\":\"#2a3f5f\"},\"hovermode\":\"closest\",\"hoverlabel\":{\"align\":\"left\"},\"paper_bgcolor\":\"white\",\"plot_bgcolor\":\"#E5ECF6\",\"polar\":{\"bgcolor\":\"#E5ECF6\",\"angularaxis\":{\"gridcolor\":\"white\",\"linecolor\":\"white\",\"ticks\":\"\"},\"radialaxis\":{\"gridcolor\":\"white\",\"linecolor\":\"white\",\"ticks\":\"\"}},\"ternary\":{\"bgcolor\":\"#E5ECF6\",\"aaxis\":{\"gridcolor\":\"white\",\"linecolor\":\"white\",\"ticks\":\"\"},\"baxis\":{\"gridcolor\":\"white\",\"linecolor\":\"white\",\"ticks\":\"\"},\"caxis\":{\"gridcolor\":\"white\",\"linecolor\":\"white\",\"ticks\":\"\"}},\"coloraxis\":{\"colorbar\":{\"outlinewidth\":0,\"ticks\":\"\"}},\"colorscale\":{\"sequential\":[[0.0,\"#0d0887\"],[0.1111111111111111,\"#46039f\"],[0.2222222222222222,\"#7201a8\"],[0.3333333333333333,\"#9c179e\"],[0.4444444444444444,\"#bd3786\"],[0.5555555555555556,\"#d8576b\"],[0.6666666666666666,\"#ed7953\"],[0.7777777777777778,\"#fb9f3a\"],[0.8888888888888888,\"#fdca26\"],[1.0,\"#f0f921\"]],\"sequentialminus\":[[0.0,\"#0d0887\"],[0.1111111111111111,\"#46039f\"],[0.2222222222222222,\"#7201a8\"],[0.3333333333333333,\"#9c179e\"],[0.4444444444444444,\"#bd3786\"],[0.5555555555555556,\"#d8576b\"],[0.6666666666666666,\"#ed7953\"],[0.7777777777777778,\"#fb9f3a\"],[0.8888888888888888,\"#fdca26\"],[1.0,\"#f0f921\"]],\"diverging\":[[0,\"#8e0152\"],[0.1,\"#c51b7d\"],[0.2,\"#de77ae\"],[0.3,\"#f1b6da\"],[0.4,\"#fde0ef\"],[0.5,\"#f7f7f7\"],[0.6,\"#e6f5d0\"],[0.7,\"#b8e186\"],[0.8,\"#7fbc41\"],[0.9,\"#4d9221\"],[1,\"#276419\"]]},\"xaxis\":{\"gridcolor\":\"white\",\"linecolor\":\"white\",\"ticks\":\"\",\"title\":{\"standoff\":15},\"zerolinecolor\":\"white\",\"automargin\":true,\"zerolinewidth\":2},\"yaxis\":{\"gridcolor\":\"white\",\"linecolor\":\"white\",\"ticks\":\"\",\"title\":{\"standoff\":15},\"zerolinecolor\":\"white\",\"automargin\":true,\"zerolinewidth\":2},\"scene\":{\"xaxis\":{\"backgroundcolor\":\"#E5ECF6\",\"gridcolor\":\"white\",\"linecolor\":\"white\",\"showbackground\":true,\"ticks\":\"\",\"zerolinecolor\":\"white\",\"gridwidth\":2},\"yaxis\":{\"backgroundcolor\":\"#E5ECF6\",\"gridcolor\":\"white\",\"linecolor\":\"white\",\"showbackground\":true,\"ticks\":\"\",\"zerolinecolor\":\"white\",\"gridwidth\":2},\"zaxis\":{\"backgroundcolor\":\"#E5ECF6\",\"gridcolor\":\"white\",\"linecolor\":\"white\",\"showbackground\":true,\"ticks\":\"\",\"zerolinecolor\":\"white\",\"gridwidth\":2}},\"shapedefaults\":{\"line\":{\"color\":\"#2a3f5f\"}},\"annotationdefaults\":{\"arrowcolor\":\"#2a3f5f\",\"arrowhead\":0,\"arrowwidth\":1},\"geo\":{\"bgcolor\":\"white\",\"landcolor\":\"#E5ECF6\",\"subunitcolor\":\"white\",\"showland\":true,\"showlakes\":true,\"lakecolor\":\"white\"},\"title\":{\"x\":0.05},\"mapbox\":{\"style\":\"light\"}}},\"xaxis\":{\"anchor\":\"y\",\"domain\":[0.0,1.0],\"title\":{\"text\":\"\\u0414\\u0430\\u0442\\u0430\"}},\"yaxis\":{\"anchor\":\"x\",\"domain\":[0.0,1.0],\"title\":{\"text\":\"\\u041a\\u043e\\u043b\\u0438\\u0447\\u0435\\u0441\\u0442\\u0432\\u043e \\u0432\\u0430\\u043a\\u0430\\u043d\\u0441\\u0438\\u0439\"}},\"legend\":{\"title\":{\"text\":\"\"},\"tracegroupgap\":0},\"title\":{\"text\":\"\\u0415\\u0436\\u0435\\u0434\\u043d\\u0435\\u0432\\u043d\\u0430\\u044f \\u0434\\u0438\\u043d\\u0430\\u043c\\u0438\\u043a\\u0430 \\u043f\\u0443\\u0431\\u043b\\u0438\\u043a\\u0430\\u0446\\u0438\\u0438 \\u0432\\u0430\\u043a\\u0430\\u043d\\u0441\\u0438\\u0439 Junior+ (1-3 years)\"}},                        {\"responsive\": true}                    ).then(function(){\n",
              "                            \n",
              "var gd = document.getElementById('bc919711-2521-4765-9064-abd961c14fc1');\n",
              "var x = new MutationObserver(function (mutations, observer) {{\n",
              "        var display = window.getComputedStyle(gd).display;\n",
              "        if (!display || display === 'none') {{\n",
              "            console.log([gd, 'removed!']);\n",
              "            Plotly.purge(gd);\n",
              "            observer.disconnect();\n",
              "        }}\n",
              "}});\n",
              "\n",
              "// Listen for the removal of the full notebook cells\n",
              "var notebookContainer = gd.closest('#notebook-container');\n",
              "if (notebookContainer) {{\n",
              "    x.observe(notebookContainer, {childList: true});\n",
              "}}\n",
              "\n",
              "// Listen for the clearing of the current output cell\n",
              "var outputEl = gd.closest('.output');\n",
              "if (outputEl) {{\n",
              "    x.observe(outputEl, {childList: true});\n",
              "}}\n",
              "\n",
              "                        })                };                            </script>        </div>\n",
              "</body>\n",
              "</html>"
            ]
          },
          "metadata": {}
        },
        {
          "output_type": "display_data",
          "data": {
            "text/html": [
              "<html>\n",
              "<head><meta charset=\"utf-8\" /></head>\n",
              "<body>\n",
              "    <div>            <script src=\"https://cdnjs.cloudflare.com/ajax/libs/mathjax/2.7.5/MathJax.js?config=TeX-AMS-MML_SVG\"></script><script type=\"text/javascript\">if (window.MathJax && window.MathJax.Hub && window.MathJax.Hub.Config) {window.MathJax.Hub.Config({SVG: {font: \"STIX-Web\"}});}</script>                <script type=\"text/javascript\">window.PlotlyConfig = {MathJaxConfig: 'local'};</script>\n",
              "        <script charset=\"utf-8\" src=\"https://cdn.plot.ly/plotly-2.24.1.min.js\"></script>                <div id=\"964065f0-7da7-4b25-9941-a6819b73e9ad\" class=\"plotly-graph-div\" style=\"height:525px; width:100%;\"></div>            <script type=\"text/javascript\">                                    window.PLOTLYENV=window.PLOTLYENV || {};                                    if (document.getElementById(\"964065f0-7da7-4b25-9941-a6819b73e9ad\")) {                    Plotly.newPlot(                        \"964065f0-7da7-4b25-9941-a6819b73e9ad\",                        [{\"hovertemplate\":\"variable=\\u0412\\u0430\\u043a\\u0430\\u043d\\u0441\\u0438\\u0438 DA\\u003cbr\\u003e\\u0414\\u0430\\u0442\\u0430=%{x}\\u003cbr\\u003evalue=%{y}\\u003cextra\\u003e\\u003c\\u002fextra\\u003e\",\"legendgroup\":\"\\u0412\\u0430\\u043a\\u0430\\u043d\\u0441\\u0438\\u0438 DA\",\"line\":{\"color\":\"#636efa\",\"dash\":\"solid\"},\"marker\":{\"symbol\":\"circle\"},\"mode\":\"lines+markers\",\"name\":\"\\u0412\\u0430\\u043a\\u0430\\u043d\\u0441\\u0438\\u0438 DA\",\"orientation\":\"v\",\"showlegend\":true,\"x\":[\"2024-03-04\",\"2024-03-05\",\"2024-03-06\",\"2024-03-07\",\"2024-03-11\",\"2024-03-12\",\"2024-03-13\",\"2024-03-14\",\"2024-03-15\",\"2024-03-16\",\"2024-03-17\",\"2024-03-18\",\"2024-03-19\",\"2024-03-20\",\"2024-03-21\",\"2024-03-22\",\"2024-03-24\",\"2024-03-25\",\"2024-03-26\",\"2024-03-27\",\"2024-03-28\",\"2024-03-29\",\"2024-03-30\",\"2024-03-31\",\"2024-04-01\",\"2024-04-02\",\"2024-04-03\",\"2024-04-04\",\"2024-04-05\",\"2024-04-06\",\"2024-04-07\",\"2024-04-08\",\"2024-04-09\",\"2024-04-10\",\"2024-04-11\",\"2024-04-12\",\"2024-04-13\",\"2024-04-14\",\"2024-04-15\",\"2024-04-16\",\"2024-04-17\",\"2024-04-18\",\"2024-04-19\",\"2024-04-20\",\"2024-04-21\",\"2024-04-22\",\"2024-04-23\",\"2024-04-24\",\"2024-04-25\",\"2024-04-26\",\"2024-04-27\",\"2024-04-28\",\"2024-04-29\",\"2024-04-30\"],\"xaxis\":\"x\",\"y\":[0.0,0.0,0.0,0.0,0.0,0.0,0.0,1.0,2.0,4.0,1.0,4.0,2.0,3.0,2.0,0.0,0.0,2.0,7.0,2.0,2.0,2.0,0.0,1.0,4.0,7.0,1.0,2.0,0.0,1.0,2.0,0.0,2.0,4.0,4.0,1.0,0.0,2.0,2.0,5.0,4.0,2.0,5.0,0.0,0.0,3.0,2.0,6.0,3.0,4.0,7.0,5.0,2.0,2.0],\"yaxis\":\"y\",\"type\":\"scatter\"},{\"hovertemplate\":\"variable=\\u0412\\u0430\\u043a\\u0430\\u043d\\u0441\\u0438\\u0438 DS\\u003cbr\\u003e\\u0414\\u0430\\u0442\\u0430=%{x}\\u003cbr\\u003evalue=%{y}\\u003cextra\\u003e\\u003c\\u002fextra\\u003e\",\"legendgroup\":\"\\u0412\\u0430\\u043a\\u0430\\u043d\\u0441\\u0438\\u0438 DS\",\"line\":{\"color\":\"#EF553B\",\"dash\":\"solid\"},\"marker\":{\"symbol\":\"circle\"},\"mode\":\"lines+markers\",\"name\":\"\\u0412\\u0430\\u043a\\u0430\\u043d\\u0441\\u0438\\u0438 DS\",\"orientation\":\"v\",\"showlegend\":true,\"x\":[\"2024-03-04\",\"2024-03-05\",\"2024-03-06\",\"2024-03-07\",\"2024-03-11\",\"2024-03-12\",\"2024-03-13\",\"2024-03-14\",\"2024-03-15\",\"2024-03-16\",\"2024-03-17\",\"2024-03-18\",\"2024-03-19\",\"2024-03-20\",\"2024-03-21\",\"2024-03-22\",\"2024-03-24\",\"2024-03-25\",\"2024-03-26\",\"2024-03-27\",\"2024-03-28\",\"2024-03-29\",\"2024-03-30\",\"2024-03-31\",\"2024-04-01\",\"2024-04-02\",\"2024-04-03\",\"2024-04-04\",\"2024-04-05\",\"2024-04-06\",\"2024-04-07\",\"2024-04-08\",\"2024-04-09\",\"2024-04-10\",\"2024-04-11\",\"2024-04-12\",\"2024-04-13\",\"2024-04-14\",\"2024-04-15\",\"2024-04-16\",\"2024-04-17\",\"2024-04-18\",\"2024-04-19\",\"2024-04-20\",\"2024-04-21\",\"2024-04-22\",\"2024-04-23\",\"2024-04-24\",\"2024-04-25\",\"2024-04-26\",\"2024-04-27\",\"2024-04-28\",\"2024-04-29\",\"2024-04-30\"],\"xaxis\":\"x\",\"y\":[2.0,4.0,7.0,6.0,5.0,6.0,3.0,4.0,8.0,0.0,0.0,6.0,6.0,4.0,4.0,3.0,1.0,5.0,7.0,4.0,8.0,3.0,1.0,1.0,13.0,7.0,2.0,11.0,2.0,2.0,0.0,7.0,7.0,5.0,7.0,5.0,2.0,2.0,21.0,5.0,5.0,12.0,7.0,2.0,1.0,15.0,18.0,8.0,8.0,11.0,12.0,4.0,5.0,4.0],\"yaxis\":\"y\",\"type\":\"scatter\"}],                        {\"template\":{\"data\":{\"histogram2dcontour\":[{\"type\":\"histogram2dcontour\",\"colorbar\":{\"outlinewidth\":0,\"ticks\":\"\"},\"colorscale\":[[0.0,\"#0d0887\"],[0.1111111111111111,\"#46039f\"],[0.2222222222222222,\"#7201a8\"],[0.3333333333333333,\"#9c179e\"],[0.4444444444444444,\"#bd3786\"],[0.5555555555555556,\"#d8576b\"],[0.6666666666666666,\"#ed7953\"],[0.7777777777777778,\"#fb9f3a\"],[0.8888888888888888,\"#fdca26\"],[1.0,\"#f0f921\"]]}],\"choropleth\":[{\"type\":\"choropleth\",\"colorbar\":{\"outlinewidth\":0,\"ticks\":\"\"}}],\"histogram2d\":[{\"type\":\"histogram2d\",\"colorbar\":{\"outlinewidth\":0,\"ticks\":\"\"},\"colorscale\":[[0.0,\"#0d0887\"],[0.1111111111111111,\"#46039f\"],[0.2222222222222222,\"#7201a8\"],[0.3333333333333333,\"#9c179e\"],[0.4444444444444444,\"#bd3786\"],[0.5555555555555556,\"#d8576b\"],[0.6666666666666666,\"#ed7953\"],[0.7777777777777778,\"#fb9f3a\"],[0.8888888888888888,\"#fdca26\"],[1.0,\"#f0f921\"]]}],\"heatmap\":[{\"type\":\"heatmap\",\"colorbar\":{\"outlinewidth\":0,\"ticks\":\"\"},\"colorscale\":[[0.0,\"#0d0887\"],[0.1111111111111111,\"#46039f\"],[0.2222222222222222,\"#7201a8\"],[0.3333333333333333,\"#9c179e\"],[0.4444444444444444,\"#bd3786\"],[0.5555555555555556,\"#d8576b\"],[0.6666666666666666,\"#ed7953\"],[0.7777777777777778,\"#fb9f3a\"],[0.8888888888888888,\"#fdca26\"],[1.0,\"#f0f921\"]]}],\"heatmapgl\":[{\"type\":\"heatmapgl\",\"colorbar\":{\"outlinewidth\":0,\"ticks\":\"\"},\"colorscale\":[[0.0,\"#0d0887\"],[0.1111111111111111,\"#46039f\"],[0.2222222222222222,\"#7201a8\"],[0.3333333333333333,\"#9c179e\"],[0.4444444444444444,\"#bd3786\"],[0.5555555555555556,\"#d8576b\"],[0.6666666666666666,\"#ed7953\"],[0.7777777777777778,\"#fb9f3a\"],[0.8888888888888888,\"#fdca26\"],[1.0,\"#f0f921\"]]}],\"contourcarpet\":[{\"type\":\"contourcarpet\",\"colorbar\":{\"outlinewidth\":0,\"ticks\":\"\"}}],\"contour\":[{\"type\":\"contour\",\"colorbar\":{\"outlinewidth\":0,\"ticks\":\"\"},\"colorscale\":[[0.0,\"#0d0887\"],[0.1111111111111111,\"#46039f\"],[0.2222222222222222,\"#7201a8\"],[0.3333333333333333,\"#9c179e\"],[0.4444444444444444,\"#bd3786\"],[0.5555555555555556,\"#d8576b\"],[0.6666666666666666,\"#ed7953\"],[0.7777777777777778,\"#fb9f3a\"],[0.8888888888888888,\"#fdca26\"],[1.0,\"#f0f921\"]]}],\"surface\":[{\"type\":\"surface\",\"colorbar\":{\"outlinewidth\":0,\"ticks\":\"\"},\"colorscale\":[[0.0,\"#0d0887\"],[0.1111111111111111,\"#46039f\"],[0.2222222222222222,\"#7201a8\"],[0.3333333333333333,\"#9c179e\"],[0.4444444444444444,\"#bd3786\"],[0.5555555555555556,\"#d8576b\"],[0.6666666666666666,\"#ed7953\"],[0.7777777777777778,\"#fb9f3a\"],[0.8888888888888888,\"#fdca26\"],[1.0,\"#f0f921\"]]}],\"mesh3d\":[{\"type\":\"mesh3d\",\"colorbar\":{\"outlinewidth\":0,\"ticks\":\"\"}}],\"scatter\":[{\"fillpattern\":{\"fillmode\":\"overlay\",\"size\":10,\"solidity\":0.2},\"type\":\"scatter\"}],\"parcoords\":[{\"type\":\"parcoords\",\"line\":{\"colorbar\":{\"outlinewidth\":0,\"ticks\":\"\"}}}],\"scatterpolargl\":[{\"type\":\"scatterpolargl\",\"marker\":{\"colorbar\":{\"outlinewidth\":0,\"ticks\":\"\"}}}],\"bar\":[{\"error_x\":{\"color\":\"#2a3f5f\"},\"error_y\":{\"color\":\"#2a3f5f\"},\"marker\":{\"line\":{\"color\":\"#E5ECF6\",\"width\":0.5},\"pattern\":{\"fillmode\":\"overlay\",\"size\":10,\"solidity\":0.2}},\"type\":\"bar\"}],\"scattergeo\":[{\"type\":\"scattergeo\",\"marker\":{\"colorbar\":{\"outlinewidth\":0,\"ticks\":\"\"}}}],\"scatterpolar\":[{\"type\":\"scatterpolar\",\"marker\":{\"colorbar\":{\"outlinewidth\":0,\"ticks\":\"\"}}}],\"histogram\":[{\"marker\":{\"pattern\":{\"fillmode\":\"overlay\",\"size\":10,\"solidity\":0.2}},\"type\":\"histogram\"}],\"scattergl\":[{\"type\":\"scattergl\",\"marker\":{\"colorbar\":{\"outlinewidth\":0,\"ticks\":\"\"}}}],\"scatter3d\":[{\"type\":\"scatter3d\",\"line\":{\"colorbar\":{\"outlinewidth\":0,\"ticks\":\"\"}},\"marker\":{\"colorbar\":{\"outlinewidth\":0,\"ticks\":\"\"}}}],\"scattermapbox\":[{\"type\":\"scattermapbox\",\"marker\":{\"colorbar\":{\"outlinewidth\":0,\"ticks\":\"\"}}}],\"scatterternary\":[{\"type\":\"scatterternary\",\"marker\":{\"colorbar\":{\"outlinewidth\":0,\"ticks\":\"\"}}}],\"scattercarpet\":[{\"type\":\"scattercarpet\",\"marker\":{\"colorbar\":{\"outlinewidth\":0,\"ticks\":\"\"}}}],\"carpet\":[{\"aaxis\":{\"endlinecolor\":\"#2a3f5f\",\"gridcolor\":\"white\",\"linecolor\":\"white\",\"minorgridcolor\":\"white\",\"startlinecolor\":\"#2a3f5f\"},\"baxis\":{\"endlinecolor\":\"#2a3f5f\",\"gridcolor\":\"white\",\"linecolor\":\"white\",\"minorgridcolor\":\"white\",\"startlinecolor\":\"#2a3f5f\"},\"type\":\"carpet\"}],\"table\":[{\"cells\":{\"fill\":{\"color\":\"#EBF0F8\"},\"line\":{\"color\":\"white\"}},\"header\":{\"fill\":{\"color\":\"#C8D4E3\"},\"line\":{\"color\":\"white\"}},\"type\":\"table\"}],\"barpolar\":[{\"marker\":{\"line\":{\"color\":\"#E5ECF6\",\"width\":0.5},\"pattern\":{\"fillmode\":\"overlay\",\"size\":10,\"solidity\":0.2}},\"type\":\"barpolar\"}],\"pie\":[{\"automargin\":true,\"type\":\"pie\"}]},\"layout\":{\"autotypenumbers\":\"strict\",\"colorway\":[\"#636efa\",\"#EF553B\",\"#00cc96\",\"#ab63fa\",\"#FFA15A\",\"#19d3f3\",\"#FF6692\",\"#B6E880\",\"#FF97FF\",\"#FECB52\"],\"font\":{\"color\":\"#2a3f5f\"},\"hovermode\":\"closest\",\"hoverlabel\":{\"align\":\"left\"},\"paper_bgcolor\":\"white\",\"plot_bgcolor\":\"#E5ECF6\",\"polar\":{\"bgcolor\":\"#E5ECF6\",\"angularaxis\":{\"gridcolor\":\"white\",\"linecolor\":\"white\",\"ticks\":\"\"},\"radialaxis\":{\"gridcolor\":\"white\",\"linecolor\":\"white\",\"ticks\":\"\"}},\"ternary\":{\"bgcolor\":\"#E5ECF6\",\"aaxis\":{\"gridcolor\":\"white\",\"linecolor\":\"white\",\"ticks\":\"\"},\"baxis\":{\"gridcolor\":\"white\",\"linecolor\":\"white\",\"ticks\":\"\"},\"caxis\":{\"gridcolor\":\"white\",\"linecolor\":\"white\",\"ticks\":\"\"}},\"coloraxis\":{\"colorbar\":{\"outlinewidth\":0,\"ticks\":\"\"}},\"colorscale\":{\"sequential\":[[0.0,\"#0d0887\"],[0.1111111111111111,\"#46039f\"],[0.2222222222222222,\"#7201a8\"],[0.3333333333333333,\"#9c179e\"],[0.4444444444444444,\"#bd3786\"],[0.5555555555555556,\"#d8576b\"],[0.6666666666666666,\"#ed7953\"],[0.7777777777777778,\"#fb9f3a\"],[0.8888888888888888,\"#fdca26\"],[1.0,\"#f0f921\"]],\"sequentialminus\":[[0.0,\"#0d0887\"],[0.1111111111111111,\"#46039f\"],[0.2222222222222222,\"#7201a8\"],[0.3333333333333333,\"#9c179e\"],[0.4444444444444444,\"#bd3786\"],[0.5555555555555556,\"#d8576b\"],[0.6666666666666666,\"#ed7953\"],[0.7777777777777778,\"#fb9f3a\"],[0.8888888888888888,\"#fdca26\"],[1.0,\"#f0f921\"]],\"diverging\":[[0,\"#8e0152\"],[0.1,\"#c51b7d\"],[0.2,\"#de77ae\"],[0.3,\"#f1b6da\"],[0.4,\"#fde0ef\"],[0.5,\"#f7f7f7\"],[0.6,\"#e6f5d0\"],[0.7,\"#b8e186\"],[0.8,\"#7fbc41\"],[0.9,\"#4d9221\"],[1,\"#276419\"]]},\"xaxis\":{\"gridcolor\":\"white\",\"linecolor\":\"white\",\"ticks\":\"\",\"title\":{\"standoff\":15},\"zerolinecolor\":\"white\",\"automargin\":true,\"zerolinewidth\":2},\"yaxis\":{\"gridcolor\":\"white\",\"linecolor\":\"white\",\"ticks\":\"\",\"title\":{\"standoff\":15},\"zerolinecolor\":\"white\",\"automargin\":true,\"zerolinewidth\":2},\"scene\":{\"xaxis\":{\"backgroundcolor\":\"#E5ECF6\",\"gridcolor\":\"white\",\"linecolor\":\"white\",\"showbackground\":true,\"ticks\":\"\",\"zerolinecolor\":\"white\",\"gridwidth\":2},\"yaxis\":{\"backgroundcolor\":\"#E5ECF6\",\"gridcolor\":\"white\",\"linecolor\":\"white\",\"showbackground\":true,\"ticks\":\"\",\"zerolinecolor\":\"white\",\"gridwidth\":2},\"zaxis\":{\"backgroundcolor\":\"#E5ECF6\",\"gridcolor\":\"white\",\"linecolor\":\"white\",\"showbackground\":true,\"ticks\":\"\",\"zerolinecolor\":\"white\",\"gridwidth\":2}},\"shapedefaults\":{\"line\":{\"color\":\"#2a3f5f\"}},\"annotationdefaults\":{\"arrowcolor\":\"#2a3f5f\",\"arrowhead\":0,\"arrowwidth\":1},\"geo\":{\"bgcolor\":\"white\",\"landcolor\":\"#E5ECF6\",\"subunitcolor\":\"white\",\"showland\":true,\"showlakes\":true,\"lakecolor\":\"white\"},\"title\":{\"x\":0.05},\"mapbox\":{\"style\":\"light\"}}},\"xaxis\":{\"anchor\":\"y\",\"domain\":[0.0,1.0],\"title\":{\"text\":\"\\u0414\\u0430\\u0442\\u0430\"}},\"yaxis\":{\"anchor\":\"x\",\"domain\":[0.0,1.0],\"title\":{\"text\":\"\\u041a\\u043e\\u043b\\u0438\\u0447\\u0435\\u0441\\u0442\\u0432\\u043e \\u0432\\u0430\\u043a\\u0430\\u043d\\u0441\\u0438\\u0439\"}},\"legend\":{\"title\":{\"text\":\"\"},\"tracegroupgap\":0},\"title\":{\"text\":\"\\u0415\\u0436\\u0435\\u0434\\u043d\\u0435\\u0432\\u043d\\u0430\\u044f \\u0434\\u0438\\u043d\\u0430\\u043c\\u0438\\u043a\\u0430 \\u043f\\u0443\\u0431\\u043b\\u0438\\u043a\\u0430\\u0446\\u0438\\u0438 \\u0432\\u0430\\u043a\\u0430\\u043d\\u0441\\u0438\\u0439 Middle (3-6 years)\"}},                        {\"responsive\": true}                    ).then(function(){\n",
              "                            \n",
              "var gd = document.getElementById('964065f0-7da7-4b25-9941-a6819b73e9ad');\n",
              "var x = new MutationObserver(function (mutations, observer) {{\n",
              "        var display = window.getComputedStyle(gd).display;\n",
              "        if (!display || display === 'none') {{\n",
              "            console.log([gd, 'removed!']);\n",
              "            Plotly.purge(gd);\n",
              "            observer.disconnect();\n",
              "        }}\n",
              "}});\n",
              "\n",
              "// Listen for the removal of the full notebook cells\n",
              "var notebookContainer = gd.closest('#notebook-container');\n",
              "if (notebookContainer) {{\n",
              "    x.observe(notebookContainer, {childList: true});\n",
              "}}\n",
              "\n",
              "// Listen for the clearing of the current output cell\n",
              "var outputEl = gd.closest('.output');\n",
              "if (outputEl) {{\n",
              "    x.observe(outputEl, {childList: true});\n",
              "}}\n",
              "\n",
              "                        })                };                            </script>        </div>\n",
              "</body>\n",
              "</html>"
            ]
          },
          "metadata": {}
        },
        {
          "output_type": "display_data",
          "data": {
            "text/html": [
              "<html>\n",
              "<head><meta charset=\"utf-8\" /></head>\n",
              "<body>\n",
              "    <div>            <script src=\"https://cdnjs.cloudflare.com/ajax/libs/mathjax/2.7.5/MathJax.js?config=TeX-AMS-MML_SVG\"></script><script type=\"text/javascript\">if (window.MathJax && window.MathJax.Hub && window.MathJax.Hub.Config) {window.MathJax.Hub.Config({SVG: {font: \"STIX-Web\"}});}</script>                <script type=\"text/javascript\">window.PlotlyConfig = {MathJaxConfig: 'local'};</script>\n",
              "        <script charset=\"utf-8\" src=\"https://cdn.plot.ly/plotly-2.24.1.min.js\"></script>                <div id=\"0a887c82-8df1-427c-9003-a828f9c420d4\" class=\"plotly-graph-div\" style=\"height:525px; width:100%;\"></div>            <script type=\"text/javascript\">                                    window.PLOTLYENV=window.PLOTLYENV || {};                                    if (document.getElementById(\"0a887c82-8df1-427c-9003-a828f9c420d4\")) {                    Plotly.newPlot(                        \"0a887c82-8df1-427c-9003-a828f9c420d4\",                        [{\"hovertemplate\":\"variable=\\u0412\\u0430\\u043a\\u0430\\u043d\\u0441\\u0438\\u0438 DA\\u003cbr\\u003e\\u0414\\u0430\\u0442\\u0430=%{x}\\u003cbr\\u003evalue=%{y}\\u003cextra\\u003e\\u003c\\u002fextra\\u003e\",\"legendgroup\":\"\\u0412\\u0430\\u043a\\u0430\\u043d\\u0441\\u0438\\u0438 DA\",\"line\":{\"color\":\"#636efa\",\"dash\":\"solid\"},\"marker\":{\"symbol\":\"circle\"},\"mode\":\"lines+markers\",\"name\":\"\\u0412\\u0430\\u043a\\u0430\\u043d\\u0441\\u0438\\u0438 DA\",\"orientation\":\"v\",\"showlegend\":true,\"x\":[\"2024-02-29\",\"2024-03-06\",\"2024-03-13\",\"2024-03-19\",\"2024-03-21\",\"2024-03-25\",\"2024-03-31\",\"2024-04-01\",\"2024-04-04\",\"2024-04-10\",\"2024-04-14\",\"2024-04-15\",\"2024-04-19\",\"2024-04-22\",\"2024-04-23\",\"2024-04-26\",\"2024-04-28\",\"2024-04-29\",\"2024-04-30\"],\"xaxis\":\"x\",\"y\":[0.0,0.0,0.0,0.0,0.0,0.0,0.0,0.0,0.0,0.0,0.0,0.0,0.0,0.0,0.0,0.0,2.0,1.0,0.0],\"yaxis\":\"y\",\"type\":\"scatter\"},{\"hovertemplate\":\"variable=\\u0412\\u0430\\u043a\\u0430\\u043d\\u0441\\u0438\\u0438 DS\\u003cbr\\u003e\\u0414\\u0430\\u0442\\u0430=%{x}\\u003cbr\\u003evalue=%{y}\\u003cextra\\u003e\\u003c\\u002fextra\\u003e\",\"legendgroup\":\"\\u0412\\u0430\\u043a\\u0430\\u043d\\u0441\\u0438\\u0438 DS\",\"line\":{\"color\":\"#EF553B\",\"dash\":\"solid\"},\"marker\":{\"symbol\":\"circle\"},\"mode\":\"lines+markers\",\"name\":\"\\u0412\\u0430\\u043a\\u0430\\u043d\\u0441\\u0438\\u0438 DS\",\"orientation\":\"v\",\"showlegend\":true,\"x\":[\"2024-02-29\",\"2024-03-06\",\"2024-03-13\",\"2024-03-19\",\"2024-03-21\",\"2024-03-25\",\"2024-03-31\",\"2024-04-01\",\"2024-04-04\",\"2024-04-10\",\"2024-04-14\",\"2024-04-15\",\"2024-04-19\",\"2024-04-22\",\"2024-04-23\",\"2024-04-26\",\"2024-04-28\",\"2024-04-29\",\"2024-04-30\"],\"xaxis\":\"x\",\"y\":[1.0,1.0,1.0,1.0,1.0,1.0,1.0,1.0,1.0,1.0,1.0,2.0,1.0,2.0,2.0,2.0,1.0,0.0,1.0],\"yaxis\":\"y\",\"type\":\"scatter\"}],                        {\"template\":{\"data\":{\"histogram2dcontour\":[{\"type\":\"histogram2dcontour\",\"colorbar\":{\"outlinewidth\":0,\"ticks\":\"\"},\"colorscale\":[[0.0,\"#0d0887\"],[0.1111111111111111,\"#46039f\"],[0.2222222222222222,\"#7201a8\"],[0.3333333333333333,\"#9c179e\"],[0.4444444444444444,\"#bd3786\"],[0.5555555555555556,\"#d8576b\"],[0.6666666666666666,\"#ed7953\"],[0.7777777777777778,\"#fb9f3a\"],[0.8888888888888888,\"#fdca26\"],[1.0,\"#f0f921\"]]}],\"choropleth\":[{\"type\":\"choropleth\",\"colorbar\":{\"outlinewidth\":0,\"ticks\":\"\"}}],\"histogram2d\":[{\"type\":\"histogram2d\",\"colorbar\":{\"outlinewidth\":0,\"ticks\":\"\"},\"colorscale\":[[0.0,\"#0d0887\"],[0.1111111111111111,\"#46039f\"],[0.2222222222222222,\"#7201a8\"],[0.3333333333333333,\"#9c179e\"],[0.4444444444444444,\"#bd3786\"],[0.5555555555555556,\"#d8576b\"],[0.6666666666666666,\"#ed7953\"],[0.7777777777777778,\"#fb9f3a\"],[0.8888888888888888,\"#fdca26\"],[1.0,\"#f0f921\"]]}],\"heatmap\":[{\"type\":\"heatmap\",\"colorbar\":{\"outlinewidth\":0,\"ticks\":\"\"},\"colorscale\":[[0.0,\"#0d0887\"],[0.1111111111111111,\"#46039f\"],[0.2222222222222222,\"#7201a8\"],[0.3333333333333333,\"#9c179e\"],[0.4444444444444444,\"#bd3786\"],[0.5555555555555556,\"#d8576b\"],[0.6666666666666666,\"#ed7953\"],[0.7777777777777778,\"#fb9f3a\"],[0.8888888888888888,\"#fdca26\"],[1.0,\"#f0f921\"]]}],\"heatmapgl\":[{\"type\":\"heatmapgl\",\"colorbar\":{\"outlinewidth\":0,\"ticks\":\"\"},\"colorscale\":[[0.0,\"#0d0887\"],[0.1111111111111111,\"#46039f\"],[0.2222222222222222,\"#7201a8\"],[0.3333333333333333,\"#9c179e\"],[0.4444444444444444,\"#bd3786\"],[0.5555555555555556,\"#d8576b\"],[0.6666666666666666,\"#ed7953\"],[0.7777777777777778,\"#fb9f3a\"],[0.8888888888888888,\"#fdca26\"],[1.0,\"#f0f921\"]]}],\"contourcarpet\":[{\"type\":\"contourcarpet\",\"colorbar\":{\"outlinewidth\":0,\"ticks\":\"\"}}],\"contour\":[{\"type\":\"contour\",\"colorbar\":{\"outlinewidth\":0,\"ticks\":\"\"},\"colorscale\":[[0.0,\"#0d0887\"],[0.1111111111111111,\"#46039f\"],[0.2222222222222222,\"#7201a8\"],[0.3333333333333333,\"#9c179e\"],[0.4444444444444444,\"#bd3786\"],[0.5555555555555556,\"#d8576b\"],[0.6666666666666666,\"#ed7953\"],[0.7777777777777778,\"#fb9f3a\"],[0.8888888888888888,\"#fdca26\"],[1.0,\"#f0f921\"]]}],\"surface\":[{\"type\":\"surface\",\"colorbar\":{\"outlinewidth\":0,\"ticks\":\"\"},\"colorscale\":[[0.0,\"#0d0887\"],[0.1111111111111111,\"#46039f\"],[0.2222222222222222,\"#7201a8\"],[0.3333333333333333,\"#9c179e\"],[0.4444444444444444,\"#bd3786\"],[0.5555555555555556,\"#d8576b\"],[0.6666666666666666,\"#ed7953\"],[0.7777777777777778,\"#fb9f3a\"],[0.8888888888888888,\"#fdca26\"],[1.0,\"#f0f921\"]]}],\"mesh3d\":[{\"type\":\"mesh3d\",\"colorbar\":{\"outlinewidth\":0,\"ticks\":\"\"}}],\"scatter\":[{\"fillpattern\":{\"fillmode\":\"overlay\",\"size\":10,\"solidity\":0.2},\"type\":\"scatter\"}],\"parcoords\":[{\"type\":\"parcoords\",\"line\":{\"colorbar\":{\"outlinewidth\":0,\"ticks\":\"\"}}}],\"scatterpolargl\":[{\"type\":\"scatterpolargl\",\"marker\":{\"colorbar\":{\"outlinewidth\":0,\"ticks\":\"\"}}}],\"bar\":[{\"error_x\":{\"color\":\"#2a3f5f\"},\"error_y\":{\"color\":\"#2a3f5f\"},\"marker\":{\"line\":{\"color\":\"#E5ECF6\",\"width\":0.5},\"pattern\":{\"fillmode\":\"overlay\",\"size\":10,\"solidity\":0.2}},\"type\":\"bar\"}],\"scattergeo\":[{\"type\":\"scattergeo\",\"marker\":{\"colorbar\":{\"outlinewidth\":0,\"ticks\":\"\"}}}],\"scatterpolar\":[{\"type\":\"scatterpolar\",\"marker\":{\"colorbar\":{\"outlinewidth\":0,\"ticks\":\"\"}}}],\"histogram\":[{\"marker\":{\"pattern\":{\"fillmode\":\"overlay\",\"size\":10,\"solidity\":0.2}},\"type\":\"histogram\"}],\"scattergl\":[{\"type\":\"scattergl\",\"marker\":{\"colorbar\":{\"outlinewidth\":0,\"ticks\":\"\"}}}],\"scatter3d\":[{\"type\":\"scatter3d\",\"line\":{\"colorbar\":{\"outlinewidth\":0,\"ticks\":\"\"}},\"marker\":{\"colorbar\":{\"outlinewidth\":0,\"ticks\":\"\"}}}],\"scattermapbox\":[{\"type\":\"scattermapbox\",\"marker\":{\"colorbar\":{\"outlinewidth\":0,\"ticks\":\"\"}}}],\"scatterternary\":[{\"type\":\"scatterternary\",\"marker\":{\"colorbar\":{\"outlinewidth\":0,\"ticks\":\"\"}}}],\"scattercarpet\":[{\"type\":\"scattercarpet\",\"marker\":{\"colorbar\":{\"outlinewidth\":0,\"ticks\":\"\"}}}],\"carpet\":[{\"aaxis\":{\"endlinecolor\":\"#2a3f5f\",\"gridcolor\":\"white\",\"linecolor\":\"white\",\"minorgridcolor\":\"white\",\"startlinecolor\":\"#2a3f5f\"},\"baxis\":{\"endlinecolor\":\"#2a3f5f\",\"gridcolor\":\"white\",\"linecolor\":\"white\",\"minorgridcolor\":\"white\",\"startlinecolor\":\"#2a3f5f\"},\"type\":\"carpet\"}],\"table\":[{\"cells\":{\"fill\":{\"color\":\"#EBF0F8\"},\"line\":{\"color\":\"white\"}},\"header\":{\"fill\":{\"color\":\"#C8D4E3\"},\"line\":{\"color\":\"white\"}},\"type\":\"table\"}],\"barpolar\":[{\"marker\":{\"line\":{\"color\":\"#E5ECF6\",\"width\":0.5},\"pattern\":{\"fillmode\":\"overlay\",\"size\":10,\"solidity\":0.2}},\"type\":\"barpolar\"}],\"pie\":[{\"automargin\":true,\"type\":\"pie\"}]},\"layout\":{\"autotypenumbers\":\"strict\",\"colorway\":[\"#636efa\",\"#EF553B\",\"#00cc96\",\"#ab63fa\",\"#FFA15A\",\"#19d3f3\",\"#FF6692\",\"#B6E880\",\"#FF97FF\",\"#FECB52\"],\"font\":{\"color\":\"#2a3f5f\"},\"hovermode\":\"closest\",\"hoverlabel\":{\"align\":\"left\"},\"paper_bgcolor\":\"white\",\"plot_bgcolor\":\"#E5ECF6\",\"polar\":{\"bgcolor\":\"#E5ECF6\",\"angularaxis\":{\"gridcolor\":\"white\",\"linecolor\":\"white\",\"ticks\":\"\"},\"radialaxis\":{\"gridcolor\":\"white\",\"linecolor\":\"white\",\"ticks\":\"\"}},\"ternary\":{\"bgcolor\":\"#E5ECF6\",\"aaxis\":{\"gridcolor\":\"white\",\"linecolor\":\"white\",\"ticks\":\"\"},\"baxis\":{\"gridcolor\":\"white\",\"linecolor\":\"white\",\"ticks\":\"\"},\"caxis\":{\"gridcolor\":\"white\",\"linecolor\":\"white\",\"ticks\":\"\"}},\"coloraxis\":{\"colorbar\":{\"outlinewidth\":0,\"ticks\":\"\"}},\"colorscale\":{\"sequential\":[[0.0,\"#0d0887\"],[0.1111111111111111,\"#46039f\"],[0.2222222222222222,\"#7201a8\"],[0.3333333333333333,\"#9c179e\"],[0.4444444444444444,\"#bd3786\"],[0.5555555555555556,\"#d8576b\"],[0.6666666666666666,\"#ed7953\"],[0.7777777777777778,\"#fb9f3a\"],[0.8888888888888888,\"#fdca26\"],[1.0,\"#f0f921\"]],\"sequentialminus\":[[0.0,\"#0d0887\"],[0.1111111111111111,\"#46039f\"],[0.2222222222222222,\"#7201a8\"],[0.3333333333333333,\"#9c179e\"],[0.4444444444444444,\"#bd3786\"],[0.5555555555555556,\"#d8576b\"],[0.6666666666666666,\"#ed7953\"],[0.7777777777777778,\"#fb9f3a\"],[0.8888888888888888,\"#fdca26\"],[1.0,\"#f0f921\"]],\"diverging\":[[0,\"#8e0152\"],[0.1,\"#c51b7d\"],[0.2,\"#de77ae\"],[0.3,\"#f1b6da\"],[0.4,\"#fde0ef\"],[0.5,\"#f7f7f7\"],[0.6,\"#e6f5d0\"],[0.7,\"#b8e186\"],[0.8,\"#7fbc41\"],[0.9,\"#4d9221\"],[1,\"#276419\"]]},\"xaxis\":{\"gridcolor\":\"white\",\"linecolor\":\"white\",\"ticks\":\"\",\"title\":{\"standoff\":15},\"zerolinecolor\":\"white\",\"automargin\":true,\"zerolinewidth\":2},\"yaxis\":{\"gridcolor\":\"white\",\"linecolor\":\"white\",\"ticks\":\"\",\"title\":{\"standoff\":15},\"zerolinecolor\":\"white\",\"automargin\":true,\"zerolinewidth\":2},\"scene\":{\"xaxis\":{\"backgroundcolor\":\"#E5ECF6\",\"gridcolor\":\"white\",\"linecolor\":\"white\",\"showbackground\":true,\"ticks\":\"\",\"zerolinecolor\":\"white\",\"gridwidth\":2},\"yaxis\":{\"backgroundcolor\":\"#E5ECF6\",\"gridcolor\":\"white\",\"linecolor\":\"white\",\"showbackground\":true,\"ticks\":\"\",\"zerolinecolor\":\"white\",\"gridwidth\":2},\"zaxis\":{\"backgroundcolor\":\"#E5ECF6\",\"gridcolor\":\"white\",\"linecolor\":\"white\",\"showbackground\":true,\"ticks\":\"\",\"zerolinecolor\":\"white\",\"gridwidth\":2}},\"shapedefaults\":{\"line\":{\"color\":\"#2a3f5f\"}},\"annotationdefaults\":{\"arrowcolor\":\"#2a3f5f\",\"arrowhead\":0,\"arrowwidth\":1},\"geo\":{\"bgcolor\":\"white\",\"landcolor\":\"#E5ECF6\",\"subunitcolor\":\"white\",\"showland\":true,\"showlakes\":true,\"lakecolor\":\"white\"},\"title\":{\"x\":0.05},\"mapbox\":{\"style\":\"light\"}}},\"xaxis\":{\"anchor\":\"y\",\"domain\":[0.0,1.0],\"title\":{\"text\":\"\\u0414\\u0430\\u0442\\u0430\"}},\"yaxis\":{\"anchor\":\"x\",\"domain\":[0.0,1.0],\"title\":{\"text\":\"\\u041a\\u043e\\u043b\\u0438\\u0447\\u0435\\u0441\\u0442\\u0432\\u043e \\u0432\\u0430\\u043a\\u0430\\u043d\\u0441\\u0438\\u0439\"}},\"legend\":{\"title\":{\"text\":\"\"},\"tracegroupgap\":0},\"title\":{\"text\":\"\\u0415\\u0436\\u0435\\u0434\\u043d\\u0435\\u0432\\u043d\\u0430\\u044f \\u0434\\u0438\\u043d\\u0430\\u043c\\u0438\\u043a\\u0430 \\u043f\\u0443\\u0431\\u043b\\u0438\\u043a\\u0430\\u0446\\u0438\\u0438 \\u0432\\u0430\\u043a\\u0430\\u043d\\u0441\\u0438\\u0439 Senior (6+ years)\"}},                        {\"responsive\": true}                    ).then(function(){\n",
              "                            \n",
              "var gd = document.getElementById('0a887c82-8df1-427c-9003-a828f9c420d4');\n",
              "var x = new MutationObserver(function (mutations, observer) {{\n",
              "        var display = window.getComputedStyle(gd).display;\n",
              "        if (!display || display === 'none') {{\n",
              "            console.log([gd, 'removed!']);\n",
              "            Plotly.purge(gd);\n",
              "            observer.disconnect();\n",
              "        }}\n",
              "}});\n",
              "\n",
              "// Listen for the removal of the full notebook cells\n",
              "var notebookContainer = gd.closest('#notebook-container');\n",
              "if (notebookContainer) {{\n",
              "    x.observe(notebookContainer, {childList: true});\n",
              "}}\n",
              "\n",
              "// Listen for the clearing of the current output cell\n",
              "var outputEl = gd.closest('.output');\n",
              "if (outputEl) {{\n",
              "    x.observe(outputEl, {childList: true});\n",
              "}}\n",
              "\n",
              "                        })                };                            </script>        </div>\n",
              "</body>\n",
              "</html>"
            ]
          },
          "metadata": {}
        }
      ]
    },
    {
      "cell_type": "markdown",
      "source": [
        "**Вывод:** В целом, вакансий на аналитиков данных и специалистов Data Science уровня Junior+ или Middle больше, чем вакансий других уровней. Это может быть связано с тем, что компании предпочитают нанимать специалистов с опытом работы от 1 года до 4 лет, так как они уже обладают необходимыми навыками и знаниями, но всё ещё открыты для обучения и развития.\n",
        "\n",
        "Вакансии для специалистов уровня Senior обычно предъявляют высокие требования к опыту работы и навыкам. Это может отпугивать кандидатов, которые не соответствуют этим требованиям. Поэтому компании, ищущие специалистов уровня Senior, чаще обращаются к другим каналам привлечения, нежели к агрегаторам вакансий, таким как HH.ru.\n",
        "\n",
        "Также наблюдается явный тренд: в начале месяца публикуется больше вакансий, чем в конце. Однако в течение рассматриваемого периода динамика публикаций разнонаправлена. Бывают дни, когда резко возрастает объём публикации вакансий. Скорее всего, это связано с планами найма компаний-работодателей."
      ],
      "metadata": {
        "id": "sMlSGpccrvt0"
      }
    },
    {
      "cell_type": "markdown",
      "source": [
        "# 8 Итоговые выводы"
      ],
      "metadata": {
        "id": "nwpFwf0TpiaC"
      }
    },
    {
      "cell_type": "markdown",
      "source": [
        "На основе проведённого анализа можно сделать следующие выводы:\n",
        "\n",
        "Существует высокая потребность в специалистах Data Science, особенно в категории Middle. Это может быть связано с тем, что компании стремятся развивать направление Data Science и привлекать молодых специалистов, которые обладают необходимыми навыками и знаниями.\n",
        "\n",
        "Среди Аналитиков работодатели чаще ищут специалистов уровня Junior+.\n",
        "\n",
        "Основные hard skills для аналитиков и специалистов Data Science включают Python и SQL. Эти языки программирования являются ключевыми для работы с данными и анализа информации. Также важны навыки работы с базами данных и знание алгоритмов машинного обучения.\n",
        "\n",
        "Soft skills для аналитиков Junior+ включают владение английским языком, умение проводить аналитические исследования и обладать аналитическим мышлением. Это важно для понимания задач и проблем, а также для поиска решений.\n",
        "\n",
        "Сбербанк является лидером по найму специалистов обоих направлений. Это может быть связано с тем, что Сбербанк активно развивает цифровые технологии и нуждается в квалифицированных кадрах.\n",
        "Wildberries активно ищет аналитиков, а Ozon занимает второе место по поиску Data Scientist. Это может быть связано с тем, что эти компании являются крупными игроками на рынке электронной коммерции и нуждаются в специалистах, которые могут анализировать данные о продажах, поведении покупателей и эффективности рекламных кампаний.\n",
        "\n",
        "Банки и компании электронной коммерции чаще всего ищут таких сотрудников. Это может быть связано с тем, что эти отрасли активно используют данные для принятия решений и оптимизации бизнес-процессов.\n",
        "\n",
        "Зарплаты часто не указаны, особенно для аналитиков Senior и Junior. Это может быть связано с тем, что компании хотят сначала оценить уровень квалификации кандидата и его зарплатные ожидания, прежде чем сделать конкретное предложение. Однако есть предложения свыше 300 тысяч рублей для специалистов Data Science уровня Junior+. Это говорит о том, что компании готовы платить высокую зарплату молодым специалистам, которые обладают необходимыми навыками и знаниями.\n",
        "Более 70 % вакансий каждого грейда предполагают работу на полный рабочий день. Это говорит о том, что большинство компаний предпочитает нанимать сотрудников на полную ставку. Однако есть предложения удалённой работы и работы на сменный график.\n",
        "\n",
        "В целом, рынок труда для аналитиков данных и специалистов Data Science является активным и перспективным. Компании ищут молодых специалистов, которые обладают необходимыми навыками и знаниями. Зарплаты могут быть высокими, особенно для специалистов уровня Junior+."
      ],
      "metadata": {
        "id": "OQe1kgFCpn5w"
      }
    },
    {
      "cell_type": "code",
      "source": [],
      "metadata": {
        "id": "yRZ6BGZ2PvhR"
      },
      "execution_count": 53,
      "outputs": []
    }
  ]
}